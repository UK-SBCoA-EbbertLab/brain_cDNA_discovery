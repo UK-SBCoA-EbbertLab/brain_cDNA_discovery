{
 "cells": [
  {
   "cell_type": "code",
   "execution_count": 110,
   "id": "031201c7",
   "metadata": {},
   "outputs": [],
   "source": [
    "import glob\n",
    "import pandas as pd\n",
    "import numpy as np\n",
    "\n",
    "merged = pd.DataFrame(columns = ['Peptide', 'Spectral Count', 'Protein'])\n",
    "\n",
    "tsv_files = glob.glob(r'C:\\Users\\b28wh\\EbbertLab\\proteinValidation\\brain\\Peptide_Files\\*.tsv')\n",
    "\n",
    "for file in tsv_files:\n",
    "    peptide = pd.read_csv(file, sep='\\t', header =0)\n",
    "    peptide = peptide[['Peptide', 'Spectral Count', 'Protein', 'Mapped Genes', 'Mapped Proteins']]\n",
    "    peptide = peptide.loc[peptide['Mapped Genes'].isna() & peptide['Protein'].str.contains(\"Bambu\") & peptide['Mapped Proteins'].isna()]\n",
    "    peptide = peptide[['Peptide', 'Spectral Count', 'Protein']]\n",
    "    \n",
    "    merged = merged.merge(peptide, on=['Peptide', 'Protein'], how='outer')\n",
    "    \n",
    "    merged = merged.replace(np.nan, 0)\n",
    "    \n",
    "    merged['Spectral Count'] = merged['Spectral Count_x'] + merged['Spectral Count_y']\n",
    "    \n",
    "    merged = merged[['Peptide', 'Spectral Count', 'Protein']]\n"
   ]
  },
  {
   "cell_type": "code",
   "execution_count": 112,
   "id": "46ac6110",
   "metadata": {},
   "outputs": [],
   "source": [
    "merged = merged[merged['Peptide'] != 'LFPPLLIPTSK']"
   ]
  },
  {
   "cell_type": "code",
   "execution_count": 114,
   "id": "8958fe9d",
   "metadata": {},
   "outputs": [],
   "source": [
    "merged = merged[merged['Spectral Count'] > 5]"
   ]
  },
  {
   "cell_type": "code",
   "execution_count": 118,
   "id": "96df6125",
   "metadata": {},
   "outputs": [],
   "source": [
    "merged['Peptide'].to_csv(r'C:\\Users\\b28wh\\EbbertLab\\proteinValidation\\brain\\Peptide_Files\\combined_unique_peptide_brain.csv', index=False)"
   ]
  },
  {
   "cell_type": "code",
   "execution_count": 117,
   "id": "8edb994e",
   "metadata": {},
   "outputs": [],
   "source": [
    "merged.to_csv(r'C:\\Users\\b28wh\\EbbertLab\\proteinValidation\\brain\\Peptide_Files\\combined_peptide_unique_spectral_cnt_brain.csv', index=False)"
   ]
  },
  {
   "cell_type": "code",
   "execution_count": 119,
   "id": "2b500f6d",
   "metadata": {},
   "outputs": [],
   "source": [
    "merged['Protein'].to_csv(r'C:\\Users\\b28wh\\EbbertLab\\proteinValidation\\brain\\Peptide_Files\\combined_unique_protein_spectral_cnt_gt5.csv', index=False)"
   ]
  },
  {
   "cell_type": "code",
   "execution_count": null,
   "id": "5f4922d6",
   "metadata": {},
   "outputs": [],
   "source": []
  }
 ],
 "metadata": {
  "kernelspec": {
   "display_name": "Python 3 (ipykernel)",
   "language": "python",
   "name": "python3"
  },
  "language_info": {
   "codemirror_mode": {
    "name": "ipython",
    "version": 3
   },
   "file_extension": ".py",
   "mimetype": "text/x-python",
   "name": "python",
   "nbconvert_exporter": "python",
   "pygments_lexer": "ipython3",
   "version": "3.11.4"
  }
 },
 "nbformat": 4,
 "nbformat_minor": 5
}
