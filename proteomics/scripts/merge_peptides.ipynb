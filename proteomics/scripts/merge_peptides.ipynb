{
 "cells": [
  {
   "cell_type": "code",
   "execution_count": 190,
   "id": "184ff44b",
   "metadata": {},
   "outputs": [],
   "source": [
    "import glob\n",
    "import pandas as pd\n",
    "import numpy as np\n",
    "\n",
    "merged = pd.DataFrame(columns = ['Peptide', 'Spectral Count', 'Protein'])\n",
    "\n",
    "tsv_files = glob.glob(r'C:\\Users\\b28wh\\EbbertLab\\proteinValidation\\brain\\Peptide_Files\\*.tsv')\n",
    "\n",
    "for file in tsv_files:\n",
    "    peptide = pd.read_csv(file, sep='\\t', header =0)\n",
    "    peptide = peptide[['Peptide', 'Spectral Count', 'Protein', 'Mapped Genes', 'Mapped Proteins']]\n",
    "    peptide = peptide.loc[peptide['Mapped Genes'].isna() & peptide['Protein'].str.contains(\"Bambu\") & peptide['Mapped Proteins'].isna()]\n",
    "    peptide = peptide[['Peptide', 'Spectral Count', 'Protein']]\n",
    "    \n",
    "    merged = merged.merge(peptide, on=['Peptide', 'Protein'], how='outer')\n",
    "    \n",
    "    merged = merged.replace(np.nan, 0)\n",
    "    \n",
    "    merged['Spectral Count'] = merged['Spectral Count_x'] + merged['Spectral Count_y']\n",
    "    \n",
    "    merged = merged[['Peptide', 'Spectral Count', 'Protein']]"
   ]
  },
  {
   "cell_type": "code",
   "execution_count": 191,
   "id": "a653f609",
   "metadata": {},
   "outputs": [],
   "source": [
    "mergedmerged = merged[merged['Peptide'] != 'LFPPLLIPTSK']\n",
    "filter_proteins = merged[['Protein', 'Spectral Count']].groupby(\"Protein\").sum()\n",
    "filter_proteins = filter_proteins[filter_proteins['Spectral Count'] > 5]\n",
    "filter_proteins = filter_proteins.reset_index()\n",
    "merged = merged[merged[\"Protein\"].isin(filter_proteins[\"Protein\"])]"
   ]
  }
 ],
 "metadata": {
  "kernelspec": {
   "display_name": "Python 3 (ipykernel)",
   "language": "python",
   "name": "python3"
  },
  "language_info": {
   "codemirror_mode": {
    "name": "ipython",
    "version": 3
   },
   "file_extension": ".py",
   "mimetype": "text/x-python",
   "name": "python",
   "nbconvert_exporter": "python",
   "pygments_lexer": "ipython3",
   "version": "3.11.4"
  }
 },
 "nbformat": 4,
 "nbformat_minor": 5
}
