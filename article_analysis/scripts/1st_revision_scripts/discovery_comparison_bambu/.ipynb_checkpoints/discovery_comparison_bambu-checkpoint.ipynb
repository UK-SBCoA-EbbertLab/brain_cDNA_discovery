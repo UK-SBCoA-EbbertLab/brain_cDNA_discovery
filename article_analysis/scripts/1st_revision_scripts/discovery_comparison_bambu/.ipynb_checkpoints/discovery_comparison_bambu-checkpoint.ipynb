{
 "cells": [
  {
   "cell_type": "markdown",
   "id": "7a053cf3",
   "metadata": {},
   "source": [
    "# Table of Contents\n",
    "\n",
    "## - Import libraries and define functions + Initial setup\n",
    "\n",
    "## - Pre-process files\n",
    "\n",
    "## - Make graphs\n",
    "\n",
    "## - Make output GTFs"
   ]
  },
  {
   "cell_type": "markdown",
   "id": "cf950391",
   "metadata": {},
   "source": [
    "# Import libraries and define functions + Initial setup"
   ]
  },
  {
   "cell_type": "code",
   "execution_count": 1,
   "id": "efbddefc",
   "metadata": {},
   "outputs": [],
   "source": [
    "## Import Libraries\n",
    "import pandas as pd\n",
    "import numpy as np\n",
    "from matplotlib_venn import venn2, venn2_circles, venn2_unweighted\n",
    "from matplotlib_venn import venn3, venn3_circles\n",
    "from matplotlib import pyplot as plt\n",
    "%matplotlib inline\n",
    "import seaborn as sns\n",
    "from wordcloud import WordCloud\n",
    "import csv\n",
    "import os\n",
    "import glob\n",
    "\n",
    "\n",
    "## Display all rows of pandas dataframes\n",
    "pd.set_option('display.max_rows', None)\n",
    "pd.set_option('display.max_colwidth', None)"
   ]
  },
  {
   "cell_type": "code",
   "execution_count": 2,
   "id": "94f624b7",
   "metadata": {},
   "outputs": [],
   "source": [
    "'''\n",
    "function name: fix_column_names\n",
    "\n",
    "purpose: Fixing the column names, making them smaller, informative, and consistent\n",
    "\n",
    "input: The raw counts dataframe for either genes or transcripts \n",
    "\n",
    "output: Same dataframe with improved column names\n",
    "'''\n",
    "\n",
    "def fix_column_names(df, is_gene=False):\n",
    "    \n",
    "    dff = df.copy()\n",
    "    \n",
    "    ## Check if this is a gene counts object\n",
    "    if is_gene:\n",
    "        \n",
    "        ## Get count column names and create list of new column names\n",
    "        count_columns = dff.columns.tolist()\n",
    "        list_new_names = [\"gene_id\"]\n",
    "        \n",
    "        ## gene_id comes in as index for gene counts data, make it into the first column instead\n",
    "        dff[\"gene_id\"] = dff.index\n",
    "        cols = list(dff.columns)\n",
    "        cols = [cols[-1]] + cols[:-1]\n",
    "        dff = dff[cols]\n",
    "        dff.reset_index(inplace=True, drop=True)\n",
    "    \n",
    "    ## If it is a transcript dataset\n",
    "    else:\n",
    "        ## Set count columns and create list of new names\n",
    "        count_columns = dff.columns[2:].tolist()\n",
    "        list_new_names = [ \"transcript_id\", \"gene_id\"]\n",
    "    \n",
    "    ## Fix names one by one and add to list of new names\n",
    "    for col in count_columns:\n",
    "        col = col.split(\"_mapped\")[0] + \"_counts\"\n",
    "        list_new_names.append(col)\n",
    "    \n",
    "    ## Rename columns\n",
    "    dff.columns = list_new_names\n",
    "    \n",
    "    return dff "
   ]
  },
  {
   "cell_type": "code",
   "execution_count": 3,
   "id": "f88fff86",
   "metadata": {},
   "outputs": [],
   "source": [
    "'''\n",
    "function name: parse_df_columns\n",
    "\n",
    "purpose: parsing the last aggregate column of the gtf/gff3 into useful columns and cleaning non-relevant columns\n",
    "\n",
    "input: dataframe containining \"raw\" gtf/gff\n",
    "\n",
    "output: dataframe containing gtf with useful columns [\"gene_id\", \"transcript_id\", etc...]\n",
    "'''\n",
    "\n",
    "def parse_df_columns(df, is_ref=True, is_transcript=False, is_prot=False, delete_other=True):\n",
    "\n",
    "    if is_ref:\n",
    "\n",
    "        ## Get gene ids\n",
    "        df[\"gene_id\"] = df[\"other\"].str.split('\";', expand=True)[0].str.extract(\"([^ \\\"]*$)\", expand=True)\n",
    "        \n",
    "        ## Get gene names\n",
    "        df[\"gene_name\"] = df[\"other\"].str.split(\"gene_name \\\"\", expand=True)[1].str.split('\\\";', expand=True)[0]\n",
    "        \n",
    "        ## Get get transcript biotype\n",
    "        df[\"gene_biotype\"] = df[\"other\"].str.split('gene_biotype \"', expand=True)[1].str.split('\"', expand=True)[0]\n",
    "        \n",
    "        ## If is transcript get transcript id and transcript biotype\n",
    "        if is_transcript:\n",
    "            df[\"transcript_id\"] = df[\"other\"].str.split('transcript_id \"', expand=True)[1].str.split('\"', expand=True)[0]\n",
    "            df[\"transcript_biotype\"] = df[\"other\"].str.split('transcript_biotype \"', expand=True)[1].str.split('\"', expand=True)[0]\n",
    "            \n",
    "            ## If is prot get protein_id\n",
    "            if is_prot:\n",
    "                df[\"protein_id\"] = df[\"other\"].str.split('protein_id \"', expand=True)[1].str.split('\"', expand=True)[0]\n",
    "                df[\"ccds_id\"] = df[\"other\"].str.split('ccds_id \"', expand=True)[1].str.split('\"', expand=True)[0]\n",
    "                df[\"exon_number\"] = df[\"other\"].str.split('exon_number \"', expand=True)[1].str.split('\"', expand=True)[0]\n",
    "\n",
    "        ## Drop \"other\" column\n",
    "        df.drop(columns=[\"other\", \"dot_1\", \"dot_2\"], inplace=True)\n",
    "        \n",
    "\n",
    "    else:\n",
    "\n",
    "        ## Get gene ids\n",
    "        df[\"gene_id\"] = df[\"other\"].str.split('\";', expand=True)[0].str.extract(\"([^ \\\"]*$)\", expand=True)\n",
    "\n",
    "        ## Get transcript ids\n",
    "        df[\"transcript_id\"] = df[\"other\"].str.split('transcript_id \"', expand=True)[1].str.split('\"', expand=True)[0]\n",
    "\n",
    "        ## Get exon number\n",
    "        df[\"exon_number\"] = df[\"other\"].str.split('exon_number \"', expand=True)[1].str.split('\"', expand=True)[0]\n",
    "\n",
    "        ## Drop \"other\" column\n",
    "        if delete_other:\n",
    "            df.drop(columns=[\"other\", \"dot_1\", \"dot_2\"], inplace=True)\n",
    "\n",
    "    for col in df.columns:\n",
    "        df.loc[df[col].isnull(), col] = np.NaN\n",
    "        \n",
    "\n",
    "    return df"
   ]
  },
  {
   "cell_type": "code",
   "execution_count": 4,
   "id": "7e75e132",
   "metadata": {},
   "outputs": [],
   "source": [
    "'''\n",
    "function name: calculate_cpm\n",
    "\n",
    "purpose: Calculate CPM for the each sample given\n",
    "\n",
    "input: Counts dataset\n",
    "\n",
    "output: Counts dataset with CPM columns as well\n",
    "'''\n",
    "\n",
    "def calculate_cpm(df, is_gene=False):\n",
    "    \n",
    "    dff = df.copy()\n",
    "\n",
    "    ## Set count columns if dataframe is gene counts\n",
    "    if is_gene:\n",
    "        count_columns = dff.columns[1:].tolist()\n",
    "    \n",
    "    ## Set count columns if dataframe is transcript counts\n",
    "    else:\n",
    "        count_columns = dff.columns[2:].tolist()\n",
    "\n",
    "    ## Loop through counts columns to calculate CPM and add to the dataframe\n",
    "    cpm_columns = {}\n",
    "\n",
    "    for col in count_columns:\n",
    "        rounded_col = round(dff[col], 2)\n",
    "        cpm_name = col.replace(\"_counts\", \"_CPM\")\n",
    "        cpm_columns[cpm_name] = round(((rounded_col/(rounded_col.sum())) * 1000000), 2)\n",
    "\n",
    "    new_data = {**dff.round(2).to_dict(orient='series'), **cpm_columns}\n",
    "    dff = pd.DataFrame(new_data)\n",
    "\n",
    "    return dff"
   ]
  },
  {
   "cell_type": "code",
   "execution_count": 5,
   "id": "f97fa5bb",
   "metadata": {},
   "outputs": [],
   "source": [
    "## define ggplot colors\n",
    "ggplot2_colors = [\"#F8766D\", \"#CD9600\", \"#7CAE00\", \"#00BE67\", \"#00BFC4\", \"#00A9FF\", \"#C77CFF\", \"#FF61CC\"]"
   ]
  },
  {
   "cell_type": "markdown",
   "id": "941c6541",
   "metadata": {},
   "source": [
    "## - Pre-process files"
   ]
  },
  {
   "cell_type": "code",
   "execution_count": 6,
   "id": "e31b633a",
   "metadata": {},
   "outputs": [],
   "source": [
    "## Columns to exclude in GTEx\n"
   ]
  },
  {
   "cell_type": "code",
   "execution_count": 7,
   "id": "01f1d12e",
   "metadata": {},
   "outputs": [],
   "source": [
    "## Open up unique reads\n",
    "df_counts_gtex_88 = pd.read_csv(\"../../../data/raw/1st_rebuttal_data/GTEX_with_GRCh38-88_discovery/bambu_discovery/counts_transcript.txt\",\n",
    "                              sep=\"\\t\")\n",
    "\n",
    "## Fix column names\n",
    "df_counts_gtex_88 = fix_column_names(df_counts_gtex_88, is_gene=False)"
   ]
  },
  {
   "cell_type": "code",
   "execution_count": 8,
   "id": "6f71704c",
   "metadata": {},
   "outputs": [],
   "source": [
    "## Open up unique reads\n",
    "df_counts_gtex_107 = pd.read_csv(\"../../../data/raw/1st_rebuttal_data/GTEX_with_GRCh38-107_discovery/bambu_discovery/counts_transcript.txt\",\n",
    "                              sep=\"\\t\")\n",
    "\n",
    "## Fix column names\n",
    "df_counts_gtex_107 = fix_column_names(df_counts_gtex_107, is_gene=False)"
   ]
  },
  {
   "cell_type": "code",
   "execution_count": 9,
   "id": "5ccfa9f0",
   "metadata": {},
   "outputs": [],
   "source": [
    "## Open up unique reads\n",
    "df_counts_ours_88 = pd.read_csv(\"../../../data/raw/1st_rebuttal_data/OURS_GRCh38-88_discovery/bambu_discovery/counts_transcript.txt\",\n",
    "                              sep=\"\\t\")\n",
    "\n",
    "## Fix column names\n",
    "df_counts_ours_88 = fix_column_names(df_counts_ours_88, is_gene=False)"
   ]
  },
  {
   "cell_type": "code",
   "execution_count": 10,
   "id": "6de74991",
   "metadata": {},
   "outputs": [],
   "source": [
    "## Open up unique reads\n",
    "df_counts_ours_107 = pd.read_csv(\"../../../data/raw/1st_rebuttal_data/ad_vs_ct_pilot_study_february_2023_GRCh38-107_discovery/bambu_discovery/counts_transcript.txt\",\n",
    "                              sep=\"\\t\")\n",
    "\n",
    "## Fix column names\n",
    "df_counts_ours_107 = fix_column_names(df_counts_ours_107, is_gene=False)"
   ]
  },
  {
   "cell_type": "code",
   "execution_count": 11,
   "id": "0cedef6b",
   "metadata": {},
   "outputs": [],
   "source": [
    "## Import and parse through extended annotations\n",
    "ref_gtex_88 = pd.read_csv(\"../../../data/raw/1st_rebuttal_data/GTEX_with_GRCh38-88_discovery/bambu_discovery//extended_annotations.gtf\", header=None, delimiter=\"\\t\",\n",
    "                        low_memory=False, comment=\"#\", names=[\"chr\", \"source\", \"type\", \"start\", \"end\", \"dot_1\", \"strand\", \"dot_2\", \"other\"])\n",
    "\n",
    "## Take away ERCCs\n",
    "ref_gtex_88 = ref_gtex_88.loc[~ref_gtex_88[\"chr\"].str.startswith(\"ERCC-\")].copy()\n",
    "\n",
    "## Parse\n",
    "ref_gtex_88 = parse_df_columns(ref_gtex_88, is_ref=False)\n",
    "\n",
    "## Only keep transcripts\n",
    "ref_gtex_88 = ref_gtex_88.loc[ref_gtex_88[\"type\"] == \"transcript\"].copy()"
   ]
  },
  {
   "cell_type": "code",
   "execution_count": 12,
   "id": "450cfc85",
   "metadata": {},
   "outputs": [],
   "source": [
    "## Import and parse through extended annotations\n",
    "ref_gtex_107 = pd.read_csv(\"../../../data/raw/1st_rebuttal_data/GTEX_with_GRCh38-107_discovery/bambu_discovery/extended_annotations.gtf\", header=None, delimiter=\"\\t\",\n",
    "                        low_memory=False, comment=\"#\", names=[\"chr\", \"source\", \"type\", \"start\", \"end\", \"dot_1\", \"strand\", \"dot_2\", \"other\"])\n",
    "\n",
    "## Take away ERCCs\n",
    "ref_gtex_107 = ref_gtex_107.loc[~ref_gtex_107[\"chr\"].str.startswith(\"ERCC-\")].copy()\n",
    "\n",
    "## Parse\n",
    "ref_gtex_107 = parse_df_columns(ref_gtex_107, is_ref=False)\n",
    "\n",
    "## Only keep transcripts\n",
    "ref_gtex_107 = ref_gtex_107.loc[ref_gtex_107[\"type\"] == \"transcript\"].copy()"
   ]
  },
  {
   "cell_type": "code",
   "execution_count": 13,
   "id": "dacfcb0a",
   "metadata": {},
   "outputs": [],
   "source": [
    "## Import and parse through extended annotations\n",
    "ref_ours_88 = pd.read_csv(\"../../../data/raw/1st_rebuttal_data/OURS_GRCh38-88_discovery/bambu_discovery/extended_annotations.gtf\", header=None, delimiter=\"\\t\",\n",
    "                        low_memory=False, comment=\"#\", names=[\"chr\", \"source\", \"type\", \"start\", \"end\", \"dot_1\", \"strand\", \"dot_2\", \"other\"])\n",
    "\n",
    "## Take away ERCCs\n",
    "ref_ours_88 = ref_ours_88.loc[~ref_ours_88[\"chr\"].str.startswith(\"ERCC-\")].copy()\n",
    "\n",
    "## Parse\n",
    "ref_ours_88 = parse_df_columns(ref_ours_88, is_ref=False)\n",
    "\n",
    "## Only keep transcripts\n",
    "ref_ours_88 = ref_ours_88.loc[ref_ours_88[\"type\"] == \"transcript\"].copy()"
   ]
  },
  {
   "cell_type": "code",
   "execution_count": 14,
   "id": "d0a0a01c",
   "metadata": {},
   "outputs": [],
   "source": [
    "## Import and parse through extended annotations\n",
    "ref_ours_107 = pd.read_csv(\"../../../data/raw/1st_rebuttal_data/ad_vs_ct_pilot_study_february_2023_GRCh38-107_discovery/bambu_discovery/extended_annotations.gtf\", header=None, delimiter=\"\\t\",\n",
    "                        low_memory=False, comment=\"#\", names=[\"chr\", \"source\", \"type\", \"start\", \"end\", \"dot_1\", \"strand\", \"dot_2\", \"other\"])\n",
    "\n",
    "## Take away ERCCs\n",
    "ref_ours_107 = ref_ours_107.loc[~ref_ours_107[\"chr\"].str.startswith(\"ERCC-\")].copy()\n",
    "\n",
    "## Parse\n",
    "ref_ours_107 = parse_df_columns(ref_ours_107, is_ref=False)\n",
    "\n",
    "## Only keep transcripts\n",
    "ref_ours_107 = ref_ours_107.loc[ref_ours_107[\"type\"] == \"transcript\"].copy()"
   ]
  },
  {
   "cell_type": "code",
   "execution_count": 15,
   "id": "b9a560b1",
   "metadata": {},
   "outputs": [],
   "source": [
    "## Calculate CPM and drop count columns\n",
    "df_counts_gtex_88 = calculate_cpm(df_counts_gtex_88, is_gene=False)\n",
    "df_counts_gtex_107 = calculate_cpm(df_counts_gtex_107, is_gene=False)\n",
    "df_counts_ours_88 = calculate_cpm(df_counts_ours_88, is_gene=False)\n",
    "df_counts_ours_107 = calculate_cpm(df_counts_ours_107, is_gene=False)\n",
    "\n",
    "\n",
    "df_counts_gtex_88 = df_counts_gtex_88[df_counts_gtex_88.columns.drop(list(df_counts_gtex_88.filter(regex='counts')))].copy()\n",
    "df_counts_gtex_107 = df_counts_gtex_107[df_counts_gtex_107.columns.drop(list(df_counts_gtex_107.filter(regex='counts')))].copy()\n",
    "df_counts_ours_88 = df_counts_ours_88[df_counts_ours_88.columns.drop(list(df_counts_ours_88.filter(regex='counts')))].copy()\n",
    "df_counts_ours_107 = df_counts_ours_107[df_counts_ours_107.columns.drop(list(df_counts_ours_107.filter(regex='counts')))].copy()"
   ]
  },
  {
   "cell_type": "code",
   "execution_count": 16,
   "id": "5d91559b",
   "metadata": {},
   "outputs": [],
   "source": [
    "## Add chromosomes\n",
    "df_counts_gtex_88 = df_counts_gtex_88.merge(ref_gtex_88[[\"transcript_id\", \"chr\"]], how=\"inner\")\n",
    "df_counts_gtex_107 = df_counts_gtex_107.merge(ref_gtex_107[[\"transcript_id\", \"chr\"]], how=\"inner\")\n",
    "df_counts_ours_88 = df_counts_ours_88.merge(ref_ours_88[[\"transcript_id\", \"chr\"]], how=\"inner\")\n",
    "df_counts_ours_107 = df_counts_ours_107.merge(ref_ours_107[[\"transcript_id\", \"chr\"]], how=\"inner\")"
   ]
  },
  {
   "cell_type": "code",
   "execution_count": 17,
   "id": "90f0fa6c",
   "metadata": {},
   "outputs": [],
   "source": [
    "## Calculate median CPM\n",
    "df_counts_gtex_88[\"median_CPM\"] = df_counts_gtex_88[df_counts_gtex_88.filter(regex='[0-9]_CPM').columns].median(axis=1)\n",
    "df_counts_gtex_107[\"median_CPM\"] = df_counts_gtex_107[df_counts_gtex_107.filter(regex='[0-9]_CPM').columns].median(axis=1)\n",
    "df_counts_ours_88[\"median_CPM\"] = df_counts_ours_88[df_counts_ours_88.filter(regex='[0-9]_CPM').columns].median(axis=1)\n",
    "df_counts_ours_107[\"median_CPM\"] = df_counts_ours_107[df_counts_ours_107.filter(regex='[0-9]_CPM').columns].median(axis=1)"
   ]
  },
  {
   "cell_type": "code",
   "execution_count": 18,
   "id": "ac922637",
   "metadata": {},
   "outputs": [],
   "source": [
    "## Only keep new transcripts\n",
    "df_counts_gtex_88_all = df_counts_gtex_88.loc[df_counts_gtex_88[\"transcript_id\"].str.startswith(\"Bambu\")].copy()\n",
    "df_counts_gtex_107_all = df_counts_gtex_107.loc[df_counts_gtex_107[\"transcript_id\"].str.startswith(\"Bambu\")].copy()\n",
    "df_counts_ours_88_all = df_counts_ours_88.loc[df_counts_ours_88[\"transcript_id\"].str.startswith(\"Bambu\")].copy()\n",
    "df_counts_ours_107_all = df_counts_ours_107.loc[df_counts_ours_107[\"transcript_id\"].str.startswith(\"Bambu\")].copy()"
   ]
  },
  {
   "cell_type": "code",
   "execution_count": 19,
   "id": "18fbafc6",
   "metadata": {},
   "outputs": [],
   "source": [
    "## Get transcript ids for all new transcripts\n",
    "df_counts_gtex_88_all_ids = df_counts_gtex_88_all[\"transcript_id\"].copy()\n",
    "df_counts_gtex_107_all_ids = df_counts_gtex_107_all[\"transcript_id\"].copy()\n",
    "df_counts_ours_88_all_ids = df_counts_ours_88_all[\"transcript_id\"].copy()\n",
    "df_counts_ours_107_all_ids = df_counts_ours_107_all[\"transcript_id\"].copy()"
   ]
  },
  {
   "cell_type": "code",
   "execution_count": 20,
   "id": "3407a6a9",
   "metadata": {},
   "outputs": [],
   "source": [
    "## Only keep high-confidence transcripts\n",
    "df_counts_gtex_88_hf = df_counts_gtex_88_all.loc[df_counts_gtex_88_all[\"median_CPM\"] > 1].copy()\n",
    "df_counts_gtex_107_hf = df_counts_gtex_107_all.loc[df_counts_gtex_107_all[\"median_CPM\"] > 1].copy()\n",
    "df_counts_ours_88_hf = df_counts_ours_88_all.loc[df_counts_ours_88_all[\"median_CPM\"] > 1].copy()\n",
    "df_counts_ours_107_hf = df_counts_ours_107_all.loc[df_counts_ours_107_all[\"median_CPM\"] > 1].copy()"
   ]
  },
  {
   "cell_type": "code",
   "execution_count": 21,
   "id": "073c28f3",
   "metadata": {},
   "outputs": [],
   "source": [
    "## Remove mitochondrial novel transcripts\n",
    "df_counts_gtex_88_hf = df_counts_gtex_88_hf.loc[df_counts_gtex_88_hf[\"chr\"] != \"MT\"].copy()\n",
    "df_counts_gtex_107_hf = df_counts_gtex_107_hf.loc[df_counts_gtex_107_hf[\"chr\"] != \"MT\"].copy()\n",
    "df_counts_ours_88_hf = df_counts_ours_88_hf.loc[df_counts_ours_88_hf[\"chr\"] != \"MT\"].copy()\n",
    "df_counts_ours_107_hf = df_counts_ours_107_hf.loc[df_counts_ours_107_hf[\"chr\"] != \"MT\"].copy()"
   ]
  },
  {
   "cell_type": "code",
   "execution_count": 22,
   "id": "37650277",
   "metadata": {},
   "outputs": [],
   "source": [
    "## Import full length counts matrix\n",
    "\n",
    "df_mito_gtex_88_hf =  pd.read_csv(\"../../../data/raw/1st_rebuttal_data/GTEX_with_GRCh38-88_discovery/bambu_discovery/fullLengthCounts_transcript.txt\",\n",
    "                              sep=\"\\t\")\n",
    "\n",
    "## Fix column names\n",
    "df_mito_gtex_88_hf = fix_column_names(df_mito_gtex_88_hf, is_gene=False)\n",
    "\n",
    "## Get mediann full counts\n",
    "df_mito_gtex_88_hf[\"median_counts\"] = round(df_mito_gtex_88_hf[df_mito_gtex_88_hf.columns[2:]].median(axis=1))\n",
    "\n",
    "## Only keep high-confidence\n",
    "df_mito_gtex_88_hf = df_mito_gtex_88_hf.loc[df_mito_gtex_88_hf[\"median_counts\"] >= 40].copy()\n",
    "\n",
    "## Novel mito HF transcript ids\n",
    "df_mito_gtex_88_hf = df_mito_gtex_88_hf.loc[df_mito_gtex_88_hf[\"transcript_id\"].str.startswith(\"BambuTx\")].copy()\n",
    "df_mito_gtex_88_hf_ids = df_mito_gtex_88_hf[\"transcript_id\"].copy()"
   ]
  },
  {
   "cell_type": "code",
   "execution_count": 23,
   "id": "f5e8b3aa",
   "metadata": {},
   "outputs": [],
   "source": [
    "## Import full length counts matrix\n",
    "\n",
    "df_mito_gtex_107_hf =  pd.read_csv(\"../../../data/raw/1st_rebuttal_data/GTEX_with_GRCh38-107_discovery/bambu_discovery/fullLengthCounts_transcript.txt\",\n",
    "                              sep=\"\\t\")\n",
    "\n",
    "## Fix column names\n",
    "df_mito_gtex_107_hf = fix_column_names(df_mito_gtex_107_hf, is_gene=False)\n",
    "\n",
    "## Get mediann full counts\n",
    "df_mito_gtex_107_hf[\"median_counts\"] = round(df_mito_gtex_107_hf[df_mito_gtex_107_hf.columns[2:]].median(axis=1))\n",
    "\n",
    "## Only keep high-confidence\n",
    "df_mito_gtex_107_hf = df_mito_gtex_107_hf.loc[df_mito_gtex_107_hf[\"median_counts\"] >= 40].copy()\n",
    "\n",
    "## Novel mito HF transcript ids\n",
    "df_mito_gtex_107_hf = df_mito_gtex_107_hf.loc[df_mito_gtex_107_hf[\"transcript_id\"].str.startswith(\"BambuTx\")].copy()\n",
    "df_mito_gtex_107_hf_ids = df_mito_gtex_107_hf[\"transcript_id\"].copy()"
   ]
  },
  {
   "cell_type": "code",
   "execution_count": 24,
   "id": "1ee7f8d2",
   "metadata": {},
   "outputs": [],
   "source": [
    "## Import full length counts matrix\n",
    "\n",
    "df_mito_ours_88_hf =  pd.read_csv(\"../../../data/raw/1st_rebuttal_data/OURS_GRCh38-88_discovery/bambu_discovery/fullLengthCounts_transcript.txt\",\n",
    "                              sep=\"\\t\")\n",
    "\n",
    "## Fix column names\n",
    "df_mito_ours_88_hf = fix_column_names(df_mito_ours_88_hf, is_gene=False)\n",
    "\n",
    "## Get mediann full counts\n",
    "df_mito_ours_88_hf[\"median_counts\"] = round(df_mito_ours_88_hf[df_mito_ours_88_hf.columns[2:]].median(axis=1))\n",
    "\n",
    "## Only keep high-confidence\n",
    "df_mito_ours_88_hf = df_mito_ours_88_hf.loc[df_mito_ours_88_hf[\"median_counts\"] >= 40].copy()\n",
    "\n",
    "## Novel mito HF transcript ids\n",
    "df_mito_ours_88_hf = df_mito_ours_88_hf.loc[df_mito_ours_88_hf[\"transcript_id\"].str.startswith(\"BambuTx\")].copy()\n",
    "df_mito_ours_88_hf_ids = df_mito_ours_88_hf[\"transcript_id\"].copy()"
   ]
  },
  {
   "cell_type": "code",
   "execution_count": 25,
   "id": "88f0ad4e",
   "metadata": {},
   "outputs": [],
   "source": [
    "## Import full length counts matrix\n",
    "\n",
    "df_mito_ours_107_hf =  pd.read_csv(\"../../../data/raw/1st_rebuttal_data/ad_vs_ct_pilot_study_february_2023_GRCh38-107_discovery/bambu_discovery/fullLengthCounts_transcript.txt\",\n",
    "                              sep=\"\\t\")\n",
    "\n",
    "## Fix column names\n",
    "df_mito_ours_107_hf = fix_column_names(df_mito_ours_107_hf, is_gene=False)\n",
    "\n",
    "## Get mediann full counts\n",
    "df_mito_ours_107_hf[\"median_counts\"] = round(df_mito_ours_107_hf[df_mito_ours_107_hf.columns[2:]].median(axis=1))\n",
    "\n",
    "## Only keep high-confidence\n",
    "df_mito_ours_107_hf = df_mito_ours_107_hf.loc[df_mito_ours_107_hf[\"median_counts\"] >= 40].copy()\n",
    "\n",
    "## Novel mito HF transcript ids\n",
    "df_mito_ours_107_hf = df_mito_ours_107_hf.loc[df_mito_ours_107_hf[\"transcript_id\"].str.startswith(\"BambuTx\")].copy()\n",
    "df_mito_ours_107_hf_ids = df_mito_ours_107_hf[\"transcript_id\"].copy()"
   ]
  },
  {
   "cell_type": "code",
   "execution_count": 26,
   "id": "afc960c4",
   "metadata": {},
   "outputs": [],
   "source": [
    "## Only keep high-confidence MT transcripts in matrix\n",
    "df_counts_gtex_88_mito_hf = df_counts_gtex_88_all.loc[df_counts_gtex_88_all[\"transcript_id\"].isin(df_mito_gtex_88_hf)].copy()\n",
    "df_counts_gtex_88_mito_hf = df_counts_gtex_88_mito_hf.loc[df_counts_gtex_88_mito_hf[\"chr\"] == \"MT\"].copy()\n",
    "df_counts_gtex_88_hf = pd.concat([df_counts_gtex_88_hf, df_counts_gtex_88_mito_hf])"
   ]
  },
  {
   "cell_type": "code",
   "execution_count": 27,
   "id": "314e66be",
   "metadata": {},
   "outputs": [],
   "source": [
    "## Only keep high-confidence MT transcripts in matrix\n",
    "df_counts_gtex_107_mito_hf = df_counts_gtex_107_all.loc[df_counts_gtex_107_all[\"transcript_id\"].isin(df_mito_gtex_107_hf)].copy()\n",
    "df_counts_gtex_107_mito_hf = df_counts_gtex_107_mito_hf.loc[df_counts_gtex_107_mito_hf[\"chr\"] == \"MT\"].copy()\n",
    "df_counts_gtex_107_hf = pd.concat([df_counts_gtex_107_hf, df_counts_gtex_107_mito_hf])"
   ]
  },
  {
   "cell_type": "code",
   "execution_count": 28,
   "id": "f735eedf",
   "metadata": {},
   "outputs": [],
   "source": [
    "## Only keep high-confidence MT transcripts in matrix\n",
    "df_counts_ours_88_mito_hf = df_counts_ours_88_all.loc[df_counts_ours_88_all[\"transcript_id\"].isin(df_mito_ours_88_hf_ids)].copy()\n",
    "df_counts_ours_88_mito_hf = df_counts_ours_88_mito_hf.loc[df_counts_ours_88_mito_hf[\"chr\"] == \"MT\"].copy()\n",
    "df_counts_ours_88_hf = pd.concat([df_counts_ours_88_hf, df_counts_ours_88_mito_hf])"
   ]
  },
  {
   "cell_type": "code",
   "execution_count": 29,
   "id": "1d2acda9",
   "metadata": {},
   "outputs": [],
   "source": [
    "## Only keep high-confidence MT transcripts in matrix\n",
    "df_counts_ours_107_mito_hf = df_counts_ours_107_all.loc[df_counts_ours_107_all[\"transcript_id\"].isin(df_mito_ours_107_hf_ids)].copy()\n",
    "df_counts_ours_107_mito_hf = df_counts_ours_107_mito_hf.loc[df_counts_ours_107_mito_hf[\"chr\"] == \"MT\"].copy()\n",
    "df_counts_ours_107_hf = pd.concat([df_counts_ours_107_hf, df_counts_ours_107_mito_hf])"
   ]
  },
  {
   "cell_type": "code",
   "execution_count": 30,
   "id": "94bea0d1",
   "metadata": {},
   "outputs": [
    {
     "name": "stdout",
     "output_type": "stream",
     "text": [
      "New transcripts (No Filter) GTEx ENSEMBL 88: 8267\n",
      "New transcripts (No Filter) GTEx ENSEMBL 107: 6754\n",
      "New transcripts (No Filter) OURS ENSEMBL 88: 3407\n",
      "New transcripts (No Filter) OURS ENSEMBL 107: 3428\n",
      "\n",
      "New high-confidence transcripts GTEx ENSEMBL 88: 660\n",
      "New high-confidence transcripts GTEx ENSEMBL 107: 453\n",
      "New high-confidence transcripts OURS ENSEMBL 88: 812\n",
      "New high-confidence transcripts OURS ENSEMBL 107: 700\n"
     ]
    }
   ],
   "source": [
    "## Print out the number of new transcripts\n",
    "\n",
    "print(\"New transcripts (No Filter) GTEx ENSEMBL 88:\", df_counts_gtex_88_all[\"transcript_id\"].nunique())\n",
    "print(\"New transcripts (No Filter) GTEx ENSEMBL 107:\", df_counts_gtex_107_all[\"transcript_id\"].nunique())\n",
    "print(\"New transcripts (No Filter) OURS ENSEMBL 88:\", df_counts_ours_88_all[\"transcript_id\"].nunique())\n",
    "print(\"New transcripts (No Filter) OURS ENSEMBL 107:\", df_counts_ours_107_all[\"transcript_id\"].nunique())\n",
    "\n",
    "\n",
    "print()\n",
    "\n",
    "print(\"New high-confidence transcripts GTEx ENSEMBL 88:\", df_counts_gtex_88_hf[\"transcript_id\"].nunique())\n",
    "print(\"New high-confidence transcripts GTEx ENSEMBL 107:\", df_counts_gtex_107_hf[\"transcript_id\"].nunique())\n",
    "print(\"New high-confidence transcripts OURS ENSEMBL 88:\", df_counts_ours_88_hf[\"transcript_id\"].nunique())\n",
    "print(\"New high-confidence transcripts OURS ENSEMBL 107:\", df_counts_ours_107_hf[\"transcript_id\"].nunique())"
   ]
  },
  {
   "cell_type": "code",
   "execution_count": 31,
   "id": "4e972461",
   "metadata": {},
   "outputs": [],
   "source": [
    "## Get transcript ids for hf new transcripts\n",
    "df_counts_gtex_88_hf_ids = df_counts_gtex_88_hf[\"transcript_id\"].copy()\n",
    "df_counts_gtex_107_hf_ids = df_counts_gtex_107_hf[\"transcript_id\"].copy()\n",
    "df_counts_ours_88_hf_ids = df_counts_ours_88_hf[\"transcript_id\"].copy()\n",
    "df_counts_ours_107_hf_ids = df_counts_ours_107_hf[\"transcript_id\"].copy()"
   ]
  },
  {
   "cell_type": "code",
   "execution_count": 32,
   "id": "83605c5a",
   "metadata": {},
   "outputs": [],
   "source": [
    "## Define the types of discovery\n",
    "df_counts_gtex_88_all.loc[df_counts_gtex_88_all[\"gene_id\"].str.startswith(\"Bambu\"), \"Type\"] = \"New from new\"\n",
    "df_counts_gtex_88_all.loc[~df_counts_gtex_88_all[\"gene_id\"].str.startswith(\"Bambu\"), \"Type\"] =  \"New from known\"\n",
    "df_counts_gtex_88_all.loc[df_counts_gtex_88_all[\"chr\"] == \"MT\", \"Type\"] = \"New from mito\"\n",
    "\n",
    "df_counts_gtex_88_all_nfn = df_counts_gtex_88_all.loc[df_counts_gtex_88_all[\"Type\"] == \"New from new\"].copy()\n",
    "df_counts_gtex_88_all_nfk = df_counts_gtex_88_all.loc[df_counts_gtex_88_all[\"Type\"] == \"New from known\"].copy()\n",
    "df_counts_gtex_88_all_nfm = df_counts_gtex_88_all.loc[df_counts_gtex_88_all[\"Type\"] == \"New from mito\"].copy()"
   ]
  },
  {
   "cell_type": "code",
   "execution_count": 33,
   "id": "da4138d9",
   "metadata": {},
   "outputs": [],
   "source": [
    "## Define the types of discovery\n",
    "df_counts_gtex_107_all.loc[df_counts_gtex_107_all[\"gene_id\"].str.startswith(\"Bambu\"), \"Type\"] = \"New from new\"\n",
    "df_counts_gtex_107_all.loc[~df_counts_gtex_107_all[\"gene_id\"].str.startswith(\"Bambu\"), \"Type\"] =  \"New from known\"\n",
    "df_counts_gtex_107_all.loc[df_counts_gtex_107_all[\"chr\"] == \"MT\", \"Type\"] = \"New from mito\"\n",
    "\n",
    "df_counts_gtex_107_all_nfn = df_counts_gtex_107_all.loc[df_counts_gtex_107_all[\"Type\"] == \"New from new\"].copy()\n",
    "df_counts_gtex_107_all_nfk = df_counts_gtex_107_all.loc[df_counts_gtex_107_all[\"Type\"] == \"New from known\"].copy()\n",
    "df_counts_gtex_107_all_nfm = df_counts_gtex_107_all.loc[df_counts_gtex_107_all[\"Type\"] == \"New from mito\"].copy()"
   ]
  },
  {
   "cell_type": "code",
   "execution_count": 34,
   "id": "b267cfaa",
   "metadata": {},
   "outputs": [],
   "source": [
    "## Define the types of discovery\n",
    "df_counts_ours_88_all.loc[df_counts_ours_88_all[\"gene_id\"].str.startswith(\"Bambu\"), \"Type\"] = \"New from new\"\n",
    "df_counts_ours_88_all.loc[~df_counts_ours_88_all[\"gene_id\"].str.startswith(\"Bambu\"), \"Type\"] =  \"New from known\"\n",
    "df_counts_ours_88_all.loc[df_counts_ours_88_all[\"chr\"] == \"MT\", \"Type\"] = \"New from mito\"\n",
    "\n",
    "df_counts_ours_88_all_nfn = df_counts_ours_88_all.loc[df_counts_ours_88_all[\"Type\"] == \"New from new\"].copy()\n",
    "df_counts_ours_88_all_nfk = df_counts_ours_88_all.loc[df_counts_ours_88_all[\"Type\"] == \"New from known\"].copy()\n",
    "df_counts_ours_88_all_nfm = df_counts_ours_88_all.loc[df_counts_ours_88_all[\"Type\"] == \"New from mito\"].copy()"
   ]
  },
  {
   "cell_type": "code",
   "execution_count": 35,
   "id": "0c6590e1",
   "metadata": {},
   "outputs": [],
   "source": [
    "## Define the types of discovery\n",
    "df_counts_ours_107_all.loc[df_counts_ours_107_all[\"gene_id\"].str.startswith(\"Bambu\"), \"Type\"] = \"New from new\"\n",
    "df_counts_ours_107_all.loc[~df_counts_ours_107_all[\"gene_id\"].str.startswith(\"Bambu\"), \"Type\"] =  \"New from known\"\n",
    "df_counts_ours_107_all.loc[df_counts_ours_107_all[\"chr\"] == \"MT\", \"Type\"] = \"New from mito\"\n",
    "\n",
    "df_counts_ours_107_all_nfn = df_counts_ours_107_all.loc[df_counts_ours_107_all[\"Type\"] == \"New from new\"].copy()\n",
    "df_counts_ours_107_all_nfk = df_counts_ours_107_all.loc[df_counts_ours_107_all[\"Type\"] == \"New from known\"].copy()\n",
    "df_counts_ours_107_all_nfm = df_counts_ours_107_all.loc[df_counts_ours_107_all[\"Type\"] == \"New from mito\"].copy()"
   ]
  },
  {
   "cell_type": "code",
   "execution_count": 36,
   "id": "3455bfd0",
   "metadata": {},
   "outputs": [],
   "source": [
    "## Define the types of discovery\n",
    "df_counts_gtex_88_hf.loc[df_counts_gtex_88_hf[\"gene_id\"].str.startswith(\"Bambu\"), \"Type\"] = \"New from new\"\n",
    "df_counts_gtex_88_hf.loc[~df_counts_gtex_88_hf[\"gene_id\"].str.startswith(\"Bambu\"), \"Type\"] =  \"New from known\"\n",
    "df_counts_gtex_88_hf.loc[df_counts_gtex_88_hf[\"chr\"] == \"MT\", \"Type\"] = \"New from mito\"\n",
    "\n",
    "df_counts_gtex_88_hf_nfn = df_counts_gtex_88_hf.loc[df_counts_gtex_88_hf[\"Type\"] == \"New from new\"].copy()\n",
    "df_counts_gtex_88_hf_nfk = df_counts_gtex_88_hf.loc[df_counts_gtex_88_hf[\"Type\"] == \"New from known\"].copy()\n",
    "df_counts_gtex_88_hf_nfm = df_counts_gtex_88_hf.loc[df_counts_gtex_88_hf[\"Type\"] == \"New from mito\"].copy()"
   ]
  },
  {
   "cell_type": "code",
   "execution_count": 37,
   "id": "e0929d8e",
   "metadata": {},
   "outputs": [],
   "source": [
    "## Define the types of discovery\n",
    "df_counts_gtex_107_hf.loc[df_counts_gtex_107_hf[\"gene_id\"].str.startswith(\"Bambu\"), \"Type\"] = \"New from new\"\n",
    "df_counts_gtex_107_hf.loc[~df_counts_gtex_107_hf[\"gene_id\"].str.startswith(\"Bambu\"), \"Type\"] =  \"New from known\"\n",
    "df_counts_gtex_107_hf.loc[df_counts_gtex_107_hf[\"chr\"] == \"MT\", \"Type\"] = \"New from mito\"\n",
    "\n",
    "df_counts_gtex_107_hf_nfn = df_counts_gtex_107_hf.loc[df_counts_gtex_107_hf[\"Type\"] == \"New from new\"].copy()\n",
    "df_counts_gtex_107_hf_nfk = df_counts_gtex_107_hf.loc[df_counts_gtex_107_hf[\"Type\"] == \"New from known\"].copy()\n",
    "df_counts_gtex_107_hf_nfm = df_counts_gtex_107_hf.loc[df_counts_gtex_107_hf[\"Type\"] == \"New from mito\"].copy()"
   ]
  },
  {
   "cell_type": "code",
   "execution_count": 38,
   "id": "4217e476",
   "metadata": {},
   "outputs": [],
   "source": [
    "## Define the types of discovery\n",
    "df_counts_ours_88_hf.loc[df_counts_ours_88_hf[\"gene_id\"].str.startswith(\"Bambu\"), \"Type\"] = \"New from new\"\n",
    "df_counts_ours_88_hf.loc[~df_counts_ours_88_hf[\"gene_id\"].str.startswith(\"Bambu\"), \"Type\"] =  \"New from known\"\n",
    "df_counts_ours_88_hf.loc[df_counts_ours_88_hf[\"chr\"] == \"MT\", \"Type\"] = \"New from mito\"\n",
    "\n",
    "df_counts_ours_88_hf_nfn = df_counts_ours_88_hf.loc[df_counts_ours_88_hf[\"Type\"] == \"New from new\"].copy()\n",
    "df_counts_ours_88_hf_nfk = df_counts_ours_88_hf.loc[df_counts_ours_88_hf[\"Type\"] == \"New from known\"].copy()\n",
    "df_counts_ours_88_hf_nfm = df_counts_ours_88_hf.loc[df_counts_ours_88_hf[\"Type\"] == \"New from mito\"].copy()"
   ]
  },
  {
   "cell_type": "code",
   "execution_count": 39,
   "id": "fb37796a",
   "metadata": {},
   "outputs": [],
   "source": [
    "## Define the types of discovery\n",
    "df_counts_ours_107_hf.loc[df_counts_ours_107_hf[\"gene_id\"].str.startswith(\"Bambu\"), \"Type\"] = \"New from new\"\n",
    "df_counts_ours_107_hf.loc[~df_counts_ours_107_hf[\"gene_id\"].str.startswith(\"Bambu\"), \"Type\"] =  \"New from known\"\n",
    "df_counts_ours_107_hf.loc[df_counts_ours_107_hf[\"chr\"] == \"MT\", \"Type\"] = \"New from mito\"\n",
    "\n",
    "df_counts_ours_107_hf_nfn = df_counts_ours_107_hf.loc[df_counts_ours_107_hf[\"Type\"] == \"New from new\"].copy()\n",
    "df_counts_ours_107_hf_nfk = df_counts_ours_107_hf.loc[df_counts_ours_107_hf[\"Type\"] == \"New from known\"].copy()\n",
    "df_counts_ours_107_hf_nfm = df_counts_ours_107_hf.loc[df_counts_ours_107_hf[\"Type\"] == \"New from mito\"].copy()"
   ]
  },
  {
   "cell_type": "markdown",
   "id": "e0aeebfa",
   "metadata": {},
   "source": [
    "## - Make graphs"
   ]
  },
  {
   "cell_type": "code",
   "execution_count": 40,
   "id": "59d84bd3",
   "metadata": {
    "scrolled": true
   },
   "outputs": [],
   "source": [
    "## Make master no filter dataset for plots\n",
    "\n",
    "df_counts_gtex_88_all[\"source\"] = \"GTEx ENSEMBL 88\"\n",
    "df_counts_gtex_88_all = df_counts_gtex_88_all[[\"transcript_id\", \"Type\", \"source\"]]\n",
    "\n",
    "df_counts_gtex_107_all[\"source\"] = \"GTEx ENSEMBL 107\"\n",
    "df_counts_gtex_107_all = df_counts_gtex_107_all[[\"transcript_id\", \"Type\", \"source\"]]\n",
    "                                              \n",
    "df_counts_ours_88_all[\"source\"] = \"OURS ENSEMBL 88\"\n",
    "df_counts_ours_88_all = df_counts_ours_88_all[[\"transcript_id\", \"Type\", \"source\"]]\n",
    "\n",
    "df_counts_ours_107_all[\"source\"] = \"OURS ENSEMBL 107\"\n",
    "df_counts_ours_107_all = df_counts_ours_107_all[[\"transcript_id\", \"Type\", \"source\"]]\n",
    "\n",
    "df_all = pd.concat([df_counts_gtex_88_all, df_counts_gtex_107_all, df_counts_ours_88_all, df_counts_ours_107_all])"
   ]
  },
  {
   "cell_type": "code",
   "execution_count": 41,
   "id": "4f150e5a",
   "metadata": {},
   "outputs": [],
   "source": [
    "## Make master HF dataset for plots\n",
    "\n",
    "df_counts_gtex_88_hf[\"source\"] = \"GTEx ENSEMBL 88\"\n",
    "df_counts_gtex_88_hf = df_counts_gtex_88_hf[[\"transcript_id\", \"Type\", \"source\"]]\n",
    "\n",
    "df_counts_gtex_107_hf[\"source\"] = \"GTEx ENSEMBL 107\"\n",
    "df_counts_gtex_107_hf = df_counts_gtex_107_hf[[\"transcript_id\", \"Type\", \"source\"]]\n",
    "                                              \n",
    "df_counts_ours_88_hf[\"source\"] = \"OURS ENSEMBL 88\"\n",
    "df_counts_ours_88_hf = df_counts_ours_88_hf[[\"transcript_id\", \"Type\", \"source\"]]\n",
    "\n",
    "df_counts_ours_107_hf[\"source\"] = \"OURS ENSEMBL 107\"\n",
    "df_counts_ours_107_hf = df_counts_ours_107_hf[[\"transcript_id\", \"Type\", \"source\"]]\n",
    "\n",
    "df_hf = pd.concat([df_counts_gtex_88_hf, df_counts_gtex_107_hf, df_counts_ours_88_hf, df_counts_ours_107_hf])"
   ]
  },
  {
   "cell_type": "code",
   "execution_count": 42,
   "id": "008c19f4",
   "metadata": {},
   "outputs": [],
   "source": [
    "## Set parameters for figures\n",
    "from matplotlib import rcParams\n",
    "mm = (1/25.4)\n",
    "\n",
    "# figure size in millimiters\n",
    "rcParams['figure.figsize'] = (120*mm, 120*mm)\n",
    "rcParams.update({'font.size': 7})\n",
    "rcParams['axes.linewidth'] = 1"
   ]
  },
  {
   "cell_type": "code",
   "execution_count": 43,
   "id": "c0f501b3",
   "metadata": {},
   "outputs": [
    {
     "data": {
      "image/png": "[encoded data removed]",
      "text/plain": [
       "<Figure size 472.441x472.441 with 1 Axes>"
      ]
     },
     "metadata": {},
     "output_type": "display_data"
    }
   ],
   "source": [
    "## Make no filter countsplot and save\n",
    "\n",
    "ax = sns.countplot(y='source', hue='Type', data=df_all, orient='h',\n",
    "                  palette=[ggplot2_colors[6], ggplot2_colors[4], ggplot2_colors[0]],\n",
    "                  hue_order=[\"New from mito\", \"New from new\", \"New from known\"])\n",
    "\n",
    "\n",
    "plt.xlim(0,5300)\n",
    "plt.ylim(-0.6, 3.6)\n",
    "\n",
    "# Adding labels to each bar\n",
    "for p in ax.patches:\n",
    "    \n",
    "    ax.annotate(f'{int(p.get_width())}', \n",
    "                (p.get_x() + p.get_width(), p.get_y() + p.get_height()/2), \n",
    "                ha='center', va='center', \n",
    "                xytext=(10, 0), \n",
    "                textcoords='offset points',\n",
    "                fontsize=7)\n",
    "    \n",
    "# Create a new legend with the reordered label and handle\n",
    "handles, labels = ax.get_legend_handles_labels()\n",
    "order = [2, 1, 0]\n",
    "ax.legend([handles[idx] for idx in order], [labels[idx] for idx in order], loc=\"upper right\")\n",
    "\n",
    "plt.ylabel(\"\")\n",
    "plt.xlabel(\"New transcripts (no filter) passing total\\nunique counts threshold\")\n",
    "\n",
    "plt.savefig('../../../figures/1st_rebuttal_figures/discovery_comparison_bambu/barplot_no_filter_OURS_and_GTEx.pdf',\n",
    "            dpi=600, transparent=True, bbox_inches=\"tight\")"
   ]
  },
  {
   "cell_type": "code",
   "execution_count": 44,
   "id": "e23ab4bc",
   "metadata": {},
   "outputs": [
    {
     "data": {
      "image/png": "[encoded data removed]",
      "text/plain": [
       "<Figure size 472.441x472.441 with 1 Axes>"
      ]
     },
     "metadata": {},
     "output_type": "display_data"
    }
   ],
   "source": [
    "## Make HF countsplot and save\n",
    "\n",
    "ax = sns.countplot(y='source', hue='Type', data=df_hf, orient='h',\n",
    "                  palette=[ggplot2_colors[6], ggplot2_colors[4], ggplot2_colors[0]],\n",
    "                  hue_order=[\"New from mito\", \"New from new\", \"New from known\"])\n",
    "\n",
    "\n",
    "plt.xlim(0,775)\n",
    "plt.ylim(-0.6, 3.6)\n",
    "\n",
    "# Adding labels to each bar\n",
    "for p in ax.patches:\n",
    "    \n",
    "    ax.annotate(f'{int(p.get_width())}', \n",
    "                (p.get_x() + p.get_width(), p.get_y() + p.get_height()/2), \n",
    "                ha='center', va='center', \n",
    "                xytext=(10, 0), \n",
    "                textcoords='offset points',\n",
    "                fontsize=7)\n",
    "        \n",
    "    \n",
    "# Create a new legend with the reordered label and handle\n",
    "handles, labels = ax.get_legend_handles_labels()\n",
    "order = [2, 1, 0]\n",
    "ax.legend([handles[idx] for idx in order], [labels[idx] for idx in order], loc=\"lower right\")\n",
    "\n",
    "plt.ylabel(\"\")\n",
    "plt.xlabel(\"New high-confidence transcripts passing total\\nunique counts threshold\")\n",
    "\n",
    "plt.savefig('../../../figures/1st_rebuttal_figures/discovery_comparison_bambu/barplot_high_confidence_OURS_and_GTEx.pdf',\n",
    "            dpi=600, transparent=True, bbox_inches=\"tight\")"
   ]
  },
  {
   "cell_type": "code",
   "execution_count": 45,
   "id": "a0f521d1",
   "metadata": {},
   "outputs": [],
   "source": [
    "## Only look at GTEx data\n",
    "df_all_only_GTEx = df_all.loc[df_all[\"source\"].str.startswith(\"GTEx\")].copy()\n",
    "df_hf_only_GTEx = df_hf.loc[df_hf[\"source\"].str.startswith(\"GTEx\")].copy()"
   ]
  },
  {
   "cell_type": "code",
   "execution_count": 46,
   "id": "c2aa404e",
   "metadata": {},
   "outputs": [
    {
     "data": {
      "image/png": "[encoded data removed]",
      "text/plain": [
       "<Figure size 472.441x472.441 with 1 Axes>"
      ]
     },
     "metadata": {},
     "output_type": "display_data"
    }
   ],
   "source": [
    "## Make no filter countsplot and save\n",
    "\n",
    "ax = sns.countplot(y='source', hue='Type', data=df_all_only_GTEx, orient='h',\n",
    "                  palette=[ggplot2_colors[6], ggplot2_colors[4], ggplot2_colors[0]],\n",
    "                  hue_order=[\"New from mito\", \"New from new\", \"New from known\"])\n",
    "\n",
    "\n",
    "plt.xlim(0,5300)\n",
    "plt.ylim(-0.8, 1.8)\n",
    "\n",
    "# Adding labels to each bar\n",
    "for p in ax.patches:\n",
    "    \n",
    "    ax.annotate(f'{int(p.get_width())}', \n",
    "                (p.get_x() + p.get_width(), p.get_y() + p.get_height()/2), \n",
    "                ha='center', va='center', \n",
    "                xytext=(10, 0), \n",
    "                textcoords='offset points',\n",
    "                fontsize=7)\n",
    "    \n",
    "# Create a new legend with the reordered label and handle\n",
    "handles, labels = ax.get_legend_handles_labels()\n",
    "order = [2, 1, 0]\n",
    "ax.legend([handles[idx] for idx in order], [labels[idx] for idx in order], loc=\"lower right\")\n",
    "\n",
    "plt.ylabel(\"\")\n",
    "plt.xlabel(\"New transcripts (no filter) passing total\\nunique counts threshold\")\n",
    "\n",
    "plt.savefig('../../../figures/1st_rebuttal_figures/discovery_comparison_bambu/barplot_no_filter_GTEx.pdf',\n",
    "            dpi=600, transparent=True, bbox_inches=\"tight\")"
   ]
  },
  {
   "cell_type": "code",
   "execution_count": 47,
   "id": "9037fcd0",
   "metadata": {},
   "outputs": [
    {
     "data": {
      "image/png": "[encoded data removed]",
      "text/plain": [
       "<Figure size 472.441x472.441 with 1 Axes>"
      ]
     },
     "metadata": {},
     "output_type": "display_data"
    }
   ],
   "source": [
    "## Make HF countsplot and save\n",
    "\n",
    "ax = sns.countplot(y='source', hue='Type', data=df_hf_only_GTEx, orient='h',\n",
    "                  palette=[ggplot2_colors[6], ggplot2_colors[4], ggplot2_colors[0]],\n",
    "                  hue_order=[\"New from mito\", \"New from new\", \"New from known\"])\n",
    "\n",
    "\n",
    "plt.xlim(0,775)\n",
    "plt.ylim(-0.6, 1.6)\n",
    "\n",
    "# Adding labels to each bar\n",
    "for p in ax.patches:\n",
    "    \n",
    "    ax.annotate(f'{int(p.get_width())}', \n",
    "                (p.get_x() + p.get_width(), p.get_y() + p.get_height()/2), \n",
    "                ha='center', va='center', \n",
    "                xytext=(10, 0), \n",
    "                textcoords='offset points',\n",
    "                fontsize=7)\n",
    "        \n",
    "    \n",
    "# Create a new legend with the reordered label and handle\n",
    "handles, labels = ax.get_legend_handles_labels()\n",
    "order = [2, 1, 0]\n",
    "ax.legend([handles[idx] for idx in order], [labels[idx] for idx in order], loc=\"lower right\")\n",
    "\n",
    "plt.ylabel(\"\")\n",
    "plt.xlabel(\"New high-confidence transcripts passing total\\nunique counts threshold\")\n",
    "\n",
    "plt.savefig('../../../figures/1st_rebuttal_figures/discovery_comparison_bambu/barplot_high_confidence_GTEx.pdf',\n",
    "            dpi=600, transparent=True, bbox_inches=\"tight\")"
   ]
  },
  {
   "cell_type": "code",
   "execution_count": 48,
   "id": "2dd3e527",
   "metadata": {},
   "outputs": [],
   "source": [
    "## Show all GTEx at once\n",
    "\n",
    "df_hf_only_GTEx[\"source\"] = df_hf_only_GTEx[\"source\"] + \" - high-confidence\"\n",
    "df_all_only_GTEx[\"source\"] = df_all_only_GTEx[\"source\"] + \" - all (no filter)\"\n",
    "\n",
    "\n",
    "df_GTEx = pd.concat([df_all_only_GTEx, df_hf_only_GTEx])"
   ]
  },
  {
   "cell_type": "code",
   "execution_count": 49,
   "id": "ac0ea365",
   "metadata": {},
   "outputs": [
    {
     "data": {
      "image/png": "[encoded data removed]",
      "text/plain": [
       "<Figure size 472.441x472.441 with 1 Axes>"
      ]
     },
     "metadata": {},
     "output_type": "display_data"
    }
   ],
   "source": [
    "## Make no filter countsplot and save\n",
    "\n",
    "ax = sns.countplot(y='source', hue='Type', data=df_GTEx, orient='h',\n",
    "                  palette=[ggplot2_colors[6], ggplot2_colors[4], ggplot2_colors[0]],\n",
    "                  hue_order=[\"New from mito\", \"New from new\", \"New from known\"],\n",
    "                  order=[\"GTEx ENSEMBL 107 - high-confidence\", \"GTEx ENSEMBL 88 - high-confidence\",\n",
    "                        \"GTEx ENSEMBL 107 - all (no filter)\", \"GTEx ENSEMBL 88 - all (no filter)\"])\n",
    "\n",
    "plt.xlim(0,5300)\n",
    "plt.ylim(-0.6, 3.6)\n",
    "\n",
    "# Adding labels to each bar\n",
    "for p in ax.patches:\n",
    "    \n",
    "    ax.annotate(f'{int(p.get_width())}', \n",
    "                (p.get_x() + p.get_width(), p.get_y() + p.get_height()/2), \n",
    "                ha='center', va='center', \n",
    "                xytext=(10, 0), \n",
    "                textcoords='offset points',\n",
    "                fontsize=7)\n",
    "    \n",
    "# Create a new legend with the reordered label and handle\n",
    "handles, labels = ax.get_legend_handles_labels()\n",
    "order = [2, 1, 0]\n",
    "ax.legend([handles[idx] for idx in order], [labels[idx] for idx in order], loc=\"lower right\")\n",
    "\n",
    "plt.ylabel(\"\")\n",
    "plt.xlabel(\"New transcripts (no filter) passing total\\nunique counts threshold\")\n",
    "\n",
    "plt.savefig('../../../figures/1st_rebuttal_figures/discovery_comparison_bambu/barplot_high_confidence_and_all_GTEx.pdf',\n",
    "            dpi=600, transparent=True, bbox_inches=\"tight\")"
   ]
  },
  {
   "cell_type": "markdown",
   "id": "848117a2",
   "metadata": {},
   "source": [
    "## - Make output GTFs"
   ]
  },
  {
   "cell_type": "code",
   "execution_count": 50,
   "id": "b05494cd",
   "metadata": {},
   "outputs": [],
   "source": [
    "## Import and parse through extended annotations\n",
    "ref_gtex_88 = pd.read_csv(\"../../../data/raw/1st_rebuttal_data/GTEX_with_GRCh38-88_discovery/bambu_discovery/extended_annotations.gtf\", header=None, delimiter=\"\\t\",\n",
    "                        low_memory=False, comment=\"#\", names=[\"chr\", \"source\", \"type\", \"start\", \"end\", \"dot_1\", \"strand\", \"dot_2\", \"other\"])\n",
    "\n",
    "## Take away ERCCs\n",
    "ref_gtex_88 = ref_gtex_88.loc[~ref_gtex_88[\"chr\"].str.startswith(\"ERCC-\")].copy()\n",
    "\n",
    "## Parse\n",
    "ref_gtex_88 = parse_df_columns(ref_gtex_88, is_ref=False, delete_other=False)\n",
    "\n",
    "## Only keep transcripts\n",
    "ref_gtex_88_new_all = ref_gtex_88.loc[ref_gtex_88[\"transcript_id\"].isin(df_counts_gtex_88_all_ids)].copy()\n",
    "\n",
    "## Drop useless columns after filtering\n",
    "ref_gtex_88_new_all.drop(columns=[\"gene_id\", \"transcript_id\", \"exon_number\"], inplace=True)\n",
    "\n",
    "## Save output\n",
    "ref_gtex_88_new_all.to_csv(\"../../../data/processed/1st_rebuttal/discovery_comparison_bambu/GTEx_ENSEMBL_88_NEW_ALL.gtf\",\n",
    "                          header=False, index=False, quoting=csv.QUOTE_NONE, sep=\"\\t\")"
   ]
  },
  {
   "cell_type": "code",
   "execution_count": 51,
   "id": "2694bc0a",
   "metadata": {},
   "outputs": [],
   "source": [
    "## Import and parse through extended annotations\n",
    "ref_gtex_107 = pd.read_csv(\"../../../data/raw/1st_rebuttal_data/GTEX_with_GRCh38-107_discovery/bambu_discovery/extended_annotations.gtf\", header=None, delimiter=\"\\t\",\n",
    "                        low_memory=False, comment=\"#\", names=[\"chr\", \"source\", \"type\", \"start\", \"end\", \"dot_1\", \"strand\", \"dot_2\", \"other\"])\n",
    "\n",
    "## Take away ERCCs\n",
    "ref_gtex_107 = ref_gtex_107.loc[~ref_gtex_107[\"chr\"].str.startswith(\"ERCC-\")].copy()\n",
    "\n",
    "## Parse\n",
    "ref_gtex_107 = parse_df_columns(ref_gtex_107, is_ref=False, delete_other=False)\n",
    "\n",
    "## Only keep transcripts\n",
    "ref_gtex_107_new_all = ref_gtex_107.loc[ref_gtex_107[\"transcript_id\"].isin(df_counts_gtex_107_all_ids)].copy()\n",
    "\n",
    "## Drop useless columns after filtering\n",
    "ref_gtex_107_new_all.drop(columns=[\"gene_id\", \"transcript_id\", \"exon_number\"], inplace=True)\n",
    "\n",
    "## Save output\n",
    "ref_gtex_107_new_all.to_csv(\"../../../data/processed/1st_rebuttal/discovery_comparison_bambu/GTEx_ENSEMBL_107_NEW_ALL.gtf\",\n",
    "                          header=False, index=False, quoting=csv.QUOTE_NONE, sep=\"\\t\")"
   ]
  },
  {
   "cell_type": "code",
   "execution_count": 52,
   "id": "b413f4af",
   "metadata": {},
   "outputs": [],
   "source": [
    "## Import and parse through extended annotations\n",
    "ref_ours_88 = pd.read_csv(\"../../../data/raw/1st_rebuttal_data/OURS_GRCh38-88_discovery/bambu_discovery/extended_annotations.gtf\", header=None, delimiter=\"\\t\",\n",
    "                        low_memory=False, comment=\"#\", names=[\"chr\", \"source\", \"type\", \"start\", \"end\", \"dot_1\", \"strand\", \"dot_2\", \"other\"])\n",
    "\n",
    "## Take away ERCCs\n",
    "ref_ours_88 = ref_ours_88.loc[~ref_ours_88[\"chr\"].str.startswith(\"ERCC-\")].copy()\n",
    "\n",
    "## Parse\n",
    "ref_ours_88 = parse_df_columns(ref_ours_88, is_ref=False, delete_other=False)\n",
    "\n",
    "## Only keep transcripts\n",
    "ref_ours_88_new_all = ref_ours_88.loc[ref_ours_88[\"transcript_id\"].isin(df_counts_ours_88_all_ids)].copy()\n",
    "\n",
    "## Drop useless columns after filtering\n",
    "ref_ours_88_new_all.drop(columns=[\"gene_id\", \"transcript_id\", \"exon_number\"], inplace=True)\n",
    "\n",
    "## Save output\n",
    "ref_ours_88_new_all.to_csv(\"../../../data/processed/1st_rebuttal/discovery_comparison_bambu/OURS_ENSEMBL_88_NEW_ALL.gtf\",\n",
    "                          header=False, index=False, quoting=csv.QUOTE_NONE, sep=\"\\t\")"
   ]
  },
  {
   "cell_type": "code",
   "execution_count": 53,
   "id": "9ed35569",
   "metadata": {},
   "outputs": [],
   "source": [
    "## Import and parse through extended annotations\n",
    "ref_ours_107 = pd.read_csv(\"../../../data/raw/1st_rebuttal_data/ad_vs_ct_pilot_study_february_2023_GRCh38-107_discovery/bambu_discovery/extended_annotations.gtf\", header=None, delimiter=\"\\t\",\n",
    "                        low_memory=False, comment=\"#\", names=[\"chr\", \"source\", \"type\", \"start\", \"end\", \"dot_1\", \"strand\", \"dot_2\", \"other\"])\n",
    "\n",
    "## Take away ERCCs\n",
    "ref_ours_107 = ref_ours_107.loc[~ref_ours_107[\"chr\"].str.startswith(\"ERCC-\")].copy()\n",
    "\n",
    "## Parse\n",
    "ref_ours_107 = parse_df_columns(ref_ours_107, is_ref=False, delete_other=False)\n",
    "\n",
    "## Only keep transcripts\n",
    "ref_ours_107_new_all = ref_ours_107.loc[ref_ours_107[\"transcript_id\"].isin(df_counts_ours_107_all_ids)].copy()\n",
    "\n",
    "## Drop useless columns after filtering\n",
    "ref_ours_107_new_all.drop(columns=[\"gene_id\", \"transcript_id\", \"exon_number\"], inplace=True)\n",
    "\n",
    "## Save output\n",
    "ref_ours_107_new_all.to_csv(\"../../../data/processed/1st_rebuttal/discovery_comparison_bambu/OURS_ENSEMBL_107_NEW_ALL.gtf\",\n",
    "                          header=False, index=False, quoting=csv.QUOTE_NONE, sep=\"\\t\")"
   ]
  },
  {
   "cell_type": "code",
   "execution_count": 54,
   "id": "a0309f35",
   "metadata": {},
   "outputs": [],
   "source": [
    "## Import and parse through extended annotations\n",
    "ref_gtex_88 = pd.read_csv(\"../../../data/raw/1st_rebuttal_data/GTEX_with_GRCh38-88_discovery/bambu_discovery/extended_annotations.gtf\", header=None, delimiter=\"\\t\",\n",
    "                        low_memory=False, comment=\"#\", names=[\"chr\", \"source\", \"type\", \"start\", \"end\", \"dot_1\", \"strand\", \"dot_2\", \"other\"])\n",
    "\n",
    "## Take away ERCCs\n",
    "ref_gtex_88 = ref_gtex_88.loc[~ref_gtex_88[\"chr\"].str.startswith(\"ERCC-\")].copy()\n",
    "\n",
    "## Parse\n",
    "ref_gtex_88 = parse_df_columns(ref_gtex_88, is_ref=False, delete_other=False)\n",
    "\n",
    "## Only keep transcripts\n",
    "ref_gtex_88_new_hf = ref_gtex_88.loc[ref_gtex_88[\"transcript_id\"].isin(df_counts_gtex_88_hf_ids)].copy()\n",
    "\n",
    "## Drop useless columns after filtering\n",
    "ref_gtex_88_new_hf.drop(columns=[\"gene_id\", \"transcript_id\", \"exon_number\"], inplace=True)\n",
    "\n",
    "## Save output\n",
    "ref_gtex_88_new_hf.to_csv(\"../../../data/processed/1st_rebuttal/discovery_comparison_bambu/GTEx_ENSEMBL_88_NEW_HF.gtf\",\n",
    "                          header=False, index=False, quoting=csv.QUOTE_NONE, sep=\"\\t\")"
   ]
  },
  {
   "cell_type": "code",
   "execution_count": 55,
   "id": "7142882a",
   "metadata": {},
   "outputs": [],
   "source": [
    "## Import and parse through extended annotations\n",
    "ref_gtex_107 = pd.read_csv(\"../../../data/raw/1st_rebuttal_data/GTEX_with_GRCh38-107_discovery/bambu_discovery/extended_annotations.gtf\", header=None, delimiter=\"\\t\",\n",
    "                        low_memory=False, comment=\"#\", names=[\"chr\", \"source\", \"type\", \"start\", \"end\", \"dot_1\", \"strand\", \"dot_2\", \"other\"])\n",
    "\n",
    "## Take away ERCCs\n",
    "ref_gtex_107 = ref_gtex_107.loc[~ref_gtex_107[\"chr\"].str.startswith(\"ERCC-\")].copy()\n",
    "\n",
    "## Parse\n",
    "ref_gtex_107 = parse_df_columns(ref_gtex_107, is_ref=False, delete_other=False)\n",
    "\n",
    "## Only keep transcripts\n",
    "ref_gtex_107_new_hf = ref_gtex_107.loc[ref_gtex_107[\"transcript_id\"].isin(df_counts_gtex_107_hf_ids)].copy()\n",
    "\n",
    "## Drop useless columns after filtering\n",
    "ref_gtex_107_new_hf.drop(columns=[\"gene_id\", \"transcript_id\", \"exon_number\"], inplace=True)\n",
    "\n",
    "## Save output\n",
    "ref_gtex_107_new_hf.to_csv(\"../../../data/processed/1st_rebuttal/discovery_comparison_bambu/GTEx_ENSEMBL_107_NEW_HF.gtf\",\n",
    "                          header=False, index=False, quoting=csv.QUOTE_NONE, sep=\"\\t\")"
   ]
  },
  {
   "cell_type": "code",
   "execution_count": 56,
   "id": "ebcdc8f4",
   "metadata": {},
   "outputs": [],
   "source": [
    "## Import and parse through extended annotations\n",
    "ref_ours_88 = pd.read_csv(\"../../../data/raw/1st_rebuttal_data/OURS_GRCh38-88_discovery/bambu_discovery/extended_annotations.gtf\", header=None, delimiter=\"\\t\",\n",
    "                        low_memory=False, comment=\"#\", names=[\"chr\", \"source\", \"type\", \"start\", \"end\", \"dot_1\", \"strand\", \"dot_2\", \"other\"])\n",
    "\n",
    "## Take away ERCCs\n",
    "ref_ours_88 = ref_ours_88.loc[~ref_ours_88[\"chr\"].str.startswith(\"ERCC-\")].copy()\n",
    "\n",
    "## Parse\n",
    "ref_ours_88 = parse_df_columns(ref_ours_88, is_ref=False, delete_other=False)\n",
    "\n",
    "## Only keep transcripts\n",
    "ref_ours_88_new_hf = ref_ours_88.loc[ref_ours_88[\"transcript_id\"].isin(df_counts_ours_88_hf_ids)].copy()\n",
    "\n",
    "## Drop useless columns after filtering\n",
    "ref_ours_88_new_hf.drop(columns=[\"gene_id\", \"transcript_id\", \"exon_number\"], inplace=True)\n",
    "\n",
    "## Save output\n",
    "ref_ours_88_new_hf.to_csv(\"../../../data/processed/1st_rebuttal/discovery_comparison_bambu/OURS_ENSEMBL_88_NEW_HF.gtf\",\n",
    "                          header=False, index=False, quoting=csv.QUOTE_NONE, sep=\"\\t\")"
   ]
  },
  {
   "cell_type": "code",
   "execution_count": 57,
   "id": "c4a66149",
   "metadata": {},
   "outputs": [],
   "source": [
    "## Import and parse through extended annotations\n",
    "ref_ours_107 = pd.read_csv(\"../../../data/raw/1st_rebuttal_data/ad_vs_ct_pilot_study_february_2023_GRCh38-107_discovery/bambu_discovery/extended_annotations.gtf\", header=None, delimiter=\"\\t\",\n",
    "                        low_memory=False, comment=\"#\", names=[\"chr\", \"source\", \"type\", \"start\", \"end\", \"dot_1\", \"strand\", \"dot_2\", \"other\"])\n",
    "\n",
    "## Take away ERCCs\n",
    "ref_ours_107 = ref_ours_107.loc[~ref_ours_107[\"chr\"].str.startswith(\"ERCC-\")].copy()\n",
    "\n",
    "## Parse\n",
    "ref_ours_107 = parse_df_columns(ref_ours_107, is_ref=False, delete_other=False)\n",
    "\n",
    "## Only keep transcripts\n",
    "ref_ours_107_new_hf = ref_ours_107.loc[ref_ours_107[\"transcript_id\"].isin(df_counts_ours_107_hf_ids)].copy()\n",
    "\n",
    "## Drop useless columns after filtering\n",
    "ref_ours_107_new_hf.drop(columns=[\"gene_id\", \"transcript_id\", \"exon_number\"], inplace=True)\n",
    "\n",
    "## Save output\n",
    "ref_ours_107_new_hf.to_csv(\"../../../data/processed/1st_rebuttal/discovery_comparison_bambu/OURS_ENSEMBL_107_NEW_HF.gtf\",\n",
    "                          header=False, index=False, quoting=csv.QUOTE_NONE, sep=\"\\t\")"
   ]
  }
 ],
 "metadata": {
  "kernelspec": {
   "display_name": "Python 3 (ipykernel)",
   "language": "python",
   "name": "python3"
  },
  "language_info": {
   "codemirror_mode": {
    "name": "ipython",
    "version": 3
   },
   "file_extension": ".py",
   "mimetype": "text/x-python",
   "name": "python",
   "nbconvert_exporter": "python",
   "pygments_lexer": "ipython3",
   "version": "3.10.10"
  }
 },
 "nbformat": 4,
 "nbformat_minor": 5
}
