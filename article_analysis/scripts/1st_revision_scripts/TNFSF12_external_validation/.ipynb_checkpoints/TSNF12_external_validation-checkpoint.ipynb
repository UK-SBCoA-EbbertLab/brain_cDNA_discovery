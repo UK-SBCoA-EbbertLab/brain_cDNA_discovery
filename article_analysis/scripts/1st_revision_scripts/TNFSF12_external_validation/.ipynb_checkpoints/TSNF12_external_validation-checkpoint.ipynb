{
 "cells": [
  {
   "cell_type": "markdown",
   "id": "d9928c02",
   "metadata": {},
   "source": [
    "# Import libraries and define functions + Initial setup"
   ]
  },
  {
   "cell_type": "code",
   "execution_count": 1,
   "id": "2e7c2845",
   "metadata": {},
   "outputs": [],
   "source": [
    "## Import Libraries\n",
    "import pandas as pd\n",
    "import numpy as np\n",
    "from matplotlib_venn import venn2, venn2_circles, venn2_unweighted\n",
    "from matplotlib_venn import venn3, venn3_circles\n",
    "from matplotlib import pyplot as plt\n",
    "%matplotlib inline\n",
    "import seaborn as sns\n",
    "from wordcloud import WordCloud\n",
    "import csv\n",
    "\n",
    "\n",
    "## Display all rows of pandas dataframes\n",
    "pd.set_option('display.max_rows', None)\n",
    "pd.set_option('display.max_colwidth', None)"
   ]
  },
  {
   "cell_type": "code",
   "execution_count": 2,
   "id": "f27e634a",
   "metadata": {},
   "outputs": [],
   "source": [
    "'''\n",
    "name: relative_transcript_abundance\n",
    "\n",
    "purpose: calculate relative transcript abundance\n",
    "\n",
    "input: a dataframe with a ref_gene_id column identifying the transcript gene of origin and a cov columns with \n",
    "the coverage for the transcripts.\n",
    "\n",
    "output: the same dataframe with a relative abundance column added\n",
    "'''\n",
    "\n",
    "\n",
    "\n",
    "def relative_transcript_abundance(df):\n",
    "    \n",
    "    dff = df.copy()\n",
    "    \n",
    "    first=True\n",
    "    \n",
    "    for col in dff.filter(regex='[0-9]_CPM').columns:\n",
    "        \n",
    "        col_gene_name = col.split(\"_CP\")[0] + \"_total_gene_CPM\"\n",
    "        col_relative_abundance = col.split(\"_CP\")[0] + \"_relative_abundance\"\n",
    "    \n",
    "        dff_sums = dff[[\"gene_id\", col]].groupby(\"gene_id\").sum()\n",
    "\n",
    "        dff_sums[col_gene_name] = dff_sums[col].copy()\n",
    "\n",
    "        dff_sums.drop(columns=col, inplace=True)\n",
    "\n",
    "        if first:\n",
    "            merged_dff = pd.merge(dff, dff_sums, how='inner', on=\"gene_id\")\n",
    "            merged_dff[col_relative_abundance] = ((merged_dff[col]/merged_dff[col_gene_name]) * 100)\n",
    "            \n",
    "        else:\n",
    "            merged_dff = pd.merge(merged_dff, dff_sums, how='inner', on=\"gene_id\")\n",
    "            merged_dff[col_relative_abundance] = ((merged_dff[col]/merged_dff[col_gene_name]) * 100)\n",
    "        \n",
    "        first=False\n",
    "        \n",
    "    for col_count in merged_dff.filter(regex='[0-9]_count').columns:\n",
    "        \n",
    "        col_gene_name = col_count.split(\"_count\")[0] + \"_total_gene_counts\"\n",
    "        \n",
    "        dff_sums = merged_dff[[\"gene_id\", col_count]].groupby(\"gene_id\").sum()\n",
    "        dff_sums[col_gene_name] = dff_sums[col_count].copy()\n",
    "    \n",
    "        \n",
    "        dff_sums.drop(columns=col_count, inplace=True)\n",
    "        \n",
    "        merged_dff = pd.merge(merged_dff, dff_sums, how='inner', on=\"gene_id\")\n",
    "        \n",
    "    merged_dff.fillna(value=0, inplace=True)\n",
    "        \n",
    "    return merged_dff"
   ]
  },
  {
   "cell_type": "code",
   "execution_count": 3,
   "id": "a6446e95",
   "metadata": {},
   "outputs": [],
   "source": [
    "'''\n",
    "function name: fix_column_names\n",
    "\n",
    "purpose: Fixing the column names, making them smaller, informative, and consistent\n",
    "\n",
    "input: The raw counts dataframe for either genes or transcripts \n",
    "\n",
    "output: Same dataframe with improved column names\n",
    "'''\n",
    "\n",
    "def fix_column_names(df, is_gene=False):\n",
    "    \n",
    "    ## Check if this is a gene counts object\n",
    "    if is_gene:\n",
    "        \n",
    "        ## Get count column names and create list of new column names\n",
    "        count_columns = df.columns.tolist()\n",
    "        list_new_names = [\"gene_id\"]\n",
    "        \n",
    "        ## gene_id comes in as index for gene counts data, make it into the first column instead\n",
    "        df[\"gene_id\"] = df.index\n",
    "        cols = list(df.columns)\n",
    "        cols = [cols[-1]] + cols[:-1]\n",
    "        df = df[cols]\n",
    "        df.reset_index(inplace=True, drop=True)\n",
    "    \n",
    "    ## If it is a transcript dataset\n",
    "    else:\n",
    "        ## Set count columns and create list of new names\n",
    "        count_columns = df.columns[2:].tolist()\n",
    "        list_new_names = [ \"transcript_id\", \"gene_id\"]\n",
    "    \n",
    "    ## Fix names one by one and add to list of new names\n",
    "    for col in count_columns:\n",
    "        col = col.split(\"_mapped\")[0] + \"_counts\"\n",
    "        list_new_names.append(col)\n",
    "    \n",
    "    ## Rename columns\n",
    "    df.columns = list_new_names\n",
    "    \n",
    "    return df "
   ]
  },
  {
   "cell_type": "code",
   "execution_count": 4,
   "id": "e8cafeca",
   "metadata": {},
   "outputs": [],
   "source": [
    "'''\n",
    "function name: parse_df_columns\n",
    "\n",
    "purpose: parsing the last aggregate column of the gtf/gff3 into useful columns and cleaning non-relevant columns\n",
    "\n",
    "input: dataframe containining \"raw\" gtf/gff\n",
    "\n",
    "output: dataframe containing gtf with useful columns [\"gene_id\", \"transcript_id\", etc...]\n",
    "'''\n",
    "\n",
    "def parse_df_columns(df, is_ref=True, is_transcript=False, is_prot=False, delete_other=True):\n",
    "\n",
    "    if is_ref:\n",
    "\n",
    "        ## Get gene ids\n",
    "        df[\"gene_id\"] = df[\"other\"].str.split('\";', expand=True)[0].str.extract(\"([^ \\\"]*$)\", expand=True)\n",
    "        \n",
    "        ## Get gene names\n",
    "        df[\"gene_name\"] = df[\"other\"].str.split(\"gene_name \\\"\", expand=True)[1].str.split('\\\";', expand=True)[0]\n",
    "        \n",
    "        ## Get get transcript biotype\n",
    "        df[\"gene_biotype\"] = df[\"other\"].str.split('gene_biotype \"', expand=True)[1].str.split('\"', expand=True)[0]\n",
    "        \n",
    "        ## If is transcript get transcript id and transcript biotype\n",
    "        if is_transcript:\n",
    "            df[\"transcript_id\"] = df[\"other\"].str.split('transcript_id \"', expand=True)[1].str.split('\"', expand=True)[0]\n",
    "            df[\"transcript_biotype\"] = df[\"other\"].str.split('transcript_biotype \"', expand=True)[1].str.split('\"', expand=True)[0]\n",
    "            \n",
    "            ## If is prot get protein_id\n",
    "            if is_prot:\n",
    "                df[\"protein_id\"] = df[\"other\"].str.split('protein_id \"', expand=True)[1].str.split('\"', expand=True)[0]\n",
    "                df[\"ccds_id\"] = df[\"other\"].str.split('ccds_id \"', expand=True)[1].str.split('\"', expand=True)[0]\n",
    "                df[\"exon_number\"] = df[\"other\"].str.split('exon_number \"', expand=True)[1].str.split('\"', expand=True)[0]\n",
    "\n",
    "        ## Drop \"other\" column\n",
    "        df.drop(columns=[\"other\", \"dot_1\", \"dot_2\"], inplace=True)\n",
    "        \n",
    "\n",
    "    else:\n",
    "\n",
    "        ## Get gene ids\n",
    "        df[\"gene_id\"] = df[\"other\"].str.split('\";', expand=True)[0].str.extract(\"([^ \\\"]*$)\", expand=True)\n",
    "\n",
    "        ## Get transcript ids\n",
    "        df[\"transcript_id\"] = df[\"other\"].str.split('transcript_id \"', expand=True)[1].str.split('\"', expand=True)[0]\n",
    "\n",
    "        ## Get exon number\n",
    "        df[\"exon_number\"] = df[\"other\"].str.split('exon_number \"', expand=True)[1].str.split('\"', expand=True)[0]\n",
    "\n",
    "        ## Drop \"other\" column\n",
    "        if delete_other:\n",
    "            df.drop(columns=[\"other\", \"dot_1\", \"dot_2\"], inplace=True)\n",
    "\n",
    "    for col in df.columns:\n",
    "        df.loc[df[col].isnull(), col] = np.NaN\n",
    "        \n",
    "\n",
    "    return df"
   ]
  },
  {
   "cell_type": "code",
   "execution_count": 5,
   "id": "b1117a08",
   "metadata": {},
   "outputs": [],
   "source": [
    "'''\n",
    "function name: calculate_cpm\n",
    "\n",
    "purpose: Calculate CPM for the each sample given\n",
    "\n",
    "input: Counts dataset\n",
    "\n",
    "output: Counts dataset with CPM columns as well\n",
    "'''\n",
    "\n",
    "def calculate_cpm(df, is_gene=False):\n",
    "\n",
    "    ## Set count columns if dataframe is gene counts\n",
    "    if is_gene:\n",
    "        count_columns = df.columns[1:].tolist()\n",
    "    \n",
    "    ## Set count columns if dataframe is transcript counts\n",
    "    else:\n",
    "        count_columns = df.columns[2:].tolist()\n",
    "\n",
    "    ## Loop through counts columns to calculate CPM and add to the dataframe\n",
    "    for col in count_columns:\n",
    "        \n",
    "        df[col] = round(df[col], 2)\n",
    "        cpm_name = col.replace(\"_counts\", \"_CPM\")\n",
    "        df[cpm_name] = round(((df[col]/(df[col].sum())) * 1000000), 2)\n",
    "    \n",
    "    return df  "
   ]
  },
  {
   "cell_type": "code",
   "execution_count": 6,
   "id": "2bb2cbe6",
   "metadata": {},
   "outputs": [],
   "source": [
    "## define ggplot colors\n",
    "ggplot2_colors = [\"#F8766D\", \"#CD9600\", \"#7CAE00\", \"#00BE67\", \"#00BFC4\", \"#00A9FF\", \"#C77CFF\", \"#FF61CC\"]"
   ]
  },
  {
   "cell_type": "markdown",
   "id": "82560a0f",
   "metadata": {},
   "source": [
    "## Pre-process data"
   ]
  },
  {
   "cell_type": "code",
   "execution_count": 7,
   "id": "03ebbf1b",
   "metadata": {},
   "outputs": [],
   "source": [
    "## Open data\n",
    "\n",
    "df_ours = pd.read_csv(\"../../../data/raw/nextflow_pipeline_output/bambu_discovery/counts_transcript.txt\", sep=\"\\t\")\n",
    "\n",
    "df_gtex = pd.read_csv(\"../../../data/raw/1st_rebuttal_data/GTEX_with_our_extended_annotation_quant/bambu_quant/counts_transcript.txt\",\n",
    "                     sep=\"\\t\")"
   ]
  },
  {
   "cell_type": "code",
   "execution_count": 8,
   "id": "cde6aced",
   "metadata": {},
   "outputs": [],
   "source": [
    "## Only keep BA9 brain samples\n",
    "## Excluded BA9 sample \"GTEX-T5JC-0011-R10A-SM-2TT23.FAK91589\" because it had only 46331 reads.\n",
    "df_gtex = df_gtex[[\"TXNAME\", \"GENEID\",\"GTEX-1192X-0011-R10a-SM-4RXXZ.FAK49046_mapped_filtered_sorted\",\n",
    "                  \"GTEX-13X6J-0011-R10b-SM-5CEKT.FAK44896_mapped_filtered_sorted\",\n",
    "                  \"GTEX-14BIL-0011-R10a-SM-5EQV4.FAK49209_mapped_filtered_sorted\",\n",
    "                  \"GTEX-QDT8-0011-R10A-SM-2FKJB.FAK49182_mapped_filtered_sorted\",\n",
    "                  \"GTEX-15DCD-0011-R10b-SM-5S51M.FAK42101_mapped_filtered_sorted\"]].copy()"
   ]
  },
  {
   "cell_type": "code",
   "execution_count": 9,
   "id": "59ca9dd1",
   "metadata": {},
   "outputs": [],
   "source": [
    "## Fix column names and calculate CPM, drop counts\n",
    "\n",
    "df_ours = fix_column_names(df_ours, is_gene=False)\n",
    "df_ours = calculate_cpm(df_ours, is_gene=False)\n",
    "df_ours = df_ours[df_ours.columns.drop(list(df_ours.filter(regex='counts')))].copy()\n",
    "\n",
    "df_gtex = fix_column_names(df_gtex, is_gene=False)\n",
    "df_gtex = calculate_cpm(df_gtex, is_gene=False)\n",
    "df_gtex = df_gtex[df_gtex.columns.drop(list(df_gtex.filter(regex='counts')))].copy()"
   ]
  },
  {
   "cell_type": "code",
   "execution_count": 10,
   "id": "58b4017e",
   "metadata": {},
   "outputs": [],
   "source": [
    "## Calculate relative abundance\n",
    "\n",
    "df_ours = relative_transcript_abundance(df_ours)\n",
    "\n",
    "df_gtex = relative_transcript_abundance(df_gtex)"
   ]
  },
  {
   "cell_type": "code",
   "execution_count": 11,
   "id": "28a1d31c",
   "metadata": {},
   "outputs": [],
   "source": [
    "## Only keep the two TNSFSF12 transcripts we are interested in\n",
    "\n",
    "keep = [\"ENST00000700058\", \"ENST00000462619\"]\n",
    "\n",
    "df_ours = df_ours.loc[df_ours[\"transcript_id\"].isin(keep)].copy()\n",
    "\n",
    "df_gtex = df_gtex.loc[df_gtex[\"transcript_id\"].isin(keep)].copy()"
   ]
  },
  {
   "cell_type": "code",
   "execution_count": 12,
   "id": "c887ef8f",
   "metadata": {},
   "outputs": [],
   "source": [
    "## Drop CPM columns\n",
    "\n",
    "df_ours = df_ours[df_ours.columns.drop(list(df_ours.filter(regex='total')))].copy()\n",
    "\n",
    "df_gtex = df_gtex[df_gtex.columns.drop(list(df_gtex.filter(regex='total')))].copy()"
   ]
  },
  {
   "cell_type": "code",
   "execution_count": 13,
   "id": "c44de48f",
   "metadata": {},
   "outputs": [],
   "source": [
    "## Make columns into rows\n",
    "df_gtex = df_gtex.T.copy()\n",
    "df_ours = df_ours.T.copy()\n",
    "\n",
    "## Fix column names\n",
    "df_gtex.columns = [\"TNFSF12-203\", \"TNFSF12-219\"]\n",
    "df_ours.columns = [\"TNFSF12-203\", \"TNFSF12-219\"]\n",
    "\n",
    "## Remove useless rows (gene_id, transcript_id)\n",
    "df_gtex = df_gtex.iloc[2:].copy()\n",
    "df_ours = df_ours.iloc[2:].copy()"
   ]
  },
  {
   "cell_type": "code",
   "execution_count": 14,
   "id": "aead4b1d",
   "metadata": {},
   "outputs": [],
   "source": [
    "## Define AD samples\n",
    "ad_samples = ['sample_579_PAG75663_relative_abundance','sample_1218_PAM43779_relative_abundance', \n",
    "              'sample_5295_PAG77944_relative_abundance', 'sample_5292_PAG75292_relative_abundance',\n",
    "              'sample_1186_PAM43869_relative_abundance', 'sample_1291_PAG71816_relative_abundance',\n",
    "             'sample_579_PAG75663_CPM', 'sample_1218_PAM43779_CPM', \n",
    "              'sample_5295_PAG77944_CPM', 'sample_5292_PAG75292_CPM',\n",
    "              'sample_1186_PAM43869_CPM', 'sample_1291_PAG71816_CPM']"
   ]
  },
  {
   "cell_type": "code",
   "execution_count": 15,
   "id": "541d1090",
   "metadata": {},
   "outputs": [],
   "source": [
    "## Define conditions\n",
    "\n",
    "df_gtex[\"Condition\"] = \"GTEx CT\"\n",
    "\n",
    "df_ours.loc[df_ours.index.isin(ad_samples), \"Condition\"] = \"Ours AD\"\n",
    "\n",
    "df_ours.loc[~df_ours.index.isin(ad_samples), \"Condition\"] = \"Ours CT\""
   ]
  },
  {
   "cell_type": "code",
   "execution_count": 16,
   "id": "6374f54e",
   "metadata": {},
   "outputs": [],
   "source": [
    "## Reset indexes\n",
    "\n",
    "df_ours.reset_index(inplace=True, names=\"sample_id\")\n",
    "\n",
    "df_gtex.reset_index(inplace=True, names=\"sample_id\")"
   ]
  },
  {
   "cell_type": "code",
   "execution_count": 17,
   "id": "843b2ae7",
   "metadata": {},
   "outputs": [],
   "source": [
    "## Melt dataframes\n",
    "\n",
    "df_ours_melt = df_ours.melt(id_vars=['sample_id', \"Condition\"], value_vars=[\"TNFSF12-203\", \"TNFSF12-219\"])\n",
    "\n",
    "df_gtex_melt = df_gtex.melt(id_vars=['sample_id', \"Condition\"], value_vars=[\"TNFSF12-203\", \"TNFSF12-219\"])"
   ]
  },
  {
   "cell_type": "code",
   "execution_count": 18,
   "id": "a592c76b",
   "metadata": {},
   "outputs": [],
   "source": [
    "## Concatenate dataframes\n",
    "\n",
    "df_final = pd.concat([df_ours_melt, df_gtex_melt])"
   ]
  },
  {
   "cell_type": "code",
   "execution_count": 19,
   "id": "81ed4ccb",
   "metadata": {},
   "outputs": [],
   "source": [
    "## Separate CPM and relative abundance\n",
    "\n",
    "df_final_cpm = df_final.loc[df_final[\"sample_id\"].str.contains(\"CPM\")].copy()\n",
    "\n",
    "df_final_relative_abundance = df_final.loc[df_final[\"sample_id\"].str.contains(\"relative\")].copy()"
   ]
  },
  {
   "cell_type": "code",
   "execution_count": 20,
   "id": "3d86736a",
   "metadata": {},
   "outputs": [
    {
     "data": {
      "text/html": [
       "<div>\n",
       "<style scoped>\n",
       "    .dataframe tbody tr th:only-of-type {\n",
       "        vertical-align: middle;\n",
       "    }\n",
       "\n",
       "    .dataframe tbody tr th {\n",
       "        vertical-align: top;\n",
       "    }\n",
       "\n",
       "    .dataframe thead th {\n",
       "        text-align: right;\n",
       "    }\n",
       "</style>\n",
       "<table border=\"1\" class=\"dataframe\">\n",
       "  <thead>\n",
       "    <tr style=\"text-align: right;\">\n",
       "      <th></th>\n",
       "      <th>sample_id</th>\n",
       "      <th>Condition</th>\n",
       "      <th>variable</th>\n",
       "      <th>value</th>\n",
       "    </tr>\n",
       "  </thead>\n",
       "  <tbody>\n",
       "    <tr>\n",
       "      <th>0</th>\n",
       "      <td>sample_579_PAG75663_CPM</td>\n",
       "      <td>Ours AD</td>\n",
       "      <td>TNFSF12-203</td>\n",
       "      <td>2.37</td>\n",
       "    </tr>\n",
       "    <tr>\n",
       "      <th>1</th>\n",
       "      <td>sample_1131_PAM44580_CPM</td>\n",
       "      <td>Ours CT</td>\n",
       "      <td>TNFSF12-203</td>\n",
       "      <td>18.14</td>\n",
       "    </tr>\n",
       "    <tr>\n",
       "      <th>2</th>\n",
       "      <td>sample_1218_PAM43779_CPM</td>\n",
       "      <td>Ours AD</td>\n",
       "      <td>TNFSF12-203</td>\n",
       "      <td>1.03</td>\n",
       "    </tr>\n",
       "    <tr>\n",
       "      <th>3</th>\n",
       "      <td>sample_1304_PAM44487_CPM</td>\n",
       "      <td>Ours CT</td>\n",
       "      <td>TNFSF12-203</td>\n",
       "      <td>19.65</td>\n",
       "    </tr>\n",
       "    <tr>\n",
       "      <th>4</th>\n",
       "      <td>sample_1271_PAM44815_CPM</td>\n",
       "      <td>Ours CT</td>\n",
       "      <td>TNFSF12-203</td>\n",
       "      <td>12.58</td>\n",
       "    </tr>\n",
       "  </tbody>\n",
       "</table>\n",
       "</div>"
      ],
      "text/plain": [
       "                  sample_id Condition     variable  value\n",
       "0   sample_579_PAG75663_CPM   Ours AD  TNFSF12-203   2.37\n",
       "1  sample_1131_PAM44580_CPM   Ours CT  TNFSF12-203  18.14\n",
       "2  sample_1218_PAM43779_CPM   Ours AD  TNFSF12-203   1.03\n",
       "3  sample_1304_PAM44487_CPM   Ours CT  TNFSF12-203  19.65\n",
       "4  sample_1271_PAM44815_CPM   Ours CT  TNFSF12-203  12.58"
      ]
     },
     "execution_count": 20,
     "metadata": {},
     "output_type": "execute_result"
    }
   ],
   "source": [
    "df_final_cpm.head()"
   ]
  },
  {
   "cell_type": "markdown",
   "id": "ca67841f",
   "metadata": {},
   "source": [
    "## Make Graphs"
   ]
  },
  {
   "cell_type": "code",
   "execution_count": 21,
   "id": "2b23d456",
   "metadata": {},
   "outputs": [],
   "source": [
    "## Set parameters for figures\n",
    "from matplotlib import rcParams\n",
    "mm = (1/25.4)\n",
    "\n",
    "# figure size in inches\n",
    "rcParams['figure.figsize'] = (85*mm, 85*mm)\n",
    "rcParams.update({'font.size': 7})\n",
    "rcParams['axes.linewidth'] = 1"
   ]
  },
  {
   "cell_type": "code",
   "execution_count": 31,
   "id": "78b09ce4",
   "metadata": {},
   "outputs": [
    {
     "data": {
      "image/png": "[encoded data removed]",
      "text/plain": [
       "<Figure size 334.646x334.646 with 1 Axes>"
      ]
     },
     "metadata": {},
     "output_type": "display_data"
    }
   ],
   "source": [
    "ax1 = sns.boxplot(df_final_relative_abundance, x=\"Condition\", y=\"value\", hue=\"variable\", \n",
    "                  palette=[ggplot2_colors[0], ggplot2_colors[4]], showfliers=False)\n",
    "\n",
    "ax2 = sns.stripplot(df_final_relative_abundance, x=\"Condition\", y=\"value\", hue=\"variable\", size=6, dodge=True,\n",
    "                   palette=[\"black\", \"grey\"], jitter=True)\n",
    "\n",
    "\n",
    "# Get the legend handles and labels for the boxplot\n",
    "handles, labels = ax1.get_legend_handles_labels()\n",
    "\n",
    "# Divide them by 2 since there will be duplicates: one for male and one for female in this case\n",
    "half_length = len(handles) // 2\n",
    "handles = handles[:half_length]\n",
    "labels = labels[:half_length]\n",
    "\n",
    "# Set the legend\n",
    "ax1.legend(handles, labels, title='Transcript name')\n",
    "\n",
    "plt.xlabel(\"\")\n",
    "plt.ylabel(\"Relative transcript abundance\")\n",
    "\n",
    "\n",
    "plt.savefig('../../../figures/1st_rebuttal_figures/TSNF12_external_validation/relative_abundance_boxplot.pdf',\n",
    "            dpi=600, transparent=True, bbox_inches=\"tight\")"
   ]
  },
  {
   "cell_type": "code",
   "execution_count": 23,
   "id": "bd78900a",
   "metadata": {},
   "outputs": [
    {
     "data": {
      "image/png": "[encoded data removed]",
      "text/plain": [
       "<Figure size 334.646x334.646 with 1 Axes>"
      ]
     },
     "metadata": {},
     "output_type": "display_data"
    }
   ],
   "source": [
    "ax1 = sns.boxplot(df_final_cpm, x=\"Condition\", y=\"value\", hue=\"variable\", \n",
    "                  palette=[ggplot2_colors[0], ggplot2_colors[4]], showfliers=False)\n",
    "\n",
    "ax2 = sns.swarmplot(df_final_cpm, x=\"Condition\", y=\"value\", hue=\"variable\", size=6, dodge=True,\n",
    "                   palette=[\"black\", \"grey\"])\n",
    "\n",
    "# Set the legend\n",
    "ax1.get_legend().remove()\n",
    "\n",
    "plt.xlabel(\"\")\n",
    "plt.ylabel(\"CPM\")\n",
    "\n",
    "plt.savefig('../../../figures/1st_rebuttal_figures/TSNF12_external_validation/CPM_boxplot.pdf',\n",
    "            dpi=600, transparent=True, bbox_inches=\"tight\")"
   ]
  },
  {
   "cell_type": "code",
   "execution_count": null,
   "id": "c66ef19e",
   "metadata": {},
   "outputs": [],
   "source": []
  }
 ],
 "metadata": {
  "kernelspec": {
   "display_name": "Python 3 (ipykernel)",
   "language": "python",
   "name": "python3"
  },
  "language_info": {
   "codemirror_mode": {
    "name": "ipython",
    "version": 3
   },
   "file_extension": ".py",
   "mimetype": "text/x-python",
   "name": "python",
   "nbconvert_exporter": "python",
   "pygments_lexer": "ipython3",
   "version": "3.10.10"
  }
 },
 "nbformat": 4,
 "nbformat_minor": 5
}
