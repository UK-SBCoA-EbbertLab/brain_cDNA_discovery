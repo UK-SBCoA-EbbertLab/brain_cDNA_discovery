{
 "cells": [
  {
   "cell_type": "markdown",
   "id": "cf950391",
   "metadata": {},
   "source": [
    "# Import libraries and define functions + Initial setup"
   ]
  },
  {
   "cell_type": "code",
   "execution_count": 1,
   "id": "efbddefc",
   "metadata": {},
   "outputs": [],
   "source": [
    "## Import Libraries\n",
    "import pandas as pd\n",
    "import numpy as np\n",
    "from matplotlib_venn import venn2, venn2_circles, venn2_unweighted\n",
    "from matplotlib_venn import venn3, venn3_circles\n",
    "from matplotlib import pyplot as plt\n",
    "%matplotlib inline\n",
    "import seaborn as sns\n",
    "from wordcloud import WordCloud\n",
    "import csv\n",
    "import os\n",
    "import glob\n",
    "\n",
    "\n",
    "## Display all rows of pandas dataframes\n",
    "pd.set_option('display.max_rows', None)\n",
    "pd.set_option('display.max_colwidth', None)"
   ]
  },
  {
   "cell_type": "code",
   "execution_count": 2,
   "id": "be76ce02",
   "metadata": {},
   "outputs": [],
   "source": [
    "'''\n",
    "name: relative_transcript_abundance\n",
    "\n",
    "purpose: calculate relative transcript abundance\n",
    "\n",
    "input: a dataframe with a ref_gene_id column identifying the transcript gene of origin and a cov columns with \n",
    "the coverage for the transcripts.\n",
    "\n",
    "output: the same dataframe with a relative abundance column added\n",
    "'''\n",
    "\n",
    "\n",
    "\n",
    "def relative_transcript_abundance(df):\n",
    "    \n",
    "    dff = df.copy()\n",
    "    \n",
    "    first=True\n",
    "    \n",
    "    for col in dff.filter(regex='sample').columns:\n",
    "        \n",
    "        col_gene_name = col + \"_total_gene_expression\"\n",
    "        col_relative_abundance = col + \"_relative_abundance\"\n",
    "    \n",
    "        dff_sums = dff[[\"gene_id\", col]].groupby(\"gene_id\").sum()\n",
    "\n",
    "        dff_sums[col_gene_name] = dff_sums[col].copy()\n",
    "\n",
    "        dff_sums.drop(columns=col, inplace=True)\n",
    "\n",
    "        if first:\n",
    "            merged_dff = pd.merge(dff, dff_sums, how='inner', on=\"gene_id\")\n",
    "            merged_dff[col_relative_abundance] = ((merged_dff[col]/merged_dff[col_gene_name]) * 100)\n",
    "            \n",
    "        else:\n",
    "            merged_dff = pd.merge(merged_dff, dff_sums, how='inner', on=\"gene_id\")\n",
    "            merged_dff[col_relative_abundance] = ((merged_dff[col]/merged_dff[col_gene_name]) * 100)\n",
    "        \n",
    "        first=False\n",
    "        \n",
    "    merged_dff.fillna(value=0, inplace=True)\n",
    "        \n",
    "    return merged_dff"
   ]
  },
  {
   "cell_type": "code",
   "execution_count": 3,
   "id": "94f624b7",
   "metadata": {},
   "outputs": [],
   "source": [
    "'''\n",
    "function name: fix_column_names\n",
    "\n",
    "purpose: Fixing the column names, making them smaller, informative, and consistent\n",
    "\n",
    "input: The raw counts dataframe for either genes or transcripts \n",
    "\n",
    "output: Same dataframe with improved column names\n",
    "'''\n",
    "\n",
    "def fix_column_names(df, is_gene=False):\n",
    "    \n",
    "    dff = df.copy()\n",
    "    \n",
    "    ## Check if this is a gene counts object\n",
    "    if is_gene:\n",
    "        \n",
    "        ## Get count column names and create list of new column names\n",
    "        count_columns = dff.columns.tolist()\n",
    "        list_new_names = [\"gene_id\"]\n",
    "        \n",
    "        ## gene_id comes in as index for gene counts data, make it into the first column instead\n",
    "        dff[\"gene_id\"] = dff.index\n",
    "        cols = list(dff.columns)\n",
    "        cols = [cols[-1]] + cols[:-1]\n",
    "        dff = dff[cols]\n",
    "        dff.reset_index(inplace=True, drop=True)\n",
    "    \n",
    "    ## If it is a transcript dataset\n",
    "    else:\n",
    "        ## Set count columns and create list of new names\n",
    "        count_columns = dff.columns[2:].tolist()\n",
    "        list_new_names = [ \"transcript_id\", \"gene_id\"]\n",
    "    \n",
    "    ## Fix names one by one and add to list of new names\n",
    "    for col in count_columns:\n",
    "        col = col.split(\"_mapped\")[0] + \"_counts\"\n",
    "        list_new_names.append(col)\n",
    "    \n",
    "    ## Rename columns\n",
    "    dff.columns = list_new_names\n",
    "    \n",
    "    return dff "
   ]
  },
  {
   "cell_type": "code",
   "execution_count": 4,
   "id": "f88fff86",
   "metadata": {},
   "outputs": [],
   "source": [
    "'''\n",
    "function name: parse_df_columns\n",
    "\n",
    "purpose: parsing the last aggregate column of the gtf/gff3 into useful columns and cleaning non-relevant columns\n",
    "\n",
    "input: dataframe containining \"raw\" gtf/gff\n",
    "\n",
    "output: dataframe containing gtf with useful columns [\"gene_id\", \"transcript_id\", etc...]\n",
    "'''\n",
    "\n",
    "def parse_df_columns(df, is_ref=True, is_transcript=False, is_prot=False, delete_other=True):\n",
    "\n",
    "    if is_ref:\n",
    "\n",
    "        ## Get gene ids\n",
    "        df[\"gene_id\"] = df[\"other\"].str.split('\";', expand=True)[0].str.extract(\"([^ \\\"]*$)\", expand=True)\n",
    "        \n",
    "        ## Get gene names\n",
    "        df[\"gene_name\"] = df[\"other\"].str.split(\"gene_name \\\"\", expand=True)[1].str.split('\\\";', expand=True)[0]\n",
    "        \n",
    "        ## Get get transcript biotype\n",
    "        df[\"gene_biotype\"] = df[\"other\"].str.split('gene_biotype \"', expand=True)[1].str.split('\"', expand=True)[0]\n",
    "        \n",
    "        ## If is transcript get transcript id and transcript biotype\n",
    "        if is_transcript:\n",
    "            df[\"transcript_id\"] = df[\"other\"].str.split('transcript_id \"', expand=True)[1].str.split('\"', expand=True)[0]\n",
    "            df[\"transcript_biotype\"] = df[\"other\"].str.split('transcript_biotype \"', expand=True)[1].str.split('\"', expand=True)[0]\n",
    "            \n",
    "            ## If is prot get protein_id\n",
    "            if is_prot:\n",
    "                df[\"protein_id\"] = df[\"other\"].str.split('protein_id \"', expand=True)[1].str.split('\"', expand=True)[0]\n",
    "                df[\"ccds_id\"] = df[\"other\"].str.split('ccds_id \"', expand=True)[1].str.split('\"', expand=True)[0]\n",
    "                df[\"exon_number\"] = df[\"other\"].str.split('exon_number \"', expand=True)[1].str.split('\"', expand=True)[0]\n",
    "\n",
    "        ## Drop \"other\" column\n",
    "        df.drop(columns=[\"other\", \"dot_1\", \"dot_2\"], inplace=True)\n",
    "        \n",
    "\n",
    "    else:\n",
    "\n",
    "        ## Get gene ids\n",
    "        df[\"gene_id\"] = df[\"other\"].str.split('\";', expand=True)[0].str.extract(\"([^ \\\"]*$)\", expand=True)\n",
    "\n",
    "        ## Get transcript ids\n",
    "        df[\"transcript_id\"] = df[\"other\"].str.split('transcript_id \"', expand=True)[1].str.split('\"', expand=True)[0]\n",
    "\n",
    "        ## Get exon number\n",
    "        df[\"exon_number\"] = df[\"other\"].str.split('exon_number \"', expand=True)[1].str.split('\"', expand=True)[0]\n",
    "\n",
    "        ## Drop \"other\" column\n",
    "        if delete_other:\n",
    "            df.drop(columns=[\"other\", \"dot_1\", \"dot_2\"], inplace=True)\n",
    "\n",
    "    for col in df.columns:\n",
    "        df.loc[df[col].isnull(), col] = np.NaN\n",
    "        \n",
    "\n",
    "    return df"
   ]
  },
  {
   "cell_type": "code",
   "execution_count": 5,
   "id": "7e75e132",
   "metadata": {},
   "outputs": [],
   "source": [
    "'''\n",
    "function name: calculate_cpm\n",
    "\n",
    "purpose: Calculate CPM for the each sample given\n",
    "\n",
    "input: Counts dataset\n",
    "\n",
    "output: Counts dataset with CPM columns as well\n",
    "'''\n",
    "\n",
    "def calculate_cpm(df, is_gene=False):\n",
    "    \n",
    "    dff = df.copy()\n",
    "\n",
    "    ## Set count columns if dataframe is gene counts\n",
    "    if is_gene:\n",
    "        count_columns = dff.columns[1:].tolist()\n",
    "    \n",
    "    ## Set count columns if dataframe is transcript counts\n",
    "    else:\n",
    "        count_columns = dff.columns[2:].tolist()\n",
    "\n",
    "    ## Loop through counts columns to calculate CPM and add to the dataframe\n",
    "    cpm_columns = {}\n",
    "\n",
    "    for col in count_columns:\n",
    "        rounded_col = round(dff[col], 2)\n",
    "        cpm_name = col.replace(\"_counts\", \"_CPM\")\n",
    "        cpm_columns[cpm_name] = round(((rounded_col/(rounded_col.sum())) * 1000000), 2)\n",
    "\n",
    "    new_data = {**dff.round(2).to_dict(orient='series'), **cpm_columns}\n",
    "    dff = pd.DataFrame(new_data)\n",
    "\n",
    "    return dff"
   ]
  },
  {
   "cell_type": "code",
   "execution_count": 6,
   "id": "da822133",
   "metadata": {},
   "outputs": [],
   "source": [
    "## define ggplot colors\n",
    "ggplot2_colors = [\"#F8766D\", \"#CD9600\", \"#7CAE00\", \"#00BE67\", \"#00BFC4\", \"#00A9FF\", \"#C77CFF\", \"#FF61CC\"]"
   ]
  },
  {
   "cell_type": "markdown",
   "id": "1ce71425",
   "metadata": {},
   "source": [
    "## Import data and pre-process"
   ]
  },
  {
   "cell_type": "code",
   "execution_count": 7,
   "id": "7f21b84f",
   "metadata": {},
   "outputs": [],
   "source": [
    "## Import data\n",
    "\n",
    "df_qpcr = pd.read_csv(\"../../../data/raw/RT-qPCR/cyc1_RT-qPCR.csv\")\n",
    "\n",
    "df_ont = pd.read_csv(\"../../../data/raw/nextflow_pipeline_output/bambu_discovery/counts_transcript.txt\", sep=\"\\t\")"
   ]
  },
  {
   "cell_type": "code",
   "execution_count": 8,
   "id": "8b20aa5d",
   "metadata": {},
   "outputs": [],
   "source": [
    "## Fix column names and calculate CPM\n",
    "df_ont = fix_column_names(df_ont, is_gene=False)\n",
    "df_ont = calculate_cpm(df_ont, is_gene=False)"
   ]
  },
  {
   "cell_type": "code",
   "execution_count": 9,
   "id": "37b69a0b",
   "metadata": {},
   "outputs": [],
   "source": [
    "## Drop counts columns\n",
    "df_ont.drop(columns=df_ont.filter(regex=\"counts\").columns, inplace=True)"
   ]
  },
  {
   "cell_type": "code",
   "execution_count": 10,
   "id": "0b727739",
   "metadata": {},
   "outputs": [],
   "source": [
    "## Rename samples from long-read sequencing\n",
    "\n",
    "for col in df_ont.columns:\n",
    "    if col.startswith(\"sample\"):\n",
    "        df_ont.rename(columns={col: col.split(\"_PA\")[0]}, inplace=True)"
   ]
  },
  {
   "cell_type": "code",
   "execution_count": 11,
   "id": "61531b14",
   "metadata": {},
   "outputs": [],
   "source": [
    "## Fix sample column\n",
    "\n",
    "df_qpcr[\"Sample\"] = \"sample_\" + df_qpcr[\"Sample \"].astype(str).str.split(\".\", expand=True)[0]\n",
    "\n",
    "df_qpcr.drop(columns=\"Sample \", inplace=True)"
   ]
  },
  {
   "cell_type": "code",
   "execution_count": 12,
   "id": "a914a4e0",
   "metadata": {},
   "outputs": [],
   "source": [
    "## Transverse qPCR dataframe\n",
    "\n",
    "df_qpcr_T = df_qpcr.drop(columns=\"Sample\").T\n",
    "df_qpcr_T.columns = df_qpcr[\"Sample\"].to_list()\n",
    "df_qpcr = df_qpcr_T.copy()"
   ]
  },
  {
   "cell_type": "code",
   "execution_count": 13,
   "id": "7589ff5e",
   "metadata": {},
   "outputs": [],
   "source": [
    "df_ont = df_ont.loc[df_ont[\"gene_id\"].isin([\"ENSG00000210082\", \"ENSG00000145217\", \"ENSG00000069535\"])].copy()"
   ]
  },
  {
   "cell_type": "code",
   "execution_count": 14,
   "id": "bf79ac28",
   "metadata": {},
   "outputs": [],
   "source": [
    "## Only keep relevant transcript on ONT data\n",
    "\n",
    "trascript_list = ['BambuTx1322',\n",
    " 'BambuTx1845',\n",
    " 'BambuTx1847',\n",
    " 'BambuTx1879',\n",
    " 'ENST00000361661',\n",
    " 'ENST00000378069',\n",
    " 'ENST00000387347',\n",
    " 'ENST00000468431',\n",
    " 'ENST00000487544',\n",
    " 'ENST00000622731']\n",
    "\n",
    "df_ont = df_ont.loc[df_ont[\"transcript_id\"].isin(trascript_list)].copy()"
   ]
  },
  {
   "cell_type": "code",
   "execution_count": 15,
   "id": "e1ac5bc0",
   "metadata": {},
   "outputs": [],
   "source": [
    "## Sort values by gene_id\n",
    "df_ont.sort_values(by=\"gene_id\", inplace=True)"
   ]
  },
  {
   "cell_type": "code",
   "execution_count": 16,
   "id": "7e80c7ea",
   "metadata": {},
   "outputs": [],
   "source": [
    "## Add gene names and create holder for combined data\n",
    "\n",
    "gene_names = [\"MAOB\", \"MAOB\", \"MAOB\", \"MAOB\", \"SLC26A1\", \"SLC26A1\", \"SLC26A1\", \"MT-RNR2\", \"MT-RNR2\", \"MT-RNR2\"]\n",
    "\n",
    "df_ont[\"gene_name\"] = gene_names\n",
    "\n",
    "df_transcript_info = df_ont[[\"gene_name\", \"gene_id\", \"transcript_id\"]].copy()\n",
    "\n",
    "df_ont.drop(columns=\"gene_name\", inplace=True)"
   ]
  },
  {
   "cell_type": "code",
   "execution_count": 17,
   "id": "5c9d5ba6",
   "metadata": {},
   "outputs": [],
   "source": [
    "## Make transcript_id a column of qPCR dataframe\n",
    "df_qpcr.reset_index(names=\"transcript_id\", inplace=True)"
   ]
  },
  {
   "cell_type": "code",
   "execution_count": 18,
   "id": "24c01050",
   "metadata": {},
   "outputs": [],
   "source": [
    "## drop gene_id in ONT dataframe\n",
    "\n",
    "df_ont.drop(columns=\"gene_id\", inplace=True)"
   ]
  },
  {
   "cell_type": "code",
   "execution_count": 19,
   "id": "e4ecfb52",
   "metadata": {},
   "outputs": [],
   "source": [
    "## Add gene name and transcript name information to dataframe\n",
    "\n",
    "df_qpcr = df_qpcr.merge(df_transcript_info, on=\"transcript_id\", how=\"inner\")\n",
    "\n",
    "df_ont = df_ont.merge(df_transcript_info, on=\"transcript_id\", how=\"inner\")"
   ]
  },
  {
   "cell_type": "code",
   "execution_count": 20,
   "id": "f658514b",
   "metadata": {},
   "outputs": [],
   "source": [
    "## Calculate relative abundance\n",
    "\n",
    "df_qpcr = relative_transcript_abundance(df_qpcr)\n",
    "\n",
    "df_ont = relative_transcript_abundance(df_ont)"
   ]
  },
  {
   "cell_type": "code",
   "execution_count": 21,
   "id": "14ab943c",
   "metadata": {},
   "outputs": [],
   "source": [
    "## Create melted dataframe for ONT\n",
    "\n",
    "drop_columns_ont =  df_ont.filter(regex=\"total\").columns.to_list()\n",
    "\n",
    "drop_columns_ont = drop_columns_ont + [\"sample_579\",\"sample_1131\", \"sample_1218\", \"sample_1304\", \n",
    "                                                        \"sample_1271\", \"sample_5356\", \"sample_1163\", \"sample_5295\", \n",
    "                                                        \"sample_5292\", \"sample_1092\", \"sample_1186\", \"sample_1291\"]\n",
    "\n",
    "\n",
    "df_ont_melted = df_ont.drop(columns=drop_columns_ont)\n",
    "\n",
    "df_ont_melted = df_ont_melted.melt(id_vars=['gene_id', \"gene_name\", \"transcript_id\"],\n",
    "                                   var_name='Sample', value_name='relative_abundance')"
   ]
  },
  {
   "cell_type": "code",
   "execution_count": 22,
   "id": "cc5d2f5c",
   "metadata": {},
   "outputs": [],
   "source": [
    "## Create melted dataframe for qpcr\n",
    "\n",
    "drop_columns_qpcr =  df_qpcr.filter(regex=\"total\").columns.to_list()\n",
    "\n",
    "drop_columns_qpcr = drop_columns_qpcr + [\"sample_579\",\"sample_1131\", \"sample_1218\", \"sample_1304\", \n",
    "                                                        \"sample_1271\", \"sample_1163\", \"sample_5295\", \n",
    "                                                        \"sample_1291\"]\n",
    "\n",
    "\n",
    "df_qpcr_melted = df_qpcr.drop(columns=drop_columns_qpcr)\n",
    "\n",
    "df_qpcr_melted = df_qpcr_melted.melt(id_vars=['gene_id', \"gene_name\", \"transcript_id\"],\n",
    "                                   var_name='Sample', value_name='relative_abundance')"
   ]
  },
  {
   "cell_type": "code",
   "execution_count": 23,
   "id": "2af236c4",
   "metadata": {},
   "outputs": [],
   "source": [
    "## Define technologies\n",
    "\n",
    "df_ont_melted[\"technology\"] = \"Long-reads\"\n",
    "\n",
    "df_qpcr_melted[\"technology\"] = \"RT-qPCR\""
   ]
  },
  {
   "cell_type": "code",
   "execution_count": 24,
   "id": "16c678cf",
   "metadata": {},
   "outputs": [],
   "source": [
    "## Create final dataframe\n",
    "final_df = pd.concat([df_ont_melted, df_qpcr_melted])"
   ]
  },
  {
   "cell_type": "code",
   "execution_count": 25,
   "id": "1ed369f7",
   "metadata": {},
   "outputs": [],
   "source": [
    "## Differentiate between known and new RNA isoforms\n",
    "\n",
    "final_df.loc[final_df[\"transcript_id\"].str.startswith(\"Bambu\"), \"Isoform\"] = \" new isoform(s)\"\n",
    "final_df.loc[~(final_df[\"transcript_id\"].str.startswith(\"Bambu\")), \"Isoform\"] = \" known isoform(s)\"\n",
    "\n",
    "final_df[\"Isoform\"] = final_df[\"gene_name\"] + final_df[\"Isoform\"]"
   ]
  },
  {
   "cell_type": "code",
   "execution_count": 26,
   "id": "563623fb",
   "metadata": {},
   "outputs": [],
   "source": [
    "## Add known and new RNA isoform relative abundance from each gene\n",
    "\n",
    "final_df2 = final_df[[\"Isoform\", \"Sample\", \"gene_name\", \"technology\", \"relative_abundance\"]\n",
    "                    ].groupby([\"Isoform\", \"Sample\", \"gene_name\", \"technology\"]).sum().reset_index()"
   ]
  },
  {
   "cell_type": "code",
   "execution_count": 27,
   "id": "e6c8519e",
   "metadata": {},
   "outputs": [],
   "source": [
    "## Create specific dataframe for each gene\n",
    "\n",
    "final_df_maob = final_df2.loc[final_df2[\"gene_name\"] == \"MAOB\"].copy()\n",
    "\n",
    "final_df_slc26a1 = final_df2.loc[final_df2[\"gene_name\"] == \"SLC26A1\"].copy()\n",
    "\n",
    "final_df_mt = final_df2.loc[final_df2[\"gene_name\"] == \"MT-RNR2\"].copy()"
   ]
  },
  {
   "cell_type": "markdown",
   "id": "5a10e91a",
   "metadata": {},
   "source": [
    "## Make plots"
   ]
  },
  {
   "cell_type": "code",
   "execution_count": 28,
   "id": "b867eef0",
   "metadata": {},
   "outputs": [],
   "source": [
    "## Set parameters for figures\n",
    "from matplotlib import rcParams\n",
    "mm = (1/25.4)\n",
    "\n",
    "# figure size in millimiters\n",
    "rcParams['figure.figsize'] = (90*mm, 60*mm)\n",
    "rcParams.update({'font.size': 7})\n",
    "rcParams['axes.linewidth'] = 1"
   ]
  },
  {
   "cell_type": "code",
   "execution_count": 29,
   "id": "12de50d8",
   "metadata": {},
   "outputs": [
    {
     "data": {
      "image/png": "[encoded data removed]",
      "text/plain": [
       "<Figure size 354.331x236.22 with 1 Axes>"
      ]
     },
     "metadata": {},
     "output_type": "display_data"
    }
   ],
   "source": [
    "ax1 = sns.boxplot(final_df_maob, x=\"Isoform\", y=\"relative_abundance\", hue=\"technology\", fliersize=0, \n",
    "                  palette=[ggplot2_colors[0], ggplot2_colors[4]])\n",
    "\n",
    "ax2 = sns.stripplot(final_df_maob, x=\"Isoform\", y=\"relative_abundance\", hue=\"technology\", dodge=True,\n",
    "             palette=[\"black\", \"grey\"], jitter=True, size=4)\n",
    "\n",
    "plt.ylabel(\"Relative Abundance (%)\")\n",
    "plt.xlabel(\"\")\n",
    "\n",
    "plt.savefig(\"../../../figures/1st_rebuttal_figures/RT-qPCR/MAOB.pdf\", dpi=600, transparent=True, bbox_inches=\"tight\")"
   ]
  },
  {
   "cell_type": "code",
   "execution_count": 32,
   "id": "d89b671a",
   "metadata": {},
   "outputs": [
    {
     "data": {
      "image/png": "[encoded data removed]",
      "text/plain": [
       "<Figure size 354.331x236.22 with 1 Axes>"
      ]
     },
     "metadata": {},
     "output_type": "display_data"
    }
   ],
   "source": [
    "ax1 = sns.boxplot(final_df_slc26a1, x=\"Isoform\", y=\"relative_abundance\", hue=\"technology\", fliersize=0,\n",
    "                 palette=[ggplot2_colors[0], ggplot2_colors[4]])\n",
    "\n",
    "ax2 = sns.stripplot(final_df_slc26a1, x=\"Isoform\", y=\"relative_abundance\", hue=\"technology\", dodge=True,\n",
    "             palette=[\"black\", \"grey\"], jitter=True, size=4)\n",
    "\n",
    "plt.ylabel(\"Relative Abundance (%)\")\n",
    "plt.xlabel(\"\")\n",
    "plt.legend(\"\")\n",
    "\n",
    "plt.savefig(\"../../../figures/1st_rebuttal_figures/RT-qPCR/SLC26A1.pdf\", dpi=600, transparent=True, bbox_inches=\"tight\")"
   ]
  },
  {
   "cell_type": "code",
   "execution_count": 33,
   "id": "d6132716",
   "metadata": {},
   "outputs": [
    {
     "data": {
      "image/png": "[encoded data removed]",
      "text/plain": [
       "<Figure size 354.331x236.22 with 1 Axes>"
      ]
     },
     "metadata": {},
     "output_type": "display_data"
    }
   ],
   "source": [
    "ax1 = sns.boxplot(final_df_mt, x=\"Isoform\", y=\"relative_abundance\", hue=\"technology\", fliersize=0,\n",
    "                 palette=[ggplot2_colors[0], ggplot2_colors[4]])\n",
    "\n",
    "\n",
    "ax2 = sns.stripplot(final_df_mt, x=\"Isoform\", y=\"relative_abundance\", hue=\"technology\", dodge=True,\n",
    "             palette=[\"black\", \"grey\"], jitter=True, size=4)\n",
    "\n",
    "plt.ylabel(\"Relative Abundance (%)\")\n",
    "plt.xlabel(\"\")\n",
    "plt.legend(\"\")\n",
    "\n",
    "plt.savefig(\"../../../figures/1st_rebuttal_figures/RT-qPCR/MT-RNR2.pdf\", dpi=600, transparent=True, bbox_inches=\"tight\")"
   ]
  }
 ],
 "metadata": {
  "kernelspec": {
   "display_name": "Python 3 (ipykernel)",
   "language": "python",
   "name": "python3"
  },
  "language_info": {
   "codemirror_mode": {
    "name": "ipython",
    "version": 3
   },
   "file_extension": ".py",
   "mimetype": "text/x-python",
   "name": "python",
   "nbconvert_exporter": "python",
   "pygments_lexer": "ipython3",
   "version": "3.10.10"
  }
 },
 "nbformat": 4,
 "nbformat_minor": 5
}
