{
 "cells": [
  {
   "cell_type": "markdown",
   "id": "d9928c02",
   "metadata": {},
   "source": [
    "# Import libraries and define functions + Initial setup"
   ]
  },
  {
   "cell_type": "code",
   "execution_count": 1,
   "id": "2e7c2845",
   "metadata": {},
   "outputs": [],
   "source": [
    "## Import Libraries\n",
    "import pandas as pd\n",
    "import numpy as np\n",
    "from matplotlib_venn import venn2, venn2_circles, venn2_unweighted\n",
    "from matplotlib_venn import venn3, venn3_circles\n",
    "from matplotlib import pyplot as plt\n",
    "%matplotlib inline\n",
    "import seaborn as sns\n",
    "from wordcloud import WordCloud\n",
    "import csv\n",
    "\n",
    "\n",
    "## Display all rows of pandas dataframes\n",
    "pd.set_option('display.max_rows', None)\n",
    "pd.set_option('display.max_colwidth', None)"
   ]
  },
  {
   "cell_type": "code",
   "execution_count": 2,
   "id": "f27e634a",
   "metadata": {},
   "outputs": [],
   "source": [
    "'''\n",
    "name: relative_transcript_abundance\n",
    "\n",
    "purpose: calculate relative transcript abundance\n",
    "\n",
    "input: a dataframe with a ref_gene_id column identifying the transcript gene of origin and a cov columns with \n",
    "the coverage for the transcripts.\n",
    "\n",
    "output: the same dataframe with a relative abundance column added\n",
    "'''\n",
    "\n",
    "\n",
    "\n",
    "def relative_transcript_abundance(df):\n",
    "    \n",
    "    ## Group by gene_id and get total expression for each gene (not counting introns)\n",
    "    df_sums = df[[\"gene_id\", \"total_CPM\"]].groupby(\"gene_id\").sum()\n",
    "    df_sums[\"total_CPM_gene\"] = df_sums[\"total_CPM\"]\n",
    "    df_sums.drop(columns=\"total_CPM\", inplace=True)\n",
    "    \n",
    "    ## Merge dataframe with total gene level CPM with regular transcript level CPM dataframe\n",
    "    merged_df = pd.merge(df, df_sums, how='inner', on=\"gene_id\")\n",
    "    \n",
    "    ## Calculater relative percent abundance for each transcript within its gene\n",
    "    merged_df[\"relative_abundance_percent\"] = ((merged_df[\"total_CPM\"]/merged_df[\"total_CPM_gene\"]) * 100)\n",
    "    \n",
    "    ## Rename total_CPM for transcript column\n",
    "    merged_df[\"total_CPM_transcript\"] = merged_df[\"total_CPM\"]\n",
    "    merged_df.drop(columns=\"total_CPM\", inplace=True)\n",
    "\n",
    "\n",
    "    return merged_df"
   ]
  },
  {
   "cell_type": "code",
   "execution_count": 3,
   "id": "a6446e95",
   "metadata": {},
   "outputs": [],
   "source": [
    "'''\n",
    "function name: fix_column_names\n",
    "\n",
    "purpose: Fixing the column names, making them smaller, informative, and consistent\n",
    "\n",
    "input: The raw counts dataframe for either genes or transcripts \n",
    "\n",
    "output: Same dataframe with improved column names\n",
    "'''\n",
    "\n",
    "def fix_column_names(df, is_gene=False):\n",
    "    \n",
    "    ## Check if this is a gene counts object\n",
    "    if is_gene:\n",
    "        \n",
    "        ## Get count column names and create list of new column names\n",
    "        count_columns = df.columns.tolist()\n",
    "        list_new_names = [\"gene_id\"]\n",
    "        \n",
    "        ## gene_id comes in as index for gene counts data, make it into the first column instead\n",
    "        df[\"gene_id\"] = df.index\n",
    "        cols = list(df.columns)\n",
    "        cols = [cols[-1]] + cols[:-1]\n",
    "        df = df[cols]\n",
    "        df.reset_index(inplace=True, drop=True)\n",
    "    \n",
    "    ## If it is a transcript dataset\n",
    "    else:\n",
    "        ## Set count columns and create list of new names\n",
    "        count_columns = df.columns[2:].tolist()\n",
    "        list_new_names = [ \"transcript_id\", \"gene_id\"]\n",
    "    \n",
    "    ## Fix names one by one and add to list of new names\n",
    "    for col in count_columns:\n",
    "        col = col.split(\"_mapped\")[0] + \"_counts\"\n",
    "        list_new_names.append(col)\n",
    "    \n",
    "    ## Rename columns\n",
    "    df.columns = list_new_names\n",
    "    \n",
    "    return df "
   ]
  },
  {
   "cell_type": "code",
   "execution_count": 4,
   "id": "143176a3",
   "metadata": {},
   "outputs": [],
   "source": [
    "'''\n",
    "function name: parse_df_columns\n",
    "\n",
    "purpose: parsing the last aggregate column of the gtf/gff3 into useful columns and cleaning non-relevant columns\n",
    "\n",
    "input: dataframe containining \"raw\" gtf/gff\n",
    "\n",
    "output: dataframe containing gtf with useful columns [\"gene_id\", \"transcript_id\", etc...]\n",
    "'''\n",
    "\n",
    "def parse_df_columns(df, is_ref=True, is_transcript=False, is_prot=False, delete_other=True):\n",
    "\n",
    "    if is_ref:\n",
    "\n",
    "        ## Get gene ids\n",
    "        df[\"gene_id\"] = df[\"other\"].str.split('\";', expand=True)[0].str.extract(\"([^ \\\"]*$)\", expand=True)\n",
    "        \n",
    "        ## Get gene names\n",
    "        df[\"gene_name\"] = df[\"other\"].str.split(\"gene_name \\\"\", expand=True)[1].str.split('\\\";', expand=True)[0]\n",
    "        \n",
    "        ## Get get transcript biotype\n",
    "        df[\"gene_biotype\"] = df[\"other\"].str.split('gene_biotype \"', expand=True)[1].str.split('\"', expand=True)[0]\n",
    "        \n",
    "        ## If is transcript get transcript id and transcript biotype\n",
    "        if is_transcript:\n",
    "            df[\"transcript_id\"] = df[\"other\"].str.split('transcript_id \"', expand=True)[1].str.split('\"', expand=True)[0]\n",
    "            df[\"transcript_biotype\"] = df[\"other\"].str.split('transcript_biotype \"', expand=True)[1].str.split('\"', expand=True)[0]\n",
    "            \n",
    "            ## If is prot get protein_id\n",
    "            if is_prot:\n",
    "                df[\"protein_id\"] = df[\"other\"].str.split('protein_id \"', expand=True)[1].str.split('\"', expand=True)[0]\n",
    "                df[\"ccds_id\"] = df[\"other\"].str.split('ccds_id \"', expand=True)[1].str.split('\"', expand=True)[0]\n",
    "                df[\"exon_number\"] = df[\"other\"].str.split('exon_number \"', expand=True)[1].str.split('\"', expand=True)[0]\n",
    "\n",
    "        ## Drop \"other\" column\n",
    "        df.drop(columns=[\"other\", \"dot_1\", \"dot_2\"], inplace=True)\n",
    "        \n",
    "\n",
    "    else:\n",
    "\n",
    "        ## Get gene ids\n",
    "        df[\"gene_id\"] = df[\"other\"].str.split('\";', expand=True)[0].str.extract(\"([^ \\\"]*$)\", expand=True)\n",
    "\n",
    "        ## Get transcript ids\n",
    "        df[\"transcript_id\"] = df[\"other\"].str.split('transcript_id \"', expand=True)[1].str.split('\"', expand=True)[0]\n",
    "\n",
    "        ## Get exon number\n",
    "        df[\"exon_number\"] = df[\"other\"].str.split('exon_number \"', expand=True)[1].str.split('\"', expand=True)[0]\n",
    "\n",
    "        ## Drop \"other\" column\n",
    "        if delete_other:\n",
    "            df.drop(columns=[\"other\", \"dot_1\", \"dot_2\"], inplace=True)\n",
    "\n",
    "    for col in df.columns:\n",
    "        df.loc[df[col].isnull(), col] = np.NaN\n",
    "        \n",
    "\n",
    "    return df"
   ]
  },
  {
   "cell_type": "code",
   "execution_count": 5,
   "id": "b1117a08",
   "metadata": {},
   "outputs": [],
   "source": [
    "'''\n",
    "function name: calculate_cpm\n",
    "\n",
    "purpose: Calculate CPM for the each sample given\n",
    "\n",
    "input: Counts dataset\n",
    "\n",
    "output: Counts dataset with CPM columns as well\n",
    "'''\n",
    "\n",
    "def calculate_cpm(df, is_gene=False):\n",
    "\n",
    "    ## Set count columns if dataframe is gene counts\n",
    "    if is_gene:\n",
    "        count_columns = df.columns[1:].tolist()\n",
    "    \n",
    "    ## Set count columns if dataframe is transcript counts\n",
    "    else:\n",
    "        count_columns = df.columns[2:].tolist()\n",
    "\n",
    "    ## Loop through counts columns to calculate CPM and add to the dataframe\n",
    "    for col in count_columns:\n",
    "        \n",
    "        df[col] = round(df[col], 2)\n",
    "        cpm_name = col.replace(\"_counts\", \"_CPM\")\n",
    "        df[cpm_name] = round(((df[col]/(df[col].sum())) * 1000000), 2)\n",
    "    \n",
    "    return df  "
   ]
  },
  {
   "cell_type": "code",
   "execution_count": 6,
   "id": "2bb2cbe6",
   "metadata": {},
   "outputs": [],
   "source": [
    "## define ggplot colors\n",
    "ggplot2_colors = [\"#F8766D\", \"#CD9600\", \"#7CAE00\", \"#00BE67\", \"#00BFC4\", \"#00A9FF\", \"#C77CFF\", \"#FF61CC\"]"
   ]
  },
  {
   "cell_type": "markdown",
   "id": "1ea63e4a",
   "metadata": {},
   "source": [
    "## - Read matrices and make graphs"
   ]
  },
  {
   "cell_type": "code",
   "execution_count": 7,
   "id": "dd45f083",
   "metadata": {},
   "outputs": [],
   "source": [
    "## Read matrices\n",
    "\n",
    "df_2 = pd.read_csv(\"../../../data/raw/1st_rebuttal_data/OURS_GRCh38-107_discovery_subsample_0.2/bambu_discovery/counts_transcript.txt\",\n",
    "                      sep=\"\\t\")\n",
    "\n",
    "df_4 = pd.read_csv(\"../../../data/raw/1st_rebuttal_data/OURS_GRCh38-107_discovery_subsample_0.4/bambu_discovery/counts_transcript.txt\",\n",
    "                      sep=\"\\t\")\n",
    "\n",
    "df_6 = pd.read_csv(\"../../../data/raw/1st_rebuttal_data/OURS_GRCh38-107_discovery_subsample_0.6/bambu_discovery/counts_transcript.txt\",\n",
    "                      sep=\"\\t\")\n",
    "\n",
    "df_8 = pd.read_csv(\"../../../data/raw/1st_rebuttal_data/OURS_GRCh38-107_discovery_subsample_0.8/bambu_discovery/counts_transcript.txt\",\n",
    "                      sep=\"\\t\")\n",
    "\n",
    "df_10 = pd.read_csv(\"../../../data/raw/nextflow_pipeline_output/bambu_discovery/counts_transcript.txt\",\n",
    "                      sep=\"\\t\")"
   ]
  },
  {
   "cell_type": "code",
   "execution_count": 8,
   "id": "5612f7aa",
   "metadata": {},
   "outputs": [],
   "source": [
    "## Fix column names\n",
    "\n",
    "df_2 = fix_column_names(df_2, is_gene=False)\n",
    "df_4 = fix_column_names(df_4, is_gene=False)\n",
    "df_6 = fix_column_names(df_6, is_gene=False)\n",
    "df_8 = fix_column_names(df_8, is_gene=False)\n",
    "df_10 = fix_column_names(df_10, is_gene=False)"
   ]
  },
  {
   "cell_type": "code",
   "execution_count": 9,
   "id": "bb3a28fa",
   "metadata": {},
   "outputs": [],
   "source": [
    "## Load references\n",
    "\n",
    "ref_2 = pd.read_csv(\"../../../data/raw/1st_rebuttal_data/OURS_GRCh38-107_discovery_subsample_0.2/bambu_discovery/extended_annotations.gtf\", header=None, delimiter=\"\\t\",\n",
    "                        low_memory=False, comment=\"#\", names=[\"chr\", \"source\", \"type\", \"start\", \"end\", \"dot_1\", \"strand\", \"dot_2\", \"other\"])\n",
    "ref_2 = parse_df_columns(ref_2, is_ref=False)\n",
    "ref_2 = ref_2.loc[ref_2[\"type\"] == \"transcript\"][[\"transcript_id\", \"chr\"]].copy()\n",
    "\n",
    "\n",
    "ref_4 = pd.read_csv(\"../../../data/raw/1st_rebuttal_data/OURS_GRCh38-107_discovery_subsample_0.4/bambu_discovery/extended_annotations.gtf\", header=None, delimiter=\"\\t\",\n",
    "                        low_memory=False, comment=\"#\", names=[\"chr\", \"source\", \"type\", \"start\", \"end\", \"dot_1\", \"strand\", \"dot_2\", \"other\"])\n",
    "ref_4 = parse_df_columns(ref_4, is_ref=False)\n",
    "ref_4 = ref_4.loc[ref_4[\"type\"] == \"transcript\"][[\"transcript_id\", \"chr\"]].copy()\n",
    "\n",
    "\n",
    "ref_6 = pd.read_csv(\"../../../data/raw/1st_rebuttal_data/OURS_GRCh38-107_discovery_subsample_0.6/bambu_discovery/extended_annotations.gtf\", header=None, delimiter=\"\\t\",\n",
    "                        low_memory=False, comment=\"#\", names=[\"chr\", \"source\", \"type\", \"start\", \"end\", \"dot_1\", \"strand\", \"dot_2\", \"other\"])\n",
    "ref_6 = parse_df_columns(ref_6, is_ref=False)\n",
    "ref_6 = ref_6.loc[ref_6[\"type\"] == \"transcript\"][[\"transcript_id\", \"chr\"]].copy()\n",
    "\n",
    "\n",
    "ref_8 = pd.read_csv(\"../../../data/raw/1st_rebuttal_data/OURS_GRCh38-107_discovery_subsample_0.8/bambu_discovery/extended_annotations.gtf\", header=None, delimiter=\"\\t\",\n",
    "                        low_memory=False, comment=\"#\", names=[\"chr\", \"source\", \"type\", \"start\", \"end\", \"dot_1\", \"strand\", \"dot_2\", \"other\"])\n",
    "ref_8 = parse_df_columns(ref_8, is_ref=False)\n",
    "ref_8 = ref_8.loc[ref_8[\"type\"] == \"transcript\"][[\"transcript_id\", \"chr\"]].copy()\n",
    "\n",
    "\n",
    "ref_10 = pd.read_csv(\"../../../data/raw/nextflow_pipeline_output/bambu_discovery/extended_annotations.gtf\", header=None, delimiter=\"\\t\",\n",
    "                        low_memory=False, comment=\"#\", names=[\"chr\", \"source\", \"type\", \"start\", \"end\", \"dot_1\", \"strand\", \"dot_2\", \"other\"])\n",
    "ref_10 = parse_df_columns(ref_10, is_ref=False)\n",
    "ref_10 = ref_10.loc[ref_10[\"type\"] == \"transcript\"][[\"transcript_id\", \"chr\"]].copy()"
   ]
  },
  {
   "cell_type": "code",
   "execution_count": 10,
   "id": "50efa755",
   "metadata": {},
   "outputs": [],
   "source": [
    "## Add chromosome information\n",
    "\n",
    "df_2 = df_2.merge(ref_2, on=\"transcript_id\", how=\"inner\")\n",
    "\n",
    "df_4 = df_4.merge(ref_4, on=\"transcript_id\", how=\"inner\")\n",
    "\n",
    "df_6 = df_6.merge(ref_6, on=\"transcript_id\", how=\"inner\")\n",
    "\n",
    "df_8 = df_8.merge(ref_8, on=\"transcript_id\", how=\"inner\")\n",
    "\n",
    "df_10 = df_10.merge(ref_10, on=\"transcript_id\", how=\"inner\")"
   ]
  },
  {
   "cell_type": "code",
   "execution_count": 11,
   "id": "88473a4c",
   "metadata": {},
   "outputs": [],
   "source": [
    "## Calculate numbers\n",
    "\n",
    "all_2 = df_2.loc[df_2[\"transcript_id\"].str.startswith(\"Bambu\")].shape[0]\n",
    "nfk_2 = df_2.loc[((~df_2[\"gene_id\"].str.startswith(\"Bambu\")) & (df_2[\"transcript_id\"].str.startswith(\"Bambu\")))].shape[0]\n",
    "nfn_2 = df_2.loc[df_2[\"gene_id\"].str.startswith(\"Bambu\")].shape[0]\n",
    "nfm_2 = df_2.loc[((df_2[\"transcript_id\"].str.startswith(\"Bambu\")) & (df_2[\"chr\"] == \"MT\"))].shape[0]\n",
    "\n",
    "all_4 = df_4.loc[df_4[\"transcript_id\"].str.startswith(\"Bambu\")].shape[0]\n",
    "nfk_4 = df_4.loc[((~df_4[\"gene_id\"].str.startswith(\"Bambu\")) & (df_4[\"transcript_id\"].str.startswith(\"Bambu\")))].shape[0]\n",
    "nfn_4 = df_4.loc[df_4[\"gene_id\"].str.startswith(\"Bambu\")].shape[0]\n",
    "nfm_4 = df_4.loc[((df_4[\"transcript_id\"].str.startswith(\"Bambu\")) & (df_4[\"chr\"] == \"MT\"))].shape[0]\n",
    "\n",
    "all_6 = df_6.loc[df_6[\"transcript_id\"].str.startswith(\"Bambu\")].shape[0]\n",
    "nfk_6 = df_6.loc[((~df_6[\"gene_id\"].str.startswith(\"Bambu\")) & (df_6[\"transcript_id\"].str.startswith(\"Bambu\")))].shape[0]\n",
    "nfn_6 = df_6.loc[df_6[\"gene_id\"].str.startswith(\"Bambu\")].shape[0]\n",
    "nfm_6 = df_6.loc[((df_6[\"transcript_id\"].str.startswith(\"Bambu\")) & (df_6[\"chr\"] == \"MT\"))].shape[0]\n",
    "\n",
    "all_8 = df_8.loc[df_8[\"transcript_id\"].str.startswith(\"Bambu\")].shape[0]\n",
    "nfk_8 = df_8.loc[((~df_8[\"gene_id\"].str.startswith(\"Bambu\")) & (df_8[\"transcript_id\"].str.startswith(\"Bambu\")))].shape[0]\n",
    "nfn_8 = df_8.loc[df_8[\"gene_id\"].str.startswith(\"Bambu\")].shape[0]\n",
    "nfm_8 = df_8.loc[((df_8[\"transcript_id\"].str.startswith(\"Bambu\")) & (df_8[\"chr\"] == \"MT\"))].shape[0]\n",
    "\n",
    "all_10 = df_10.loc[df_10[\"transcript_id\"].str.startswith(\"Bambu\")].shape[0]\n",
    "nfk_10 = df_10.loc[((~df_10[\"gene_id\"].str.startswith(\"Bambu\")) & (df_10[\"transcript_id\"].str.startswith(\"Bambu\")))].shape[0]\n",
    "nfn_10 = df_10.loc[df_10[\"gene_id\"].str.startswith(\"Bambu\")].shape[0]\n",
    "nfm_10 = df_10.loc[((df_10[\"transcript_id\"].str.startswith(\"Bambu\")) & (df_10[\"chr\"] == \"MT\"))].shape[0]"
   ]
  },
  {
   "cell_type": "code",
   "execution_count": 12,
   "id": "ca531a3c",
   "metadata": {},
   "outputs": [
    {
     "name": "stdout",
     "output_type": "stream",
     "text": [
      "All new transcripts for 20% subsamples: 1053\n",
      "New transcripts from known genes for 20% subsamples: 490\n",
      "New transcripts from new genes for 20% subsamples: 563\n",
      "New mitochondrially encoded spliced transcripts for 20% subsamples: 5\n"
     ]
    }
   ],
   "source": [
    "print(\"All new transcripts for 20% subsamples:\", all_2)\n",
    "print(\"New transcripts from known genes for 20% subsamples:\", nfk_2)\n",
    "print(\"New transcripts from new genes for 20% subsamples:\", nfn_2)\n",
    "print(\"New mitochondrially encoded spliced transcripts for 20% subsamples:\", nfm_2)"
   ]
  },
  {
   "cell_type": "code",
   "execution_count": 13,
   "id": "d86a6536",
   "metadata": {},
   "outputs": [
    {
     "name": "stdout",
     "output_type": "stream",
     "text": [
      "All new transcripts for 40% subsamples: 1779\n",
      "New transcripts from known genes for 40% subsamples: 832\n",
      "New transcripts from new genes for 40% subsamples: 947\n",
      "New mitochondrially encoded spliced transcripts for 40% subsamples: 17\n"
     ]
    }
   ],
   "source": [
    "print(\"All new transcripts for 40% subsamples:\", all_4)\n",
    "print(\"New transcripts from known genes for 40% subsamples:\", nfk_4)\n",
    "print(\"New transcripts from new genes for 40% subsamples:\", nfn_4)\n",
    "print(\"New mitochondrially encoded spliced transcripts for 40% subsamples:\", nfm_4)"
   ]
  },
  {
   "cell_type": "code",
   "execution_count": 14,
   "id": "a73d728d",
   "metadata": {},
   "outputs": [
    {
     "name": "stdout",
     "output_type": "stream",
     "text": [
      "All new transcripts for 60% subsamples: 2385\n",
      "New transcripts from known genes for 60% subsamples: 1074\n",
      "New transcripts from new genes for 60% subsamples: 1311\n",
      "New mitochondrially encoded spliced transcripts for 60% subsamples: 19\n"
     ]
    }
   ],
   "source": [
    "print(\"All new transcripts for 60% subsamples:\", all_6)\n",
    "print(\"New transcripts from known genes for 60% subsamples:\", nfk_6)\n",
    "print(\"New transcripts from new genes for 60% subsamples:\", nfn_6)\n",
    "print(\"New mitochondrially encoded spliced transcripts for 60% subsamples:\", nfm_6)"
   ]
  },
  {
   "cell_type": "code",
   "execution_count": 15,
   "id": "32b95e8a",
   "metadata": {},
   "outputs": [
    {
     "name": "stdout",
     "output_type": "stream",
     "text": [
      "All new transcripts for 80% subsamples: 2985\n",
      "New transcripts from known genes for 80% subsamples: 1367\n",
      "New transcripts from new genes for 80% subsample: 1618\n",
      "New mitochondrially encoded spliced transcripts for 80% subsamples: 22\n"
     ]
    }
   ],
   "source": [
    "print(\"All new transcripts for 80% subsamples:\", all_8)\n",
    "print(\"New transcripts from known genes for 80% subsamples:\", nfk_8)\n",
    "print(\"New transcripts from new genes for 80% subsample:\", nfn_8)\n",
    "print(\"New mitochondrially encoded spliced transcripts for 80% subsamples:\", nfm_8)"
   ]
  },
  {
   "cell_type": "code",
   "execution_count": 16,
   "id": "66518d28",
   "metadata": {},
   "outputs": [
    {
     "name": "stdout",
     "output_type": "stream",
     "text": [
      "All new transcripts for full samples: 3429\n",
      "New transcripts from known genes for full samples: 1568\n",
      "New transcripts from new genes for full samples: 1861\n",
      "New mitochondrially encoded spliced transcripts for full samples: 34\n"
     ]
    }
   ],
   "source": [
    "print(\"All new transcripts for full samples:\", all_10)\n",
    "print(\"New transcripts from known genes for full samples:\", nfk_10)\n",
    "print(\"New transcripts from new genes for full samples:\", nfn_10)\n",
    "print(\"New mitochondrially encoded spliced transcripts for full samples:\", nfm_10)"
   ]
  },
  {
   "cell_type": "code",
   "execution_count": 17,
   "id": "1453c63e",
   "metadata": {},
   "outputs": [],
   "source": [
    "## Create dataframe to make plots\n",
    "\n",
    "data = {\"Number of transcripts\": [nfk_2, nfn_2, nfm_2,\n",
    "                                 nfk_4, nfn_4, nfm_4,\n",
    "                                 nfk_6, nfn_6, nfm_6,\n",
    "                                 nfk_8, nfn_8, nfm_8,\n",
    "                                 nfk_10, nfn_10, nfm_10],\n",
    "       \n",
    "       \"Discovery type\": [\"New from known\", \"New from new\", \"New from mito\",\n",
    "                         \"New from known\", \"New from new\", \"New from mito\",\n",
    "                         \"New from known\", \"New from new\", \"New from mito\",\n",
    "                         \"New from known\", \"New from new\", \"New from mito\",\n",
    "                         \"New from known\", \"New from new\", \"New from mito\",],\n",
    "       \n",
    "       \"Subsampling percentage\": [\"20%\", \"20%\", \"20%\",\n",
    "                                 \"40%\", \"40%\", \"40%\",\n",
    "                                \"60%\", \"60%\", \"60%\",\n",
    "                                 \"80%\", \"80%\", \"80%\",\n",
    "                                 \"100%\", \"100%\", \"100%\"]}\n",
    "\n",
    "\n",
    "df_plot = pd.DataFrame(data=data)"
   ]
  },
  {
   "cell_type": "code",
   "execution_count": 18,
   "id": "d066a3e2",
   "metadata": {},
   "outputs": [],
   "source": [
    "## Set parameters for figures\n",
    "from matplotlib import rcParams\n",
    "mm = (1/25.4)\n",
    "\n",
    "# figure size in millimiters\n",
    "rcParams['figure.figsize'] = (170*mm, 90*mm)\n",
    "rcParams.update({'font.size': 7})\n",
    "rcParams['axes.linewidth'] = 1"
   ]
  },
  {
   "cell_type": "code",
   "execution_count": 20,
   "id": "e9a0d99d",
   "metadata": {
    "scrolled": true
   },
   "outputs": [
    {
     "data": {
      "image/png": "[encoded data removed]",
      "text/plain": [
       "<Figure size 669.291x354.331 with 1 Axes>"
      ]
     },
     "metadata": {},
     "output_type": "display_data"
    }
   ],
   "source": [
    "## Make no filter countsplot and save\n",
    "\n",
    "ax = sns.barplot(y=\"Subsampling percentage\", x='Number of transcripts', hue='Discovery type', data=df_plot, orient='h',\n",
    "                  palette=[ggplot2_colors[4], ggplot2_colors[0], ggplot2_colors[6]],\n",
    "                  hue_order=[\"New from new\", \"New from known\", \"New from mito\"])\n",
    "\n",
    "\n",
    "plt.xlim(0,2000)\n",
    "\n",
    "# Adding labels to each bar\n",
    "for p in ax.patches:\n",
    "    \n",
    "    ax.annotate(f'{int(p.get_width())}', \n",
    "                (p.get_x() + p.get_width(), p.get_y() + p.get_height()/2), \n",
    "                ha='center', va='center', \n",
    "                xytext=(10, 0), \n",
    "                textcoords='offset points',\n",
    "                fontsize=7)\n",
    "    \n",
    "plt.ylabel(\"Subsampling percentage\")\n",
    "plt.xlabel(\"Number of new transcripts discovered with Bambu\")\n",
    "\n",
    "plt.savefig('../../../figures/1st_rebuttal_figures/discovery_saturation_point/barplot_saturation_point.pdf',\n",
    "            dpi=600, transparent=True, bbox_inches=\"tight\")"
   ]
  }
 ],
 "metadata": {
  "kernelspec": {
   "display_name": "Python 3 (ipykernel)",
   "language": "python",
   "name": "python3"
  },
  "language_info": {
   "codemirror_mode": {
    "name": "ipython",
    "version": 3
   },
   "file_extension": ".py",
   "mimetype": "text/x-python",
   "name": "python",
   "nbconvert_exporter": "python",
   "pygments_lexer": "ipython3",
   "version": "3.10.10"
  }
 },
 "nbformat": 4,
 "nbformat_minor": 5
}
