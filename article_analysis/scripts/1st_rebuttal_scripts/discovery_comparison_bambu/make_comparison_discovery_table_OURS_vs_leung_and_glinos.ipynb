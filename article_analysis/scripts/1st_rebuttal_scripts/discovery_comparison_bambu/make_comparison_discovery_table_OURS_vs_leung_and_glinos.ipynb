{
 "cells": [
  {
   "cell_type": "markdown",
   "id": "d9928c02",
   "metadata": {},
   "source": [
    "# Import libraries and define functions + Initial setup"
   ]
  },
  {
   "cell_type": "code",
   "execution_count": 1,
   "id": "2e7c2845",
   "metadata": {},
   "outputs": [],
   "source": [
    "## Import Libraries\n",
    "import pandas as pd\n",
    "import numpy as np\n",
    "from matplotlib_venn import venn2, venn2_circles, venn2_unweighted\n",
    "from matplotlib_venn import venn3, venn3_circles\n",
    "from matplotlib import pyplot as plt\n",
    "%matplotlib inline\n",
    "import seaborn as sns\n",
    "from wordcloud import WordCloud\n",
    "import csv\n",
    "\n",
    "\n",
    "## Display all rows of pandas dataframes\n",
    "pd.set_option('display.max_rows', None)\n",
    "pd.set_option('display.max_colwidth', None)"
   ]
  },
  {
   "cell_type": "code",
   "execution_count": 2,
   "id": "f27e634a",
   "metadata": {},
   "outputs": [],
   "source": [
    "'''\n",
    "name: relative_transcript_abundance\n",
    "\n",
    "purpose: calculate relative transcript abundance\n",
    "\n",
    "input: a dataframe with a ref_gene_id column identifying the transcript gene of origin and a cov columns with \n",
    "the coverage for the transcripts.\n",
    "\n",
    "output: the same dataframe with a relative abundance column added\n",
    "'''\n",
    "\n",
    "\n",
    "\n",
    "def relative_transcript_abundance(df):\n",
    "    \n",
    "    ## Group by gene_id and get total expression for each gene (not counting introns)\n",
    "    df_sums = df[[\"gene_id\", \"total_CPM\"]].groupby(\"gene_id\").sum()\n",
    "    df_sums[\"total_CPM_gene\"] = df_sums[\"total_CPM\"]\n",
    "    df_sums.drop(columns=\"total_CPM\", inplace=True)\n",
    "    \n",
    "    ## Merge dataframe with total gene level CPM with regular transcript level CPM dataframe\n",
    "    merged_df = pd.merge(df, df_sums, how='inner', on=\"gene_id\")\n",
    "    \n",
    "    ## Calculater relative percent abundance for each transcript within its gene\n",
    "    merged_df[\"relative_abundance_percent\"] = ((merged_df[\"total_CPM\"]/merged_df[\"total_CPM_gene\"]) * 100)\n",
    "    \n",
    "    ## Rename total_CPM for transcript column\n",
    "    merged_df[\"total_CPM_transcript\"] = merged_df[\"total_CPM\"]\n",
    "    merged_df.drop(columns=\"total_CPM\", inplace=True)\n",
    "\n",
    "\n",
    "    return merged_df"
   ]
  },
  {
   "cell_type": "code",
   "execution_count": 3,
   "id": "a6446e95",
   "metadata": {},
   "outputs": [],
   "source": [
    "'''\n",
    "function name: fix_column_names\n",
    "\n",
    "purpose: Fixing the column names, making them smaller, informative, and consistent\n",
    "\n",
    "input: The raw counts dataframe for either genes or transcripts \n",
    "\n",
    "output: Same dataframe with improved column names\n",
    "'''\n",
    "\n",
    "def fix_column_names(df, is_gene=False):\n",
    "    \n",
    "    ## Check if this is a gene counts object\n",
    "    if is_gene:\n",
    "        \n",
    "        ## Get count column names and create list of new column names\n",
    "        count_columns = df.columns.tolist()\n",
    "        list_new_names = [\"gene_id\"]\n",
    "        \n",
    "        ## gene_id comes in as index for gene counts data, make it into the first column instead\n",
    "        df[\"gene_id\"] = df.index\n",
    "        cols = list(df.columns)\n",
    "        cols = [cols[-1]] + cols[:-1]\n",
    "        df = df[cols]\n",
    "        df.reset_index(inplace=True, drop=True)\n",
    "    \n",
    "    ## If it is a transcript dataset\n",
    "    else:\n",
    "        ## Set count columns and create list of new names\n",
    "        count_columns = df.columns[2:].tolist()\n",
    "        list_new_names = [ \"transcript_id\", \"gene_id\"]\n",
    "    \n",
    "    ## Fix names one by one and add to list of new names\n",
    "    for col in count_columns:\n",
    "        col = col.split(\"_mapped\")[0] + \"_counts\"\n",
    "        list_new_names.append(col)\n",
    "    \n",
    "    ## Rename columns\n",
    "    df.columns = list_new_names\n",
    "    \n",
    "    return df "
   ]
  },
  {
   "cell_type": "code",
   "execution_count": 4,
   "id": "143176a3",
   "metadata": {},
   "outputs": [],
   "source": [
    "'''\n",
    "function name: parse_df_columns\n",
    "\n",
    "purpose: parsing the last aggregate column of the gtf/gff3 into useful columns and cleaning non-relevant columns\n",
    "\n",
    "input: dataframe containining \"raw\" gtf/gff\n",
    "\n",
    "output: dataframe containing gtf with useful columns [\"gene_id\", \"transcript_id\", etc...]\n",
    "'''\n",
    "\n",
    "def parse_df_columns(df, is_ref=True, is_transcript=False, is_prot=False, delete_other=True):\n",
    "\n",
    "    if is_ref:\n",
    "\n",
    "        ## Get gene ids\n",
    "        df[\"gene_id\"] = df[\"other\"].str.split('\";', expand=True)[0].str.extract(\"([^ \\\"]*$)\", expand=True)\n",
    "        \n",
    "        ## Get gene names\n",
    "        df[\"gene_name\"] = df[\"other\"].str.split(\"gene_name \\\"\", expand=True)[1].str.split('\\\";', expand=True)[0]\n",
    "        \n",
    "        ## Get get transcript biotype\n",
    "        df[\"gene_biotype\"] = df[\"other\"].str.split('gene_biotype \"', expand=True)[1].str.split('\"', expand=True)[0]\n",
    "        \n",
    "        ## If is transcript get transcript id and transcript biotype\n",
    "        if is_transcript:\n",
    "            df[\"transcript_id\"] = df[\"other\"].str.split('transcript_id \"', expand=True)[1].str.split('\"', expand=True)[0]\n",
    "            df[\"transcript_biotype\"] = df[\"other\"].str.split('transcript_biotype \"', expand=True)[1].str.split('\"', expand=True)[0]\n",
    "            \n",
    "            ## If is prot get protein_id\n",
    "            if is_prot:\n",
    "                df[\"protein_id\"] = df[\"other\"].str.split('protein_id \"', expand=True)[1].str.split('\"', expand=True)[0]\n",
    "                df[\"ccds_id\"] = df[\"other\"].str.split('ccds_id \"', expand=True)[1].str.split('\"', expand=True)[0]\n",
    "                df[\"exon_number\"] = df[\"other\"].str.split('exon_number \"', expand=True)[1].str.split('\"', expand=True)[0]\n",
    "\n",
    "        ## Drop \"other\" column\n",
    "        df.drop(columns=[\"other\", \"dot_1\", \"dot_2\"], inplace=True)\n",
    "        \n",
    "\n",
    "    else:\n",
    "\n",
    "        ## Get gene ids\n",
    "        df[\"gene_id\"] = df[\"other\"].str.split('\";', expand=True)[0].str.extract(\"([^ \\\"]*$)\", expand=True)\n",
    "\n",
    "        ## Get transcript ids\n",
    "        df[\"transcript_id\"] = df[\"other\"].str.split('transcript_id \"', expand=True)[1].str.split('\"', expand=True)[0]\n",
    "\n",
    "        ## Get exon number\n",
    "        df[\"exon_number\"] = df[\"other\"].str.split('exon_number \"', expand=True)[1].str.split('\"', expand=True)[0]\n",
    "\n",
    "        ## Drop \"other\" column\n",
    "        if delete_other:\n",
    "            df.drop(columns=[\"other\", \"dot_1\", \"dot_2\"], inplace=True)\n",
    "\n",
    "    for col in df.columns:\n",
    "        df.loc[df[col].isnull(), col] = np.NaN\n",
    "        \n",
    "\n",
    "    return df"
   ]
  },
  {
   "cell_type": "code",
   "execution_count": 5,
   "id": "b1117a08",
   "metadata": {},
   "outputs": [],
   "source": [
    "'''\n",
    "function name: calculate_cpm\n",
    "\n",
    "purpose: Calculate CPM for the each sample given\n",
    "\n",
    "input: Counts dataset\n",
    "\n",
    "output: Counts dataset with CPM columns as well\n",
    "'''\n",
    "\n",
    "def calculate_cpm(df, is_gene=False):\n",
    "\n",
    "    ## Set count columns if dataframe is gene counts\n",
    "    if is_gene:\n",
    "        count_columns = df.columns[1:].tolist()\n",
    "    \n",
    "    ## Set count columns if dataframe is transcript counts\n",
    "    else:\n",
    "        count_columns = df.columns[2:].tolist()\n",
    "\n",
    "    ## Loop through counts columns to calculate CPM and add to the dataframe\n",
    "    for col in count_columns:\n",
    "        \n",
    "        df[col] = round(df[col], 2)\n",
    "        cpm_name = col.replace(\"_counts\", \"_CPM\")\n",
    "        df[cpm_name] = round(((df[col]/(df[col].sum())) * 1000000), 2)\n",
    "    \n",
    "    return df  "
   ]
  },
  {
   "cell_type": "code",
   "execution_count": 6,
   "id": "2bb2cbe6",
   "metadata": {},
   "outputs": [],
   "source": [
    "## define ggplot colors\n",
    "ggplot2_colors = [\"#F8766D\", \"#CD9600\", \"#7CAE00\", \"#00BE67\", \"#00BFC4\", \"#00A9FF\", \"#C77CFF\", \"#FF61CC\"]"
   ]
  },
  {
   "cell_type": "markdown",
   "id": "cd411c5a",
   "metadata": {},
   "source": [
    "## - Read references"
   ]
  },
  {
   "cell_type": "code",
   "execution_count": 7,
   "id": "59f349db",
   "metadata": {},
   "outputs": [],
   "source": [
    "## Open original reference\n",
    "original_ref = pd.read_csv(\"../../../references/Homo_sapiens.GRCh38.107_ERCC.gtf\", header=None, delimiter=\"\\t\", low_memory=False, \n",
    "                       names=[\"chr\", \"source\", \"type\", \"start\", \"end\", \"dot_1\", \"strand\", \"dot_2\", \"other\"], comment=\"#\")\n",
    "\n",
    "original_ref = original_ref.loc[~original_ref[\"chr\"].str.startswith(\"ERCC-\")]\n",
    "\n",
    "## Parse through reference to get gene names and ids\n",
    "orig_ref = original_ref.loc[original_ref[\"type\"]==\"gene\"].copy()\n",
    "orig_ref = parse_df_columns(orig_ref, is_ref=True)"
   ]
  },
  {
   "cell_type": "code",
   "execution_count": 8,
   "id": "990e0068",
   "metadata": {},
   "outputs": [],
   "source": [
    "## Import and parse through extended annotations\n",
    "ref = pd.read_csv(\"../../../data/raw/nextflow_pipeline_output/bambu_discovery/extended_annotations.gtf\", header=None, delimiter=\"\\t\",\n",
    "                        low_memory=False, comment=\"#\", names=[\"chr\", \"source\", \"type\", \"start\", \"end\", \"dot_1\", \"strand\", \"dot_2\", \"other\"])\n",
    "\n",
    "ref = ref.loc[~ref[\"chr\"].str.startswith(\"ERCC-\")]\n",
    "\n",
    "ref = parse_df_columns(ref, is_ref=False)\n",
    "\n",
    "ref_transcripts = ref.loc[ref[\"type\"] == \"transcript\"].copy()"
   ]
  },
  {
   "cell_type": "code",
   "execution_count": 9,
   "id": "e23351d7",
   "metadata": {},
   "outputs": [],
   "source": [
    "## Create Category for transcripts and store values\n",
    "\n",
    "ref_transcripts = ref_transcripts.loc[ref_transcripts[\"transcript_id\"].str.startswith(\"BambuTx\")].copy()\n",
    "\n",
    "ref_transcripts.loc[ref_transcripts[\"gene_id\"].str.startswith(\"BambuGene\"), \"discovery_type\"] = \"New transcript from new gene body\"\n",
    "ref_transcripts.loc[~(ref_transcripts[\"gene_id\"].str.startswith(\"BambuGene\")), \"discovery_type\"] = \"New transcript from known gene body\"\n",
    "ref_transcripts.loc[ref_transcripts[\"chr\"] == \"MT\", \"discovery_type\"] = \"New mitochondrially encoded spliced transcript\""
   ]
  },
  {
   "cell_type": "markdown",
   "id": "f26b3e89",
   "metadata": {},
   "source": [
    "## - Make output table"
   ]
  },
  {
   "cell_type": "code",
   "execution_count": 10,
   "id": "d1bfbad2",
   "metadata": {},
   "outputs": [],
   "source": [
    "## Download data\n",
    "\n",
    "leung = pd.read_csv(\"../../../data/processed/1st_rebuttal/discovery_comparison_bambu/tracking_files/OURS_ALL_vs_leung.tracking\", sep=\"\\t\", header=None, usecols=[2,3,4],\n",
    "                         names=[\"leung_name\", \"category\", \"our_name\"])\n",
    "\n",
    "glinos = pd.read_csv(\"../../../data/processed/1st_rebuttal/discovery_comparison_bambu/tracking_files/OURS_ALL_vs_glinos.tracking\", sep=\"\\t\", header=None, usecols=[2,3,4],\n",
    "                         names=[\"glinos_name\", \"category\", \"our_name\"])"
   ]
  },
  {
   "cell_type": "code",
   "execution_count": 11,
   "id": "0b4977ea",
   "metadata": {},
   "outputs": [],
   "source": [
    "## Was same transcript idenpendently discovered in Glinos or Leung paper?\n",
    "\n",
    "leung.loc[leung[\"category\"] == \"=\", \"is_in_leung\"] = True\n",
    "leung.loc[~(leung[\"category\"] == \"=\"), \"is_in_leung\"] = False\n",
    "\n",
    "glinos.loc[glinos[\"category\"] == \"=\", \"is_in_glinos\"] = True\n",
    "glinos.loc[~(glinos[\"category\"] == \"=\"), \"is_in_glinos\"] = False"
   ]
  },
  {
   "cell_type": "code",
   "execution_count": 12,
   "id": "f088fd9d",
   "metadata": {},
   "outputs": [],
   "source": [
    "## Drop category column\n",
    "leung.drop(columns=\"category\", inplace=True)\n",
    "glinos.drop(columns=\"category\", inplace=True)"
   ]
  },
  {
   "cell_type": "code",
   "execution_count": 13,
   "id": "fa609797",
   "metadata": {},
   "outputs": [],
   "source": [
    "## Merge dataframes\n",
    "df = leung.merge(glinos, on=\"our_name\", how=\"inner\")"
   ]
  },
  {
   "cell_type": "code",
   "execution_count": 14,
   "id": "53204962",
   "metadata": {},
   "outputs": [],
   "source": [
    "## Create gene_id and transcript_id\n",
    "df[\"gene_id\"] = df[\"our_name\"].str.split(\":\", expand=True)[1].str.split(\"|\", expand=True)[0]\n",
    "df[\"transcript_id\"] = df[\"our_name\"].str.split(\":\", expand=True)[1].str.split(\"|\", expand=True)[1]\n",
    "\n",
    "## Drop our name\n",
    "df.drop(columns=\"our_name\", inplace=True)"
   ]
  },
  {
   "cell_type": "code",
   "execution_count": 15,
   "id": "82564b76",
   "metadata": {},
   "outputs": [],
   "source": [
    "## Create flag to determine if transcript is in either, or in both\n",
    "df.loc[((df[\"is_in_leung\"] == True) & (df[\"is_in_glinos\"] == True)), \"is_in_both\"] = True\n",
    "df.loc[~((df[\"is_in_leung\"] == True) & (df[\"is_in_glinos\"] == True)), \"is_in_both\"] = False\n",
    "\n",
    "df.loc[((df[\"is_in_leung\"] == True) | (df[\"is_in_glinos\"] == True)), \"is_in_either\"] = True\n",
    "df.loc[~((df[\"is_in_leung\"] == True) | (df[\"is_in_glinos\"] == True)), \"is_in_either\"] = False"
   ]
  },
  {
   "cell_type": "code",
   "execution_count": 16,
   "id": "3d1da185",
   "metadata": {},
   "outputs": [],
   "source": [
    "## Import high-confidence annotation\n",
    "high_confidence_annotation = pd.read_csv(\"../../../references/high_confidence_transcripts.tsv\", sep=\"\\t\")"
   ]
  },
  {
   "cell_type": "code",
   "execution_count": 17,
   "id": "dc957c63",
   "metadata": {},
   "outputs": [],
   "source": [
    "## Annotate high-confidence transcripts\n",
    "df.loc[df[\"transcript_id\"].isin(high_confidence_annotation[\"transcript_id\"]), \"is_high-confidence\"] = True\n",
    "df.loc[~(df[\"transcript_id\"].isin(high_confidence_annotation[\"transcript_id\"])), \"is_high-confidence\"] = False"
   ]
  },
  {
   "cell_type": "code",
   "execution_count": 18,
   "id": "be5d9b1b",
   "metadata": {},
   "outputs": [],
   "source": [
    "## Add gene name and chromosome\n",
    "df = df.merge(orig_ref[[\"gene_id\", \"gene_name\", \"chr\"]], on=\"gene_id\", how=\"left\")\n",
    "df['gene_name'].fillna(df['gene_id'], inplace=True)"
   ]
  },
  {
   "cell_type": "code",
   "execution_count": 19,
   "id": "022ecfbe",
   "metadata": {},
   "outputs": [],
   "source": [
    "## Add type of new transcript\n",
    "df = df.merge(ref_transcripts[[\"transcript_id\", \"discovery_type\"]], on=\"transcript_id\", how=\"inner\")"
   ]
  },
  {
   "cell_type": "code",
   "execution_count": 20,
   "id": "5b54ae46",
   "metadata": {},
   "outputs": [
    {
     "data": {
      "text/plain": [
       "Index(['leung_name', 'is_in_leung', 'glinos_name', 'is_in_glinos', 'gene_id',\n",
       "       'transcript_id', 'is_in_both', 'is_in_either', 'is_high-confidence',\n",
       "       'gene_name', 'chr', 'discovery_type'],\n",
       "      dtype='object')"
      ]
     },
     "execution_count": 20,
     "metadata": {},
     "output_type": "execute_result"
    }
   ],
   "source": [
    "df.columns"
   ]
  },
  {
   "cell_type": "code",
   "execution_count": 21,
   "id": "9bbcf6e0",
   "metadata": {},
   "outputs": [],
   "source": [
    "## Reorder columns\n",
    "df = df[['chr', 'gene_id', 'gene_name', 'transcript_id', \"leung_name\", \"glinos_name\", \"is_in_glinos\", \"is_in_leung\",\n",
    "         \"is_in_either\", \"is_in_both\", \"is_high-confidence\", \"discovery_type\"]].copy()"
   ]
  },
  {
   "cell_type": "code",
   "execution_count": 22,
   "id": "30211251",
   "metadata": {},
   "outputs": [],
   "source": [
    "## Save file\n",
    "df.to_csv(\"../../../data/processed/1st_rebuttal/discovery_comparison_bambu/ours_ALL_vs_glinos_and_leung.tsv\",\n",
    "                               sep=\"\\t\", index=False)"
   ]
  },
  {
   "cell_type": "markdown",
   "id": "413bc64e",
   "metadata": {},
   "source": [
    "## - Open tracking data"
   ]
  },
  {
   "cell_type": "code",
   "execution_count": 23,
   "id": "a9295678",
   "metadata": {},
   "outputs": [],
   "source": [
    "## Open data\n",
    "dff = pd.read_csv(\"../../../data/processed/1st_rebuttal/discovery_comparison_bambu/ours_ALL_vs_glinos_and_leung.tsv\",\n",
    "                               sep=\"\\t\")"
   ]
  },
  {
   "cell_type": "code",
   "execution_count": 24,
   "id": "53161a6e",
   "metadata": {},
   "outputs": [],
   "source": [
    "## Number of new transcripts, high-confidence & no filter (all)\n",
    "all_number_ours = dff.shape[0]\n",
    "\n",
    "hf_number_ours = dff.loc[dff[\"is_high-confidence\"] == True].shape[0]"
   ]
  },
  {
   "cell_type": "code",
   "execution_count": 25,
   "id": "5eb21408",
   "metadata": {},
   "outputs": [],
   "source": [
    "## Number of transcripts in glinos, leung, in both, and in neither\n",
    "number_all_three = dff.loc[dff[\"is_in_both\"] == True].shape[0]\n",
    "\n",
    "number_leung_and_ours = dff.loc[dff[\"is_in_leung\"] == True].shape[0]\n",
    "\n",
    "number_glinos_and_ours = dff.loc[dff[\"is_in_glinos\"] == True].shape[0]\n",
    "only_ours = dff.loc[dff[\"is_in_either\"] == False].shape[0]\n",
    "is_in_either = dff.loc[dff[\"is_in_either\"] == True].shape[0]\n",
    "\n",
    "number_in_ours_not_in_glinos = dff.loc[dff[\"is_in_glinos\"] == False].shape[0]\n",
    "number_in_ours_not_in_leung = dff.loc[dff[\"is_in_leung\"] == False].shape[0]"
   ]
  },
  {
   "cell_type": "code",
   "execution_count": 26,
   "id": "8ac075d8",
   "metadata": {},
   "outputs": [],
   "source": [
    "## Create high-confidence data frame\n",
    "dff_hf = dff.loc[dff[\"is_high-confidence\"] == True].copy()"
   ]
  },
  {
   "cell_type": "code",
   "execution_count": 27,
   "id": "fc190bdb",
   "metadata": {},
   "outputs": [],
   "source": [
    "## Number of transcripts in glinos, leung, in both, and in neither\n",
    "number_all_three_hf = dff_hf.loc[dff_hf[\"is_in_both\"] == True].shape[0]\n",
    "\n",
    "number_leung_and_ours_hf = dff_hf.loc[dff_hf[\"is_in_leung\"] == True].shape[0]\n",
    "\n",
    "number_glinos_and_ours_hf = dff_hf.loc[dff_hf[\"is_in_glinos\"] == True].shape[0]\n",
    "only_ours_hf = dff_hf.loc[dff_hf[\"is_in_either\"] == False].shape[0]\n",
    "is_in_either_hf = dff_hf.loc[dff[\"is_in_either\"] == True].shape[0]\n",
    "\n",
    "number_in_ours_not_in_glinos_hf = dff_hf.loc[dff_hf[\"is_in_glinos\"] == False].shape[0]\n",
    "number_in_ours_not_in_leung_hf = dff_hf.loc[dff_hf[\"is_in_leung\"] == False].shape[0]"
   ]
  },
  {
   "cell_type": "code",
   "execution_count": 28,
   "id": "93029970",
   "metadata": {},
   "outputs": [],
   "source": [
    "## Number of transcripts in glinos, leung, in both, and in neither\n",
    "dff_nfk= dff.loc[dff[\"discovery_type\"] == \"New transcript from known gene body\"].copy()\n",
    "\n",
    "\n",
    "number_all_three_nfk = dff_nfk.loc[dff_nfk[\"is_in_both\"] == True].shape[0]\n",
    "\n",
    "number_leung_and_ours_nfk = dff_nfk.loc[dff_nfk[\"is_in_leung\"] == True].shape[0]\n",
    "\n",
    "number_glinos_and_ours_nfk = dff_nfk.loc[dff_nfk[\"is_in_glinos\"] == True].shape[0]\n",
    "only_ours_nfk = dff_nfk.loc[dff_nfk[\"is_in_either\"] == False].shape[0]\n",
    "is_in_either_nfk = dff_nfk.loc[dff_nfk[\"is_in_either\"] == True].shape[0]\n",
    "\n",
    "number_in_ours_not_in_glinos_nfk = dff_nfk.loc[dff_nfk[\"is_in_glinos\"] == False].shape[0]\n",
    "number_in_ours_not_in_leung_nfk = dff_nfk.loc[dff_nfk[\"is_in_leung\"] == False].shape[0]\n",
    "\n",
    "\n",
    "## Create high-confidence data frame\n",
    "dff_nfk_hf = dff_nfk.loc[dff_nfk[\"is_high-confidence\"] == True].copy()\n",
    "\n",
    "## Number of transcripts in glinos, leung, in both, and in neither\n",
    "number_all_three_hf_nfk = dff_nfk_hf.loc[dff_nfk_hf[\"is_in_both\"] == True].shape[0]\n",
    "\n",
    "number_leung_and_ours_hf_nfk = dff_nfk_hf.loc[dff_nfk_hf[\"is_in_leung\"] == True].shape[0]\n",
    "\n",
    "number_glinos_and_ours_hf_nfk = dff_nfk_hf.loc[dff_nfk_hf[\"is_in_glinos\"] == True].shape[0]\n",
    "only_ours_hf_nfk = dff_nfk_hf.loc[dff_nfk_hf[\"is_in_either\"] == False].shape[0]\n",
    "is_in_either_hf_nfk = dff_nfk_hf.loc[dff_nfk[\"is_in_either\"] == True].shape[0]\n",
    "\n",
    "number_in_ours_not_in_glinos_hf_nfk = dff_nfk_hf.loc[dff_nfk_hf[\"is_in_glinos\"] == False].shape[0]\n",
    "number_in_ours_not_in_leung_hf_nfk = dff_nfk_hf.loc[dff_nfk_hf[\"is_in_leung\"] == False].shape[0]"
   ]
  },
  {
   "cell_type": "code",
   "execution_count": 29,
   "id": "94416b03",
   "metadata": {},
   "outputs": [],
   "source": [
    "## Number of transcripts in glinos, leung, in both, and in neither\n",
    "dff_nfn= dff.loc[dff[\"discovery_type\"] == \"New transcript from new gene body\"].copy()\n",
    "\n",
    "\n",
    "number_all_three_nfn = dff_nfn.loc[dff_nfn[\"is_in_both\"] == True].shape[0]\n",
    "\n",
    "number_leung_and_ours_nfn = dff_nfn.loc[dff_nfn[\"is_in_leung\"] == True].shape[0]\n",
    "\n",
    "number_glinos_and_ours_nfn = dff_nfn.loc[dff_nfn[\"is_in_glinos\"] == True].shape[0]\n",
    "only_ours_nfn = dff_nfn.loc[dff_nfn[\"is_in_either\"] == False].shape[0]\n",
    "is_in_either_nfn = dff_nfn.loc[dff_nfn[\"is_in_either\"] == True].shape[0]\n",
    "\n",
    "number_in_ours_not_in_glinos_nfn = dff_nfn.loc[dff_nfn[\"is_in_glinos\"] == False].shape[0]\n",
    "number_in_ours_not_in_leung_nfn = dff_nfn.loc[dff_nfn[\"is_in_leung\"] == False].shape[0]\n",
    "\n",
    "\n",
    "## Create high-confidence data frame\n",
    "dff_nfn_hf = dff_nfn.loc[dff_nfn[\"is_high-confidence\"] == True].copy()\n",
    "\n",
    "## Number of transcripts in glinos, leung, in both, and in neither\n",
    "number_all_three_hf_nfn = dff_nfn_hf.loc[dff_nfn_hf[\"is_in_both\"] == True].shape[0]\n",
    "\n",
    "number_leung_and_ours_hf_nfn = dff_nfn_hf.loc[dff_nfn_hf[\"is_in_leung\"] == True].shape[0]\n",
    "\n",
    "number_glinos_and_ours_hf_nfn = dff_nfn_hf.loc[dff_nfn_hf[\"is_in_glinos\"] == True].shape[0]\n",
    "only_ours_hf_nfn = dff_nfn_hf.loc[dff_nfn_hf[\"is_in_either\"] == False].shape[0]\n",
    "is_in_either_hf_nfn = dff_nfn_hf.loc[dff_nfn[\"is_in_either\"] == True].shape[0]\n",
    "\n",
    "number_in_ours_not_in_glinos_hf_nfn = dff_nfn_hf.loc[dff_nfn_hf[\"is_in_glinos\"] == False].shape[0]\n",
    "number_in_ours_not_in_leung_hf_nfn = dff_nfn_hf.loc[dff_nfn_hf[\"is_in_leung\"] == False].shape[0]"
   ]
  },
  {
   "cell_type": "code",
   "execution_count": 30,
   "id": "322a11df",
   "metadata": {},
   "outputs": [],
   "source": [
    "## Number of transcripts in glinos, leung, in both, and in neither\n",
    "dff_nfm= dff.loc[dff[\"discovery_type\"] == \"New mitochondrially encoded spliced transcript\"].copy()\n",
    "\n",
    "\n",
    "number_all_three_nfm = dff_nfm.loc[dff_nfm[\"is_in_both\"] == True].shape[0]\n",
    "\n",
    "number_leung_and_ours_nfm = dff_nfm.loc[dff_nfm[\"is_in_leung\"] == True].shape[0]\n",
    "\n",
    "number_glinos_and_ours_nfm = dff_nfm.loc[dff_nfm[\"is_in_glinos\"] == True].shape[0]\n",
    "only_ours_nfm = dff_nfm.loc[dff_nfm[\"is_in_either\"] == False].shape[0]\n",
    "is_in_either_nfm = dff_nfm.loc[dff_nfm[\"is_in_either\"] == True].shape[0]\n",
    "\n",
    "number_in_ours_not_in_glinos_nfm = dff_nfm.loc[dff_nfm[\"is_in_glinos\"] == False].shape[0]\n",
    "number_in_ours_not_in_leung_nfm = dff_nfm.loc[dff_nfm[\"is_in_leung\"] == False].shape[0]\n",
    "\n",
    "\n",
    "## Create high-confidence data frame\n",
    "dff_nfm_hf = dff_nfm.loc[dff_nfm[\"is_high-confidence\"] == True].copy()\n",
    "\n",
    "## Number of transcripts in glinos, leung, in both, and in neither\n",
    "number_all_three_hf_nfm = dff_nfm_hf.loc[dff_nfm_hf[\"is_in_both\"] == True].shape[0]\n",
    "\n",
    "number_leung_and_ours_hf_nfm = dff_nfm_hf.loc[dff_nfm_hf[\"is_in_leung\"] == True].shape[0]\n",
    "\n",
    "number_glinos_and_ours_hf_nfm = dff_nfm_hf.loc[dff_nfm_hf[\"is_in_glinos\"] == True].shape[0]\n",
    "only_ours_hf_nfm = dff_nfm_hf.loc[dff_nfm_hf[\"is_in_either\"] == False].shape[0]\n",
    "is_in_either_hf_nfm = dff_nfm_hf.loc[dff_nfm[\"is_in_either\"] == True].shape[0]\n",
    "\n",
    "number_in_ours_not_in_glinos_hf_nfm = dff_nfm_hf.loc[dff_nfm_hf[\"is_in_glinos\"] == False].shape[0]\n",
    "number_in_ours_not_in_leung_hf_nfm = dff_nfm_hf.loc[dff_nfm_hf[\"is_in_leung\"] == False].shape[0]"
   ]
  },
  {
   "cell_type": "markdown",
   "id": "1886adda",
   "metadata": {},
   "source": [
    "## - Display results (All transcripts)"
   ]
  },
  {
   "cell_type": "code",
   "execution_count": 31,
   "id": "ec46b6b6",
   "metadata": {},
   "outputs": [
    {
     "name": "stdout",
     "output_type": "stream",
     "text": [
      "In ours (no filter) total: 3428\n",
      "In ours (no filter) and in leung: 150\n",
      "Only in ours: 3278\n",
      "\n",
      "Percentage ours (No filter) validated in leung: 4.4%\n"
     ]
    }
   ],
   "source": [
    "print(\"In ours (no filter) total:\", ref_transcripts.shape[0])\n",
    "print(\"In ours (no filter) and in leung:\", number_leung_and_ours)\n",
    "print(\"Only in ours:\", number_in_ours_not_in_leung)\n",
    "print()\n",
    "print(\"Percentage ours (No filter) validated in leung:\", str(round((number_leung_and_ours/ref_transcripts.shape[0])*100, 1)) + \"%\")"
   ]
  },
  {
   "cell_type": "code",
   "execution_count": 32,
   "id": "c1a31d3c",
   "metadata": {},
   "outputs": [
    {
     "name": "stdout",
     "output_type": "stream",
     "text": [
      "In ours (high-confidence) total: 700\n",
      "In ours (high-confidence) and in leung: 103\n",
      "Only in ours: 597\n",
      "\n",
      "Percentage ours (high-confidence) validated in leung: 14.7%\n"
     ]
    }
   ],
   "source": [
    "print(\"In ours (high-confidence) total:\", 700)\n",
    "print(\"In ours (high-confidence) and in leung:\", number_leung_and_ours_hf)\n",
    "print(\"Only in ours:\", number_in_ours_not_in_leung_hf)\n",
    "print()\n",
    "print(\"Percentage ours (high-confidence) validated in leung:\", str(round((number_leung_and_ours_hf/700)*100, 1)) + \"%\")"
   ]
  },
  {
   "cell_type": "code",
   "execution_count": 33,
   "id": "f3bf0701",
   "metadata": {},
   "outputs": [
    {
     "name": "stdout",
     "output_type": "stream",
     "text": [
      "In ours (no filter) total: 3428\n",
      "In ours (no filter) and in glinos: 65\n",
      "Only in ours: 635\n",
      "\n",
      "Percentage ours (no filter) validated in glinos: 3.6%\n"
     ]
    }
   ],
   "source": [
    "print(\"In ours (no filter) total:\", ref_transcripts.shape[0])\n",
    "print(\"In ours (no filter) and in glinos:\", number_glinos_and_ours_hf)\n",
    "print(\"Only in ours:\", number_in_ours_not_in_glinos_hf)\n",
    "print()\n",
    "print(\"Percentage ours (no filter) validated in glinos:\", str(round((number_glinos_and_ours/ref_transcripts.shape[0])*100, 1)) + \"%\")"
   ]
  },
  {
   "cell_type": "code",
   "execution_count": 34,
   "id": "4f6616e5",
   "metadata": {},
   "outputs": [
    {
     "name": "stdout",
     "output_type": "stream",
     "text": [
      "In ours (high-confidence) total: 700\n",
      "In ours (high-confidence) and in glinos: 65\n",
      "Only in ours: 635\n",
      "\n",
      "Percentage ours (high-confidence) validated in glinos: 9.3%\n"
     ]
    }
   ],
   "source": [
    "print(\"In ours (high-confidence) total:\", 700)\n",
    "print(\"In ours (high-confidence) and in glinos:\", number_glinos_and_ours_hf)\n",
    "print(\"Only in ours:\", number_in_ours_not_in_glinos_hf)\n",
    "print()\n",
    "print(\"Percentage ours (high-confidence) validated in glinos:\", str(round((number_glinos_and_ours_hf/700)*100, 1)) + \"%\")"
   ]
  },
  {
   "cell_type": "code",
   "execution_count": 35,
   "id": "8f6a4634",
   "metadata": {},
   "outputs": [
    {
     "name": "stdout",
     "output_type": "stream",
     "text": [
      "In either (no filter) 229\n",
      "Only in all three (no filter): 45\n",
      "\n",
      "Percentage ours (no filter) validated in either: 6.7%\n",
      "Percentage ours (no filter) validated in both: 1.3%\n"
     ]
    }
   ],
   "source": [
    "print(\"In either (no filter)\", is_in_either)\n",
    "print(\"Only in all three (no filter):\", number_all_three)\n",
    "\n",
    "print()\n",
    "print(\"Percentage ours (no filter) validated in either:\", str(round((is_in_either/ref_transcripts.shape[0])*100, 1)) + \"%\")\n",
    "print(\"Percentage ours (no filter) validated in both:\", str(round((number_all_three/ref_transcripts.shape[0])*100, 1)) + \"%\")"
   ]
  },
  {
   "cell_type": "code",
   "execution_count": 36,
   "id": "1918882f",
   "metadata": {},
   "outputs": [
    {
     "name": "stdout",
     "output_type": "stream",
     "text": [
      "In either (high-confidence) 136\n",
      "Only in all three (high-confidence): 32\n",
      "\n",
      "Percentage ours (high-confidence) validated in either: 19.4%\n",
      "Percentage ours (high-confidence) validated in both: 4.6%\n"
     ]
    }
   ],
   "source": [
    "print(\"In either (high-confidence)\", is_in_either_hf)\n",
    "print(\"Only in all three (high-confidence):\", number_all_three_hf)\n",
    "\n",
    "print()\n",
    "print(\"Percentage ours (high-confidence) validated in either:\", str(round((is_in_either_hf/700)*100, 1)) + \"%\")\n",
    "print(\"Percentage ours (high-confidence) validated in both:\", str(round((number_all_three_hf/700)*100, 1)) + \"%\")"
   ]
  },
  {
   "cell_type": "markdown",
   "id": "19225f2a",
   "metadata": {},
   "source": [
    "## - Display results (New from Known)"
   ]
  },
  {
   "cell_type": "code",
   "execution_count": 37,
   "id": "6ca0970b",
   "metadata": {},
   "outputs": [
    {
     "name": "stdout",
     "output_type": "stream",
     "text": [
      "In ours NFK (no filter) total: 1534\n",
      "In ours NFK (no filter) and in leung: 141\n",
      "Only in ours NFK: 1393\n",
      "\n",
      "Percentage ours NFK (No filter) validated in leung: 9.2%\n"
     ]
    }
   ],
   "source": [
    "print(\"In ours NFK (no filter) total:\", 1534)\n",
    "print(\"In ours NFK (no filter) and in leung:\", number_leung_and_ours_nfk)\n",
    "print(\"Only in ours NFK:\", number_in_ours_not_in_leung_nfk)\n",
    "print()\n",
    "print(\"Percentage ours NFK (No filter) validated in leung:\", str(round((number_leung_and_ours_nfk/1534)*100, 1)) + \"%\")"
   ]
  },
  {
   "cell_type": "code",
   "execution_count": 38,
   "id": "84d2239e",
   "metadata": {
    "scrolled": true
   },
   "outputs": [
    {
     "name": "stdout",
     "output_type": "stream",
     "text": [
      "In ours NFK (high-confidence) total: 428\n",
      "In ours NFK (high-confidence) and in leung: 98\n",
      "Only in ours NFK: 330\n",
      "\n",
      "Percentage ours NFK (high-confidence) validated in leung: 22.9%\n"
     ]
    }
   ],
   "source": [
    "print(\"In ours NFK (high-confidence) total:\", 428)\n",
    "print(\"In ours NFK (high-confidence) and in leung:\", number_leung_and_ours_hf_nfk)\n",
    "print(\"Only in ours NFK:\", number_in_ours_not_in_leung_hf_nfk)\n",
    "print()\n",
    "print(\"Percentage ours NFK (high-confidence) validated in leung:\", str(round((number_leung_and_ours_hf_nfk/428)*100, 1)) + \"%\")"
   ]
  },
  {
   "cell_type": "code",
   "execution_count": 39,
   "id": "93d741ed",
   "metadata": {},
   "outputs": [
    {
     "name": "stdout",
     "output_type": "stream",
     "text": [
      "In ours NFK (no filter) total: 1534\n",
      "In ours NFK (no filter) and in glinos: 124\n",
      "Only in ours NFK: 1410\n",
      "\n",
      "Percentage ours NFK (No filter) validated in glinos: 8.1%\n"
     ]
    }
   ],
   "source": [
    "print(\"In ours NFK (no filter) total:\", 1534)\n",
    "print(\"In ours NFK (no filter) and in glinos:\", number_glinos_and_ours_nfk)\n",
    "print(\"Only in ours NFK:\", number_in_ours_not_in_glinos_nfk)\n",
    "print()\n",
    "print(\"Percentage ours NFK (No filter) validated in glinos:\", str(round((number_glinos_and_ours_nfk/1534)*100, 1)) + \"%\")"
   ]
  },
  {
   "cell_type": "code",
   "execution_count": 40,
   "id": "7cb05395",
   "metadata": {},
   "outputs": [
    {
     "name": "stdout",
     "output_type": "stream",
     "text": [
      "In ours NFK (high-confidence) total: 428\n",
      "In ours NFK (high-confidence) and in glinos: 65\n",
      "Only in ours NFK: 363\n",
      "\n",
      "Percentage ours NFK (high-confidence) validated in glinos: 15.2%\n"
     ]
    }
   ],
   "source": [
    "print(\"In ours NFK (high-confidence) total:\", 428)\n",
    "print(\"In ours NFK (high-confidence) and in glinos:\", number_glinos_and_ours_hf_nfk)\n",
    "print(\"Only in ours NFK:\", number_in_ours_not_in_glinos_hf_nfk)\n",
    "print()\n",
    "print(\"Percentage ours NFK (high-confidence) validated in glinos:\", str(round((number_glinos_and_ours_hf_nfk/428)*100, 1)) + \"%\")"
   ]
  },
  {
   "cell_type": "code",
   "execution_count": 41,
   "id": "cf211083",
   "metadata": {},
   "outputs": [
    {
     "name": "stdout",
     "output_type": "stream",
     "text": [
      "In either NFK (no filter) 220\n",
      "Only in all three NFK (no filter): 45\n",
      "\n",
      "Percentage ours NFK (no filter) validated in either: 14.3%\n",
      "Percentage ours NFK (no filter) validated in both: 2.9%\n"
     ]
    }
   ],
   "source": [
    "print(\"In either NFK (no filter)\", is_in_either_nfk)\n",
    "print(\"Only in all three NFK (no filter):\", number_all_three_nfk)\n",
    "\n",
    "print()\n",
    "print(\"Percentage ours NFK (no filter) validated in either:\", str(round((is_in_either_nfk/1534)*100, 1)) + \"%\")\n",
    "print(\"Percentage ours NFK (no filter) validated in both:\", str(round((number_all_three_nfk/1534)*100, 1)) + \"%\")"
   ]
  },
  {
   "cell_type": "code",
   "execution_count": 42,
   "id": "b7339c54",
   "metadata": {},
   "outputs": [
    {
     "name": "stdout",
     "output_type": "stream",
     "text": [
      "In either NFK (high-confidence) 131\n",
      "Only in all three NFK (high-confidence): 32\n",
      "\n",
      "Percentage ours NFK (high-confidence) validated in either: 30.6%\n",
      "Percentage ours NFK (high-confidence) validated in both: 7.5%\n"
     ]
    }
   ],
   "source": [
    "print(\"In either NFK (high-confidence)\", is_in_either_hf_nfk)\n",
    "print(\"Only in all three NFK (high-confidence):\", number_all_three_hf_nfk)\n",
    "\n",
    "print()\n",
    "print(\"Percentage ours NFK (high-confidence) validated in either:\", str(round((is_in_either_hf_nfk/428)*100, 1)) + \"%\")\n",
    "print(\"Percentage ours NFK (high-confidence) validated in both:\", str(round((number_all_three_hf_nfk/428)*100, 1)) + \"%\")"
   ]
  },
  {
   "cell_type": "markdown",
   "id": "fef0ef82",
   "metadata": {},
   "source": [
    "## - Display results (New from New)"
   ]
  },
  {
   "cell_type": "code",
   "execution_count": 43,
   "id": "ba7b0d99",
   "metadata": {},
   "outputs": [
    {
     "name": "stdout",
     "output_type": "stream",
     "text": [
      "In ours NFN (no filter) total: 1860\n",
      "In ours NFN (no filter) and in leung: 9\n",
      "Only in ours NFN: 1851\n",
      "\n",
      "Percentage ours NFN (No filter) validated in leung: 0.5%\n"
     ]
    }
   ],
   "source": [
    "print(\"In ours NFN (no filter) total:\", 1860)\n",
    "print(\"In ours NFN (no filter) and in leung:\", number_leung_and_ours_nfn)\n",
    "print(\"Only in ours NFN:\", number_in_ours_not_in_leung_nfn)\n",
    "print()\n",
    "print(\"Percentage ours NFN (No filter) validated in leung:\", str(round((number_leung_and_ours_nfn/1860)*100, 1)) + \"%\")"
   ]
  },
  {
   "cell_type": "code",
   "execution_count": 44,
   "id": "1a2854e1",
   "metadata": {
    "scrolled": true
   },
   "outputs": [
    {
     "name": "stdout",
     "output_type": "stream",
     "text": [
      "In ours NFN (high-confidence) total: 267\n",
      "In ours NFN (high-confidence) and in leung: 5\n",
      "Only in ours NFN: 262\n",
      "\n",
      "Percentage ours NFN (high-confidence) validated in leung: 1.9%\n"
     ]
    }
   ],
   "source": [
    "print(\"In ours NFN (high-confidence) total:\", 267)\n",
    "print(\"In ours NFN (high-confidence) and in leung:\", number_leung_and_ours_hf_nfn)\n",
    "print(\"Only in ours NFN:\", number_in_ours_not_in_leung_hf_nfn)\n",
    "print()\n",
    "print(\"Percentage ours NFN (high-confidence) validated in leung:\", str(round((number_leung_and_ours_hf_nfn/267)*100, 1)) + \"%\")"
   ]
  },
  {
   "cell_type": "code",
   "execution_count": 45,
   "id": "a9f3fc0a",
   "metadata": {},
   "outputs": [
    {
     "name": "stdout",
     "output_type": "stream",
     "text": [
      "In ours NFN (no filter) total: 1860\n",
      "In ours NFN (no filter) and in glinos: 0\n",
      "Only in ours NFN: 1860\n",
      "\n",
      "Percentage ours NFN (No filter) validated in glinos: 0.0%\n"
     ]
    }
   ],
   "source": [
    "print(\"In ours NFN (no filter) total:\", 1860)\n",
    "print(\"In ours NFN (no filter) and in glinos:\", number_glinos_and_ours_nfn)\n",
    "print(\"Only in ours NFN:\", number_in_ours_not_in_glinos_nfn)\n",
    "print()\n",
    "print(\"Percentage ours NFN (No filter) validated in glinos:\", str(round((number_glinos_and_ours_nfn/1860)*100, 1)) + \"%\")"
   ]
  },
  {
   "cell_type": "code",
   "execution_count": 46,
   "id": "03914887",
   "metadata": {},
   "outputs": [
    {
     "name": "stdout",
     "output_type": "stream",
     "text": [
      "In ours NFN (high-confidence) total: 267\n",
      "In ours NFN (high-confidence) and in glinos: 0\n",
      "Only in ours NFN: 267\n",
      "\n",
      "Percentage ours NFN (high-confidence) validated in glinos: 0.0%\n"
     ]
    }
   ],
   "source": [
    "print(\"In ours NFN (high-confidence) total:\", 267)\n",
    "print(\"In ours NFN (high-confidence) and in glinos:\", number_glinos_and_ours_hf_nfn)\n",
    "print(\"Only in ours NFN:\", number_in_ours_not_in_glinos_hf_nfn)\n",
    "print()\n",
    "print(\"Percentage ours NFN (high-confidence) validated in glinos:\", str(round((number_glinos_and_ours_hf_nfn/267)*100, 1)) + \"%\")"
   ]
  },
  {
   "cell_type": "code",
   "execution_count": 47,
   "id": "fd179e79",
   "metadata": {},
   "outputs": [
    {
     "name": "stdout",
     "output_type": "stream",
     "text": [
      "In either NFN (no filter) 9\n",
      "Only in all three NFN (no filter): 0\n",
      "\n",
      "Percentage ours NFN (no filter) validated in either: 0.5%\n",
      "Percentage ours NFN (no filter) validated in both: 0.0%\n"
     ]
    }
   ],
   "source": [
    "print(\"In either NFN (no filter)\", is_in_either_nfn)\n",
    "print(\"Only in all three NFN (no filter):\", number_all_three_nfn)\n",
    "\n",
    "print()\n",
    "print(\"Percentage ours NFN (no filter) validated in either:\", str(round((is_in_either_nfn/1860)*100, 1)) + \"%\")\n",
    "print(\"Percentage ours NFN (no filter) validated in both:\", str(round((number_all_three_nfn/1860)*100, 1)) + \"%\")"
   ]
  },
  {
   "cell_type": "code",
   "execution_count": 48,
   "id": "237832d6",
   "metadata": {},
   "outputs": [
    {
     "name": "stdout",
     "output_type": "stream",
     "text": [
      "In either NFN (high-confidence) 5\n",
      "Only in all three NFN (high-confidence): 0\n",
      "\n",
      "Percentage ours NFN (high-confidence) validated in either: 1.9%\n",
      "Percentage ours NFN (high-confidence) validated in both: 0.0%\n"
     ]
    }
   ],
   "source": [
    "print(\"In either NFN (high-confidence)\", is_in_either_hf_nfn)\n",
    "print(\"Only in all three NFN (high-confidence):\", number_all_three_hf_nfn)\n",
    "\n",
    "print()\n",
    "print(\"Percentage ours NFN (high-confidence) validated in either:\", str(round((is_in_either_hf_nfn/267)*100, 1)) + \"%\")\n",
    "print(\"Percentage ours NFN (high-confidence) validated in both:\", str(round((number_all_three_hf_nfn/267)*100, 1)) + \"%\")"
   ]
  },
  {
   "cell_type": "markdown",
   "id": "af378963",
   "metadata": {},
   "source": [
    "## - Display results (New from Mito)"
   ]
  },
  {
   "cell_type": "code",
   "execution_count": 49,
   "id": "24378d06",
   "metadata": {},
   "outputs": [
    {
     "name": "stdout",
     "output_type": "stream",
     "text": [
      "In ours NFM (no filter) total: 34\n",
      "In ours NFM (no filter) and in leung: 0\n",
      "Only in ours NFM: 34\n",
      "\n",
      "Percentage ours NFM (No filter) validated in leung: 0.0%\n"
     ]
    }
   ],
   "source": [
    "print(\"In ours NFM (no filter) total:\", 34)\n",
    "print(\"In ours NFM (no filter) and in leung:\", number_leung_and_ours_nfm)\n",
    "print(\"Only in ours NFM:\", number_in_ours_not_in_leung_nfm)\n",
    "print()\n",
    "print(\"Percentage ours NFM (No filter) validated in leung:\", str(round((number_leung_and_ours_nfm/34)*100, 1)) + \"%\")"
   ]
  },
  {
   "cell_type": "code",
   "execution_count": 50,
   "id": "75c65a52",
   "metadata": {
    "scrolled": true
   },
   "outputs": [
    {
     "name": "stdout",
     "output_type": "stream",
     "text": [
      "In ours NFM (high-confidence) total: 5\n",
      "In ours NFM (high-confidence) and in leung: 0\n",
      "Only in ours NFM: 5\n",
      "\n",
      "Percentage ours NFM (high-confidence) validated in leung: 0.0%\n"
     ]
    }
   ],
   "source": [
    "print(\"In ours NFM (high-confidence) total:\", 5)\n",
    "print(\"In ours NFM (high-confidence) and in leung:\", number_leung_and_ours_hf_nfm)\n",
    "print(\"Only in ours NFM:\", number_in_ours_not_in_leung_hf_nfm)\n",
    "print()\n",
    "print(\"Percentage ours NFM (high-confidence) validated in leung:\", str(round((number_leung_and_ours_hf_nfm/5)*100, 1)) + \"%\")"
   ]
  },
  {
   "cell_type": "code",
   "execution_count": 51,
   "id": "16d3184a",
   "metadata": {},
   "outputs": [
    {
     "name": "stdout",
     "output_type": "stream",
     "text": [
      "In ours NFM (no filter) total: 34\n",
      "In ours NFM (no filter) and in glinos: 0\n",
      "Only in ours NFM: 34\n",
      "\n",
      "Percentage ours NFM (No filter) validated in glinos: 0.0%\n"
     ]
    }
   ],
   "source": [
    "print(\"In ours NFM (no filter) total:\", 34)\n",
    "print(\"In ours NFM (no filter) and in glinos:\", number_glinos_and_ours_nfm)\n",
    "print(\"Only in ours NFM:\", number_in_ours_not_in_glinos_nfm)\n",
    "print()\n",
    "print(\"Percentage ours NFM (No filter) validated in glinos:\", str(round((number_glinos_and_ours_nfm/34)*100, 1)) + \"%\")"
   ]
  },
  {
   "cell_type": "code",
   "execution_count": 52,
   "id": "f2a245be",
   "metadata": {},
   "outputs": [
    {
     "name": "stdout",
     "output_type": "stream",
     "text": [
      "In ours NFM (high-confidence) total: 5\n",
      "In ours NFM (high-confidence) and in glinos: 0\n",
      "Only in ours NFM: 5\n",
      "\n",
      "Percentage ours NFM (high-confidence) validated in glinos: 0.0%\n"
     ]
    }
   ],
   "source": [
    "print(\"In ours NFM (high-confidence) total:\", 5)\n",
    "print(\"In ours NFM (high-confidence) and in glinos:\", number_glinos_and_ours_hf_nfm)\n",
    "print(\"Only in ours NFM:\", number_in_ours_not_in_glinos_hf_nfm)\n",
    "print()\n",
    "print(\"Percentage ours NFM (high-confidence) validated in glinos:\", str(round((number_glinos_and_ours_hf_nfm/5)*100, 1)) + \"%\")"
   ]
  },
  {
   "cell_type": "code",
   "execution_count": 53,
   "id": "f20c5c07",
   "metadata": {},
   "outputs": [
    {
     "name": "stdout",
     "output_type": "stream",
     "text": [
      "In either NFM (no filter) 0\n",
      "Only in all three NFM (no filter): 0\n",
      "\n",
      "Percentage ours NFM (no filter) validated in either: 0.0%\n",
      "Percentage ours NFM (no filter) validated in both: 0.0%\n"
     ]
    }
   ],
   "source": [
    "print(\"In either NFM (no filter)\", is_in_either_nfm)\n",
    "print(\"Only in all three NFM (no filter):\", number_all_three_nfm)\n",
    "\n",
    "print()\n",
    "print(\"Percentage ours NFM (no filter) validated in either:\", str(round((is_in_either_nfm/34)*100, 1)) + \"%\")\n",
    "print(\"Percentage ours NFM (no filter) validated in both:\", str(round((number_all_three_nfm/34)*100, 1)) + \"%\")"
   ]
  },
  {
   "cell_type": "code",
   "execution_count": 54,
   "id": "4cc6893f",
   "metadata": {},
   "outputs": [
    {
     "name": "stdout",
     "output_type": "stream",
     "text": [
      "In either NFM (high-confidence) 0\n",
      "Only in all three NFM (high-confidence): 0\n",
      "\n",
      "Percentage ours NFM (high-confidence) validated in either: 0.0%\n",
      "Percentage ours NFM (high-confidence) validated in both: 0.0%\n"
     ]
    }
   ],
   "source": [
    "print(\"In either NFM (high-confidence)\", is_in_either_hf_nfm)\n",
    "print(\"Only in all three NFM (high-confidence):\", number_all_three_hf_nfm)\n",
    "\n",
    "print()\n",
    "print(\"Percentage ours NFM (high-confidence) validated in either:\", str(round((is_in_either_hf_nfm/5)*100, 1)) + \"%\")\n",
    "print(\"Percentage ours NFM (high-confidence) validated in both:\", str(round((number_all_three_hf_nfm/5)*100, 1)) + \"%\")"
   ]
  }
 ],
 "metadata": {
  "kernelspec": {
   "display_name": "Python 3 (ipykernel)",
   "language": "python",
   "name": "python3"
  },
  "language_info": {
   "codemirror_mode": {
    "name": "ipython",
    "version": 3
   },
   "file_extension": ".py",
   "mimetype": "text/x-python",
   "name": "python",
   "nbconvert_exporter": "python",
   "pygments_lexer": "ipython3",
   "version": "3.10.10"
  }
 },
 "nbformat": 4,
 "nbformat_minor": 5
}
