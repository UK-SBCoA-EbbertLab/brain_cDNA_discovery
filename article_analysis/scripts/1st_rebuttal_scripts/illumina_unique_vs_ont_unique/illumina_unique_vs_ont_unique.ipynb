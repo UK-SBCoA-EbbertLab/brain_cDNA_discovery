{
 "cells": [
  {
   "cell_type": "markdown",
   "id": "cfde5405",
   "metadata": {},
   "source": [
    "# Table of contents\n",
    "\n",
    "### - Import libraries and define functions + Initial setup"
   ]
  },
  {
   "cell_type": "markdown",
   "id": "d9928c02",
   "metadata": {},
   "source": [
    "# Import libraries and define functions + Initial setup"
   ]
  },
  {
   "cell_type": "code",
   "execution_count": 1,
   "id": "2e7c2845",
   "metadata": {},
   "outputs": [],
   "source": [
    "## Import Libraries\n",
    "import pandas as pd\n",
    "import numpy as np\n",
    "from matplotlib_venn import venn2, venn2_circles, venn2_unweighted\n",
    "from matplotlib_venn import venn3, venn3_circles\n",
    "from matplotlib import pyplot as plt\n",
    "%matplotlib inline\n",
    "import seaborn as sns\n",
    "from wordcloud import WordCloud\n",
    "import csv\n",
    "from scipy import stats\n",
    "import matplotlib.patches as mpatches\n",
    "import matplotlib.lines as mlines\n",
    "import os\n",
    "import glob\n",
    "\n",
    "\n",
    "## Display all rows of pandas dataframes\n",
    "pd.set_option('display.max_rows', None)\n",
    "pd.set_option('display.max_colwidth', None)"
   ]
  },
  {
   "cell_type": "code",
   "execution_count": 2,
   "id": "dcc9fb7f",
   "metadata": {},
   "outputs": [],
   "source": [
    "'''\n",
    "function name: get_real_transcript_length\n",
    "\n",
    "purpose: create dataframe containing exonic transcript length and transcript_id\n",
    "\n",
    "input: bambu gtf file\n",
    "\n",
    "output: dataframe with two columns, transcript_id and real_transcript_length\n",
    "'''\n",
    "\n",
    "def get_real_transcript_length(annotation):\n",
    "    \n",
    "    annotation = parse_df_columns(annotation, is_ref=False)\n",
    "    \n",
    "    annotation[\"real_transcript_length\"] = abs(annotation[\"end\"] - annotation[\"start\"])\n",
    "    \n",
    "    exon_annotation = annotation.loc[annotation[\"type\"] == \"exon\"][[\"transcript_id\", \"real_transcript_length\"]].copy()\n",
    "    \n",
    "    df_transcript_length = exon_annotation.groupby(\"transcript_id\").sum()\n",
    "    \n",
    "    df_transcript_length.reset_index(inplace=True)\n",
    "    \n",
    "    return df_transcript_length    "
   ]
  },
  {
   "cell_type": "code",
   "execution_count": 3,
   "id": "8541441e",
   "metadata": {},
   "outputs": [],
   "source": [
    "\"\"\"\n",
    "Convert a hexadecimal color representation to an RGB tuple.\n",
    "\n",
    "Parameters:\n",
    "hex_color (str): The color in hexadecimal format. Can start with or without a hash (#).\n",
    "                  It should be 6 characters long, with each pair representing red, green,\n",
    "                  and blue color channels respectively.\n",
    "\n",
    "Returns:\n",
    "tuple: A tuple containing three integers representing the red, green, and blue color\n",
    "       values ranging from 0 to 255.\n",
    "\"\"\"\n",
    "\n",
    "def hex_to_rgb(hex_color: str) -> tuple:\n",
    "\n",
    "    # Remove the hash at the start if it's there\n",
    "    hex_color = hex_color.lstrip('#')\n",
    "    # Convert hex to RGB by taking two characters at a time, and converting to decimal\n",
    "    return tuple(int(hex_color[i:i+2], 16) for i in (0, 2, 4))"
   ]
  },
  {
   "cell_type": "code",
   "execution_count": 4,
   "id": "bccac989",
   "metadata": {},
   "outputs": [],
   "source": [
    "'''\n",
    "function name: get_real_transcript_length\n",
    "\n",
    "purpose: create dataframe containing exonic transcript length and transcript_id\n",
    "\n",
    "input: bambu gtf file\n",
    "\n",
    "output: dataframe with two columns, transcript_id and real_transcript_length\n",
    "'''\n",
    "\n",
    "def get_real_transcript_length(annotation):\n",
    "    \n",
    "    annotation = parse_df_columns(annotation, is_ref=False)\n",
    "    \n",
    "    annotation[\"real_transcript_length\"] = abs(annotation[\"end\"] - annotation[\"start\"])\n",
    "    \n",
    "    exon_annotation = annotation.loc[annotation[\"type\"] == \"exon\"][[\"transcript_id\", \"real_transcript_length\"]].copy()\n",
    "    \n",
    "    df_transcript_length = exon_annotation.groupby(\"transcript_id\").sum()\n",
    "    \n",
    "    df_transcript_length.reset_index(inplace=True)\n",
    "    \n",
    "    return df_transcript_length    "
   ]
  },
  {
   "cell_type": "code",
   "execution_count": 5,
   "id": "f27e634a",
   "metadata": {},
   "outputs": [],
   "source": [
    "'''\n",
    "name: relative_transcript_abundance\n",
    "\n",
    "purpose: calculate relative transcript abundance\n",
    "\n",
    "input: a dataframe with a ref_gene_id column identifying the transcript gene of origin and a cov columns with \n",
    "the coverage for the transcripts.\n",
    "\n",
    "output: the same dataframe with a relative abundance column added\n",
    "'''\n",
    "\n",
    "\n",
    "\n",
    "def relative_transcript_abundance(df):\n",
    "    \n",
    "    ## Group by gene_id and get total expression for each gene (not counting introns)\n",
    "    df_sums = df[[\"gene_id\", \"total_CPM\"]].groupby(\"gene_id\").sum()\n",
    "    df_sums[\"total_CPM_gene\"] = df_sums[\"total_CPM\"]\n",
    "    df_sums.drop(columns=\"total_CPM\", inplace=True)\n",
    "    \n",
    "    ## Merge dataframe with total gene level CPM with regular transcript level CPM dataframe\n",
    "    merged_df = pd.merge(df, df_sums, how='inner', on=\"gene_id\")\n",
    "    \n",
    "    ## Calculater relative percent abundance for each transcript within its gene\n",
    "    merged_df[\"relative_abundance_percent\"] = ((merged_df[\"total_CPM\"]/merged_df[\"total_CPM_gene\"]) * 100)\n",
    "    \n",
    "    ## Rename total_CPM for transcript column\n",
    "    merged_df[\"total_CPM_transcript\"] = merged_df[\"total_CPM\"]\n",
    "    merged_df.drop(columns=\"total_CPM\", inplace=True)\n",
    "\n",
    "\n",
    "    return merged_df"
   ]
  },
  {
   "cell_type": "code",
   "execution_count": 6,
   "id": "a6446e95",
   "metadata": {},
   "outputs": [],
   "source": [
    "'''\n",
    "function name: fix_column_names\n",
    "\n",
    "purpose: Fixing the column names, making them smaller, informative, and consistent\n",
    "\n",
    "input: The raw counts dataframe for either genes or transcripts \n",
    "\n",
    "output: Same dataframe with improved column names\n",
    "'''\n",
    "\n",
    "def fix_column_names(df, is_gene=False):\n",
    "    \n",
    "    ## Check if this is a gene counts object\n",
    "    if is_gene:\n",
    "        \n",
    "        ## Get count column names and create list of new column names\n",
    "        count_columns = df.columns.tolist()\n",
    "        list_new_names = [\"gene_id\"]\n",
    "        \n",
    "        ## gene_id comes in as index for gene counts data, make it into the first column instead\n",
    "        df[\"gene_id\"] = df.index\n",
    "        cols = list(df.columns)\n",
    "        cols = [cols[-1]] + cols[:-1]\n",
    "        df = df[cols]\n",
    "        df.reset_index(inplace=True, drop=True)\n",
    "    \n",
    "    ## If it is a transcript dataset\n",
    "    else:\n",
    "        ## Set count columns and create list of new names\n",
    "        count_columns = df.columns[2:].tolist()\n",
    "        list_new_names = [ \"transcript_id\", \"gene_id\"]\n",
    "    \n",
    "    ## Fix names one by one and add to list of new names\n",
    "    for col in count_columns:\n",
    "        col = col.split(\"_mapped\")[0] + \"_counts\"\n",
    "        list_new_names.append(col)\n",
    "    \n",
    "    ## Rename columns\n",
    "    df.columns = list_new_names\n",
    "    \n",
    "    return df "
   ]
  },
  {
   "cell_type": "code",
   "execution_count": 7,
   "id": "143176a3",
   "metadata": {},
   "outputs": [],
   "source": [
    "'''\n",
    "function name: parse_df_columns\n",
    "\n",
    "purpose: parsing the last aggregate column of the gtf/gff3 into useful columns and cleaning non-relevant columns\n",
    "\n",
    "input: dataframe containining \"raw\" gtf/gff\n",
    "\n",
    "output: dataframe containing gtf with useful columns [\"gene_id\", \"transcript_id\", etc...]\n",
    "'''\n",
    "\n",
    "def parse_df_columns(df, is_ref=True, is_transcript=False, is_prot=False):\n",
    "\n",
    "    if is_ref:\n",
    "\n",
    "        ## Get gene ids\n",
    "        df[\"gene_id\"] = df[\"other\"].str.split('\";', expand=True)[0].str.extract(\"([^ \\\"]*$)\", expand=True)\n",
    "        \n",
    "        ## Get gene names\n",
    "        df[\"gene_name\"] = df[\"other\"].str.split(\"gene_name \\\"\", expand=True)[1].str.split('\\\";', expand=True)[0]\n",
    "        \n",
    "        ## Get get transcript biotype\n",
    "        df[\"gene_biotype\"] = df[\"other\"].str.split('gene_biotype \"', expand=True)[1].str.split('\"', expand=True)[0]\n",
    "        \n",
    "        ## If is transcript get transcript id and transcript biotype\n",
    "        if is_transcript:\n",
    "            df[\"transcript_id\"] = df[\"other\"].str.split('transcript_id \"', expand=True)[1].str.split('\"', expand=True)[0]\n",
    "            df[\"transcript_biotype\"] = df[\"other\"].str.split('transcript_biotype \"', expand=True)[1].str.split('\"', expand=True)[0]\n",
    "            \n",
    "            ## If is prot get protein_id\n",
    "            if is_prot:\n",
    "                df[\"protein_id\"] = df[\"other\"].str.split('protein_id \"', expand=True)[1].str.split('\"', expand=True)[0]\n",
    "                df[\"ccds_id\"] = df[\"other\"].str.split('ccds_id \"', expand=True)[1].str.split('\"', expand=True)[0]\n",
    "                df[\"exon_number\"] = df[\"other\"].str.split('exon_number \"', expand=True)[1].str.split('\"', expand=True)[0]\n",
    "\n",
    "        ## Drop \"other\" column\n",
    "        df.drop(columns=[\"other\", \"dot_1\", \"dot_2\"], inplace=True)\n",
    "        \n",
    "\n",
    "    else:\n",
    "\n",
    "        ## Get gene ids\n",
    "        df[\"gene_id\"] = df[\"other\"].str.split('\";', expand=True)[0].str.extract(\"([^ \\\"]*$)\", expand=True)\n",
    "\n",
    "        ## Get transcript ids\n",
    "        df[\"transcript_id\"] = df[\"other\"].str.split('transcript_id \"', expand=True)[1].str.split('\"', expand=True)[0]\n",
    "\n",
    "        ## Get exon number\n",
    "        df[\"exon_number\"] = df[\"other\"].str.split('exon_number \"', expand=True)[1].str.split('\"', expand=True)[0]\n",
    "\n",
    "        ## Drop \"other\" column\n",
    "        df.drop(columns=[\"other\", \"dot_1\", \"dot_2\"], inplace=True)\n",
    "\n",
    "    for col in df.columns:\n",
    "        df.loc[df[col].isnull(), col] = np.NaN\n",
    "        \n",
    "\n",
    "    return df"
   ]
  },
  {
   "cell_type": "code",
   "execution_count": 8,
   "id": "b1117a08",
   "metadata": {},
   "outputs": [],
   "source": [
    "'''\n",
    "function name: calculate_cpm\n",
    "\n",
    "purpose: Calculate CPM for the each sample given\n",
    "\n",
    "input: Counts dataset\n",
    "\n",
    "output: Counts dataset with CPM columns as well\n",
    "'''\n",
    "\n",
    "def calculate_cpm(df, is_gene=False):\n",
    "\n",
    "    ## Set count columns if dataframe is gene counts\n",
    "    if is_gene:\n",
    "        count_columns = df.columns[1:].tolist()\n",
    "    \n",
    "    ## Set count columns if dataframe is transcript counts\n",
    "    else:\n",
    "        count_columns = df.columns[2:].tolist()\n",
    "\n",
    "    ## Loop through counts columns to calculate CPM and add to the dataframe\n",
    "    for col in count_columns:\n",
    "        \n",
    "        df[col] = round(df[col], 2)\n",
    "        cpm_name = col.replace(\"_counts\", \"_CPM\")\n",
    "        df[cpm_name] = round(((df[col]/(df[col].sum())) * 1000000), 2)\n",
    "    \n",
    "    return df  "
   ]
  },
  {
   "cell_type": "code",
   "execution_count": 9,
   "id": "562cb98d",
   "metadata": {},
   "outputs": [],
   "source": [
    "\"\"\"\n",
    "This function loads all salmon quant.sh files with the given filename from all subdirectories \n",
    "of the provided parent directory and returns a merged counts and a merged TPM matrix.\n",
    "\n",
    "Parameters:\n",
    "filename (str): The name of the salmon file to load\n",
    "parent_directory (str): The path to the parent directory containing the folders with salmon quant.sf files.\n",
    "\n",
    "Returns:\n",
    "list: A merged counts and a merged TPM matrix.\n",
    "\"\"\"\n",
    "    \n",
    "def load_salmon_data_and_merge(filename, parent_directory):\n",
    "\n",
    "    dataframes = []\n",
    "\n",
    "    # Create a path pattern to find all folders containing the TSV files\n",
    "    folder_pattern = os.path.join(parent_directory, '*', filename)\n",
    "\n",
    "    # Get a list of all TSV files matching the pattern\n",
    "    tsv_files = glob.glob(folder_pattern)\n",
    "    \n",
    "    ## Create flag for first iteration of loop\n",
    "    flag_first = True\n",
    "    \n",
    "    # Read each TSV file into a DataFrame and append it to the list\n",
    "    for tsv_file in tsv_files:\n",
    "        \n",
    "        ## Create column names\n",
    "        sample_name = tsv_file.split(\"/\")[-2].split(\"_Aligned\")[0]\n",
    "        tpm_name = sample_name + \"_TPM\"\n",
    "        counts_name = sample_name + \"_counts\"\n",
    "        \n",
    "        ## Open dataframe for counts and TPM\n",
    "        df_counts = pd.read_csv(tsv_file, sep='\\t', usecols=[0, 4], names=[\"transcript_id\", counts_name],\n",
    "                               low_memory=False, header=0)\n",
    "        df_tpm = pd.read_csv(tsv_file, sep='\\t', usecols=[0, 3], names=[\"transcript_id\", tpm_name], \n",
    "                             low_memory=False, header=0)\n",
    "                \n",
    "        ## If it is not the first iteration just add to merged dataframes\n",
    "        if flag_first == False:\n",
    "            \n",
    "            df_meged_counts = df_meged_counts.merge(df_counts, on=\"transcript_id\", how=\"inner\")\n",
    "            df_meged_tpm = df_meged_tpm.merge(df_tpm, on=\"transcript_id\", how=\"inner\")\n",
    "        \n",
    "        ## If it is the first iteration set merged dataframe to first dataframes\n",
    "        ## Set flag_first to false\n",
    "        else:\n",
    "            \n",
    "            df_meged_counts = df_counts.copy()\n",
    "            df_meged_tpm = df_tpm.copy()\n",
    "            \n",
    "            flag_first = False\n",
    "            \n",
    "        df_meged_counts.shape\n",
    "           \n",
    "\n",
    "    return df_meged_counts, df_meged_tpm"
   ]
  },
  {
   "cell_type": "code",
   "execution_count": 10,
   "id": "4ed11391",
   "metadata": {},
   "outputs": [],
   "source": [
    "## define ggplot colors\n",
    "ggplot2_colors = [\"#F8766D\", \"#CD9600\", \"#7CAE00\", \"#00BE67\", \"#00BFC4\", \"#00A9FF\", \"#C77CFF\", \"#FF61CC\"]"
   ]
  },
  {
   "cell_type": "markdown",
   "id": "1cf6479d",
   "metadata": {},
   "source": [
    "## - Pre-process data"
   ]
  },
  {
   "cell_type": "code",
   "execution_count": 11,
   "id": "5016a4a1",
   "metadata": {},
   "outputs": [],
   "source": [
    "## Open original reference\n",
    "ref = pd.read_csv(\"../../../data/raw/nextflow_pipeline_output/bambu_discovery/extended_annotations.gtf\", \n",
    "                  header=None, delimiter=\"\\t\", low_memory=False, \n",
    "                    names=[\"chr\", \"source\", \"type\", \"start\", \"end\", \"dot_1\", \"strand\", \"dot_2\", \"other\"], comment=\"#\")\n",
    "\n",
    "ref_copy = ref.copy()\n",
    "\n",
    "ref_transcript_length = get_real_transcript_length(ref_copy)\n",
    "\n",
    "ref = parse_df_columns(ref, is_ref=False)\n",
    "\n",
    "ref = ref.loc[ref[\"type\"]==\"transcript\"].copy()"
   ]
  },
  {
   "cell_type": "code",
   "execution_count": 12,
   "id": "6f71704c",
   "metadata": {},
   "outputs": [],
   "source": [
    "## Set parent directory and salmon quantification file name\n",
    "parent_dir = \"../../../data/raw/1st_rebuttal_data/CSHL_illumina_uky_aged_brain_with_our_extended_annotation_UNIQUE/salmon_alignment_mode/\"\n",
    "name = \"quant.sf\"\n",
    "\n",
    "## Create merged dataframe with counts and tpm\n",
    "df_unique_ill, df_tpm_unique = load_salmon_data_and_merge(name, parent_dir)"
   ]
  },
  {
   "cell_type": "code",
   "execution_count": 13,
   "id": "bbe4afb6",
   "metadata": {},
   "outputs": [],
   "source": [
    "## Set parent directory and salmon quantification file name\n",
    "parent_dir = \"../../../data/raw/1st_rebuttal_data/CSHL_illumina_uky_aged_brain_with_our_extended_annotation/salmon_alignment_mode/\"\n",
    "name = \"quant.sf\"\n",
    "\n",
    "## Create merged dataframe with counts and tpm\n",
    "df_ill, df_tpm_ill = load_salmon_data_and_merge(name, parent_dir)"
   ]
  },
  {
   "cell_type": "code",
   "execution_count": 14,
   "id": "ea08bd0b",
   "metadata": {},
   "outputs": [],
   "source": [
    "## Import counts matrices\n",
    "\n",
    "df_ont = pd.read_csv(\"../../../data/raw/nextflow_pipeline_output/bambu_discovery/counts_transcript.txt\", \n",
    "                           delimiter=\"\\t\", low_memory=False, header=0)\n",
    "\n",
    "df_unique_ont = pd.read_csv(\"../../../data/raw/nextflow_pipeline_output/bambu_discovery/uniqueCounts_transcript.txt\", \n",
    "                           delimiter=\"\\t\", low_memory=False, header=0)"
   ]
  },
  {
   "cell_type": "code",
   "execution_count": 15,
   "id": "26532365",
   "metadata": {},
   "outputs": [],
   "source": [
    "## Fix column names\n",
    "df_ont = fix_column_names(df_ont, is_gene=False)\n",
    "df_unique_ont = fix_column_names(df_unique_ont, is_gene=False)"
   ]
  },
  {
   "cell_type": "code",
   "execution_count": 16,
   "id": "eb67b6a5",
   "metadata": {},
   "outputs": [],
   "source": [
    "## Calculate CPM and drop count columns\n",
    "df_cpm = calculate_cpm(df_ont.copy(), is_gene=False)\n",
    "\n",
    "df_cpm = df_cpm[df_cpm.columns.drop(list(df_cpm.filter(regex='counts')))].copy()\n",
    "\n",
    "## Drop ERCCs\n",
    "df_cpm = df_cpm.loc[~df_cpm[\"gene_id\"].str.startswith(\"ERCC\")].copy()\n",
    "\n",
    "## Calculate median CPM\n",
    "df_cpm[\"median_CPM\"] = df_cpm[df_cpm.filter(regex='[0-9]_CPM').columns].median(axis=1)\n",
    "\n",
    "\n",
    "## Find transcript_ids for median_CPM > 1 transcripts\n",
    "df_cpm = df_cpm.loc[df_cpm[\"median_CPM\"] > 1].copy()\n",
    "\n",
    "transcript_ids_cpm_1 = df_cpm[\"transcript_id\"].copy()"
   ]
  },
  {
   "cell_type": "code",
   "execution_count": 17,
   "id": "735fe7d4",
   "metadata": {},
   "outputs": [],
   "source": [
    "## Only keep transcript ids for median CPM > 1\n",
    "\n",
    "df_ont = df_ont.loc[df_ont[\"transcript_id\"].isin(transcript_ids_cpm_1)].copy()\n",
    "\n",
    "df_ill = df_ill.loc[df_ill[\"transcript_id\"].isin(transcript_ids_cpm_1)].copy()\n",
    "\n",
    "df_unique_ont = df_unique_ont.loc[df_unique_ont[\"transcript_id\"].isin(transcript_ids_cpm_1)].copy()\n",
    "\n",
    "df_unique_ill = df_unique_ill.loc[df_unique_ill[\"transcript_id\"].isin(transcript_ids_cpm_1)].copy()"
   ]
  },
  {
   "cell_type": "code",
   "execution_count": 18,
   "id": "ab9d262a",
   "metadata": {},
   "outputs": [],
   "source": [
    "## Only keep relevant columns\n",
    "\n",
    "df_ont = df_ont[['transcript_id', 'gene_id', 'sample_1218_PAM43779_counts',\n",
    "       'sample_1304_PAM44487_counts', 'sample_1271_PAM44815_counts',\n",
    "       'sample_5356_PAM42933_counts']].copy()\n",
    "\n",
    "df_unique_ont = df_unique_ont[['transcript_id', 'gene_id', 'sample_1218_PAM43779_counts',\n",
    "       'sample_1304_PAM44487_counts', 'sample_1271_PAM44815_counts',\n",
    "       'sample_5356_PAM42933_counts']].copy()"
   ]
  },
  {
   "cell_type": "code",
   "execution_count": 19,
   "id": "dd703cbb",
   "metadata": {},
   "outputs": [],
   "source": [
    "## Calculate total counts\n",
    "\n",
    "df_ont[\"total_counts\"] = df_ont[df_ont.filter(regex='counts').columns].sum(axis=1)\n",
    "\n",
    "df_ill[\"total_counts\"] = df_ill[df_ill.filter(regex='counts').columns].sum(axis=1)\n",
    "\n",
    "df_unique_ont[\"total_unique_counts\"] = df_unique_ont[df_unique_ont.filter(regex='counts').columns].sum(axis=1)\n",
    "\n",
    "df_unique_ill[\"total_unique_counts\"] = df_unique_ill[df_unique_ill.filter(regex='counts').columns].sum(axis=1)"
   ]
  },
  {
   "cell_type": "code",
   "execution_count": 20,
   "id": "7aa740ab",
   "metadata": {},
   "outputs": [],
   "source": [
    "## Define technology\n",
    "\n",
    "df_ont[\"Technology\"] = \"Nanopore\"\n",
    "\n",
    "df_ill[\"Technology\"] = \"Illumina\"\n",
    "\n",
    "df_unique_ont[\"Technology\"] = \"Nanopore\"\n",
    "\n",
    "df_unique_ill[\"Technology\"] = \"Illumina\""
   ]
  },
  {
   "cell_type": "code",
   "execution_count": 21,
   "id": "c6fcc128",
   "metadata": {},
   "outputs": [],
   "source": [
    "## Merge and only keep relevant columns\n",
    "\n",
    "df_merged_ont = df_ont[[\"gene_id\", \"transcript_id\", \"total_counts\", \"Technology\"]].merge(df_unique_ont[[\"transcript_id\", \n",
    "                                                                            \"total_unique_counts\", \"Technology\"]],\n",
    "                                                                           on=[\"transcript_id\", \"Technology\"],\n",
    "                                                                                         how=\"inner\")\n",
    "\n",
    "\n",
    "df_merged_ill = df_ill[[\"transcript_id\", \"total_counts\", \"Technology\"]].merge(df_unique_ill[[\"transcript_id\", \n",
    "                                                                            \"total_unique_counts\", \"Technology\"]],\n",
    "                                                                           on=[\"transcript_id\", \"Technology\"],\n",
    "                                                                                         how=\"inner\")\n",
    "\n",
    "\n",
    "df_merged_ill = df_merged_ill.merge(df_ont[[\"gene_id\", \"transcript_id\"]], on=\"transcript_id\", how=\"inner\")"
   ]
  },
  {
   "cell_type": "code",
   "execution_count": 22,
   "id": "845ab2de",
   "metadata": {},
   "outputs": [],
   "source": [
    "## Concatenate files\n",
    "\n",
    "df_merged = pd.concat([df_merged_ont, df_merged_ill])"
   ]
  },
  {
   "cell_type": "code",
   "execution_count": 23,
   "id": "b85f8764",
   "metadata": {},
   "outputs": [],
   "source": [
    "## Calculate percent unique counts\n",
    "df_merged[\"percent_unique_counts\"] = ((df_merged[\"total_unique_counts\"]/df_merged[\"total_counts\"]) * 100)"
   ]
  },
  {
   "cell_type": "code",
   "execution_count": 24,
   "id": "b3bac298",
   "metadata": {},
   "outputs": [],
   "source": [
    "## Add real transcript length\n",
    "\n",
    "df_with_length = df_merged.merge(ref_transcript_length, on=\"transcript_id\", how=\"inner\")"
   ]
  },
  {
   "cell_type": "code",
   "execution_count": 25,
   "id": "724c310f",
   "metadata": {},
   "outputs": [],
   "source": [
    "## Create reference copy\n",
    "ref2 = ref[[\"gene_id\", \"transcript_id\"]].copy()"
   ]
  },
  {
   "cell_type": "code",
   "execution_count": 26,
   "id": "0b7b1399",
   "metadata": {},
   "outputs": [],
   "source": [
    "## Count number of transcripts per gene_id\n",
    "num_transcripts = ref2[\"gene_id\"].value_counts().reset_index()\n",
    "num_transcripts.columns = ['gene_id', 'number_of_annotated_transcripts']"
   ]
  },
  {
   "cell_type": "code",
   "execution_count": 27,
   "id": "868e8450",
   "metadata": {},
   "outputs": [],
   "source": [
    "## Make it so it only goes to 6+\n",
    "\n",
    "num_transcripts.loc[num_transcripts[\"number_of_annotated_transcripts\"] >= 10, \"number_of_annotated_transcripts\"] = \"≥10\"\n",
    "\n",
    "## Convert column to string\n",
    "num_transcripts[\"number_of_annotated_transcripts\"] = num_transcripts[\"number_of_annotated_transcripts\"].astype(str)"
   ]
  },
  {
   "cell_type": "code",
   "execution_count": 28,
   "id": "64964768",
   "metadata": {},
   "outputs": [],
   "source": [
    "## Merge to add number of annotated transcripts\n",
    "\n",
    "df_with_length = df_with_length.merge(num_transcripts, how=\"inner\", on=\"gene_id\")"
   ]
  },
  {
   "cell_type": "markdown",
   "id": "b31e046e",
   "metadata": {},
   "source": [
    "## - Make Plots"
   ]
  },
  {
   "cell_type": "code",
   "execution_count": 29,
   "id": "6e2b6a18",
   "metadata": {},
   "outputs": [],
   "source": [
    "## Set parameters for figures\n",
    "from matplotlib import rcParams\n",
    "mm = (1/25.4)\n",
    "\n",
    "\n",
    "# figure size in inches\n",
    "rcParams['figure.figsize'] = (170*mm, 85*mm)\n",
    "rcParams.update({'font.size': 7})\n",
    "rcParams['axes.linewidth'] = 1"
   ]
  },
  {
   "cell_type": "code",
   "execution_count": 30,
   "id": "e48de3e4",
   "metadata": {},
   "outputs": [
    {
     "data": {
      "image/png": "[encoded data removed]",
      "text/plain": [
       "<Figure size 669.291x334.646 with 1 Axes>"
      ]
     },
     "metadata": {},
     "output_type": "display_data"
    }
   ],
   "source": [
    "## Make violin plot\n",
    "\n",
    "violin = sns.violinplot(data=df_with_length, y=\"percent_unique_counts\", x=\"Technology\", hue=\"Technology\",\n",
    "           saturation=1, palette=[ggplot2_colors[0], ggplot2_colors[4]] , cut=0,\n",
    "           showfliers=False,linewidth=1, dodge=False)\n",
    "\n",
    "\n",
    "plt.legend(loc=\"upper center\")\n",
    "\n",
    "plt.ylabel(\"Percent unique counts for each\\ntranscript with median CPM > 1\")\n",
    "\n",
    "plt.savefig('../../../figures/1st_rebuttal_figures/illumina_unique_vs_ont_unique/percent_unique.pdf',\n",
    "            dpi=600, transparent=True, bbox_inches=\"tight\")"
   ]
  },
  {
   "cell_type": "code",
   "execution_count": 31,
   "id": "1d7be89c",
   "metadata": {},
   "outputs": [
    {
     "data": {
      "image/png": "[encoded data removed]",
      "text/plain": [
       "<Figure size 669.291x334.646 with 1 Axes>"
      ]
     },
     "metadata": {},
     "output_type": "display_data"
    }
   ],
   "source": [
    "violin = sns.violinplot(data=df_with_length, y=\"percent_unique_counts\", x=\"number_of_annotated_transcripts\",\n",
    "           saturation=1, palette=[ggplot2_colors[0], ggplot2_colors[4]] ,  inner=None, cut=0,\n",
    "           showfliers=False,linewidth=1, hue=\"Technology\",\n",
    "           order=[\"1\", \"2\", \"3\", \"4\", \"5\", \"6\", \"7\", \"8\", \"9\", \"≥10\"], dodge=True)\n",
    "\n",
    "\n",
    "plt.ylabel(\"Percent unique counts for each\\ntranscript with median CPM > 1\")\n",
    "plt.xlabel(\"Number of annotated transcripts\")\n",
    "\n",
    "violin.get_legend().remove()\n",
    "\n",
    "plt.savefig('../../../figures/1st_rebuttal_figures/illumina_unique_vs_ont_unique/percent_unique_across_number_of_annotated_transcripts.pdf',\n",
    "            dpi=600, transparent=True, bbox_inches=\"tight\")"
   ]
  }
 ],
 "metadata": {
  "kernelspec": {
   "display_name": "Python 3 (ipykernel)",
   "language": "python",
   "name": "python3"
  },
  "language_info": {
   "codemirror_mode": {
    "name": "ipython",
    "version": 3
   },
   "file_extension": ".py",
   "mimetype": "text/x-python",
   "name": "python",
   "nbconvert_exporter": "python",
   "pygments_lexer": "ipython3",
   "version": "3.10.10"
  }
 },
 "nbformat": 4,
 "nbformat_minor": 5
}
