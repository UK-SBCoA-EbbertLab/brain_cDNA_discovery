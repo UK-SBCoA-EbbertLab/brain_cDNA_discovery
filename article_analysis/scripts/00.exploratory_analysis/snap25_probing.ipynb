{
 "cells": [
  {
   "cell_type": "code",
   "execution_count": 1,
   "id": "e1206944",
   "metadata": {},
   "outputs": [],
   "source": [
    "## Import Libraries\n",
    "import pandas as pd\n",
    "import numpy as np\n",
    "import csv\n",
    "import matplotlib.pyplot as plt\n",
    "%matplotlib inline\n",
    "import openpyxl\n",
    "\n",
    "pd.set_option(\"max_colwidth\", None)\n",
    "pd.set_option('display.max_columns', None)\n",
    "pd.set_option('display.max_rows', None)"
   ]
  },
  {
   "cell_type": "code",
   "execution_count": 2,
   "id": "7d87c847",
   "metadata": {},
   "outputs": [],
   "source": [
    "'''\n",
    "function name: parse_df_columns\n",
    "\n",
    "purpose: parsing the last aggregate column of the gtf/gff3 into useful columns and cleaning non-relevant columns\n",
    "\n",
    "input: dataframe containining \"raw\" gtf/gff\n",
    "\n",
    "output: dataframe containing gtf with useful columns [\"gene_id\", \"transcript_id\", etc...]\n",
    "'''\n",
    "\n",
    "def parse_df_columns(df, is_ref=True):\n",
    "\n",
    "    if is_ref:\n",
    "\n",
    "        ## Get gene ids\n",
    "        df[\"gene_id\"] = df[\"other\"].str.split(\"source_gene=\", expand=True)[1].str.split(';', expand=True)[0]\n",
    "        \n",
    "        ## Get gene names\n",
    "        df[\"gene_name\"] = df[\"other\"].str.split(\"source_gene_common_name=\", expand=True)[1].str.split(';', expand=True)[0]\n",
    "        \n",
    "        ## Only keep relevant\n",
    "        df = df[[\"chr\", \"gene_id\", \"gene_name\"]].copy()\n",
    "\n",
    "        ## Drop duplicates\n",
    "        df.drop_duplicates(inplace=True)\n",
    "        \n",
    "\n",
    "    else:\n",
    "\n",
    "        ## Get CHM gene ids\n",
    "        df[\"gene_id\"] = df[\"other\"].str.split('\";', expand=True)[0].str.extract(\"([^ \\\"]*$)\", expand=True)\n",
    "\n",
    "        ## Drop \"other\" column\n",
    "        df = df[[\"chr\", \"gene_id\"]].copy()\n",
    "        \n",
    "    for col in df.columns:\n",
    "        df.loc[df[col].isnull(), col] = np.NaN\n",
    "        \n",
    "\n",
    "    return df"
   ]
  },
  {
   "cell_type": "code",
   "execution_count": 3,
   "id": "7ca5f251",
   "metadata": {},
   "outputs": [],
   "source": [
    "'''\n",
    "function name: calculate_cpm\n",
    "\n",
    "purpose: Calculate CPM for the each sample given\n",
    "\n",
    "input: Counts dataset\n",
    "\n",
    "output: Counts dataset with CPM columns as well\n",
    "'''\n",
    "\n",
    "def calculate_cpm(df):\n",
    "\n",
    "    ## Loop through counts columns to calculate CPM and add to the dataframe\n",
    "    for col in [\"total_counts\"]:\n",
    "        \n",
    "        df[col] = round(df[col], 2)\n",
    "        cpm_name = col.replace(\"_counts\", \"_CPM\")\n",
    "        df[cpm_name] = round(((df[col]/(df[col].sum())) * 1000000), 2)\n",
    "    \n",
    "    return df "
   ]
  },
  {
   "cell_type": "code",
   "execution_count": 4,
   "id": "bf3657a5",
   "metadata": {},
   "outputs": [],
   "source": [
    "## Import transcripts\n",
    "df_transcripts = pd.read_csv(\"../../data/raw/merged_uky_cshl_CHM13_discovery/bambu_discovery/counts_transcript.txt\",\n",
    "        sep=\"\\t\", low_memory=False, header=0)"
   ]
  },
  {
   "cell_type": "code",
   "execution_count": 5,
   "id": "310e6fd9",
   "metadata": {},
   "outputs": [],
   "source": [
    "## Import Genes\n",
    "df_genes = pd.read_csv(\"../../data/raw/merged_uky_cshl_CHM13_discovery/bambu_discovery/counts_gene.txt\",\n",
    "        sep=\"\\t\", low_memory=False, header=0)"
   ]
  },
  {
   "cell_type": "code",
   "execution_count": 6,
   "id": "da9c4de0",
   "metadata": {},
   "outputs": [],
   "source": [
    "## Get total counts for genes and transcripts\n",
    "df_genes[\"total_counts\"] = df_genes[df_genes.columns[1:]].sum(axis=1)\n",
    "df_transcripts[\"total_counts\"] = df_transcripts[df_transcripts.columns[2:]].sum(axis=1)"
   ]
  },
  {
   "cell_type": "code",
   "execution_count": 7,
   "id": "c29ba1fd",
   "metadata": {},
   "outputs": [],
   "source": [
    "## Get average counts for genes and transcripts\n",
    "df_genes[\"average_counts\"] = df_genes[\"total_counts\"]/4\n",
    "df_transcripts[\"average_counts\"] = df_transcripts[\"total_counts\"]/4"
   ]
  },
  {
   "cell_type": "code",
   "execution_count": 8,
   "id": "9d3f9c12",
   "metadata": {},
   "outputs": [],
   "source": [
    "## Only keep genes and transcripts with more than 0 counts\n",
    "df_genes = df_genes.loc[df_genes[\"total_counts\"] > 0].copy()\n",
    "df_transcripts = df_transcripts.loc[df_transcripts[\"total_counts\"] > 0].copy()"
   ]
  },
  {
   "cell_type": "code",
   "execution_count": 9,
   "id": "43a6b511",
   "metadata": {},
   "outputs": [],
   "source": [
    "## Calculate percentile\n",
    "df_genes['percentile'] = df_genes[\"total_counts\"].rank(pct=True)"
   ]
  },
  {
   "cell_type": "code",
   "execution_count": 10,
   "id": "15e399e6",
   "metadata": {},
   "outputs": [],
   "source": [
    "## Calculate Rank\n",
    "df_genes['rank'] = df_genes[\"total_counts\"].rank(ascending=False)"
   ]
  },
  {
   "cell_type": "code",
   "execution_count": 16,
   "id": "6eaeae07",
   "metadata": {},
   "outputs": [
    {
     "data": {
      "text/html": [
       "<div>\n",
       "<style scoped>\n",
       "    .dataframe tbody tr th:only-of-type {\n",
       "        vertical-align: middle;\n",
       "    }\n",
       "\n",
       "    .dataframe tbody tr th {\n",
       "        vertical-align: top;\n",
       "    }\n",
       "\n",
       "    .dataframe thead th {\n",
       "        text-align: right;\n",
       "    }\n",
       "</style>\n",
       "<table border=\"1\" class=\"dataframe\">\n",
       "  <thead>\n",
       "    <tr style=\"text-align: right;\">\n",
       "      <th></th>\n",
       "      <th>cshl_356_uky_mapped_filtered_sorted</th>\n",
       "      <th>cshl_1304_uky_mapped_filtered_sorted</th>\n",
       "      <th>cshl_1271_uky_mapped_filtered_sorted</th>\n",
       "      <th>cshl_1291_uky_mapped_filtered_sorted</th>\n",
       "      <th>total_counts</th>\n",
       "      <th>percentile</th>\n",
       "      <th>rank</th>\n",
       "    </tr>\n",
       "  </thead>\n",
       "  <tbody>\n",
       "    <tr>\n",
       "      <th>ENSG00000132639.13</th>\n",
       "      <td>96275.0</td>\n",
       "      <td>157565.0</td>\n",
       "      <td>289730</td>\n",
       "      <td>75717.0</td>\n",
       "      <td>523012.0</td>\n",
       "      <td>0.99938</td>\n",
       "      <td>33.0</td>\n",
       "    </tr>\n",
       "  </tbody>\n",
       "</table>\n",
       "</div>"
      ],
      "text/plain": [
       "                    cshl_356_uky_mapped_filtered_sorted  \\\n",
       "ENSG00000132639.13                              96275.0   \n",
       "\n",
       "                    cshl_1304_uky_mapped_filtered_sorted  \\\n",
       "ENSG00000132639.13                              157565.0   \n",
       "\n",
       "                    cshl_1271_uky_mapped_filtered_sorted  \\\n",
       "ENSG00000132639.13                                289730   \n",
       "\n",
       "                    cshl_1291_uky_mapped_filtered_sorted  total_counts  \\\n",
       "ENSG00000132639.13                               75717.0      523012.0   \n",
       "\n",
       "                    percentile  rank  \n",
       "ENSG00000132639.13     0.99938  33.0  "
      ]
     },
     "execution_count": 16,
     "metadata": {},
     "output_type": "execute_result"
    }
   ],
   "source": [
    "## See rank for SNAP25\n",
    "df_genes.loc[df_genes.index.str.contains(\"ENSG00000132639\")]"
   ]
  },
  {
   "cell_type": "code",
   "execution_count": 17,
   "id": "e9c92a3a",
   "metadata": {},
   "outputs": [],
   "source": [
    "## Get total counts for all genes with more than 0 counts\n",
    "total_counts = df_genes[\"total_counts\"]"
   ]
  },
  {
   "cell_type": "code",
   "execution_count": 18,
   "id": "de003a00",
   "metadata": {},
   "outputs": [],
   "source": [
    "## Get log total counts\n",
    "log_total_counts = np.log10(df_genes[\"total_counts\"])"
   ]
  },
  {
   "cell_type": "code",
   "execution_count": 19,
   "id": "53bd500f",
   "metadata": {},
   "outputs": [],
   "source": [
    "## Use ggplot colors\n",
    "ggplot2_colors = [\"#F8766D\", \"#CD9600\", \"#7CAE00\", \"#00BE67\", \"#00BFC4\", \"#00A9FF\", \"#C77CFF\", \"#FF61CC\"]"
   ]
  },
  {
   "cell_type": "code",
   "execution_count": 20,
   "id": "7432c758",
   "metadata": {},
   "outputs": [
    {
     "data": {
      "image/png": "[encoded data removed]",
      "text/plain": [
       "<Figure size 432x288 with 1 Axes>"
      ]
     },
     "metadata": {
      "needs_background": "light"
     },
     "output_type": "display_data"
    }
   ],
   "source": [
    "## Create log plot\n",
    "\n",
    "fig, ax = plt.subplots(figsize = (6,4))\n",
    "\n",
    "\n",
    "log_total_counts.plot(kind = \"hist\", density = True, bins = 100, color=\"#F8766D\", alpha=0.5) # change density to true, because KDE uses density\n",
    "\n",
    "\n",
    "log_total_counts.plot(kind = \"kde\", color=\"#CD9600\", alpha=1)\n",
    "\n",
    "ax.set_xlabel(\"Log10 Total Counts\")\n",
    "\n",
    "\n",
    "ax.set_title(\"Histogram of Total Read Counts per Gene\")\n",
    "\n",
    "ax.axvline(5.71, alpha=1, ymax = 0.12, linestyle = \":\", color=\"#7CAE00\")\n",
    "\n",
    "\n",
    "ax.text(5.71, 0.10, \"SNAP25\", size = 12, alpha = 1, color=\"#7CAE00\")\n",
    "\n",
    "\n",
    "plt.show()"
   ]
  },
  {
   "cell_type": "code",
   "execution_count": 22,
   "id": "f9220c7d",
   "metadata": {},
   "outputs": [],
   "source": [
    "## Import extended annotation\n",
    "gtf = pd.read_csv(\"../../data/raw/merged_uky_cshl_CHM13_discovery/bambu_discovery/extended_annotations.gtf\",\n",
    "        sep=\"\\t\", names=[\"chr\", \"source\", \"type\", \"start\", \n",
    "                               \"end\", \"dot_1\", \"strand\", \"dot_2\", \"other\"], low_memory=False, header=0)"
   ]
  },
  {
   "cell_type": "code",
   "execution_count": 23,
   "id": "dc641f99",
   "metadata": {},
   "outputs": [],
   "source": [
    "## Parse through it\n",
    "gtf = parse_df_columns(gtf, is_ref=False)"
   ]
  },
  {
   "cell_type": "code",
   "execution_count": 24,
   "id": "692338e0",
   "metadata": {},
   "outputs": [],
   "source": [
    "## Get gene ids for mitochondrial genes\n",
    "gtf_mito_ids = gtf.loc[gtf[\"chr\"] == \"chrM\"][\"gene_id\"]"
   ]
  },
  {
   "cell_type": "code",
   "execution_count": 26,
   "id": "b4fdc92a",
   "metadata": {},
   "outputs": [],
   "source": [
    "## Select only nuclear genes\n",
    "df_genes_nuclear = df_genes.loc[~df_genes.index.isin(gtf_mito_ids)]"
   ]
  },
  {
   "cell_type": "code",
   "execution_count": 27,
   "id": "c1d92af8",
   "metadata": {},
   "outputs": [],
   "source": [
    "## Total counts for nuclear genes\n",
    "total_counts_nuclear = df_genes_nuclear[\"total_counts\"]"
   ]
  },
  {
   "cell_type": "code",
   "execution_count": 29,
   "id": "af6e3f8e",
   "metadata": {},
   "outputs": [
    {
     "data": {
      "image/png": "[encoded data removed]",
      "text/plain": [
       "<Figure size 432x288 with 1 Axes>"
      ]
     },
     "metadata": {
      "needs_background": "light"
     },
     "output_type": "display_data"
    }
   ],
   "source": [
    "## Make graph for nuclear genes\n",
    "fig, ax = plt.subplots(figsize = (6,4))\n",
    "\n",
    "total_counts_nuclear.plot(kind = \"hist\", density = True, bins = 100, color=\"#F8766D\", alpha=0.5) # change density to true, because KDE uses density\n",
    "\n",
    "ax.set_xlabel(\"Total Counts\")\n",
    "\n",
    "ax.set_title(\"Histogram of Total Read Counts per Gene (Nuclear Only)\\n\")\n",
    "\n",
    "ax.axvline(523012.0, alpha=1, ymax = 0.2, linestyle = \":\", color=\"#7CAE00\")\n",
    "\n",
    "ax.text(523012.0, 0.000025, \"SNAP25\", fontsize = 12, alpha = 1, color=\"#7CAE00\")\n",
    "\n",
    "\n",
    "plt.show()"
   ]
  },
  {
   "cell_type": "markdown",
   "id": "fb0fbf6d",
   "metadata": {},
   "source": [
    "#####################################################################################################"
   ]
  },
  {
   "cell_type": "code",
   "execution_count": 17,
   "id": "e540efef",
   "metadata": {},
   "outputs": [],
   "source": [
    "df_transcripts = df_transcripts[['TXNAME', 'GENEID', 'total_counts', \"average_counts\",\n",
    "                                 'cshl_356_uky_mapped_filtered_sorted',\n",
    "                                   'cshl_1304_uky_mapped_filtered_sorted',\n",
    "                                   'cshl_1271_uky_mapped_filtered_sorted',\n",
    "                                   'cshl_1291_uky_mapped_filtered_sorted']]"
   ]
  },
  {
   "cell_type": "code",
   "execution_count": 18,
   "id": "77ec48a8",
   "metadata": {},
   "outputs": [],
   "source": [
    "df_transcripts.columns = ['t_id', 'g_id', 'total_counts', 'avg_counts', '356_counts',\n",
    "       '1304_counts',\n",
    "       '1271_counts',\n",
    "       '1291_counts']"
   ]
  },
  {
   "cell_type": "code",
   "execution_count": 20,
   "id": "35508678",
   "metadata": {},
   "outputs": [
    {
     "data": {
      "text/html": [
       "<div>\n",
       "<style scoped>\n",
       "    .dataframe tbody tr th:only-of-type {\n",
       "        vertical-align: middle;\n",
       "    }\n",
       "\n",
       "    .dataframe tbody tr th {\n",
       "        vertical-align: top;\n",
       "    }\n",
       "\n",
       "    .dataframe thead th {\n",
       "        text-align: right;\n",
       "    }\n",
       "</style>\n",
       "<table border=\"1\" class=\"dataframe\">\n",
       "  <thead>\n",
       "    <tr style=\"text-align: right;\">\n",
       "      <th></th>\n",
       "      <th>t_id</th>\n",
       "      <th>g_id</th>\n",
       "      <th>total_counts</th>\n",
       "      <th>avg_counts</th>\n",
       "      <th>356_counts</th>\n",
       "      <th>1304_counts</th>\n",
       "      <th>1271_counts</th>\n",
       "      <th>1291_counts</th>\n",
       "    </tr>\n",
       "  </thead>\n",
       "  <tbody>\n",
       "    <tr>\n",
       "      <th>6028</th>\n",
       "      <td>ENST00000254976.7</td>\n",
       "      <td>ENSG00000132639.13</td>\n",
       "      <td>452745.057677</td>\n",
       "      <td>113186.264419</td>\n",
       "      <td>73226.941808</td>\n",
       "      <td>120755.178982</td>\n",
       "      <td>243469.016722</td>\n",
       "      <td>15293.920165</td>\n",
       "    </tr>\n",
       "    <tr>\n",
       "      <th>11458</th>\n",
       "      <td>ENST00000304886.6</td>\n",
       "      <td>ENSG00000132639.13</td>\n",
       "      <td>73336.246871</td>\n",
       "      <td>18334.061718</td>\n",
       "      <td>8086.473459</td>\n",
       "      <td>21690.564855</td>\n",
       "      <td>40238.846864</td>\n",
       "      <td>3320.361692</td>\n",
       "    </tr>\n",
       "    <tr>\n",
       "      <th>54495</th>\n",
       "      <td>ENST00000430336.1</td>\n",
       "      <td>ENSG00000132639.13</td>\n",
       "      <td>488.710918</td>\n",
       "      <td>122.177730</td>\n",
       "      <td>69.084351</td>\n",
       "      <td>122.176656</td>\n",
       "      <td>213.103812</td>\n",
       "      <td>84.346099</td>\n",
       "    </tr>\n",
       "    <tr>\n",
       "      <th>99540</th>\n",
       "      <td>ENST00000492814.1</td>\n",
       "      <td>ENSG00000132639.13</td>\n",
       "      <td>26.000324</td>\n",
       "      <td>6.500081</td>\n",
       "      <td>0.000000</td>\n",
       "      <td>20.000324</td>\n",
       "      <td>0.000000</td>\n",
       "      <td>6.000000</td>\n",
       "    </tr>\n",
       "    <tr>\n",
       "      <th>102012</th>\n",
       "      <td>ENST00000495883.1</td>\n",
       "      <td>ENSG00000132639.13</td>\n",
       "      <td>92690.984209</td>\n",
       "      <td>23172.746052</td>\n",
       "      <td>14892.500381</td>\n",
       "      <td>14977.079182</td>\n",
       "      <td>5809.032602</td>\n",
       "      <td>57012.372044</td>\n",
       "    </tr>\n",
       "  </tbody>\n",
       "</table>\n",
       "</div>"
      ],
      "text/plain": [
       "                     t_id                g_id   total_counts     avg_counts  \\\n",
       "6028    ENST00000254976.7  ENSG00000132639.13  452745.057677  113186.264419   \n",
       "11458   ENST00000304886.6  ENSG00000132639.13   73336.246871   18334.061718   \n",
       "54495   ENST00000430336.1  ENSG00000132639.13     488.710918     122.177730   \n",
       "99540   ENST00000492814.1  ENSG00000132639.13      26.000324       6.500081   \n",
       "102012  ENST00000495883.1  ENSG00000132639.13   92690.984209   23172.746052   \n",
       "\n",
       "          356_counts    1304_counts    1271_counts   1291_counts  \n",
       "6028    73226.941808  120755.178982  243469.016722  15293.920165  \n",
       "11458    8086.473459   21690.564855   40238.846864   3320.361692  \n",
       "54495      69.084351     122.176656     213.103812     84.346099  \n",
       "99540       0.000000      20.000324       0.000000      6.000000  \n",
       "102012  14892.500381   14977.079182    5809.032602  57012.372044  "
      ]
     },
     "execution_count": 20,
     "metadata": {},
     "output_type": "execute_result"
    }
   ],
   "source": [
    "## Look at SNAP25 expression\n",
    "df_transcripts.loc[df_transcripts[\"g_id\"].str.contains(\"ENSG00000132639\")]"
   ]
  },
  {
   "cell_type": "code",
   "execution_count": null,
   "id": "bd967d49",
   "metadata": {},
   "outputs": [],
   "source": []
  }
 ],
 "metadata": {
  "kernelspec": {
   "display_name": "Python 3 (ipykernel)",
   "language": "python",
   "name": "python3"
  },
  "language_info": {
   "codemirror_mode": {
    "name": "ipython",
    "version": 3
   },
   "file_extension": ".py",
   "mimetype": "text/x-python",
   "name": "python",
   "nbconvert_exporter": "python",
   "pygments_lexer": "ipython3",
   "version": "3.10.6"
  }
 },
 "nbformat": 4,
 "nbformat_minor": 5
}
