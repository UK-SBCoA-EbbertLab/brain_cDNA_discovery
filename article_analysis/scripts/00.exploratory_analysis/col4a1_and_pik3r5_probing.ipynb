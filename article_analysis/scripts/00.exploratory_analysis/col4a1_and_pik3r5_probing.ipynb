{
 "cells": [
  {
   "cell_type": "code",
   "execution_count": 17,
   "id": "e1206944",
   "metadata": {},
   "outputs": [],
   "source": [
    "## Import Libraries\n",
    "import pandas as pd\n",
    "import numpy as np\n",
    "import csv\n",
    "import matplotlib.pyplot as plt\n",
    "%matplotlib inline\n",
    "import openpyxl\n",
    "\n",
    "pd.set_option(\"max_colwidth\", None)\n",
    "pd.set_option('display.max_columns', None)\n",
    "pd.set_option('display.max_rows', None)"
   ]
  },
  {
   "cell_type": "code",
   "execution_count": 18,
   "id": "7d87c847",
   "metadata": {},
   "outputs": [],
   "source": [
    "'''\n",
    "function name: parse_df_columns\n",
    "\n",
    "purpose: parsing the last aggregate column of the gtf/gff3 into useful columns and cleaning non-relevant columns\n",
    "\n",
    "input: dataframe containining \"raw\" gtf/gff\n",
    "\n",
    "output: dataframe containing gtf with useful columns [\"gene_id\", \"transcript_id\", etc...]\n",
    "'''\n",
    "\n",
    "def parse_df_columns(df, is_ref=True):\n",
    "\n",
    "    if is_ref:\n",
    "\n",
    "        ## Get gene ids\n",
    "        df[\"gene_id\"] = df[\"other\"].str.split(\"source_gene=\", expand=True)[1].str.split(';', expand=True)[0]\n",
    "        \n",
    "        ## Get gene names\n",
    "        df[\"gene_name\"] = df[\"other\"].str.split(\"source_gene_common_name=\", expand=True)[1].str.split(';', expand=True)[0]\n",
    "        \n",
    "        ## Only keep relevant\n",
    "        df = df[[\"chr\", \"gene_id\", \"gene_name\"]].copy()\n",
    "\n",
    "        ## Drop duplicates\n",
    "        df.drop_duplicates(inplace=True)\n",
    "        \n",
    "\n",
    "    else:\n",
    "\n",
    "        ## Get CHM gene ids\n",
    "        df[\"gene_id\"] = df[\"other\"].str.split('\";', expand=True)[0].str.extract(\"([^ \\\"]*$)\", expand=True)\n",
    "\n",
    "        ## Drop \"other\" column\n",
    "        df = df[[\"chr\", \"gene_id\"]].copy()\n",
    "        \n",
    "    for col in df.columns:\n",
    "        df.loc[df[col].isnull(), col] = np.NaN\n",
    "        \n",
    "\n",
    "    return df"
   ]
  },
  {
   "cell_type": "code",
   "execution_count": 19,
   "id": "7ca5f251",
   "metadata": {},
   "outputs": [],
   "source": [
    "'''\n",
    "function name: calculate_cpm\n",
    "\n",
    "purpose: Calculate CPM for the each sample given\n",
    "\n",
    "input: Counts dataset\n",
    "\n",
    "output: Counts dataset with CPM columns as well\n",
    "'''\n",
    "\n",
    "def calculate_cpm(df):\n",
    "\n",
    "    ## Loop through counts columns to calculate CPM and add to the dataframe\n",
    "    for col in [\"total_counts\"]:\n",
    "        \n",
    "        df[col] = round(df[col], 2)\n",
    "        cpm_name = col.replace(\"_counts\", \"_CPM\")\n",
    "        df[cpm_name] = round(((df[col]/(df[col].sum())) * 1000000), 2)\n",
    "    \n",
    "    return df "
   ]
  },
  {
   "cell_type": "code",
   "execution_count": 20,
   "id": "bf3657a5",
   "metadata": {},
   "outputs": [],
   "source": [
    "## Import transcripts\n",
    "df_transcripts = pd.read_csv((\"C:/Users/local_bag222/OneDrive - University of Kentucky/programming/ebbert_lab/data/\"\n",
    "                             \"aged_cDNA_data/GRCh38-106_good_ONT/bambu_discovery/counts_transcript.txt\"), sep=\"\\t\",\n",
    "                names=[\"TXNAME\", \"GENEID\", \"sample_PAM54788\", \"sample_PAM54335\", \"sample_PAM54401\", \"sample_PAM54902\"],\n",
    "                             low_memory=False, header=0)"
   ]
  },
  {
   "cell_type": "code",
   "execution_count": 21,
   "id": "310e6fd9",
   "metadata": {},
   "outputs": [],
   "source": [
    "## Import Genes\n",
    "df_genes = pd.read_csv((\"C:/Users/local_bag222/OneDrive - University of Kentucky/programming/ebbert_lab/data/\"\n",
    "                             \"aged_cDNA_data/GRCh38-106_good_ONT/bambu_discovery/counts_gene.txt\"), sep=\"\\t\", \n",
    "                       names=[\"GENEID\", \"sample_PAM54788\", \"sample_PAM54335\", \"sample_PAM54401\", \"sample_PAM54902\"],\n",
    "                       low_memory=False, header=0)"
   ]
  },
  {
   "cell_type": "code",
   "execution_count": 22,
   "id": "da9c4de0",
   "metadata": {},
   "outputs": [],
   "source": [
    "## Get total counts for genes and transcripts\n",
    "df_genes[\"total_counts\"] = df_genes[[\"sample_PAM54788\", \"sample_PAM54335\", \"sample_PAM54401\", \"sample_PAM54902\"]].sum(axis=1)\n",
    "df_transcripts[\"total_counts\"] = df_transcripts[[\"sample_PAM54788\", \"sample_PAM54335\", \"sample_PAM54401\", \"sample_PAM54902\"]].sum(axis=1)"
   ]
  },
  {
   "cell_type": "code",
   "execution_count": 23,
   "id": "333f0c40",
   "metadata": {},
   "outputs": [],
   "source": [
    "## Only keep genes and transcripts with more than 0 counts\n",
    "df_genes = df_genes.loc[df_genes[\"total_counts\"] > 0].copy()\n",
    "df_transcripts = df_transcripts.loc[df_transcripts[\"total_counts\"] > 0].copy()"
   ]
  },
  {
   "cell_type": "code",
   "execution_count": 24,
   "id": "43a6b511",
   "metadata": {},
   "outputs": [],
   "source": [
    "## Calculate percentile\n",
    "df_genes['percentile'] = df_genes[\"total_counts\"].rank(pct=True)"
   ]
  },
  {
   "cell_type": "code",
   "execution_count": 25,
   "id": "15e399e6",
   "metadata": {},
   "outputs": [],
   "source": [
    "## Calculate Rank\n",
    "df_genes['rank'] = df_genes[\"total_counts\"].rank(ascending=False)"
   ]
  },
  {
   "cell_type": "code",
   "execution_count": 26,
   "id": "6eaeae07",
   "metadata": {},
   "outputs": [
    {
     "data": {
      "text/html": [
       "<div>\n",
       "<style scoped>\n",
       "    .dataframe tbody tr th:only-of-type {\n",
       "        vertical-align: middle;\n",
       "    }\n",
       "\n",
       "    .dataframe tbody tr th {\n",
       "        vertical-align: top;\n",
       "    }\n",
       "\n",
       "    .dataframe thead th {\n",
       "        text-align: right;\n",
       "    }\n",
       "</style>\n",
       "<table border=\"1\" class=\"dataframe\">\n",
       "  <thead>\n",
       "    <tr style=\"text-align: right;\">\n",
       "      <th></th>\n",
       "      <th>GENEID</th>\n",
       "      <th>sample_PAM54788</th>\n",
       "      <th>sample_PAM54335</th>\n",
       "      <th>sample_PAM54401</th>\n",
       "      <th>sample_PAM54902</th>\n",
       "      <th>total_counts</th>\n",
       "      <th>percentile</th>\n",
       "      <th>rank</th>\n",
       "    </tr>\n",
       "  </thead>\n",
       "  <tbody>\n",
       "    <tr>\n",
       "      <th>16439</th>\n",
       "      <td>ENSG00000187498</td>\n",
       "      <td>238</td>\n",
       "      <td>185</td>\n",
       "      <td>227</td>\n",
       "      <td>242</td>\n",
       "      <td>892</td>\n",
       "      <td>0.785503</td>\n",
       "      <td>10956.0</td>\n",
       "    </tr>\n",
       "  </tbody>\n",
       "</table>\n",
       "</div>"
      ],
      "text/plain": [
       "                GENEID  sample_PAM54788  sample_PAM54335  sample_PAM54401  \\\n",
       "16439  ENSG00000187498              238              185              227   \n",
       "\n",
       "       sample_PAM54902  total_counts  percentile     rank  \n",
       "16439              242           892    0.785503  10956.0  "
      ]
     },
     "execution_count": 26,
     "metadata": {},
     "output_type": "execute_result"
    }
   ],
   "source": [
    "## See rank for COL4A1\n",
    "df_genes.loc[df_genes[\"GENEID\"].str.contains(\"ENSG00000187498\")]"
   ]
  },
  {
   "cell_type": "code",
   "execution_count": 27,
   "id": "fe5bf46e",
   "metadata": {},
   "outputs": [
    {
     "data": {
      "text/html": [
       "<div>\n",
       "<style scoped>\n",
       "    .dataframe tbody tr th:only-of-type {\n",
       "        vertical-align: middle;\n",
       "    }\n",
       "\n",
       "    .dataframe tbody tr th {\n",
       "        vertical-align: top;\n",
       "    }\n",
       "\n",
       "    .dataframe thead th {\n",
       "        text-align: right;\n",
       "    }\n",
       "</style>\n",
       "<table border=\"1\" class=\"dataframe\">\n",
       "  <thead>\n",
       "    <tr style=\"text-align: right;\">\n",
       "      <th></th>\n",
       "      <th>GENEID</th>\n",
       "      <th>sample_PAM54788</th>\n",
       "      <th>sample_PAM54335</th>\n",
       "      <th>sample_PAM54401</th>\n",
       "      <th>sample_PAM54902</th>\n",
       "      <th>total_counts</th>\n",
       "      <th>percentile</th>\n",
       "      <th>rank</th>\n",
       "    </tr>\n",
       "  </thead>\n",
       "  <tbody>\n",
       "    <tr>\n",
       "      <th>48588</th>\n",
       "      <td>ENSG00000266389</td>\n",
       "      <td>2</td>\n",
       "      <td>4</td>\n",
       "      <td>0</td>\n",
       "      <td>0</td>\n",
       "      <td>6</td>\n",
       "      <td>0.180281</td>\n",
       "      <td>41866.5</td>\n",
       "    </tr>\n",
       "  </tbody>\n",
       "</table>\n",
       "</div>"
      ],
      "text/plain": [
       "                GENEID  sample_PAM54788  sample_PAM54335  sample_PAM54401  \\\n",
       "48588  ENSG00000266389                2                4                0   \n",
       "\n",
       "       sample_PAM54902  total_counts  percentile     rank  \n",
       "48588                0             6    0.180281  41866.5  "
      ]
     },
     "execution_count": 27,
     "metadata": {},
     "output_type": "execute_result"
    }
   ],
   "source": [
    "## See rank for PIK3R5\n",
    "df_genes.loc[df_genes[\"GENEID\"].str.contains(\"ENSG00000266389\")]"
   ]
  },
  {
   "cell_type": "code",
   "execution_count": 28,
   "id": "e295bbb7",
   "metadata": {},
   "outputs": [],
   "source": [
    "## Calculate log10 total counts\n",
    "df_genes[\"log10_total_counts\"] = np.log10(df_genes[\"total_counts\"])"
   ]
  },
  {
   "cell_type": "code",
   "execution_count": 29,
   "id": "e9c92a3a",
   "metadata": {},
   "outputs": [],
   "source": [
    "## Get total counts for all genes with more than 0 counts\n",
    "total_counts = df_genes[\"total_counts\"]"
   ]
  },
  {
   "cell_type": "code",
   "execution_count": 30,
   "id": "de003a00",
   "metadata": {},
   "outputs": [],
   "source": [
    "## Get log total counts\n",
    "log_total_counts = df_genes[\"log10_total_counts\"]"
   ]
  },
  {
   "cell_type": "code",
   "execution_count": 31,
   "id": "53bd500f",
   "metadata": {},
   "outputs": [],
   "source": [
    "## Use ggplot colors\n",
    "ggplot2_colors = [\"#F8766D\", \"#CD9600\", \"#7CAE00\", \"#00BE67\", \"#00BFC4\", \"#00A9FF\", \"#C77CFF\", \"#FF61CC\"]"
   ]
  },
  {
   "cell_type": "code",
   "execution_count": 32,
   "id": "7432c758",
   "metadata": {},
   "outputs": [
    {
     "data": {
      "image/png": "[encoded data removed]",
      "text/plain": [
       "<Figure size 432x288 with 1 Axes>"
      ]
     },
     "metadata": {
      "needs_background": "light"
     },
     "output_type": "display_data"
    }
   ],
   "source": [
    "## Create log plot\n",
    "\n",
    "fig, ax = plt.subplots(figsize = (6,4))\n",
    "\n",
    "\n",
    "log_total_counts.plot(kind = \"hist\", density = True, bins = 100, color=\"#F8766D\", alpha=0.5) # change density to true, because KDE uses density\n",
    "\n",
    "\n",
    "log_total_counts.plot(kind = \"kde\", color=\"#CD9600\", alpha=1)\n",
    "\n",
    "ax.set_xlabel(\"Log10 Total Counts\")\n",
    "\n",
    "\n",
    "ax.set_title(\"Histogram of Total Read Counts per Gene\")\n",
    "\n",
    "ax.axvline(2.950365, alpha=1, ymax = 0.60, linestyle = \":\", color=\"#7CAE00\", lw=3)\n",
    "ax.axvline(0.778151, alpha=1, ymax = 0.80, linestyle = \":\", color=\"#00BE67\", lw=3)\n",
    "\n",
    "\n",
    "ax.text(1.5, 0.45, \"COL4A1\", size = 12, alpha = 1, color=\"#7CAE00\", weight='bold')\n",
    "ax.text(0.4, 0.57, \"PIK3R5\", size = 12, alpha = 1, color=\"#00BE67\", weight='bold')\n",
    "\n",
    "\n",
    "plt.show()"
   ]
  },
  {
   "cell_type": "code",
   "execution_count": 35,
   "id": "f9220c7d",
   "metadata": {},
   "outputs": [],
   "source": [
    "## Import extended annotation\n",
    "gtf = pd.read_csv((\"C:/Users/local_bag222/OneDrive - University of Kentucky/programming/ebbert_lab/data/\"\n",
    "                             \"aged_cDNA_data/GRCh38-106_good_ONT/bambu_discovery/extended_annotations.gtf\"),\n",
    "        sep=\"\\t\", names=[\"chr\", \"source\", \"type\", \"start\", \n",
    "                               \"end\", \"dot_1\", \"strand\", \"dot_2\", \"other\"], low_memory=False, header=0)"
   ]
  },
  {
   "cell_type": "code",
   "execution_count": 36,
   "id": "dc641f99",
   "metadata": {},
   "outputs": [],
   "source": [
    "## Parse through it\n",
    "gtf = parse_df_columns(gtf, is_ref=False)"
   ]
  },
  {
   "cell_type": "code",
   "execution_count": 37,
   "id": "692338e0",
   "metadata": {},
   "outputs": [],
   "source": [
    "## Get gene ids for mitochondrial genes\n",
    "gtf_mito_ids = gtf.loc[gtf[\"chr\"] == \"MT\"][\"gene_id\"]"
   ]
  },
  {
   "cell_type": "code",
   "execution_count": 38,
   "id": "b4fdc92a",
   "metadata": {},
   "outputs": [],
   "source": [
    "## Select only nuclear genes\n",
    "df_genes_nuclear = df_genes.loc[~df_genes[\"GENEID\"].isin(gtf_mito_ids)]"
   ]
  },
  {
   "cell_type": "code",
   "execution_count": 39,
   "id": "c1d92af8",
   "metadata": {},
   "outputs": [],
   "source": [
    "## Total counts for nuclear genes\n",
    "total_counts_nuclear = df_genes_nuclear[\"total_counts\"]"
   ]
  },
  {
   "cell_type": "code",
   "execution_count": 40,
   "id": "af6e3f8e",
   "metadata": {},
   "outputs": [
    {
     "data": {
      "image/png": "[encoded data removed]",
      "text/plain": [
       "<Figure size 432x288 with 1 Axes>"
      ]
     },
     "metadata": {
      "needs_background": "light"
     },
     "output_type": "display_data"
    }
   ],
   "source": [
    "## Make graph for nuclear genes\n",
    "fig, ax = plt.subplots(figsize = (6,4))\n",
    "\n",
    "total_counts_nuclear.plot(kind = \"hist\", density = True, bins = 100, color=\"#F8766D\", alpha=0.5) # change density to true, because KDE uses density\n",
    "\n",
    "ax.set_xlabel(\"Total Counts\")\n",
    "\n",
    "ax.set_title(\"Histogram of Total Read Counts per Gene (Nuclear Only)\")\n",
    "\n",
    "ax.axvline(892, alpha=1, ymax = 0.2, linestyle = \":\", color=\"#7CAE00\")\n",
    "ax.axvline(6, alpha=1, ymax = 0.4, linestyle = \":\", color=\"#00BE67\")\n",
    "\n",
    "ax.text(892, 0.000025, \"COL4A1\", fontsize = 12, alpha = 1, color=\"#7CAE00\")\n",
    "ax.text(6, 0.000050, \"PIK3R5\", fontsize = 12, alpha = 1, color=\"#00BE67\")\n",
    "\n",
    "plt.show()"
   ]
  },
  {
   "cell_type": "markdown",
   "id": "fb0fbf6d",
   "metadata": {},
   "source": [
    "#####################################################################################################"
   ]
  },
  {
   "cell_type": "code",
   "execution_count": 41,
   "id": "165dfeb8",
   "metadata": {},
   "outputs": [
    {
     "data": {
      "text/html": [
       "<div>\n",
       "<style scoped>\n",
       "    .dataframe tbody tr th:only-of-type {\n",
       "        vertical-align: middle;\n",
       "    }\n",
       "\n",
       "    .dataframe tbody tr th {\n",
       "        vertical-align: top;\n",
       "    }\n",
       "\n",
       "    .dataframe thead th {\n",
       "        text-align: right;\n",
       "    }\n",
       "</style>\n",
       "<table border=\"1\" class=\"dataframe\">\n",
       "  <thead>\n",
       "    <tr style=\"text-align: right;\">\n",
       "      <th></th>\n",
       "      <th>TXNAME</th>\n",
       "      <th>GENEID</th>\n",
       "      <th>sample_PAM54788</th>\n",
       "      <th>sample_PAM54335</th>\n",
       "      <th>sample_PAM54401</th>\n",
       "      <th>sample_PAM54902</th>\n",
       "      <th>total_counts</th>\n",
       "    </tr>\n",
       "  </thead>\n",
       "  <tbody>\n",
       "    <tr>\n",
       "      <th>25818</th>\n",
       "      <td>ENST00000375820</td>\n",
       "      <td>ENSG00000187498</td>\n",
       "      <td>1.698380e+02</td>\n",
       "      <td>9.545242e+01</td>\n",
       "      <td>127.454516</td>\n",
       "      <td>1.003447e+02</td>\n",
       "      <td>4.930896e+02</td>\n",
       "    </tr>\n",
       "    <tr>\n",
       "      <th>75034</th>\n",
       "      <td>ENST00000467182</td>\n",
       "      <td>ENSG00000187498</td>\n",
       "      <td>0.000000e+00</td>\n",
       "      <td>8.000000e-16</td>\n",
       "      <td>0.000000</td>\n",
       "      <td>0.000000e+00</td>\n",
       "      <td>8.000000e-16</td>\n",
       "    </tr>\n",
       "    <tr>\n",
       "      <th>80832</th>\n",
       "      <td>ENST00000474391</td>\n",
       "      <td>ENSG00000187498</td>\n",
       "      <td>0.000000e+00</td>\n",
       "      <td>8.000000e-16</td>\n",
       "      <td>0.000000</td>\n",
       "      <td>1.000000e+00</td>\n",
       "      <td>1.000000e+00</td>\n",
       "    </tr>\n",
       "    <tr>\n",
       "      <th>134719</th>\n",
       "      <td>ENST00000543140</td>\n",
       "      <td>ENSG00000187498</td>\n",
       "      <td>0.000000e+00</td>\n",
       "      <td>5.657246e-10</td>\n",
       "      <td>2.123344</td>\n",
       "      <td>5.992019e+00</td>\n",
       "      <td>8.115363e+00</td>\n",
       "    </tr>\n",
       "    <tr>\n",
       "      <th>184081</th>\n",
       "      <td>ENST00000615732</td>\n",
       "      <td>ENSG00000187498</td>\n",
       "      <td>0.000000e+00</td>\n",
       "      <td>2.746369e+01</td>\n",
       "      <td>46.538724</td>\n",
       "      <td>6.783859e+01</td>\n",
       "      <td>1.418410e+02</td>\n",
       "    </tr>\n",
       "    <tr>\n",
       "      <th>201548</th>\n",
       "      <td>ENST00000647632</td>\n",
       "      <td>ENSG00000187498</td>\n",
       "      <td>0.000000e+00</td>\n",
       "      <td>3.393400e-12</td>\n",
       "      <td>7.122427</td>\n",
       "      <td>9.255000e-13</td>\n",
       "      <td>7.122427e+00</td>\n",
       "    </tr>\n",
       "    <tr>\n",
       "      <th>201703</th>\n",
       "      <td>ENST00000647797</td>\n",
       "      <td>ENSG00000187498</td>\n",
       "      <td>3.000000e-16</td>\n",
       "      <td>3.800572e+00</td>\n",
       "      <td>24.419750</td>\n",
       "      <td>3.825383e-09</td>\n",
       "      <td>2.822032e+01</td>\n",
       "    </tr>\n",
       "    <tr>\n",
       "      <th>202052</th>\n",
       "      <td>ENST00000648170</td>\n",
       "      <td>ENSG00000187498</td>\n",
       "      <td>0.000000e+00</td>\n",
       "      <td>0.000000e+00</td>\n",
       "      <td>0.000000</td>\n",
       "      <td>2.000000e+00</td>\n",
       "      <td>2.000000e+00</td>\n",
       "    </tr>\n",
       "    <tr>\n",
       "      <th>203505</th>\n",
       "      <td>ENST00000649720</td>\n",
       "      <td>ENSG00000187498</td>\n",
       "      <td>6.716197e+01</td>\n",
       "      <td>5.828332e+01</td>\n",
       "      <td>16.341237</td>\n",
       "      <td>6.482473e+01</td>\n",
       "      <td>2.066113e+02</td>\n",
       "    </tr>\n",
       "    <tr>\n",
       "      <th>203521</th>\n",
       "      <td>ENST00000649738</td>\n",
       "      <td>ENSG00000187498</td>\n",
       "      <td>1.496288e-06</td>\n",
       "      <td>1.436179e-06</td>\n",
       "      <td>0.000001</td>\n",
       "      <td>8.937830e-07</td>\n",
       "      <td>5.076239e-06</td>\n",
       "    </tr>\n",
       "    <tr>\n",
       "      <th>203869</th>\n",
       "      <td>ENST00000650115</td>\n",
       "      <td>ENSG00000187498</td>\n",
       "      <td>0.000000e+00</td>\n",
       "      <td>0.000000e+00</td>\n",
       "      <td>1.500000</td>\n",
       "      <td>0.000000e+00</td>\n",
       "      <td>1.500000e+00</td>\n",
       "    </tr>\n",
       "    <tr>\n",
       "      <th>204163</th>\n",
       "      <td>ENST00000650424</td>\n",
       "      <td>ENSG00000187498</td>\n",
       "      <td>0.000000e+00</td>\n",
       "      <td>9.969000e-13</td>\n",
       "      <td>0.000000</td>\n",
       "      <td>1.000000e-15</td>\n",
       "      <td>9.979000e-13</td>\n",
       "    </tr>\n",
       "    <tr>\n",
       "      <th>204296</th>\n",
       "      <td>ENST00000650566</td>\n",
       "      <td>ENSG00000187498</td>\n",
       "      <td>1.000000e+00</td>\n",
       "      <td>0.000000e+00</td>\n",
       "      <td>1.500000</td>\n",
       "      <td>0.000000e+00</td>\n",
       "      <td>2.500000e+00</td>\n",
       "    </tr>\n",
       "  </tbody>\n",
       "</table>\n",
       "</div>"
      ],
      "text/plain": [
       "                 TXNAME           GENEID  sample_PAM54788  sample_PAM54335  \\\n",
       "25818   ENST00000375820  ENSG00000187498     1.698380e+02     9.545242e+01   \n",
       "75034   ENST00000467182  ENSG00000187498     0.000000e+00     8.000000e-16   \n",
       "80832   ENST00000474391  ENSG00000187498     0.000000e+00     8.000000e-16   \n",
       "134719  ENST00000543140  ENSG00000187498     0.000000e+00     5.657246e-10   \n",
       "184081  ENST00000615732  ENSG00000187498     0.000000e+00     2.746369e+01   \n",
       "201548  ENST00000647632  ENSG00000187498     0.000000e+00     3.393400e-12   \n",
       "201703  ENST00000647797  ENSG00000187498     3.000000e-16     3.800572e+00   \n",
       "202052  ENST00000648170  ENSG00000187498     0.000000e+00     0.000000e+00   \n",
       "203505  ENST00000649720  ENSG00000187498     6.716197e+01     5.828332e+01   \n",
       "203521  ENST00000649738  ENSG00000187498     1.496288e-06     1.436179e-06   \n",
       "203869  ENST00000650115  ENSG00000187498     0.000000e+00     0.000000e+00   \n",
       "204163  ENST00000650424  ENSG00000187498     0.000000e+00     9.969000e-13   \n",
       "204296  ENST00000650566  ENSG00000187498     1.000000e+00     0.000000e+00   \n",
       "\n",
       "        sample_PAM54401  sample_PAM54902  total_counts  \n",
       "25818        127.454516     1.003447e+02  4.930896e+02  \n",
       "75034          0.000000     0.000000e+00  8.000000e-16  \n",
       "80832          0.000000     1.000000e+00  1.000000e+00  \n",
       "134719         2.123344     5.992019e+00  8.115363e+00  \n",
       "184081        46.538724     6.783859e+01  1.418410e+02  \n",
       "201548         7.122427     9.255000e-13  7.122427e+00  \n",
       "201703        24.419750     3.825383e-09  2.822032e+01  \n",
       "202052         0.000000     2.000000e+00  2.000000e+00  \n",
       "203505        16.341237     6.482473e+01  2.066113e+02  \n",
       "203521         0.000001     8.937830e-07  5.076239e-06  \n",
       "203869         1.500000     0.000000e+00  1.500000e+00  \n",
       "204163         0.000000     1.000000e-15  9.979000e-13  \n",
       "204296         1.500000     0.000000e+00  2.500000e+00  "
      ]
     },
     "execution_count": 41,
     "metadata": {},
     "output_type": "execute_result"
    }
   ],
   "source": [
    "## Look at COL4A1 Expression\n",
    "df_transcripts.loc[df_transcripts[\"GENEID\"].str.contains(\"ENSG00000187498\")]"
   ]
  },
  {
   "cell_type": "code",
   "execution_count": 42,
   "id": "403fcf8d",
   "metadata": {},
   "outputs": [
    {
     "data": {
      "text/html": [
       "<div>\n",
       "<style scoped>\n",
       "    .dataframe tbody tr th:only-of-type {\n",
       "        vertical-align: middle;\n",
       "    }\n",
       "\n",
       "    .dataframe tbody tr th {\n",
       "        vertical-align: top;\n",
       "    }\n",
       "\n",
       "    .dataframe thead th {\n",
       "        text-align: right;\n",
       "    }\n",
       "</style>\n",
       "<table border=\"1\" class=\"dataframe\">\n",
       "  <thead>\n",
       "    <tr style=\"text-align: right;\">\n",
       "      <th></th>\n",
       "      <th>TXNAME</th>\n",
       "      <th>GENEID</th>\n",
       "      <th>sample_PAM54788</th>\n",
       "      <th>sample_PAM54335</th>\n",
       "      <th>sample_PAM54401</th>\n",
       "      <th>sample_PAM54902</th>\n",
       "      <th>total_counts</th>\n",
       "    </tr>\n",
       "  </thead>\n",
       "  <tbody>\n",
       "    <tr>\n",
       "      <th>165021</th>\n",
       "      <td>ENST00000585297</td>\n",
       "      <td>ENSG00000266389</td>\n",
       "      <td>2.0</td>\n",
       "      <td>4.0</td>\n",
       "      <td>0.0</td>\n",
       "      <td>0.0</td>\n",
       "      <td>6.0</td>\n",
       "    </tr>\n",
       "  </tbody>\n",
       "</table>\n",
       "</div>"
      ],
      "text/plain": [
       "                 TXNAME           GENEID  sample_PAM54788  sample_PAM54335  \\\n",
       "165021  ENST00000585297  ENSG00000266389              2.0              4.0   \n",
       "\n",
       "        sample_PAM54401  sample_PAM54902  total_counts  \n",
       "165021              0.0              0.0           6.0  "
      ]
     },
     "execution_count": 42,
     "metadata": {},
     "output_type": "execute_result"
    }
   ],
   "source": [
    "## Look at PIK3R5 Expression\n",
    "df_transcripts.loc[df_transcripts[\"GENEID\"].str.contains(\"ENSG00000266389\")]"
   ]
  }
 ],
 "metadata": {
  "kernelspec": {
   "display_name": "Python 3 (ipykernel)",
   "language": "python",
   "name": "python3"
  },
  "language_info": {
   "codemirror_mode": {
    "name": "ipython",
    "version": 3
   },
   "file_extension": ".py",
   "mimetype": "text/x-python",
   "name": "python",
   "nbconvert_exporter": "python",
   "pygments_lexer": "ipython3",
   "version": "3.10.6"
  }
 },
 "nbformat": 4,
 "nbformat_minor": 5
}
