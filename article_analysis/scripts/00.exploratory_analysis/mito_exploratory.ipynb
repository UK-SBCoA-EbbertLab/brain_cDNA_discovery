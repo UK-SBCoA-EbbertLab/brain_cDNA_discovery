{
 "cells": [
  {
   "cell_type": "code",
   "execution_count": 1,
   "id": "59f6e7c9",
   "metadata": {},
   "outputs": [],
   "source": [
    "## Import libraries\n",
    "import pandas as pd\n",
    "import numpy as np\n",
    "\n",
    "## Display all rows of pandas dataframes\n",
    "pd.set_option('display.max_rows', None)"
   ]
  },
  {
   "cell_type": "code",
   "execution_count": 2,
   "id": "45b26dc3",
   "metadata": {},
   "outputs": [],
   "source": [
    "'''\n",
    "function name: parse_df_columns\n",
    "\n",
    "purpose: parsing the last aggregate column of the gtf/gff3 into useful columns and cleaning non-relevant columns\n",
    "\n",
    "input: dataframe containining \"raw\" gtf/gff\n",
    "\n",
    "output: dataframe containing gtf with useful columns [\"gene_id\", \"transcript_id\", etc...]\n",
    "'''\n",
    "\n",
    "def parse_df_columns(df, is_ref=True):\n",
    "\n",
    "    if is_ref:\n",
    "\n",
    "        ## Get gene ids\n",
    "        df[\"gene_id\"] = df[\"other\"].str.split(\"source_gene=\", expand=True)[1].str.split(';', expand=True)[0]\n",
    "\n",
    "        ## Get transcript ids\n",
    "        df[\"transcript_id\"] = df[\"other\"].str.split(\"source_transcript=\", expand=True)[1].str.split(';', expand=True)[0]\n",
    "\n",
    "        ## Get CHM gene_ids\n",
    "        df[\"CHM_gene_id\"] = df[\"other\"].str.split(\"gene_id=\", expand=True)[1].str.split(';', expand=True)[0]\n",
    "\n",
    "        ## Get transcript ids\n",
    "        df[\"CHM_transcript_id\"] = df[\"other\"].str.split(\"transcript_id=\", expand=True)[1].str.split(';', expand=True)[0]\n",
    "        \n",
    "        ## Get transcript names\n",
    "        df[\"transcript_name\"] = df[\"other\"].str.split(\"source_transcript_name=\", expand=True)[1].str.split(';', expand=True)[0]\n",
    "        \n",
    "        ## Get gene names\n",
    "        df[\"gene_name\"] = df[\"other\"].str.split(\"source_gene_common_name=\", expand=True)[1].str.split(';', expand=True)[0]\n",
    "        \n",
    "        ## Get start codon\n",
    "        df[\"start_codon\"] = df[\"other\"].str.split(\"adj_start=\", expand=True)[1].str.split(\";\", expand=True)[0]\n",
    "        \n",
    "        ## Get stop codon\n",
    "        df[\"stop_codon\"] = df[\"other\"].str.split(\"adj_stop=\", expand=True)[1].str.split(\";\", expand=True)[0]        \n",
    "\n",
    "        ## Only keep relevant\n",
    "        df = df[[\"chr\", \"start\", \"end\", \"strand\", \"type\", \"gene_id\", \"transcript_id\", \"CHM_gene_id\",\n",
    "                 \"CHM_transcript_id\", \"transcript_name\", \"gene_name\", \"start_codon\", \"stop_codon\"]].copy()\n",
    "\n",
    "        ## Drop duplicates\n",
    "        df.drop_duplicates(inplace=True)\n",
    "        \n",
    "\n",
    "    else:\n",
    "\n",
    "        ## Get CHM gene ids\n",
    "        df[\"gene_id\"] = df[\"other\"].str.split('\";', expand=True)[0].str.extract(\"([^ \\\"]*$)\", expand=True)\n",
    "\n",
    "        ## Get CHM transcript ids\n",
    "        df[\"transcript_id\"] = df[\"other\"].str.split('transcript_id \"', expand=True)[1].str.split('\"', expand=True)[0]\n",
    "\n",
    "        ## Get exon number\n",
    "        df[\"exon_number\"] = df[\"other\"].str.split('exon_number \"', expand=True)[1].str.split('\"', expand=True)[0]\n",
    "\n",
    "        ## Label novel transcripts\n",
    "        df.loc[df[\"transcript_id\"].str.startswith(\"tx.\"), \"is_novel_transcript\"] = True\n",
    "        df.loc[~df[\"transcript_id\"].str.startswith(\"tx.\"), \"is_novel_transcript\"] = False\n",
    "\n",
    "        ## Label novel genes\n",
    "        df.loc[df[\"gene_id\"].str.startswith(\"gene.\"), \"is_novel_gene\"] = True\n",
    "        df.loc[~df[\"gene_id\"].str.startswith(\"gene.\"), \"is_novel_gene\"] = False\n",
    "\n",
    "        ## Drop \"other\" column\n",
    "        df.drop(columns=[\"other\", \"dot_1\", \"dot_2\"], inplace=True)\n",
    "\n",
    "    for col in df.columns:\n",
    "        df.loc[df[col].isnull(), col] = np.NaN\n",
    "        \n",
    "\n",
    "    return df"
   ]
  },
  {
   "cell_type": "code",
   "execution_count": 3,
   "id": "e17280aa",
   "metadata": {},
   "outputs": [],
   "source": [
    "bambu_annotation = pd.read_csv(\"C:/Users/bag22/Desktop/current_files/python_files/ebbert_lab/data/2022-07-14_cDNA_data_ebbert_lab_nextflow_pipeline_output_raw/ONT_only_data/GRCh38-106_good_ONT/bambu_discovery/extended_annotations.gtf\", header=None, delimiter=\"\\t\",\n",
    "                        low_memory=False, names=[\"chr\", \"source\", \"type\", \"start\", \"end\", \"dot_1\", \"strand\", \"dot_2\", \"other\"])"
   ]
  },
  {
   "cell_type": "code",
   "execution_count": 4,
   "id": "b1d1061f",
   "metadata": {},
   "outputs": [
    {
     "name": "stderr",
     "output_type": "stream",
     "text": [
      "\n",
      "KeyboardInterrupt\n",
      "\n"
     ]
    }
   ],
   "source": [
    "bambu_annotation = parse_df_columns(bambu_annotation, is_ref=False)"
   ]
  },
  {
   "cell_type": "code",
   "execution_count": null,
   "id": "d8c3fd7d",
   "metadata": {},
   "outputs": [],
   "source": [
    "bambu_annotation_mt = bambu_annotation.loc[bambu_annotation[\"chr\"]==\"MT\"].copy()"
   ]
  },
  {
   "cell_type": "code",
   "execution_count": null,
   "id": "19df5cf2",
   "metadata": {},
   "outputs": [],
   "source": [
    "bambu_annotation = pd.read_csv(\"C:/Users/bag22/Desktop/2022_ebbert_generated_ONT_only_data/GRCh38-106_good_ONT/bambu_discovery/extended_annotations.gtf\", header=None, delimiter=\"\\t\",\n",
    "                        low_memory=False, names=[\"chr\", \"source\", \"type\", \"start\", \"end\", \"dot_1\", \"strand\", \"dot_2\", \"other\"])"
   ]
  },
  {
   "cell_type": "code",
   "execution_count": null,
   "id": "9ded8b6d",
   "metadata": {},
   "outputs": [],
   "source": [
    "bambu_annotation_final = bambu_annotation.merge(bambu_annotation_mt[[\"chr\", \"source\", \"type\", \"start\", \"end\", \"strand\"]], on=[\"chr\", \"source\", \"type\", \"start\", \"end\", \"strand\"], how=\"inner\")"
   ]
  },
  {
   "cell_type": "code",
   "execution_count": null,
   "id": "daf20110",
   "metadata": {},
   "outputs": [],
   "source": [
    "bambu_annotation_final[\"chr\"] = \"chrM\""
   ]
  },
  {
   "cell_type": "code",
   "execution_count": null,
   "id": "b6eb0e33",
   "metadata": {},
   "outputs": [],
   "source": [
    "import csv\n",
    "\n",
    "bambu_annotation_final.to_csv(\"~/Desktop/grch38_mt_only.gtf\", sep=\"\\t\", index=False, header=False, quoting=csv.QUOTE_NONE)"
   ]
  },
  {
   "cell_type": "code",
   "execution_count": null,
   "id": "260c14b2",
   "metadata": {},
   "outputs": [],
   "source": [
    "bambu_annotation.head()"
   ]
  },
  {
   "cell_type": "code",
   "execution_count": null,
   "id": "3a1965bc",
   "metadata": {},
   "outputs": [],
   "source": [
    "bambu_mt_genes = bambu_annotation.loc[bambu_annotation[\"chr\"]==\"MT\"][\"gene_id\"]"
   ]
  },
  {
   "cell_type": "code",
   "execution_count": null,
   "id": "3a7f0179",
   "metadata": {},
   "outputs": [],
   "source": [
    "bambu_mt_genes"
   ]
  },
  {
   "cell_type": "code",
   "execution_count": null,
   "id": "a3784f06",
   "metadata": {},
   "outputs": [],
   "source": [
    "grch_counts = pd.read_csv(\"C:/Users/bag22/Desktop/2022_ebbert_generated_ONT_only_data/GRCh38-106_good_ONT/bambu_discovery/counts_transcript.txt\",\n",
    "                         sep=\"\\t\")\n",
    "\n",
    "new_col_names = []\n",
    "for col in grch_counts.columns:\n",
    "        new_col_names.append(col.split(\"_nanopore\")[0])\n",
    "        \n",
    "grch_counts.columns = new_col_names"
   ]
  },
  {
   "cell_type": "code",
   "execution_count": null,
   "id": "a6dd805f",
   "metadata": {},
   "outputs": [],
   "source": [
    "grch_counts[\"total_counts\"] = grch_counts[[\"sample_PAM54401\", \"sample_PAM54902\", \"sample_PAM54335\", \"sample_PAM54788\"]].sum(axis=1)"
   ]
  },
  {
   "cell_type": "code",
   "execution_count": null,
   "id": "17277832",
   "metadata": {},
   "outputs": [],
   "source": [
    "grch_counts.loc[grch_counts[\"GENEID\"].isin(bambu_mt_genes)]"
   ]
  },
  {
   "cell_type": "code",
   "execution_count": null,
   "id": "720cb446",
   "metadata": {},
   "outputs": [],
   "source": []
  },
  {
   "cell_type": "code",
   "execution_count": 3,
   "id": "15093350",
   "metadata": {},
   "outputs": [],
   "source": [
    "bambu_annotation_grch = pd.read_csv(\"C:/Users/bag22/Desktop/current_files/python_files/ebbert_lab/data/2022-07-14_cDNA_data_ebbert_lab_nextflow_pipeline_output_raw/ONT_only_data/GRCh38-106_good_ONT/bambu_discovery/extended_annotations.gtf\", header=None, delimiter=\"\\t\",\n",
    "                        low_memory=False, names=[\"chr\", \"source\", \"type\", \"start\", \"end\", \"dot_1\", \"strand\", \"dot_2\", \"other\"])\n",
    "\n",
    "bambu_annotation_grch = parse_df_columns(bambu_annotation_grch, is_ref=False)\n",
    "\n",
    "bambu_annotation_grch_mt = bambu_annotation_grch.loc[bambu_annotation_grch[\"chr\"]==\"MT\"].copy()"
   ]
  },
  {
   "cell_type": "code",
   "execution_count": 4,
   "id": "04c64f8d",
   "metadata": {},
   "outputs": [],
   "source": [
    "bambu_annotation_chm13 = pd.read_csv(\"C:/Users/bag22/Desktop/current_files/python_files/ebbert_lab/data/2022-07-14_cDNA_data_ebbert_lab_nextflow_pipeline_output_raw/ONT_only_data/CHM13_good_ONT/bambu_discovery/extended_annotations.gtf\", header=None, delimiter=\"\\t\",\n",
    "                        low_memory=False, names=[\"chr\", \"source\", \"type\", \"start\", \"end\", \"dot_1\", \"strand\", \"dot_2\", \"other\"])\n",
    "\n",
    "bambu_annotation_chm13 = parse_df_columns(bambu_annotation_chm13, is_ref=False)\n",
    "\n",
    "bambu_annotation_chm13_mt = bambu_annotation_chm13.loc[bambu_annotation_chm13[\"chr\"]==\"chrM\"].copy()"
   ]
  },
  {
   "cell_type": "code",
   "execution_count": 5,
   "id": "ec23cece",
   "metadata": {},
   "outputs": [
    {
     "data": {
      "text/html": [
       "<div>\n",
       "<style scoped>\n",
       "    .dataframe tbody tr th:only-of-type {\n",
       "        vertical-align: middle;\n",
       "    }\n",
       "\n",
       "    .dataframe tbody tr th {\n",
       "        vertical-align: top;\n",
       "    }\n",
       "\n",
       "    .dataframe thead th {\n",
       "        text-align: right;\n",
       "    }\n",
       "</style>\n",
       "<table border=\"1\" class=\"dataframe\">\n",
       "  <thead>\n",
       "    <tr style=\"text-align: right;\">\n",
       "      <th></th>\n",
       "      <th>chr</th>\n",
       "      <th>source</th>\n",
       "      <th>type</th>\n",
       "      <th>start</th>\n",
       "      <th>end</th>\n",
       "      <th>strand</th>\n",
       "      <th>gene_id</th>\n",
       "      <th>transcript_id</th>\n",
       "      <th>exon_number</th>\n",
       "      <th>is_novel_transcript</th>\n",
       "      <th>is_novel_gene</th>\n",
       "    </tr>\n",
       "  </thead>\n",
       "  <tbody>\n",
       "    <tr>\n",
       "      <th>1758975</th>\n",
       "      <td>MT</td>\n",
       "      <td>Bambu</td>\n",
       "      <td>transcript</td>\n",
       "      <td>1689.0</td>\n",
       "      <td>5449.0</td>\n",
       "      <td>-</td>\n",
       "      <td>ENSG00000210107</td>\n",
       "      <td>tx.755</td>\n",
       "      <td>NaN</td>\n",
       "      <td>True</td>\n",
       "      <td>False</td>\n",
       "    </tr>\n",
       "    <tr>\n",
       "      <th>1758976</th>\n",
       "      <td>MT</td>\n",
       "      <td>Bambu</td>\n",
       "      <td>exon</td>\n",
       "      <td>1689.0</td>\n",
       "      <td>3502.0</td>\n",
       "      <td>-</td>\n",
       "      <td>ENSG00000210107</td>\n",
       "      <td>tx.755</td>\n",
       "      <td>2</td>\n",
       "      <td>True</td>\n",
       "      <td>False</td>\n",
       "    </tr>\n",
       "    <tr>\n",
       "      <th>1758985</th>\n",
       "      <td>MT</td>\n",
       "      <td>Bambu</td>\n",
       "      <td>exon</td>\n",
       "      <td>4380.0</td>\n",
       "      <td>5449.0</td>\n",
       "      <td>-</td>\n",
       "      <td>ENSG00000210107</td>\n",
       "      <td>tx.755</td>\n",
       "      <td>1</td>\n",
       "      <td>True</td>\n",
       "      <td>False</td>\n",
       "    </tr>\n",
       "  </tbody>\n",
       "</table>\n",
       "</div>"
      ],
      "text/plain": [
       "        chr source        type   start     end strand          gene_id  \\\n",
       "1758975  MT  Bambu  transcript  1689.0  5449.0      -  ENSG00000210107   \n",
       "1758976  MT  Bambu        exon  1689.0  3502.0      -  ENSG00000210107   \n",
       "1758985  MT  Bambu        exon  4380.0  5449.0      -  ENSG00000210107   \n",
       "\n",
       "        transcript_id exon_number is_novel_transcript is_novel_gene  \n",
       "1758975        tx.755         NaN                True         False  \n",
       "1758976        tx.755           2                True         False  \n",
       "1758985        tx.755           1                True         False  "
      ]
     },
     "execution_count": 5,
     "metadata": {},
     "output_type": "execute_result"
    }
   ],
   "source": [
    "bambu_annotation_grch_mt.loc[bambu_annotation_grch_mt['transcript_id']==\"tx.755\"]"
   ]
  },
  {
   "cell_type": "code",
   "execution_count": 6,
   "id": "414a7baf",
   "metadata": {},
   "outputs": [
    {
     "data": {
      "text/html": [
       "<div>\n",
       "<style scoped>\n",
       "    .dataframe tbody tr th:only-of-type {\n",
       "        vertical-align: middle;\n",
       "    }\n",
       "\n",
       "    .dataframe tbody tr th {\n",
       "        vertical-align: top;\n",
       "    }\n",
       "\n",
       "    .dataframe thead th {\n",
       "        text-align: right;\n",
       "    }\n",
       "</style>\n",
       "<table border=\"1\" class=\"dataframe\">\n",
       "  <thead>\n",
       "    <tr style=\"text-align: right;\">\n",
       "      <th></th>\n",
       "      <th>chr</th>\n",
       "      <th>source</th>\n",
       "      <th>type</th>\n",
       "      <th>start</th>\n",
       "      <th>end</th>\n",
       "      <th>strand</th>\n",
       "      <th>gene_id</th>\n",
       "      <th>transcript_id</th>\n",
       "      <th>exon_number</th>\n",
       "      <th>is_novel_transcript</th>\n",
       "      <th>is_novel_gene</th>\n",
       "    </tr>\n",
       "  </thead>\n",
       "  <tbody>\n",
       "    <tr>\n",
       "      <th>1623754</th>\n",
       "      <td>chrM</td>\n",
       "      <td>Bambu</td>\n",
       "      <td>transcript</td>\n",
       "      <td>1113.0</td>\n",
       "      <td>4872.0</td>\n",
       "      <td>-</td>\n",
       "      <td>ENSG00000210107.1</td>\n",
       "      <td>tx.783</td>\n",
       "      <td>NaN</td>\n",
       "      <td>True</td>\n",
       "      <td>False</td>\n",
       "    </tr>\n",
       "    <tr>\n",
       "      <th>1623755</th>\n",
       "      <td>chrM</td>\n",
       "      <td>Bambu</td>\n",
       "      <td>exon</td>\n",
       "      <td>1113.0</td>\n",
       "      <td>2925.0</td>\n",
       "      <td>-</td>\n",
       "      <td>ENSG00000210107.1</td>\n",
       "      <td>tx.783</td>\n",
       "      <td>2</td>\n",
       "      <td>True</td>\n",
       "      <td>False</td>\n",
       "    </tr>\n",
       "    <tr>\n",
       "      <th>1623765</th>\n",
       "      <td>chrM</td>\n",
       "      <td>Bambu</td>\n",
       "      <td>exon</td>\n",
       "      <td>3803.0</td>\n",
       "      <td>4872.0</td>\n",
       "      <td>-</td>\n",
       "      <td>ENSG00000210107.1</td>\n",
       "      <td>tx.783</td>\n",
       "      <td>1</td>\n",
       "      <td>True</td>\n",
       "      <td>False</td>\n",
       "    </tr>\n",
       "  </tbody>\n",
       "</table>\n",
       "</div>"
      ],
      "text/plain": [
       "          chr source        type   start     end strand            gene_id  \\\n",
       "1623754  chrM  Bambu  transcript  1113.0  4872.0      -  ENSG00000210107.1   \n",
       "1623755  chrM  Bambu        exon  1113.0  2925.0      -  ENSG00000210107.1   \n",
       "1623765  chrM  Bambu        exon  3803.0  4872.0      -  ENSG00000210107.1   \n",
       "\n",
       "        transcript_id exon_number is_novel_transcript is_novel_gene  \n",
       "1623754        tx.783         NaN                True         False  \n",
       "1623755        tx.783           2                True         False  \n",
       "1623765        tx.783           1                True         False  "
      ]
     },
     "execution_count": 6,
     "metadata": {},
     "output_type": "execute_result"
    }
   ],
   "source": [
    "bambu_annotation_chm13_mt.loc[bambu_annotation_chm13_mt['transcript_id']==\"tx.783\"]"
   ]
  },
  {
   "cell_type": "code",
   "execution_count": null,
   "id": "65ab663d",
   "metadata": {},
   "outputs": [],
   "source": []
  },
  {
   "cell_type": "code",
   "execution_count": 2,
   "id": "a18aa27f",
   "metadata": {},
   "outputs": [],
   "source": [
    "bambu_annotation_grch = pd.read_csv(\"C:/Users/bag22/Desktop/current_files/python_files/ebbert_lab/data/2022-07-14_cDNA_data_ebbert_lab_nextflow_pipeline_output_raw/ONT_only_data/GRCh38-106_good_ONT/bambu_discovery/extended_annotations.gtf\", header=None, delimiter=\"\\t\",\n",
    "                        low_memory=False, names=[\"chr\", \"source\", \"type\", \"start\", \"end\", \"dot_1\", \"strand\", \"dot_2\", \"other\"])"
   ]
  },
  {
   "cell_type": "code",
   "execution_count": 9,
   "id": "1c35adf3",
   "metadata": {},
   "outputs": [],
   "source": [
    "grch_mito_novel = bambu_annotation_grch.loc[bambu_annotation_grch[\"other\"].str.contains(\"tx.755\")].copy()"
   ]
  },
  {
   "cell_type": "code",
   "execution_count": 10,
   "id": "15e405e0",
   "metadata": {},
   "outputs": [
    {
     "data": {
      "text/html": [
       "<div>\n",
       "<style scoped>\n",
       "    .dataframe tbody tr th:only-of-type {\n",
       "        vertical-align: middle;\n",
       "    }\n",
       "\n",
       "    .dataframe tbody tr th {\n",
       "        vertical-align: top;\n",
       "    }\n",
       "\n",
       "    .dataframe thead th {\n",
       "        text-align: right;\n",
       "    }\n",
       "</style>\n",
       "<table border=\"1\" class=\"dataframe\">\n",
       "  <thead>\n",
       "    <tr style=\"text-align: right;\">\n",
       "      <th></th>\n",
       "      <th>chr</th>\n",
       "      <th>source</th>\n",
       "      <th>type</th>\n",
       "      <th>start</th>\n",
       "      <th>end</th>\n",
       "      <th>dot_1</th>\n",
       "      <th>strand</th>\n",
       "      <th>dot_2</th>\n",
       "      <th>other</th>\n",
       "    </tr>\n",
       "  </thead>\n",
       "  <tbody>\n",
       "    <tr>\n",
       "      <th>1758975</th>\n",
       "      <td>MT</td>\n",
       "      <td>Bambu</td>\n",
       "      <td>transcript</td>\n",
       "      <td>1689</td>\n",
       "      <td>5449</td>\n",
       "      <td>.</td>\n",
       "      <td>-</td>\n",
       "      <td>.</td>\n",
       "      <td>gene_id \"ENSG00000210107\"; transcript_id \"tx.7...</td>\n",
       "    </tr>\n",
       "    <tr>\n",
       "      <th>1758976</th>\n",
       "      <td>MT</td>\n",
       "      <td>Bambu</td>\n",
       "      <td>exon</td>\n",
       "      <td>1689</td>\n",
       "      <td>3502</td>\n",
       "      <td>.</td>\n",
       "      <td>-</td>\n",
       "      <td>.</td>\n",
       "      <td>gene_id \"ENSG00000210107\"; transcript_id \"tx.7...</td>\n",
       "    </tr>\n",
       "    <tr>\n",
       "      <th>1758985</th>\n",
       "      <td>MT</td>\n",
       "      <td>Bambu</td>\n",
       "      <td>exon</td>\n",
       "      <td>4380</td>\n",
       "      <td>5449</td>\n",
       "      <td>.</td>\n",
       "      <td>-</td>\n",
       "      <td>.</td>\n",
       "      <td>gene_id \"ENSG00000210107\"; transcript_id \"tx.7...</td>\n",
       "    </tr>\n",
       "  </tbody>\n",
       "</table>\n",
       "</div>"
      ],
      "text/plain": [
       "        chr source        type  start   end dot_1 strand dot_2  \\\n",
       "1758975  MT  Bambu  transcript   1689  5449     .      -     .   \n",
       "1758976  MT  Bambu        exon   1689  3502     .      -     .   \n",
       "1758985  MT  Bambu        exon   4380  5449     .      -     .   \n",
       "\n",
       "                                                     other  \n",
       "1758975  gene_id \"ENSG00000210107\"; transcript_id \"tx.7...  \n",
       "1758976  gene_id \"ENSG00000210107\"; transcript_id \"tx.7...  \n",
       "1758985  gene_id \"ENSG00000210107\"; transcript_id \"tx.7...  "
      ]
     },
     "execution_count": 10,
     "metadata": {},
     "output_type": "execute_result"
    }
   ],
   "source": [
    "grch_mito_novel"
   ]
  },
  {
   "cell_type": "code",
   "execution_count": 11,
   "id": "db3eec6a",
   "metadata": {},
   "outputs": [],
   "source": [
    "grch_mito_novel[\"chr\"] = \"chrM\""
   ]
  },
  {
   "cell_type": "code",
   "execution_count": 12,
   "id": "dd1153d8",
   "metadata": {},
   "outputs": [],
   "source": [
    "import csv\n",
    "\n",
    "grch_mito_novel.to_csv(\"~/Desktop/grch_mito_novel_transcript.gtf\", sep=\"\\t\", index=False, header=False,\n",
    "                       quoting=csv.QUOTE_NONE)"
   ]
  },
  {
   "cell_type": "code",
   "execution_count": null,
   "id": "f75c6284",
   "metadata": {},
   "outputs": [],
   "source": [
    "\n"
   ]
  }
 ],
 "metadata": {
  "kernelspec": {
   "display_name": "Python 3 (ipykernel)",
   "language": "python",
   "name": "python3"
  },
  "language_info": {
   "codemirror_mode": {
    "name": "ipython",
    "version": 3
   },
   "file_extension": ".py",
   "mimetype": "text/x-python",
   "name": "python",
   "nbconvert_exporter": "python",
   "pygments_lexer": "ipython3",
   "version": "3.10.5"
  }
 },
 "nbformat": 4,
 "nbformat_minor": 5
}
