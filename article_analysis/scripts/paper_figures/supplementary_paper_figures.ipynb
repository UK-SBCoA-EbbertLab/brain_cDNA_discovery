{
 "cells": [
  {
   "cell_type": "markdown",
   "id": "cfde5405",
   "metadata": {},
   "source": [
    "# Table of contents\n",
    "\n",
    "### - Import libraries and define functions + Initial setup\n",
    "\n",
    "### - Quality control and general metrics figures\n",
    "\n",
    "### - Genes with 2+ RNA isoforms (Unique counts vs Full counts vs Counts)\n",
    "\n",
    "### - ERCC Figures"
   ]
  },
  {
   "cell_type": "markdown",
   "id": "d9928c02",
   "metadata": {},
   "source": [
    "# Import libraries and define functions + Initial setup"
   ]
  },
  {
   "cell_type": "code",
   "execution_count": 1,
   "id": "2e7c2845",
   "metadata": {},
   "outputs": [],
   "source": [
    "## Import Libraries\n",
    "import pandas as pd\n",
    "import numpy as np\n",
    "from matplotlib_venn import venn2, venn2_circles, venn2_unweighted\n",
    "from matplotlib_venn import venn3, venn3_circles\n",
    "from matplotlib import pyplot as plt\n",
    "%matplotlib inline\n",
    "import seaborn as sns\n",
    "from wordcloud import WordCloud\n",
    "import csv\n",
    "from scipy import stats\n",
    "\n",
    "\n",
    "## Display all rows of pandas dataframes\n",
    "pd.set_option('display.max_rows', None)\n",
    "pd.set_option('display.max_colwidth', None)"
   ]
  },
  {
   "cell_type": "code",
   "execution_count": 2,
   "id": "dcc9fb7f",
   "metadata": {},
   "outputs": [],
   "source": [
    "'''\n",
    "function name: get_real_transcript_length\n",
    "\n",
    "purpose: create dataframe containing exonic transcript length and transcript_id\n",
    "\n",
    "input: bambu gtf file\n",
    "\n",
    "output: dataframe with two columns, transcript_id and real_transcript_length\n",
    "'''\n",
    "\n",
    "def get_real_transcript_length(annotation):\n",
    "    \n",
    "    annotation = parse_df_columns(annotation, is_ref=False)\n",
    "    \n",
    "    annotation[\"real_transcript_length\"] = abs(annotation[\"end\"] - annotation[\"start\"])\n",
    "    \n",
    "    exon_annotation = annotation.loc[annotation[\"type\"] == \"exon\"][[\"transcript_id\", \"real_transcript_length\"]].copy()\n",
    "    \n",
    "    df_transcript_length = exon_annotation.groupby(\"transcript_id\").sum()\n",
    "    \n",
    "    df_transcript_length.reset_index(inplace=True)\n",
    "    \n",
    "    return df_transcript_length    "
   ]
  },
  {
   "cell_type": "code",
   "execution_count": 3,
   "id": "f27e634a",
   "metadata": {},
   "outputs": [],
   "source": [
    "'''\n",
    "name: relative_transcript_abundance\n",
    "\n",
    "purpose: calculate relative transcript abundance\n",
    "\n",
    "input: a dataframe with a ref_gene_id column identifying the transcript gene of origin and a cov columns with \n",
    "the coverage for the transcripts.\n",
    "\n",
    "output: the same dataframe with a relative abundance column added\n",
    "'''\n",
    "\n",
    "\n",
    "\n",
    "def relative_transcript_abundance(df):\n",
    "    \n",
    "    ## Group by gene_id and get total expression for each gene (not counting introns)\n",
    "    df_sums = df[[\"gene_id\", \"total_CPM\"]].groupby(\"gene_id\").sum()\n",
    "    df_sums[\"total_CPM_gene\"] = df_sums[\"total_CPM\"]\n",
    "    df_sums.drop(columns=\"total_CPM\", inplace=True)\n",
    "    \n",
    "    ## Merge dataframe with total gene level CPM with regular transcript level CPM dataframe\n",
    "    merged_df = pd.merge(df, df_sums, how='inner', on=\"gene_id\")\n",
    "    \n",
    "    ## Calculater relative percent abundance for each transcript within its gene\n",
    "    merged_df[\"relative_abundance_percent\"] = ((merged_df[\"total_CPM\"]/merged_df[\"total_CPM_gene\"]) * 100)\n",
    "    \n",
    "    ## Rename total_CPM for transcript column\n",
    "    merged_df[\"total_CPM_transcript\"] = merged_df[\"total_CPM\"]\n",
    "    merged_df.drop(columns=\"total_CPM\", inplace=True)\n",
    "\n",
    "\n",
    "    return merged_df"
   ]
  },
  {
   "cell_type": "code",
   "execution_count": 4,
   "id": "a6446e95",
   "metadata": {},
   "outputs": [],
   "source": [
    "'''\n",
    "function name: fix_column_names\n",
    "\n",
    "purpose: Fixing the column names, making them smaller, informative, and consistent\n",
    "\n",
    "input: The raw counts dataframe for either genes or transcripts \n",
    "\n",
    "output: Same dataframe with improved column names\n",
    "'''\n",
    "\n",
    "def fix_column_names(df, is_gene=False):\n",
    "    \n",
    "    ## Check if this is a gene counts object\n",
    "    if is_gene:\n",
    "        \n",
    "        ## Get count column names and create list of new column names\n",
    "        count_columns = df.columns.tolist()\n",
    "        list_new_names = [\"gene_id\"]\n",
    "        \n",
    "        ## gene_id comes in as index for gene counts data, make it into the first column instead\n",
    "        df[\"gene_id\"] = df.index\n",
    "        cols = list(df.columns)\n",
    "        cols = [cols[-1]] + cols[:-1]\n",
    "        df = df[cols]\n",
    "        df.reset_index(inplace=True, drop=True)\n",
    "    \n",
    "    ## If it is a transcript dataset\n",
    "    else:\n",
    "        ## Set count columns and create list of new names\n",
    "        count_columns = df.columns[2:].tolist()\n",
    "        list_new_names = [ \"transcript_id\", \"gene_id\"]\n",
    "    \n",
    "    ## Fix names one by one and add to list of new names\n",
    "    for col in count_columns:\n",
    "        col = col.split(\"_mapped\")[0] + \"_counts\"\n",
    "        list_new_names.append(col)\n",
    "    \n",
    "    ## Rename columns\n",
    "    df.columns = list_new_names\n",
    "    \n",
    "    return df "
   ]
  },
  {
   "cell_type": "code",
   "execution_count": 5,
   "id": "143176a3",
   "metadata": {},
   "outputs": [],
   "source": [
    "'''\n",
    "function name: parse_df_columns\n",
    "\n",
    "purpose: parsing the last aggregate column of the gtf/gff3 into useful columns and cleaning non-relevant columns\n",
    "\n",
    "input: dataframe containining \"raw\" gtf/gff\n",
    "\n",
    "output: dataframe containing gtf with useful columns [\"gene_id\", \"transcript_id\", etc...]\n",
    "'''\n",
    "\n",
    "def parse_df_columns(df, is_ref=True, is_transcript=False, is_prot=False):\n",
    "\n",
    "    if is_ref:\n",
    "\n",
    "        ## Get gene ids\n",
    "        df[\"gene_id\"] = df[\"other\"].str.split('\";', expand=True)[0].str.extract(\"([^ \\\"]*$)\", expand=True)\n",
    "        \n",
    "        ## Get gene names\n",
    "        df[\"gene_name\"] = df[\"other\"].str.split(\"gene_name \\\"\", expand=True)[1].str.split('\\\";', expand=True)[0]\n",
    "        \n",
    "        ## Get get transcript biotype\n",
    "        df[\"gene_biotype\"] = df[\"other\"].str.split('gene_biotype \"', expand=True)[1].str.split('\"', expand=True)[0]\n",
    "        \n",
    "        ## If is transcript get transcript id and transcript biotype\n",
    "        if is_transcript:\n",
    "            df[\"transcript_id\"] = df[\"other\"].str.split('transcript_id \"', expand=True)[1].str.split('\"', expand=True)[0]\n",
    "            df[\"transcript_biotype\"] = df[\"other\"].str.split('transcript_biotype \"', expand=True)[1].str.split('\"', expand=True)[0]\n",
    "            \n",
    "            ## If is prot get protein_id\n",
    "            if is_prot:\n",
    "                df[\"protein_id\"] = df[\"other\"].str.split('protein_id \"', expand=True)[1].str.split('\"', expand=True)[0]\n",
    "                df[\"ccds_id\"] = df[\"other\"].str.split('ccds_id \"', expand=True)[1].str.split('\"', expand=True)[0]\n",
    "                df[\"exon_number\"] = df[\"other\"].str.split('exon_number \"', expand=True)[1].str.split('\"', expand=True)[0]\n",
    "\n",
    "        ## Drop \"other\" column\n",
    "        df.drop(columns=[\"other\", \"dot_1\", \"dot_2\"], inplace=True)\n",
    "        \n",
    "\n",
    "    else:\n",
    "\n",
    "        ## Get gene ids\n",
    "        df[\"gene_id\"] = df[\"other\"].str.split('\";', expand=True)[0].str.extract(\"([^ \\\"]*$)\", expand=True)\n",
    "\n",
    "        ## Get transcript ids\n",
    "        df[\"transcript_id\"] = df[\"other\"].str.split('transcript_id \"', expand=True)[1].str.split('\"', expand=True)[0]\n",
    "\n",
    "        ## Get exon number\n",
    "        df[\"exon_number\"] = df[\"other\"].str.split('exon_number \"', expand=True)[1].str.split('\"', expand=True)[0]\n",
    "\n",
    "        ## Drop \"other\" column\n",
    "        df.drop(columns=[\"other\", \"dot_1\", \"dot_2\"], inplace=True)\n",
    "\n",
    "    for col in df.columns:\n",
    "        df.loc[df[col].isnull(), col] = np.NaN\n",
    "        \n",
    "\n",
    "    return df"
   ]
  },
  {
   "cell_type": "code",
   "execution_count": 6,
   "id": "b1117a08",
   "metadata": {},
   "outputs": [],
   "source": [
    "'''\n",
    "function name: calculate_cpm\n",
    "\n",
    "purpose: Calculate CPM for the each sample given\n",
    "\n",
    "input: Counts dataset\n",
    "\n",
    "output: Counts dataset with CPM columns as well\n",
    "'''\n",
    "\n",
    "def calculate_cpm(df, is_gene=False):\n",
    "\n",
    "    ## Set count columns if dataframe is gene counts\n",
    "    if is_gene:\n",
    "        count_columns = df.columns[1:].tolist()\n",
    "    \n",
    "    ## Set count columns if dataframe is transcript counts\n",
    "    else:\n",
    "        count_columns = df.columns[2:].tolist()\n",
    "\n",
    "    ## Loop through counts columns to calculate CPM and add to the dataframe\n",
    "    for col in count_columns:\n",
    "        \n",
    "        df[col] = round(df[col], 2)\n",
    "        cpm_name = col.replace(\"_counts\", \"_CPM\")\n",
    "        df[cpm_name] = round(((df[col]/(df[col].sum())) * 1000000), 2)\n",
    "    \n",
    "    return df  "
   ]
  },
  {
   "cell_type": "code",
   "execution_count": 7,
   "id": "4ed11391",
   "metadata": {},
   "outputs": [],
   "source": [
    "## define ggplot colors\n",
    "ggplot2_colors = [\"#F8766D\", \"#CD9600\", \"#7CAE00\", \"#00BE67\", \"#00BFC4\", \"#00A9FF\", \"#C77CFF\", \"#FF61CC\"]"
   ]
  },
  {
   "cell_type": "markdown",
   "id": "e4315acf",
   "metadata": {},
   "source": [
    "# Quality Control\n",
    "\n",
    "\n",
    "## - Total number of reads (All, Pass, Pass + Adapters,  Pass + Adapters + Mapped, MAPQ10) \n",
    "\n",
    "## - Mean, median, and N50 read length for reads that aligned to the human genome \n",
    "\n",
    "## - Percent of unique full length and full length reads per sample \n",
    "\n",
    "\n",
    "## - Histogram of CPM expression at gene and transcript level\n",
    "\n",
    "## - Total number of transcripts and genes across CPM threshold \n",
    "\n",
    "## - ERCC correlation plots\n",
    "\n"
   ]
  },
  {
   "cell_type": "markdown",
   "id": "9fc3e342",
   "metadata": {},
   "source": [
    "## Store QC data from MultiQC into a dataframe and load annotations"
   ]
  },
  {
   "cell_type": "code",
   "execution_count": 8,
   "id": "8b08a656",
   "metadata": {},
   "outputs": [],
   "source": [
    "## Create dataframe to store MultiQC data\n",
    "\n",
    "sample_names = ['sample_579_PAG75663', 'sample_1131_PAM44580','sample_1218_PAM43779', 'sample_1304_PAM44487',\n",
    " 'sample_1271_PAM44815', 'sample_5356_PAM42933', 'sample_1163_PAM44604', 'sample_5295_PAG77944',\n",
    " 'sample_5292_PAG75292', 'sample_1092_PAM41667', 'sample_1186_PAM43869', 'sample_1291_PAG71816']\n",
    "\n",
    "\n",
    "percent_mito = [13, 7, 23, 6, 9, 9, 8, 23, 13, 10, 8, 18]\n",
    "\n",
    "total_reads = [156.3, 166.6, 196.7, 119.4, 108.4, 158.9, 104.1, 163.9, 129.7, 163.5, 183.0, 121.2]\n",
    "\n",
    "pass_reads = [116.6, 120.1, 153.6, 85.9, 86.8, 119.2, 84.8, 122.7, 98.3, 121.2, 129.7, 91.8]\n",
    "\n",
    "percent_both_primers = [0.817, 0.862, 0.873, 0.813, 0.773, 0.806, 0.746, 0.765, 0.801, 0.826, 0.871, 0.768]\n",
    "\n",
    "mapped_reads = [73.1, 35.0, 65.7, 32.8, 60.7, 40.1, 70.0, 54.7, 61.4, 52.4, 51.0, 54.2]\n",
    "\n",
    "mapped_reads_mapq_10 = [47.9, 19.8, 43.0, 20.7, 41.9, 25.6, 45.8, 37.9, 42.2, 32.7, 31.0, 37.8]\n",
    "\n",
    "n50_mapped = [831, 1120, 699, 1510, 1370, 1560, 1090, 815, 1040, 1010, 802, 954]\n",
    "\n",
    "median_read_length_mapped = [336, 245, 286, 422, 458, 327, 500, 354, 393, 259, 328, 416]\n",
    "\n",
    "\n",
    "\n",
    "dictionary_qc = {'sample_name': sample_names, 'Mapped pass N50': n50_mapped,\n",
    "                \"Median read length mapped\": median_read_length_mapped, \"All reads\": total_reads, \n",
    "                \"Pass reads\": pass_reads, \"Mapped pass reads w/ primers\": mapped_reads,\n",
    "                 \"Percent both primers\": percent_both_primers, \n",
    "                 \"Mapped pass reads w/ primers (MAPQ > 10)\": mapped_reads_mapq_10, \"percent mito\": percent_mito}\n",
    "\n",
    "df_qc_stats = pd.DataFrame(data=dictionary_qc)\n",
    "\n",
    "df_qc_stats[\"Pass reads w/ primers\"] = df_qc_stats[\"Pass reads\"].copy() * df_qc_stats[\"Percent both primers\"].copy()"
   ]
  },
  {
   "cell_type": "code",
   "execution_count": 9,
   "id": "2fd0cc01",
   "metadata": {},
   "outputs": [
    {
     "data": {
      "text/plain": [
       "count      12.000000\n",
       "mean     1066.750000\n",
       "std       282.205639\n",
       "min       699.000000\n",
       "25%       827.000000\n",
       "50%      1025.000000\n",
       "75%      1182.500000\n",
       "max      1560.000000\n",
       "Name: Mapped pass N50, dtype: float64"
      ]
     },
     "execution_count": 9,
     "metadata": {},
     "output_type": "execute_result"
    }
   ],
   "source": [
    "df_qc_stats[\"Mapped pass N50\"].describe()"
   ]
  },
  {
   "cell_type": "code",
   "execution_count": 10,
   "id": "138efc5d",
   "metadata": {},
   "outputs": [],
   "source": [
    "## Open original reference\n",
    "ref = pd.read_csv(\"../../data/raw/nextflow_pipeline_output/bambu_discovery/extended_annotations.gtf\", \n",
    "                  header=None, delimiter=\"\\t\", low_memory=False, \n",
    "                    names=[\"chr\", \"source\", \"type\", \"start\", \"end\", \"dot_1\", \"strand\", \"dot_2\", \"other\"], comment=\"#\")\n",
    "\n",
    "ref_copy = ref.copy()\n",
    "\n",
    "ref_transcript_length = get_real_transcript_length(ref_copy)\n",
    "\n",
    "ref = parse_df_columns(ref, is_ref=False)\n",
    "\n",
    "ref = ref.loc[ref[\"type\"]==\"transcript\"].copy()"
   ]
  },
  {
   "cell_type": "markdown",
   "id": "a66b22e7",
   "metadata": {},
   "source": [
    "# Total reads plot"
   ]
  },
  {
   "cell_type": "code",
   "execution_count": 11,
   "id": "68b3d3fd",
   "metadata": {},
   "outputs": [],
   "source": [
    "df_read_numbers = df_qc_stats[[\"sample_name\", \"All reads\", \"Pass reads\", \n",
    "                               \"Pass reads w/ primers\", \"Mapped pass reads w/ primers\", \n",
    "                               \"Mapped pass reads w/ primers (MAPQ > 10)\"]].copy()\n",
    "\n",
    "df_read_numbers_melt = pd.melt(df_read_numbers, id_vars=['sample_name'], value_vars=[\"sample_name\", \"All reads\", \"Pass reads\", \n",
    "                               \"Pass reads w/ primers\", \"Mapped pass reads w/ primers\", \n",
    "                               \"Mapped pass reads w/ primers (MAPQ > 10)\"], value_name=\"Million reads\")\n",
    "\n"
   ]
  },
  {
   "cell_type": "code",
   "execution_count": 12,
   "id": "29afb0b2",
   "metadata": {},
   "outputs": [],
   "source": [
    "## Set parameters for figures\n",
    "from matplotlib import rcParams\n",
    "mm = (1/25.4)\n",
    "\n",
    "\n",
    "# figure size in inches\n",
    "rcParams['figure.figsize'] = (170*mm, 80*mm)\n",
    "rcParams.update({'font.size': 7})\n",
    "rcParams['axes.linewidth'] = 1"
   ]
  },
  {
   "cell_type": "code",
   "execution_count": 13,
   "id": "5d0b0c7f",
   "metadata": {
    "scrolled": true
   },
   "outputs": [
    {
     "data": {
      "image/png": "[encoded data removed]",
      "text/plain": [
       "<Figure size 669.291x314.961 with 1 Axes>"
      ]
     },
     "metadata": {},
     "output_type": "display_data"
    }
   ],
   "source": [
    "sns.boxplot(data=df_read_numbers_melt, y=\"Million reads\", x=\"variable\",\n",
    "           saturation=1, palette=[ggplot2_colors[6], ggplot2_colors[1], ggplot2_colors[7], ggplot2_colors[5], ggplot2_colors[0]],\n",
    "           showfliers=False, hue=\"variable\", dodge=False, linewidth=1)\n",
    "\n",
    "\n",
    "sns.stripplot(data=df_read_numbers_melt,  y=\"Million reads\", x=\"variable\",\n",
    "             color=\"black\", size=2.5)\n",
    "\n",
    "plt.ylim([15, 210])\n",
    "plt.xlabel(\"\")\n",
    "plt.xticks(\"\")\n",
    "plt.tick_params(bottom=False)\n",
    "plt.legend(fontsize=7, loc=\"upper right\")\n",
    "\n",
    "\n",
    "plt.savefig('../../figures/paper_figures/supplement/number_of_reads.pdf',\n",
    "            dpi=600, transparent=True, bbox_inches=\"tight\")\n",
    "\n",
    "plt.show()"
   ]
  },
  {
   "cell_type": "markdown",
   "id": "259474c1",
   "metadata": {},
   "source": [
    "# N50 and median read length plots"
   ]
  },
  {
   "cell_type": "code",
   "execution_count": 14,
   "id": "386e9575",
   "metadata": {},
   "outputs": [],
   "source": [
    "## Set parameters for figures\n",
    "from matplotlib import rcParams\n",
    "mm = (1/25.4)\n",
    "\n",
    "\n",
    "# figure size in inches\n",
    "rcParams['figure.figsize'] = (80*mm, 80*mm)\n",
    "rcParams.update({'font.size': 7})\n",
    "rcParams['axes.linewidth'] = 1"
   ]
  },
  {
   "cell_type": "code",
   "execution_count": 15,
   "id": "d8073c8b",
   "metadata": {},
   "outputs": [],
   "source": [
    "df_read_length = df_qc_stats[[\"sample_name\", \"Mapped pass N50\", \"Median read length mapped\"]].copy()\n",
    "\n",
    "\n",
    "df_read_length.columns = [\"sample_name\", \"N50\", \"Median read length\"]\n",
    "\n",
    "df_read_length_melt = pd.melt(df_read_length, id_vars=['sample_name'], \n",
    "                              value_vars=[\"N50\", \"Median read length\"], value_name=\"Base pairs\")\n"
   ]
  },
  {
   "cell_type": "code",
   "execution_count": 16,
   "id": "067d3eb1",
   "metadata": {},
   "outputs": [
    {
     "data": {
      "image/png": "[encoded data removed]",
      "text/plain": [
       "<Figure size 314.961x314.961 with 1 Axes>"
      ]
     },
     "metadata": {},
     "output_type": "display_data"
    }
   ],
   "source": [
    "ax = sns.boxplot(data=df_read_length_melt, y=\"Base pairs\", x=\"variable\",\n",
    "           palette=[ggplot2_colors[0], ggplot2_colors[0]], saturation=1,\n",
    "           showfliers=False, hue=\"variable\", dodge=False, linewidth=1)\n",
    "\n",
    "\n",
    "ax2 = sns.stripplot(data=df_read_length_melt,  y=\"Base pairs\", x=\"variable\",\n",
    "             color=\"black\", size=2.5)\n",
    "\n",
    "i = 0\n",
    "for patch in ax.patches:\n",
    "    r, g, b, a = patch.get_facecolor()\n",
    "    \n",
    "    if (i==0 or i==1):\n",
    "        patch.set_facecolor((r, g, b, 1))\n",
    "        \n",
    "    else:\n",
    "        patch.set_facecolor((r, g, b, 0.5))\n",
    "        \n",
    "    i += 1\n",
    "        \n",
    "\n",
    "plt.legend(fontsize=7, loc=\"upper right\")\n",
    "plt.ylim([180, 1900])\n",
    "plt.xlabel(\"\")\n",
    "plt.xticks(\"\")\n",
    "plt.tick_params(bottom=False)\n",
    "\n",
    "\n",
    "\n",
    "\n",
    "plt.savefig('../../figures/paper_figures/supplement/read_length.pdf',\n",
    "            dpi=600, transparent=True, bbox_inches=\"tight\")\n",
    "\n",
    "plt.show()"
   ]
  },
  {
   "cell_type": "markdown",
   "id": "2c5c1989",
   "metadata": {},
   "source": [
    "# Percent of unique full length and full length reads per sample"
   ]
  },
  {
   "cell_type": "code",
   "execution_count": 17,
   "id": "87d9c3ff",
   "metadata": {},
   "outputs": [],
   "source": [
    "## Import counts matrices\n",
    "\n",
    "df = pd.read_csv(\"../../data/raw/nextflow_pipeline_output/bambu_discovery/counts_transcript.txt\", \n",
    "                           delimiter=\"\\t\", low_memory=False, header=0)\n",
    "\n",
    "df_unique = pd.read_csv(\"../../data/raw/nextflow_pipeline_output/bambu_discovery/uniqueCounts_transcript.txt\", \n",
    "                           delimiter=\"\\t\", low_memory=False, header=0)\n",
    "\n",
    "df_full = pd.read_csv(\"../../data/raw/nextflow_pipeline_output/bambu_discovery/fullLengthCounts_transcript.txt\", \n",
    "                           delimiter=\"\\t\", low_memory=False, header=0)"
   ]
  },
  {
   "cell_type": "code",
   "execution_count": 18,
   "id": "a5e04b1f",
   "metadata": {},
   "outputs": [],
   "source": [
    "## Fix column names\n",
    "\n",
    "df = fix_column_names(df, is_gene=False)\n",
    "df_unique = fix_column_names(df_unique, is_gene=False)\n",
    "df_full = fix_column_names(df_full, is_gene=False)"
   ]
  },
  {
   "cell_type": "code",
   "execution_count": 19,
   "id": "0bae0318",
   "metadata": {},
   "outputs": [],
   "source": [
    "## Change column names for full and unique dataframes\n",
    "\n",
    "count_columns = df.filter(regex='counts').columns\n",
    "unique_counts_columns = df_unique.filter(regex='counts').columns\n",
    "full_count_columns = df_full.filter(regex='counts').columns\n",
    "\n",
    "\n",
    "unique_counts_columns = [s + \"_UNIQUE\" for s in unique_counts_columns]\n",
    "full_counts_columns = [s + \"_FULL\" for s in full_count_columns]\n",
    "\n",
    "unique_counts_columns.insert(0, \"gene_id\")\n",
    "unique_counts_columns.insert(0, \"transcript_id\")\n",
    "\n",
    "full_counts_columns.insert(0, \"gene_id\")\n",
    "full_counts_columns.insert(0, \"transcript_id\")\n",
    "\n",
    "df_unique.columns = unique_counts_columns\n",
    "df_full.columns = full_counts_columns"
   ]
  },
  {
   "cell_type": "code",
   "execution_count": 20,
   "id": "0f5ce939",
   "metadata": {},
   "outputs": [],
   "source": [
    "## [sample_name, full_counts, unique_counts, full_counts_no_mito, unique_counts_no_mito, full_counts_mito, unique_counts_mito]\n",
    "percents_list = [[], [], [], [], [], [], [], []]\n",
    "\n",
    "for col in count_columns:\n",
    "    col_unique = col + \"_UNIQUE\"\n",
    "    col_full = col + \"_FULL\"\n",
    "    \n",
    "    percent_full = (df_full[col_full].sum()/df[col].sum()) * 100\n",
    "    percent_unique = (df_unique[col_unique].sum()/df[col].sum()) * 100\n",
    "       \n",
    "    percents_list[0].append(col)\n",
    "    percents_list[1].append(percent_full)\n",
    "    percents_list[2].append(percent_unique)"
   ]
  },
  {
   "cell_type": "code",
   "execution_count": 21,
   "id": "c815cd36",
   "metadata": {},
   "outputs": [],
   "source": [
    "## Create dataframe to store percent full length and percent unique reads\n",
    "sample_names_percents = [s[0:-7] for s in percents_list[0]]\n",
    "\n",
    "\n",
    "dictionary_percents = {'sample_name': sample_names_percents, 'percent_full': percents_list[1], \n",
    "                       \"percent_unique\": percents_list[2]}\n",
    "\n",
    "df_percent_stats = pd.DataFrame(data=dictionary_percents)"
   ]
  },
  {
   "cell_type": "code",
   "execution_count": 22,
   "id": "f82fe4e7",
   "metadata": {},
   "outputs": [],
   "source": [
    "df_qc_stats = df_qc_stats.merge(df_percent_stats, how=\"inner\", on=\"sample_name\")"
   ]
  },
  {
   "cell_type": "code",
   "execution_count": 23,
   "id": "322fc963",
   "metadata": {},
   "outputs": [
    {
     "data": {
      "text/plain": [
       "count    12.000000\n",
       "mean     42.404895\n",
       "std       4.411592\n",
       "min      35.967790\n",
       "25%      38.072918\n",
       "50%      43.464760\n",
       "75%      44.473143\n",
       "max      49.502107\n",
       "Name: percent_unique, dtype: float64"
      ]
     },
     "execution_count": 23,
     "metadata": {},
     "output_type": "execute_result"
    }
   ],
   "source": [
    "df_qc_stats[\"percent_unique\"].describe()"
   ]
  },
  {
   "cell_type": "code",
   "execution_count": 24,
   "id": "544dac65",
   "metadata": {},
   "outputs": [],
   "source": [
    "df_percent_full_length = df_qc_stats[[\"sample_name\", \"percent_full\", \"percent_unique\"]].copy()\n",
    "\n",
    "df_percent_full_length.columns = [\"sample_name\", \"Full-length counts\", \"Unique counts\"]\n",
    "\n",
    "df_percent_full_length_melt = pd.melt(df_percent_full_length, id_vars=['sample_name'], \n",
    "                              value_vars=[\"Full-length counts\", \"Unique counts\"], \n",
    "                                      value_name=\"Percent\")\n"
   ]
  },
  {
   "cell_type": "code",
   "execution_count": 25,
   "id": "f723a1d3",
   "metadata": {},
   "outputs": [
    {
     "data": {
      "image/png": "[encoded data removed]",
      "text/plain": [
       "<Figure size 314.961x314.961 with 1 Axes>"
      ]
     },
     "metadata": {},
     "output_type": "display_data"
    }
   ],
   "source": [
    "ax = sns.boxplot(data=df_percent_full_length_melt, y=\"Percent\", x=\"variable\",\n",
    "           palette=[ggplot2_colors[0], ggplot2_colors[0]], saturation=1,\n",
    "           showfliers=False, hue=\"variable\", dodge=False, linewidth=1)\n",
    "\n",
    "\n",
    "ax2 = sns.stripplot(data=df_percent_full_length_melt,  y=\"Percent\", x=\"variable\",\n",
    "             color=\"black\", size=2.5)\n",
    "\n",
    "i = 0\n",
    "for patch in ax.patches:\n",
    "    r, g, b, a = patch.get_facecolor()\n",
    "    \n",
    "    if (i==0 or i==1):\n",
    "        patch.set_facecolor((r, g, b, 1))\n",
    "        \n",
    "    else:\n",
    "        patch.set_facecolor((r, g, b, 0.3))\n",
    "    \n",
    "    i += 1\n",
    "\n",
    "\n",
    "plt.legend(fontsize=7, loc=\"upper left\", borderpad=0.3, handletextpad=0.5)\n",
    "plt.ylim([0, 59])\n",
    "plt.xlabel(\"\")\n",
    "plt.xticks(\"\")\n",
    "plt.tick_params(bottom=False)\n",
    "\n",
    "plt.savefig('../../figures/paper_figures/supplement/percent_full_length.pdf',\n",
    "            dpi=600, transparent=True, bbox_inches=\"tight\")\n",
    "\n",
    "plt.show()"
   ]
  },
  {
   "cell_type": "markdown",
   "id": "7f07c3bb",
   "metadata": {},
   "source": [
    "# Histogram of CPM expression at gene and transcript level"
   ]
  },
  {
   "cell_type": "code",
   "execution_count": 26,
   "id": "1c82eed1",
   "metadata": {},
   "outputs": [],
   "source": [
    "## Import transcripts\n",
    "df_transcripts = pd.read_csv(\"../../data/raw/nextflow_pipeline_output/bambu_discovery/counts_transcript.txt\",\n",
    "        sep=\"\\t\", low_memory=False, header=0)\n",
    "\n",
    "\n",
    "df_transcripts = fix_column_names(df_transcripts, is_gene=False)"
   ]
  },
  {
   "cell_type": "code",
   "execution_count": 27,
   "id": "099ebfa0",
   "metadata": {},
   "outputs": [],
   "source": [
    "df_genes = df_transcripts.groupby(\"gene_id\")[df_transcripts.columns[2:]].sum().reset_index()"
   ]
  },
  {
   "cell_type": "code",
   "execution_count": 28,
   "id": "12eadab9",
   "metadata": {},
   "outputs": [],
   "source": [
    "df_genes = calculate_cpm(df_genes, is_gene=True)\n",
    "df_transcripts = calculate_cpm(df_transcripts, is_gene=False)"
   ]
  },
  {
   "cell_type": "code",
   "execution_count": 29,
   "id": "a83e552f",
   "metadata": {},
   "outputs": [],
   "source": [
    "df_genes[\"median_CPM\"] = df_genes[df_genes.filter(regex='[0-9]_CPM').columns].median(axis=1)\n",
    "df_transcripts[\"median_CPM\"] = df_transcripts[df_transcripts.filter(regex='[0-9]_CPM').columns].median(axis=1)"
   ]
  },
  {
   "cell_type": "code",
   "execution_count": 30,
   "id": "ceec4fb0",
   "metadata": {},
   "outputs": [],
   "source": [
    "## Create lists with number of genes across CPM thresholds\n",
    "list_cpm_thresh = []\n",
    "list_num_transcripts_median = []\n",
    "list_num_genes_median = []\n",
    "\n",
    "for i in range(0, 1000):\n",
    "    \n",
    "    cpm_thresh = i/100\n",
    "    \n",
    "    transcript_median_num = df_transcripts.loc[df_transcripts[\"median_CPM\"] >= cpm_thresh].shape[0]\n",
    "    \n",
    "    gene_median_num = df_genes.loc[df_genes[\"median_CPM\"] >= cpm_thresh].shape[0]\n",
    "    \n",
    "    list_cpm_thresh.append(cpm_thresh)\n",
    "    \n",
    "    list_num_transcripts_median.append(transcript_median_num)\n",
    "    \n",
    "    list_num_genes_median.append(gene_median_num)"
   ]
  },
  {
   "cell_type": "code",
   "execution_count": 31,
   "id": "5de2fa0e",
   "metadata": {},
   "outputs": [],
   "source": [
    "## Set parameters for figures\n",
    "from matplotlib import rcParams\n",
    "mm = (1/25.4)\n",
    "\n",
    "\n",
    "# figure size in inches\n",
    "rcParams['figure.figsize'] = (170*mm, 80*mm)\n",
    "rcParams.update({'font.size': 7})\n",
    "rcParams['axes.linewidth'] = 1"
   ]
  },
  {
   "cell_type": "code",
   "execution_count": 32,
   "id": "a3375072",
   "metadata": {},
   "outputs": [
    {
     "data": {
      "image/png": "[encoded data removed]",
      "text/plain": [
       "<Figure size 669.291x314.961 with 1 Axes>"
      ]
     },
     "metadata": {},
     "output_type": "display_data"
    }
   ],
   "source": [
    "## Make plot showing number of genes and transcripts across CPM thresholds\n",
    "\n",
    "plt.plot(list_cpm_thresh, list_num_transcripts_median, color=ggplot2_colors[4], \n",
    "         label=\"Number of Transcripts\", linewidth=2, alpha=1)\n",
    "\n",
    "plt.plot(list_cpm_thresh, list_num_genes_median, color=ggplot2_colors[0], \n",
    "         label=\"Number of Genes\", linewidth=2, alpha=1)\n",
    "\n",
    "plt.plot([1, 1], [-100, 260000], color=\"#4D4D4D\", label=\"Median CPM = 1\", linewidth=2, alpha=1, linestyle='dashed')\n",
    "\n",
    "\n",
    "\n",
    "plt.xticks(np.arange(0, 11, 1))\n",
    "plt.xlabel('Median CPM Threshold')\n",
    "plt.ylabel('Number of transcripts/genes')\n",
    "plt.legend(loc=\"upper right\")\n",
    "\n",
    "plt.savefig('../../figures/paper_figures/supplement/number_of_genes_and_transcripts_across_cpm_thresh.pdf', dpi=600, transparent=True, bbox_inches=\"tight\")\n",
    "\n",
    "plt.show()"
   ]
  },
  {
   "cell_type": "code",
   "execution_count": 33,
   "id": "57dac6d0",
   "metadata": {},
   "outputs": [
    {
     "data": {
      "text/plain": [
       "18041"
      ]
     },
     "execution_count": 33,
     "metadata": {},
     "output_type": "execute_result"
    }
   ],
   "source": [
    "list_num_genes_median[101]"
   ]
  },
  {
   "cell_type": "code",
   "execution_count": 34,
   "id": "6de13d2a",
   "metadata": {},
   "outputs": [
    {
     "data": {
      "text/plain": [
       "28989"
      ]
     },
     "execution_count": 34,
     "metadata": {},
     "output_type": "execute_result"
    }
   ],
   "source": [
    "list_num_transcripts_median[101]"
   ]
  },
  {
   "cell_type": "code",
   "execution_count": 35,
   "id": "e73189e6",
   "metadata": {},
   "outputs": [],
   "source": [
    "df_genes = df_genes.loc[df_genes[\"median_CPM\"] > 0]"
   ]
  },
  {
   "cell_type": "code",
   "execution_count": 36,
   "id": "2ec2c528",
   "metadata": {},
   "outputs": [],
   "source": [
    "## Use ggplot colors\n",
    "ggplot2_colors = [\"#F8766D\", \"#CD9600\", \"#7CAE00\", \"#00BE67\", \"#00BFC4\", \"#00A9FF\", \"#C77CFF\", \"#FF61CC\"]"
   ]
  },
  {
   "cell_type": "code",
   "execution_count": 37,
   "id": "f90f2913",
   "metadata": {},
   "outputs": [],
   "source": [
    "## Get log total counts\n",
    "log_median_cpm = np.log10(df_genes[\"median_CPM\"])"
   ]
  },
  {
   "cell_type": "code",
   "execution_count": 38,
   "id": "bfe1473e",
   "metadata": {},
   "outputs": [],
   "source": [
    "## Set parameters for figures\n",
    "from matplotlib import rcParams\n",
    "mm = (1/25.4)\n",
    "\n",
    "\n",
    "# figure size in inches\n",
    "rcParams['figure.figsize'] = (80*mm, 80*mm)\n",
    "rcParams.update({'font.size': 7})\n",
    "rcParams['axes.linewidth'] = 1"
   ]
  },
  {
   "cell_type": "code",
   "execution_count": 39,
   "id": "b5340436",
   "metadata": {},
   "outputs": [
    {
     "data": {
      "image/png": "[encoded data removed]",
      "text/plain": [
       "<Figure size 314.961x314.961 with 1 Axes>"
      ]
     },
     "metadata": {},
     "output_type": "display_data"
    }
   ],
   "source": [
    "## Create log plot\n",
    "log_median_cpm.plot(kind = \"hist\", density = True, bins = 100, color=ggplot2_colors[0], alpha=1) # change density to true, because KDE uses density\n",
    "\n",
    "\n",
    "log_median_cpm.plot(kind = \"kde\", color=ggplot2_colors[4], alpha=1, linewidth=1)\n",
    "\n",
    "plt.xlabel(\"Log10 median CPM (gene level)\", size=7)\n",
    "plt.ylim([0, 0.46])\n",
    "plt.xlim([-3.5, 3.5])\n",
    "\n",
    "plt.axvline(0, ymax=0.94, alpha=1, linestyle = \":\", color=\"#4D4D4D\", linewidth=2)\n",
    "plt.text(x=-1.2, y=0.435, s=\"Median CPM = 1\", alpha=1, color=\"#4D4D4D\", size=7)\n",
    "\n",
    "plt.savefig('../../figures/paper_figures/supplement/gene_level_density_plot_log10_median_cpm.pdf',\n",
    "            dpi=600, transparent=True, bbox_inches=\"tight\")\n",
    "\n",
    "plt.show()"
   ]
  },
  {
   "cell_type": "code",
   "execution_count": 40,
   "id": "f1698549",
   "metadata": {},
   "outputs": [],
   "source": [
    "df_transcripts = df_transcripts.loc[df_transcripts[\"median_CPM\"] > 0]"
   ]
  },
  {
   "cell_type": "code",
   "execution_count": 41,
   "id": "7f422ddf",
   "metadata": {},
   "outputs": [],
   "source": [
    "## Get log total counts\n",
    "log_median_cpm = np.log10(df_transcripts[\"median_CPM\"])"
   ]
  },
  {
   "cell_type": "code",
   "execution_count": 42,
   "id": "044555de",
   "metadata": {},
   "outputs": [
    {
     "data": {
      "image/png": "[encoded data removed]",
      "text/plain": [
       "<Figure size 314.961x314.961 with 1 Axes>"
      ]
     },
     "metadata": {},
     "output_type": "display_data"
    }
   ],
   "source": [
    "## Create log plot\n",
    "\n",
    "log_median_cpm.plot(kind = \"hist\", density = True, bins = 100, color=ggplot2_colors[0], alpha=1) # change density to true, because KDE uses density\n",
    "\n",
    "\n",
    "log_median_cpm.plot(kind = \"kde\", color=ggplot2_colors[4], alpha=1, linewidth=1)\n",
    "\n",
    "\n",
    "plt.xlabel(\"Log10 median CPM (transcript level)\", size=7)\n",
    "plt.ylim([0, 0.46])\n",
    "plt.xlim([-3.5, 3.5])\n",
    "\n",
    "\n",
    "plt.axvline(0, ymax=0.94, alpha=1, linestyle = \":\", color=\"#4D4D4D\", linewidth=2)\n",
    "plt.text(x=-1.2, y=0.435, s=\"Median CPM = 1\", alpha=1, color=\"#4D4D4D\", size=7)\n",
    "\n",
    "\n",
    "plt.savefig('../../figures/paper_figures/supplement/transcript_level_density_plot_log10_median_cpm.pdf',\n",
    "            dpi=600, transparent=True, bbox_inches=\"tight\")\n",
    "\n",
    "\n",
    "plt.show()"
   ]
  },
  {
   "cell_type": "markdown",
   "id": "e5834619",
   "metadata": {},
   "source": [
    "# ERCC correlation plot"
   ]
  },
  {
   "cell_type": "code",
   "execution_count": 43,
   "id": "78e02ff0",
   "metadata": {},
   "outputs": [],
   "source": [
    "ercc_baseline = pd.read_csv(\"../../references/ercc_baseline.csv\")"
   ]
  },
  {
   "cell_type": "code",
   "execution_count": 44,
   "id": "6ff40511",
   "metadata": {},
   "outputs": [],
   "source": [
    "df_ercc = pd.read_csv(\"../../data/raw/nextflow_pipeline_output/bambu_discovery/counts_transcript.txt\", \n",
    "                           delimiter=\"\\t\", low_memory=False, header=0)"
   ]
  },
  {
   "cell_type": "code",
   "execution_count": 45,
   "id": "841dede0",
   "metadata": {},
   "outputs": [],
   "source": [
    "df_ercc = fix_column_names(df_ercc, is_gene=False)\n",
    "df_ercc = calculate_cpm(df_ercc, is_gene=False)"
   ]
  },
  {
   "cell_type": "code",
   "execution_count": 46,
   "id": "e5076f9b",
   "metadata": {},
   "outputs": [],
   "source": [
    "df_ercc = df_ercc.loc[df_ercc[\"gene_id\"].str.startswith(\"ERCC\")].copy()"
   ]
  },
  {
   "cell_type": "code",
   "execution_count": 47,
   "id": "e32f5dfb",
   "metadata": {},
   "outputs": [],
   "source": [
    "df_ercc = df_ercc.filter(regex=\"transc|gene|CPM\").copy()"
   ]
  },
  {
   "cell_type": "code",
   "execution_count": 48,
   "id": "b7740c5d",
   "metadata": {},
   "outputs": [],
   "source": [
    "df_ercc_melt = pd.melt(df_ercc, value_vars=df_ercc.columns[2:],\n",
    "                                         id_vars=['gene_id', \"transcript_id\"], var_name='sample', value_name='CPM')"
   ]
  },
  {
   "cell_type": "code",
   "execution_count": 49,
   "id": "99ca66d9",
   "metadata": {},
   "outputs": [],
   "source": [
    "df_ercc_melt = df_ercc_melt.merge(ercc_baseline, on=\"gene_id\", how=\"inner\")"
   ]
  },
  {
   "cell_type": "code",
   "execution_count": 50,
   "id": "07583ae1",
   "metadata": {},
   "outputs": [],
   "source": [
    "list_ercc_cpm = []\n",
    "list_samples = []\n",
    "\n",
    "for col in df_ercc.columns[2:]:\n",
    "    \n",
    "    total_errc_CPM = df_ercc[col].copy().sum()\n",
    "    \n",
    "    list_ercc_cpm.append(total_errc_CPM)\n",
    "    list_samples.append(col.split(\"ample_\")[1].split(\"_CP\")[0])"
   ]
  },
  {
   "cell_type": "code",
   "execution_count": 51,
   "id": "87cdd011",
   "metadata": {},
   "outputs": [
    {
     "data": {
      "image/png": "[encoded data removed]",
      "text/plain": [
       "<Figure size 314.961x314.961 with 1 Axes>"
      ]
     },
     "metadata": {},
     "output_type": "display_data"
    }
   ],
   "source": [
    "sns.boxplot(data=list_ercc_cpm, color=ggplot2_colors[0], saturation=1,\n",
    "           showfliers=False, dodge=True, linewidth=1).set(xticklabels=[])\n",
    "\n",
    "\n",
    "g = sns.stripplot(data=list_ercc_cpm, color=\"black\", size=4, dodge=True)\n",
    "\n",
    "plt.ylabel(\"Total ERCC CPM per sample\")\n",
    "plt.xlabel(\"\")\n",
    "plt.tick_params(bottom=False)\n",
    "\n",
    "plt.savefig('../../figures/paper_figures/supplement/total_ercc_cpm.pdf',\n",
    "            dpi=600, transparent=True, bbox_inches=\"tight\")"
   ]
  },
  {
   "cell_type": "code",
   "execution_count": 52,
   "id": "e405b175",
   "metadata": {},
   "outputs": [],
   "source": [
    "df_ercc_2 = pd.read_csv(\"../../data/raw/nextflow_pipeline_output/bambu_discovery/counts_transcript.txt\", \n",
    "                           delimiter=\"\\t\", low_memory=False, header=0)\n",
    "\n",
    "df_ercc_2[\"mean\"] = df_ercc_2[df_ercc_2.columns[2:]].sum(axis=1)\n",
    "\n",
    "\n",
    "df_ercc_2 = fix_column_names(df_ercc_2, is_gene=False)\n",
    "df_ercc_2.drop(columns=df_ercc_2.filter(regex=\"[0-9]_counts\").columns, inplace=True)\n",
    "\n",
    "df_ercc_2 = calculate_cpm(df_ercc_2, is_gene=False)\n",
    "df_ercc_2.drop(columns=\"mean_counts\", inplace=True)\n",
    "\n",
    "df_ercc_2 = df_ercc_2.merge(ercc_baseline, on=\"gene_id\", how=\"inner\")"
   ]
  },
  {
   "cell_type": "code",
   "execution_count": 53,
   "id": "fa2ee406",
   "metadata": {},
   "outputs": [
    {
     "name": "stdout",
     "output_type": "stream",
     "text": [
      "Spearman coefficient: 0.98\n",
      "Spearman R-squared: 0.96\n",
      "Spearman p-value: 4.726589615380758e-64\n",
      "\n",
      "Pearson coefficient: 0.95\n",
      "Pearson R-squared: 0.91\n",
      "Pearson Slope: 0.12\n",
      "Pearson Intercept: 16.84\n",
      "Pearson P-value: 3.574852084939422e-49\n",
      "Pearson Standard Error: 0.0038 \n",
      "\n"
     ]
    },
    {
     "data": {
      "image/png": "[encoded data removed]",
      "text/plain": [
       "<Figure size 314.961x314.961 with 1 Axes>"
      ]
     },
     "metadata": {},
     "output_type": "display_data"
    }
   ],
   "source": [
    "sns.regplot(data=df_ercc_2, x=\"concentration\", y=\"mean_CPM\", color=ggplot2_colors[0], \n",
    "           scatter_kws={\"alpha\": 0.5, \"s\":5}, line_kws={\"linewidth\": 1})\n",
    "\n",
    "plt.ylabel(\"Mean ERCC CPM\")\n",
    "plt.xlabel(\"ERCC concentration (attomoles/ul)\")\n",
    "\n",
    "spearman_coeff, spearman_p = stats.spearmanr(df_ercc_2[\"concentration\"].copy(),\n",
    "                                                                     df_ercc_2[\"mean_CPM\"].copy())\n",
    "\n",
    "slope, intercept, r_value, p_value, std_err = stats.linregress(df_ercc_2[\"concentration\"].copy(),\n",
    "                                                                     df_ercc_2[\"mean_CPM\"].copy())\n",
    "\n",
    "print(\"Spearman coefficient:\", str(round(spearman_coeff, 2)))\n",
    "print(\"Spearman R-squared:\", str(round((spearman_coeff * spearman_coeff), 2)))\n",
    "print(\"Spearman p-value:\", str(spearman_p))\n",
    "\n",
    "print(\"\\nPearson coefficient:\", str(round(r_value, 2)))\n",
    "print(\"Pearson R-squared:\", str(round(r_value*r_value,2)))\n",
    "print(\"Pearson Slope:\", str(round(slope,2)))\n",
    "print(\"Pearson Intercept:\", str(round(intercept,2)))\n",
    "print(\"Pearson P-value:\", str(p_value))\n",
    "print(\"Pearson Standard Error:\", str(round(std_err,4)), \"\\n\")\n",
    "\n",
    "plt.savefig('../../figures/paper_figures/supplement/ercc_correlation_by_mean_cpm.pdf',\n",
    "            dpi=600, transparent=True, bbox_inches=\"tight\")"
   ]
  },
  {
   "cell_type": "markdown",
   "id": "88ac513a",
   "metadata": {},
   "source": [
    "## New ERCC transcript plots"
   ]
  },
  {
   "cell_type": "code",
   "execution_count": 54,
   "id": "ea869373",
   "metadata": {},
   "outputs": [],
   "source": [
    "## Import full length counts matrix\n",
    "\n",
    "df = pd.read_csv(\"../../data/raw/nextflow_pipeline_output/bambu_discovery/fullLengthCounts_transcript.txt\", sep=\"\\t\")"
   ]
  },
  {
   "cell_type": "code",
   "execution_count": 55,
   "id": "1adb9b53",
   "metadata": {},
   "outputs": [],
   "source": [
    "## Fix columns names\n",
    "df = fix_column_names(df, is_gene=False)"
   ]
  },
  {
   "cell_type": "code",
   "execution_count": 56,
   "id": "f27900a0",
   "metadata": {},
   "outputs": [],
   "source": [
    "## Sum counts for each novel mito transcripts\n",
    "df[\"total_counts\"] = df[df.columns[2:]].sum(axis=1)"
   ]
  },
  {
   "cell_type": "code",
   "execution_count": 57,
   "id": "00ea87b5",
   "metadata": {},
   "outputs": [],
   "source": [
    "## Create filtered dataframes\n",
    "df_ERCC = df.loc[((df[\"gene_id\"] == \"BambuGene290324\") | (df[\"gene_id\"] == \"ERCC-00171\"))].copy()"
   ]
  },
  {
   "cell_type": "code",
   "execution_count": 58,
   "id": "74ea508b",
   "metadata": {},
   "outputs": [],
   "source": [
    "df_ERCC[\"gene_id\"] = \"ERCC-00171\""
   ]
  },
  {
   "cell_type": "code",
   "execution_count": 59,
   "id": "8bc0a40e",
   "metadata": {},
   "outputs": [],
   "source": [
    "df_ERCC_counts_melt = pd.melt(df_ERCC, id_vars=['gene_id', 'transcript_id'],\n",
    "                                          value_vars=df_ERCC.filter(regex=\"[0-9]_count\").columns,\n",
    "                                          value_name=\"count\")"
   ]
  },
  {
   "cell_type": "code",
   "execution_count": 60,
   "id": "d635f657",
   "metadata": {},
   "outputs": [
    {
     "data": {
      "image/png": "[encoded data removed]",
      "text/plain": [
       "<Figure size 314.961x314.961 with 1 Axes>"
      ]
     },
     "metadata": {},
     "output_type": "display_data"
    }
   ],
   "source": [
    "## Create and save graph showing number of genes with multiple protein coding isoforms (AVG CPM > 1)\n",
    "\n",
    "ax = sns.boxplot(data=df_ERCC_counts_melt, x=\"count\", y=\"transcript_id\",\n",
    "            color=ggplot2_colors[0], saturation=1, showfliers=False)\n",
    "\n",
    "sns.stripplot(data=df_ERCC_counts_melt,  y=\"transcript_id\", x=\"count\",\n",
    "             color=\"black\", size=4)\n",
    "\n",
    "plt.ylabel(\"ERCC-00171 transcript ids \\n\")\n",
    "plt.xlabel(\"Total full-length reads per sample (counts)\")\n",
    "ax.set_ylim(1.8, -0.8)\n",
    "\n",
    "plt.savefig('../../figures/paper_figures/supplement/ERCC-00171_transcripts_full_counts.pdf',\n",
    "            dpi=600, transparent=True, bbox_inches=\"tight\")"
   ]
  },
  {
   "cell_type": "code",
   "execution_count": 61,
   "id": "8d395c44",
   "metadata": {},
   "outputs": [],
   "source": [
    "df_ERCC_filtered = df_ERCC_counts_melt.loc[df_ERCC_counts_melt[\"transcript_id\"] == \"BambuTx1944\"]"
   ]
  },
  {
   "cell_type": "code",
   "execution_count": 62,
   "id": "d10c42dd",
   "metadata": {},
   "outputs": [
    {
     "data": {
      "image/png": "[encoded data removed]",
      "text/plain": [
       "<Figure size 314.961x314.961 with 1 Axes>"
      ]
     },
     "metadata": {},
     "output_type": "display_data"
    }
   ],
   "source": [
    "## Create and save graph showing number of genes with multiple protein coding isoforms (AVG CPM > 1)\n",
    "\n",
    "ax = sns.boxplot(data=df_ERCC_filtered, x=\"count\", y=\"transcript_id\",\n",
    "            color=ggplot2_colors[0], saturation=1, showfliers=False)\n",
    "\n",
    "sns.stripplot(data=df_ERCC_filtered,  y=\"transcript_id\", x=\"count\",\n",
    "             color=\"black\", size=4)\n",
    "\n",
    "plt.ylabel(\"ERCC-00171 transcript ids \\n\")\n",
    "plt.xlabel(\"Total full-length reads per sample (counts)\")\n",
    "ax.set_ylim(0.8, -0.8)\n",
    "\n",
    "plt.savefig('../../figures/paper_figures/supplement/ERCC-00171_ONLYNOVEL_transcripts_full_counts.pdf',\n",
    "            dpi=600, transparent=True, bbox_inches=\"tight\")"
   ]
  }
 ],
 "metadata": {
  "kernelspec": {
   "display_name": "Python 3 (ipykernel)",
   "language": "python",
   "name": "python3"
  },
  "language_info": {
   "codemirror_mode": {
    "name": "ipython",
    "version": 3
   },
   "file_extension": ".py",
   "mimetype": "text/x-python",
   "name": "python",
   "nbconvert_exporter": "python",
   "pygments_lexer": "ipython3",
   "version": "3.10.10"
  }
 },
 "nbformat": 4,
 "nbformat_minor": 5
}
