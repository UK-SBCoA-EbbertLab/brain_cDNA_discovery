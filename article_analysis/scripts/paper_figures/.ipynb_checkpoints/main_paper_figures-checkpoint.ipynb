{
 "cells": [
  {
   "cell_type": "markdown",
   "id": "cfde5405",
   "metadata": {},
   "source": [
    "# Table of contents\n",
    "\n",
    "### - Import libraries and define functions + Initial setup\n",
    "\n",
    "### - Figure 2\n",
    "\n",
    "### - Figure 3\n",
    "\n",
    "### - Figure 4\n",
    "\n",
    "### - Figure 5\n",
    "\n",
    "### - Output novel high-confidence only annotation"
   ]
  },
  {
   "cell_type": "markdown",
   "id": "d9928c02",
   "metadata": {},
   "source": [
    "# Import libraries and define functions + Initial setup"
   ]
  },
  {
   "cell_type": "code",
   "execution_count": 1,
   "id": "2e7c2845",
   "metadata": {},
   "outputs": [],
   "source": [
    "## Import Libraries\n",
    "import pandas as pd\n",
    "import numpy as np\n",
    "from matplotlib_venn import venn2, venn2_circles, venn2_unweighted\n",
    "from matplotlib_venn import venn3, venn3_circles\n",
    "from matplotlib import pyplot as plt\n",
    "%matplotlib inline\n",
    "import seaborn as sns\n",
    "from wordcloud import WordCloud\n",
    "import csv\n",
    "\n",
    "\n",
    "## Display all rows of pandas dataframes\n",
    "pd.set_option('display.max_rows', None)\n",
    "pd.set_option('display.max_colwidth', None)"
   ]
  },
  {
   "cell_type": "code",
   "execution_count": 2,
   "id": "f27e634a",
   "metadata": {},
   "outputs": [],
   "source": [
    "'''\n",
    "name: relative_transcript_abundance\n",
    "\n",
    "purpose: calculate relative transcript abundance\n",
    "\n",
    "input: a dataframe with a ref_gene_id column identifying the transcript gene of origin and a cov columns with \n",
    "the coverage for the transcripts.\n",
    "\n",
    "output: the same dataframe with a relative abundance column added\n",
    "'''\n",
    "\n",
    "\n",
    "\n",
    "def relative_transcript_abundance(df):\n",
    "    \n",
    "    ## Group by gene_id and get total expression for each gene (not counting introns)\n",
    "    df_sums = df[[\"gene_id\", \"total_CPM\"]].groupby(\"gene_id\").sum()\n",
    "    df_sums[\"total_CPM_gene\"] = df_sums[\"total_CPM\"]\n",
    "    df_sums.drop(columns=\"total_CPM\", inplace=True)\n",
    "    \n",
    "    ## Merge dataframe with total gene level CPM with regular transcript level CPM dataframe\n",
    "    merged_df = pd.merge(df, df_sums, how='inner', on=\"gene_id\")\n",
    "    \n",
    "    ## Calculater relative percent abundance for each transcript within its gene\n",
    "    merged_df[\"relative_abundance_percent\"] = ((merged_df[\"total_CPM\"]/merged_df[\"total_CPM_gene\"]) * 100)\n",
    "    \n",
    "    ## Rename total_CPM for transcript column\n",
    "    merged_df[\"total_CPM_transcript\"] = merged_df[\"total_CPM\"]\n",
    "    merged_df.drop(columns=\"total_CPM\", inplace=True)\n",
    "\n",
    "\n",
    "    return merged_df"
   ]
  },
  {
   "cell_type": "code",
   "execution_count": 3,
   "id": "a6446e95",
   "metadata": {},
   "outputs": [],
   "source": [
    "'''\n",
    "function name: fix_column_names\n",
    "\n",
    "purpose: Fixing the column names, making them smaller, informative, and consistent\n",
    "\n",
    "input: The raw counts dataframe for either genes or transcripts \n",
    "\n",
    "output: Same dataframe with improved column names\n",
    "'''\n",
    "\n",
    "def fix_column_names(df, is_gene=False):\n",
    "    \n",
    "    ## Check if this is a gene counts object\n",
    "    if is_gene:\n",
    "        \n",
    "        ## Get count column names and create list of new column names\n",
    "        count_columns = df.columns.tolist()\n",
    "        list_new_names = [\"gene_id\"]\n",
    "        \n",
    "        ## gene_id comes in as index for gene counts data, make it into the first column instead\n",
    "        df[\"gene_id\"] = df.index\n",
    "        cols = list(df.columns)\n",
    "        cols = [cols[-1]] + cols[:-1]\n",
    "        df = df[cols]\n",
    "        df.reset_index(inplace=True, drop=True)\n",
    "    \n",
    "    ## If it is a transcript dataset\n",
    "    else:\n",
    "        ## Set count columns and create list of new names\n",
    "        count_columns = df.columns[2:].tolist()\n",
    "        list_new_names = [ \"transcript_id\", \"gene_id\"]\n",
    "    \n",
    "    ## Fix names one by one and add to list of new names\n",
    "    for col in count_columns:\n",
    "        col = col.split(\"_mapped\")[0] + \"_counts\"\n",
    "        list_new_names.append(col)\n",
    "    \n",
    "    ## Rename columns\n",
    "    df.columns = list_new_names\n",
    "    \n",
    "    return df "
   ]
  },
  {
   "cell_type": "code",
   "execution_count": 4,
   "id": "143176a3",
   "metadata": {},
   "outputs": [],
   "source": [
    "'''\n",
    "function name: parse_df_columns\n",
    "\n",
    "purpose: parsing the last aggregate column of the gtf/gff3 into useful columns and cleaning non-relevant columns\n",
    "\n",
    "input: dataframe containining \"raw\" gtf/gff\n",
    "\n",
    "output: dataframe containing gtf with useful columns [\"gene_id\", \"transcript_id\", etc...]\n",
    "'''\n",
    "\n",
    "def parse_df_columns(df, is_ref=True, is_transcript=False, is_prot=False, delete_other=True):\n",
    "\n",
    "    if is_ref:\n",
    "\n",
    "        ## Get gene ids\n",
    "        df[\"gene_id\"] = df[\"other\"].str.split('\";', expand=True)[0].str.extract(\"([^ \\\"]*$)\", expand=True)\n",
    "        \n",
    "        ## Get gene names\n",
    "        df[\"gene_name\"] = df[\"other\"].str.split(\"gene_name \\\"\", expand=True)[1].str.split('\\\";', expand=True)[0]\n",
    "        \n",
    "        ## Get get transcript biotype\n",
    "        df[\"gene_biotype\"] = df[\"other\"].str.split('gene_biotype \"', expand=True)[1].str.split('\"', expand=True)[0]\n",
    "        \n",
    "        ## If is transcript get transcript id and transcript biotype\n",
    "        if is_transcript:\n",
    "            df[\"transcript_id\"] = df[\"other\"].str.split('transcript_id \"', expand=True)[1].str.split('\"', expand=True)[0]\n",
    "            df[\"transcript_biotype\"] = df[\"other\"].str.split('transcript_biotype \"', expand=True)[1].str.split('\"', expand=True)[0]\n",
    "            \n",
    "            ## If is prot get protein_id\n",
    "            if is_prot:\n",
    "                df[\"protein_id\"] = df[\"other\"].str.split('protein_id \"', expand=True)[1].str.split('\"', expand=True)[0]\n",
    "                df[\"ccds_id\"] = df[\"other\"].str.split('ccds_id \"', expand=True)[1].str.split('\"', expand=True)[0]\n",
    "                df[\"exon_number\"] = df[\"other\"].str.split('exon_number \"', expand=True)[1].str.split('\"', expand=True)[0]\n",
    "\n",
    "        ## Drop \"other\" column\n",
    "        df.drop(columns=[\"other\", \"dot_1\", \"dot_2\"], inplace=True)\n",
    "        \n",
    "\n",
    "    else:\n",
    "\n",
    "        ## Get gene ids\n",
    "        df[\"gene_id\"] = df[\"other\"].str.split('\";', expand=True)[0].str.extract(\"([^ \\\"]*$)\", expand=True)\n",
    "\n",
    "        ## Get transcript ids\n",
    "        df[\"transcript_id\"] = df[\"other\"].str.split('transcript_id \"', expand=True)[1].str.split('\"', expand=True)[0]\n",
    "\n",
    "        ## Get exon number\n",
    "        df[\"exon_number\"] = df[\"other\"].str.split('exon_number \"', expand=True)[1].str.split('\"', expand=True)[0]\n",
    "\n",
    "        ## Drop \"other\" column\n",
    "        if delete_other:\n",
    "            df.drop(columns=[\"other\", \"dot_1\", \"dot_2\"], inplace=True)\n",
    "\n",
    "    for col in df.columns:\n",
    "        df.loc[df[col].isnull(), col] = np.NaN\n",
    "        \n",
    "\n",
    "    return df"
   ]
  },
  {
   "cell_type": "code",
   "execution_count": 5,
   "id": "b1117a08",
   "metadata": {},
   "outputs": [],
   "source": [
    "'''\n",
    "function name: calculate_cpm\n",
    "\n",
    "purpose: Calculate CPM for the each sample given\n",
    "\n",
    "input: Counts dataset\n",
    "\n",
    "output: Counts dataset with CPM columns as well\n",
    "'''\n",
    "\n",
    "def calculate_cpm(df, is_gene=False):\n",
    "\n",
    "    ## Set count columns if dataframe is gene counts\n",
    "    if is_gene:\n",
    "        count_columns = df.columns[1:].tolist()\n",
    "    \n",
    "    ## Set count columns if dataframe is transcript counts\n",
    "    else:\n",
    "        count_columns = df.columns[2:].tolist()\n",
    "\n",
    "    ## Loop through counts columns to calculate CPM and add to the dataframe\n",
    "    for col in count_columns:\n",
    "        \n",
    "        df[col] = round(df[col], 2)\n",
    "        cpm_name = col.replace(\"_counts\", \"_CPM\")\n",
    "        df[cpm_name] = round(((df[col]/(df[col].sum())) * 1000000), 2)\n",
    "    \n",
    "    return df  "
   ]
  },
  {
   "cell_type": "code",
   "execution_count": 6,
   "id": "4ed11391",
   "metadata": {},
   "outputs": [],
   "source": [
    "## define ggplot colors\n",
    "ggplot2_colors = [\"#F8766D\", \"#CD9600\", \"#7CAE00\", \"#00BE67\", \"#00BFC4\", \"#00A9FF\", \"#C77CFF\", \"#FF61CC\"]"
   ]
  },
  {
   "cell_type": "code",
   "execution_count": 7,
   "id": "59f349db",
   "metadata": {},
   "outputs": [],
   "source": [
    "## Open original reference\n",
    "original_ref = pd.read_csv(\"../../references/Homo_sapiens.GRCh38.107_ERCC.gtf\", header=None, delimiter=\"\\t\", low_memory=False, \n",
    "                       names=[\"chr\", \"source\", \"type\", \"start\", \"end\", \"dot_1\", \"strand\", \"dot_2\", \"other\"], comment=\"#\")\n",
    "\n",
    "original_ref = original_ref.loc[~original_ref[\"chr\"].str.startswith(\"ERCC-\")]\n",
    "\n",
    "## Parse through reference to get gene names and ids\n",
    "orig_ref = original_ref.loc[original_ref[\"type\"]==\"gene\"].copy()\n",
    "orig_ref = parse_df_columns(orig_ref, is_ref=True)\n",
    "\n",
    "## Import disease relevant genes\n",
    "disease_relevant_genes = pd.read_csv(\"../../references/medically_relevant_genes_02-04-2023_UPDATED.tsv\", sep=\"\\t\")\n",
    "\n",
    "## Brain disease genes\n",
    "brain_disease_gene_ids = pd.read_csv(\"../../references/brain_disease_genes_only_IDs.tsv\", sep=\"\\t\")\n",
    "brain_disease_annotations = pd.read_csv(\"../../references/brain_disease_genes_with_disease.tsv\", sep=\"\\t\")\n",
    "\n",
    "## Import AD Genes\n",
    "ad_names = pd.read_csv(\"../../references/AD_gwas_genes.tsv\", sep=\"\\t\")\n",
    "\n",
    "## Create disease relevant list including chromosome\n",
    "disease_relevant_genes_annotated = disease_relevant_genes.merge(orig_ref[[\"gene_id\", \"gene_name\", \"chr\"]], \n",
    "                                                               how=\"inner\", on=[\"gene_id\", \"gene_name\"])\n",
    "\n",
    "## Create list of protein coding genes\n",
    "protein_coding_ref = orig_ref.loc[orig_ref[\"gene_biotype\"] == \"protein_coding\"].copy()\n",
    "\n",
    "## Import and parse through extended annotations\n",
    "ref = pd.read_csv(\"../../data/raw/nextflow_pipeline_output/bambu_discovery/extended_annotations.gtf\", header=None, delimiter=\"\\t\",\n",
    "                        low_memory=False, comment=\"#\", names=[\"chr\", \"source\", \"type\", \"start\", \"end\", \"dot_1\", \"strand\", \"dot_2\", \"other\"])\n",
    "\n",
    "ref = ref.loc[~ref[\"chr\"].str.startswith(\"ERCC-\")]\n",
    "\n",
    "ref = parse_df_columns(ref, is_ref=False)\n",
    "\n",
    "ref_transcripts = ref.loc[ref[\"type\"] == \"transcript\"].copy()"
   ]
  },
  {
   "cell_type": "markdown",
   "id": "f4cb3b2e",
   "metadata": {},
   "source": [
    "# - Figure 2"
   ]
  },
  {
   "cell_type": "code",
   "execution_count": 8,
   "id": "bb5df7d9",
   "metadata": {},
   "outputs": [],
   "source": [
    "## Import data for transcript level counts and fix column names\n",
    "\n",
    "df = pd.read_csv(\"../../data/raw/nextflow_pipeline_output/bambu_discovery/counts_transcript.txt\", \n",
    "                           delimiter=\"\\t\", low_memory=False, header=0)\n",
    "\n",
    "df = fix_column_names(df, is_gene=False)"
   ]
  },
  {
   "cell_type": "code",
   "execution_count": 9,
   "id": "2a1c5c15",
   "metadata": {},
   "outputs": [],
   "source": [
    "## Calculate total counts\n",
    "df[\"total_counts\"] = df[df.filter(regex='count').columns].sum(axis=1)"
   ]
  },
  {
   "cell_type": "code",
   "execution_count": 10,
   "id": "5e424d8f",
   "metadata": {},
   "outputs": [],
   "source": [
    "## Calculate CPM and drop count columns\n",
    "df = calculate_cpm(df, is_gene=False)\n",
    "\n",
    "df = df[df.columns.drop(list(df.filter(regex='counts')))].copy()"
   ]
  },
  {
   "cell_type": "code",
   "execution_count": 11,
   "id": "c237b1c7",
   "metadata": {},
   "outputs": [],
   "source": [
    "## Drop ERCCs\n",
    "df = df.loc[~df[\"gene_id\"].str.startswith(\"ERCC\")].copy()"
   ]
  },
  {
   "cell_type": "code",
   "execution_count": 12,
   "id": "02cefca0",
   "metadata": {},
   "outputs": [],
   "source": [
    "## Calculate median CPM\n",
    "df[\"median_CPM\"] = df[df.filter(regex='[0-9]_CPM').columns].median(axis=1)"
   ]
  },
  {
   "cell_type": "code",
   "execution_count": 13,
   "id": "3593fa3c",
   "metadata": {},
   "outputs": [],
   "source": [
    "## Annotate transcritps in counts matrix\n",
    "df = df.merge(ref_transcripts[[\"gene_id\", \"transcript_id\", \"chr\"]], on=[\"gene_id\", \"transcript_id\"], how=\"inner\")"
   ]
  },
  {
   "cell_type": "code",
   "execution_count": 14,
   "id": "c4e3265c",
   "metadata": {},
   "outputs": [],
   "source": [
    "## Create dataframes with either only novel genes or only novel transcripts that are not from novel genes\n",
    "df_novel_genes = df.loc[df[\"gene_id\"].str.startswith(\"BambuGene\")].copy()\n",
    "df_novel_transcripts = df.loc[((df[\"transcript_id\"].str.startswith(\"BambuTx\")) & (~df[\"gene_id\"].str.startswith(\"BambuGene\")))].copy()"
   ]
  },
  {
   "cell_type": "code",
   "execution_count": 15,
   "id": "a9e7d072",
   "metadata": {},
   "outputs": [],
   "source": [
    "## Drop new mitochondrial transcripts/genes\n",
    "df_novel_genes = df_novel_genes.loc[df_novel_genes[\"chr\"] != \"MT\"].copy()\n",
    "df_novel_transcripts = df_novel_transcripts.loc[df_novel_transcripts[\"chr\"] != \"MT\"].copy()"
   ]
  },
  {
   "cell_type": "code",
   "execution_count": 16,
   "id": "1d81b8e1",
   "metadata": {},
   "outputs": [],
   "source": [
    "## Filter novel genes and transcripts, median CPM > 1\n",
    "df_novel_genes_median = df_novel_genes[df_novel_genes[\"median_CPM\"] > 1].copy()\n",
    "df_novel_transcripts_median = df_novel_transcripts[df_novel_transcripts[\"median_CPM\"] > 1].copy()"
   ]
  },
  {
   "cell_type": "code",
   "execution_count": 17,
   "id": "e48d6554",
   "metadata": {},
   "outputs": [],
   "source": [
    "## Only keep exon entries and add size variable\n",
    "ref_exons = ref.loc[ref[\"type\"] == \"exon\"].copy()\n",
    "ref_exons[\"size\"] = abs(ref_exons[\"end\"] - ref_exons[\"start\"])"
   ]
  },
  {
   "cell_type": "code",
   "execution_count": 18,
   "id": "e29de54c",
   "metadata": {},
   "outputs": [],
   "source": [
    "## Get reference for novel genes and transcripts\n",
    "ref_novel_gene_median = ref_exons.loc[ref_exons[\"transcript_id\"].isin(df_novel_genes_median[\"transcript_id\"])].copy()\n",
    "ref_novel_transcript_median = ref_exons.loc[ref_exons[\"transcript_id\"].isin(df_novel_transcripts_median[\"transcript_id\"])].copy()\n",
    "\n",
    "\n",
    "ref_novel_gene = ref_exons.loc[ref_exons[\"gene_id\"].str.startswith(\"BambuGene\")].copy()\n",
    "ref_novel_transcript = ref_exons.loc[((ref_exons[\"transcript_id\"].str.startswith(\"BambuTx\")) & \n",
    "                                      (~ref_exons[\"gene_id\"].str.startswith(\"BambuGene\")))].copy()"
   ]
  },
  {
   "cell_type": "code",
   "execution_count": 19,
   "id": "55828a7d",
   "metadata": {},
   "outputs": [],
   "source": [
    "## get number of exons\n",
    "ref_novel_gene_median_num_exons = ref_novel_gene_median[\"transcript_id\"].value_counts()\n",
    "ref_novel_transcript_median_num_exons = ref_novel_transcript_median[\"transcript_id\"].value_counts()\n",
    "\n",
    "ref_novel_gene_num_exons = ref_novel_gene[\"transcript_id\"].value_counts()\n",
    "ref_novel_transcript_num_exons = ref_novel_transcript[\"transcript_id\"].value_counts()"
   ]
  },
  {
   "cell_type": "code",
   "execution_count": 20,
   "id": "2a400406",
   "metadata": {},
   "outputs": [],
   "source": [
    "## Set parameters for figures\n",
    "from matplotlib import rcParams\n",
    "mm = (1/25.4)\n",
    "\n",
    "# figure size in millimiters\n",
    "rcParams['figure.figsize'] = (55*mm, 60*mm)\n",
    "rcParams.update({'font.size': 6})\n",
    "rcParams['axes.linewidth'] = 1"
   ]
  },
  {
   "cell_type": "code",
   "execution_count": 21,
   "id": "3521e012",
   "metadata": {},
   "outputs": [
    {
     "data": {
      "image/png": "[encoded data removed]",
      "text/plain": [
       "<Figure size 216.535x236.22 with 1 Axes>"
      ]
     },
     "metadata": {},
     "output_type": "display_data"
    }
   ],
   "source": [
    "## Make average CPM > 1 transcript number of exons plot and save both as png and svg.\n",
    "\n",
    "ax = sns.countplot(x=ref_novel_transcript_median_num_exons, color=ggplot2_colors[0], saturation=1)\n",
    "\n",
    "for container in ax.containers:\n",
    "    ax.bar_label(container)\n",
    "\n",
    "ax.set_ylim(0, 185)\n",
    "ax.set_xlim(-1, 13)\n",
    "\n",
    "labels = [\"2\", \"\", \"4\", \"\", \"6\", \"\", \"8\", \"\", \"10\", \"\", \"12\", \"\", \"14\"]\n",
    "ax.set_xticklabels(labels)\n",
    "\n",
    "plt.xlabel(\"Number of exons\")\n",
    "plt.ylabel(\"New transcripts from known genes\")\n",
    "\n",
    "plt.savefig('../../figures/paper_figures/figure_2/num_exons_ntkg_median_cpm_greater_than_1.pdf',\n",
    "            dpi=600, transparent=True, bbox_inches=\"tight\")\n",
    "\n",
    "plt.show()"
   ]
  },
  {
   "cell_type": "code",
   "execution_count": 22,
   "id": "db2874a7",
   "metadata": {},
   "outputs": [],
   "source": [
    "## Create dataframes with exonic length for each transcript\n",
    "df_exonic_length_novel_genes_median = ref_novel_gene_median[[\"transcript_id\", \"size\"]].groupby('transcript_id').sum()\n",
    "df_exonic_length_novel_transcripts_median = ref_novel_transcript_median[[\"transcript_id\", \"size\"]].groupby('transcript_id').sum()\n",
    "\n",
    "df_exonic_length_novel_genes = ref_novel_gene[[\"transcript_id\", \"size\"]].groupby('transcript_id').sum()\n",
    "df_exonic_length_novel_transcripts = ref_novel_transcript[[\"transcript_id\", \"size\"]].groupby('transcript_id').sum()"
   ]
  },
  {
   "cell_type": "code",
   "execution_count": 23,
   "id": "6bd2761b",
   "metadata": {},
   "outputs": [
    {
     "data": {
      "text/plain": [
       "count     428.000000\n",
       "mean      870.521028\n",
       "std       484.218927\n",
       "min       179.000000\n",
       "25%       504.750000\n",
       "50%       761.500000\n",
       "75%      1137.000000\n",
       "max      3089.000000\n",
       "Name: size, dtype: float64"
      ]
     },
     "execution_count": 23,
     "metadata": {},
     "output_type": "execute_result"
    }
   ],
   "source": [
    "df_exonic_length_novel_transcripts_median[\"size\"].describe()"
   ]
  },
  {
   "cell_type": "code",
   "execution_count": 24,
   "id": "d6262d1c",
   "metadata": {},
   "outputs": [
    {
     "data": {
      "image/png": "[encoded data removed]",
      "text/plain": [
       "<Figure size 216.535x236.22 with 1 Axes>"
      ]
     },
     "metadata": {},
     "output_type": "display_data"
    }
   ],
   "source": [
    "## Make average CPM > 1 gene body number of exons plot and save both as png and svg.\n",
    "\n",
    "sns.histplot(x=df_exonic_length_novel_transcripts_median[\"size\"], color=ggplot2_colors[0], alpha=1)\n",
    "plt.xlabel(\"Transcript length (nucleotides)\")\n",
    "plt.ylabel(\"New transcripts from known genes\")\n",
    "\n",
    "plt.ylim(0, 85)\n",
    "\n",
    "plt.plot([761.5, 761.5], [0, 75], color=\"#4d4d4d\", label=\"Median length = 761.5 nucleotides\", linewidth=1.5, alpha=1, linestyle='dashed')\n",
    "plt.text(x=200, y=77, s=\"Median = 761.5\",  color=\"#4d4d4d\", fontsize=6, fontweight=\"bold\")\n",
    "\n",
    "plt.savefig('../../figures/paper_figures/figure_2/histogram_ntkg_length_median_cpm_greater_than_one.pdf',\n",
    "            dpi=600, transparent=True, bbox_inches=\"tight\")\n",
    "\n",
    "plt.show()"
   ]
  },
  {
   "cell_type": "code",
   "execution_count": 25,
   "id": "868c898e",
   "metadata": {},
   "outputs": [],
   "source": [
    "## Create log transformation of median CPM for new genes and transcripts\n",
    "\n",
    "df_novel_genes_no_zero = df_novel_genes.loc[df_novel_genes[\"median_CPM\"] > 0].copy()\n",
    "log_10_median_cpm_genes = np.log10(df_novel_genes_no_zero[\"median_CPM\"])\n",
    "\n",
    "df_novel_transcripts_no_zero = df_novel_transcripts.loc[df_novel_transcripts[\"median_CPM\"] > 0].copy()\n",
    "log_10_median_cpm_transcripts = np.log10(df_novel_transcripts_no_zero[\"median_CPM\"])"
   ]
  },
  {
   "cell_type": "code",
   "execution_count": 26,
   "id": "3c4b3020",
   "metadata": {},
   "outputs": [
    {
     "data": {
      "image/png": "[encoded data removed]",
      "text/plain": [
       "<Figure size 216.535x236.22 with 1 Axes>"
      ]
     },
     "metadata": {},
     "output_type": "display_data"
    }
   ],
   "source": [
    "## Make average CPM > 1 gene body number of exons plot and save both as png and svg.\n",
    "\n",
    "sns.histplot(x=log_10_median_cpm_transcripts, color=ggplot2_colors[0], alpha=1)\n",
    "\n",
    "plt.ylim(0, 190)\n",
    "\n",
    "\n",
    "plt.plot([0, 0], [0, 160], color=\"#4d4d4d\", label=\"Median CPM = 1\", linewidth=1.5, alpha=1, linestyle='dashed')\n",
    "plt.text(x=-0.9, y=166, s=\"Median CPM = 1\",  color=\"#4d4d4d\", fontsize=6, fontweight=\"bold\")\n",
    "\n",
    "plt.xlabel(\"Log10 median CPM\")\n",
    "plt.ylabel(\"New transcripts from known genes\")\n",
    "\n",
    "plt.savefig('../../figures/paper_figures/figure_2/median_cpm_histogram_new_transcripts.pdf',\n",
    "            dpi=600, transparent=True, bbox_inches=\"tight\")\n",
    "\n",
    "plt.show()"
   ]
  },
  {
   "cell_type": "code",
   "execution_count": 27,
   "id": "ba9165d5",
   "metadata": {
    "scrolled": true
   },
   "outputs": [
    {
     "name": "stdout",
     "output_type": "stream",
     "text": [
      "Number of transcripts mapping to new gene bodies (no filter): 1860\n",
      "Number of transcripts mapping to new gene bodies (median CPM > 1): 267\n",
      "\n",
      "\n",
      "Number of new transcripts mapping to annotated genes (no filter): 1534\n",
      "Number of new transcripts mapping to annotated genes (median CPM > 1): 428\n"
     ]
    }
   ],
   "source": [
    "## Get number of transcripts\n",
    "\n",
    "print(\"Number of transcripts mapping to new gene bodies (no filter):\", df_novel_genes.shape[0])\n",
    "print(\"Number of transcripts mapping to new gene bodies (median CPM > 1):\", df_novel_genes_median.shape[0])\n",
    "\n",
    "print(\"\\n\\nNumber of new transcripts mapping to annotated genes (no filter):\", df_novel_transcripts.shape[0])\n",
    "print(\"Number of new transcripts mapping to annotated genes (median CPM > 1):\", df_novel_transcripts_median.shape[0])"
   ]
  },
  {
   "cell_type": "code",
   "execution_count": 28,
   "id": "7190d2f0",
   "metadata": {
    "scrolled": true
   },
   "outputs": [
    {
     "name": "stdout",
     "output_type": "stream",
     "text": [
      "Number of new genes represented (no filter): 1676\n",
      "Number of new genes represented (median CPM > 1): 245\n",
      "\n",
      "\n",
      "Number of represented annotated genes with new transcripts (no filter): 1255\n",
      "Number of represented annotated genes with new transcripts (median CPM > 1): 383\n"
     ]
    }
   ],
   "source": [
    "## Get number of genes\n",
    "\n",
    "print(\"Number of new genes represented (no filter):\", df_novel_genes[\"gene_id\"].nunique())\n",
    "print(\"Number of new genes represented (median CPM > 1):\", df_novel_genes_median[\"gene_id\"].nunique())\n",
    "\n",
    "\n",
    "print(\"\\n\\nNumber of represented annotated genes with new transcripts (no filter):\", df_novel_transcripts[\"gene_id\"].nunique())\n",
    "print(\"Number of represented annotated genes with new transcripts (median CPM > 1):\", df_novel_transcripts_median[\"gene_id\"].nunique())"
   ]
  },
  {
   "cell_type": "code",
   "execution_count": 29,
   "id": "f1ad4602",
   "metadata": {},
   "outputs": [],
   "source": [
    "## Create lists with number of genes across CPM thresholds\n",
    "list_cpm_thresh = []\n",
    "\n",
    "list_ntkg_median = []\n",
    "list_ntkg_median_prot_coding = []\n",
    "list_ntkg_median_med_relevant = []\n",
    "\n",
    "for i in range(0, 1000):\n",
    "    \n",
    "    cpm_thresh = i/100\n",
    "    \n",
    "    ntkg_median_cpm = df_novel_transcripts.loc[df_novel_transcripts[\"median_CPM\"] >= cpm_thresh].copy()\n",
    "    ntkg_median_cpm_num = ntkg_median_cpm.shape[0]\n",
    "    ntkg_median_cpm_num_prot = ntkg_median_cpm.loc[ntkg_median_cpm[\"gene_id\"].isin(protein_coding_ref[\"gene_id\"])].shape[0]    \n",
    "    ntkg_median_cpm_num_med = ntkg_median_cpm.loc[ntkg_median_cpm[\"gene_id\"].isin(disease_relevant_genes_annotated[\"gene_id\"])].shape[0]    \n",
    "    \n",
    "    list_cpm_thresh.append(cpm_thresh)\n",
    "        \n",
    "    list_ntkg_median.append(ntkg_median_cpm_num)\n",
    "    list_ntkg_median_prot_coding.append(ntkg_median_cpm_num_prot)\n",
    "    list_ntkg_median_med_relevant.append(ntkg_median_cpm_num_med)"
   ]
  },
  {
   "cell_type": "code",
   "execution_count": 30,
   "id": "83ce782a",
   "metadata": {},
   "outputs": [
    {
     "data": {
      "image/png": "[encoded data removed]",
      "text/plain": [
       "<Figure size 216.535x236.22 with 1 Axes>"
      ]
     },
     "metadata": {},
     "output_type": "display_data"
    }
   ],
   "source": [
    "## Make plot showing number of transcripts across CPM thresholds\n",
    "\n",
    "plt.plot(list_cpm_thresh, list_ntkg_median, color=ggplot2_colors[0], label=\"New transcripts from\\nknown gene bodies\", linewidth=1.5, alpha=1)\n",
    "plt.plot(list_cpm_thresh, list_ntkg_median_prot_coding, color=ggplot2_colors[4], label=\"\\nNew transcripts from\\nprotein coding genes\\n\", linewidth=1.5, alpha=1)\n",
    "plt.plot(list_cpm_thresh, list_ntkg_median_med_relevant, color=ggplot2_colors[2], label=\"New transcripts from\\nmedically relevant gene bodies\", linewidth=1.5, alpha=1)\n",
    "plt.plot([1, 1], [-100, 1550], color=\"#4d4d4d\", label=\"\\nMedian CPM = 1\\n\", linewidth=1.5, alpha=1, linestyle='dashed')\n",
    "\n",
    "\n",
    "plt.xticks(np.arange(0, 11, 1))\n",
    "plt.xlabel('Median CPM Threshold')\n",
    "plt.ylabel('Number of Transcripts')\n",
    "plt.legend(loc=\"upper right\", fontsize=5, borderpad=0.6, labelspacing=0.1)\n",
    "\n",
    "plt.savefig('../../figures/paper_figures/figure_2/number_of_new_transcripts_across_cpm_thresh.pdf', dpi=600, transparent=True, bbox_inches=\"tight\")\n",
    "\n",
    "plt.show()"
   ]
  },
  {
   "cell_type": "code",
   "execution_count": 31,
   "id": "766817d9",
   "metadata": {},
   "outputs": [],
   "source": [
    "## Import Data for new transcript events\n",
    "df_events = pd.read_csv(\"../../data/processed/paper_figures/novel_events.tsv\", sep=\"\\t\")"
   ]
  },
  {
   "cell_type": "code",
   "execution_count": 32,
   "id": "fdf1b90e",
   "metadata": {},
   "outputs": [],
   "source": [
    "## Remove new genes\n",
    "df_events = df_events.loc[df_events[\"txClassDescription\"] != \"newGene-spliced\"].copy()"
   ]
  },
  {
   "cell_type": "code",
   "execution_count": 33,
   "id": "788239bf",
   "metadata": {},
   "outputs": [],
   "source": [
    "## Cleanup net transcript classes\n",
    "df_events.loc[df_events[\"txClassDescription\"] == \"newWithin\", \"txClassDescription\"] = \"New combination of known exons/junctions\"\n",
    "df_events.loc[df_events[\"txClassDescription\"] == \"newFirstJunction:newFirstExon\", \"txClassDescription\"] = \"New exon\"\n",
    "df_events.loc[df_events[\"txClassDescription\"] == \"newLastJunction:newLastExon\", \"txClassDescription\"] = \"New exon\"\n",
    "df_events.loc[df_events[\"txClassDescription\"] == \"allNew\", \"txClassDescription\"] = \"All new exons & junctions\"\n",
    "\n",
    "df_events.loc[df_events[\"txClassDescription\"] == \"newFirstJunction\", \"txClassDescription\"] = \"New junction\"\n",
    "df_events.loc[df_events[\"txClassDescription\"] == \"newLastJunction:newJunction\", \"txClassDescription\"] = \"New junction\"\n",
    "df_events.loc[df_events[\"txClassDescription\"] == \"newFirstJunction:newJunction\", \"txClassDescription\"] = \"New junction\"\n",
    "df_events.loc[df_events[\"txClassDescription\"] == \"newLastJunction\", \"txClassDescription\"] = \"New junction\"\n",
    "df_events.loc[df_events[\"txClassDescription\"] == \"newJunction\", \"txClassDescription\"] = \"New junction\"\n",
    "df_events.loc[df_events[\"txClassDescription\"] == \"newLastJunction:newFirstJunction:newJunction\", \"txClassDescription\"] = \"New junction\"\n",
    "\n",
    "\n",
    "df_events.loc[df_events[\"txClassDescription\"] == \"newLastJunction:newJunction:newLastExon\", \"txClassDescription\"] = \"New exon & new junction\"\n",
    "df_events.loc[df_events[\"txClassDescription\"] == \"newFirstJunction:newJunction:newFirstExon\", \"txClassDescription\"] = \"New exon & new junction\"\n",
    "df_events.loc[df_events[\"txClassDescription\"] == \"newLastJunction:newFirstJunction:newJunction:newFirstExon:newLastExon\", \"txClassDescription\"] = \"New exon & new junction\"\n",
    "df_events.loc[df_events[\"txClassDescription\"] == \"newLastJunction:newFirstJunction:newJunction:newFirstExon\", \"txClassDescription\"] = \"New exon & new junction\"\n",
    "df_events.loc[df_events[\"txClassDescription\"] == \"New first exon & new junction\", \"txClassDescription\"] = \"New exon & new junction\"\n",
    "df_events.loc[df_events[\"txClassDescription\"] == \"newLastJunction:newFirstJunction:newJunction:newLastExon\", \"txClassDescription\"] = \"New exon & new junction\"\n"
   ]
  },
  {
   "cell_type": "code",
   "execution_count": 34,
   "id": "b0ad792b",
   "metadata": {},
   "outputs": [],
   "source": [
    "## Create dataframes for the two stringency thresholds\n",
    "df_events_median = df_events.loc[df_events[\"TXNAME\"].isin(df_novel_transcripts_median[\"transcript_id\"])]"
   ]
  },
  {
   "cell_type": "code",
   "execution_count": 35,
   "id": "ca672efa",
   "metadata": {},
   "outputs": [
    {
     "data": {
      "text/plain": [
       "All new exons & junctions                   853\n",
       "New junction                                266\n",
       "New combination of known exons/junctions    197\n",
       "New exon & new junction                     137\n",
       "New exon                                    115\n",
       "Name: txClassDescription, dtype: int64"
      ]
     },
     "execution_count": 35,
     "metadata": {},
     "output_type": "execute_result"
    }
   ],
   "source": [
    "## Get counts of events no filter\n",
    "df_events[\"txClassDescription\"].value_counts()"
   ]
  },
  {
   "cell_type": "code",
   "execution_count": 36,
   "id": "35323746",
   "metadata": {},
   "outputs": [
    {
     "data": {
      "text/plain": [
       "All new exons & junctions                   186\n",
       "New junction                                 94\n",
       "New combination of known exons/junctions     92\n",
       "New exon & new junction                      28\n",
       "New exon                                     28\n",
       "Name: txClassDescription, dtype: int64"
      ]
     },
     "execution_count": 36,
     "metadata": {},
     "output_type": "execute_result"
    }
   ],
   "source": [
    "## Get counts of events median CPM > 1\n",
    "df_events_median[\"txClassDescription\"].value_counts()"
   ]
  },
  {
   "cell_type": "code",
   "execution_count": 37,
   "id": "a7990e78",
   "metadata": {},
   "outputs": [],
   "source": [
    "## Set parameters for figures\n",
    "from matplotlib import rcParams\n",
    "mm = (1/25.4)\n",
    "\n",
    "# figure size in millimiters\n",
    "rcParams['figure.figsize'] = (31.34375*mm, 34*mm)\n",
    "rcParams.update({'font.size': 6})\n",
    "rcParams['axes.linewidth'] = 1"
   ]
  },
  {
   "cell_type": "code",
   "execution_count": 38,
   "id": "25afeaa0",
   "metadata": {},
   "outputs": [
    {
     "data": {
      "image/png": "[encoded data removed]",
      "text/plain": [
       "<Figure size 123.401x133.858 with 1 Axes>"
      ]
     },
     "metadata": {},
     "output_type": "display_data"
    }
   ],
   "source": [
    "## Make graph of new transcript events for no filter\n",
    "\n",
    "ax = sns.countplot(y=df_events_median[\"txClassDescription\"], hue=df_events_median[\"txClassDescription\"], dodge=False,\n",
    "                   palette=[ggplot2_colors[0], ggplot2_colors[2], ggplot2_colors[4], ggplot2_colors[7], ggplot2_colors[5]],\n",
    "                   saturation=1, order=df_events_median[\"txClassDescription\"].value_counts().index,\n",
    "                  hue_order=df_events_median[\"txClassDescription\"].value_counts().index)\n",
    "\n",
    "for container in ax.containers:\n",
    "    ax.bar_label(container)\n",
    "    \n",
    "ax.set_xlim(0, 200)\n",
    "\n",
    "sns.despine(ax=ax, top=False, right=True, left=False, bottom=False, offset=None, trim=False)\n",
    "\n",
    "plt.yticks(rotation=90)\n",
    "plt.tick_params(labelsize=None)\n",
    "\n",
    "plt.legend(bbox_to_anchor=(1.15, 1.6), fontsize=5, borderpad=0.3, labels=[\"All new exons & junctions\", \"New junction\", \n",
    "                                                                       \"New combination of\\nknown exons/junctions\",\n",
    "                                                                       \"New exon & junction\", \"New exon\"])\n",
    "plt.xlabel('Counts')\n",
    "plt.ylabel(\"\")\n",
    "plt.yticks([]) \n",
    "\n",
    "\n",
    "plt.savefig('../../figures/paper_figures/figure_2/barplot_events_new_transcripts_median_cpm_greater_than_one.pdf',\n",
    "           dpi=600, transparent=True, bbox_inches=\"tight\")"
   ]
  },
  {
   "cell_type": "code",
   "execution_count": 39,
   "id": "37650277",
   "metadata": {},
   "outputs": [],
   "source": [
    "## Import full length counts matrix\n",
    "\n",
    "df_full = pd.read_csv(\"../../data/raw/nextflow_pipeline_output/bambu_discovery/fullLengthCounts_transcript.txt\", sep=\"\\t\")"
   ]
  },
  {
   "cell_type": "code",
   "execution_count": 40,
   "id": "f5e8b3aa",
   "metadata": {},
   "outputs": [],
   "source": [
    "## Get novel mitochondrial transcript ids\n",
    "ref_mito_novel_ids = ref_transcripts.loc[((ref_transcripts[\"chr\"] == \"MT\") & (ref_transcripts[\"transcript_id\"].str.startswith(\"Bambu\")))][\"transcript_id\"].copy()\n",
    "ref_mito_novel_ids = ref_mito_novel_ids.drop_duplicates().to_list()"
   ]
  },
  {
   "cell_type": "code",
   "execution_count": 41,
   "id": "1ee7f8d2",
   "metadata": {},
   "outputs": [],
   "source": [
    "## Create counts matrix countaining only \n",
    "df_novel_mito = df_full.loc[df_full[\"TXNAME\"].isin(ref_mito_novel_ids)].copy()"
   ]
  },
  {
   "cell_type": "code",
   "execution_count": 42,
   "id": "c599ad04",
   "metadata": {},
   "outputs": [],
   "source": [
    "## Sum counts for each novel mito transcripts\n",
    "df_novel_mito[\"median_counts\"] = round(df_novel_mito[df_novel_mito.columns[2:]].median(axis=1))"
   ]
  },
  {
   "cell_type": "code",
   "execution_count": 43,
   "id": "07ff5be1",
   "metadata": {},
   "outputs": [],
   "source": [
    "## Only keep new mitochondrial isoforms with more than 300 full-length counts\n",
    "df_novel_mito = df_novel_mito.loc[df_novel_mito[\"median_counts\"] > 40].copy()"
   ]
  },
  {
   "cell_type": "code",
   "execution_count": 44,
   "id": "654bcdf4",
   "metadata": {},
   "outputs": [],
   "source": [
    "## Set parameters for figures\n",
    "from matplotlib import rcParams\n",
    "mm = (1/25.4)\n",
    "\n",
    "# figure size in inches\n",
    "rcParams['figure.figsize'] = (55*mm, 60*mm)\n",
    "rcParams.update({'font.size': 6})\n",
    "rcParams['axes.linewidth'] = 1"
   ]
  },
  {
   "cell_type": "code",
   "execution_count": 45,
   "id": "54ca0cf2",
   "metadata": {},
   "outputs": [],
   "source": [
    "## Get transcript ids for protein coding mitochondrial transcripts\n",
    "orig_ref_transcript = original_ref.loc[original_ref[\"type\"] == \"transcript\"].copy()\n",
    "known_transcript_ref = parse_df_columns(orig_ref_transcript.copy(), is_ref=True, is_transcript=True)\n",
    "\n",
    "ref_mito_protein_coding = known_transcript_ref.loc[known_transcript_ref[\"chr\"] == \"MT\"].copy()\n",
    "ref_mito_protein_coding = ref_mito_protein_coding.loc[ref_mito_protein_coding[\"transcript_biotype\"] == \"protein_coding\"].copy()\n",
    "\n",
    "mito_protein_coding_ids = ref_mito_protein_coding[\"transcript_id\"].copy()"
   ]
  },
  {
   "cell_type": "code",
   "execution_count": 46,
   "id": "c8fb7e74",
   "metadata": {},
   "outputs": [],
   "source": [
    "## Create counts matrix countaining only protein coding mitochondrial transcripts\n",
    "df_known_mito = df_full.loc[df_full[\"TXNAME\"].isin(mito_protein_coding_ids)].copy()\n",
    "\n",
    "## Sum counts for each novel mito transcripts\n",
    "df_known_mito[\"median_counts\"] = round(df_known_mito[df_known_mito.columns[2:]].median(axis=1))"
   ]
  },
  {
   "cell_type": "code",
   "execution_count": 47,
   "id": "f8eccaab",
   "metadata": {},
   "outputs": [],
   "source": [
    "## Add gene names to known mitochondrial transcripts full length counts matrices\n",
    "df_known_mito[\"transcript_id\"] = df_known_mito[\"TXNAME\"].copy()\n",
    "df_known_mito = df_known_mito.merge(ref_mito_protein_coding[[\"transcript_id\", \"gene_name\"]], on=\"transcript_id\", how=\"inner\")\n",
    "\n",
    "## Make TXNAME equal to gene_name columns, then drop transcript_id and gene_id columns\n",
    "df_known_mito[\"TXNAME\"] = df_known_mito[\"gene_name\"]\n",
    "df_known_mito.drop(columns=[\"gene_name\", \"transcript_id\"], inplace=True)"
   ]
  },
  {
   "cell_type": "code",
   "execution_count": 48,
   "id": "b7153b84",
   "metadata": {},
   "outputs": [],
   "source": [
    "## Concatenate new and novel mitochondrial full length reads\n",
    "df_full_mito = pd.concat([df_known_mito, df_novel_mito])"
   ]
  },
  {
   "cell_type": "code",
   "execution_count": 49,
   "id": "f9e11634",
   "metadata": {},
   "outputs": [],
   "source": [
    "## Only keep relevant columns\n",
    "df_full_mito = df_full_mito[[\"TXNAME\", \"GENEID\", \"median_counts\"]].copy()"
   ]
  },
  {
   "cell_type": "code",
   "execution_count": 50,
   "id": "a6dc7343",
   "metadata": {},
   "outputs": [],
   "source": [
    "## Log10 transformation\n",
    "df_full_mito[\"log10_median_counts\"] = round(np.log10(df_full_mito[\"median_counts\"]), 2)\n",
    "\n",
    "## Replace BambuTx with just Tx (better to graph)\n",
    "df_full_mito[\"TXNAME\"] = df_full_mito[\"TXNAME\"].str.replace(\"Bambu\", \"\")"
   ]
  },
  {
   "cell_type": "code",
   "execution_count": 51,
   "id": "e3d913ff",
   "metadata": {},
   "outputs": [
    {
     "data": {
      "image/png": "[encoded data removed]",
      "text/plain": [
       "<Figure size 216.535x236.22 with 1 Axes>"
      ]
     },
     "metadata": {},
     "output_type": "display_data"
    }
   ],
   "source": [
    "## Create and save graph showing number of genes with multiple protein coding isoforms (AVG CPM > 1)\n",
    "ax = sns.barplot(data=df_full_mito, x=\"log10_median_counts\", y=\"TXNAME\",\n",
    "            color=ggplot2_colors[0], saturation=1, \n",
    "                 order=df_full_mito.sort_values(by=\"log10_median_counts\", ascending=False)[\"TXNAME\"])\n",
    "\n",
    "ax.bar_label(ax.containers[0], fontsize=6, padding=0.8)\n",
    "plt.ylabel(\"\")\n",
    "plt.xlabel(\"Log10 total full-length reads\", fontsize=6)\n",
    "plt.yticks(fontsize=6)\n",
    "\n",
    "ax.set_ylim(17.8, -0.8)\n",
    "ax.set_xlim(0, 5.9)\n",
    "\n",
    "\n",
    "plt.savefig('../../figures/paper_figures/figure_2/novel_transcripts_median_full_length_counts.pdf',\n",
    "            dpi=600, transparent=True, bbox_inches=\"tight\")"
   ]
  },
  {
   "cell_type": "code",
   "execution_count": 52,
   "id": "2c045451",
   "metadata": {},
   "outputs": [],
   "source": [
    "## Import full length counts matrix\n",
    "\n",
    "df_full_2 = pd.read_csv(\"../../data/raw/nextflow_pipeline_output/bambu_discovery/fullLengthCounts_transcript.txt\", sep=\"\\t\")"
   ]
  },
  {
   "cell_type": "code",
   "execution_count": 53,
   "id": "85a7ca28",
   "metadata": {},
   "outputs": [],
   "source": [
    "df_full_2[\"total_counts\"] = round(df_full_2[df_full_2.columns[2:]].sum(axis=1))"
   ]
  },
  {
   "cell_type": "code",
   "execution_count": 54,
   "id": "6a0da525",
   "metadata": {},
   "outputs": [],
   "source": [
    "df_full_2[\"rank\"] = df_full_2[\"total_counts\"].rank(ascending=False)"
   ]
  },
  {
   "cell_type": "code",
   "execution_count": 55,
   "id": "41de7135",
   "metadata": {},
   "outputs": [
    {
     "data": {
      "text/plain": [
       "60071"
      ]
     },
     "execution_count": 55,
     "metadata": {},
     "output_type": "execute_result"
    }
   ],
   "source": [
    "df_full_2.loc[df_full_2[\"total_counts\"] >= 1].shape[0]"
   ]
  },
  {
   "cell_type": "code",
   "execution_count": 56,
   "id": "24ea86c8",
   "metadata": {},
   "outputs": [
    {
     "data": {
      "text/html": [
       "<div>\n",
       "<style scoped>\n",
       "    .dataframe tbody tr th:only-of-type {\n",
       "        vertical-align: middle;\n",
       "    }\n",
       "\n",
       "    .dataframe tbody tr th {\n",
       "        vertical-align: top;\n",
       "    }\n",
       "\n",
       "    .dataframe thead th {\n",
       "        text-align: right;\n",
       "    }\n",
       "</style>\n",
       "<table border=\"1\" class=\"dataframe\">\n",
       "  <thead>\n",
       "    <tr style=\"text-align: right;\">\n",
       "      <th></th>\n",
       "      <th>TXNAME</th>\n",
       "      <th>GENEID</th>\n",
       "      <th>sample_579_PAG75663_mapped_filtered_sorted</th>\n",
       "      <th>sample_1131_PAM44580_mapped_filtered_sorted</th>\n",
       "      <th>sample_1218_PAM43779_mapped_filtered_sorted</th>\n",
       "      <th>sample_1304_PAM44487_mapped_filtered_sorted</th>\n",
       "      <th>sample_1271_PAM44815_mapped_filtered_sorted</th>\n",
       "      <th>sample_5356_PAM42933_mapped_filtered_sorted</th>\n",
       "      <th>sample_1163_PAM44604_mapped_filtered_sorted</th>\n",
       "      <th>sample_5295_PAG77944_mapped_filtered_sorted</th>\n",
       "      <th>sample_5292_PAG75292_mapped_filtered_sorted</th>\n",
       "      <th>sample_1092_PAM41667_mapped_filtered_sorted</th>\n",
       "      <th>sample_1186_PAM43869_mapped_filtered_sorted</th>\n",
       "      <th>sample_1291_PAG71816_mapped_filtered_sorted</th>\n",
       "      <th>total_counts</th>\n",
       "      <th>rank</th>\n",
       "    </tr>\n",
       "  </thead>\n",
       "  <tbody>\n",
       "    <tr>\n",
       "      <th>1844</th>\n",
       "      <td>BambuTx1845</td>\n",
       "      <td>ENSG00000210082</td>\n",
       "      <td>70.0</td>\n",
       "      <td>0.0</td>\n",
       "      <td>49.0</td>\n",
       "      <td>0.0</td>\n",
       "      <td>43.0</td>\n",
       "      <td>1.0</td>\n",
       "      <td>843.0</td>\n",
       "      <td>98.0</td>\n",
       "      <td>59.0</td>\n",
       "      <td>2.0</td>\n",
       "      <td>19.0</td>\n",
       "      <td>44.0</td>\n",
       "      <td>1228.0</td>\n",
       "      <td>2828.0</td>\n",
       "    </tr>\n",
       "    <tr>\n",
       "      <th>1845</th>\n",
       "      <td>BambuTx1846</td>\n",
       "      <td>ENSG00000210082</td>\n",
       "      <td>150.0</td>\n",
       "      <td>26.0</td>\n",
       "      <td>14.0</td>\n",
       "      <td>17.0</td>\n",
       "      <td>114.0</td>\n",
       "      <td>2.0</td>\n",
       "      <td>81.0</td>\n",
       "      <td>284.0</td>\n",
       "      <td>110.0</td>\n",
       "      <td>46.0</td>\n",
       "      <td>29.0</td>\n",
       "      <td>110.0</td>\n",
       "      <td>983.0</td>\n",
       "      <td>3230.0</td>\n",
       "    </tr>\n",
       "    <tr>\n",
       "      <th>1846</th>\n",
       "      <td>BambuTx1847</td>\n",
       "      <td>ENSG00000210082</td>\n",
       "      <td>878.0</td>\n",
       "      <td>36.0</td>\n",
       "      <td>1133.0</td>\n",
       "      <td>50.0</td>\n",
       "      <td>663.0</td>\n",
       "      <td>11.0</td>\n",
       "      <td>694.0</td>\n",
       "      <td>1604.0</td>\n",
       "      <td>803.0</td>\n",
       "      <td>209.0</td>\n",
       "      <td>240.0</td>\n",
       "      <td>1020.0</td>\n",
       "      <td>7341.0</td>\n",
       "      <td>835.5</td>\n",
       "    </tr>\n",
       "    <tr>\n",
       "      <th>1847</th>\n",
       "      <td>BambuTx1848</td>\n",
       "      <td>ENSG00000210082</td>\n",
       "      <td>352.0</td>\n",
       "      <td>13.0</td>\n",
       "      <td>910.0</td>\n",
       "      <td>31.0</td>\n",
       "      <td>641.0</td>\n",
       "      <td>41.0</td>\n",
       "      <td>736.0</td>\n",
       "      <td>2546.0</td>\n",
       "      <td>720.0</td>\n",
       "      <td>145.0</td>\n",
       "      <td>167.0</td>\n",
       "      <td>1795.0</td>\n",
       "      <td>8097.0</td>\n",
       "      <td>769.0</td>\n",
       "    </tr>\n",
       "    <tr>\n",
       "      <th>1849</th>\n",
       "      <td>BambuTx1850</td>\n",
       "      <td>ENSG00000210107</td>\n",
       "      <td>218.0</td>\n",
       "      <td>1.0</td>\n",
       "      <td>391.0</td>\n",
       "      <td>0.0</td>\n",
       "      <td>268.0</td>\n",
       "      <td>0.0</td>\n",
       "      <td>114.0</td>\n",
       "      <td>721.0</td>\n",
       "      <td>338.0</td>\n",
       "      <td>1.0</td>\n",
       "      <td>0.0</td>\n",
       "      <td>792.0</td>\n",
       "      <td>2844.0</td>\n",
       "      <td>1650.0</td>\n",
       "    </tr>\n",
       "  </tbody>\n",
       "</table>\n",
       "</div>"
      ],
      "text/plain": [
       "           TXNAME           GENEID  \\\n",
       "1844  BambuTx1845  ENSG00000210082   \n",
       "1845  BambuTx1846  ENSG00000210082   \n",
       "1846  BambuTx1847  ENSG00000210082   \n",
       "1847  BambuTx1848  ENSG00000210082   \n",
       "1849  BambuTx1850  ENSG00000210107   \n",
       "\n",
       "      sample_579_PAG75663_mapped_filtered_sorted  \\\n",
       "1844                                        70.0   \n",
       "1845                                       150.0   \n",
       "1846                                       878.0   \n",
       "1847                                       352.0   \n",
       "1849                                       218.0   \n",
       "\n",
       "      sample_1131_PAM44580_mapped_filtered_sorted  \\\n",
       "1844                                          0.0   \n",
       "1845                                         26.0   \n",
       "1846                                         36.0   \n",
       "1847                                         13.0   \n",
       "1849                                          1.0   \n",
       "\n",
       "      sample_1218_PAM43779_mapped_filtered_sorted  \\\n",
       "1844                                         49.0   \n",
       "1845                                         14.0   \n",
       "1846                                       1133.0   \n",
       "1847                                        910.0   \n",
       "1849                                        391.0   \n",
       "\n",
       "      sample_1304_PAM44487_mapped_filtered_sorted  \\\n",
       "1844                                          0.0   \n",
       "1845                                         17.0   \n",
       "1846                                         50.0   \n",
       "1847                                         31.0   \n",
       "1849                                          0.0   \n",
       "\n",
       "      sample_1271_PAM44815_mapped_filtered_sorted  \\\n",
       "1844                                         43.0   \n",
       "1845                                        114.0   \n",
       "1846                                        663.0   \n",
       "1847                                        641.0   \n",
       "1849                                        268.0   \n",
       "\n",
       "      sample_5356_PAM42933_mapped_filtered_sorted  \\\n",
       "1844                                          1.0   \n",
       "1845                                          2.0   \n",
       "1846                                         11.0   \n",
       "1847                                         41.0   \n",
       "1849                                          0.0   \n",
       "\n",
       "      sample_1163_PAM44604_mapped_filtered_sorted  \\\n",
       "1844                                        843.0   \n",
       "1845                                         81.0   \n",
       "1846                                        694.0   \n",
       "1847                                        736.0   \n",
       "1849                                        114.0   \n",
       "\n",
       "      sample_5295_PAG77944_mapped_filtered_sorted  \\\n",
       "1844                                         98.0   \n",
       "1845                                        284.0   \n",
       "1846                                       1604.0   \n",
       "1847                                       2546.0   \n",
       "1849                                        721.0   \n",
       "\n",
       "      sample_5292_PAG75292_mapped_filtered_sorted  \\\n",
       "1844                                         59.0   \n",
       "1845                                        110.0   \n",
       "1846                                        803.0   \n",
       "1847                                        720.0   \n",
       "1849                                        338.0   \n",
       "\n",
       "      sample_1092_PAM41667_mapped_filtered_sorted  \\\n",
       "1844                                          2.0   \n",
       "1845                                         46.0   \n",
       "1846                                        209.0   \n",
       "1847                                        145.0   \n",
       "1849                                          1.0   \n",
       "\n",
       "      sample_1186_PAM43869_mapped_filtered_sorted  \\\n",
       "1844                                         19.0   \n",
       "1845                                         29.0   \n",
       "1846                                        240.0   \n",
       "1847                                        167.0   \n",
       "1849                                          0.0   \n",
       "\n",
       "      sample_1291_PAG71816_mapped_filtered_sorted  total_counts    rank  \n",
       "1844                                         44.0        1228.0  2828.0  \n",
       "1845                                        110.0         983.0  3230.0  \n",
       "1846                                       1020.0        7341.0   835.5  \n",
       "1847                                       1795.0        8097.0   769.0  \n",
       "1849                                        792.0        2844.0  1650.0  "
      ]
     },
     "execution_count": 56,
     "metadata": {},
     "output_type": "execute_result"
    }
   ],
   "source": [
    "df_full_2.loc[df_full_2[\"TXNAME\"].isin([\"BambuTx1845\", \"BambuTx1846\", \"BambuTx1847\", \"BambuTx1848\", \"BambuTx1850\"])]"
   ]
  },
  {
   "cell_type": "code",
   "execution_count": 57,
   "id": "b0e729ae",
   "metadata": {},
   "outputs": [],
   "source": [
    "## Load reference to make mitochondrial reference and plot it on USCS genome browser\n",
    "ref_mito_out = pd.read_csv(\"../../data/raw/nextflow_pipeline_output/bambu_discovery/extended_annotations.gtf\", header=None, delimiter=\"\\t\",\n",
    "                        low_memory=False, comment=\"#\", names=[\"chr\", \"source\", \"type\", \"start\", \"end\", \"dot_1\", \"strand\", \"dot_2\", \"other\"])\n"
   ]
  },
  {
   "cell_type": "code",
   "execution_count": 58,
   "id": "0c66e32e",
   "metadata": {},
   "outputs": [],
   "source": [
    "## Only keep novel mitochondrial transcripts\n",
    "\n",
    "ref_mito_out = ref_mito_out.loc[ref_mito_out[\"chr\"] == \"MT\"].copy()\n",
    "ref_mito_out[\"transcript_id\"] = ref_mito_out[\"other\"].str.split('transcript_id \"', expand=True)[1].str.split('\"', expand=True)[0]\n",
    "ref_mito_out = ref_mito_out.loc[ref_mito_out[\"transcript_id\"].isin(df_novel_mito[\"TXNAME\"])].copy()\n",
    "ref_mito_out.drop(columns=\"transcript_id\", inplace=True)\n",
    "ref_mito_out[\"other\"] = ref_mito_out[\"other\"].str.replace(\"BambuTx\", \"Tx\")\n",
    "ref_mito_out[\"chr\"] = \"chrM\""
   ]
  },
  {
   "cell_type": "code",
   "execution_count": 59,
   "id": "0e408371",
   "metadata": {},
   "outputs": [],
   "source": [
    "## Save mitochondrial reference for plotting on USCS tracks\n",
    "ref_mito_out.to_csv(\"../../data/processed/mito_annotation_for_figure.gtf\",\n",
    "                   sep=\"\\t\", index=False, header=False, quoting=csv.QUOTE_NONE)"
   ]
  },
  {
   "cell_type": "code",
   "execution_count": 60,
   "id": "56a64009",
   "metadata": {},
   "outputs": [],
   "source": [
    "## Create percentages containing motiffs for MEME figures\n",
    "\n",
    "### 3 PRIME NFN ###\n",
    "\n",
    "nfn_3_prime_in = open(\"../../data/processed/MEME/three_prime_splice_sites_nfn_12s.fa\", 'r')\n",
    "Lines_in = nfn_3_prime_in.readlines()\n",
    "\n",
    "\n",
    "nfn_3_prime_out = open(\"../../data/processed/MEME/three_prime_splice_sites_nfn_12s_VALIDATED.fa\", 'w')\n",
    "\n",
    "## Create lists with read ids for split files and write lines to files\n",
    "for i in range(1, len(Lines_in), 2):\n",
    "\n",
    "    if (Lines_in[i][10:12] == \"AG\"):\n",
    "        nfn_3_prime_out.write(Lines_in[i-1])\n",
    "        nfn_3_prime_out.write(Lines_in[i])\n",
    "        \n",
    "nfn_3_prime_out.close()\n",
    "\n",
    "nfn_3_prime_out = open(\"../../data/processed/MEME/three_prime_splice_sites_nfn_12s_VALIDATED.fa\", 'r')\n",
    "Lines_out = nfn_3_prime_out.readlines()\n",
    "\n",
    "percent_3_nfn = round((len(Lines_out)/len(Lines_in)) * 100, 1)\n",
    "\n",
    "nfn_3_prime_out.close()"
   ]
  },
  {
   "cell_type": "code",
   "execution_count": 61,
   "id": "cd30ce2b",
   "metadata": {},
   "outputs": [
    {
     "name": "stdout",
     "output_type": "stream",
     "text": [
      "All 3' Splice Sites New for New 269.0\n",
      "Canonical 3' Splice Sites New for New 244.0\n"
     ]
    }
   ],
   "source": [
    "print(\"All 3' Splice Sites New for New\", (len(Lines_in)/2))\n",
    "print(\"Canonical 3' Splice Sites New for New\", (len(Lines_out)/2))"
   ]
  },
  {
   "cell_type": "code",
   "execution_count": 62,
   "id": "3ad8e961",
   "metadata": {},
   "outputs": [],
   "source": [
    "### 5 PRIME NFN ###\n",
    "\n",
    "nfn_5_prime_in = open(\"../../data/processed/MEME/five_prime_splice_sites_nfn_12s.fa\", 'r')\n",
    "Lines_in = nfn_5_prime_in.readlines()\n",
    "\n",
    "nfn_5_prime_out = open(\"../../data/processed/MEME/five_prime_splice_sites_nfn_12s_VALIDATED.fa\", 'w')\n",
    "\n",
    "## Create lists with read ids for split files and write lines to filesf\n",
    "for i in range(1, len(Lines_in), 2):\n",
    "\n",
    "    if (Lines_in[i][3:5] == \"GT\"):\n",
    "        nfn_5_prime_out.write(Lines_in[i-1])\n",
    "        nfn_5_prime_out.write(Lines_in[i])\n",
    "        \n",
    "nfn_5_prime_out.close()\n",
    "\n",
    "nfn_5_prime_out = open(\"../../data/processed/MEME/five_prime_splice_sites_nfn_12s_VALIDATED.fa\", 'r')\n",
    "Lines_out = nfn_5_prime_out.readlines()\n",
    "\n",
    "percent_5_nfn = round((len(Lines_out)/len(Lines_in)) * 100, 1)\n",
    "\n",
    "nfn_5_prime_out.close()"
   ]
  },
  {
   "cell_type": "code",
   "execution_count": 63,
   "id": "2178d4be",
   "metadata": {},
   "outputs": [
    {
     "name": "stdout",
     "output_type": "stream",
     "text": [
      "All 5' Splice Sites New for New 269.0\n",
      "Canonical 5' Splice Sites New for New 222.0\n"
     ]
    }
   ],
   "source": [
    "print(\"All 5' Splice Sites New for New\", (len(Lines_in)/2))\n",
    "print(\"Canonical 5' Splice Sites New for New\", (len(Lines_out)/2))"
   ]
  },
  {
   "cell_type": "code",
   "execution_count": 64,
   "id": "54a2fddc",
   "metadata": {},
   "outputs": [],
   "source": [
    "## Create percentages containing motiffs for MEME figures\n",
    "\n",
    "### 3 PRIME NFK ###\n",
    "\n",
    "nfk_3_prime_in = open(\"../../data/processed/MEME/three_prime_splice_sites_nfk_12s.fa\", 'r')\n",
    "Lines_in = nfk_3_prime_in.readlines()\n",
    "\n",
    "\n",
    "nfk_3_prime_out = open(\"../../data/processed/MEME/three_prime_splice_sites_nfk_12s_VALIDATED.fa\", 'w')\n",
    "\n",
    "## Create lists with read ids for split files and write lines to files\n",
    "for i in range(1, len(Lines_in), 2):\n",
    "\n",
    "    if (Lines_in[i][10:12] == \"AG\"):\n",
    "        nfk_3_prime_out.write(Lines_in[i-1])\n",
    "        nfk_3_prime_out.write(Lines_in[i])\n",
    "        \n",
    "nfk_3_prime_out.close()\n",
    "\n",
    "nfk_3_prime_out = open(\"../../data/processed/MEME/three_prime_splice_sites_nfk_12s_VALIDATED.fa\", 'r')\n",
    "Lines_out = nfk_3_prime_out.readlines()\n",
    "\n",
    "percent_3_nfk = round((len(Lines_out)/len(Lines_in)) * 100, 1)\n",
    "\n",
    "nfk_3_prime_out.close()"
   ]
  },
  {
   "cell_type": "code",
   "execution_count": 65,
   "id": "fe8e1ed3",
   "metadata": {},
   "outputs": [
    {
     "name": "stdout",
     "output_type": "stream",
     "text": [
      "All 3' Splice Sites New for Known 367.0\n",
      "Canonical 3' Splice Sites New for Known 367.0\n"
     ]
    }
   ],
   "source": [
    "print(\"All 3' Splice Sites New for Known\", (len(Lines_in)/2))\n",
    "print(\"Canonical 3' Splice Sites New for Known\", (len(Lines_out)/2))"
   ]
  },
  {
   "cell_type": "code",
   "execution_count": 66,
   "id": "a591d37f",
   "metadata": {},
   "outputs": [],
   "source": [
    "### 5 PRIME NFK ###\n",
    "\n",
    "nfk_5_prime_in = open(\"../../data/processed/MEME/five_prime_splice_sites_nfk_12s.fa\", 'r')\n",
    "Lines_in = nfk_5_prime_in.readlines()\n",
    "\n",
    "nfk_5_prime_out = open(\"../../data/processed/MEME/five_prime_splice_sites_nfk_12s_VALIDATED.fa\", 'w')\n",
    "\n",
    "## Create lists with read ids for split files and write lines to files\n",
    "for i in range(1, len(Lines_in), 2):\n",
    "\n",
    "    if (Lines_in[i][3:5] == \"GT\"):\n",
    "        nfk_5_prime_out.write(Lines_in[i-1])\n",
    "        nfk_5_prime_out.write(Lines_in[i])\n",
    "        \n",
    "nfk_5_prime_out.close()\n",
    "\n",
    "nfk_5_prime_out = open(\"../../data/processed/MEME/five_prime_splice_sites_nfk_12s_VALIDATED.fa\", 'r')\n",
    "Lines_out = nfk_5_prime_out.readlines()\n",
    "\n",
    "percent_5_nfk = round((len(Lines_out)/len(Lines_in)) * 100, 1)\n",
    "\n",
    "nfk_5_prime_out.close()"
   ]
  },
  {
   "cell_type": "code",
   "execution_count": 67,
   "id": "61df9bde",
   "metadata": {},
   "outputs": [
    {
     "name": "stdout",
     "output_type": "stream",
     "text": [
      "All 5' Splice Sites New for Known 375.0\n",
      "Canonical 5' Splice Sites New for Known 356.0\n"
     ]
    }
   ],
   "source": [
    "print(\"All 5' Splice Sites New for Known\", (len(Lines_in)/2))\n",
    "print(\"Canonical 5' Splice Sites New for Known\", (len(Lines_out)/2))"
   ]
  },
  {
   "cell_type": "code",
   "execution_count": 68,
   "id": "7a49c130",
   "metadata": {},
   "outputs": [],
   "source": [
    "## Create percentages containing motiffs for MEME figures\n",
    "\n",
    "### 3 PRIME kfk ###\n",
    "\n",
    "kfk_3_prime_in = open(\"../../data/processed/MEME/three_prime_splice_sites_kfk_12s.fa\", 'r')\n",
    "Lines_in = kfk_3_prime_in.readlines()\n",
    "\n",
    "\n",
    "kfk_3_prime_out = open(\"../../data/processed/MEME/three_prime_splice_sites_kfk_12s_VALIDATED.fa\", 'w')\n",
    "\n",
    "## Create lists with read ids for split files and write lines to files\n",
    "for i in range(1, len(Lines_in), 2):\n",
    "\n",
    "    if (Lines_in[i][10:12] == \"AG\"):\n",
    "        kfk_3_prime_out.write(Lines_in[i-1])\n",
    "        kfk_3_prime_out.write(Lines_in[i])\n",
    "        \n",
    "kfk_3_prime_out.close()\n",
    "\n",
    "kfk_3_prime_out = open(\"../../data/processed/MEME/three_prime_splice_sites_kfk_12s_VALIDATED.fa\", 'r')\n",
    "Lines_out = kfk_3_prime_out.readlines()\n",
    "\n",
    "percent_3_kfk = round((len(Lines_out)/len(Lines_in)) * 100, 1)\n",
    "\n",
    "kfk_3_prime_out.close()"
   ]
  },
  {
   "cell_type": "code",
   "execution_count": 69,
   "id": "6b45d1cc",
   "metadata": {},
   "outputs": [
    {
     "name": "stdout",
     "output_type": "stream",
     "text": [
      "All 3' Splice Sites Known for Known 151940.0\n",
      "Canonical 3' Splice Sites Known for Known 151659.0\n"
     ]
    }
   ],
   "source": [
    "print(\"All 3' Splice Sites Known for Known\", (len(Lines_in)/2))\n",
    "print(\"Canonical 3' Splice Sites Known for Known\", (len(Lines_out)/2))"
   ]
  },
  {
   "cell_type": "code",
   "execution_count": 70,
   "id": "b126ea31",
   "metadata": {},
   "outputs": [],
   "source": [
    "### 5 PRIME KFK ###\n",
    "\n",
    "kfk_5_prime_in = open(\"../../data/processed/MEME/five_prime_splice_sites_kfk_12s.fa\", 'r')\n",
    "Lines_in = kfk_5_prime_in.readlines()\n",
    "\n",
    "kfk_5_prime_out = open(\"../../data/processed/MEME/five_prime_splice_sites_kfk_12s_VALIDATED.fa\", 'w')\n",
    "\n",
    "## Create lists with read ids for split files and write lines to files\n",
    "for i in range(1, len(Lines_in), 2):\n",
    "\n",
    "    if (Lines_in[i][3:5] == \"GT\"):\n",
    "        kfk_5_prime_out.write(Lines_in[i-1])\n",
    "        kfk_5_prime_out.write(Lines_in[i])\n",
    "        \n",
    "kfk_5_prime_out.close()\n",
    "\n",
    "kfk_5_prime_out = open(\"../../data/processed/MEME/five_prime_splice_sites_kfk_12s_VALIDATED.fa\", 'r')\n",
    "Lines_out = kfk_5_prime_out.readlines()\n",
    "\n",
    "percent_5_kfk = round((len(Lines_out)/len(Lines_in)) * 100, 1)\n",
    "\n",
    "kfk_5_prime_out.close()"
   ]
  },
  {
   "cell_type": "code",
   "execution_count": 71,
   "id": "b8e7bd31",
   "metadata": {},
   "outputs": [
    {
     "name": "stdout",
     "output_type": "stream",
     "text": [
      "All 5' Splice Sites Known for Known 152889.0\n",
      "Canonical 5' Splice Sites Known for Known 151238.0\n"
     ]
    }
   ],
   "source": [
    "print(\"All 5' Splice Sites Known for Known\", (len(Lines_in)/2))\n",
    "print(\"Canonical 5' Splice Sites Known for Known\", (len(Lines_out)/2))"
   ]
  },
  {
   "cell_type": "code",
   "execution_count": 72,
   "id": "f5390e10",
   "metadata": {},
   "outputs": [],
   "source": [
    "### 3 PRIME NFM ###\n",
    "\n",
    "nfm_3_prime_in = open(\"../../data/processed/MEME/three_prime_splice_sites_nfm_12s.fa\", 'r')\n",
    "Lines_in = nfm_3_prime_in.readlines()\n",
    "\n",
    "\n",
    "nfm_3_prime_out = open(\"../../data/processed/MEME/three_prime_splice_sites_nfm_12s_VALIDATED.fa\", 'w')\n",
    "\n",
    "## Create lists with read ids for split files and write lines to files\n",
    "for i in range(1, len(Lines_in), 2):\n",
    "\n",
    "    if (Lines_in[i][10:12] == \"AG\"):\n",
    "        nfm_3_prime_out.write(Lines_in[i-1])\n",
    "        nfm_3_prime_out.write(Lines_in[i])\n",
    "        \n",
    "nfm_3_prime_out.close()\n",
    "\n",
    "nfm_3_prime_out = open(\"../../data/processed/MEME/three_prime_splice_sites_nfm_12s_VALIDATED.fa\", 'r')\n",
    "Lines_out = nfm_3_prime_out.readlines()\n",
    "\n",
    "percent_3_nfm = round((len(Lines_out)/len(Lines_in)) * 100, 1)\n",
    "\n",
    "nfm_3_prime_out.close()"
   ]
  },
  {
   "cell_type": "code",
   "execution_count": 73,
   "id": "16c57c44",
   "metadata": {},
   "outputs": [
    {
     "name": "stdout",
     "output_type": "stream",
     "text": [
      "All 3' Splice Sites New for Mito 5.0\n",
      "Canonical 3' Splice Sites New for Mito 5.0\n"
     ]
    }
   ],
   "source": [
    "print(\"All 3' Splice Sites New for Mito\", (len(Lines_in)/2))\n",
    "print(\"Canonical 3' Splice Sites New for Mito\", (len(Lines_out)/2))"
   ]
  },
  {
   "cell_type": "code",
   "execution_count": 74,
   "id": "37a58189",
   "metadata": {},
   "outputs": [],
   "source": [
    "### 5 PRIME NFM ###\n",
    "\n",
    "nfm_5_prime_in = open(\"../../data/processed/MEME/five_prime_splice_sites_nfm_12s.fa\", 'r')\n",
    "Lines_in = nfm_5_prime_in.readlines()\n",
    "\n",
    "nfm_5_prime_out = open(\"../../data/processed/MEME/five_prime_splice_site_nfm_12s_VALIDATED.fa\", 'w')\n",
    "\n",
    "## Create lists with read ids for split files and write lines to files\n",
    "for i in range(1, len(Lines_in), 2):\n",
    "    \n",
    "    if (Lines_in[i][3:5] == \"GT\"):\n",
    "        nfm_5_prime_out.write(Lines_in[i-1])\n",
    "        nfm_5_prime_out.write(Lines_in[i])\n",
    "        \n",
    "nfm_5_prime_out.close()\n",
    "\n",
    "nfm_5_prime_out = open(\"../../data/processed/MEME/five_prime_splice_site_nfm_12s_VALIDATED.fa\", 'r')\n",
    "Lines_out = nfm_5_prime_out.readlines()\n",
    "\n",
    "percent_5_nfm = round((len(Lines_out)/len(Lines_in)) * 100, 1)\n",
    "\n",
    "nfm_5_prime_out.close()"
   ]
  },
  {
   "cell_type": "code",
   "execution_count": 75,
   "id": "a4a2eb13",
   "metadata": {},
   "outputs": [
    {
     "name": "stdout",
     "output_type": "stream",
     "text": [
      "All 5' Splice Sites New for Mito 5.0\n",
      "Canonical 5' Splice Sites New for Mito 3.0\n"
     ]
    }
   ],
   "source": [
    "print(\"All 5' Splice Sites New for Mito\", (len(Lines_in)/2))\n",
    "print(\"Canonical 5' Splice Sites New for Mito\", (len(Lines_out)/2))"
   ]
  },
  {
   "cell_type": "code",
   "execution_count": 76,
   "id": "5d2bf639",
   "metadata": {},
   "outputs": [],
   "source": [
    "five_prime_kfk = percent_5_kfk\n",
    "three_prime_kfk = percent_3_kfk\n",
    "\n",
    "five_prime_nfk = percent_5_nfk\n",
    "three_prime_nfk = percent_3_nfk\n",
    "\n",
    "five_prime_nfn = percent_5_nfn\n",
    "three_prime_nfn = percent_3_nfn\n",
    "\n",
    "five_prime_nfm = percent_5_nfm\n",
    "three_prime_nfm = percent_3_nfm"
   ]
  },
  {
   "cell_type": "code",
   "execution_count": 77,
   "id": "1122b9a2",
   "metadata": {},
   "outputs": [
    {
     "name": "stdout",
     "output_type": "stream",
     "text": [
      "98.9\n",
      "99.8\n",
      "94.9\n",
      "100.0\n",
      "82.5\n",
      "90.7\n",
      "60.0\n",
      "100.0\n"
     ]
    }
   ],
   "source": [
    "print(five_prime_kfk)\n",
    "print(three_prime_kfk)\n",
    "print(five_prime_nfk)\n",
    "print(three_prime_nfk)\n",
    "print(five_prime_nfn)\n",
    "print(three_prime_nfn)\n",
    "print(five_prime_nfm)\n",
    "print(three_prime_nfm)"
   ]
  },
  {
   "cell_type": "code",
   "execution_count": 78,
   "id": "564eefd8",
   "metadata": {},
   "outputs": [],
   "source": [
    "dict_nfk = {\"Percent exons containing motiff\": [five_prime_nfk, five_prime_kfk, three_prime_nfk, three_prime_kfk], \n",
    "            \"Splice site motiff\": [\"Five prime splice site motiff\", \"Five prime splice site motiff\", \"Three prime splice site motiff\", \"Three prime splice site motiff\"],\n",
    "           \"Category\": [\"New transcripts for\\nknown gene body\", \"Annotated transcripts\", \"New transcripts for\\nknown gene body\", \"Annotated transcripts\"]}\n",
    "\n",
    "df_nfk = pd.DataFrame(dict_nfk)\n",
    "\n",
    "\n",
    "\n",
    "dict_nfn = {\"Percent exons containing motiff\": [five_prime_nfn, five_prime_kfk, three_prime_nfn, three_prime_kfk], \n",
    "            \"Splice site motiff\": [\"Five prime splice site motiff\", \"Five prime splice site motiff\", \"Three prime splice site motiff\", \"Three prime splice site motiff\"],\n",
    "           \"Category\": [\"New transcripts for\\nnew gene body\", \"Annotated transcripts\", \"New transcripts for\\nnew gene body\", \"Annotated transcripts\"]}\n",
    "\n",
    "df_nfn = pd.DataFrame(dict_nfn)\n",
    "\n",
    "\n",
    "\n",
    "dict_nfm = {\"Percent exons containing motiff\": [five_prime_nfm, five_prime_kfk, three_prime_nfm, three_prime_kfk], \n",
    "            \"Splice site motiff\": [\"Five prime splice site motiff\", \"Five prime splice site motiff\", \"Three prime splice site motiff\", \"Three prime splice site motiff\"],\n",
    "           \"Category\": [\"New mitochondrial transcript\", \"Annotated transcripts\", \"New mitochondrial transcript\", \"Annotated transcripts\"]}\n",
    "\n",
    "df_nfm = pd.DataFrame(dict_nfm)"
   ]
  },
  {
   "cell_type": "code",
   "execution_count": 79,
   "id": "afba75cd",
   "metadata": {},
   "outputs": [
    {
     "name": "stderr",
     "output_type": "stream",
     "text": [
      "/tmp/ipykernel_50909/1631632134.py:16: UserWarning: FixedFormatter should only be used together with FixedLocator\n",
      "  ax.set(xticklabels=[0, 50, 100], ylabel=\"\")\n"
     ]
    },
    {
     "data": {
      "image/png": "[encoded data removed]",
      "text/plain": [
       "<Figure size 216.535x236.22 with 1 Axes>"
      ]
     },
     "metadata": {},
     "output_type": "display_data"
    }
   ],
   "source": [
    "## Create and save graph showing number of genes with multiple protein coding isoforms (AVG CPM > 1)\n",
    "\n",
    "df_nfm.sort_values(by=\"Splice site motiff\", ascending=False, inplace=True)\n",
    "\n",
    "ax = sns.barplot(data=df_nfm, x=\"Percent exons containing motiff\", y=\"Splice site motiff\", hue=\"Category\",\n",
    "                 palette=[ggplot2_colors[7], ggplot2_colors[5]], errorbar=None, saturation=1)\n",
    "\n",
    "for container in ax.containers:\n",
    "    ax.bar_label(container, label_type=\"center\")\n",
    "    \n",
    "    \n",
    "ax.set(xlim=(0, 170), ylim=(-0.5, 2))\n",
    "plt.xlabel('Exons containing motiff (%)')\n",
    "ax.xaxis.set_label_coords(0.4, -0.12)\n",
    "\n",
    "ax.set(xticklabels=[0, 50, 100], ylabel=\"\")\n",
    "ax.set_yticklabels(labels=[\"3' splice site\\n\", \"5' splice site\\n\"], rotation=90, ha=\"center\", rotation_mode=\"anchor\")\n",
    "\n",
    "# reordering the labels\n",
    "handles, labels = plt.gca().get_legend_handles_labels()\n",
    "  \n",
    "# specify order\n",
    "order = [1, 0]\n",
    "  \n",
    "# pass handle & labels lists along with order as below\n",
    "plt.legend([handles[i] for i in order], [labels[i] for i in order], loc='upper left')\n",
    "plt.savefig('../../figures/paper_figures/figure_2/mito_MEME.pdf', \n",
    "            dpi=600, transparent=True, bbox_inches=\"tight\")\n",
    "\n",
    "plt.show()"
   ]
  },
  {
   "cell_type": "code",
   "execution_count": 80,
   "id": "eb4d541b",
   "metadata": {},
   "outputs": [
    {
     "name": "stderr",
     "output_type": "stream",
     "text": [
      "/tmp/ipykernel_50909/1240394526.py:17: UserWarning: FixedFormatter should only be used together with FixedLocator\n",
      "  ax.set(xticklabels=[0, 50, 100], ylabel=\"\")\n"
     ]
    },
    {
     "data": {
      "image/png": "[encoded data removed]",
      "text/plain": [
       "<Figure size 216.535x236.22 with 1 Axes>"
      ]
     },
     "metadata": {},
     "output_type": "display_data"
    }
   ],
   "source": [
    "## Create and save graph showing number of genes with multiple protein coding isoforms (AVG CPM > 1)\n",
    "\n",
    "df_nfk.sort_values(by=\"Splice site motiff\", ascending=False, inplace=True)\n",
    "\n",
    "\n",
    "ax = sns.barplot(data=df_nfk, x=\"Percent exons containing motiff\", y=\"Splice site motiff\", hue=\"Category\",\n",
    "                 palette=[ggplot2_colors[0], ggplot2_colors[5]], errorbar=None, saturation=1)\n",
    "\n",
    "for container in ax.containers:\n",
    "    ax.bar_label(container, label_type=\"center\")\n",
    "    \n",
    "    \n",
    "ax.set(xlim=(0, 170), ylim=(-0.5, 2.2))\n",
    "plt.xlabel('Exons containing motiff (%)')\n",
    "ax.xaxis.set_label_coords(0.27, -0.12)\n",
    "\n",
    "ax.set(xticklabels=[0, 50, 100], ylabel=\"\")\n",
    "ax.set_yticklabels(labels=[\"3' splice site\\n\", \"5' splice site\\n\"], rotation=90, ha=\"center\", rotation_mode=\"anchor\")\n",
    "\n",
    "# reordering the labels\n",
    "handles, labels = plt.gca().get_legend_handles_labels()\n",
    "  \n",
    "# specify order\n",
    "order = [1, 0]\n",
    "  \n",
    "# pass handle & labels lists along with order as below\n",
    "plt.legend([handles[i] for i in order], [labels[i] for i in order], loc='upper left')\n",
    "\n",
    "\n",
    "plt.savefig('../../figures/paper_figures/figure_2/new_from_known_MEME.pdf',\n",
    "            dpi=600, transparent=True, bbox_inches=\"tight\")\n",
    "\n",
    "plt.show()"
   ]
  },
  {
   "cell_type": "markdown",
   "id": "dbcf6615",
   "metadata": {},
   "source": [
    "# Figure 3"
   ]
  },
  {
   "cell_type": "code",
   "execution_count": 81,
   "id": "3181ea00",
   "metadata": {},
   "outputs": [],
   "source": [
    "## Create list o disease relevant novel transcripts with median  CPM > 1\n",
    "novel_relevant_median = df_novel_transcripts_median.merge(disease_relevant_genes_annotated[[\"gene_id\", \"gene_name\", \"chr\"]], \n",
    "                                                                             on=[\"gene_id\"], how=\"inner\")"
   ]
  },
  {
   "cell_type": "code",
   "execution_count": 82,
   "id": "001109a9",
   "metadata": {},
   "outputs": [],
   "source": [
    "## Drop any duplicates\n",
    "novel_relevant_median.drop_duplicates(inplace=True)"
   ]
  },
  {
   "cell_type": "code",
   "execution_count": 83,
   "id": "32a0846b",
   "metadata": {},
   "outputs": [],
   "source": [
    "## Get all transcript from the same gene as the new transcripts so we can calculate relative abundance of \n",
    "## New transcripts in each gene\n",
    "novel_relevant_median_counts = pd.merge(df, novel_relevant_median[[\"gene_id\", \"gene_name\"]], on=[\"gene_id\"], how=\"inner\")"
   ]
  },
  {
   "cell_type": "code",
   "execution_count": 84,
   "id": "fb973721",
   "metadata": {},
   "outputs": [],
   "source": [
    "novel_relevant_median_counts.drop_duplicates(inplace=True)"
   ]
  },
  {
   "cell_type": "code",
   "execution_count": 85,
   "id": "4521d3a5",
   "metadata": {},
   "outputs": [],
   "source": [
    "## Calculate relative transcript abundance\n",
    "novel_relevant_median_relative_abundance = relative_transcript_abundance(novel_relevant_median_counts)"
   ]
  },
  {
   "cell_type": "code",
   "execution_count": 86,
   "id": "439a32da",
   "metadata": {},
   "outputs": [],
   "source": [
    "## Annotate novel transcripts on relative abundance table\n",
    "novel_relevant_median_relative_abundance.loc[novel_relevant_median_relative_abundance[\"transcript_id\"].str.startswith(\"BambuTx\"), \"is_novel_transcript\"] = True\n",
    "novel_relevant_median_relative_abundance.loc[~novel_relevant_median_relative_abundance[\"transcript_id\"].str.startswith(\"BambuTx\"), \"is_novel_transcript\"] = False"
   ]
  },
  {
   "cell_type": "code",
   "execution_count": 87,
   "id": "9d6e764a",
   "metadata": {},
   "outputs": [],
   "source": [
    "## Create list with med relevant genes with novel isoforms and their relative frequency\n",
    "novel_relevant_median_words = novel_relevant_median_relative_abundance.loc[novel_relevant_median_relative_abundance[\"is_novel_transcript\"]\n",
    "                                                             == True][[\"gene_name\", \"relative_abundance_percent\"]].copy()"
   ]
  },
  {
   "cell_type": "code",
   "execution_count": 88,
   "id": "e67d2806",
   "metadata": {},
   "outputs": [],
   "source": [
    "## Drop duplicates\n",
    "novel_relevant_median_words = novel_relevant_median_words.drop_duplicates()"
   ]
  },
  {
   "cell_type": "code",
   "execution_count": 89,
   "id": "033cc594",
   "metadata": {},
   "outputs": [],
   "source": [
    "## Sum relative abundance of all novel isoforms by gene name and round to nearest integer\n",
    "novel_relevant_median_words = round(novel_relevant_median_words.groupby(\"gene_name\")[\"relative_abundance_percent\"].sum(), 0)"
   ]
  },
  {
   "cell_type": "code",
   "execution_count": 90,
   "id": "f778d464",
   "metadata": {},
   "outputs": [],
   "source": [
    "## Create output dataframe\n",
    "novel_relevant_median_words_output = novel_relevant_median_words.reset_index().copy()\n",
    "\n",
    "## Change column names\n",
    "novel_relevant_median_words_output.columns = [\"Gene name for medically relevant gene\", \"Relative abundance (%) of new high-confidence RNA isoform(s)\"]\n",
    "\n",
    "\n",
    "## Write output\n",
    "novel_relevant_median_words_output.to_csv(\"../../data/processed/1st_rebuttal/paper_figures/relative_abundance_new_isoforms_med_relevant.tsv\",\n",
    "                                          sep=\"\\t\", index=False)"
   ]
  },
  {
   "cell_type": "code",
   "execution_count": 91,
   "id": "17635eff",
   "metadata": {},
   "outputs": [],
   "source": [
    "## Create a dataframe to properly store the data\n",
    "novel_relevant_median_words_df = pd.DataFrame()\n",
    "novel_relevant_median_words_df['word_count'] = novel_relevant_median_words\n",
    "novel_relevant_median_words_df[\"gene_name\"] = novel_relevant_median_words.index"
   ]
  },
  {
   "cell_type": "code",
   "execution_count": 92,
   "id": "a8244eb9",
   "metadata": {},
   "outputs": [],
   "source": [
    "## Drop index\n",
    "novel_relevant_median_words_df.reset_index(inplace=True, drop=True)"
   ]
  },
  {
   "cell_type": "code",
   "execution_count": 93,
   "id": "5d5f57b6",
   "metadata": {},
   "outputs": [
    {
     "name": "stdout",
     "output_type": "stream",
     "text": [
      "Number of medically relevant genes with novel transcripts (median CPM > 1): 49\n"
     ]
    }
   ],
   "source": [
    "## Print number of disease relevant genes with high-confidence novel isoforms\n",
    "print(\"Number of medically relevant genes with novel transcripts (median CPM > 1):\", novel_relevant_median_words_df[\"gene_name\"].nunique())"
   ]
  },
  {
   "cell_type": "code",
   "execution_count": 94,
   "id": "a44c0eed",
   "metadata": {},
   "outputs": [],
   "source": [
    "## Generate word list with frequency of word being proportional to novel isoform relative abundance\n",
    "## Novel relevant median CPM > 1\n",
    "\n",
    "word_list_disease_median = \"\"\n",
    "\n",
    "for i in range(len(novel_relevant_median_words_df)):\n",
    "        \n",
    "    for j in range(int(novel_relevant_median_words_df.iloc[i][0])):\n",
    "        word_list_disease_median = word_list_disease_median + novel_relevant_median_words_df.iloc[i][1] + \" \""
   ]
  },
  {
   "cell_type": "code",
   "execution_count": 95,
   "id": "0a5938e2",
   "metadata": {},
   "outputs": [],
   "source": [
    "## Create GGPLOT2 colormap for the wordcloud (THANKS MARK!)\n",
    "\n",
    "from matplotlib.colors import LinearSegmentedColormap\n",
    "\n",
    "ggplot2_colormap = LinearSegmentedColormap.from_list(\n",
    "        \"ggplot_2\", ggplot2_colors, N=8)"
   ]
  },
  {
   "cell_type": "code",
   "execution_count": 96,
   "id": "c09b9f56",
   "metadata": {},
   "outputs": [],
   "source": [
    "## Set parameters for figures\n",
    "from matplotlib import rcParams\n",
    "mm = (1/25.4)\n",
    "\n",
    "# figure size in inches\n",
    "rcParams['figure.figsize'] = (225*mm, 225*mm)\n",
    "rcParams.update({'font.size': 6})\n",
    "rcParams['axes.linewidth'] = 1"
   ]
  },
  {
   "cell_type": "code",
   "execution_count": 97,
   "id": "9ec416fc",
   "metadata": {},
   "outputs": [],
   "source": [
    "## Generate wordclouds\n",
    "word_cloud_disease_median = WordCloud(collocations=False, font_step=1, background_color='white', regexp=r\"\\w[\\w\\-]+\", normalize_plurals=False,\n",
    "            colormap=ggplot2_colormap, prefer_horizontal=1, include_numbers=True, stopwords=None, random_state=112,\n",
    "                      width=6400, height=1800).generate(word_list_disease_median)"
   ]
  },
  {
   "cell_type": "code",
   "execution_count": 98,
   "id": "bc6e390c",
   "metadata": {
    "scrolled": false
   },
   "outputs": [
    {
     "data": {
      "image/png": "[encoded data removed]",
      "text/plain": [
       "<Figure size 885.827x885.827 with 1 Axes>"
      ]
     },
     "metadata": {},
     "output_type": "display_data"
    }
   ],
   "source": [
    "## Save disease relevant genes plot median CPM > 1\n",
    "plt.imshow(word_cloud_disease_median, interpolation='bilinear', alpha=1)\n",
    "plt.axis(\"off\")\n",
    "\n",
    "plt.savefig('../../figures/1st_rebuttal_figures/paper_figures/word_cloud_disease_median.pdf',\n",
    "            dpi=600, transparent=True, bbox_inches=\"tight\")\n",
    "\n",
    "plt.show()"
   ]
  },
  {
   "cell_type": "code",
   "execution_count": 99,
   "id": "79d15fc2",
   "metadata": {},
   "outputs": [],
   "source": [
    "## Set parameters for figures\n",
    "from matplotlib import rcParams\n",
    "mm = (1/25.4)\n",
    "\n",
    "# figure size in inches\n",
    "rcParams['figure.figsize'] = (160*mm, 160*mm)\n",
    "rcParams.update({'font.size': 6})\n",
    "rcParams['axes.linewidth'] = 1"
   ]
  },
  {
   "cell_type": "code",
   "execution_count": 100,
   "id": "cea5e033",
   "metadata": {},
   "outputs": [
    {
     "data": {
      "image/png": "[encoded data removed]",
      "text/plain": [
       "<Figure size 629.921x629.921 with 1 Axes>"
      ]
     },
     "metadata": {},
     "output_type": "display_data"
    }
   ],
   "source": [
    "ax = sns.barplot(data=novel_relevant_median_words_df, x=\"word_count\", y=\"gene_name\", orient=\"h\", \n",
    "           order=novel_relevant_median_words_df.sort_values(\"word_count\")[\"gene_name\"],\n",
    "           color=ggplot2_colors[0])\n",
    "\n",
    "\n",
    "for p in ax.patches:\n",
    "    ax.annotate(str(f'{int(p.get_width())}' + \"%\"), \n",
    "                (p.get_width(), p.get_y() + p.get_height() / 2.),\n",
    "                ha='center', va='center', \n",
    "                xytext=(7, 0), \n",
    "                textcoords='offset points')\n",
    "\n",
    "plt.ylim(-0.8, 48.8)\n",
    "plt.xlabel(\"Percent relative abundance of new RNA isoform(s)\")\n",
    "plt.ylabel(\"Gene name\")\n",
    "\n",
    "plt.savefig('../../figures/1st_rebuttal_figures/paper_figures/barplot_relative_abundance.pdf',\n",
    "            dpi=600, transparent=True, bbox_inches=\"tight\")\n",
    "\n",
    "plt.show()"
   ]
  },
  {
   "cell_type": "markdown",
   "id": "1a61f0c0",
   "metadata": {},
   "source": [
    "# Figure 4"
   ]
  },
  {
   "cell_type": "code",
   "execution_count": 101,
   "id": "89d09d2a",
   "metadata": {},
   "outputs": [],
   "source": [
    "## Set parameters for figures\n",
    "from matplotlib import rcParams\n",
    "mm = (1/25.4)\n",
    "\n",
    "# figure size in inches\n",
    "rcParams['figure.figsize'] = (55*mm, 60*mm)\n",
    "rcParams.update({'font.size': 6})\n",
    "rcParams['axes.linewidth'] = 1"
   ]
  },
  {
   "cell_type": "code",
   "execution_count": 102,
   "id": "ba8eb991",
   "metadata": {
    "scrolled": true
   },
   "outputs": [
    {
     "name": "stdout",
     "output_type": "stream",
     "text": [
      "Number of transcripts mapping to new gene bodies (median CPM > 1): 267\n",
      "Number of new transcripts mapping to annotated genes (median CPM > 1): 428\n"
     ]
    }
   ],
   "source": [
    "## Get number of transcripts from each filter from each filter\n",
    "print(\"Number of transcripts mapping to new gene bodies (median CPM > 1):\", df_novel_genes_median.shape[0])\n",
    "print(\"Number of new transcripts mapping to annotated genes (median CPM > 1):\", df_novel_transcripts_median.shape[0])"
   ]
  },
  {
   "cell_type": "code",
   "execution_count": 103,
   "id": "dac78b93",
   "metadata": {
    "scrolled": true
   },
   "outputs": [
    {
     "name": "stdout",
     "output_type": "stream",
     "text": [
      "Number of new genes represented (median CPM > 1): 245\n",
      "Number of represented annotated genes with new transcripts (median CPM > 1): 383\n"
     ]
    }
   ],
   "source": [
    "## Get number of genes represented for each filter\n",
    "\n",
    "print(\"Number of new genes represented (median CPM > 1):\", df_novel_genes_median[\"gene_id\"].nunique())\n",
    "\n",
    "print(\"Number of represented annotated genes with new transcripts (median CPM > 1):\", df_novel_transcripts_median[\"gene_id\"].nunique())"
   ]
  },
  {
   "cell_type": "code",
   "execution_count": 104,
   "id": "1bafd358",
   "metadata": {},
   "outputs": [
    {
     "data": {
      "text/plain": [
       "1676"
      ]
     },
     "execution_count": 104,
     "metadata": {},
     "output_type": "execute_result"
    }
   ],
   "source": [
    "df_novel_genes[\"gene_id\"].nunique()"
   ]
  },
  {
   "cell_type": "code",
   "execution_count": 105,
   "id": "f9d5b84e",
   "metadata": {},
   "outputs": [],
   "source": [
    "## Create lists with number of genes across CPM thresholds\n",
    "list_cpm_thresh = []\n",
    "\n",
    "list_ntng_median = []\n",
    "\n",
    "for i in range(0, 1000):\n",
    "    \n",
    "    cpm_thresh = i/100\n",
    "    \n",
    "    ntng_median_cpm = df_novel_genes.loc[df_novel_genes[\"median_CPM\"] >= cpm_thresh].copy()\n",
    "    ntng_median_cpm_num = ntng_median_cpm.shape[0]\n",
    "    \n",
    "    list_cpm_thresh.append(cpm_thresh)\n",
    "        \n",
    "    list_ntng_median.append(ntng_median_cpm_num)"
   ]
  },
  {
   "cell_type": "code",
   "execution_count": 106,
   "id": "9d015d81",
   "metadata": {
    "scrolled": false
   },
   "outputs": [
    {
     "data": {
      "image/png": "[encoded data removed]",
      "text/plain": [
       "<Figure size 216.535x236.22 with 1 Axes>"
      ]
     },
     "metadata": {},
     "output_type": "display_data"
    }
   ],
   "source": [
    "## Make plot showing number of transcripts across CPM thresholds\n",
    "\n",
    "plt.plot(list_cpm_thresh, list_ntng_median, color=ggplot2_colors[0], label=\"Transcripts from new gene bodies\", linewidth=1.5, alpha=1)\n",
    "plt.plot([1, 1], [-100, 1850], color=\"#4d4d4d\", label=\"Median CPM = 1\", linewidth=1.5, alpha=0.7, linestyle='dashed')\n",
    "\n",
    "plt.xticks(np.arange(0, 11, 1))\n",
    "plt.xlabel('Median CPM Threshold')\n",
    "plt.ylabel('Number of Transcripts')\n",
    "plt.legend(loc=\"upper right\",labels=[\"\\nTranscripts from new\\ngene bodies\\n\", \"Median CPM = 1\"])\n",
    "\n",
    "plt.savefig('../../figures/paper_figures/figure_4/new_gene_bodies_across_CPM_threshold.pdf', dpi=600, transparent=True, bbox_inches=\"tight\")\n",
    "\n",
    "plt.show()"
   ]
  },
  {
   "cell_type": "code",
   "execution_count": 107,
   "id": "dd3738e0",
   "metadata": {},
   "outputs": [],
   "source": [
    "## Cleanup annotations\n",
    "novel_genes_ref = ref.loc[ref[\"gene_id\"].str.startswith(\"BambuGene\")].copy()\n",
    "novel_genes_ref = novel_genes_ref.loc[novel_genes_ref[\"type\"] == \"transcript\"].copy()\n",
    "novel_genes_ref[\"gene_name\"] = np.nan\n",
    "\n",
    "novel_genes_ref.drop(columns=\"exon_number\", inplace=True)"
   ]
  },
  {
   "cell_type": "code",
   "execution_count": 108,
   "id": "f99d0f1a",
   "metadata": {},
   "outputs": [],
   "source": [
    "## Find events for new genes (overlapping without exon overlap in same strand, opposite strand overlap, no overlap)\n",
    "\n",
    "df_overlapping_novel_genes_same = pd.DataFrame(columns=['gene_id', 'gene_name', 'chr', 'source', 'type', 'start', \n",
    "                                               'end', 'strand', \"overlapping\", \"category\"])\n",
    "\n",
    "df_overlapping_novel_genes_opp = pd.DataFrame(columns=['gene_id', 'gene_name', 'chr', 'source', 'type', 'start', \n",
    "                                               'end', 'strand', \"overlapping\", \"category\"])\n",
    "\n",
    "for index in novel_genes_ref.index:\n",
    "    \n",
    "    df_transcript = novel_genes_ref.loc[novel_genes_ref.index == index].copy()\n",
    "    \n",
    "    transcript_id = df_transcript[\"transcript_id\"].iloc[0]\n",
    "    \n",
    "    df_transcript = df_transcript[['gene_id', 'gene_name', 'chr', 'source', 'type', 'start', 'end', 'strand']].copy()\n",
    "    \n",
    "    start = df_transcript[\"start\"].iloc[0]\n",
    "    end = df_transcript[\"end\"].iloc[0]\n",
    "    chrom = df_transcript[\"chr\"].iloc[0]\n",
    "    strand = df_transcript[\"strand\"].iloc[0]\n",
    "    \n",
    "    df_overlapping_genes_opp = orig_ref.loc[((orig_ref[\"chr\"] == chrom) & ((start < orig_ref[\"end\"]) &  (end > orig_ref[\"start\"])) & (strand != orig_ref[\"strand\"]))]\n",
    "    df_overlapping_genes_same = orig_ref.loc[((orig_ref[\"chr\"] == chrom) & ((start < orig_ref[\"end\"]) &  (end > orig_ref[\"start\"])) & (strand == orig_ref[\"strand\"]))]\n",
    "    \n",
    "    if df_overlapping_genes_opp.shape[0] > 0:\n",
    "    \n",
    "        df_overlapping_genes_opp = df_overlapping_genes_opp[['gene_id', 'gene_name', 'chr', 'source', 'type', 'start', \n",
    "                                                   'end', 'strand']].copy()\n",
    "\n",
    "        df_overlapping_genes_opp[\"overlapping\"] = transcript_id\n",
    "        df_transcript[\"overlapping\"] = transcript_id\n",
    "        df_overlapping_genes_opp[\"category\"] = \"overlapping_gene\"\n",
    "        df_transcript[\"category\"] = \"new_gene_body\"\n",
    "\n",
    "        df_overlapping_novel_genes_opp = pd.concat([df_overlapping_novel_genes_opp, df_overlapping_genes_opp])\n",
    "        \n",
    "    elif df_overlapping_genes_same.shape[0] > 0:\n",
    "        \n",
    "        df_overlapping_genes_same = df_overlapping_genes_same[['gene_id', 'gene_name', 'chr', 'source', 'type', 'start', \n",
    "                                           'end', 'strand']].copy()\n",
    "\n",
    "        df_overlapping_genes_same[\"overlapping\"] = transcript_id\n",
    "        df_transcript[\"overlapping\"] = transcript_id\n",
    "        df_overlapping_genes_same[\"category\"] = \"overlapping_gene\"\n",
    "        df_transcript[\"category\"] = \"new_gene_body\"\n",
    "\n",
    "        df_overlapping_novel_genes_same = pd.concat([df_overlapping_novel_genes_same, df_overlapping_genes_same])"
   ]
  },
  {
   "cell_type": "code",
   "execution_count": 109,
   "id": "6b55be25",
   "metadata": {},
   "outputs": [],
   "source": [
    "## Create list of overlapping genes\n",
    "\n",
    "all_overlapping_id_list = []\n",
    "\n",
    "all_overlapping_id_list += df_overlapping_novel_genes_opp[\"overlapping\"].unique().tolist()\n",
    "all_overlapping_id_list += df_overlapping_novel_genes_same[\"overlapping\"].unique().tolist()"
   ]
  },
  {
   "cell_type": "code",
   "execution_count": 110,
   "id": "d79ea373",
   "metadata": {},
   "outputs": [],
   "source": [
    "## Create list of non-overlapping genes\n",
    "non_overlapping_new_genes = novel_genes_ref.loc[~novel_genes_ref[\"transcript_id\"].isin(all_overlapping_id_list)].copy()"
   ]
  },
  {
   "cell_type": "code",
   "execution_count": 111,
   "id": "7b25ded6",
   "metadata": {},
   "outputs": [],
   "source": [
    "## Get transcript ids for all transcripts with median CPM > 1\n",
    "new_gene_tids_median = df_novel_genes_median[\"transcript_id\"].tolist()"
   ]
  },
  {
   "cell_type": "code",
   "execution_count": 112,
   "id": "8a5ebb89",
   "metadata": {},
   "outputs": [],
   "source": [
    "## Create individual dataframe for each subcategory, only keeping transcripts with median CPM > 1\n",
    "df_overlapping_novel_genes_opp_median = df_overlapping_novel_genes_opp.loc[df_overlapping_novel_genes_opp[\"overlapping\"].isin(new_gene_tids_median)].copy()\n",
    "df_overlapping_novel_genes_same_median = df_overlapping_novel_genes_same.loc[df_overlapping_novel_genes_same[\"overlapping\"].isin(new_gene_tids_median)].copy()\n",
    "non_overlapping_new_genes_median = non_overlapping_new_genes.loc[non_overlapping_new_genes[\"transcript_id\"].isin(new_gene_tids_median)].copy()"
   ]
  },
  {
   "cell_type": "code",
   "execution_count": 113,
   "id": "f86c30ed",
   "metadata": {},
   "outputs": [],
   "source": [
    "## Create final dataframe for plotting\n",
    "\n",
    "list_number_of_transcripts = [non_overlapping_new_genes_median[\"transcript_id\"].nunique(),\n",
    "                              df_overlapping_novel_genes_opp_median[\"overlapping\"].nunique(),\n",
    "                             df_overlapping_novel_genes_same_median[\"overlapping\"].nunique()]\n",
    "\n",
    "\n",
    "list_categories = [\"Not overlapping any gene bodies\",\n",
    "                  \"Overlapping gene body on opposite strand\",\n",
    "                  \"Overlapping gene body on same strand, but no exon overlap\"]\n",
    "\n",
    "dict_new_genes = {\"Count\": list_number_of_transcripts, \"Category\": list_categories}\n",
    "\n",
    "df_new_genes_counts_median = pd.DataFrame(data=dict_new_genes)"
   ]
  },
  {
   "cell_type": "code",
   "execution_count": 114,
   "id": "01500176",
   "metadata": {},
   "outputs": [],
   "source": [
    "## Set parameters for figures\n",
    "from matplotlib import rcParams\n",
    "mm = (1/25.4)\n",
    "\n",
    "# figure size in millimiters\n",
    "rcParams['figure.figsize'] = (31.34375*mm, 34*mm)\n",
    "rcParams.update({'font.size': 6})\n",
    "rcParams['axes.linewidth'] = 1"
   ]
  },
  {
   "cell_type": "code",
   "execution_count": 115,
   "id": "e4d2b71b",
   "metadata": {},
   "outputs": [
    {
     "data": {
      "image/png": "[encoded data removed]",
      "text/plain": [
       "<Figure size 123.401x133.858 with 1 Axes>"
      ]
     },
     "metadata": {},
     "output_type": "display_data"
    }
   ],
   "source": [
    "## Make graph of new transcript events for no filter\n",
    "\n",
    "ax = sns.barplot(data=df_new_genes_counts_median, y=\"Category\", hue=\"Category\", x=\"Count\", dodge=False,\n",
    "                   palette=[ggplot2_colors[0], ggplot2_colors[4], ggplot2_colors[6]],\n",
    "                   saturation=1, order=df_new_genes_counts_median.sort_values(by=\"Count\", ascending=False)[\"Category\"],\n",
    "                hue_order=df_new_genes_counts_median.sort_values(by=\"Count\", ascending=False)[\"Category\"])\n",
    "\n",
    "for container in ax.containers:\n",
    "    ax.bar_label(container)\n",
    "    \n",
    "ax.set_xlim(0, 150)\n",
    "\n",
    "sns.despine(ax=ax, top=False, right=True, left=False, bottom=False, offset=None, trim=False)\n",
    "\n",
    "plt.yticks(rotation=90)\n",
    "plt.tick_params(labelsize=None)\n",
    "\n",
    "new_labels = ['Opposite strand', 'New locus',\n",
    "             \"Same strand,\\nno exon overlap\"]\n",
    "plt.legend(fontsize=6, bbox_to_anchor=(1.05, 1.6), borderpad=0.3)\n",
    "for t, l in zip(ax.legend_.texts, new_labels):\n",
    "    t.set_text(l)\n",
    "    \n",
    "plt.xlabel('Counts')\n",
    "plt.ylabel(\"\")\n",
    "plt.yticks([]) \n",
    "\n",
    "plt.savefig('../../figures/paper_figures/figure_4/new_gene_body_events.pdf',\n",
    "            dpi=600, transparent=True, bbox_inches=\"tight\")\n",
    "\n",
    "plt.show()"
   ]
  },
  {
   "cell_type": "code",
   "execution_count": 116,
   "id": "bc05a0a2",
   "metadata": {},
   "outputs": [],
   "source": [
    "## Set parameters for figures\n",
    "from matplotlib import rcParams\n",
    "mm = (1/25.4)\n",
    "\n",
    "# figure size in millimiters\n",
    "rcParams['figure.figsize'] = (55*mm, 60*mm)\n",
    "rcParams.update({'font.size': 6})\n",
    "rcParams['axes.linewidth'] = 1"
   ]
  },
  {
   "cell_type": "code",
   "execution_count": 117,
   "id": "6c9849c7",
   "metadata": {},
   "outputs": [
    {
     "name": "stderr",
     "output_type": "stream",
     "text": [
      "/tmp/ipykernel_50909/3590961390.py:16: UserWarning: FixedFormatter should only be used together with FixedLocator\n",
      "  ax.set(xticklabels=[0, 50, 100], ylabel=\"\")\n"
     ]
    },
    {
     "data": {
      "image/png": "[encoded data removed]",
      "text/plain": [
       "<Figure size 216.535x236.22 with 1 Axes>"
      ]
     },
     "metadata": {},
     "output_type": "display_data"
    }
   ],
   "source": [
    "## Create and save graph showing number of genes with multiple protein coding isoforms (median CPM > 1)\n",
    "\n",
    "df_nfn.sort_values(by=\"Splice site motiff\", ascending=False, inplace=True)\n",
    "\n",
    "ax = sns.barplot(data=df_nfn, x=\"Percent exons containing motiff\", y=\"Splice site motiff\", hue=\"Category\",\n",
    "                 palette=[ggplot2_colors[0], ggplot2_colors[5]], errorbar=None, saturation=1)\n",
    "\n",
    "for container in ax.containers:\n",
    "    ax.bar_label(container, label_type=\"center\")\n",
    "    \n",
    "    \n",
    "ax.set(xlim=(0, 170), ylim=(-0.5, 2.2))\n",
    "plt.xlabel('Exons containing motiff (%)')\n",
    "ax.xaxis.set_label_coords(0.4, -0.12)\n",
    "\n",
    "ax.set(xticklabels=[0, 50, 100], ylabel=\"\")\n",
    "ax.set_yticklabels(labels=[\"3' splice site\\n\", \"5' splice site\\n\"], rotation=90, ha=\"center\", rotation_mode=\"anchor\")\n",
    "\n",
    "# reordering the labels\n",
    "handles, labels = plt.gca().get_legend_handles_labels()\n",
    "  \n",
    "# specify order\n",
    "order = [1, 0]\n",
    "  \n",
    "# pass handle & labels lists along with order as below\n",
    "plt.legend([handles[i] for i in order], [labels[i] for i in order], loc='upper left')\n",
    "\n",
    "plt.savefig('../../figures/paper_figures/figure_4/MEME.pdf', dpi=600, transparent=True, bbox_inches=\"tight\")\n",
    "\n",
    "plt.show()"
   ]
  },
  {
   "cell_type": "code",
   "execution_count": 118,
   "id": "a066584e",
   "metadata": {},
   "outputs": [
    {
     "data": {
      "image/png": "[encoded data removed]",
      "text/plain": [
       "<Figure size 216.535x236.22 with 1 Axes>"
      ]
     },
     "metadata": {},
     "output_type": "display_data"
    }
   ],
   "source": [
    "## Make median CPM > 1 gene body number of exons plot and save both as pdf.\n",
    "\n",
    "ax = sns.countplot(x=ref_novel_gene_median_num_exons, color=ggplot2_colors[0], saturation=1)\n",
    "    \n",
    "for container in ax.containers:\n",
    "    ax.bar_label(container)\n",
    "\n",
    "ax.set_ylim(0, 300)\n",
    "\n",
    "plt.xlabel(\"Number of exons\")\n",
    "plt.ylabel(\"New transcripts from new genes bodies\")\n",
    "\n",
    "\n",
    "plt.savefig('../../figures/paper_figures/figure_4/num_exons_ntng_median_cpm_greater_than_1.pdf',\n",
    "            dpi=600, transparent=True, bbox_inches=\"tight\")\n",
    "\n",
    "plt.show()"
   ]
  },
  {
   "cell_type": "code",
   "execution_count": 119,
   "id": "2bddc84a",
   "metadata": {},
   "outputs": [
    {
     "data": {
      "text/plain": [
       "count     267.000000\n",
       "mean     1663.580524\n",
       "std      1203.156858\n",
       "min       109.000000\n",
       "25%       545.500000\n",
       "50%      1529.000000\n",
       "75%      2540.000000\n",
       "max      5291.000000\n",
       "Name: size, dtype: float64"
      ]
     },
     "execution_count": 119,
     "metadata": {},
     "output_type": "execute_result"
    }
   ],
   "source": [
    "df_exonic_length_novel_genes_median[\"size\"].describe()"
   ]
  },
  {
   "cell_type": "code",
   "execution_count": 120,
   "id": "0e297c72",
   "metadata": {},
   "outputs": [
    {
     "data": {
      "image/png": "[encoded data removed]",
      "text/plain": [
       "<Figure size 216.535x236.22 with 1 Axes>"
      ]
     },
     "metadata": {},
     "output_type": "display_data"
    }
   ],
   "source": [
    "## Make median CPM > 1 gene body number of exons plot and save as pdf.\n",
    "\n",
    "sns.histplot(x=df_exonic_length_novel_genes_median[\"size\"], color=ggplot2_colors[0], alpha=1)\n",
    "plt.xlabel(\"Transcript length (nucleotides)\")\n",
    "plt.ylabel(\"New transcripts from new gene bodies\")\n",
    "\n",
    "plt.ylim(0, 85)\n",
    "\n",
    "plt.plot([1529, 1529], [0, 75], color=\"#4d4d4d\", label=\"Median length = 1529 nucleotides\", linewidth=1.5, alpha=1, linestyle='dashed')\n",
    "plt.text(x=200, y=77, s=\"Median = 1529\",  color=\"#4d4d4d\", fontsize=6, fontweight=\"bold\")\n",
    "\n",
    "\n",
    "plt.savefig('../../figures/paper_figures/figure_4/histogram_ntng_length_median_cpm_greater_than_one.pdf',\n",
    "            dpi=600, transparent=True, bbox_inches=\"tight\")\n",
    "\n",
    "plt.show()"
   ]
  },
  {
   "cell_type": "code",
   "execution_count": 121,
   "id": "d93a8e1e",
   "metadata": {},
   "outputs": [],
   "source": [
    "## Create log transformation of median CPM for new genes and transcripts\n",
    "\n",
    "df_novel_genes_no_zero = df_novel_genes.loc[df_novel_genes[\"median_CPM\"] > 0].copy()\n",
    "log_10_median_cpm_genes = np.log10(df_novel_genes_no_zero[\"median_CPM\"])\n",
    "\n",
    "df_novel_transcripts_no_zero = df_novel_transcripts.loc[df_novel_transcripts[\"median_CPM\"] > 0].copy()\n",
    "log_10_median_cpm_transcripts = np.log10(df_novel_transcripts_no_zero[\"median_CPM\"])"
   ]
  },
  {
   "cell_type": "code",
   "execution_count": 122,
   "id": "0d2ee2cb",
   "metadata": {},
   "outputs": [
    {
     "data": {
      "image/png": "[encoded data removed]",
      "text/plain": [
       "<Figure size 216.535x236.22 with 1 Axes>"
      ]
     },
     "metadata": {},
     "output_type": "display_data"
    }
   ],
   "source": [
    "## Make median CPM > 1 gene body number of exons plot and save as pdf.\n",
    "\n",
    "sns.histplot(x=log_10_median_cpm_genes, color=ggplot2_colors[0], alpha=1)\n",
    "\n",
    "plt.plot([0, 0], [0, 155], color=\"#4d4d4d\", label=\"Median CPM = 1\", linewidth=1.5, alpha=1, linestyle='dashed')\n",
    "plt.text(x=-0.9, y=160, s=\"Median CPM = 1\",  color=\"#4d4d4d\", fontsize=6, fontweight=\"bold\")\n",
    "plt.ylim(0, 174)\n",
    "\n",
    "plt.xlabel(\"Log10 median CPM\")\n",
    "plt.ylabel(\"Transcripts from new genes\")\n",
    "\n",
    "plt.savefig('../../figures/paper_figures/figure_4/median_cpm_histogram_new_genes.pdf',\n",
    "            dpi=600, transparent=True, bbox_inches=\"tight\")\n",
    "\n",
    "plt.show()"
   ]
  },
  {
   "cell_type": "markdown",
   "id": "1832d24b",
   "metadata": {},
   "source": [
    "# Figure 5"
   ]
  },
  {
   "cell_type": "code",
   "execution_count": 123,
   "id": "4d3d5a0d",
   "metadata": {},
   "outputs": [],
   "source": [
    "## Parse through original GTF 107 Ensembl reference to get transcript biotypes\n",
    "orig_ref_types = original_ref.loc[original_ref[\"type\"]==\"transcript\"].copy()\n",
    "orig_ref_types = parse_df_columns(orig_ref_types, is_ref=True, is_transcript=True)"
   ]
  },
  {
   "cell_type": "code",
   "execution_count": 124,
   "id": "cb04e836",
   "metadata": {},
   "outputs": [],
   "source": [
    "## Make reference only including protein coding transcripts with a defined CDS\n",
    "orig_ref_cds = original_ref.loc[original_ref[\"type\"]==\"CDS\"].copy()\n",
    "orig_ref_cds = parse_df_columns(orig_ref_cds, is_ref=True, is_transcript=True, is_prot=True)\n",
    "\n",
    "orig_ref_cds = orig_ref_cds.loc[orig_ref_cds[\"transcript_biotype\"] == \"protein_coding\"].copy()"
   ]
  },
  {
   "cell_type": "code",
   "execution_count": 125,
   "id": "e28f86b3",
   "metadata": {},
   "outputs": [],
   "source": [
    "## Create unique identifier for protein id\n",
    "unique_protein_id = pd.DataFrame()\n",
    "string_orig_ref_cds = orig_ref_cds[['protein_id', 'start', 'end']].copy().astype(str)\n",
    "\n",
    "unique_protein_id = string_orig_ref_cds.groupby(['protein_id'])[[\"protein_id\", \"start\", \"end\"]].transform(lambda x: '-'.join(x))\n",
    "\n",
    "unique_protein_id[\"protein_id\"] = unique_protein_id[\"protein_id\"].str.split(\"-\", expand=True)[0]\n",
    "unique_protein_id[\"unique_identifier\"] = \"Start coordinates: \" + unique_protein_id[\"start\"].copy() + \"   End coordinates:\" + unique_protein_id[\"end\"].copy()\n",
    "unique_protein_id = unique_protein_id[[\"protein_id\", \"unique_identifier\"]].copy()\n",
    "unique_protein_id.drop_duplicates(inplace=True)\n",
    "unique_protein_id = unique_protein_id.merge(orig_ref_cds[\"transcript_id\"], left_index=True, right_index=True)\n",
    "\n",
    "orig_ref_cds = orig_ref_cds.merge(unique_protein_id, on=[\"protein_id\", \"transcript_id\"], how=\"inner\")\n",
    "orig_ref_cds[\"protein_id\"] = orig_ref_cds[\"unique_identifier\"].copy()\n",
    "orig_ref_cds.drop(columns=\"unique_identifier\", inplace=True)"
   ]
  },
  {
   "cell_type": "code",
   "execution_count": 126,
   "id": "a0cec4f0",
   "metadata": {},
   "outputs": [],
   "source": [
    "## Only keep protein coding\n",
    "\n",
    "ref_cds = orig_ref_cds.loc[~orig_ref_cds[\"protein_id\"].isna()].copy()\n",
    "\n",
    "ref_cds = ref_cds[[\"transcript_id\", \"protein_id\"]].copy().drop_duplicates()"
   ]
  },
  {
   "cell_type": "code",
   "execution_count": 127,
   "id": "dbb1cce4",
   "metadata": {},
   "outputs": [],
   "source": [
    "## Create dataframes for AD and med relevant genes, drop Mitochondria\n",
    "df_med_relevant = df.merge(disease_relevant_genes, on=\"gene_id\", how=\"inner\")\n",
    "df_med_relevant = df_med_relevant.loc[df_med_relevant[\"chr\"] != \"MT\"].copy()\n",
    "\n",
    "df_brain_relevant = df_med_relevant.merge(brain_disease_gene_ids[\"gene_id\"], on=\"gene_id\", how=\"inner\")\n",
    "\n",
    "df_ad = df.merge(ad_names, on=\"gene_id\", how=\"inner\")\n",
    "df_ad = df_ad.loc[df_ad[\"chr\"] != \"MT\"].copy()"
   ]
  },
  {
   "cell_type": "code",
   "execution_count": 128,
   "id": "fb2e255d",
   "metadata": {},
   "outputs": [],
   "source": [
    "## Only keep protein coding transcripts in expression matrix, adding protein_ids\n",
    "df_prot_coding_ccds = df.merge(ref_cds[[\"transcript_id\", \"protein_id\"]],\n",
    "                                  how=\"inner\", on=\"transcript_id\").drop_duplicates()"
   ]
  },
  {
   "cell_type": "code",
   "execution_count": 129,
   "id": "c93943c7",
   "metadata": {},
   "outputs": [],
   "source": [
    "## Create lists with number of protein coding transcripts across CPM thresholds\n",
    "list_cpm_thresh = []\n",
    "\n",
    "list_genes_all_median = []\n",
    "list_genes_proteins_median = []\n",
    "list_genes_med_relevant_median = []\n",
    "list_genes_med_relevant_proteins_median = []\n",
    "list_brain_relevant_median = []\n",
    "list_brain_relevant_proteins_median = []\n",
    "list_genes_ad_median = []\n",
    "list_genes_ad_proteins_median = []\n",
    "\n",
    "for i in range(0, 1000):\n",
    "    \n",
    "    cpm_thresh = i/100\n",
    "    \n",
    "    df_gene_multiple_all = df.loc[df[\"median_CPM\"] >= cpm_thresh].copy()\n",
    "    df_gene_multiple_prot = df_prot_coding_ccds.loc[df_prot_coding_ccds[\"median_CPM\"] >= cpm_thresh].copy()\n",
    "\n",
    "    \n",
    "    df_gene_multiple_prot = df_gene_multiple_prot.loc[~df_gene_multiple_prot.duplicated(subset=[\"protein_id\"], keep=False)].copy()\n",
    "    df_gene_multiple_prot = df_gene_multiple_prot.loc[df_gene_multiple_prot.duplicated(subset=[\"gene_id\"], keep=False)].copy()\n",
    "\n",
    "    \n",
    "    num_genes_multiple_isoforms = df_gene_multiple_all.loc[df_gene_multiple_all.duplicated(subset=\"gene_id\", keep=False)][\"gene_id\"].nunique()\n",
    "    num_genes_multiple_prot = df_gene_multiple_prot[\"gene_id\"].nunique()\n",
    "\n",
    "    list_cpm_thresh.append(cpm_thresh)\n",
    "    \n",
    "    list_genes_all_median.append(num_genes_multiple_isoforms)\n",
    "    list_genes_proteins_median.append(num_genes_multiple_prot)"
   ]
  },
  {
   "cell_type": "code",
   "execution_count": 130,
   "id": "88c40603",
   "metadata": {},
   "outputs": [],
   "source": [
    "## Set parameters for figures\n",
    "from matplotlib import rcParams\n",
    "mm = (1/25.4)\n",
    "\n",
    "# figure size in inches\n",
    "rcParams['figure.figsize'] = (55*mm, 46*mm)\n",
    "rcParams.update({'font.size': 6})\n",
    "rcParams['axes.linewidth'] = 1"
   ]
  },
  {
   "cell_type": "code",
   "execution_count": 131,
   "id": "47320321",
   "metadata": {},
   "outputs": [
    {
     "data": {
      "image/png": "[encoded data removed]",
      "text/plain": [
       "<Figure size 216.535x181.102 with 1 Axes>"
      ]
     },
     "metadata": {},
     "output_type": "display_data"
    }
   ],
   "source": [
    "## Make plot showing number of different CDS transcripts from genes expressing 2+ Transcripts with a different CDS\n",
    "\n",
    "plt.plot(list_cpm_thresh, list_genes_all_median, color=ggplot2_colors[0], label=\"Gene bodies with\\n2+ transcripts\", linewidth=1.5, alpha=1)\n",
    "plt.plot(list_cpm_thresh, list_genes_proteins_median, color=ggplot2_colors[4], label=\"\\nGene bodies with 2+\\ntranscripts and different\\nprotien coding sequence\\n\", linewidth=1.5, alpha=1)\n",
    "\n",
    "plt.plot([1, 1], [-500, 25000], color=\"#4d4d4d\", label=\"Median CPM = 1\", linewidth=1.5, alpha=1, linestyle='dashed')\n",
    "\n",
    "\n",
    "plt.xticks(np.arange(0, 11, 1))\n",
    "plt.xlabel('Median CPM')\n",
    "plt.ylabel('Gene bodies (count)')\n",
    "plt.legend(loc=\"upper right\", borderpad=0.8, fontsize=5)\n",
    "\n",
    "plt.savefig('../../figures/paper_figures/figure_5/number_of_genes_with_multiple_transcripts_across_cpm_threshold.pdf',\n",
    "            dpi=600, transparent=True, bbox_inches=\"tight\")\n",
    "\n",
    "plt.show()"
   ]
  },
  {
   "cell_type": "code",
   "execution_count": 132,
   "id": "74319eeb",
   "metadata": {},
   "outputs": [],
   "source": [
    "## Create CPM 1 Threhold multiple isoform filter\n",
    "df_multiple_iso = df.loc[df[\"median_CPM\"] > 1].copy()\n",
    "df_multiple_iso = df_multiple_iso.loc[df_multiple_iso.duplicated(subset=\"gene_id\", keep=False)]\n",
    "\n",
    "## Get number of genes with multiple isoforms\n",
    "df_num_isoforms = df_multiple_iso[\"gene_id\"].value_counts()\n",
    "\n",
    "## Get numbers of genes with multiple CPM > 1 protein coding isoforms for both filters\n",
    "df_num_multiple_iso = pd.DataFrame()\n",
    "df_num_multiple_iso[\"Number of gene bodies\"] = df_num_isoforms.value_counts()\n",
    "df_num_multiple_iso[\"Number of transcripts\"] = df_num_isoforms.value_counts().index\n",
    "df_num_multiple_iso[\"Category\"] = \"All transcripts\"\n",
    "\n",
    "## Group 7+ transcripts\n",
    "df_num_isoforms_six = df_num_multiple_iso.loc[df_num_multiple_iso[\"Number of transcripts\"] >= 6].copy()\n",
    "df_num_isoforms_six = df_num_isoforms_six.groupby(\"Category\").sum()\n",
    "df_num_isoforms_six[\"Number of transcripts\"] = \"6+\"\n",
    "df_num_isoforms_six.reset_index(inplace=True)\n",
    "\n",
    "\n",
    "## Get separate other transcripts\n",
    "df_num_multiple_iso = df_num_multiple_iso.loc[df_num_multiple_iso[\"Number of transcripts\"] < 6].copy()\n",
    "df_num_multiple_iso[\"Number of transcripts\"] = df_num_multiple_iso[\"Number of transcripts\"].astype(str)\n",
    "df_num_multiple_iso = pd.concat([df_num_multiple_iso, df_num_isoforms_six])"
   ]
  },
  {
   "cell_type": "code",
   "execution_count": 133,
   "id": "ff0f8f09",
   "metadata": {},
   "outputs": [],
   "source": [
    "## Create CPM 1 Threhold multiple isoform filter\n",
    "df_prot_avg_multiple_iso = df_prot_coding_ccds.loc[df_prot_coding_ccds[\"median_CPM\"] > 1].copy()\n",
    "df_gene_mutiple_prot = df_prot_avg_multiple_iso.loc[~df_prot_avg_multiple_iso.duplicated(subset=[\"protein_id\"], keep=False)].copy()\n",
    "df_gene_mutiple_prot = df_gene_mutiple_prot.loc[df_gene_mutiple_prot.duplicated(subset=[\"gene_id\"], keep=False)].copy()\n",
    "\n",
    "\n",
    "## Get number of genes with multiple isoforms\n",
    "df_numbers_prot_multiple_isoforms_median = df_gene_mutiple_prot[\"gene_id\"].value_counts()\n",
    "\n",
    "## Get numbers of genes with multiple CPM > 1 protein coding isoforms for both filters\n",
    "df_num_isoforms_prot_avg = pd.DataFrame()\n",
    "df_num_isoforms_prot_avg[\"Number of gene bodies\"] = df_numbers_prot_multiple_isoforms_median.value_counts()\n",
    "df_num_isoforms_prot_avg[\"Number of transcripts\"] = df_numbers_prot_multiple_isoforms_median.value_counts().index\n",
    "df_num_isoforms_prot_avg[\"Category\"] = \"Transcripts with different protein coding sequence\"\n",
    "\n",
    "## Group 7+ transcripts\n",
    "df_num_isoforms_prot_six = df_num_isoforms_prot_avg.loc[df_num_isoforms_prot_avg[\"Number of transcripts\"] >= 6].copy()\n",
    "df_num_isoforms_prot_six = df_num_isoforms_prot_six.groupby(\"Category\").sum()\n",
    "df_num_isoforms_prot_six[\"Number of transcripts\"] = \"6+\"\n",
    "df_num_isoforms_prot_six.reset_index(inplace=True)\n",
    "\n",
    "\n",
    "## Get separate other transcripts\n",
    "df_num_isoforms_prot_avg = df_num_isoforms_prot_avg.loc[df_num_isoforms_prot_avg[\"Number of transcripts\"] < 6].copy()\n",
    "df_num_isoforms_prot_avg[\"Number of transcripts\"] = df_num_isoforms_prot_avg[\"Number of transcripts\"].astype(str)\n",
    "df_num_isoforms_prot_avg = pd.concat([df_num_isoforms_prot_avg, df_num_isoforms_prot_six])"
   ]
  },
  {
   "cell_type": "code",
   "execution_count": 134,
   "id": "275f5c08",
   "metadata": {},
   "outputs": [],
   "source": [
    "## Concatenate\n",
    "df_number_isoforms_per_gene = pd.concat([df_num_multiple_iso, df_num_isoforms_prot_avg])"
   ]
  },
  {
   "cell_type": "code",
   "execution_count": 135,
   "id": "a7bac6de",
   "metadata": {},
   "outputs": [
    {
     "data": {
      "image/png": "[encoded data removed]",
      "text/plain": [
       "<Figure size 216.535x181.102 with 1 Axes>"
      ]
     },
     "metadata": {},
     "output_type": "display_data"
    }
   ],
   "source": [
    "## Create and save graph showing number of genes with multiple protein coding isoforms (AVG CPM > 1)\n",
    "\n",
    "ax = sns.barplot(data=df_number_isoforms_per_gene, y=\"Number of gene bodies\", x=\"Number of transcripts\",\n",
    "                 hue=\"Category\", palette=[ggplot2_colors[0], ggplot2_colors[4]], saturation=1, dodge=True, width=0.9)\n",
    "\n",
    "\n",
    "labels = [\"\\nAll transcripts\\n\", \"Transcripts with different\\nprotein coding sequence\"]\n",
    "h, l = ax.get_legend_handles_labels()\n",
    "ax.legend(h, labels, fontsize=5)\n",
    "\n",
    "ax.set(ylim=(0, 4400), xlim=(-0.55, 4.55))\n",
    "plt.ylabel(\"# of genes bodies\")\n",
    "plt.xlabel(\"# of transcripts expressed in frontal cortex\\n(median CPM > 1)\")\n",
    "\n",
    "ax.bar_label(ax.containers[0], fontsize=5, padding=1)\n",
    "ax.bar_label(ax.containers[1], fontsize=5, padding=1)    \n",
    "\n",
    "plt.savefig('../../figures/paper_figures/figure_5/number_of_genes_with_multiple_transcripts_cpm_1.pdf', \n",
    "            dpi=600, transparent=True, bbox_inches=\"tight\")\n",
    "\n",
    "plt.show()"
   ]
  },
  {
   "cell_type": "code",
   "execution_count": 136,
   "id": "41a31eb4",
   "metadata": {},
   "outputs": [],
   "source": [
    "## Create CPM 1 Threhold multiple isoform filter\n",
    "df_gene_mutiple_med = df_med_relevant.loc[df_med_relevant[\"median_CPM\"] > 1].copy()\n",
    "df_gene_mutiple_med = df_gene_mutiple_med.loc[df_gene_mutiple_med.duplicated(subset=\"gene_id\", keep=False)]\n",
    "\n",
    "## Get number of genes with multiple isoforms\n",
    "df_numbers_med_multiple_isoforms_median = df_gene_mutiple_med[\"gene_id\"].value_counts()\n",
    "\n",
    "## Get numbers of genes with multiple CPM > 1 protein coding isoforms for both filters\n",
    "df_num_med_multiple_iso = pd.DataFrame()\n",
    "df_num_med_multiple_iso[\"Number of gene bodies\"] = df_numbers_med_multiple_isoforms_median.value_counts()\n",
    "df_num_med_multiple_iso[\"Number of transcripts\"] = df_numbers_med_multiple_isoforms_median.value_counts().index\n",
    "df_num_med_multiple_iso[\"Category\"] = \"All transcripts\"\n",
    "\n",
    "## Group 7+ transcripts\n",
    "df_num_med_multiple_iso_six = df_num_med_multiple_iso.loc[df_num_med_multiple_iso[\"Number of transcripts\"] >= 6].copy()\n",
    "df_num_med_multiple_iso_six = df_num_med_multiple_iso_six.groupby(\"Category\").sum()\n",
    "df_num_med_multiple_iso_six[\"Number of transcripts\"] = \"6+\"\n",
    "df_num_med_multiple_iso_six.reset_index(inplace=True)\n",
    "\n",
    "\n",
    "## Get separate other transcripts\n",
    "df_num_med_multiple_iso = df_num_med_multiple_iso.loc[df_num_med_multiple_iso[\"Number of transcripts\"] < 6].copy()\n",
    "df_num_med_multiple_iso[\"Number of transcripts\"] = df_num_med_multiple_iso[\"Number of transcripts\"].astype(str)\n",
    "df_num_med_multiple_iso = pd.concat([df_num_med_multiple_iso, df_num_med_multiple_iso_six])"
   ]
  },
  {
   "cell_type": "code",
   "execution_count": 137,
   "id": "fd0df5d1",
   "metadata": {},
   "outputs": [],
   "source": [
    "## Create CPM 1 Threhold multiple isoform filter\n",
    "df_prot_avg_multiple_iso = df_prot_coding_ccds.loc[df_prot_coding_ccds[\"median_CPM\"] > 1].copy()\n",
    "df_gene_mutiple_med_prot = df_med_relevant.loc[df_med_relevant[\"median_CPM\"] > 1].copy()\n",
    "\n",
    "df_gene_mutiple_med_prot = df_prot_coding_ccds.loc[df_prot_coding_ccds['transcript_id'].isin(df_gene_mutiple_med_prot[\"transcript_id\"])].copy()                                                   \n",
    "\n",
    "df_gene_mutiple_med_prot = df_gene_mutiple_med_prot.loc[~df_gene_mutiple_med_prot.duplicated(subset=[\"protein_id\"], keep=False)].copy()\n",
    "df_gene_mutiple_med_prot = df_gene_mutiple_med_prot.loc[df_gene_mutiple_med_prot.duplicated(subset=[\"gene_id\"], keep=False)].copy()\n",
    "\n",
    "\n",
    "## Get number of genes with multiple isoforms\n",
    "df_numbers_med_multiple_isoforms_prot_median = df_gene_mutiple_med_prot[\"gene_id\"].value_counts()\n",
    "\n",
    "## Get numbers of genes with multiple CPM > 1 protein coding isoforms for both filters\n",
    "df_num_isoforms_prot_med_avg = pd.DataFrame()\n",
    "df_num_isoforms_prot_med_avg[\"Number of gene bodies\"] = df_numbers_med_multiple_isoforms_prot_median.value_counts()\n",
    "df_num_isoforms_prot_med_avg[\"Number of transcripts\"] = df_numbers_med_multiple_isoforms_prot_median.value_counts().index\n",
    "df_num_isoforms_prot_med_avg[\"Category\"] = \"Transcripts with different protein coding sequence\"\n",
    "\n",
    "## Group 7+ transcripts\n",
    "df_num_isoforms_prot_med_six = df_num_isoforms_prot_med_avg.loc[df_num_isoforms_prot_med_avg[\"Number of transcripts\"] >= 6].copy()\n",
    "df_num_isoforms_prot_med_six = df_num_isoforms_prot_med_six.groupby(\"Category\").sum()\n",
    "df_num_isoforms_prot_med_six[\"Number of transcripts\"] = \"6+\"\n",
    "df_num_isoforms_prot_med_six.reset_index(inplace=True)\n",
    "\n",
    "\n",
    "## Get separate other transcripts\n",
    "df_num_isoforms_prot_med_avg = df_num_isoforms_prot_med_avg.loc[df_num_isoforms_prot_med_avg[\"Number of transcripts\"] < 6].copy()\n",
    "df_num_isoforms_prot_med_avg[\"Number of transcripts\"] = df_num_isoforms_prot_med_avg[\"Number of transcripts\"].astype(str)\n",
    "df_num_isoforms_prot_med_avg = pd.concat([df_num_isoforms_prot_med_avg, df_num_isoforms_prot_med_six])"
   ]
  },
  {
   "cell_type": "code",
   "execution_count": 138,
   "id": "eaa65da8",
   "metadata": {},
   "outputs": [],
   "source": [
    "## Concatenate\n",
    "df_number_med_isoforms_per_gene = pd.concat([df_num_med_multiple_iso, df_num_isoforms_prot_med_avg])"
   ]
  },
  {
   "cell_type": "code",
   "execution_count": 139,
   "id": "9ff0e301",
   "metadata": {},
   "outputs": [
    {
     "data": {
      "image/png": "[encoded data removed]",
      "text/plain": [
       "<Figure size 216.535x181.102 with 1 Axes>"
      ]
     },
     "metadata": {},
     "output_type": "display_data"
    }
   ],
   "source": [
    "## Create and save graph showing number of genes with multiple protein coding isoforms (AVG CPM > 1)\n",
    "\n",
    "ax = sns.barplot(data=df_number_med_isoforms_per_gene, y=\"Number of gene bodies\", x=\"Number of transcripts\",\n",
    "                 hue=\"Category\", palette=[ggplot2_colors[0], ggplot2_colors[4]], saturation=1, dodge=True)\n",
    "\n",
    "\n",
    "labels = [\"\\nAll transcripts\\n\", \"Transcripts with different\\nprotein coding sequence\"]\n",
    "h, l = ax.get_legend_handles_labels()\n",
    "ax.legend(h, labels, fontsize=5)\n",
    "    \n",
    "ax.set(ylim=(0, 1100), xlim=(-0.5, 4.5))\n",
    "plt.ylabel(\"# of medically relevant genes bodies\")\n",
    "plt.xlabel(\"# of transcripts expressed in frontal cortex\\n(median CPM > 1)\")\n",
    "\n",
    "ax.bar_label(ax.containers[0], fontsize=5, padding=1)\n",
    "ax.bar_label(ax.containers[1], fontsize=5, padding=1)   \n",
    "\n",
    "\n",
    "plt.savefig('../../figures/paper_figures/figure_5/number_of_med_relevant_genes_with_multiple_transcripts_cpm_1.pdf', \n",
    "            dpi=600, transparent=True, bbox_inches=\"tight\")\n",
    "\n",
    "plt.show()"
   ]
  },
  {
   "cell_type": "code",
   "execution_count": 140,
   "id": "cf227bbd",
   "metadata": {},
   "outputs": [],
   "source": [
    "## Create CPM 1 Threhold multiple isoform filter\n",
    "df_gene_brain = df_brain_relevant.loc[df_brain_relevant[\"median_CPM\"] > 1].copy()\n",
    "df_gene_mutiple_brain = df_gene_brain.loc[df_gene_brain.duplicated(subset=\"gene_id\", keep=False)]\n",
    "\n",
    "## Get number of genes with multiple isoforms\n",
    "df_numbers_brain_multiple_isoforms_median = df_gene_mutiple_brain[\"gene_name\"].value_counts()\n",
    "\n",
    "\n",
    "## Get numbers of genes with multiple CPM > 1 protein coding isoforms for both filters\n",
    "df_num_brain_multiple_iso = pd.DataFrame()\n",
    "df_num_brain_multiple_iso[\"Number of gene bodies\"] = df_numbers_brain_multiple_isoforms_median.value_counts()\n",
    "df_num_brain_multiple_iso[\"Number of transcripts\"] = df_numbers_brain_multiple_isoforms_median.value_counts().index\n",
    "df_num_brain_multiple_iso[\"Category\"] = \"All transcripts\"\n",
    "\n",
    "## Group 7+ transcripts\n",
    "df_num_brain_multiple_iso_six = df_num_brain_multiple_iso.loc[df_num_brain_multiple_iso[\"Number of transcripts\"] >= 6].copy()\n",
    "df_num_brain_multiple_iso_six = df_num_brain_multiple_iso_six.groupby(\"Category\").sum()\n",
    "df_num_brain_multiple_iso_six[\"Number of transcripts\"] = \"6+\"\n",
    "df_num_brain_multiple_iso_six.reset_index(inplace=True)\n",
    "\n",
    "\n",
    "## Get separate other transcripts\n",
    "df_num_brain_multiple_iso = df_num_brain_multiple_iso.loc[df_num_brain_multiple_iso[\"Number of transcripts\"] < 6].copy()\n",
    "df_num_brain_multiple_iso[\"Number of transcripts\"] = df_num_brain_multiple_iso[\"Number of transcripts\"].astype(str)\n",
    "df_num_brain_multiple_iso = pd.concat([df_num_brain_multiple_iso, df_num_brain_multiple_iso_six])"
   ]
  },
  {
   "cell_type": "code",
   "execution_count": 141,
   "id": "6af1ab0c",
   "metadata": {},
   "outputs": [],
   "source": [
    "## Create CPM 1 Threhold multiple isoform filter\n",
    "df_prot_coding_ccds = df_prot_coding_ccds.merge(orig_ref[[\"gene_id\", \"gene_name\"]], how=\"inner\", on=\"gene_id\")\n",
    "df_prot_coding_ccds.drop_duplicates(inplace=True)\n",
    "df_gene_mutiple_brain_prot = df_brain_relevant.loc[df_brain_relevant[\"median_CPM\"] > 1].copy()\n",
    "\n",
    "\n",
    "df_gene_mutiple_brain_prot = df_prot_coding_ccds.loc[df_prot_coding_ccds['transcript_id'].isin(df_gene_mutiple_brain_prot[\"transcript_id\"])].copy()                                                   \n",
    "\n",
    "df_gene_mutiple_brain_prot = df_gene_mutiple_brain_prot.loc[~df_gene_mutiple_brain_prot.duplicated(subset=[\"protein_id\"], keep=False)].copy()\n",
    "df_gene_mutiple_brain_prot = df_gene_mutiple_brain_prot.loc[df_gene_mutiple_brain_prot.duplicated(subset=[\"gene_id\"], keep=False)].copy()\n",
    "\n",
    "\n",
    "## Get number of genes with multiple isoforms\n",
    "df_numbers_brain_multiple_isoforms_prot_median = df_gene_mutiple_brain_prot[\"gene_id\"].value_counts()\n",
    "\n",
    "## Get numbers of genes with multiple CPM > 1 protein coding isoforms for both filters\n",
    "df_num_isoforms_prot_brain = pd.DataFrame()\n",
    "df_num_isoforms_prot_brain[\"Number of gene bodies\"] = df_numbers_brain_multiple_isoforms_prot_median.value_counts()\n",
    "df_num_isoforms_prot_brain[\"Number of transcripts\"] = df_numbers_brain_multiple_isoforms_prot_median.value_counts().index\n",
    "df_num_isoforms_prot_brain[\"Category\"] = \"Transcripts with different protein coding sequence\"\n",
    "\n",
    "## Group 7+ transcripts\n",
    "df_num_isoforms_prot_brain_six = df_num_isoforms_prot_brain.loc[df_num_isoforms_prot_brain[\"Number of transcripts\"] >= 6].copy()\n",
    "df_num_isoforms_prot_brain_six = df_num_isoforms_prot_brain_six.groupby(\"Category\").sum()\n",
    "df_num_isoforms_prot_brain_six[\"Number of transcripts\"] = \"6+\"\n",
    "df_num_isoforms_prot_brain_six.reset_index(inplace=True)\n",
    "\n",
    "\n",
    "## Get separate other transcripts\n",
    "df_num_isoforms_prot_brain = df_num_isoforms_prot_brain.loc[df_num_isoforms_prot_brain[\"Number of transcripts\"] < 6].copy()\n",
    "df_num_isoforms_prot_brain[\"Number of transcripts\"] = df_num_isoforms_prot_brain[\"Number of transcripts\"].astype(str)\n",
    "df_num_isoforms_prot_brain = pd.concat([df_num_isoforms_prot_brain, df_num_isoforms_prot_brain_six])"
   ]
  },
  {
   "cell_type": "code",
   "execution_count": 142,
   "id": "75efd4f9",
   "metadata": {},
   "outputs": [],
   "source": [
    "## Concatenate\n",
    "df_number_brain_isoforms_per_gene = pd.concat([df_num_brain_multiple_iso, df_num_isoforms_prot_brain])"
   ]
  },
  {
   "cell_type": "code",
   "execution_count": 143,
   "id": "4bfc9c4b",
   "metadata": {},
   "outputs": [
    {
     "data": {
      "image/png": "[encoded data removed]",
      "text/plain": [
       "<Figure size 216.535x181.102 with 1 Axes>"
      ]
     },
     "metadata": {},
     "output_type": "display_data"
    }
   ],
   "source": [
    "## Create and save graph showing number of genes with multiple protein coding isoforms (AVG CPM > 1)\n",
    "\n",
    "ax = sns.barplot(data=df_number_brain_isoforms_per_gene, y=\"Number of gene bodies\", x=\"Number of transcripts\",\n",
    "                 hue=\"Category\", palette=[ggplot2_colors[0], ggplot2_colors[4]], saturation=1, dodge=True)\n",
    "\n",
    "\n",
    "# replace labels   \n",
    "labels = [\"\\nAll transcripts\\n\", \"Transcripts with different\\nprotein coding sequence\"]\n",
    "h, l = ax.get_legend_handles_labels()\n",
    "ax.legend(h, labels, fontsize=5)\n",
    "\n",
    "ax.set(ylim=(0, 55), xlim=(-0.5, 4.5))\n",
    "plt.ylabel(\"# of brain disease gene bodies\")\n",
    "plt.xlabel(\"# of transcripts expressed in frontal cortex\\n(median CPM > 1)\")\n",
    "\n",
    "ax.bar_label(ax.containers[0], fontsize=5, padding=1)\n",
    "ax.bar_label(ax.containers[1], fontsize=5, padding=1)    \n",
    "\n",
    "\n",
    "plt.savefig('../../figures/paper_figures/figure_5/number_of_brain_genes_with_multiple_transcripts_cpm_1.pdf', dpi=600, transparent=True, bbox_inches=\"tight\")\n",
    "\n",
    "plt.show()"
   ]
  },
  {
   "cell_type": "code",
   "execution_count": 144,
   "id": "0a14ff34",
   "metadata": {},
   "outputs": [],
   "source": [
    "## Create disease panels\n",
    "ad_panel = [\"BIN1\", \"TNIP1\", \"APP\", \"ADAM17\", \"EED\", \"SHARPIN\", \"PSEN1\", \"ANK3\", \"MAPT\", \"BCKDK\"]\n",
    "\n",
    "pd_als_ftd_late_panel = [\"SNCA\", \"ASXL3\", \"RIMS1\", \"GPNMB\", \"CLCN3\", \"SOD1\", \"VCP\", \"KIF5A\", \"TARDBP\", \"ABCC9\"]\n",
    "\n",
    "asd_sud_mdd_schizo = [\"ANK2\", \"ARID1B\", \"SHANK3\", \"ADD1\", \"RHOA\", \"CTNND1\", \"MAOA\", \"PCLO\", \"CACNA1G\", \"GRIA3\"]"
   ]
  },
  {
   "cell_type": "code",
   "execution_count": 145,
   "id": "8a62e7da",
   "metadata": {},
   "outputs": [],
   "source": [
    "## Create dataframe for AD panel\n",
    "df_numbers_brain_multiple_iso = df_gene_mutiple_brain[\"gene_name\"].value_counts().rename_axis('gene_name').reset_index(name='Number of transcripts')\n",
    "df_numbers_brain_multiple_prot = df_gene_mutiple_brain_prot[\"gene_name\"].value_counts().rename_axis('gene_name').reset_index(name='Number of transcripts')\n",
    "\n",
    "df_numbers_ad_iso = df_numbers_brain_multiple_iso.loc[df_numbers_brain_multiple_iso[\"gene_name\"].isin(ad_panel)].copy()\n",
    "df_numbers_ad_prot = df_numbers_brain_multiple_prot.loc[df_numbers_brain_multiple_prot[\"gene_name\"].isin(ad_panel)].copy()\n",
    "\n",
    "df_numbers_ad_iso[\"Category\"] = \"All transcripts\"\n",
    "df_numbers_ad_prot[\"Category\"] = \"Transcripts with different protein coding sequence\"\n",
    "\n",
    "df_numbers_ad = pd.concat([df_numbers_ad_iso, df_numbers_ad_prot])\n",
    "\n",
    "ad_psen = pd.DataFrame(data={\"gene_name\": [\"PSEN1\"], \"Number of transcripts\": [1], \n",
    "                              \"Category\": [\"Transcripts with different protein coding sequence\"]})\n",
    "\n",
    "df_numbers_ad = pd.concat([df_numbers_ad, ad_psen])"
   ]
  },
  {
   "cell_type": "code",
   "execution_count": 146,
   "id": "4602718a",
   "metadata": {},
   "outputs": [],
   "source": [
    "## Create dataframe for PD + ALS/FTD + LATE panel\n",
    "df_numbers_pd_iso = df_numbers_brain_multiple_iso.loc[df_numbers_brain_multiple_iso[\"gene_name\"].isin(pd_als_ftd_late_panel)].copy()\n",
    "df_numbers_pd_prot = df_numbers_brain_multiple_prot.loc[df_numbers_brain_multiple_prot[\"gene_name\"].isin(pd_als_ftd_late_panel)].copy()\n",
    "\n",
    "df_numbers_pd_iso[\"Category\"] = \"All transcripts\"\n",
    "df_numbers_pd_prot[\"Category\"] = \"Transcripts with different protein coding sequence\"\n",
    "\n",
    "df_numbers_pd = pd.concat([df_numbers_pd_iso, df_numbers_pd_prot])\n",
    "\n",
    "pd_pink1 = pd.DataFrame(data={\"gene_name\": [\"SNCA\"], \"Number of transcripts\": [1], \n",
    "                              \"Category\": [\"Transcripts with different protein coding sequence\"]})\n",
    "\n",
    "df_numbers_pd = pd.concat([df_numbers_pd, pd_pink1])"
   ]
  },
  {
   "cell_type": "code",
   "execution_count": 147,
   "id": "05243907",
   "metadata": {},
   "outputs": [],
   "source": [
    "## Create dataframe for PD + ALS/FTD + LATE panel\n",
    "df_numbers_asd_iso = df_numbers_brain_multiple_iso.loc[df_numbers_brain_multiple_iso[\"gene_name\"].isin(asd_sud_mdd_schizo)].copy()\n",
    "df_numbers_asd_prot = df_numbers_brain_multiple_prot.loc[df_numbers_brain_multiple_prot[\"gene_name\"].isin(asd_sud_mdd_schizo)].copy()\n",
    "\n",
    "df_numbers_asd_iso[\"Category\"] = \"All transcripts\"\n",
    "df_numbers_asd_prot[\"Category\"] = \"Transcripts with different protein coding sequence\"\n",
    "\n",
    "df_numbers_asd = pd.concat([df_numbers_asd_iso, df_numbers_asd_prot])\n",
    "\n",
    "pd_maoa = pd.DataFrame(data={\"gene_name\": [\"MAOA\", \"ANK2\"], \"Number of transcripts\": [1, 1], \n",
    "                              \"Category\": [\"Transcripts with different protein coding sequence\", \n",
    "                                          \"Transcripts with different protein coding sequence\"]})\n",
    "\n",
    "df_numbers_asd = pd.concat([df_numbers_asd, pd_maoa])"
   ]
  },
  {
   "cell_type": "code",
   "execution_count": 148,
   "id": "0f063924",
   "metadata": {},
   "outputs": [],
   "source": [
    "## Set parameters for figures\n",
    "from matplotlib import rcParams\n",
    "mm = (1/25.4)\n",
    "\n",
    "# figure size in inches\n",
    "rcParams['figure.figsize'] = (46*mm, 46*mm)\n",
    "rcParams.update({'font.size': 6})\n",
    "rcParams['axes.linewidth'] = 1"
   ]
  },
  {
   "cell_type": "code",
   "execution_count": 149,
   "id": "2d3aa95d",
   "metadata": {},
   "outputs": [
    {
     "data": {
      "image/png": "[encoded data removed]",
      "text/plain": [
       "<Figure size 181.102x181.102 with 1 Axes>"
      ]
     },
     "metadata": {},
     "output_type": "display_data"
    }
   ],
   "source": [
    "## Make AD panel\n",
    "ax = sns.barplot(data=df_numbers_ad, y=\"gene_name\", x=\"Number of transcripts\",\n",
    "                 hue=\"Category\", palette=[ggplot2_colors[4], ggplot2_colors[0]], saturation=1, dodge=True,\n",
    "                width=0.6, hue_order=[\"Transcripts with different protein coding sequence\", \"All transcripts\"])\n",
    "\n",
    "ax.set(ylim=(-0.7, 9.7))\n",
    "ax.get_legend().remove()\n",
    "plt.ylabel(\"Alzheimer's disease genes\")\n",
    "plt.xlabel(\"# of transcripts expressed in frontal\\ncortex (median CPM > 1)\")\n",
    "\n",
    "\n",
    "plt.savefig('../../figures/paper_figures/figure_5/alzheimers_genes_cpm_1.pdf',\n",
    "            dpi=600, transparent=True, bbox_inches=\"tight\")\n",
    "\n",
    "plt.show()"
   ]
  },
  {
   "cell_type": "code",
   "execution_count": 150,
   "id": "bb372765",
   "metadata": {},
   "outputs": [
    {
     "data": {
      "image/png": "[encoded data removed]",
      "text/plain": [
       "<Figure size 181.102x181.102 with 1 Axes>"
      ]
     },
     "metadata": {},
     "output_type": "display_data"
    }
   ],
   "source": [
    "## Make PD + ALS/FTD + LATE panel\n",
    "ax = sns.barplot(data=df_numbers_pd, y=\"gene_name\", x=\"Number of transcripts\",\n",
    "                 hue=\"Category\", palette=[ggplot2_colors[4], ggplot2_colors[0]], saturation=1, dodge=True,\n",
    "                order=pd_als_ftd_late_panel, width=0.6,\n",
    "                 hue_order=[\"Transcripts with different protein coding sequence\", \"All transcripts\"])\n",
    "\n",
    "\n",
    "ax.set(ylim=(-0.7, 9.7))\n",
    "ax.get_legend().remove()\n",
    "plt.ylabel(\"Neurodegenerative disease genes\")\n",
    "plt.xlabel(\"# of transcripts expressed in frontal\\ncortex (median CPM > 1)\")\n",
    "\n",
    "plt.savefig('../../figures/paper_figures/figure_5/neurodegenerative_genes_cpm_1.pdf', \n",
    "            dpi=600, transparent=True, bbox_inches=\"tight\")\n",
    "\n",
    "plt.show()"
   ]
  },
  {
   "cell_type": "code",
   "execution_count": 151,
   "id": "0eb0ddef",
   "metadata": {},
   "outputs": [
    {
     "data": {
      "image/png": "[encoded data removed]",
      "text/plain": [
       "<Figure size 181.102x181.102 with 1 Axes>"
      ]
     },
     "metadata": {},
     "output_type": "display_data"
    }
   ],
   "source": [
    "## Make PD + ALS/FTD + LATE panel\n",
    "ax = sns.barplot(data=df_numbers_asd, y=\"gene_name\", x=\"Number of transcripts\",\n",
    "                 hue=\"Category\", palette=[ggplot2_colors[4], ggplot2_colors[0]], saturation=1, dodge=True,\n",
    "                order=asd_sud_mdd_schizo, width=0.6, \n",
    "                hue_order=[\"Transcripts with different protein coding sequence\", \"All transcripts\"])\n",
    "\n",
    "\n",
    "ax.set(ylim=(-0.7, 9.7))\n",
    "ax.get_legend().remove()\n",
    "plt.ylabel(\"Neuropsychiatric disease genes\")\n",
    "plt.xlabel(\"# of transcripts expressed in frontal\\ncortex (median CPM > 1)\")\n",
    "\n",
    "\n",
    "plt.savefig('../../figures/paper_figures/figure_5/neuropsychiatric_genes_cpm_1.pdf', dpi=600, transparent=True, bbox_inches=\"tight\")\n",
    "\n",
    "plt.show()"
   ]
  },
  {
   "cell_type": "markdown",
   "id": "78025c4d",
   "metadata": {},
   "source": [
    "# Output novel high confidence only annotation"
   ]
  },
  {
   "cell_type": "code",
   "execution_count": 152,
   "id": "ee6442c9",
   "metadata": {},
   "outputs": [],
   "source": [
    "## Change mito columns names\n",
    "df_novel_mito[\"gene_id\"] = df_novel_mito[\"GENEID\"].copy()\n",
    "df_novel_mito[\"transcript_id\"] = df_novel_mito[\"TXNAME\"].copy()"
   ]
  },
  {
   "cell_type": "code",
   "execution_count": 153,
   "id": "dcb434f8",
   "metadata": {},
   "outputs": [],
   "source": [
    "## Merge all high confidence novel isoforms\n",
    "df_all_novel = pd.concat([df_novel_mito, df_novel_genes_median, df_novel_transcripts_median])"
   ]
  },
  {
   "cell_type": "code",
   "execution_count": 154,
   "id": "e9f97ef0",
   "metadata": {},
   "outputs": [],
   "source": [
    "## Open new Bambu reference\n",
    "ref_novel = pd.read_csv(\"../../data/raw/nextflow_pipeline_output/bambu_discovery/extended_annotations.gtf\", header=None, delimiter=\"\\t\",\n",
    "                        low_memory=False, comment=\"#\", names=[\"chr\", \"source\", \"type\", \"start\", \"end\", \"dot_1\", \"strand\", \"dot_2\", \"other\"])"
   ]
  },
  {
   "cell_type": "code",
   "execution_count": 155,
   "id": "246981ab",
   "metadata": {},
   "outputs": [],
   "source": [
    "## Only keep novel transcripts\n",
    "ref_novel = ref_novel.loc[ref_novel[\"other\"].str.contains(\"transcript_id \\\"BambuTx\")].copy()"
   ]
  },
  {
   "cell_type": "code",
   "execution_count": 156,
   "id": "abab8bf6",
   "metadata": {},
   "outputs": [],
   "source": [
    "## Parse through columns\n",
    "ref_novel_high_confidence = parse_df_columns(ref_novel.copy(), is_ref=False, delete_other=False)"
   ]
  },
  {
   "cell_type": "code",
   "execution_count": 157,
   "id": "6a449e05",
   "metadata": {},
   "outputs": [],
   "source": [
    "## Only keep high confidence transcripts\n",
    "ref_novel_high_confidence = ref_novel_high_confidence.loc[ref_novel_high_confidence[\"transcript_id\"].isin(df_all_novel[\"transcript_id\"])].copy()"
   ]
  },
  {
   "cell_type": "code",
   "execution_count": 158,
   "id": "bbb57027",
   "metadata": {},
   "outputs": [],
   "source": [
    "## Drop extraneous columns\n",
    "ref_novel_high_confidence.drop(columns=[\"gene_id\", \"transcript_id\", \"exon_number\"], inplace=True)"
   ]
  },
  {
   "cell_type": "code",
   "execution_count": 159,
   "id": "d79f1c8f",
   "metadata": {
    "scrolled": false
   },
   "outputs": [],
   "source": [
    "## Output new annotations\n",
    "\n",
    "ref_novel.to_csv(\"../../data/processed/other/novel_only_annotations/all_novel_bambu.gtf\", index=False, \n",
    "            header=False, sep=\"\\t\", quoting=csv.QUOTE_NONE)\n",
    "\n",
    "ref_novel_high_confidence.to_csv(\"../../data/processed/other/novel_only_annotations/high_confidence_novel_bambu.gtf\", index=False, \n",
    "            header=False, sep=\"\\t\", quoting=csv.QUOTE_NONE)"
   ]
  },
  {
   "cell_type": "code",
   "execution_count": 160,
   "id": "cae3c807",
   "metadata": {},
   "outputs": [],
   "source": [
    "## Read flair annotation\n",
    "glinos_annotation = pd.read_csv(\"../../references/flair_filter_transcripts.gtf\", header=None, delimiter=\"\\t\",\n",
    "                        low_memory=False, comment=\"#\", names=[\"chr\", \"source\", \"type\", \"start\", \"end\", \"dot_1\", \"strand\", \"dot_2\", \"other\"])"
   ]
  },
  {
   "cell_type": "code",
   "execution_count": 161,
   "id": "c5482f12",
   "metadata": {},
   "outputs": [],
   "source": [
    "leung_annotation = pd.read_csv(\"../../references/HumanCTX.collapsed_classification.filtered_lite.gtf\", header=None, delimiter=\"\\t\",\n",
    "                        low_memory=False, comment=\"#\", names=[\"chr\", \"source\", \"type\", \"start\", \"end\", \"dot_1\", \"strand\", \"dot_2\", \"other\"])"
   ]
  },
  {
   "cell_type": "code",
   "execution_count": 162,
   "id": "d58546a2",
   "metadata": {},
   "outputs": [],
   "source": [
    "glinos_annotation[\"chr\"] = glinos_annotation[\"chr\"].str.replace(\"chr\", \"\").copy()\n",
    "glinos_annotation[\"chr\"] = glinos_annotation[\"chr\"].str.replace(\"M\", \"MT\").copy()\n"
   ]
  },
  {
   "cell_type": "code",
   "execution_count": 163,
   "id": "43688f82",
   "metadata": {},
   "outputs": [],
   "source": [
    "leung_annotation[\"chr\"] = leung_annotation[\"chr\"].str.replace(\"chr\", \"\").copy()\n",
    "leung_annotation[\"chr\"] = leung_annotation[\"chr\"].str.replace(\"M\", \"MT\").copy()\n"
   ]
  },
  {
   "cell_type": "code",
   "execution_count": 164,
   "id": "1edf9be5",
   "metadata": {},
   "outputs": [],
   "source": [
    "glinos_annotation.to_csv(\"../../data/processed/other/novel_only_annotations/glinos_annotation_clean.gtf\", index=False, \n",
    "            header=False, sep=\"\\t\", quoting=csv.QUOTE_NONE)\n",
    "\n",
    "leung_annotation.to_csv(\"../../data/processed/other/novel_only_annotations/leung_annotation_clean.gtf\", index=False, \n",
    "            header=False, sep=\"\\t\", quoting=csv.QUOTE_NONE)"
   ]
  }
 ],
 "metadata": {
  "kernelspec": {
   "display_name": "Python 3 (ipykernel)",
   "language": "python",
   "name": "python3"
  },
  "language_info": {
   "codemirror_mode": {
    "name": "ipython",
    "version": 3
   },
   "file_extension": ".py",
   "mimetype": "text/x-python",
   "name": "python",
   "nbconvert_exporter": "python",
   "pygments_lexer": "ipython3",
   "version": "3.10.10"
  }
 },
 "nbformat": 4,
 "nbformat_minor": 5
}
