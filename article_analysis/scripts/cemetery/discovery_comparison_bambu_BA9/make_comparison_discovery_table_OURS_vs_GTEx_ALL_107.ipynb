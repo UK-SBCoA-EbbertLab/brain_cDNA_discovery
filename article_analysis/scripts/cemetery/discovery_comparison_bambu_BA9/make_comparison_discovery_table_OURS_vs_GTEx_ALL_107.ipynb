{
 "cells": [
  {
   "cell_type": "markdown",
   "id": "d9928c02",
   "metadata": {},
   "source": [
    "# Import libraries and define functions + Initial setup"
   ]
  },
  {
   "cell_type": "code",
   "execution_count": 1,
   "id": "2e7c2845",
   "metadata": {},
   "outputs": [],
   "source": [
    "## Import Libraries\n",
    "import pandas as pd\n",
    "import numpy as np\n",
    "from matplotlib_venn import venn2, venn2_circles, venn2_unweighted\n",
    "from matplotlib_venn import venn3, venn3_circles\n",
    "from matplotlib import pyplot as plt\n",
    "%matplotlib inline\n",
    "import seaborn as sns\n",
    "from wordcloud import WordCloud\n",
    "import csv\n",
    "\n",
    "\n",
    "## Display all rows of pandas dataframes\n",
    "pd.set_option('display.max_rows', None)\n",
    "pd.set_option('display.max_colwidth', None)"
   ]
  },
  {
   "cell_type": "code",
   "execution_count": 2,
   "id": "f27e634a",
   "metadata": {},
   "outputs": [],
   "source": [
    "'''\n",
    "name: relative_transcript_abundance\n",
    "\n",
    "purpose: calculate relative transcript abundance\n",
    "\n",
    "input: a dataframe with a ref_gene_id column identifying the transcript gene of origin and a cov columns with \n",
    "the coverage for the transcripts.\n",
    "\n",
    "output: the same dataframe with a relative abundance column added\n",
    "'''\n",
    "\n",
    "\n",
    "\n",
    "def relative_transcript_abundance(df):\n",
    "    \n",
    "    ## Group by gene_id and get total expression for each gene (not counting introns)\n",
    "    df_sums = df[[\"gene_id\", \"total_CPM\"]].groupby(\"gene_id\").sum()\n",
    "    df_sums[\"total_CPM_gene\"] = df_sums[\"total_CPM\"]\n",
    "    df_sums.drop(columns=\"total_CPM\", inplace=True)\n",
    "    \n",
    "    ## Merge dataframe with total gene level CPM with regular transcript level CPM dataframe\n",
    "    merged_df = pd.merge(df, df_sums, how='inner', on=\"gene_id\")\n",
    "    \n",
    "    ## Calculater relative percent abundance for each transcript within its gene\n",
    "    merged_df[\"relative_abundance_percent\"] = ((merged_df[\"total_CPM\"]/merged_df[\"total_CPM_gene\"]) * 100)\n",
    "    \n",
    "    ## Rename total_CPM for transcript column\n",
    "    merged_df[\"total_CPM_transcript\"] = merged_df[\"total_CPM\"]\n",
    "    merged_df.drop(columns=\"total_CPM\", inplace=True)\n",
    "\n",
    "\n",
    "    return merged_df"
   ]
  },
  {
   "cell_type": "code",
   "execution_count": 3,
   "id": "a6446e95",
   "metadata": {},
   "outputs": [],
   "source": [
    "'''\n",
    "function name: fix_column_names\n",
    "\n",
    "purpose: Fixing the column names, making them smaller, informative, and consistent\n",
    "\n",
    "input: The raw counts dataframe for either genes or transcripts \n",
    "\n",
    "output: Same dataframe with improved column names\n",
    "'''\n",
    "\n",
    "def fix_column_names(df, is_gene=False):\n",
    "    \n",
    "    ## Check if this is a gene counts object\n",
    "    if is_gene:\n",
    "        \n",
    "        ## Get count column names and create list of new column names\n",
    "        count_columns = df.columns.tolist()\n",
    "        list_new_names = [\"gene_id\"]\n",
    "        \n",
    "        ## gene_id comes in as index for gene counts data, make it into the first column instead\n",
    "        df[\"gene_id\"] = df.index\n",
    "        cols = list(df.columns)\n",
    "        cols = [cols[-1]] + cols[:-1]\n",
    "        df = df[cols]\n",
    "        df.reset_index(inplace=True, drop=True)\n",
    "    \n",
    "    ## If it is a transcript dataset\n",
    "    else:\n",
    "        ## Set count columns and create list of new names\n",
    "        count_columns = df.columns[2:].tolist()\n",
    "        list_new_names = [ \"transcript_id\", \"gene_id\"]\n",
    "    \n",
    "    ## Fix names one by one and add to list of new names\n",
    "    for col in count_columns:\n",
    "        col = col.split(\"_mapped\")[0] + \"_counts\"\n",
    "        list_new_names.append(col)\n",
    "    \n",
    "    ## Rename columns\n",
    "    df.columns = list_new_names\n",
    "    \n",
    "    return df "
   ]
  },
  {
   "cell_type": "code",
   "execution_count": 4,
   "id": "143176a3",
   "metadata": {},
   "outputs": [],
   "source": [
    "'''\n",
    "function name: parse_df_columns\n",
    "\n",
    "purpose: parsing the last aggregate column of the gtf/gff3 into useful columns and cleaning non-relevant columns\n",
    "\n",
    "input: dataframe containining \"raw\" gtf/gff\n",
    "\n",
    "output: dataframe containing gtf with useful columns [\"gene_id\", \"transcript_id\", etc...]\n",
    "'''\n",
    "\n",
    "def parse_df_columns(df, is_ref=True, is_transcript=False, is_prot=False, delete_other=True):\n",
    "\n",
    "    if is_ref:\n",
    "\n",
    "        ## Get gene ids\n",
    "        df[\"gene_id\"] = df[\"other\"].str.split('\";', expand=True)[0].str.extract(\"([^ \\\"]*$)\", expand=True)\n",
    "        \n",
    "        ## Get gene names\n",
    "        df[\"gene_name\"] = df[\"other\"].str.split(\"gene_name \\\"\", expand=True)[1].str.split('\\\";', expand=True)[0]\n",
    "        \n",
    "        ## Get get transcript biotype\n",
    "        df[\"gene_biotype\"] = df[\"other\"].str.split('gene_biotype \"', expand=True)[1].str.split('\"', expand=True)[0]\n",
    "        \n",
    "        ## If is transcript get transcript id and transcript biotype\n",
    "        if is_transcript:\n",
    "            df[\"transcript_id\"] = df[\"other\"].str.split('transcript_id \"', expand=True)[1].str.split('\"', expand=True)[0]\n",
    "            df[\"transcript_biotype\"] = df[\"other\"].str.split('transcript_biotype \"', expand=True)[1].str.split('\"', expand=True)[0]\n",
    "            \n",
    "            ## If is prot get protein_id\n",
    "            if is_prot:\n",
    "                df[\"protein_id\"] = df[\"other\"].str.split('protein_id \"', expand=True)[1].str.split('\"', expand=True)[0]\n",
    "                df[\"ccds_id\"] = df[\"other\"].str.split('ccds_id \"', expand=True)[1].str.split('\"', expand=True)[0]\n",
    "                df[\"exon_number\"] = df[\"other\"].str.split('exon_number \"', expand=True)[1].str.split('\"', expand=True)[0]\n",
    "\n",
    "        ## Drop \"other\" column\n",
    "        df.drop(columns=[\"other\", \"dot_1\", \"dot_2\"], inplace=True)\n",
    "        \n",
    "\n",
    "    else:\n",
    "\n",
    "        ## Get gene ids\n",
    "        df[\"gene_id\"] = df[\"other\"].str.split('\";', expand=True)[0].str.extract(\"([^ \\\"]*$)\", expand=True)\n",
    "\n",
    "        ## Get transcript ids\n",
    "        df[\"transcript_id\"] = df[\"other\"].str.split('transcript_id \"', expand=True)[1].str.split('\"', expand=True)[0]\n",
    "\n",
    "        ## Get exon number\n",
    "        df[\"exon_number\"] = df[\"other\"].str.split('exon_number \"', expand=True)[1].str.split('\"', expand=True)[0]\n",
    "\n",
    "        ## Drop \"other\" column\n",
    "        if delete_other:\n",
    "            df.drop(columns=[\"other\", \"dot_1\", \"dot_2\"], inplace=True)\n",
    "\n",
    "    for col in df.columns:\n",
    "        df.loc[df[col].isnull(), col] = np.NaN\n",
    "        \n",
    "\n",
    "    return df"
   ]
  },
  {
   "cell_type": "code",
   "execution_count": 5,
   "id": "b1117a08",
   "metadata": {},
   "outputs": [],
   "source": [
    "'''\n",
    "function name: calculate_cpm\n",
    "\n",
    "purpose: Calculate CPM for the each sample given\n",
    "\n",
    "input: Counts dataset\n",
    "\n",
    "output: Counts dataset with CPM columns as well\n",
    "'''\n",
    "\n",
    "def calculate_cpm(df, is_gene=False):\n",
    "\n",
    "    ## Set count columns if dataframe is gene counts\n",
    "    if is_gene:\n",
    "        count_columns = df.columns[1:].tolist()\n",
    "    \n",
    "    ## Set count columns if dataframe is transcript counts\n",
    "    else:\n",
    "        count_columns = df.columns[2:].tolist()\n",
    "\n",
    "    ## Loop through counts columns to calculate CPM and add to the dataframe\n",
    "    for col in count_columns:\n",
    "        \n",
    "        df[col] = round(df[col], 2)\n",
    "        cpm_name = col.replace(\"_counts\", \"_CPM\")\n",
    "        df[cpm_name] = round(((df[col]/(df[col].sum())) * 1000000), 2)\n",
    "    \n",
    "    return df  "
   ]
  },
  {
   "cell_type": "code",
   "execution_count": 6,
   "id": "2bb2cbe6",
   "metadata": {},
   "outputs": [],
   "source": [
    "## define ggplot colors\n",
    "ggplot2_colors = [\"#F8766D\", \"#CD9600\", \"#7CAE00\", \"#00BE67\", \"#00BFC4\", \"#00A9FF\", \"#C77CFF\", \"#FF61CC\"]"
   ]
  },
  {
   "cell_type": "markdown",
   "id": "cd411c5a",
   "metadata": {},
   "source": [
    "## - Read references"
   ]
  },
  {
   "cell_type": "code",
   "execution_count": 7,
   "id": "59f349db",
   "metadata": {},
   "outputs": [],
   "source": [
    "## Open original reference\n",
    "original_ref = pd.read_csv(\"../../../references/Homo_sapiens.GRCh38.107_ERCC.gtf\", header=None, delimiter=\"\\t\", low_memory=False, \n",
    "                       names=[\"chr\", \"source\", \"type\", \"start\", \"end\", \"dot_1\", \"strand\", \"dot_2\", \"other\"], comment=\"#\")\n",
    "\n",
    "original_ref = original_ref.loc[~original_ref[\"chr\"].str.startswith(\"ERCC-\")]\n",
    "\n",
    "## Parse through reference to get gene names and ids\n",
    "orig_ref = original_ref.loc[original_ref[\"type\"]==\"gene\"].copy()\n",
    "orig_ref = parse_df_columns(orig_ref, is_ref=True)"
   ]
  },
  {
   "cell_type": "code",
   "execution_count": 8,
   "id": "990e0068",
   "metadata": {},
   "outputs": [],
   "source": [
    "## Import and parse through extended annotations\n",
    "ref = pd.read_csv(\"../../../data/raw/nextflow_pipeline_output/bambu_discovery/extended_annotations.gtf\", header=None, delimiter=\"\\t\",\n",
    "                        low_memory=False, comment=\"#\", names=[\"chr\", \"source\", \"type\", \"start\", \"end\", \"dot_1\", \"strand\", \"dot_2\", \"other\"])\n",
    "\n",
    "ref = ref.loc[~ref[\"chr\"].str.startswith(\"ERCC-\")]\n",
    "\n",
    "ref = parse_df_columns(ref, is_ref=False)\n",
    "\n",
    "ref_transcripts = ref.loc[ref[\"type\"] == \"transcript\"].copy()"
   ]
  },
  {
   "cell_type": "code",
   "execution_count": 9,
   "id": "e23351d7",
   "metadata": {},
   "outputs": [],
   "source": [
    "## Create Category for transcripts and store values\n",
    "\n",
    "ref_transcripts = ref_transcripts.loc[ref_transcripts[\"transcript_id\"].str.startswith(\"BambuTx\")].copy()\n",
    "\n",
    "ref_transcripts.loc[ref_transcripts[\"gene_id\"].str.startswith(\"BambuGene\"), \"Type\"] = \"NFN\"\n",
    "ref_transcripts.loc[~(ref_transcripts[\"gene_id\"].str.startswith(\"BambuGene\")), \"Type\"] = \"NFK\"\n",
    "ref_transcripts.loc[ref_transcripts[\"chr\"] == \"MT\", \"Type\"] = \"NFM\"\n",
    "\n",
    "\n",
    "all_nfn = ref_transcripts.loc[ref_transcripts[\"Type\"] == \"NFN\"].shape[0]\n",
    "all_nfk = ref_transcripts.loc[ref_transcripts[\"Type\"] == \"NFK\"].shape[0]\n",
    "all_nfm = ref_transcripts.loc[ref_transcripts[\"Type\"] == \"NFM\"].shape[0]"
   ]
  },
  {
   "cell_type": "code",
   "execution_count": 10,
   "id": "d33ff760",
   "metadata": {},
   "outputs": [],
   "source": [
    "## Import and parse through extended annotations\n",
    "ref = pd.read_csv(\"../../../data/raw/1st_rebuttal_data/GTEX_BA9_with_GRCh38-107_discovery/bambu_discovery/extended_annotations.gtf\", header=None, delimiter=\"\\t\",\n",
    "                        low_memory=False, comment=\"#\", names=[\"chr\", \"source\", \"type\", \"start\", \"end\", \"dot_1\", \"strand\", \"dot_2\", \"other\"])\n",
    "\n",
    "ref = ref.loc[~ref[\"chr\"].str.startswith(\"ERCC-\")]\n",
    "\n",
    "ref = parse_df_columns(ref, is_ref=False)\n",
    "\n",
    "ref_transcripts = ref.loc[ref[\"type\"] == \"transcript\"].copy()"
   ]
  },
  {
   "cell_type": "code",
   "execution_count": 11,
   "id": "2e3ab0c8",
   "metadata": {},
   "outputs": [],
   "source": [
    "## Create Category for transcripts and store values\n",
    "\n",
    "ref_transcripts = ref_transcripts.loc[ref_transcripts[\"transcript_id\"].str.startswith(\"BambuTx\")].copy()\n",
    "\n",
    "ref_transcripts.loc[ref_transcripts[\"gene_id\"].str.startswith(\"BambuGene\"), \"Type\"] = \"NFN\"\n",
    "ref_transcripts.loc[~(ref_transcripts[\"gene_id\"].str.startswith(\"BambuGene\")), \"Type\"] = \"NFK\"\n",
    "ref_transcripts.loc[ref_transcripts[\"chr\"] == \"MT\", \"Type\"] = \"NFM\"\n",
    "\n",
    "\n",
    "gtex_all = ref_transcripts.shape[0]\n",
    "gtex_nfn = ref_transcripts.loc[ref_transcripts[\"Type\"] == \"NFN\"].shape[0]\n",
    "gtex_nfk = ref_transcripts.loc[ref_transcripts[\"Type\"] == \"NFK\"].shape[0]\n",
    "gtex_nfm = ref_transcripts.loc[ref_transcripts[\"Type\"] == \"NFM\"].shape[0]"
   ]
  },
  {
   "cell_type": "markdown",
   "id": "b87fb1f6",
   "metadata": {},
   "source": [
    "## - Open tracking data"
   ]
  },
  {
   "cell_type": "code",
   "execution_count": 22,
   "id": "a9295678",
   "metadata": {},
   "outputs": [],
   "source": [
    "## Download data\n",
    "ours_hf_vs_gtex_all_107 = pd.read_csv(\"../../../data/processed/1st_rebuttal/discovery_comparison_bambu_BA9/OURS_HF_vs_GTEx_BA9_ENSEMBL_107_ALL.tracking\", sep=\"\\t\", header=None, usecols=[2,3,4],\n",
    "                         names=[\"gtex_107_all_name\", \"category\", \"our_name\"])\n",
    "\n",
    "ours_all_vs_gtex_all_107 = pd.read_csv(\"../../../data/processed/1st_rebuttal/discovery_comparison_bambu_BA9/OURS_ALL_vs_GTEx_BA9_ENSEMBL_107_ALL.tracking\", sep=\"\\t\", header=None, usecols=[2,3,4],\n",
    "                         names=[\"gtex_107_all_name\", \"category\", \"our_name\"])"
   ]
  },
  {
   "cell_type": "code",
   "execution_count": 23,
   "id": "53161a6e",
   "metadata": {},
   "outputs": [],
   "source": [
    "## Number of new transcripts, high-confidence & no filter (all)\n",
    "hf_number = ours_hf_vs_gtex_all_107.shape[0]\n",
    "\n",
    "all_number = ours_all_vs_gtex_all_107.shape[0]"
   ]
  },
  {
   "cell_type": "code",
   "execution_count": 24,
   "id": "dceea434",
   "metadata": {},
   "outputs": [],
   "source": [
    "## Only keep \"=\" transcripts\n",
    "ours_hf_vs_gtex_all_107 = ours_hf_vs_gtex_all_107.loc[ours_hf_vs_gtex_all_107[\"category\"] == \"=\"].copy()\n",
    "ours_all_vs_gtex_all_107 = ours_all_vs_gtex_all_107.loc[ours_all_vs_gtex_all_107[\"category\"] == \"=\"].copy()"
   ]
  },
  {
   "cell_type": "code",
   "execution_count": 25,
   "id": "5c0e5f9b",
   "metadata": {},
   "outputs": [],
   "source": [
    "## Create boolean\n",
    "ours_all_vs_gtex_all_107.loc[ours_all_vs_gtex_all_107[\"category\"] == \"=\", \"ours_all_vs_gtex_107_all\"] = True\n",
    "ours_all_vs_gtex_all_107.loc[ours_all_vs_gtex_all_107[\"category\"] != \"=\", \"ours_all_vs_gtex_107_all\"] = False"
   ]
  },
  {
   "cell_type": "code",
   "execution_count": 26,
   "id": "ae9b895b",
   "metadata": {},
   "outputs": [],
   "source": [
    "## Create gene_id and transcript_id\n",
    "ours_hf_vs_gtex_all_107[\"gene_id\"] = ours_hf_vs_gtex_all_107[\"our_name\"].str.split(\":\", expand=True)[1].str.split(\"|\", expand=True)[0]\n",
    "ours_hf_vs_gtex_all_107[\"transcript_id\"] = ours_hf_vs_gtex_all_107[\"our_name\"].str.split(\":\", expand=True)[1].str.split(\"|\", expand=True)[1]\n",
    "\n",
    "ours_all_vs_gtex_all_107[\"gene_id\"] = ours_all_vs_gtex_all_107[\"our_name\"].str.split(\":\", expand=True)[1].str.split(\"|\", expand=True)[0]\n",
    "ours_all_vs_gtex_all_107[\"transcript_id\"] = ours_all_vs_gtex_all_107[\"our_name\"].str.split(\":\", expand=True)[1].str.split(\"|\", expand=True)[1]"
   ]
  },
  {
   "cell_type": "code",
   "execution_count": 27,
   "id": "40d914a9",
   "metadata": {},
   "outputs": [],
   "source": [
    "## Add gene_name and chromosomes\n",
    "ours_hf_vs_gtex_all_107 = ours_hf_vs_gtex_all_107.merge(orig_ref[[\"gene_id\", \"gene_name\", \"chr\"]], on=\"gene_id\", how=\"left\")\n",
    "ours_all_vs_gtex_all_107 = ours_all_vs_gtex_all_107.merge(orig_ref[[\"gene_id\", \"gene_name\", \"chr\"]], on=\"gene_id\", how=\"left\")"
   ]
  },
  {
   "cell_type": "code",
   "execution_count": 28,
   "id": "a48ece26",
   "metadata": {},
   "outputs": [],
   "source": [
    "## Create sub-category separations\n",
    "df_new_from_new_hf_all = ours_hf_vs_gtex_all_107.loc[ours_hf_vs_gtex_all_107[\"gene_id\"].str.contains(\"BambuGene\")].copy()\n",
    "df_new_from_known_hf_all = ours_hf_vs_gtex_all_107.loc[~ours_hf_vs_gtex_all_107[\"gene_id\"].str.contains(\"BambuGene\")].copy() \n",
    "df_new_from_known_nuclear_hf_all = df_new_from_known_hf_all.loc[df_new_from_known_hf_all[\"chr\"] != \"MT\"].copy()\n",
    "df_new_from_known_mito_all_all = ours_hf_vs_gtex_all_107.loc[ours_hf_vs_gtex_all_107[\"chr\"] == \"MT\"].copy()"
   ]
  },
  {
   "cell_type": "code",
   "execution_count": 29,
   "id": "aac09ed1",
   "metadata": {},
   "outputs": [],
   "source": [
    "## Create sub-category separations\n",
    "df_new_from_new_all_all = ours_all_vs_gtex_all_107.loc[ours_all_vs_gtex_all_107[\"gene_id\"].str.contains(\"BambuGene\")].copy()\n",
    "df_new_from_known_all_all = ours_all_vs_gtex_all_107.loc[~ours_all_vs_gtex_all_107[\"gene_id\"].str.contains(\"BambuGene\")].copy() \n",
    "df_new_from_known_nuclear_all_all = df_new_from_known_all_all.loc[df_new_from_known_all_all[\"chr\"] != \"MT\"].copy()\n",
    "df_new_from_known_mito_all_all = df_new_from_known_all_all.loc[df_new_from_known_all_all[\"chr\"] == \"MT\"].copy()"
   ]
  },
  {
   "cell_type": "markdown",
   "id": "1886adda",
   "metadata": {},
   "source": [
    "## - Display results"
   ]
  },
  {
   "cell_type": "code",
   "execution_count": 30,
   "id": "f3bf0701",
   "metadata": {},
   "outputs": [
    {
     "name": "stdout",
     "output_type": "stream",
     "text": [
      "Number of HF transcripts: 700\n",
      "Number of HF transcripts NFK: 428\n",
      "Number of HF transcripts NFN: 267\n",
      "Number of HF transcripts NFM: 5\n",
      "\n",
      "Number of validated HF transcripts: 189\n",
      "Number of validated HF transcripts NFK: 152\n",
      "Number of validated HF transcripts NFN: 37\n",
      "Number of validated HF transcripts NFM: 0\n"
     ]
    }
   ],
   "source": [
    "print(\"Number of HF transcripts:\", hf_number)\n",
    "print(\"Number of HF transcripts NFK:\", \"428\")\n",
    "print(\"Number of HF transcripts NFN:\", \"267\")\n",
    "print(\"Number of HF transcripts NFM:\", \"5\")\n",
    "\n",
    "print()\n",
    "\n",
    "print(\"Number of validated HF transcripts:\", ours_hf_vs_gtex_all_107.shape[0])\n",
    "print(\"Number of validated HF transcripts NFK:\", df_new_from_known_nuclear_hf_all.shape[0])\n",
    "print(\"Number of validated HF transcripts NFN:\", df_new_from_new_hf_all.shape[0])\n",
    "print(\"Number of validated HF transcripts NFM:\", df_new_from_known_mito_all_all.shape[0])"
   ]
  },
  {
   "cell_type": "code",
   "execution_count": 31,
   "id": "9e2826f7",
   "metadata": {},
   "outputs": [
    {
     "name": "stdout",
     "output_type": "stream",
     "text": [
      "Number of ALL transcripts: 3429\n",
      "Number of ALL transcripts NFK: 1534\n",
      "Number of ALL transcripts NFN: 1860\n",
      "Number of ALL transcripts NFM: 34\n",
      "\n",
      "Number of validated ALL transcripts: 442\n",
      "Number of validated ALL transcripts NFK: 285\n",
      "Number of validated ALL transcripts NFN: 157\n",
      "Number of validated ALL transcripts NFM: 0\n"
     ]
    }
   ],
   "source": [
    "print(\"Number of ALL transcripts:\", all_number)\n",
    "print(\"Number of ALL transcripts NFK:\", str(all_nfk))\n",
    "print(\"Number of ALL transcripts NFN:\", str(all_nfn))\n",
    "print(\"Number of ALL transcripts NFM:\", str(all_nfm))\n",
    "\n",
    "print()\n",
    "\n",
    "print(\"Number of validated ALL transcripts:\", ours_all_vs_gtex_all_107.shape[0])\n",
    "print(\"Number of validated ALL transcripts NFK:\", df_new_from_known_nuclear_all_all.shape[0])\n",
    "print(\"Number of validated ALL transcripts NFN:\", df_new_from_new_all_all.shape[0])\n",
    "print(\"Number of validated ALL transcripts NFM:\", df_new_from_known_mito_all_all.shape[0])"
   ]
  },
  {
   "cell_type": "code",
   "execution_count": 32,
   "id": "0dbe7944",
   "metadata": {},
   "outputs": [],
   "source": [
    "## Set parameters for figures\n",
    "from matplotlib import rcParams\n",
    "mm = (1/25.4)\n",
    "\n",
    "# figure size in millimiters\n",
    "rcParams['figure.figsize'] = (85*mm, 90*mm)\n",
    "rcParams.update({'font.size': 7})\n",
    "rcParams['axes.linewidth'] = 1"
   ]
  },
  {
   "cell_type": "code",
   "execution_count": 37,
   "id": "f8f07b83",
   "metadata": {},
   "outputs": [
    {
     "data": {
      "image/png": "[encoded data removed]",
      "text/plain": [
       "<Figure size 334.646x354.331 with 1 Axes>"
      ]
     },
     "metadata": {},
     "output_type": "display_data"
    }
   ],
   "source": [
    "venn2(subsets=((3429 - 442), (gtex_all - 442), 442),\n",
    "      set_labels=('OURS\\n(no filter)', 'GTEx\\n(no filter)'),\n",
    "     set_colors=(ggplot2_colors[0], ggplot2_colors[4]), alpha=0.75)\n",
    "\n",
    "plt.title(\"All new transcripts\")\n",
    "\n",
    "plt.savefig('../../../figures/1st_rebuttal_figures/discovery_comparison_bambu_BA9/venn_OURS_ALL_new_vs_GTEX_BA9_all_new.pdf',\n",
    "            dpi=600, transparent=True, bbox_inches=\"tight\")"
   ]
  },
  {
   "cell_type": "code",
   "execution_count": 38,
   "id": "c69faa73",
   "metadata": {},
   "outputs": [
    {
     "data": {
      "image/png": "[encoded data removed]",
      "text/plain": [
       "<Figure size 334.646x354.331 with 1 Axes>"
      ]
     },
     "metadata": {},
     "output_type": "display_data"
    }
   ],
   "source": [
    "venn2(subsets=((700 - 189), (gtex_all - 189), 189),\n",
    "      set_labels=('OURS\\n(high-confidence)', 'GTEx\\n(no filter)'),\n",
    "     set_colors=(ggplot2_colors[0], ggplot2_colors[4]), alpha=0.75)\n",
    "\n",
    "plt.title(\"All new transcripts\")\n",
    "\n",
    "plt.savefig('../../../figures/1st_rebuttal_figures/discovery_comparison_bambu_BA9/venn_OURS_HF_new_vs_GTEX_BA9_all_new.pdf',\n",
    "            dpi=600, transparent=True, bbox_inches=\"tight\")"
   ]
  },
  {
   "cell_type": "code",
   "execution_count": 39,
   "id": "f9b9c095",
   "metadata": {},
   "outputs": [
    {
     "data": {
      "image/png": "[encoded data removed]",
      "text/plain": [
       "<Figure size 334.646x354.331 with 1 Axes>"
      ]
     },
     "metadata": {},
     "output_type": "display_data"
    }
   ],
   "source": [
    "venn2(subsets=((1534 - 157), (gtex_nfk - 157), 157),\n",
    "      set_labels=('OURS\\n(no filter)', 'GTEx\\n(no filter)'),\n",
    "     set_colors=(ggplot2_colors[0], ggplot2_colors[4]), alpha=0.75)\n",
    "\n",
    "plt.title(\"New transcripts from known gene bodies\")\n",
    "\n",
    "\n",
    "plt.savefig('../../../figures/1st_rebuttal_figures/discovery_comparison_bambu_BA9/venn_OURS_ALL_nfk_vs_GTEX_BA9_all_nfk.pdf',\n",
    "            dpi=600, transparent=True, bbox_inches=\"tight\")"
   ]
  },
  {
   "cell_type": "code",
   "execution_count": 40,
   "id": "514b79a1",
   "metadata": {},
   "outputs": [
    {
     "data": {
      "image/png": "[encoded data removed]",
      "text/plain": [
       "<Figure size 334.646x354.331 with 1 Axes>"
      ]
     },
     "metadata": {},
     "output_type": "display_data"
    }
   ],
   "source": [
    "venn2(subsets=((700 - 152), (gtex_nfk - 152), 152),\n",
    "      set_labels=('OURS\\n(high-confidence)', 'GTEx\\n(no filter)'),\n",
    "     set_colors=(ggplot2_colors[0], ggplot2_colors[4]), alpha=0.75)\n",
    "\n",
    "plt.title(\"New transcripts from known gene bodies\")\n",
    "\n",
    "\n",
    "plt.savefig('../../../figures/1st_rebuttal_figures/discovery_comparison_bambu_BA9/venn_OURS_HF_nfk_vs_GTEX_BA9_all_nfk.pdf',\n",
    "            dpi=600, transparent=True, bbox_inches=\"tight\")"
   ]
  },
  {
   "cell_type": "code",
   "execution_count": 41,
   "id": "6a57c0a7",
   "metadata": {},
   "outputs": [
    {
     "data": {
      "image/png": "[encoded data removed]",
      "text/plain": [
       "<Figure size 334.646x354.331 with 1 Axes>"
      ]
     },
     "metadata": {},
     "output_type": "display_data"
    }
   ],
   "source": [
    "venn2(subsets=((1860 - 157), (gtex_nfn - 157), 157),\n",
    "      set_labels=('OURS\\n(no filter)', 'GTEx\\n(no filter)'),\n",
    "     set_colors=(ggplot2_colors[0], ggplot2_colors[4]), alpha=0.75)\n",
    "\n",
    "plt.title(\"New transcripts from new gene bodies\")\n",
    "\n",
    "\n",
    "plt.savefig('../../../figures/1st_rebuttal_figures/discovery_comparison_bambu_BA9/venn_OURS_ALL_nfn_vs_GTEX_BA9_all_nfn.pdf',\n",
    "            dpi=600, transparent=True, bbox_inches=\"tight\")"
   ]
  },
  {
   "cell_type": "code",
   "execution_count": 42,
   "id": "00ca438f",
   "metadata": {},
   "outputs": [
    {
     "data": {
      "image/png": "[encoded data removed]",
      "text/plain": [
       "<Figure size 334.646x354.331 with 1 Axes>"
      ]
     },
     "metadata": {},
     "output_type": "display_data"
    }
   ],
   "source": [
    "venn2(subsets=((267 - 37), (gtex_nfn - 37), 37),\n",
    "      set_labels=('OURS\\n(high-confidence)', 'GTEx\\n(no filter)'),\n",
    "     set_colors=(ggplot2_colors[0], ggplot2_colors[4]), alpha=0.75)\n",
    "\n",
    "plt.title(\"New transcripts from new gene bodies\")\n",
    "\n",
    "plt.savefig('../../../figures/1st_rebuttal_figures/discovery_comparison_bambu_BA9/venn_OURS_HF_nfn_vs_GTEX_BA9_all_nfn.pdf',\n",
    "            dpi=600, transparent=True, bbox_inches=\"tight\")"
   ]
  },
  {
   "cell_type": "code",
   "execution_count": 44,
   "id": "34fce336",
   "metadata": {},
   "outputs": [
    {
     "data": {
      "text/plain": [
       "0"
      ]
     },
     "execution_count": 44,
     "metadata": {},
     "output_type": "execute_result"
    }
   ],
   "source": [
    "gtex_nfm"
   ]
  },
  {
   "cell_type": "code",
   "execution_count": 43,
   "id": "98c490b8",
   "metadata": {},
   "outputs": [
    {
     "data": {
      "image/png": "[encoded data removed]",
      "text/plain": [
       "<Figure size 334.646x354.331 with 1 Axes>"
      ]
     },
     "metadata": {},
     "output_type": "display_data"
    }
   ],
   "source": [
    "venn2(subsets=((34 - 0), (gtex_nfm - 0), 0),\n",
    "      set_labels=('OURS\\n(no filter)', 'GTEx\\n(no filter)'),\n",
    "     set_colors=(ggplot2_colors[0], ggplot2_colors[4]), alpha=0.75)\n",
    "\n",
    "plt.title(\"New mitochondrially encoded spliced transcripts\")\n",
    "\n",
    "plt.savefig('../../../figures/1st_rebuttal_figures/discovery_comparison_bambu_BA9/venn_OURS_ALL_nfm_vs_GTEX_BA9_all_nfm.pdf',\n",
    "            dpi=600, transparent=True, bbox_inches=\"tight\")"
   ]
  },
  {
   "cell_type": "code",
   "execution_count": 45,
   "id": "684b6f38",
   "metadata": {},
   "outputs": [
    {
     "data": {
      "image/png": "[encoded data removed]",
      "text/plain": [
       "<Figure size 334.646x354.331 with 1 Axes>"
      ]
     },
     "metadata": {},
     "output_type": "display_data"
    }
   ],
   "source": [
    "venn2(subsets=((5 - 0), (gtex_nfm - 0), 0),\n",
    "      set_labels=('OURS\\n(high-confidence)', 'GTEx\\n(no filter)'),\n",
    "     set_colors=(ggplot2_colors[0], ggplot2_colors[4]), alpha=0.75)\n",
    "\n",
    "plt.title(\"New mitochondrially encoded spliced transcripts\")\n",
    "\n",
    "plt.savefig('../../../figures/1st_rebuttal_figures/discovery_comparison_bambu_BA9/venn_OURS_HF_nfm_vs_GTEX_BA9_all_nfm.pdf',\n",
    "            dpi=600, transparent=True, bbox_inches=\"tight\")"
   ]
  },
  {
   "cell_type": "markdown",
   "id": "f26b3e89",
   "metadata": {},
   "source": [
    "## - Make output table"
   ]
  },
  {
   "cell_type": "code",
   "execution_count": 47,
   "id": "d1bfbad2",
   "metadata": {},
   "outputs": [],
   "source": [
    "## Download data\n",
    "ours_hf_vs_GTEX_BA9_all_107 = pd.read_csv(\"../../../data/processed/1st_rebuttal/discovery_comparison_bambu_BA9/OURS_HF_vs_GTEx_BA9_ENSEMBL_107_ALL.tracking\", sep=\"\\t\", header=None, usecols=[2,3,4],\n",
    "                         names=[\"gtex_107_all_name\", \"category\", \"our_name\"])\n",
    "\n",
    "ours_all_vs_GTEX_BA9_all_107 = pd.read_csv(\"../../../data/processed/1st_rebuttal/discovery_comparison_bambu_BA9/OURS_ALL_vs_GTEx_BA9_ENSEMBL_107_ALL.tracking\", sep=\"\\t\", header=None, usecols=[2,3,4],\n",
    "                         names=[\"gtex_107_all_name\", \"category\", \"our_name\"])"
   ]
  },
  {
   "cell_type": "code",
   "execution_count": 48,
   "id": "0b4977ea",
   "metadata": {},
   "outputs": [],
   "source": [
    "## Was same transcript idenpendently discovered with ENSEMBL 107 using Bambu on GTEx data\n",
    "ours_all_vs_GTEX_BA9_all_107.loc[ours_all_vs_GTEX_BA9_all_107[\"category\"] == \"=\", \"is_independently_discovered_in_GTEx_using_Bambu_with_ENSEMBL_107\"] = True\n",
    "ours_all_vs_GTEX_BA9_all_107.loc[~(ours_all_vs_GTEX_BA9_all_107[\"category\"] == \"=\"), \"is_independently_discovered_in_GTEx_using_Bambu_with_ENSEMBL_107\"] = False"
   ]
  },
  {
   "cell_type": "code",
   "execution_count": 49,
   "id": "9065ad8e",
   "metadata": {},
   "outputs": [],
   "source": [
    "## Create gene_id and transcript_id\n",
    "ours_hf_vs_GTEX_BA9_all_107[\"gene_id\"] = ours_hf_vs_GTEX_BA9_all_107[\"our_name\"].str.split(\":\", expand=True)[1].str.split(\"|\", expand=True)[0]\n",
    "ours_hf_vs_GTEX_BA9_all_107[\"transcript_id\"] = ours_hf_vs_GTEX_BA9_all_107[\"our_name\"].str.split(\":\", expand=True)[1].str.split(\"|\", expand=True)[1]\n",
    "\n",
    "ours_all_vs_GTEX_BA9_all_107[\"gene_id\"] = ours_all_vs_GTEX_BA9_all_107[\"our_name\"].str.split(\":\", expand=True)[1].str.split(\"|\", expand=True)[0]\n",
    "ours_all_vs_GTEX_BA9_all_107[\"transcript_id\"] = ours_all_vs_GTEX_BA9_all_107[\"our_name\"].str.split(\":\", expand=True)[1].str.split(\"|\", expand=True)[1]"
   ]
  },
  {
   "cell_type": "code",
   "execution_count": 50,
   "id": "dc957c63",
   "metadata": {},
   "outputs": [],
   "source": [
    "\n",
    "ours_all_vs_GTEX_BA9_all_107.loc[ours_all_vs_GTEX_BA9_all_107[\"transcript_id\"].isin(ours_hf_vs_GTEX_BA9_all_107[\"transcript_id\"]), \"is_high-confidence\"] = True\n",
    "ours_all_vs_GTEX_BA9_all_107.loc[~(ours_all_vs_GTEX_BA9_all_107[\"transcript_id\"].isin(ours_hf_vs_GTEX_BA9_all_107[\"transcript_id\"])), \"is_high-confidence\"] = False"
   ]
  },
  {
   "cell_type": "code",
   "execution_count": 51,
   "id": "be5d9b1b",
   "metadata": {},
   "outputs": [],
   "source": [
    "ours_all_vs_GTEX_BA9_all_107 = ours_all_vs_GTEX_BA9_all_107.merge(orig_ref[[\"gene_id\", \"gene_name\", \"chr\"]], on=\"gene_id\", how=\"left\")\n",
    "ours_all_vs_GTEX_BA9_all_107['gene_name'].fillna(ours_all_vs_GTEX_BA9_all_107['gene_id'], inplace=True)"
   ]
  },
  {
   "cell_type": "code",
   "execution_count": 52,
   "id": "1ebd0313",
   "metadata": {},
   "outputs": [],
   "source": [
    "## Create Category for transcripts and store values\n",
    "\n",
    "ref_transcripts = ref_transcripts.loc[ref_transcripts[\"transcript_id\"].str.startswith(\"BambuTx\")].copy()\n",
    "\n",
    "ref_transcripts.loc[ref_transcripts[\"gene_id\"].str.startswith(\"BambuGene\"), \"discovery_type\"] = \"New transcript from new gene body\"\n",
    "ref_transcripts.loc[~(ref_transcripts[\"gene_id\"].str.startswith(\"BambuGene\")), \"discovery_type\"] = \"New transcript from known gene body\"\n",
    "ref_transcripts.loc[ref_transcripts[\"chr\"] == \"MT\", \"discovery_type\"] = \"New mitochondrially encoded spliced transcript\""
   ]
  },
  {
   "cell_type": "code",
   "execution_count": 53,
   "id": "cbc03dc4",
   "metadata": {},
   "outputs": [],
   "source": [
    "## Add type of new transcript\n",
    "ours_all_vs_GTEX_BA9_all_107 = ours_all_vs_GTEX_BA9_all_107.merge(ref_transcripts[[\"transcript_id\", \"discovery_type\"]], on=\"transcript_id\", how=\"inner\")"
   ]
  },
  {
   "cell_type": "code",
   "execution_count": 54,
   "id": "9bbcf6e0",
   "metadata": {},
   "outputs": [],
   "source": [
    "## Reorder columns\n",
    "ours_all_vs_GTEX_BA9_all_107 = ours_all_vs_GTEX_BA9_all_107[['chr', 'gene_id', 'gene_name', 'transcript_id', \n",
    "                                                     'is_independently_discovered_in_GTEx_using_Bambu_with_ENSEMBL_107',\n",
    "                                                     'is_high-confidence', 'discovery_type']].copy()"
   ]
  },
  {
   "cell_type": "code",
   "execution_count": 56,
   "id": "30211251",
   "metadata": {},
   "outputs": [],
   "source": [
    "## Save file\n",
    "ours_all_vs_GTEX_BA9_all_107.to_csv(\"../../../data/processed/1st_rebuttal/discovery_comparison_bambu_BA9/independent_discovery_validation_table_BA9_only.tsv\",\n",
    "                               sep=\"\\t\", index=False)"
   ]
  }
 ],
 "metadata": {
  "kernelspec": {
   "display_name": "Python 3 (ipykernel)",
   "language": "python",
   "name": "python3"
  },
  "language_info": {
   "codemirror_mode": {
    "name": "ipython",
    "version": 3
   },
   "file_extension": ".py",
   "mimetype": "text/x-python",
   "name": "python",
   "nbconvert_exporter": "python",
   "pygments_lexer": "ipython3",
   "version": "3.10.10"
  }
 },
 "nbformat": 4,
 "nbformat_minor": 5
}
