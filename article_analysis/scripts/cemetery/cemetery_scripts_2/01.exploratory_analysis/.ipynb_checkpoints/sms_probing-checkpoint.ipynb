{
 "cells": [
  {
   "cell_type": "code",
   "execution_count": 1,
   "id": "e1206944",
   "metadata": {},
   "outputs": [],
   "source": [
    "## Import Libraries\n",
    "import pandas as pd\n",
    "import numpy as np\n",
    "import csv\n",
    "import matplotlib.pyplot as plt\n",
    "%matplotlib inline\n",
    "import openpyxl\n",
    "\n",
    "pd.set_option(\"max_colwidth\", None)\n",
    "pd.set_option('display.max_columns', None)\n",
    "pd.set_option('display.max_rows', None)"
   ]
  },
  {
   "cell_type": "code",
   "execution_count": 2,
   "id": "7d87c847",
   "metadata": {},
   "outputs": [],
   "source": [
    "'''\n",
    "function name: parse_df_columns\n",
    "\n",
    "purpose: parsing the last aggregate column of the gtf/gff3 into useful columns and cleaning non-relevant columns\n",
    "\n",
    "input: dataframe containining \"raw\" gtf/gff\n",
    "\n",
    "output: dataframe containing gtf with useful columns [\"gene_id\", \"transcript_id\", etc...]\n",
    "'''\n",
    "\n",
    "def parse_df_columns(df, is_ref=True):\n",
    "\n",
    "    if is_ref:\n",
    "\n",
    "        ## Get gene ids\n",
    "        df[\"gene_id\"] = df[\"other\"].str.split(\"source_gene=\", expand=True)[1].str.split(';', expand=True)[0]\n",
    "        \n",
    "        ## Get gene names\n",
    "        df[\"gene_name\"] = df[\"other\"].str.split(\"source_gene_common_name=\", expand=True)[1].str.split(';', expand=True)[0]\n",
    "        \n",
    "        ## Only keep relevant\n",
    "        df = df[[\"chr\", \"gene_id\", \"gene_name\"]].copy()\n",
    "\n",
    "        ## Drop duplicates\n",
    "        df.drop_duplicates(inplace=True)\n",
    "        \n",
    "\n",
    "    else:\n",
    "\n",
    "        ## Get CHM gene ids\n",
    "        df[\"gene_id\"] = df[\"other\"].str.split('\";', expand=True)[0].str.extract(\"([^ \\\"]*$)\", expand=True)\n",
    "\n",
    "        ## Drop \"other\" column\n",
    "        df = df[[\"chr\", \"gene_id\"]].copy()\n",
    "        \n",
    "    for col in df.columns:\n",
    "        df.loc[df[col].isnull(), col] = np.NaN\n",
    "        \n",
    "\n",
    "    return df"
   ]
  },
  {
   "cell_type": "code",
   "execution_count": 3,
   "id": "7ca5f251",
   "metadata": {},
   "outputs": [],
   "source": [
    "'''\n",
    "function name: calculate_cpm\n",
    "\n",
    "purpose: Calculate CPM for the each sample given\n",
    "\n",
    "input: Counts dataset\n",
    "\n",
    "output: Counts dataset with CPM columns as well\n",
    "'''\n",
    "\n",
    "def calculate_cpm(df):\n",
    "\n",
    "    ## Loop through counts columns to calculate CPM and add to the dataframe\n",
    "    for col in [\"total_counts\"]:\n",
    "        \n",
    "        df[col] = round(df[col], 2)\n",
    "        cpm_name = \"average_CPM\"\n",
    "        df[cpm_name] = round(((df[col]/(df[col].sum())) * 1000000), 2)\n",
    "    \n",
    "    return df "
   ]
  },
  {
   "cell_type": "code",
   "execution_count": 4,
   "id": "bf3657a5",
   "metadata": {},
   "outputs": [],
   "source": [
    "## Import transcripts\n",
    "df_transcripts = pd.read_csv(\"../../data/raw/merged_uky_cshl_GRCh38-107_discovery/bambu_discovery/counts_transcript.txt\",\n",
    "        sep=\"\\t\", low_memory=False, header=0)"
   ]
  },
  {
   "cell_type": "code",
   "execution_count": 5,
   "id": "310e6fd9",
   "metadata": {},
   "outputs": [],
   "source": [
    "## Import Genes\n",
    "df_genes = pd.read_csv(\"../../data/raw/merged_uky_cshl_GRCh38-107_discovery/bambu_discovery/counts_gene.txt\",\n",
    "        sep=\"\\t\", low_memory=False, header=0)"
   ]
  },
  {
   "cell_type": "code",
   "execution_count": 6,
   "id": "da9c4de0",
   "metadata": {},
   "outputs": [],
   "source": [
    "## Get total counts for genes and transcripts\n",
    "df_genes[\"total_counts\"] = df_genes[df_genes.columns[1:]].sum(axis=1)\n",
    "df_transcripts[\"total_counts\"] = df_transcripts[df_transcripts.columns[2:]].sum(axis=1)"
   ]
  },
  {
   "cell_type": "code",
   "execution_count": 7,
   "id": "c29ba1fd",
   "metadata": {},
   "outputs": [],
   "source": [
    "## Get average counts for genes and transcripts\n",
    "df_genes[\"average_counts\"] = df_genes[\"total_counts\"]/4\n",
    "df_transcripts[\"average_counts\"] = df_transcripts[\"total_counts\"]/4"
   ]
  },
  {
   "cell_type": "code",
   "execution_count": 8,
   "id": "9d3f9c12",
   "metadata": {},
   "outputs": [],
   "source": [
    "## Only keep genes and transcripts with more than 0 counts\n",
    "df_genes = df_genes.loc[df_genes[\"total_counts\"] > 0].copy()\n",
    "df_transcripts = df_transcripts.loc[df_transcripts[\"total_counts\"] > 0].copy()"
   ]
  },
  {
   "cell_type": "code",
   "execution_count": 9,
   "id": "43a6b511",
   "metadata": {},
   "outputs": [],
   "source": [
    "## Calculate percentile\n",
    "df_genes['percentile'] = df_genes[\"total_counts\"].rank(pct=True)"
   ]
  },
  {
   "cell_type": "code",
   "execution_count": 10,
   "id": "15e399e6",
   "metadata": {},
   "outputs": [],
   "source": [
    "## Calculate Rank\n",
    "df_genes['rank'] = df_genes[\"total_counts\"].rank(ascending=False)"
   ]
  },
  {
   "cell_type": "code",
   "execution_count": 11,
   "id": "6eaeae07",
   "metadata": {},
   "outputs": [
    {
     "data": {
      "text/html": [
       "<div>\n",
       "<style scoped>\n",
       "    .dataframe tbody tr th:only-of-type {\n",
       "        vertical-align: middle;\n",
       "    }\n",
       "\n",
       "    .dataframe tbody tr th {\n",
       "        vertical-align: top;\n",
       "    }\n",
       "\n",
       "    .dataframe thead th {\n",
       "        text-align: right;\n",
       "    }\n",
       "</style>\n",
       "<table border=\"1\" class=\"dataframe\">\n",
       "  <thead>\n",
       "    <tr style=\"text-align: right;\">\n",
       "      <th></th>\n",
       "      <th>cshl_356_uky_mapped_filtered_sorted</th>\n",
       "      <th>cshl_1271_uky_mapped_filtered_sorted</th>\n",
       "      <th>cshl_1291_uky_mapped_filtered_sorted</th>\n",
       "      <th>cshl_1304_uky_mapped_filtered_sorted</th>\n",
       "      <th>total_counts</th>\n",
       "      <th>average_counts</th>\n",
       "      <th>percentile</th>\n",
       "      <th>rank</th>\n",
       "    </tr>\n",
       "  </thead>\n",
       "  <tbody>\n",
       "    <tr>\n",
       "      <th>ENSG00000102172</th>\n",
       "      <td>2773</td>\n",
       "      <td>6560</td>\n",
       "      <td>3244</td>\n",
       "      <td>5434</td>\n",
       "      <td>15238</td>\n",
       "      <td>3809.5</td>\n",
       "      <td>0.958135</td>\n",
       "      <td>2160.5</td>\n",
       "    </tr>\n",
       "  </tbody>\n",
       "</table>\n",
       "</div>"
      ],
      "text/plain": [
       "                 cshl_356_uky_mapped_filtered_sorted  \\\n",
       "ENSG00000102172                                 2773   \n",
       "\n",
       "                 cshl_1271_uky_mapped_filtered_sorted  \\\n",
       "ENSG00000102172                                  6560   \n",
       "\n",
       "                 cshl_1291_uky_mapped_filtered_sorted  \\\n",
       "ENSG00000102172                                  3244   \n",
       "\n",
       "                 cshl_1304_uky_mapped_filtered_sorted  total_counts  \\\n",
       "ENSG00000102172                                  5434         15238   \n",
       "\n",
       "                 average_counts  percentile    rank  \n",
       "ENSG00000102172          3809.5    0.958135  2160.5  "
      ]
     },
     "execution_count": 11,
     "metadata": {},
     "output_type": "execute_result"
    }
   ],
   "source": [
    "## See rank for SMS\n",
    "## Respectively: ENSG00000102172\n",
    "df_genes.loc[df_genes.index.str.contains(\"ENSG00000102172\")]"
   ]
  },
  {
   "cell_type": "code",
   "execution_count": 12,
   "id": "e9c92a3a",
   "metadata": {},
   "outputs": [],
   "source": [
    "## Get total counts for all genes with more than 0 counts\n",
    "total_counts = df_genes[\"total_counts\"]"
   ]
  },
  {
   "cell_type": "code",
   "execution_count": 13,
   "id": "de003a00",
   "metadata": {},
   "outputs": [],
   "source": [
    "## Get log total counts\n",
    "log_total_counts = np.log10(df_genes[\"total_counts\"])"
   ]
  },
  {
   "cell_type": "code",
   "execution_count": 14,
   "id": "0ffd258b",
   "metadata": {},
   "outputs": [
    {
     "name": "stdout",
     "output_type": "stream",
     "text": [
      "SMS Log Expression: 4.182927969236992\n"
     ]
    }
   ],
   "source": [
    "print(\"SMS Log Expression:\", log_total_counts[\"ENSG00000102172\"])"
   ]
  },
  {
   "cell_type": "code",
   "execution_count": 15,
   "id": "53bd500f",
   "metadata": {},
   "outputs": [],
   "source": [
    "## Use ggplot colors\n",
    "ggplot2_colors = [\"#F8766D\", \"#CD9600\", \"#7CAE00\", \"#00BE67\", \"#00BFC4\", \"#00A9FF\", \"#C77CFF\", \"#FF61CC\"]"
   ]
  },
  {
   "cell_type": "code",
   "execution_count": 16,
   "id": "7432c758",
   "metadata": {},
   "outputs": [
    {
     "data": {
      "image/png": "[encoded data removed]",
      "text/plain": [
       "<Figure size 432x288 with 1 Axes>"
      ]
     },
     "metadata": {
      "needs_background": "light"
     },
     "output_type": "display_data"
    }
   ],
   "source": [
    "## Create log plot\n",
    "\n",
    "fig, ax = plt.subplots(figsize = (6,4))\n",
    "\n",
    "\n",
    "log_total_counts.plot(kind = \"hist\", density = True, bins = 100, color=\"#F8766D\", alpha=0.5) # change density to true, because KDE uses density\n",
    "\n",
    "\n",
    "log_total_counts.plot(kind = \"kde\", color=\"#CD9600\", alpha=1)\n",
    "\n",
    "ax.set_xlabel(\"Log10 Total Counts\")\n",
    "\n",
    "\n",
    "ax.set_title(\"Histogram of Total Read Counts per Gene\")\n",
    "\n",
    "ax.axvline(4.18, alpha=1, ymax = 0.85, linestyle = \":\", color=\"#7CAE00\")\n",
    "\n",
    "\n",
    "ax.text(4.18 - 0.5, 0.59, \"SMS\", size = 12, alpha = 1, color=\"#7CAE00\")\n",
    "\n",
    "\n",
    "plt.show()"
   ]
  },
  {
   "cell_type": "markdown",
   "id": "fb0fbf6d",
   "metadata": {},
   "source": [
    "#####################################################################################################"
   ]
  },
  {
   "cell_type": "code",
   "execution_count": 17,
   "id": "c4c50dbe",
   "metadata": {},
   "outputs": [
    {
     "data": {
      "text/html": [
       "<div>\n",
       "<style scoped>\n",
       "    .dataframe tbody tr th:only-of-type {\n",
       "        vertical-align: middle;\n",
       "    }\n",
       "\n",
       "    .dataframe tbody tr th {\n",
       "        vertical-align: top;\n",
       "    }\n",
       "\n",
       "    .dataframe thead th {\n",
       "        text-align: right;\n",
       "    }\n",
       "</style>\n",
       "<table border=\"1\" class=\"dataframe\">\n",
       "  <thead>\n",
       "    <tr style=\"text-align: right;\">\n",
       "      <th></th>\n",
       "      <th>TXNAME</th>\n",
       "      <th>GENEID</th>\n",
       "      <th>cshl_356_uky_mapped_filtered_sorted</th>\n",
       "      <th>cshl_1271_uky_mapped_filtered_sorted</th>\n",
       "      <th>cshl_1291_uky_mapped_filtered_sorted</th>\n",
       "      <th>cshl_1304_uky_mapped_filtered_sorted</th>\n",
       "      <th>total_counts</th>\n",
       "      <th>average_counts</th>\n",
       "    </tr>\n",
       "  </thead>\n",
       "  <tbody>\n",
       "    <tr>\n",
       "      <th>0</th>\n",
       "      <td>tx.1</td>\n",
       "      <td>ENSG00000078808</td>\n",
       "      <td>638.547019</td>\n",
       "      <td>545.271793</td>\n",
       "      <td>570.311659</td>\n",
       "      <td>918.306555</td>\n",
       "      <td>2672.437026</td>\n",
       "      <td>668.109257</td>\n",
       "    </tr>\n",
       "    <tr>\n",
       "      <th>1</th>\n",
       "      <td>tx.2</td>\n",
       "      <td>ENSG00000008130</td>\n",
       "      <td>86.895137</td>\n",
       "      <td>135.226654</td>\n",
       "      <td>157.979474</td>\n",
       "      <td>89.532209</td>\n",
       "      <td>469.633474</td>\n",
       "      <td>117.408369</td>\n",
       "    </tr>\n",
       "    <tr>\n",
       "      <th>2</th>\n",
       "      <td>tx.3</td>\n",
       "      <td>gene.4578</td>\n",
       "      <td>28.000000</td>\n",
       "      <td>69.000000</td>\n",
       "      <td>162.000000</td>\n",
       "      <td>67.000000</td>\n",
       "      <td>326.000000</td>\n",
       "      <td>81.500000</td>\n",
       "    </tr>\n",
       "    <tr>\n",
       "      <th>3</th>\n",
       "      <td>tx.4</td>\n",
       "      <td>ENSG00000116663</td>\n",
       "      <td>89.692718</td>\n",
       "      <td>71.295613</td>\n",
       "      <td>43.156208</td>\n",
       "      <td>154.145707</td>\n",
       "      <td>358.290246</td>\n",
       "      <td>89.572562</td>\n",
       "    </tr>\n",
       "    <tr>\n",
       "      <th>4</th>\n",
       "      <td>tx.5</td>\n",
       "      <td>gene.5343</td>\n",
       "      <td>45.000000</td>\n",
       "      <td>28.000000</td>\n",
       "      <td>51.000000</td>\n",
       "      <td>26.000000</td>\n",
       "      <td>150.000000</td>\n",
       "      <td>37.500000</td>\n",
       "    </tr>\n",
       "  </tbody>\n",
       "</table>\n",
       "</div>"
      ],
      "text/plain": [
       "  TXNAME           GENEID  cshl_356_uky_mapped_filtered_sorted  \\\n",
       "0   tx.1  ENSG00000078808                           638.547019   \n",
       "1   tx.2  ENSG00000008130                            86.895137   \n",
       "2   tx.3        gene.4578                            28.000000   \n",
       "3   tx.4  ENSG00000116663                            89.692718   \n",
       "4   tx.5        gene.5343                            45.000000   \n",
       "\n",
       "   cshl_1271_uky_mapped_filtered_sorted  cshl_1291_uky_mapped_filtered_sorted  \\\n",
       "0                            545.271793                            570.311659   \n",
       "1                            135.226654                            157.979474   \n",
       "2                             69.000000                            162.000000   \n",
       "3                             71.295613                             43.156208   \n",
       "4                             28.000000                             51.000000   \n",
       "\n",
       "   cshl_1304_uky_mapped_filtered_sorted  total_counts  average_counts  \n",
       "0                            918.306555   2672.437026      668.109257  \n",
       "1                             89.532209    469.633474      117.408369  \n",
       "2                             67.000000    326.000000       81.500000  \n",
       "3                            154.145707    358.290246       89.572562  \n",
       "4                             26.000000    150.000000       37.500000  "
      ]
     },
     "execution_count": 17,
     "metadata": {},
     "output_type": "execute_result"
    }
   ],
   "source": [
    "df_transcripts.head()"
   ]
  },
  {
   "cell_type": "code",
   "execution_count": 18,
   "id": "54022f85",
   "metadata": {},
   "outputs": [],
   "source": [
    "df_transcripts.columns = [\"TXNAME\", \"GENEID\", \"356_counts\", \"1271_counts\", \"1291_counts\", \"1304_counts\",\n",
    "                          \"total_counts\", \"average_counts\"]"
   ]
  },
  {
   "cell_type": "code",
   "execution_count": 19,
   "id": "7ea1ed0c",
   "metadata": {},
   "outputs": [],
   "source": [
    "df_t_cpm = calculate_cpm(df_transcripts)"
   ]
  },
  {
   "cell_type": "code",
   "execution_count": 20,
   "id": "af8e5a1c",
   "metadata": {
    "scrolled": false
   },
   "outputs": [
    {
     "data": {
      "text/html": [
       "<div>\n",
       "<style scoped>\n",
       "    .dataframe tbody tr th:only-of-type {\n",
       "        vertical-align: middle;\n",
       "    }\n",
       "\n",
       "    .dataframe tbody tr th {\n",
       "        vertical-align: top;\n",
       "    }\n",
       "\n",
       "    .dataframe thead th {\n",
       "        text-align: right;\n",
       "    }\n",
       "</style>\n",
       "<table border=\"1\" class=\"dataframe\">\n",
       "  <thead>\n",
       "    <tr style=\"text-align: right;\">\n",
       "      <th></th>\n",
       "      <th>TXNAME</th>\n",
       "      <th>GENEID</th>\n",
       "      <th>356_counts</th>\n",
       "      <th>1271_counts</th>\n",
       "      <th>1291_counts</th>\n",
       "      <th>1304_counts</th>\n",
       "      <th>total_counts</th>\n",
       "      <th>average_counts</th>\n",
       "      <th>average_CPM</th>\n",
       "    </tr>\n",
       "  </thead>\n",
       "  <tbody>\n",
       "    <tr>\n",
       "      <th>36477</th>\n",
       "      <td>ENST00000404933</td>\n",
       "      <td>ENSG00000102172</td>\n",
       "      <td>1.808993e+03</td>\n",
       "      <td>3140.098371</td>\n",
       "      <td>2370.426387</td>\n",
       "      <td>3736.715040</td>\n",
       "      <td>11056.23</td>\n",
       "      <td>2764.058077</td>\n",
       "      <td>33.06</td>\n",
       "    </tr>\n",
       "    <tr>\n",
       "      <th>776</th>\n",
       "      <td>tx.777</td>\n",
       "      <td>ENSG00000102172</td>\n",
       "      <td>9.496252e+02</td>\n",
       "      <td>3333.128455</td>\n",
       "      <td>832.429487</td>\n",
       "      <td>1648.788250</td>\n",
       "      <td>6763.97</td>\n",
       "      <td>1690.992836</td>\n",
       "      <td>20.23</td>\n",
       "    </tr>\n",
       "    <tr>\n",
       "      <th>27272</th>\n",
       "      <td>ENST00000379404</td>\n",
       "      <td>ENSG00000102172</td>\n",
       "      <td>8.247734e+00</td>\n",
       "      <td>80.734498</td>\n",
       "      <td>37.083271</td>\n",
       "      <td>44.459524</td>\n",
       "      <td>170.53</td>\n",
       "      <td>42.631257</td>\n",
       "      <td>0.51</td>\n",
       "    </tr>\n",
       "    <tr>\n",
       "      <th>67523</th>\n",
       "      <td>ENST00000457085</td>\n",
       "      <td>ENSG00000102172</td>\n",
       "      <td>6.134605e+00</td>\n",
       "      <td>1.012331</td>\n",
       "      <td>3.041372</td>\n",
       "      <td>2.026489</td>\n",
       "      <td>12.21</td>\n",
       "      <td>3.053699</td>\n",
       "      <td>0.04</td>\n",
       "    </tr>\n",
       "    <tr>\n",
       "      <th>83560</th>\n",
       "      <td>ENST00000478094</td>\n",
       "      <td>ENSG00000102172</td>\n",
       "      <td>3.329920e-11</td>\n",
       "      <td>5.026345</td>\n",
       "      <td>1.019483</td>\n",
       "      <td>2.010697</td>\n",
       "      <td>8.06</td>\n",
       "      <td>2.014131</td>\n",
       "      <td>0.02</td>\n",
       "    </tr>\n",
       "  </tbody>\n",
       "</table>\n",
       "</div>"
      ],
      "text/plain": [
       "                TXNAME           GENEID    356_counts  1271_counts  \\\n",
       "36477  ENST00000404933  ENSG00000102172  1.808993e+03  3140.098371   \n",
       "776             tx.777  ENSG00000102172  9.496252e+02  3333.128455   \n",
       "27272  ENST00000379404  ENSG00000102172  8.247734e+00    80.734498   \n",
       "67523  ENST00000457085  ENSG00000102172  6.134605e+00     1.012331   \n",
       "83560  ENST00000478094  ENSG00000102172  3.329920e-11     5.026345   \n",
       "\n",
       "       1291_counts  1304_counts  total_counts  average_counts  average_CPM  \n",
       "36477  2370.426387  3736.715040      11056.23     2764.058077        33.06  \n",
       "776     832.429487  1648.788250       6763.97     1690.992836        20.23  \n",
       "27272    37.083271    44.459524        170.53       42.631257         0.51  \n",
       "67523     3.041372     2.026489         12.21        3.053699         0.04  \n",
       "83560     1.019483     2.010697          8.06        2.014131         0.02  "
      ]
     },
     "execution_count": 20,
     "metadata": {},
     "output_type": "execute_result"
    }
   ],
   "source": [
    "## Look at PSEN1 expression\n",
    "df_t_cpm.loc[df_t_cpm[\"GENEID\"].str.contains(\"ENSG00000102172\")].sort_values(by=\"average_CPM\", ascending=False)"
   ]
  },
  {
   "cell_type": "code",
   "execution_count": null,
   "id": "d466b75f",
   "metadata": {},
   "outputs": [],
   "source": []
  }
 ],
 "metadata": {
  "kernelspec": {
   "display_name": "Python 3 (ipykernel)",
   "language": "python",
   "name": "python3"
  },
  "language_info": {
   "codemirror_mode": {
    "name": "ipython",
    "version": 3
   },
   "file_extension": ".py",
   "mimetype": "text/x-python",
   "name": "python",
   "nbconvert_exporter": "python",
   "pygments_lexer": "ipython3",
   "version": "3.10.6"
  }
 },
 "nbformat": 4,
 "nbformat_minor": 5
}
