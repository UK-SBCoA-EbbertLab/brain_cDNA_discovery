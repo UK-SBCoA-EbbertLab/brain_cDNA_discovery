{
 "cells": [
  {
   "cell_type": "code",
   "execution_count": 1,
   "id": "64962c3b",
   "metadata": {},
   "outputs": [],
   "source": [
    "## Load libraries\n",
    "import pandas as pd\n",
    "import numpy as np"
   ]
  },
  {
   "cell_type": "code",
   "execution_count": 2,
   "id": "6a866a39",
   "metadata": {},
   "outputs": [],
   "source": [
    "'''\n",
    "function name: fix_column_names\n",
    "\n",
    "purpose: Fixing the column names, making them smaller, informative, and consistent\n",
    "\n",
    "input: The raw counts dataframe for either genes or transcripts \n",
    "\n",
    "output: Same dataframe with improved column names\n",
    "'''\n",
    "\n",
    "def fix_column_names(df, is_gene=False):\n",
    "    \n",
    "    ## Check if this is a gene counts object\n",
    "    if is_gene:\n",
    "        \n",
    "        ## Get count column names and create list of new column names\n",
    "        count_columns = df.columns[1:].tolist()\n",
    "        list_new_names = [\"gene_id\"]\n",
    "    \n",
    "    ## If it is a transcript dataset\n",
    "    else:\n",
    "        ## Set count columns and create list of new names\n",
    "        count_columns = df.columns[2:].tolist()\n",
    "        list_new_names = [ \"transcript_id\", \"gene_id\"]\n",
    "    \n",
    "    ## Fix names one by one and add to list of new names\n",
    "    for col in count_columns:\n",
    "        col = col.split(\"_mapped\")[0] + \"_counts\"\n",
    "        list_new_names.append(col)\n",
    "    \n",
    "    ## Rename columns\n",
    "    df.columns = list_new_names\n",
    "    \n",
    "    return df "
   ]
  },
  {
   "cell_type": "code",
   "execution_count": 3,
   "id": "6b121149",
   "metadata": {},
   "outputs": [],
   "source": [
    "## Import bulk data\n",
    "metadata = pd.read_csv(\"../../../data/bernardo/raw/public_single_cell_data/medial_temporal_cortex_allen_institute_2/cell_metadata.csv\")"
   ]
  },
  {
   "cell_type": "code",
   "execution_count": 4,
   "id": "bbc30b0c",
   "metadata": {},
   "outputs": [],
   "source": [
    "## Drop unecessary columns\n",
    "metadata = metadata[[\"specimen_name\", \"QCpass\", \"class_label\", \"subclass_label\"]].copy()"
   ]
  },
  {
   "cell_type": "code",
   "execution_count": 5,
   "id": "ec9f87e2",
   "metadata": {},
   "outputs": [],
   "source": [
    "## Drop cells that don't pass QC\n",
    "metadata = metadata.loc[metadata[\"QCpass\"] == \"True\"].copy().reset_index(drop=True)"
   ]
  },
  {
   "cell_type": "code",
   "execution_count": 6,
   "id": "1bf0fcdc",
   "metadata": {},
   "outputs": [],
   "source": [
    "## Create cell_type assignments\n",
    "metadata.loc[metadata[\"class_label\"].str.startswith(\"Neuronal:\"), \"cell_type\"] = \"Neuron\" \n",
    "metadata.loc[~metadata[\"class_label\"].str.startswith(\"Neuronal:\"), \"cell_type\"] = \"Non-neuronal\""
   ]
  },
  {
   "cell_type": "code",
   "execution_count": 7,
   "id": "fdf9ba99",
   "metadata": {},
   "outputs": [],
   "source": [
    "## Only keep relevant columns\n",
    "metadata = metadata[[\"specimen_name\", \"cell_type\"]].copy()"
   ]
  },
  {
   "cell_type": "code",
   "execution_count": 9,
   "id": "7ab0a5d9",
   "metadata": {},
   "outputs": [],
   "source": [
    "## Create final metadata dataframe with 1000 cells from each cell type of interest\n",
    "metadata_final = pd.concat([metadata.loc[metadata[\"cell_type\"] == \"Neuron\"].sample(n=2000, random_state=27).copy(),\n",
    "                     metadata.loc[metadata[\"cell_type\"] == \"Non-neuronal\"].sample(n=2000, random_state=28).copy()])"
   ]
  },
  {
   "cell_type": "code",
   "execution_count": 10,
   "id": "418b31be",
   "metadata": {},
   "outputs": [],
   "source": [
    "## Load allen data for medial temporal cortex\n",
    "df_allen = pd.read_csv(\"../../../data/bernardo/raw/public_single_cell_data/medial_temporal_cortex_allen_institute_2/Reference_MTG_RNAseq_all-nuclei.2022-06-07.csv\",)"
   ]
  },
  {
   "cell_type": "code",
   "execution_count": 11,
   "id": "43c5b067",
   "metadata": {},
   "outputs": [],
   "source": [
    "## Create final dataframe with desired cell types (1000 each) \n",
    "df_final = df_allen.merge(metadata_final, on=\"specimen_name\", how=\"inner\")"
   ]
  },
  {
   "cell_type": "code",
   "execution_count": 12,
   "id": "f9fad84c",
   "metadata": {},
   "outputs": [
    {
     "data": {
      "text/plain": [
       "Non-neuronal    2000\n",
       "Neuron          2000\n",
       "Name: cell_type, dtype: int64"
      ]
     },
     "execution_count": 12,
     "metadata": {},
     "output_type": "execute_result"
    }
   ],
   "source": [
    "## Get number of instances for each cell type\n",
    "df_final[\"cell_type\"].value_counts()"
   ]
  },
  {
   "cell_type": "code",
   "execution_count": 13,
   "id": "0d6a3f2b",
   "metadata": {},
   "outputs": [],
   "source": [
    "## Set the allen dataframe to None so it doesn't take up memory\n",
    "df_allen = None"
   ]
  },
  {
   "cell_type": "code",
   "execution_count": 14,
   "id": "16a6ee40",
   "metadata": {},
   "outputs": [],
   "source": [
    "## Drop Nas\n",
    "df_final = df_final.dropna()"
   ]
  },
  {
   "cell_type": "code",
   "execution_count": 15,
   "id": "a53d2d7c",
   "metadata": {},
   "outputs": [],
   "source": [
    "## Drop specimen name column\n",
    "df_final.drop(columns=\"specimen_name\", inplace=True)"
   ]
  },
  {
   "cell_type": "code",
   "execution_count": 16,
   "id": "82d38454",
   "metadata": {},
   "outputs": [],
   "source": [
    "## Make celltype the index\n",
    "df_final.index = df_final[\"cell_type\"].copy()\n",
    "df_final = df_final.drop(columns=\"cell_type\")"
   ]
  },
  {
   "cell_type": "code",
   "execution_count": 17,
   "id": "04d11213",
   "metadata": {},
   "outputs": [],
   "source": [
    "## Make columns into rows and rows into columns\n",
    "df_final_T = df_final.T"
   ]
  },
  {
   "cell_type": "code",
   "execution_count": 18,
   "id": "ac67f7be",
   "metadata": {},
   "outputs": [],
   "source": [
    "## Free up memory\n",
    "df_final = None"
   ]
  },
  {
   "cell_type": "code",
   "execution_count": 19,
   "id": "8b2c81e2",
   "metadata": {},
   "outputs": [],
   "source": [
    "## Create gene_name column and make it the first column\n",
    "df_final_T[\"gene_name\"] = df_final_T.index\n",
    "\n",
    "first_column = df_final_T.pop('gene_name')\n",
    "\n",
    "df_final_T.insert(0, 'gene_name', first_column)"
   ]
  },
  {
   "cell_type": "code",
   "execution_count": 20,
   "id": "588aac10",
   "metadata": {},
   "outputs": [],
   "source": [
    "df_final_T.to_csv(\"../../../data/bernardo/processed/06.deconvolution_analysis/medial_temporal_gyrus_allen_single_cell_data_two_types.tsv\", sep=\"\\t\", index=False)"
   ]
  }
 ],
 "metadata": {
  "kernelspec": {
   "display_name": "Python 3 (ipykernel)",
   "language": "python",
   "name": "python3"
  },
  "language_info": {
   "codemirror_mode": {
    "name": "ipython",
    "version": 3
   },
   "file_extension": ".py",
   "mimetype": "text/x-python",
   "name": "python",
   "nbconvert_exporter": "python",
   "pygments_lexer": "ipython3",
   "version": "3.10.10"
  }
 },
 "nbformat": 4,
 "nbformat_minor": 5
}
