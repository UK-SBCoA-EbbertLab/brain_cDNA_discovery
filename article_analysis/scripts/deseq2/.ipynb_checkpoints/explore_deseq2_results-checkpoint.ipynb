{
 "cells": [
  {
   "cell_type": "markdown",
   "id": "af0d894b",
   "metadata": {},
   "source": [
    "# Create Explore Results"
   ]
  },
  {
   "cell_type": "markdown",
   "id": "7fca49c1",
   "metadata": {},
   "source": [
    "# Library Import and Functions"
   ]
  },
  {
   "cell_type": "code",
   "execution_count": null,
   "id": "2e7c2845",
   "metadata": {},
   "outputs": [],
   "source": [
    "## Import Libraries\n",
    "import pandas as pd\n",
    "import numpy as np\n",
    "from matplotlib_venn import venn2, venn2_circles, venn2_unweighted\n",
    "from matplotlib_venn import venn3, venn3_circles\n",
    "from matplotlib import pyplot as plt\n",
    "%matplotlib inline\n",
    "import seaborn as sns\n",
    "from wordcloud import WordCloud\n",
    "from scipy import stats\n",
    "\n",
    "\n",
    "## Display all rows of pandas dataframes\n",
    "pd.set_option('display.max_rows', None)\n",
    "pd.set_option('display.max_colwidth', None)"
   ]
  },
  {
   "cell_type": "code",
   "execution_count": 4,
   "id": "143176a3",
   "metadata": {},
   "outputs": [],
   "source": [
    "'''\n",
    "function name: parse_df_columns\n",
    "\n",
    "purpose: parsing the last aggregate column of the gtf/gff3 into useful columns and cleaning non-relevant columns\n",
    "\n",
    "input: dataframe containining \"raw\" gtf/gff\n",
    "\n",
    "output: dataframe containing gtf with useful columns [\"gene_id\", \"transcript_id\", etc...]\n",
    "'''\n",
    "\n",
    "def parse_df_columns(df, is_ref=True, is_transcript=False, is_prot=False):\n",
    "\n",
    "    if is_ref:\n",
    "\n",
    "        ## Get gene ids\n",
    "        df[\"gene_id\"] = df[\"other\"].str.split('\";', expand=True)[0].str.extract(\"([^ \\\"]*$)\", expand=True)\n",
    "        \n",
    "        ## Get gene names\n",
    "        df[\"gene_name\"] = df[\"other\"].str.split(\"gene_name \\\"\", expand=True)[1].str.split('\\\";', expand=True)[0]\n",
    "        \n",
    "        ## Get get transcript biotype\n",
    "        df[\"gene_biotype\"] = df[\"other\"].str.split('gene_biotype \"', expand=True)[1].str.split('\"', expand=True)[0]\n",
    "        \n",
    "        ## If is transcript get transcript id and transcript biotype\n",
    "        if is_transcript:\n",
    "            df[\"transcript_id\"] = df[\"other\"].str.split('transcript_id \"', expand=True)[1].str.split('\"', expand=True)[0]\n",
    "            df[\"transcript_biotype\"] = df[\"other\"].str.split('transcript_biotype \"', expand=True)[1].str.split('\"', expand=True)[0]\n",
    "            df[\"transcript_name\"] = df[\"other\"].str.split('transcript_name \"', expand=True)[1].str.split('\"', expand=True)[0]\n",
    "            \n",
    "            ## If is prot get protein_id\n",
    "            if is_prot:\n",
    "                df[\"protein_id\"] = df[\"other\"].str.split('protein_id \"', expand=True)[1].str.split('\"', expand=True)[0]\n",
    "                df[\"ccds_id\"] = df[\"other\"].str.split('ccds_id \"', expand=True)[1].str.split('\"', expand=True)[0]\n",
    "                df[\"exon_number\"] = df[\"other\"].str.split('exon_number \"', expand=True)[1].str.split('\"', expand=True)[0]\n",
    "\n",
    "        ## Drop \"other\" column\n",
    "        df.drop(columns=[\"other\", \"dot_1\", \"dot_2\"], inplace=True)\n",
    "        \n",
    "\n",
    "    else:\n",
    "\n",
    "        ## Get gene ids\n",
    "        df[\"gene_id\"] = df[\"other\"].str.split('\";', expand=True)[0].str.extract(\"([^ \\\"]*$)\", expand=True)\n",
    "\n",
    "        ## Get transcript ids\n",
    "        df[\"transcript_id\"] = df[\"other\"].str.split('transcript_id \"', expand=True)[1].str.split('\"', expand=True)[0]\n",
    "\n",
    "        ## Get exon number\n",
    "        df[\"exon_number\"] = df[\"other\"].str.split('exon_number \"', expand=True)[1].str.split('\"', expand=True)[0]\n",
    "\n",
    "        ## Drop \"other\" column\n",
    "        df.drop(columns=[\"other\", \"dot_1\", \"dot_2\"], inplace=True)\n",
    "\n",
    "    for col in df.columns:\n",
    "        df.loc[df[col].isnull(), col] = np.NaN\n",
    "        \n",
    "\n",
    "    return df"
   ]
  },
  {
   "cell_type": "markdown",
   "id": "2d5e0928",
   "metadata": {},
   "source": [
    "# Import data and process AD vs CT data"
   ]
  },
  {
   "cell_type": "code",
   "execution_count": 5,
   "id": "4e433952",
   "metadata": {},
   "outputs": [],
   "source": [
    "## Import results for transcript level analysis\n",
    "res = pd.read_csv(\"../../data/processed/deseq2/multiple_transcripts_results_AD_vs_CT.tsv\", sep=\"\\t\")\n",
    "res.reset_index(inplace=True, drop=False, names=\"transcript_id\")\n",
    "\n",
    "## Import results for med-relevant transcript level analysis\n",
    "res_med = pd.read_csv(\"../../data/processed/deseq2/multiple_transcripts_results_med_relevant_AD_vs_CT.tsv\", sep=\"\\t\")\n",
    "res_med.reset_index(inplace=True, drop=False, names=\"transcript_id\")\n",
    "\n",
    "## Import results for gene level analysis\n",
    "res_gene = pd.read_csv(\"../../data/processed/deseq2/genes_AD_vs_CT_results.tsv\", sep=\"\\t\")\n",
    "res_gene.reset_index(inplace=True, drop=False, names=\"gene_id\")"
   ]
  },
  {
   "cell_type": "code",
   "execution_count": 6,
   "id": "b0806e71",
   "metadata": {},
   "outputs": [],
   "source": [
    "## Open original GTF reference\n",
    "original_ref = pd.read_csv(\"../../references/Homo_sapiens.GRCh38.107_ERCC.gtf\", header=None, delimiter=\"\\t\", low_memory=False, \n",
    "                       names=[\"chr\", \"source\", \"type\", \"start\", \"end\", \"dot_1\", \"strand\", \"dot_2\", \"other\"], comment=\"#\")\n",
    "\n",
    "\n",
    "## Parse through reference to get gene names and ids\n",
    "orig_ref = original_ref.loc[original_ref[\"type\"]==\"transcript\"].copy()\n",
    "orig_ref = parse_df_columns(orig_ref, is_ref=True, is_transcript=True)"
   ]
  },
  {
   "cell_type": "code",
   "execution_count": 8,
   "id": "10f331a6",
   "metadata": {},
   "outputs": [],
   "source": [
    "## Import and parse through extended annotations generated with Bambu\n",
    "bambu_ref = pd.read_csv(\"../../data/raw/nextflow_pipeline_output/bambu_discovery/extended_annotations.gtf\", header=None, delimiter=\"\\t\",\n",
    "                        low_memory=False, comment=\"#\", names=[\"chr\", \"source\", \"type\", \"start\", \"end\", \"dot_1\", \"strand\", \"dot_2\", \"other\"])\n",
    "\n",
    "bambu_ref = bambu_ref.loc[~bambu_ref[\"chr\"].str.startswith(\"ERCC-\")]\n",
    "\n",
    "bambu_ref = parse_df_columns(bambu_ref, is_ref=False)\n",
    "\n",
    "bambu_ref = bambu_ref.loc[bambu_ref[\"type\"] == \"transcript\"].copy()\n",
    "\n",
    "bambu_ref = bambu_ref.merge(orig_ref[[\"transcript_id\", \"transcript_name\"]], on=\"transcript_id\", how=\"left\")"
   ]
  },
  {
   "cell_type": "code",
   "execution_count": 9,
   "id": "728be176",
   "metadata": {},
   "outputs": [],
   "source": [
    "## If transcript does not have transcript_name columns, fill with transcript_id\n",
    "bambu_ref.loc[bambu_ref[\"transcript_name\"].isna(), \"transcript_name\"] = bambu_ref[\"transcript_id\"]"
   ]
  },
  {
   "cell_type": "code",
   "execution_count": 10,
   "id": "05da1de8",
   "metadata": {},
   "outputs": [],
   "source": [
    "## Only keep relevant rows and columns in references\n",
    "bambu_ref_names = bambu_ref[[\"gene_id\", \"transcript_id\", \"transcript_name\"]].copy()\n",
    "\n",
    "orig_ref_names = orig_ref[[\"gene_id\", \"gene_name\"]].drop_duplicates().copy()\n",
    "\n",
    "## If gene_name is empty, fill with gene_id\n",
    "orig_ref_names.loc[orig_ref_names[\"gene_name\"].isna(), \"gene_name\"] = orig_ref_names[\"gene_id\"]"
   ]
  },
  {
   "cell_type": "code",
   "execution_count": 11,
   "id": "12a4c428",
   "metadata": {},
   "outputs": [],
   "source": [
    "# Add annotations to transcript level analysis\n",
    "res = res.merge(bambu_ref_names, on=\"transcript_id\", how=\"left\")\n",
    "res = res.merge(orig_ref_names, on=[\"gene_id\"], how=\"left\")\n",
    "\n",
    "# Add annotations to med-relevant transcript level analysis\n",
    "res_med = res_med.merge(bambu_ref_names, on=\"transcript_id\", how=\"left\")\n",
    "res_med = res_med.merge(orig_ref_names, on=[\"gene_id\"], how=\"left\")\n",
    "\n",
    "# Add annotations to gene level analysis\n",
    "res_gene = res_gene.merge(orig_ref_names, on=[\"gene_id\"], how=\"left\")"
   ]
  },
  {
   "cell_type": "code",
   "execution_count": 12,
   "id": "eacb9490",
   "metadata": {},
   "outputs": [],
   "source": [
    "## Save annotated results for transcript level \n",
    "res.to_csv(\"../../data/processed/deseq2/annotated_multiple_transcripts_results_AD_vs_CT.tsv\", \n",
    "          index=False, sep=\"\\t\")\n",
    "\n",
    "\n",
    "## Save annotated med-relevant results for transcript level\n",
    "res_med.to_csv(\"../../data/processed/deseq2/annotated_med_relevant_multiple_transcripts_results_AD_vs_CT.tsv\", \n",
    "              index=False, sep=\"\\t\")\n",
    "\n",
    "## Save annotated gene level results\n",
    "res_gene.to_csv(\"../../data/processed/deseq2/genes_annotated_results_AD_vs_CT.tsv\", index=False, sep=\"\\t\")"
   ]
  },
  {
   "cell_type": "code",
   "execution_count": 13,
   "id": "16ac57cf",
   "metadata": {},
   "outputs": [],
   "source": [
    "## Filter transcript level results\n",
    "res_filtered = res.loc[~res[\"padj\"].isna()].copy()\n",
    "res_filtered = res_filtered.loc[((res_filtered[\"padj\"] < 0.05) & (abs(res_filtered[\"log2FoldChange\"]) > 1))].copy()\n",
    "\n",
    "## Filter med-relevant transcript level results\n",
    "res_med_filtered = res_med.loc[~res_med[\"padj\"].isna()].copy()\n",
    "res_med_filtered = res_med_filtered.loc[((res_med_filtered[\"padj\"] < 0.05) & (abs(res_med_filtered[\"log2FoldChange\"]) > 1))].copy()\n",
    "\n",
    "## Filter med-relevant gene level results\n",
    "res_gene_filtered = res_gene.loc[~res_gene[\"padj\"].isna()].copy()\n",
    "res_gene_filtered = res_gene_filtered.loc[((res_gene_filtered[\"padj\"] < 0.05) & (abs(res_gene_filtered[\"log2FoldChange\"]) > 1))].copy()"
   ]
  },
  {
   "cell_type": "code",
   "execution_count": 14,
   "id": "49ee890f",
   "metadata": {},
   "outputs": [],
   "source": [
    "## Save filtered results for transcript level \n",
    "res_filtered.to_csv(\"../../data/processed/deseq2/filtered_multiple_transcripts_results_AD_vs_CT.csv\", index=False)\n",
    "\n",
    "\n",
    "## Save filtered med-relevant results for transcript level\n",
    "res_med_filtered.to_csv(\"../../data/processed/deseq2/filtered_med_relevant_multiple_transcripts_results_AD_vs_CT.csv\", index=False)\n",
    "\n",
    "\n",
    "## Save filtered gene level results\n",
    "res_gene_filtered.to_csv(\"../../data/processed/deseq2/genes_filtered_results_AD_vs_CT.csv\")"
   ]
  },
  {
   "cell_type": "markdown",
   "id": "8af5ebea",
   "metadata": {},
   "source": [
    "## Comparison between gene DE with and without intron data - No covariates"
   ]
  },
  {
   "cell_type": "code",
   "execution_count": 15,
   "id": "0160b0e8",
   "metadata": {},
   "outputs": [],
   "source": [
    "## Import results for gene level analysis\n",
    "\n",
    "res_gene_AD = pd.read_csv(\"../../data/processed/deseq2/genes_AD_vs_CT_results.tsv\", sep=\"\\t\")\n",
    "res_gene_AD.reset_index(inplace=True, drop=False, names=\"gene_id\")\n",
    "\n",
    "res_gene_no_intron_AD = pd.read_csv(\"../../data/processed/deseq2/genes_AD_vs_CT_results_no_intron.tsv\", sep=\"\\t\")\n",
    "res_gene_no_intron_AD.reset_index(inplace=True, drop=False, names=\"gene_id\")\n"
   ]
  },
  {
   "cell_type": "code",
   "execution_count": 16,
   "id": "188f3b0d",
   "metadata": {},
   "outputs": [],
   "source": [
    "# Add annotations to AD gene level analysis\n",
    "res_gene_AD = res_gene_AD.merge(orig_ref_names, on=[\"gene_id\"], how=\"left\")\n",
    "\n",
    "# Add annotations to AD gene level analysis without intron\n",
    "res_gene_no_intron_AD = res_gene_no_intron_AD.merge(orig_ref_names, on=[\"gene_id\"], how=\"left\")\n"
   ]
  },
  {
   "cell_type": "code",
   "execution_count": 17,
   "id": "43e2c903",
   "metadata": {},
   "outputs": [],
   "source": [
    "## If gene_name is missing, fill with gene_id\n",
    "res_gene_AD['gene_name'].fillna(value=res_gene_AD[\"gene_id\"], inplace=True)\n",
    "\n",
    "res_gene_no_intron_AD['gene_name'].fillna(value=res_gene_no_intron_AD[\"gene_id\"], inplace=True)\n"
   ]
  },
  {
   "cell_type": "code",
   "execution_count": 18,
   "id": "8850d9d0",
   "metadata": {},
   "outputs": [],
   "source": [
    "## Save annotated AD without intron gene  results\n",
    "res_gene_no_intron_AD.to_csv(\"../../data/processed/deseq2/genes_annotated_results_AD_vs_CT_no_intron.tsv\", index=False, sep=\"\\t\")"
   ]
  },
  {
   "cell_type": "code",
   "execution_count": 19,
   "id": "b41964e0",
   "metadata": {},
   "outputs": [],
   "source": [
    "## Filter results\n",
    "\n",
    "res_gene_AD_filtered = res_gene_AD.loc[~res_gene_AD[\"padj\"].isna()].copy()\n",
    "res_gene_AD_filtered = res_gene_AD_filtered.loc[((res_gene_AD_filtered[\"padj\"] < 0.05) & (abs(res_gene_AD_filtered[\"log2FoldChange\"]) > 1))].copy()\n",
    "\n",
    "res_gene_AD_filtered_no_intron = res_gene_no_intron_AD.loc[~res_gene_no_intron_AD[\"padj\"].isna()].copy()\n",
    "res_gene_AD_filtered_no_intron = res_gene_AD_filtered_no_intron.loc[((res_gene_AD_filtered_no_intron[\"padj\"] < 0.05) & (abs(res_gene_AD_filtered_no_intron[\"log2FoldChange\"]) > 1))].copy()"
   ]
  },
  {
   "cell_type": "code",
   "execution_count": 21,
   "id": "e536b6ac",
   "metadata": {},
   "outputs": [],
   "source": [
    "## define ggplot colors\n",
    "ggplot2_colors = [\"#F8766D\", \"#CD9600\", \"#7CAE00\", \"#00BE67\", \"#00BFC4\", \"#00A9FF\", \"#C77CFF\", \"#FF61CC\"]"
   ]
  },
  {
   "cell_type": "code",
   "execution_count": 24,
   "id": "18616cb3",
   "metadata": {},
   "outputs": [
    {
     "data": {
      "image/png": "[encoded data removed]",
      "text/plain": [
       "<Figure size 640x480 with 1 Axes>"
      ]
     },
     "metadata": {},
     "output_type": "display_data"
    }
   ],
   "source": [
    "## Create venn diagram for AD gene level results\n",
    "\n",
    "set_AD = set(res_gene_AD_filtered[\"gene_id\"].to_list())\n",
    "set_AD_no_intron = set(res_gene_AD_filtered_no_intron[\"gene_id\"].to_list())\n",
    "\n",
    "venn2([set_AD, set_AD_no_intron], ('With intron', 'Without intron'), \n",
    "     set_colors=[ggplot2_colors[0], ggplot2_colors[4]], alpha=0.8)\n",
    "\n",
    "plt.savefig('../../figures/paper_figures/figure_6/gene_level_AD_vs_CT_venn_diagram_INTRON.pdf',\n",
    "            dpi=600, transparent=True, bbox_inches=\"tight\")"
   ]
  },
  {
   "cell_type": "code",
   "execution_count": 25,
   "id": "284ff938",
   "metadata": {},
   "outputs": [],
   "source": [
    "## Save filtered gene level results without introns for AD\n",
    "res_gene_AD_filtered_no_intron.to_csv(\"../../data/processed/deseq2/genes_filtered_results_AD_vs_CT_no_intron.csv\")\n",
    "\n",
    "## Save filtered gene level results without introns for SEX\n",
    "res_gene_AD_filtered_no_intron.to_csv(\"../../data/processed/deseq2/genes_filtered_results_M_vs_F_no_intron.csv\")"
   ]
  }
 ],
 "metadata": {
  "kernelspec": {
   "display_name": "Python 3 (ipykernel)",
   "language": "python",
   "name": "python3"
  },
  "language_info": {
   "codemirror_mode": {
    "name": "ipython",
    "version": 3
   },
   "file_extension": ".py",
   "mimetype": "text/x-python",
   "name": "python",
   "nbconvert_exporter": "python",
   "pygments_lexer": "ipython3",
   "version": "3.10.10"
  }
 },
 "nbformat": 4,
 "nbformat_minor": 5
}
