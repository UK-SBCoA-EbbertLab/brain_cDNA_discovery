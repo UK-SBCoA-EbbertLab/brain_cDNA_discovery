{
 "cells": [
  {
   "cell_type": "code",
   "execution_count": 1,
   "id": "e1206944",
   "metadata": {},
   "outputs": [],
   "source": [
    "## Import Libraries\n",
    "import pandas as pd\n",
    "import numpy as np\n",
    "import csv\n",
    "import matplotlib.pyplot as plt\n",
    "%matplotlib inline\n",
    "import openpyxl\n",
    "\n",
    "pd.set_option(\"max_colwidth\", None)\n",
    "pd.set_option('display.max_columns', None)\n",
    "pd.set_option('display.max_rows', None)"
   ]
  },
  {
   "cell_type": "code",
   "execution_count": 2,
   "id": "7d87c847",
   "metadata": {},
   "outputs": [],
   "source": [
    "'''\n",
    "function name: parse_df_columns\n",
    "\n",
    "purpose: parsing the last aggregate column of the gtf/gff3 into useful columns and cleaning non-relevant columns\n",
    "\n",
    "input: dataframe containining \"raw\" gtf/gff\n",
    "\n",
    "output: dataframe containing gtf with useful columns [\"gene_id\", \"transcript_id\", etc...]\n",
    "'''\n",
    "\n",
    "def parse_df_columns(df, is_ref=True):\n",
    "\n",
    "    if is_ref:\n",
    "\n",
    "        ## Get gene ids\n",
    "        df[\"gene_id\"] = df[\"other\"].str.split(\"source_gene=\", expand=True)[1].str.split(';', expand=True)[0]\n",
    "        \n",
    "        ## Get gene names\n",
    "        df[\"gene_name\"] = df[\"other\"].str.split(\"source_gene_common_name=\", expand=True)[1].str.split(';', expand=True)[0]\n",
    "        \n",
    "        ## Only keep relevant\n",
    "        df = df[[\"chr\", \"gene_id\", \"gene_name\"]].copy()\n",
    "\n",
    "        ## Drop duplicates\n",
    "        df.drop_duplicates(inplace=True)\n",
    "        \n",
    "\n",
    "    else:\n",
    "\n",
    "        ## Get CHM gene ids\n",
    "        df[\"gene_id\"] = df[\"other\"].str.split('\";', expand=True)[0].str.extract(\"([^ \\\"]*$)\", expand=True)\n",
    "\n",
    "        ## Drop \"other\" column\n",
    "        df = df[[\"chr\", \"gene_id\"]].copy()\n",
    "        \n",
    "    for col in df.columns:\n",
    "        df.loc[df[col].isnull(), col] = np.NaN\n",
    "        \n",
    "\n",
    "    return df"
   ]
  },
  {
   "cell_type": "code",
   "execution_count": 3,
   "id": "7ca5f251",
   "metadata": {},
   "outputs": [],
   "source": [
    "'''\n",
    "function name: calculate_cpm\n",
    "\n",
    "purpose: Calculate CPM for the each sample given\n",
    "\n",
    "input: Counts dataset\n",
    "\n",
    "output: Counts dataset with CPM columns as well\n",
    "'''\n",
    "\n",
    "def calculate_cpm(df):\n",
    "\n",
    "    ## Loop through counts columns to calculate CPM and add to the dataframe\n",
    "    for col in [\"total_counts\"]:\n",
    "        \n",
    "        df[col] = round(df[col], 2)\n",
    "        cpm_name = col.replace(\"_counts\", \"_CPM\")\n",
    "        df[cpm_name] = round(((df[col]/(df[col].sum())) * 1000000), 2)\n",
    "    \n",
    "    return df "
   ]
  },
  {
   "cell_type": "code",
   "execution_count": 4,
   "id": "bf3657a5",
   "metadata": {},
   "outputs": [],
   "source": [
    "## Import transcripts\n",
    "df_transcripts = pd.read_csv(\"../../data/raw/merged_uky_cshl_GRCh38-107_discovery/bambu_discovery/counts_transcript.txt\",\n",
    "        sep=\"\\t\", low_memory=False, header=0)"
   ]
  },
  {
   "cell_type": "code",
   "execution_count": 5,
   "id": "310e6fd9",
   "metadata": {},
   "outputs": [],
   "source": [
    "## Import Genes\n",
    "df_genes = pd.read_csv(\"../../data/raw/merged_uky_cshl_GRCh38-107_discovery/bambu_discovery/counts_gene.txt\",\n",
    "        sep=\"\\t\", low_memory=False, header=0)"
   ]
  },
  {
   "cell_type": "code",
   "execution_count": 6,
   "id": "da9c4de0",
   "metadata": {},
   "outputs": [],
   "source": [
    "## Get total counts for genes and transcripts\n",
    "df_genes[\"total_counts\"] = df_genes[df_genes.columns[1:]].sum(axis=1)\n",
    "df_transcripts[\"total_counts\"] = df_transcripts[df_transcripts.columns[2:]].sum(axis=1)"
   ]
  },
  {
   "cell_type": "code",
   "execution_count": 7,
   "id": "c29ba1fd",
   "metadata": {},
   "outputs": [],
   "source": [
    "## Get average counts for genes and transcripts\n",
    "df_genes[\"average_counts\"] = df_genes[\"total_counts\"]/4\n",
    "df_transcripts[\"average_counts\"] = df_transcripts[\"total_counts\"]/4"
   ]
  },
  {
   "cell_type": "code",
   "execution_count": 8,
   "id": "9d3f9c12",
   "metadata": {},
   "outputs": [],
   "source": [
    "## Only keep genes and transcripts with more than 0 counts\n",
    "df_genes = df_genes.loc[df_genes[\"total_counts\"] > 0].copy()\n",
    "df_transcripts = df_transcripts.loc[df_transcripts[\"total_counts\"] > 0].copy()"
   ]
  },
  {
   "cell_type": "code",
   "execution_count": 9,
   "id": "43a6b511",
   "metadata": {},
   "outputs": [],
   "source": [
    "## Calculate percentile\n",
    "df_genes['percentile'] = df_genes[\"total_counts\"].rank(pct=True)"
   ]
  },
  {
   "cell_type": "code",
   "execution_count": 10,
   "id": "15e399e6",
   "metadata": {},
   "outputs": [],
   "source": [
    "## Calculate Rank\n",
    "df_genes['rank'] = df_genes[\"total_counts\"].rank(ascending=False)"
   ]
  },
  {
   "cell_type": "code",
   "execution_count": 11,
   "id": "6eaeae07",
   "metadata": {},
   "outputs": [
    {
     "data": {
      "text/html": [
       "<div>\n",
       "<style scoped>\n",
       "    .dataframe tbody tr th:only-of-type {\n",
       "        vertical-align: middle;\n",
       "    }\n",
       "\n",
       "    .dataframe tbody tr th {\n",
       "        vertical-align: top;\n",
       "    }\n",
       "\n",
       "    .dataframe thead th {\n",
       "        text-align: right;\n",
       "    }\n",
       "</style>\n",
       "<table border=\"1\" class=\"dataframe\">\n",
       "  <thead>\n",
       "    <tr style=\"text-align: right;\">\n",
       "      <th></th>\n",
       "      <th>cshl_356_uky_mapped_filtered_sorted</th>\n",
       "      <th>cshl_1271_uky_mapped_filtered_sorted</th>\n",
       "      <th>cshl_1291_uky_mapped_filtered_sorted</th>\n",
       "      <th>cshl_1304_uky_mapped_filtered_sorted</th>\n",
       "      <th>total_counts</th>\n",
       "      <th>average_counts</th>\n",
       "      <th>percentile</th>\n",
       "      <th>rank</th>\n",
       "    </tr>\n",
       "  </thead>\n",
       "  <tbody>\n",
       "    <tr>\n",
       "      <th>ENSG00000105697</th>\n",
       "      <td>2001</td>\n",
       "      <td>3738</td>\n",
       "      <td>623</td>\n",
       "      <td>6071</td>\n",
       "      <td>10432</td>\n",
       "      <td>2608.0</td>\n",
       "      <td>0.936858</td>\n",
       "      <td>3258.0</td>\n",
       "    </tr>\n",
       "  </tbody>\n",
       "</table>\n",
       "</div>"
      ],
      "text/plain": [
       "                 cshl_356_uky_mapped_filtered_sorted  \\\n",
       "ENSG00000105697                                 2001   \n",
       "\n",
       "                 cshl_1271_uky_mapped_filtered_sorted  \\\n",
       "ENSG00000105697                                  3738   \n",
       "\n",
       "                 cshl_1291_uky_mapped_filtered_sorted  \\\n",
       "ENSG00000105697                                   623   \n",
       "\n",
       "                 cshl_1304_uky_mapped_filtered_sorted  total_counts  \\\n",
       "ENSG00000105697                                  6071         10432   \n",
       "\n",
       "                 average_counts  percentile    rank  \n",
       "ENSG00000105697          2608.0    0.936858  3258.0  "
      ]
     },
     "execution_count": 11,
     "metadata": {},
     "output_type": "execute_result"
    }
   ],
   "source": [
    "## See rank for HAMP\n",
    "## Respectively: ENSG00000105697\n",
    "df_genes.loc[df_genes.index.str.contains(\"ENSG00000105697\")]"
   ]
  },
  {
   "cell_type": "code",
   "execution_count": 12,
   "id": "36cb1061",
   "metadata": {},
   "outputs": [
    {
     "data": {
      "text/html": [
       "<div>\n",
       "<style scoped>\n",
       "    .dataframe tbody tr th:only-of-type {\n",
       "        vertical-align: middle;\n",
       "    }\n",
       "\n",
       "    .dataframe tbody tr th {\n",
       "        vertical-align: top;\n",
       "    }\n",
       "\n",
       "    .dataframe thead th {\n",
       "        text-align: right;\n",
       "    }\n",
       "</style>\n",
       "<table border=\"1\" class=\"dataframe\">\n",
       "  <thead>\n",
       "    <tr style=\"text-align: right;\">\n",
       "      <th></th>\n",
       "      <th>cshl_356_uky_mapped_filtered_sorted</th>\n",
       "      <th>cshl_1271_uky_mapped_filtered_sorted</th>\n",
       "      <th>cshl_1291_uky_mapped_filtered_sorted</th>\n",
       "      <th>cshl_1304_uky_mapped_filtered_sorted</th>\n",
       "      <th>total_counts</th>\n",
       "      <th>average_counts</th>\n",
       "      <th>percentile</th>\n",
       "      <th>rank</th>\n",
       "    </tr>\n",
       "  </thead>\n",
       "  <tbody>\n",
       "    <tr>\n",
       "      <th>ENSG00000138449</th>\n",
       "      <td>450</td>\n",
       "      <td>467</td>\n",
       "      <td>382</td>\n",
       "      <td>682</td>\n",
       "      <td>1531</td>\n",
       "      <td>382.75</td>\n",
       "      <td>0.784838</td>\n",
       "      <td>11099.5</td>\n",
       "    </tr>\n",
       "  </tbody>\n",
       "</table>\n",
       "</div>"
      ],
      "text/plain": [
       "                 cshl_356_uky_mapped_filtered_sorted  \\\n",
       "ENSG00000138449                                  450   \n",
       "\n",
       "                 cshl_1271_uky_mapped_filtered_sorted  \\\n",
       "ENSG00000138449                                   467   \n",
       "\n",
       "                 cshl_1291_uky_mapped_filtered_sorted  \\\n",
       "ENSG00000138449                                   382   \n",
       "\n",
       "                 cshl_1304_uky_mapped_filtered_sorted  total_counts  \\\n",
       "ENSG00000138449                                   682          1531   \n",
       "\n",
       "                 average_counts  percentile     rank  \n",
       "ENSG00000138449          382.75    0.784838  11099.5  "
      ]
     },
     "execution_count": 12,
     "metadata": {},
     "output_type": "execute_result"
    }
   ],
   "source": [
    "## See rank for SLC401A\n",
    "## Respectively: ENSG00000138449\n",
    "df_genes.loc[df_genes.index.str.contains(\"ENSG00000138449\")]"
   ]
  },
  {
   "cell_type": "code",
   "execution_count": 13,
   "id": "e9c92a3a",
   "metadata": {},
   "outputs": [],
   "source": [
    "## Get total counts for all genes with more than 0 counts\n",
    "total_counts = df_genes[\"total_counts\"]"
   ]
  },
  {
   "cell_type": "code",
   "execution_count": 14,
   "id": "de003a00",
   "metadata": {},
   "outputs": [],
   "source": [
    "## Get log total counts\n",
    "log_total_counts = np.log10(df_genes[\"total_counts\"])"
   ]
  },
  {
   "cell_type": "code",
   "execution_count": 15,
   "id": "0ffd258b",
   "metadata": {},
   "outputs": [
    {
     "name": "stdout",
     "output_type": "stream",
     "text": [
      "Hamp Log Expression: 4.018367578387845\n",
      "SLC40A1 Log Expression: 3.184975190698261\n"
     ]
    }
   ],
   "source": [
    "print(\"Hamp Log Expression:\", log_total_counts[\"ENSG00000105697\"])\n",
    "print(\"SLC40A1 Log Expression:\", log_total_counts[\"ENSG00000138449\"])"
   ]
  },
  {
   "cell_type": "code",
   "execution_count": 16,
   "id": "53bd500f",
   "metadata": {},
   "outputs": [],
   "source": [
    "## Use ggplot colors\n",
    "ggplot2_colors = [\"#F8766D\", \"#CD9600\", \"#7CAE00\", \"#00BE67\", \"#00BFC4\", \"#00A9FF\", \"#C77CFF\", \"#FF61CC\"]"
   ]
  },
  {
   "cell_type": "code",
   "execution_count": 17,
   "id": "7432c758",
   "metadata": {},
   "outputs": [
    {
     "data": {
      "image/png": "[encoded data removed]",
      "text/plain": [
       "<Figure size 432x288 with 1 Axes>"
      ]
     },
     "metadata": {
      "needs_background": "light"
     },
     "output_type": "display_data"
    }
   ],
   "source": [
    "## Create log plot\n",
    "\n",
    "fig, ax = plt.subplots(figsize = (6,4))\n",
    "\n",
    "\n",
    "log_total_counts.plot(kind = \"hist\", density = True, bins = 100, color=\"#F8766D\", alpha=0.5) # change density to true, because KDE uses density\n",
    "\n",
    "\n",
    "log_total_counts.plot(kind = \"kde\", color=\"#CD9600\", alpha=1)\n",
    "\n",
    "ax.set_xlabel(\"Log10 Total Counts\")\n",
    "\n",
    "\n",
    "ax.set_title(\"Histogram of Total Read Counts per Gene\")\n",
    "\n",
    "ax.axvline(4.018, alpha=1, ymax = 0.40, linestyle = \":\", color=\"#7CAE00\")\n",
    "ax.axvline(3.185, alpha=1, ymax = 0.60, linestyle = \":\", color=\"#00BE67\")\n",
    "\n",
    "\n",
    "ax.text(4.018 - 0.5, 0.29, \"HAMP\", size = 12, alpha = 1, color=\"#7CAE00\")\n",
    "ax.text(3.185 - 0.5, 0.42, \"SLC40A1\", size = 12, alpha = 1, color=\"#00BE67\")\n",
    "\n",
    "\n",
    "\n",
    "plt.show()"
   ]
  },
  {
   "cell_type": "code",
   "execution_count": 18,
   "id": "f9220c7d",
   "metadata": {},
   "outputs": [],
   "source": [
    "## Import extended annotation\n",
    "gtf = pd.read_csv(\"../../data/raw/merged_uky_cshl_CHM13_discovery/bambu_discovery/extended_annotations.gtf\",\n",
    "        sep=\"\\t\", names=[\"chr\", \"source\", \"type\", \"start\", \n",
    "                               \"end\", \"dot_1\", \"strand\", \"dot_2\", \"other\"], low_memory=False, header=0)"
   ]
  },
  {
   "cell_type": "code",
   "execution_count": 19,
   "id": "dc641f99",
   "metadata": {},
   "outputs": [],
   "source": [
    "## Parse through it\n",
    "gtf = parse_df_columns(gtf, is_ref=False)"
   ]
  },
  {
   "cell_type": "code",
   "execution_count": 20,
   "id": "692338e0",
   "metadata": {},
   "outputs": [],
   "source": [
    "## Get gene ids for mitochondrial genes\n",
    "gtf_mito_ids = gtf.loc[gtf[\"chr\"] == \"chrM\"][\"gene_id\"]"
   ]
  },
  {
   "cell_type": "code",
   "execution_count": 21,
   "id": "b4fdc92a",
   "metadata": {},
   "outputs": [],
   "source": [
    "## Select only nuclear genes\n",
    "df_genes_nuclear = df_genes.loc[~df_genes.index.isin(gtf_mito_ids)]"
   ]
  },
  {
   "cell_type": "code",
   "execution_count": 22,
   "id": "c1d92af8",
   "metadata": {},
   "outputs": [],
   "source": [
    "## Total counts for nuclear genes\n",
    "total_counts_nuclear = df_genes_nuclear[\"total_counts\"]"
   ]
  },
  {
   "cell_type": "code",
   "execution_count": 23,
   "id": "af6e3f8e",
   "metadata": {},
   "outputs": [
    {
     "data": {
      "image/png": "[encoded data removed]",
      "text/plain": [
       "<Figure size 432x288 with 1 Axes>"
      ]
     },
     "metadata": {
      "needs_background": "light"
     },
     "output_type": "display_data"
    }
   ],
   "source": [
    "## Make graph for nuclear genes\n",
    "fig, ax = plt.subplots(figsize = (6,4))\n",
    "\n",
    "total_counts_nuclear.plot(kind = \"hist\", density = True, bins = 100, color=\"#F8766D\", alpha=0.5) # change density to true, because KDE uses density\n",
    "\n",
    "ax.set_xlabel(\"Total Counts\")\n",
    "\n",
    "ax.set_title(\"Histogram of Total Read Counts per Gene (Nuclear Only)\\n\")\n",
    "\n",
    "ax.axvline(10432, alpha=1, ymax = 0.2, linestyle = \":\", color=\"#7CAE00\")\n",
    "ax.axvline(1531, alpha=1, ymax = 0.2, linestyle = \":\", color=\"#00BE67\")\n",
    "\n",
    "ax.text(10432, 0.0000035, \"HAMP\", fontsize = 12, alpha = 1, color=\"#7CAE00\")\n",
    "ax.text(10432, 0.0000025, \"SLC40A1\", fontsize = 12, alpha = 1, color=\"#00BE67\")\n",
    "\n",
    "\n",
    "plt.show()"
   ]
  },
  {
   "cell_type": "markdown",
   "id": "fb0fbf6d",
   "metadata": {},
   "source": [
    "#####################################################################################################"
   ]
  },
  {
   "cell_type": "code",
   "execution_count": 29,
   "id": "c4c50dbe",
   "metadata": {},
   "outputs": [
    {
     "data": {
      "text/html": [
       "<div>\n",
       "<style scoped>\n",
       "    .dataframe tbody tr th:only-of-type {\n",
       "        vertical-align: middle;\n",
       "    }\n",
       "\n",
       "    .dataframe tbody tr th {\n",
       "        vertical-align: top;\n",
       "    }\n",
       "\n",
       "    .dataframe thead th {\n",
       "        text-align: right;\n",
       "    }\n",
       "</style>\n",
       "<table border=\"1\" class=\"dataframe\">\n",
       "  <thead>\n",
       "    <tr style=\"text-align: right;\">\n",
       "      <th></th>\n",
       "      <th>TXNAME</th>\n",
       "      <th>GENEID</th>\n",
       "      <th>cshl_356_uky_mapped_filtered_sorted</th>\n",
       "      <th>cshl_1271_uky_mapped_filtered_sorted</th>\n",
       "      <th>cshl_1291_uky_mapped_filtered_sorted</th>\n",
       "      <th>cshl_1304_uky_mapped_filtered_sorted</th>\n",
       "      <th>total_counts</th>\n",
       "      <th>average_counts</th>\n",
       "    </tr>\n",
       "  </thead>\n",
       "  <tbody>\n",
       "    <tr>\n",
       "      <th>0</th>\n",
       "      <td>tx.1</td>\n",
       "      <td>ENSG00000078808</td>\n",
       "      <td>638.547019</td>\n",
       "      <td>545.271793</td>\n",
       "      <td>570.311659</td>\n",
       "      <td>918.306555</td>\n",
       "      <td>2672.437026</td>\n",
       "      <td>668.109257</td>\n",
       "    </tr>\n",
       "    <tr>\n",
       "      <th>1</th>\n",
       "      <td>tx.2</td>\n",
       "      <td>ENSG00000008130</td>\n",
       "      <td>86.895137</td>\n",
       "      <td>135.226654</td>\n",
       "      <td>157.979474</td>\n",
       "      <td>89.532209</td>\n",
       "      <td>469.633474</td>\n",
       "      <td>117.408369</td>\n",
       "    </tr>\n",
       "    <tr>\n",
       "      <th>2</th>\n",
       "      <td>tx.3</td>\n",
       "      <td>gene.4578</td>\n",
       "      <td>28.000000</td>\n",
       "      <td>69.000000</td>\n",
       "      <td>162.000000</td>\n",
       "      <td>67.000000</td>\n",
       "      <td>326.000000</td>\n",
       "      <td>81.500000</td>\n",
       "    </tr>\n",
       "    <tr>\n",
       "      <th>3</th>\n",
       "      <td>tx.4</td>\n",
       "      <td>ENSG00000116663</td>\n",
       "      <td>89.692718</td>\n",
       "      <td>71.295613</td>\n",
       "      <td>43.156208</td>\n",
       "      <td>154.145707</td>\n",
       "      <td>358.290246</td>\n",
       "      <td>89.572562</td>\n",
       "    </tr>\n",
       "    <tr>\n",
       "      <th>4</th>\n",
       "      <td>tx.5</td>\n",
       "      <td>gene.5343</td>\n",
       "      <td>45.000000</td>\n",
       "      <td>28.000000</td>\n",
       "      <td>51.000000</td>\n",
       "      <td>26.000000</td>\n",
       "      <td>150.000000</td>\n",
       "      <td>37.500000</td>\n",
       "    </tr>\n",
       "  </tbody>\n",
       "</table>\n",
       "</div>"
      ],
      "text/plain": [
       "  TXNAME           GENEID  cshl_356_uky_mapped_filtered_sorted  \\\n",
       "0   tx.1  ENSG00000078808                           638.547019   \n",
       "1   tx.2  ENSG00000008130                            86.895137   \n",
       "2   tx.3        gene.4578                            28.000000   \n",
       "3   tx.4  ENSG00000116663                            89.692718   \n",
       "4   tx.5        gene.5343                            45.000000   \n",
       "\n",
       "   cshl_1271_uky_mapped_filtered_sorted  cshl_1291_uky_mapped_filtered_sorted  \\\n",
       "0                            545.271793                            570.311659   \n",
       "1                            135.226654                            157.979474   \n",
       "2                             69.000000                            162.000000   \n",
       "3                             71.295613                             43.156208   \n",
       "4                             28.000000                             51.000000   \n",
       "\n",
       "   cshl_1304_uky_mapped_filtered_sorted  total_counts  average_counts  \n",
       "0                            918.306555   2672.437026      668.109257  \n",
       "1                             89.532209    469.633474      117.408369  \n",
       "2                             67.000000    326.000000       81.500000  \n",
       "3                            154.145707    358.290246       89.572562  \n",
       "4                             26.000000    150.000000       37.500000  "
      ]
     },
     "execution_count": 29,
     "metadata": {},
     "output_type": "execute_result"
    }
   ],
   "source": [
    "df_transcripts.head()"
   ]
  },
  {
   "cell_type": "code",
   "execution_count": 30,
   "id": "54022f85",
   "metadata": {},
   "outputs": [],
   "source": [
    "df_transcripts.columns = [\"TXNAME\", \"GENEID\", \"356_counts\", \"1271_counts\", \"1291_counts\", \"1304_counts\",\n",
    "                          \"total_counts\", \"average_counts\"]"
   ]
  },
  {
   "cell_type": "code",
   "execution_count": 31,
   "id": "35508678",
   "metadata": {},
   "outputs": [
    {
     "data": {
      "text/html": [
       "<div>\n",
       "<style scoped>\n",
       "    .dataframe tbody tr th:only-of-type {\n",
       "        vertical-align: middle;\n",
       "    }\n",
       "\n",
       "    .dataframe tbody tr th {\n",
       "        vertical-align: top;\n",
       "    }\n",
       "\n",
       "    .dataframe thead th {\n",
       "        text-align: right;\n",
       "    }\n",
       "</style>\n",
       "<table border=\"1\" class=\"dataframe\">\n",
       "  <thead>\n",
       "    <tr style=\"text-align: right;\">\n",
       "      <th></th>\n",
       "      <th>TXNAME</th>\n",
       "      <th>GENEID</th>\n",
       "      <th>356_counts</th>\n",
       "      <th>1271_counts</th>\n",
       "      <th>1291_counts</th>\n",
       "      <th>1304_counts</th>\n",
       "      <th>total_counts</th>\n",
       "      <th>average_counts</th>\n",
       "    </tr>\n",
       "  </thead>\n",
       "  <tbody>\n",
       "    <tr>\n",
       "      <th>1815</th>\n",
       "      <td>ENST00000222304</td>\n",
       "      <td>ENSG00000105697</td>\n",
       "      <td>1925.885909</td>\n",
       "      <td>3684.917684</td>\n",
       "      <td>605.049139</td>\n",
       "      <td>5963.827629</td>\n",
       "      <td>12179.680361</td>\n",
       "      <td>3044.920090</td>\n",
       "    </tr>\n",
       "    <tr>\n",
       "      <th>171637</th>\n",
       "      <td>ENST00000593580</td>\n",
       "      <td>ENSG00000105697</td>\n",
       "      <td>45.791067</td>\n",
       "      <td>30.325560</td>\n",
       "      <td>8.199751</td>\n",
       "      <td>77.189136</td>\n",
       "      <td>161.505515</td>\n",
       "      <td>40.376379</td>\n",
       "    </tr>\n",
       "    <tr>\n",
       "      <th>174400</th>\n",
       "      <td>ENST00000598398</td>\n",
       "      <td>ENSG00000105697</td>\n",
       "      <td>29.323024</td>\n",
       "      <td>22.756756</td>\n",
       "      <td>9.751110</td>\n",
       "      <td>29.983234</td>\n",
       "      <td>91.814124</td>\n",
       "      <td>22.953531</td>\n",
       "    </tr>\n",
       "  </tbody>\n",
       "</table>\n",
       "</div>"
      ],
      "text/plain": [
       "                 TXNAME           GENEID   356_counts  1271_counts  \\\n",
       "1815    ENST00000222304  ENSG00000105697  1925.885909  3684.917684   \n",
       "171637  ENST00000593580  ENSG00000105697    45.791067    30.325560   \n",
       "174400  ENST00000598398  ENSG00000105697    29.323024    22.756756   \n",
       "\n",
       "        1291_counts  1304_counts  total_counts  average_counts  \n",
       "1815     605.049139  5963.827629  12179.680361     3044.920090  \n",
       "171637     8.199751    77.189136    161.505515       40.376379  \n",
       "174400     9.751110    29.983234     91.814124       22.953531  "
      ]
     },
     "execution_count": 31,
     "metadata": {},
     "output_type": "execute_result"
    }
   ],
   "source": [
    "## Look at HAMP expression\n",
    "df_transcripts.loc[df_transcripts[\"GENEID\"].str.contains(\"ENSG00000105697\")]"
   ]
  },
  {
   "cell_type": "code",
   "execution_count": 32,
   "id": "bd967d49",
   "metadata": {},
   "outputs": [
    {
     "data": {
      "text/html": [
       "<div>\n",
       "<style scoped>\n",
       "    .dataframe tbody tr th:only-of-type {\n",
       "        vertical-align: middle;\n",
       "    }\n",
       "\n",
       "    .dataframe tbody tr th {\n",
       "        vertical-align: top;\n",
       "    }\n",
       "\n",
       "    .dataframe thead th {\n",
       "        text-align: right;\n",
       "    }\n",
       "</style>\n",
       "<table border=\"1\" class=\"dataframe\">\n",
       "  <thead>\n",
       "    <tr style=\"text-align: right;\">\n",
       "      <th></th>\n",
       "      <th>TXNAME</th>\n",
       "      <th>GENEID</th>\n",
       "      <th>356_counts</th>\n",
       "      <th>1271_counts</th>\n",
       "      <th>1291_counts</th>\n",
       "      <th>1304_counts</th>\n",
       "      <th>total_counts</th>\n",
       "      <th>average_counts</th>\n",
       "    </tr>\n",
       "  </thead>\n",
       "  <tbody>\n",
       "    <tr>\n",
       "      <th>4065</th>\n",
       "      <td>ENST00000261024</td>\n",
       "      <td>ENSG00000138449</td>\n",
       "      <td>4.269016e+02</td>\n",
       "      <td>4.629957e+02</td>\n",
       "      <td>379.968943</td>\n",
       "      <td>676.999998</td>\n",
       "      <td>1946.866243</td>\n",
       "      <td>486.716561</td>\n",
       "    </tr>\n",
       "    <tr>\n",
       "      <th>43605</th>\n",
       "      <td>ENST00000418714</td>\n",
       "      <td>ENSG00000138449</td>\n",
       "      <td>3.044339e+00</td>\n",
       "      <td>0.000000e+00</td>\n",
       "      <td>0.000000</td>\n",
       "      <td>0.000000</td>\n",
       "      <td>3.044339</td>\n",
       "      <td>0.761085</td>\n",
       "    </tr>\n",
       "    <tr>\n",
       "      <th>48961</th>\n",
       "      <td>ENST00000427241</td>\n",
       "      <td>ENSG00000138449</td>\n",
       "      <td>2.192900e-12</td>\n",
       "      <td>1.004329e+00</td>\n",
       "      <td>0.000009</td>\n",
       "      <td>0.000000</td>\n",
       "      <td>1.004338</td>\n",
       "      <td>0.251085</td>\n",
       "    </tr>\n",
       "    <tr>\n",
       "      <th>57314</th>\n",
       "      <td>ENST00000440626</td>\n",
       "      <td>ENSG00000138449</td>\n",
       "      <td>0.000000e+00</td>\n",
       "      <td>0.000000e+00</td>\n",
       "      <td>0.999991</td>\n",
       "      <td>0.000000</td>\n",
       "      <td>0.999991</td>\n",
       "      <td>0.249998</td>\n",
       "    </tr>\n",
       "    <tr>\n",
       "      <th>66452</th>\n",
       "      <td>ENST00000455320</td>\n",
       "      <td>ENSG00000138449</td>\n",
       "      <td>1.800000e+01</td>\n",
       "      <td>3.000000e+00</td>\n",
       "      <td>0.000000</td>\n",
       "      <td>5.000000</td>\n",
       "      <td>26.000000</td>\n",
       "      <td>6.500000</td>\n",
       "    </tr>\n",
       "    <tr>\n",
       "      <th>84770</th>\n",
       "      <td>ENST00000479598</td>\n",
       "      <td>ENSG00000138449</td>\n",
       "      <td>2.054030e+00</td>\n",
       "      <td>2.359363e-07</td>\n",
       "      <td>1.031057</td>\n",
       "      <td>0.000002</td>\n",
       "      <td>3.085089</td>\n",
       "      <td>0.771272</td>\n",
       "    </tr>\n",
       "  </tbody>\n",
       "</table>\n",
       "</div>"
      ],
      "text/plain": [
       "                TXNAME           GENEID    356_counts   1271_counts  \\\n",
       "4065   ENST00000261024  ENSG00000138449  4.269016e+02  4.629957e+02   \n",
       "43605  ENST00000418714  ENSG00000138449  3.044339e+00  0.000000e+00   \n",
       "48961  ENST00000427241  ENSG00000138449  2.192900e-12  1.004329e+00   \n",
       "57314  ENST00000440626  ENSG00000138449  0.000000e+00  0.000000e+00   \n",
       "66452  ENST00000455320  ENSG00000138449  1.800000e+01  3.000000e+00   \n",
       "84770  ENST00000479598  ENSG00000138449  2.054030e+00  2.359363e-07   \n",
       "\n",
       "       1291_counts  1304_counts  total_counts  average_counts  \n",
       "4065    379.968943   676.999998   1946.866243      486.716561  \n",
       "43605     0.000000     0.000000      3.044339        0.761085  \n",
       "48961     0.000009     0.000000      1.004338        0.251085  \n",
       "57314     0.999991     0.000000      0.999991        0.249998  \n",
       "66452     0.000000     5.000000     26.000000        6.500000  \n",
       "84770     1.031057     0.000002      3.085089        0.771272  "
      ]
     },
     "execution_count": 32,
     "metadata": {},
     "output_type": "execute_result"
    }
   ],
   "source": [
    "## Look at SLC40A1 expression\n",
    "df_transcripts.loc[df_transcripts[\"GENEID\"].str.contains(\"ENSG00000138449\")]"
   ]
  }
 ],
 "metadata": {
  "kernelspec": {
   "display_name": "Python 3 (ipykernel)",
   "language": "python",
   "name": "python3"
  },
  "language_info": {
   "codemirror_mode": {
    "name": "ipython",
    "version": 3
   },
   "file_extension": ".py",
   "mimetype": "text/x-python",
   "name": "python",
   "nbconvert_exporter": "python",
   "pygments_lexer": "ipython3",
   "version": "3.10.6"
  }
 },
 "nbformat": 4,
 "nbformat_minor": 5
}
