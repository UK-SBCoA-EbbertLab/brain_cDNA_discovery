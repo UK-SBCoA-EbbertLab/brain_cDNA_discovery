{
 "cells": [
  {
   "cell_type": "code",
   "execution_count": 1,
   "id": "e1206944",
   "metadata": {},
   "outputs": [],
   "source": [
    "## Import Libraries\n",
    "import pandas as pd\n",
    "import numpy as np\n",
    "import csv\n",
    "\n",
    "\n",
    "pd.set_option(\"max_colwidth\", None)\n",
    "pd.set_option('display.max_columns', None)\n",
    "pd.set_option('display.max_rows', None)"
   ]
  },
  {
   "cell_type": "code",
   "execution_count": 2,
   "id": "3dc2384f",
   "metadata": {},
   "outputs": [],
   "source": [
    "df = pd.read_csv(\"C:/Users/bag22/Desktop/current_files/python_files/ebbert_lab/data/2022-07-14_cDNA_data_ebbert_lab_nextflow_pipeline_output_raw/ONT_only_data/CHM13_good_ONT/bambu_discovery/extended_annotations.gtf\",\n",
    "        sep=\"\\t\", names=[\"chr\", \"source\", \"type\", \"start\", \"end\", \"dot_1\", \"strand\", \"dot_2\", \"other\"])"
   ]
  },
  {
   "cell_type": "code",
   "execution_count": 12,
   "id": "72310488",
   "metadata": {},
   "outputs": [],
   "source": [
    "df_maob = df.loc[df[\"other\"].str.contains(\"ENSG00000069535\")]"
   ]
  },
  {
   "cell_type": "code",
   "execution_count": 13,
   "id": "600a568a",
   "metadata": {},
   "outputs": [],
   "source": [
    "df_maob.to_csv(\"C:/Users/bag22/Desktop/maob_annotation_extended.gtf\", sep=\"\\t\", header=False, index=False, quoting=csv.QUOTE_NONE)"
   ]
  },
  {
   "cell_type": "code",
   "execution_count": 15,
   "id": "414a3ec3",
   "metadata": {},
   "outputs": [
    {
     "data": {
      "text/html": [
       "<div>\n",
       "<style scoped>\n",
       "    .dataframe tbody tr th:only-of-type {\n",
       "        vertical-align: middle;\n",
       "    }\n",
       "\n",
       "    .dataframe tbody tr th {\n",
       "        vertical-align: top;\n",
       "    }\n",
       "\n",
       "    .dataframe thead th {\n",
       "        text-align: right;\n",
       "    }\n",
       "</style>\n",
       "<table border=\"1\" class=\"dataframe\">\n",
       "  <thead>\n",
       "    <tr style=\"text-align: right;\">\n",
       "      <th></th>\n",
       "      <th>chr</th>\n",
       "      <th>source</th>\n",
       "      <th>type</th>\n",
       "      <th>start</th>\n",
       "      <th>end</th>\n",
       "      <th>dot_1</th>\n",
       "      <th>strand</th>\n",
       "      <th>dot_2</th>\n",
       "      <th>other</th>\n",
       "    </tr>\n",
       "  </thead>\n",
       "  <tbody>\n",
       "    <tr>\n",
       "      <th>1636831</th>\n",
       "      <td>chrX</td>\n",
       "      <td>Bambu</td>\n",
       "      <td>transcript</td>\n",
       "      <td>43261879</td>\n",
       "      <td>43288616</td>\n",
       "      <td>.</td>\n",
       "      <td>-</td>\n",
       "      <td>.</td>\n",
       "      <td>gene_id \"ENSG00000069535.14\"; transcript_id \"tx.762\";</td>\n",
       "    </tr>\n",
       "    <tr>\n",
       "      <th>1636832</th>\n",
       "      <td>chrX</td>\n",
       "      <td>Bambu</td>\n",
       "      <td>exon</td>\n",
       "      <td>43261879</td>\n",
       "      <td>43262224</td>\n",
       "      <td>.</td>\n",
       "      <td>-</td>\n",
       "      <td>.</td>\n",
       "      <td>gene_id \"ENSG00000069535.14\"; transcript_id \"tx.762\"; exon_number \"2\";</td>\n",
       "    </tr>\n",
       "    <tr>\n",
       "      <th>1636833</th>\n",
       "      <td>chrX</td>\n",
       "      <td>Bambu</td>\n",
       "      <td>exon</td>\n",
       "      <td>43288451</td>\n",
       "      <td>43288616</td>\n",
       "      <td>.</td>\n",
       "      <td>-</td>\n",
       "      <td>.</td>\n",
       "      <td>gene_id \"ENSG00000069535.14\"; transcript_id \"tx.762\"; exon_number \"1\";</td>\n",
       "    </tr>\n",
       "  </tbody>\n",
       "</table>\n",
       "</div>"
      ],
      "text/plain": [
       "          chr source        type     start       end dot_1 strand dot_2  \\\n",
       "1636831  chrX  Bambu  transcript  43261879  43288616     .      -     .   \n",
       "1636832  chrX  Bambu        exon  43261879  43262224     .      -     .   \n",
       "1636833  chrX  Bambu        exon  43288451  43288616     .      -     .   \n",
       "\n",
       "                                                                          other  \n",
       "1636831                   gene_id \"ENSG00000069535.14\"; transcript_id \"tx.762\";  \n",
       "1636832  gene_id \"ENSG00000069535.14\"; transcript_id \"tx.762\"; exon_number \"2\";  \n",
       "1636833  gene_id \"ENSG00000069535.14\"; transcript_id \"tx.762\"; exon_number \"1\";  "
      ]
     },
     "execution_count": 15,
     "metadata": {},
     "output_type": "execute_result"
    }
   ],
   "source": [
    "df_maob.loc[df_maob[\"other\"].str.contains(\"tx.762\")]"
   ]
  },
  {
   "cell_type": "code",
   "execution_count": null,
   "id": "85cc9924",
   "metadata": {},
   "outputs": [],
   "source": []
  },
  {
   "cell_type": "code",
   "execution_count": 21,
   "id": "bf3657a5",
   "metadata": {},
   "outputs": [],
   "source": [
    "df_counts = pd.read_csv(\"C:/Users/bag22/Desktop/current_files/python_files/ebbert_lab/data/2022-07-14_cDNA_data_ebbert_lab_nextflow_pipeline_output_raw/ONT_only_data/CHM13_good_ONT/bambu_discovery/counts_transcript.txt\",\n",
    "        sep=\"\\t\", names=[\"TXNAME\", \"GENEID\", \"sample_PAM54788\",\n",
    "                         \"sample_PAM54335\", \"sample_PAM54401\", \"sample_PAM54902\"], low_memory=False)"
   ]
  },
  {
   "cell_type": "code",
   "execution_count": 22,
   "id": "c9b30dfa",
   "metadata": {},
   "outputs": [
    {
     "data": {
      "text/html": [
       "<div>\n",
       "<style scoped>\n",
       "    .dataframe tbody tr th:only-of-type {\n",
       "        vertical-align: middle;\n",
       "    }\n",
       "\n",
       "    .dataframe tbody tr th {\n",
       "        vertical-align: top;\n",
       "    }\n",
       "\n",
       "    .dataframe thead th {\n",
       "        text-align: right;\n",
       "    }\n",
       "</style>\n",
       "<table border=\"1\" class=\"dataframe\">\n",
       "  <thead>\n",
       "    <tr style=\"text-align: right;\">\n",
       "      <th></th>\n",
       "      <th>TXNAME</th>\n",
       "      <th>GENEID</th>\n",
       "      <th>sample_PAM54788</th>\n",
       "      <th>sample_PAM54335</th>\n",
       "      <th>sample_PAM54401</th>\n",
       "      <th>sample_PAM54902</th>\n",
       "    </tr>\n",
       "  </thead>\n",
       "  <tbody>\n",
       "    <tr>\n",
       "      <th>762</th>\n",
       "      <td>tx.762</td>\n",
       "      <td>ENSG00000069535.14</td>\n",
       "      <td>166.046954719697</td>\n",
       "      <td>125.439755805158</td>\n",
       "      <td>101</td>\n",
       "      <td>413.449060191542</td>\n",
       "    </tr>\n",
       "  </tbody>\n",
       "</table>\n",
       "</div>"
      ],
      "text/plain": [
       "     TXNAME              GENEID   sample_PAM54788   sample_PAM54335  \\\n",
       "762  tx.762  ENSG00000069535.14  166.046954719697  125.439755805158   \n",
       "\n",
       "    sample_PAM54401   sample_PAM54902  \n",
       "762             101  413.449060191542  "
      ]
     },
     "execution_count": 22,
     "metadata": {},
     "output_type": "execute_result"
    }
   ],
   "source": [
    "df_counts.loc[df_counts[\"TXNAME\"] == \"tx.762\"]"
   ]
  }
 ],
 "metadata": {
  "kernelspec": {
   "display_name": "Python 3 (ipykernel)",
   "language": "python",
   "name": "python3"
  },
  "language_info": {
   "codemirror_mode": {
    "name": "ipython",
    "version": 3
   },
   "file_extension": ".py",
   "mimetype": "text/x-python",
   "name": "python",
   "nbconvert_exporter": "python",
   "pygments_lexer": "ipython3",
   "version": "3.10.6"
  }
 },
 "nbformat": 4,
 "nbformat_minor": 5
}
