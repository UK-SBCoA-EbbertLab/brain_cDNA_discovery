{
 "cells": [
  {
   "cell_type": "code",
   "execution_count": 1,
   "id": "10d205e7",
   "metadata": {},
   "outputs": [],
   "source": [
    "## Import Libraries\n",
    "import pandas as pd\n",
    "import numpy as np\n",
    "import csv\n",
    "import matplotlib.pyplot as plt\n",
    "%matplotlib inline\n",
    "import openpyxl\n",
    "\n",
    "pd.set_option(\"max_colwidth\", None)\n",
    "pd.set_option('display.max_columns', None)\n",
    "pd.set_option('display.max_rows', None)"
   ]
  },
  {
   "cell_type": "code",
   "execution_count": 2,
   "id": "ac5b0d2e",
   "metadata": {},
   "outputs": [],
   "source": [
    "'''\n",
    "function name: parse_df_columns\n",
    "\n",
    "purpose: parsing the last aggregate column of the gtf/gff3 into useful columns and cleaning non-relevant columns\n",
    "\n",
    "input: dataframe containining \"raw\" gtf/gff\n",
    "\n",
    "output: dataframe containing gtf with useful columns [\"gene_id\", \"transcript_id\", etc...]\n",
    "'''\n",
    "\n",
    "def parse_df_columns(df, is_ref=True):\n",
    "\n",
    "    if is_ref:\n",
    "\n",
    "        ## Get gene ids\n",
    "        df[\"gene_id\"] = df[\"other\"].str.split(\"source_gene=\", expand=True)[1].str.split(';', expand=True)[0]\n",
    "        \n",
    "        ## Get gene names\n",
    "        df[\"gene_name\"] = df[\"other\"].str.split(\"source_gene_common_name=\", expand=True)[1].str.split(';', expand=True)[0]\n",
    "        \n",
    "        ## Only keep relevant\n",
    "        df = df[[\"chr\", \"gene_id\", \"gene_name\"]].copy()\n",
    "\n",
    "        ## Drop duplicates\n",
    "        df.drop_duplicates(inplace=True)\n",
    "        \n",
    "\n",
    "    else:\n",
    "\n",
    "        ## Get CHM gene ids\n",
    "        df[\"gene_id\"] = df[\"other\"].str.split('\";', expand=True)[0].str.extract(\"([^ \\\"]*$)\", expand=True)\n",
    "\n",
    "        ## Drop \"other\" column\n",
    "        df = df[[\"chr\", \"gene_id\"]].copy()\n",
    "        \n",
    "    for col in df.columns:\n",
    "        df.loc[df[col].isnull(), col] = np.NaN\n",
    "        \n",
    "\n",
    "    return df"
   ]
  },
  {
   "cell_type": "code",
   "execution_count": 3,
   "id": "98aca432",
   "metadata": {},
   "outputs": [],
   "source": [
    "'''\n",
    "function name: calculate_cpm\n",
    "\n",
    "purpose: Calculate CPM for the each sample given\n",
    "\n",
    "input: Counts dataset\n",
    "\n",
    "output: Counts dataset with CPM columns as well\n",
    "'''\n",
    "\n",
    "def calculate_cpm(df):\n",
    "\n",
    "    ## Loop through counts columns to calculate CPM and add to the dataframe\n",
    "    for col in [\"total_counts\"]:\n",
    "        \n",
    "        df[col] = df[col]\n",
    "        cpm_name = \"average_CPM\"\n",
    "        df[cpm_name] = ((df[col]/(df[col].sum())) * 1000000)\n",
    "    \n",
    "    return df "
   ]
  },
  {
   "cell_type": "code",
   "execution_count": 4,
   "id": "1c82eed1",
   "metadata": {},
   "outputs": [],
   "source": [
    "## Import transcripts\n",
    "df_transcripts = pd.read_csv(\"../../data/raw/merged_aged_stringent/bambu_discovery/counts_transcript.txt\",\n",
    "        sep=\"\\t\", low_memory=False, header=0)"
   ]
  },
  {
   "cell_type": "code",
   "execution_count": 5,
   "id": "099ebfa0",
   "metadata": {},
   "outputs": [],
   "source": [
    "## Import Genes\n",
    "df_genes = pd.read_csv(\"../../data/raw/merged_aged_stringent/bambu_discovery/counts_gene.txt\",\n",
    "        sep=\"\\t\", low_memory=False, header=0)"
   ]
  },
  {
   "cell_type": "code",
   "execution_count": 6,
   "id": "fd3f3eda",
   "metadata": {},
   "outputs": [],
   "source": [
    "## Get total counts for genes and transcripts\n",
    "df_genes[\"total_counts\"] = df_genes[df_genes.columns[1:]].sum(axis=1)\n",
    "df_transcripts[\"total_counts\"] = df_transcripts[df_transcripts.columns[2:]].sum(axis=1)"
   ]
  },
  {
   "cell_type": "code",
   "execution_count": 7,
   "id": "20531ce5",
   "metadata": {},
   "outputs": [],
   "source": [
    "## Get average counts for genes and transcripts\n",
    "df_genes[\"average_counts\"] = df_genes[\"total_counts\"]/4\n",
    "df_transcripts[\"average_counts\"] = df_transcripts[\"total_counts\"]/4"
   ]
  },
  {
   "cell_type": "code",
   "execution_count": 8,
   "id": "eac096e3",
   "metadata": {},
   "outputs": [],
   "source": [
    "## Only keep genes and transcripts with more than 0 counts\n",
    "df_genes = df_genes.loc[df_genes[\"total_counts\"] > 0].copy()\n",
    "df_transcripts = df_transcripts.loc[df_transcripts[\"total_counts\"] > 0].copy()"
   ]
  },
  {
   "cell_type": "code",
   "execution_count": 9,
   "id": "e0e45aec",
   "metadata": {},
   "outputs": [],
   "source": [
    "## Calculate percentile\n",
    "df_genes['percentile'] = df_genes[\"total_counts\"].rank(pct=True)"
   ]
  },
  {
   "cell_type": "code",
   "execution_count": 10,
   "id": "3e2b3a4b",
   "metadata": {},
   "outputs": [],
   "source": [
    "## Calculate Rank\n",
    "df_genes['rank'] = df_genes[\"total_counts\"].rank(ascending=False)"
   ]
  },
  {
   "cell_type": "code",
   "execution_count": 11,
   "id": "b15bf946",
   "metadata": {},
   "outputs": [
    {
     "data": {
      "text/html": [
       "<div>\n",
       "<style scoped>\n",
       "    .dataframe tbody tr th:only-of-type {\n",
       "        vertical-align: middle;\n",
       "    }\n",
       "\n",
       "    .dataframe tbody tr th {\n",
       "        vertical-align: top;\n",
       "    }\n",
       "\n",
       "    .dataframe thead th {\n",
       "        text-align: right;\n",
       "    }\n",
       "</style>\n",
       "<table border=\"1\" class=\"dataframe\">\n",
       "  <thead>\n",
       "    <tr style=\"text-align: right;\">\n",
       "      <th></th>\n",
       "      <th>cshl_356_uky_mapped_filtered_sorted</th>\n",
       "      <th>cshl_1291_uky_mapped_filtered_sorted</th>\n",
       "      <th>cshl_1304_uky_mapped_filtered_sorted</th>\n",
       "      <th>cshl_1271_uky_mapped_filtered_sorted</th>\n",
       "      <th>total_counts</th>\n",
       "      <th>average_counts</th>\n",
       "      <th>percentile</th>\n",
       "      <th>rank</th>\n",
       "    </tr>\n",
       "  </thead>\n",
       "  <tbody>\n",
       "    <tr>\n",
       "      <th>ENSG00000142192</th>\n",
       "      <td>44627</td>\n",
       "      <td>30588</td>\n",
       "      <td>52703</td>\n",
       "      <td>70702</td>\n",
       "      <td>153993</td>\n",
       "      <td>38498.25</td>\n",
       "      <td>0.996161</td>\n",
       "      <td>199.0</td>\n",
       "    </tr>\n",
       "  </tbody>\n",
       "</table>\n",
       "</div>"
      ],
      "text/plain": [
       "                 cshl_356_uky_mapped_filtered_sorted  \\\n",
       "ENSG00000142192                                44627   \n",
       "\n",
       "                 cshl_1291_uky_mapped_filtered_sorted  \\\n",
       "ENSG00000142192                                 30588   \n",
       "\n",
       "                 cshl_1304_uky_mapped_filtered_sorted  \\\n",
       "ENSG00000142192                                 52703   \n",
       "\n",
       "                 cshl_1271_uky_mapped_filtered_sorted  total_counts  \\\n",
       "ENSG00000142192                                 70702        153993   \n",
       "\n",
       "                 average_counts  percentile   rank  \n",
       "ENSG00000142192        38498.25    0.996161  199.0  "
      ]
     },
     "execution_count": 11,
     "metadata": {},
     "output_type": "execute_result"
    }
   ],
   "source": [
    "## See rank for  PIEZO1P1 \n",
    "## Respectively: ENSG00000233686\n",
    "df_genes.loc[df_genes.index.str.contains(\"ENSG00000142192\")]"
   ]
  },
  {
   "cell_type": "code",
   "execution_count": 12,
   "id": "3270c767",
   "metadata": {},
   "outputs": [],
   "source": [
    "## Get total counts for all genes with more than 0 counts\n",
    "total_counts = df_genes[\"total_counts\"]"
   ]
  },
  {
   "cell_type": "code",
   "execution_count": 13,
   "id": "22261de3",
   "metadata": {},
   "outputs": [],
   "source": [
    "## Get log total counts\n",
    "log_total_counts = np.log10(df_genes[\"total_counts\"])"
   ]
  },
  {
   "cell_type": "code",
   "execution_count": 14,
   "id": "694f5d03",
   "metadata": {},
   "outputs": [
    {
     "name": "stdout",
     "output_type": "stream",
     "text": [
      "APP Log Expression: 5.1875009797295295\n"
     ]
    }
   ],
   "source": [
    "print(\"APP Log Expression:\", log_total_counts[\"ENSG00000142192\"])"
   ]
  },
  {
   "cell_type": "code",
   "execution_count": 16,
   "id": "bea27113",
   "metadata": {},
   "outputs": [
    {
     "data": {
      "text/plain": [
       "0.6989700043360189"
      ]
     },
     "execution_count": 16,
     "metadata": {},
     "output_type": "execute_result"
    }
   ],
   "source": [
    "np.log10(5)"
   ]
  },
  {
   "cell_type": "code",
   "execution_count": 17,
   "id": "2ec2c528",
   "metadata": {},
   "outputs": [],
   "source": [
    "## Use ggplot colors\n",
    "ggplot2_colors = [\"#F8766D\", \"#CD9600\", \"#7CAE00\", \"#00BE67\", \"#00BFC4\", \"#00A9FF\", \"#C77CFF\", \"#FF61CC\"]"
   ]
  },
  {
   "cell_type": "code",
   "execution_count": 22,
   "id": "2253fcb3",
   "metadata": {},
   "outputs": [
    {
     "data": {
      "image/png": "[encoded data removed]",
      "text/plain": [
       "<Figure size 1728x1296 with 1 Axes>"
      ]
     },
     "metadata": {
      "needs_background": "light"
     },
     "output_type": "display_data"
    }
   ],
   "source": [
    "## Create log plot\n",
    "## Set parameters for figures\n",
    "from matplotlib import rcParams\n",
    "\n",
    "\n",
    "\n",
    "fig, ax = plt.subplots(figsize = (24,18))\n",
    "rcParams.update({'font.size': 24})\n",
    "rcParams['axes.linewidth'] = 6\n",
    "\n",
    "\n",
    "log_total_counts.plot(kind = \"hist\", density = True, bins = 100, color=\"#F8766D\", alpha=0.5) # change density to true, because KDE uses density\n",
    "\n",
    "\n",
    "log_total_counts.plot(kind = \"kde\", color=\"#CD9600\", alpha=1)\n",
    "\n",
    "ax.set_xlabel(\"Log10 Total Counts\", size=24)\n",
    "\n",
    "\n",
    "ax.set_title(\"Histogram of Total Read Counts per Gene\\n\", size=24)\n",
    "\n",
    "ax.axvline(5.19, alpha=1, ymax = 0.85, linestyle = \":\", color=\"#4d4d4d\", linewidth=4)\n",
    "\n",
    "ax.text(5.19 - 0.5, 0.59, \"APP\", size = 40, alpha = 1, color=\"#7CAE00\")\n",
    "\n",
    "plt.savefig('/home/bag222/app_histogram.svg',\n",
    "            dpi=300, transparent=True, bbox_inches=\"tight\")\n",
    "\n",
    "plt.savefig('/home/bag222/app_histogram.png',\n",
    "            dpi=300, transparent=True, bbox_inches=\"tight\")\n",
    "\n",
    "\n",
    "plt.show()"
   ]
  },
  {
   "cell_type": "code",
   "execution_count": 23,
   "id": "31de1ca8",
   "metadata": {},
   "outputs": [],
   "source": [
    "df_genes_cpm = calculate_cpm(df_genes)"
   ]
  },
  {
   "cell_type": "code",
   "execution_count": 24,
   "id": "c57c9560",
   "metadata": {},
   "outputs": [
    {
     "data": {
      "text/html": [
       "<div>\n",
       "<style scoped>\n",
       "    .dataframe tbody tr th:only-of-type {\n",
       "        vertical-align: middle;\n",
       "    }\n",
       "\n",
       "    .dataframe tbody tr th {\n",
       "        vertical-align: top;\n",
       "    }\n",
       "\n",
       "    .dataframe thead th {\n",
       "        text-align: right;\n",
       "    }\n",
       "</style>\n",
       "<table border=\"1\" class=\"dataframe\">\n",
       "  <thead>\n",
       "    <tr style=\"text-align: right;\">\n",
       "      <th></th>\n",
       "      <th>cshl_356_uky_mapped_filtered_sorted</th>\n",
       "      <th>cshl_1291_uky_mapped_filtered_sorted</th>\n",
       "      <th>cshl_1304_uky_mapped_filtered_sorted</th>\n",
       "      <th>cshl_1271_uky_mapped_filtered_sorted</th>\n",
       "      <th>total_counts</th>\n",
       "      <th>average_counts</th>\n",
       "      <th>percentile</th>\n",
       "      <th>rank</th>\n",
       "      <th>average_CPM</th>\n",
       "    </tr>\n",
       "  </thead>\n",
       "  <tbody>\n",
       "    <tr>\n",
       "      <th>ENSG00000000003</th>\n",
       "      <td>476</td>\n",
       "      <td>660</td>\n",
       "      <td>969</td>\n",
       "      <td>868</td>\n",
       "      <td>2497</td>\n",
       "      <td>624.25</td>\n",
       "      <td>0.823485</td>\n",
       "      <td>9106.0</td>\n",
       "      <td>9.571391</td>\n",
       "    </tr>\n",
       "    <tr>\n",
       "      <th>ENSG00000000005</th>\n",
       "      <td>16</td>\n",
       "      <td>20</td>\n",
       "      <td>31</td>\n",
       "      <td>23</td>\n",
       "      <td>74</td>\n",
       "      <td>18.50</td>\n",
       "      <td>0.508656</td>\n",
       "      <td>25345.5</td>\n",
       "      <td>0.283654</td>\n",
       "    </tr>\n",
       "    <tr>\n",
       "      <th>ENSG00000000419</th>\n",
       "      <td>2930</td>\n",
       "      <td>2061</td>\n",
       "      <td>4146</td>\n",
       "      <td>6086</td>\n",
       "      <td>12293</td>\n",
       "      <td>3073.25</td>\n",
       "      <td>0.946163</td>\n",
       "      <td>2778.0</td>\n",
       "      <td>47.120990</td>\n",
       "    </tr>\n",
       "    <tr>\n",
       "      <th>ENSG00000000457</th>\n",
       "      <td>549</td>\n",
       "      <td>377</td>\n",
       "      <td>700</td>\n",
       "      <td>420</td>\n",
       "      <td>1497</td>\n",
       "      <td>374.25</td>\n",
       "      <td>0.782986</td>\n",
       "      <td>11195.0</td>\n",
       "      <td>5.738235</td>\n",
       "    </tr>\n",
       "    <tr>\n",
       "      <th>ENSG00000000460</th>\n",
       "      <td>158</td>\n",
       "      <td>109</td>\n",
       "      <td>227</td>\n",
       "      <td>157</td>\n",
       "      <td>493</td>\n",
       "      <td>123.25</td>\n",
       "      <td>0.707446</td>\n",
       "      <td>15091.5</td>\n",
       "      <td>1.889746</td>\n",
       "    </tr>\n",
       "  </tbody>\n",
       "</table>\n",
       "</div>"
      ],
      "text/plain": [
       "                 cshl_356_uky_mapped_filtered_sorted  \\\n",
       "ENSG00000000003                                  476   \n",
       "ENSG00000000005                                   16   \n",
       "ENSG00000000419                                 2930   \n",
       "ENSG00000000457                                  549   \n",
       "ENSG00000000460                                  158   \n",
       "\n",
       "                 cshl_1291_uky_mapped_filtered_sorted  \\\n",
       "ENSG00000000003                                   660   \n",
       "ENSG00000000005                                    20   \n",
       "ENSG00000000419                                  2061   \n",
       "ENSG00000000457                                   377   \n",
       "ENSG00000000460                                   109   \n",
       "\n",
       "                 cshl_1304_uky_mapped_filtered_sorted  \\\n",
       "ENSG00000000003                                   969   \n",
       "ENSG00000000005                                    31   \n",
       "ENSG00000000419                                  4146   \n",
       "ENSG00000000457                                   700   \n",
       "ENSG00000000460                                   227   \n",
       "\n",
       "                 cshl_1271_uky_mapped_filtered_sorted  total_counts  \\\n",
       "ENSG00000000003                                   868          2497   \n",
       "ENSG00000000005                                    23            74   \n",
       "ENSG00000000419                                  6086         12293   \n",
       "ENSG00000000457                                   420          1497   \n",
       "ENSG00000000460                                   157           493   \n",
       "\n",
       "                 average_counts  percentile     rank  average_CPM  \n",
       "ENSG00000000003          624.25    0.823485   9106.0     9.571391  \n",
       "ENSG00000000005           18.50    0.508656  25345.5     0.283654  \n",
       "ENSG00000000419         3073.25    0.946163   2778.0    47.120990  \n",
       "ENSG00000000457          374.25    0.782986  11195.0     5.738235  \n",
       "ENSG00000000460          123.25    0.707446  15091.5     1.889746  "
      ]
     },
     "execution_count": 24,
     "metadata": {},
     "output_type": "execute_result"
    }
   ],
   "source": [
    "df_genes_cpm.head()"
   ]
  },
  {
   "cell_type": "code",
   "execution_count": 27,
   "id": "65d7f5d2",
   "metadata": {},
   "outputs": [],
   "source": [
    "## Get total counts for all genes with more than 0 counts\n",
    "total_cpm = df_genes_cpm[\"average_CPM\"]"
   ]
  },
  {
   "cell_type": "code",
   "execution_count": 28,
   "id": "f90f2913",
   "metadata": {},
   "outputs": [],
   "source": [
    "## Get log total counts\n",
    "log_total_cpm = np.log10(df_genes_cpm[\"average_CPM\"])"
   ]
  },
  {
   "cell_type": "code",
   "execution_count": 29,
   "id": "f02a82f1",
   "metadata": {},
   "outputs": [
    {
     "name": "stdout",
     "output_type": "stream",
     "text": [
      "APP Log Expression: 2.7710575020733\n"
     ]
    }
   ],
   "source": [
    "print(\"APP Log Expression:\", log_total_cpm[\"ENSG00000142192\"])"
   ]
  },
  {
   "cell_type": "code",
   "execution_count": 30,
   "id": "d4e34961",
   "metadata": {},
   "outputs": [
    {
     "data": {
      "text/html": [
       "<div>\n",
       "<style scoped>\n",
       "    .dataframe tbody tr th:only-of-type {\n",
       "        vertical-align: middle;\n",
       "    }\n",
       "\n",
       "    .dataframe tbody tr th {\n",
       "        vertical-align: top;\n",
       "    }\n",
       "\n",
       "    .dataframe thead th {\n",
       "        text-align: right;\n",
       "    }\n",
       "</style>\n",
       "<table border=\"1\" class=\"dataframe\">\n",
       "  <thead>\n",
       "    <tr style=\"text-align: right;\">\n",
       "      <th></th>\n",
       "      <th>cshl_356_uky_mapped_filtered_sorted</th>\n",
       "      <th>cshl_1291_uky_mapped_filtered_sorted</th>\n",
       "      <th>cshl_1304_uky_mapped_filtered_sorted</th>\n",
       "      <th>cshl_1271_uky_mapped_filtered_sorted</th>\n",
       "      <th>total_counts</th>\n",
       "      <th>average_counts</th>\n",
       "      <th>percentile</th>\n",
       "      <th>rank</th>\n",
       "      <th>average_CPM</th>\n",
       "    </tr>\n",
       "  </thead>\n",
       "  <tbody>\n",
       "    <tr>\n",
       "      <th>ENSG00000142192</th>\n",
       "      <td>44627</td>\n",
       "      <td>30588</td>\n",
       "      <td>52703</td>\n",
       "      <td>70702</td>\n",
       "      <td>153993</td>\n",
       "      <td>38498.25</td>\n",
       "      <td>0.996161</td>\n",
       "      <td>199.0</td>\n",
       "      <td>590.27923</td>\n",
       "    </tr>\n",
       "  </tbody>\n",
       "</table>\n",
       "</div>"
      ],
      "text/plain": [
       "                 cshl_356_uky_mapped_filtered_sorted  \\\n",
       "ENSG00000142192                                44627   \n",
       "\n",
       "                 cshl_1291_uky_mapped_filtered_sorted  \\\n",
       "ENSG00000142192                                 30588   \n",
       "\n",
       "                 cshl_1304_uky_mapped_filtered_sorted  \\\n",
       "ENSG00000142192                                 52703   \n",
       "\n",
       "                 cshl_1271_uky_mapped_filtered_sorted  total_counts  \\\n",
       "ENSG00000142192                                 70702        153993   \n",
       "\n",
       "                 average_counts  percentile   rank  average_CPM  \n",
       "ENSG00000142192        38498.25    0.996161  199.0    590.27923  "
      ]
     },
     "execution_count": 30,
     "metadata": {},
     "output_type": "execute_result"
    }
   ],
   "source": [
    "df_genes_cpm.loc[df_genes_cpm.index == \"ENSG00000142192\"]"
   ]
  },
  {
   "cell_type": "code",
   "execution_count": 35,
   "id": "b5340436",
   "metadata": {},
   "outputs": [
    {
     "data": {
      "image/png": "[encoded data removed]",
      "text/plain": [
       "<Figure size 1728x1296 with 1 Axes>"
      ]
     },
     "metadata": {
      "needs_background": "light"
     },
     "output_type": "display_data"
    }
   ],
   "source": [
    "## Create log plot\n",
    "## Set parameters for figures\n",
    "from matplotlib import rcParams\n",
    "\n",
    "\n",
    "\n",
    "fig, ax = plt.subplots(figsize = (24,18))\n",
    "rcParams.update({'font.size': 24})\n",
    "rcParams['axes.linewidth'] = 6\n",
    "\n",
    "\n",
    "log_total_cpm.plot(kind = \"hist\", density = True, bins = 100, color=\"#F8766D\", alpha=0.5) # change density to true, because KDE uses density\n",
    "\n",
    "\n",
    "log_total_cpm.plot(kind = \"kde\", color=\"#CD9600\", alpha=1)\n",
    "\n",
    "ax.set_xlabel(\"Log10 CPM\", size=24)\n",
    "\n",
    "\n",
    "ax.set_title(\"Histogram of CPM per Gene\\n\", size=24)\n",
    "\n",
    "ax.axvline(2.77, alpha=1, ymax = 0.85, linestyle = \":\", color=\"#4d4d4d\", linewidth=4)\n",
    "ax.axvline(0.698, alpha=1, ymax = 0.85, linestyle = \":\", color=\"#4d4d4d\", linewidth=4)\n",
    "\n",
    "\n",
    "\n",
    "ax.text(2.77 - 0.5, 0.59, \"APP\", size = 40, alpha = 1, color=\"#7CAE00\")\n",
    "ax.text(0.698 - 1.2, 0.59, \"CPM = 5\", size = 40, alpha = 1, color=\"#CD9600\")\n",
    "\n",
    "plt.savefig('/home/bag222/app_histogram_cpm.svg',\n",
    "            dpi=300, transparent=True, bbox_inches=\"tight\")\n",
    "\n",
    "plt.savefig('/home/bag222/app_histogram_cpm.png',\n",
    "            dpi=300, transparent=True, bbox_inches=\"tight\")\n",
    "\n",
    "plt.show()"
   ]
  },
  {
   "cell_type": "code",
   "execution_count": null,
   "id": "37d6ec06",
   "metadata": {},
   "outputs": [],
   "source": []
  },
  {
   "cell_type": "code",
   "execution_count": 22,
   "id": "35b3ac5e",
   "metadata": {},
   "outputs": [
    {
     "data": {
      "text/html": [
       "<div>\n",
       "<style scoped>\n",
       "    .dataframe tbody tr th:only-of-type {\n",
       "        vertical-align: middle;\n",
       "    }\n",
       "\n",
       "    .dataframe tbody tr th {\n",
       "        vertical-align: top;\n",
       "    }\n",
       "\n",
       "    .dataframe thead th {\n",
       "        text-align: right;\n",
       "    }\n",
       "</style>\n",
       "<table border=\"1\" class=\"dataframe\">\n",
       "  <thead>\n",
       "    <tr style=\"text-align: right;\">\n",
       "      <th></th>\n",
       "      <th>TXNAME</th>\n",
       "      <th>GENEID</th>\n",
       "      <th>cshl_356_uky_mapped_filtered_sorted</th>\n",
       "      <th>cshl_1291_uky_mapped_filtered_sorted</th>\n",
       "      <th>cshl_1304_uky_mapped_filtered_sorted</th>\n",
       "      <th>cshl_1271_uky_mapped_filtered_sorted</th>\n",
       "      <th>total_counts</th>\n",
       "      <th>average_counts</th>\n",
       "    </tr>\n",
       "  </thead>\n",
       "  <tbody>\n",
       "    <tr>\n",
       "      <th>0</th>\n",
       "      <td>tx.1</td>\n",
       "      <td>ENSG00000078808</td>\n",
       "      <td>638.547019</td>\n",
       "      <td>570.311659</td>\n",
       "      <td>918.306555</td>\n",
       "      <td>545.271793</td>\n",
       "      <td>2672.437026</td>\n",
       "      <td>668.109257</td>\n",
       "    </tr>\n",
       "    <tr>\n",
       "      <th>1</th>\n",
       "      <td>tx.2</td>\n",
       "      <td>ENSG00000008130</td>\n",
       "      <td>86.895137</td>\n",
       "      <td>157.979474</td>\n",
       "      <td>89.532209</td>\n",
       "      <td>135.226654</td>\n",
       "      <td>469.633474</td>\n",
       "      <td>117.408369</td>\n",
       "    </tr>\n",
       "    <tr>\n",
       "      <th>2</th>\n",
       "      <td>tx.3</td>\n",
       "      <td>gene.4578</td>\n",
       "      <td>28.000000</td>\n",
       "      <td>162.000000</td>\n",
       "      <td>67.000000</td>\n",
       "      <td>69.000000</td>\n",
       "      <td>326.000000</td>\n",
       "      <td>81.500000</td>\n",
       "    </tr>\n",
       "    <tr>\n",
       "      <th>3</th>\n",
       "      <td>tx.4</td>\n",
       "      <td>ENSG00000116663</td>\n",
       "      <td>89.692718</td>\n",
       "      <td>43.156208</td>\n",
       "      <td>154.145707</td>\n",
       "      <td>71.295613</td>\n",
       "      <td>358.290246</td>\n",
       "      <td>89.572562</td>\n",
       "    </tr>\n",
       "    <tr>\n",
       "      <th>4</th>\n",
       "      <td>tx.5</td>\n",
       "      <td>gene.5343</td>\n",
       "      <td>45.000000</td>\n",
       "      <td>51.000000</td>\n",
       "      <td>26.000000</td>\n",
       "      <td>28.000000</td>\n",
       "      <td>150.000000</td>\n",
       "      <td>37.500000</td>\n",
       "    </tr>\n",
       "  </tbody>\n",
       "</table>\n",
       "</div>"
      ],
      "text/plain": [
       "  TXNAME           GENEID  cshl_356_uky_mapped_filtered_sorted  \\\n",
       "0   tx.1  ENSG00000078808                           638.547019   \n",
       "1   tx.2  ENSG00000008130                            86.895137   \n",
       "2   tx.3        gene.4578                            28.000000   \n",
       "3   tx.4  ENSG00000116663                            89.692718   \n",
       "4   tx.5        gene.5343                            45.000000   \n",
       "\n",
       "   cshl_1291_uky_mapped_filtered_sorted  cshl_1304_uky_mapped_filtered_sorted  \\\n",
       "0                            570.311659                            918.306555   \n",
       "1                            157.979474                             89.532209   \n",
       "2                            162.000000                             67.000000   \n",
       "3                             43.156208                            154.145707   \n",
       "4                             51.000000                             26.000000   \n",
       "\n",
       "   cshl_1271_uky_mapped_filtered_sorted  total_counts  average_counts  \n",
       "0                            545.271793   2672.437026      668.109257  \n",
       "1                            135.226654    469.633474      117.408369  \n",
       "2                             69.000000    326.000000       81.500000  \n",
       "3                             71.295613    358.290246       89.572562  \n",
       "4                             28.000000    150.000000       37.500000  "
      ]
     },
     "execution_count": 22,
     "metadata": {},
     "output_type": "execute_result"
    }
   ],
   "source": [
    "df_transcripts.head()"
   ]
  },
  {
   "cell_type": "code",
   "execution_count": 23,
   "id": "e3bb95f8",
   "metadata": {},
   "outputs": [],
   "source": [
    "df_transcripts.columns = [\"TXNAME\", \"GENEID\", \"356_counts\", \"1291_counts\", \"1304_counts\", \"1271_counts\",\n",
    "                          \"total_counts\", \"average_counts\"]"
   ]
  },
  {
   "cell_type": "code",
   "execution_count": 26,
   "id": "27f66330",
   "metadata": {},
   "outputs": [],
   "source": [
    "df_t_cpm = calculate_cpm(df_transcripts)"
   ]
  },
  {
   "cell_type": "code",
   "execution_count": 29,
   "id": "9426f781",
   "metadata": {},
   "outputs": [
    {
     "name": "stdout",
     "output_type": "stream",
     "text": [
      "PIEZO1P1\n"
     ]
    },
    {
     "data": {
      "text/html": [
       "<div>\n",
       "<style scoped>\n",
       "    .dataframe tbody tr th:only-of-type {\n",
       "        vertical-align: middle;\n",
       "    }\n",
       "\n",
       "    .dataframe tbody tr th {\n",
       "        vertical-align: top;\n",
       "    }\n",
       "\n",
       "    .dataframe thead th {\n",
       "        text-align: right;\n",
       "    }\n",
       "</style>\n",
       "<table border=\"1\" class=\"dataframe\">\n",
       "  <thead>\n",
       "    <tr style=\"text-align: right;\">\n",
       "      <th></th>\n",
       "      <th>TXNAME</th>\n",
       "      <th>GENEID</th>\n",
       "      <th>356_counts</th>\n",
       "      <th>1291_counts</th>\n",
       "      <th>1304_counts</th>\n",
       "      <th>1271_counts</th>\n",
       "      <th>total_counts</th>\n",
       "      <th>average_counts</th>\n",
       "      <th>average_CPM</th>\n",
       "    </tr>\n",
       "  </thead>\n",
       "  <tbody>\n",
       "    <tr>\n",
       "      <th>89442</th>\n",
       "      <td>ENST00000485427</td>\n",
       "      <td>ENSG00000233686</td>\n",
       "      <td>0.0</td>\n",
       "      <td>3.0</td>\n",
       "      <td>16.0</td>\n",
       "      <td>12.0</td>\n",
       "      <td>31.0</td>\n",
       "      <td>7.75</td>\n",
       "      <td>0.09</td>\n",
       "    </tr>\n",
       "  </tbody>\n",
       "</table>\n",
       "</div>"
      ],
      "text/plain": [
       "                TXNAME           GENEID  356_counts  1291_counts  1304_counts  \\\n",
       "89442  ENST00000485427  ENSG00000233686         0.0          3.0         16.0   \n",
       "\n",
       "       1271_counts  total_counts  average_counts  average_CPM  \n",
       "89442         12.0          31.0            7.75         0.09  "
      ]
     },
     "execution_count": 29,
     "metadata": {},
     "output_type": "execute_result"
    }
   ],
   "source": [
    "## Look at PIEZO1P1 expression\n",
    "print(\"PIEZO1P1\")\n",
    "df_t_cpm.loc[df_t_cpm[\"GENEID\"].str.contains(\"ENSG00000233686\")].sort_values(by=\"average_CPM\", ascending=False)"
   ]
  },
  {
   "cell_type": "code",
   "execution_count": 30,
   "id": "a64eea3a",
   "metadata": {},
   "outputs": [
    {
     "name": "stdout",
     "output_type": "stream",
     "text": [
      "PIEZO1P2\n"
     ]
    },
    {
     "data": {
      "text/html": [
       "<div>\n",
       "<style scoped>\n",
       "    .dataframe tbody tr th:only-of-type {\n",
       "        vertical-align: middle;\n",
       "    }\n",
       "\n",
       "    .dataframe tbody tr th {\n",
       "        vertical-align: top;\n",
       "    }\n",
       "\n",
       "    .dataframe thead th {\n",
       "        text-align: right;\n",
       "    }\n",
       "</style>\n",
       "<table border=\"1\" class=\"dataframe\">\n",
       "  <thead>\n",
       "    <tr style=\"text-align: right;\">\n",
       "      <th></th>\n",
       "      <th>TXNAME</th>\n",
       "      <th>GENEID</th>\n",
       "      <th>356_counts</th>\n",
       "      <th>1291_counts</th>\n",
       "      <th>1304_counts</th>\n",
       "      <th>1271_counts</th>\n",
       "      <th>total_counts</th>\n",
       "      <th>average_counts</th>\n",
       "      <th>average_CPM</th>\n",
       "    </tr>\n",
       "  </thead>\n",
       "  <tbody>\n",
       "    <tr>\n",
       "      <th>42088</th>\n",
       "      <td>ENST00000416241</td>\n",
       "      <td>ENSG00000237121</td>\n",
       "      <td>223.0</td>\n",
       "      <td>94.0</td>\n",
       "      <td>174.0</td>\n",
       "      <td>59.0</td>\n",
       "      <td>550.0</td>\n",
       "      <td>137.5</td>\n",
       "      <td>1.64</td>\n",
       "    </tr>\n",
       "  </tbody>\n",
       "</table>\n",
       "</div>"
      ],
      "text/plain": [
       "                TXNAME           GENEID  356_counts  1291_counts  1304_counts  \\\n",
       "42088  ENST00000416241  ENSG00000237121       223.0         94.0        174.0   \n",
       "\n",
       "       1271_counts  total_counts  average_counts  average_CPM  \n",
       "42088         59.0         550.0           137.5         1.64  "
      ]
     },
     "execution_count": 30,
     "metadata": {},
     "output_type": "execute_result"
    }
   ],
   "source": [
    "## Look at PIEZO1P2 expression\n",
    "print(\"PIEZO1P2\")\n",
    "df_t_cpm.loc[df_t_cpm[\"GENEID\"].str.contains(\"ENSG00000237121\")].sort_values(by=\"average_CPM\", ascending=False)"
   ]
  }
 ],
 "metadata": {
  "kernelspec": {
   "display_name": "Python 3 (ipykernel)",
   "language": "python",
   "name": "python3"
  },
  "language_info": {
   "codemirror_mode": {
    "name": "ipython",
    "version": 3
   },
   "file_extension": ".py",
   "mimetype": "text/x-python",
   "name": "python",
   "nbconvert_exporter": "python",
   "pygments_lexer": "ipython3",
   "version": "3.10.6"
  }
 },
 "nbformat": 4,
 "nbformat_minor": 5
}
