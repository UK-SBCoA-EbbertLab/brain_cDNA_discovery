{
 "cells": [
  {
   "cell_type": "code",
   "execution_count": 5,
   "id": "5291b08d",
   "metadata": {},
   "outputs": [],
   "source": [
    "## Import libraries\n",
    "import pandas as pd\n",
    "import csv\n",
    "pd.set_option('display.max_colwidth', None)"
   ]
  },
  {
   "cell_type": "code",
   "execution_count": 6,
   "id": "a06c1cb1",
   "metadata": {},
   "outputs": [],
   "source": [
    "df = pd.read_csv(\"../../../data/raw/merged_uky_cshl_GRCh38-107_discovery/bambu_discovery/extended_annotations.gtf\",\n",
    "                 sep=\"\\t\", header=None, low_memory=False)"
   ]
  },
  {
   "cell_type": "code",
   "execution_count": 7,
   "id": "425f67c0",
   "metadata": {},
   "outputs": [
    {
     "data": {
      "text/html": [
       "<div>\n",
       "<style scoped>\n",
       "    .dataframe tbody tr th:only-of-type {\n",
       "        vertical-align: middle;\n",
       "    }\n",
       "\n",
       "    .dataframe tbody tr th {\n",
       "        vertical-align: top;\n",
       "    }\n",
       "\n",
       "    .dataframe thead th {\n",
       "        text-align: right;\n",
       "    }\n",
       "</style>\n",
       "<table border=\"1\" class=\"dataframe\">\n",
       "  <thead>\n",
       "    <tr style=\"text-align: right;\">\n",
       "      <th></th>\n",
       "      <th>0</th>\n",
       "      <th>1</th>\n",
       "      <th>2</th>\n",
       "      <th>3</th>\n",
       "      <th>4</th>\n",
       "      <th>5</th>\n",
       "      <th>6</th>\n",
       "      <th>7</th>\n",
       "      <th>8</th>\n",
       "    </tr>\n",
       "  </thead>\n",
       "  <tbody>\n",
       "    <tr>\n",
       "      <th>0</th>\n",
       "      <td>1</td>\n",
       "      <td>Bambu</td>\n",
       "      <td>transcript</td>\n",
       "      <td>11869</td>\n",
       "      <td>14409</td>\n",
       "      <td>.</td>\n",
       "      <td>+</td>\n",
       "      <td>.</td>\n",
       "      <td>gene_id \"ENSG00000223972\"; transcript_id \"ENST00000456328\";</td>\n",
       "    </tr>\n",
       "    <tr>\n",
       "      <th>1</th>\n",
       "      <td>1</td>\n",
       "      <td>Bambu</td>\n",
       "      <td>exon</td>\n",
       "      <td>11869</td>\n",
       "      <td>12227</td>\n",
       "      <td>.</td>\n",
       "      <td>+</td>\n",
       "      <td>.</td>\n",
       "      <td>gene_id \"ENSG00000223972\"; transcript_id \"ENST00000456328\"; exon_number \"1\";</td>\n",
       "    </tr>\n",
       "    <tr>\n",
       "      <th>2</th>\n",
       "      <td>1</td>\n",
       "      <td>Bambu</td>\n",
       "      <td>transcript</td>\n",
       "      <td>12010</td>\n",
       "      <td>13670</td>\n",
       "      <td>.</td>\n",
       "      <td>+</td>\n",
       "      <td>.</td>\n",
       "      <td>gene_id \"ENSG00000223972\"; transcript_id \"ENST00000450305\";</td>\n",
       "    </tr>\n",
       "    <tr>\n",
       "      <th>3</th>\n",
       "      <td>1</td>\n",
       "      <td>Bambu</td>\n",
       "      <td>exon</td>\n",
       "      <td>12010</td>\n",
       "      <td>12057</td>\n",
       "      <td>.</td>\n",
       "      <td>+</td>\n",
       "      <td>.</td>\n",
       "      <td>gene_id \"ENSG00000223972\"; transcript_id \"ENST00000450305\"; exon_number \"1\";</td>\n",
       "    </tr>\n",
       "    <tr>\n",
       "      <th>4</th>\n",
       "      <td>1</td>\n",
       "      <td>Bambu</td>\n",
       "      <td>exon</td>\n",
       "      <td>12179</td>\n",
       "      <td>12227</td>\n",
       "      <td>.</td>\n",
       "      <td>+</td>\n",
       "      <td>.</td>\n",
       "      <td>gene_id \"ENSG00000223972\"; transcript_id \"ENST00000450305\"; exon_number \"2\";</td>\n",
       "    </tr>\n",
       "  </tbody>\n",
       "</table>\n",
       "</div>"
      ],
      "text/plain": [
       "   0      1           2      3      4  5  6  7  \\\n",
       "0  1  Bambu  transcript  11869  14409  .  +  .   \n",
       "1  1  Bambu        exon  11869  12227  .  +  .   \n",
       "2  1  Bambu  transcript  12010  13670  .  +  .   \n",
       "3  1  Bambu        exon  12010  12057  .  +  .   \n",
       "4  1  Bambu        exon  12179  12227  .  +  .   \n",
       "\n",
       "                                                                              8  \n",
       "0                   gene_id \"ENSG00000223972\"; transcript_id \"ENST00000456328\";  \n",
       "1  gene_id \"ENSG00000223972\"; transcript_id \"ENST00000456328\"; exon_number \"1\";  \n",
       "2                   gene_id \"ENSG00000223972\"; transcript_id \"ENST00000450305\";  \n",
       "3  gene_id \"ENSG00000223972\"; transcript_id \"ENST00000450305\"; exon_number \"1\";  \n",
       "4  gene_id \"ENSG00000223972\"; transcript_id \"ENST00000450305\"; exon_number \"2\";  "
      ]
     },
     "execution_count": 7,
     "metadata": {},
     "output_type": "execute_result"
    }
   ],
   "source": [
    "df.head()"
   ]
  },
  {
   "cell_type": "code",
   "execution_count": 8,
   "id": "64b98d49",
   "metadata": {},
   "outputs": [],
   "source": [
    "df_2 = df.loc[df[8].str.contains(\"transcript_id \\\"tx.\")].copy()"
   ]
  },
  {
   "cell_type": "code",
   "execution_count": 9,
   "id": "477dc020",
   "metadata": {},
   "outputs": [
    {
     "data": {
      "text/plain": [
       "(3687, 9)"
      ]
     },
     "execution_count": 9,
     "metadata": {},
     "output_type": "execute_result"
    }
   ],
   "source": [
    "df_2.shape"
   ]
  },
  {
   "cell_type": "code",
   "execution_count": 10,
   "id": "341722e0",
   "metadata": {
    "scrolled": true
   },
   "outputs": [],
   "source": [
    "df_2.to_csv(\"../../../data/processed/extended_annotation_grch38_only_novel.gtf\", index=False, header=False,\n",
    "           sep=\"\\t\", quoting=csv.QUOTE_NONE)"
   ]
  }
 ],
 "metadata": {
  "kernelspec": {
   "display_name": "Python 3 (ipykernel)",
   "language": "python",
   "name": "python3"
  },
  "language_info": {
   "codemirror_mode": {
    "name": "ipython",
    "version": 3
   },
   "file_extension": ".py",
   "mimetype": "text/x-python",
   "name": "python",
   "nbconvert_exporter": "python",
   "pygments_lexer": "ipython3",
   "version": "3.10.6"
  }
 },
 "nbformat": 4,
 "nbformat_minor": 5
}
