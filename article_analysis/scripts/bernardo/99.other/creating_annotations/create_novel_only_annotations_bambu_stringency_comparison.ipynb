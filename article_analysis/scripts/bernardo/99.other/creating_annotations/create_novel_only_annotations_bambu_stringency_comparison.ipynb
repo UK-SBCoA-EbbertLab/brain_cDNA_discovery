{
 "cells": [
  {
   "cell_type": "code",
   "execution_count": 1,
   "id": "5291b08d",
   "metadata": {},
   "outputs": [],
   "source": [
    "## Import libraries\n",
    "import pandas as pd\n",
    "import csv\n",
    "pd.set_option('display.max_colwidth', None)"
   ]
  },
  {
   "cell_type": "code",
   "execution_count": 2,
   "id": "a06c1cb1",
   "metadata": {},
   "outputs": [],
   "source": [
    "## Load annotations\n",
    "\n",
    "df_1 = pd.read_csv(\"../../../../data/bernardo/raw/uky_aged_firstHalf_loose/bambu_discovery/extended_annotations.gtf\",\n",
    "                 sep=\"\\t\", header=None, low_memory=False)\n",
    "\n",
    "\n",
    "df_2 = pd.read_csv(\"../../../../data/bernardo/raw/uky_aged_secondHalf_loose/bambu_discovery/extended_annotations.gtf\",\n",
    "                 sep=\"\\t\", header=None, low_memory=False)"
   ]
  },
  {
   "cell_type": "code",
   "execution_count": 3,
   "id": "64b98d49",
   "metadata": {},
   "outputs": [],
   "source": [
    "## Filter annotations for novel transcripts only\n",
    "\n",
    "df_1 = df_1.loc[df_1[8].str.contains(\"transcript_id \\\"BambuTx\")].copy()\n",
    "\n",
    "df_2 = df_2.loc[df_2[8].str.contains(\"transcript_id \\\"BambuTx\")].copy()"
   ]
  },
  {
   "cell_type": "code",
   "execution_count": 5,
   "id": "341722e0",
   "metadata": {
    "scrolled": true
   },
   "outputs": [],
   "source": [
    "## Output novel only annotations\n",
    "\n",
    "df_1.to_csv(\"../../../../data/bernardo/processed/99.other/create_annotations/novel_only_annotations/uky_aged_firstHalf_loose_annotation_novel_only.gtf\", index=False, \n",
    "            header=False, sep=\"\\t\", quoting=csv.QUOTE_NONE)\n",
    "\n",
    "df_2.to_csv(\"../../../../data/bernardo/processed/99.other/create_annotations/novel_only_annotations/uky_aged_secondHalf_loose_annotation_novel_only.gtf\", index=False, \n",
    "            header=False, sep=\"\\t\", quoting=csv.QUOTE_NONE)"
   ]
  }
 ],
 "metadata": {
  "kernelspec": {
   "display_name": "Python 3 (ipykernel)",
   "language": "python",
   "name": "python3"
  },
  "language_info": {
   "codemirror_mode": {
    "name": "ipython",
    "version": 3
   },
   "file_extension": ".py",
   "mimetype": "text/x-python",
   "name": "python",
   "nbconvert_exporter": "python",
   "pygments_lexer": "ipython3",
   "version": "3.10.8"
  }
 },
 "nbformat": 4,
 "nbformat_minor": 5
}
