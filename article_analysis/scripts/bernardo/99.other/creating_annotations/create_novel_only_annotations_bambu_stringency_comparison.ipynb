{
 "cells": [
  {
   "cell_type": "code",
   "execution_count": 1,
   "id": "5291b08d",
   "metadata": {},
   "outputs": [],
   "source": [
    "## Import libraries\n",
    "import pandas as pd\n",
    "import csv\n",
    "pd.set_option('display.max_colwidth', None)"
   ]
  },
  {
   "cell_type": "code",
   "execution_count": 2,
   "id": "a06c1cb1",
   "metadata": {},
   "outputs": [],
   "source": [
    "df_1 = pd.read_csv(\"../../../data/raw/merged_first_half_loose/bambu_discovery/extended_annotations.gtf\",\n",
    "                 sep=\"\\t\", header=None, low_memory=False)\n",
    "\n",
    "df_2 = pd.read_csv(\"../../../data/raw/merged_first_half_moderate/bambu_discovery/extended_annotations.gtf\",\n",
    "                 sep=\"\\t\", header=None, low_memory=False)\n",
    "\n",
    "df_3 = pd.read_csv(\"../../../data/raw/merged_first_half_stringent/bambu_discovery/extended_annotations.gtf\",\n",
    "                 sep=\"\\t\", header=None, low_memory=False)\n",
    "\n",
    "df_4 = pd.read_csv(\"../../../data/raw/merged_first_half_super_stringent/bambu_discovery/extended_annotations.gtf\",\n",
    "                 sep=\"\\t\", header=None, low_memory=False)\n",
    "\n",
    "df_5 = pd.read_csv(\"../../../data/raw/merged_second_half_loose/bambu_discovery/extended_annotations.gtf\",\n",
    "                 sep=\"\\t\", header=None, low_memory=False)\n",
    "\n",
    "df_6 = pd.read_csv(\"../../../data/raw/merged_second_half_moderate/bambu_discovery/extended_annotations.gtf\",\n",
    "                 sep=\"\\t\", header=None, low_memory=False)\n",
    "\n",
    "df_7 = pd.read_csv(\"../../../data/raw/merged_second_half_stringent/bambu_discovery/extended_annotations.gtf\",\n",
    "                 sep=\"\\t\", header=None, low_memory=False)\n",
    "\n",
    "df_8 = pd.read_csv(\"../../../data/raw/merged_second_half_super_stringent/bambu_discovery/extended_annotations.gtf\",\n",
    "                 sep=\"\\t\", header=None, low_memory=False)"
   ]
  },
  {
   "cell_type": "code",
   "execution_count": 3,
   "id": "64b98d49",
   "metadata": {},
   "outputs": [],
   "source": [
    "df_1 = df_1.loc[df_1[8].str.contains(\"transcript_id \\\"tx.\")].copy()\n",
    "\n",
    "df_2 = df_2.loc[df_2[8].str.contains(\"transcript_id \\\"tx.\")].copy()\n",
    "\n",
    "df_3 = df_3.loc[df_3[8].str.contains(\"transcript_id \\\"tx.\")].copy()\n",
    "\n",
    "df_4 = df_4.loc[df_4[8].str.contains(\"transcript_id \\\"tx.\")].copy()\n",
    "\n",
    "df_5 = df_5.loc[df_5[8].str.contains(\"transcript_id \\\"tx.\")].copy()\n",
    "\n",
    "df_6 = df_6.loc[df_6[8].str.contains(\"transcript_id \\\"tx.\")].copy()\n",
    "\n",
    "df_7 = df_7.loc[df_7[8].str.contains(\"transcript_id \\\"tx.\")].copy()\n",
    "\n",
    "df_8 = df_8.loc[df_8[8].str.contains(\"transcript_id \\\"tx.\")].copy()"
   ]
  },
  {
   "cell_type": "code",
   "execution_count": 4,
   "id": "341722e0",
   "metadata": {
    "scrolled": true
   },
   "outputs": [],
   "source": [
    "df_1.to_csv(\"../../../data/processed/novel_only_annotations/merged_first_half_loose_annotation_novel_only.gtf\", index=False, \n",
    "            header=False, sep=\"\\t\", quoting=csv.QUOTE_NONE)\n",
    "\n",
    "df_2.to_csv(\"../../../data/processed/novel_only_annotations/merged_first_half_moderate_annotation_novel_only.gtf\", index=False, \n",
    "            header=False, sep=\"\\t\", quoting=csv.QUOTE_NONE)\n",
    "\n",
    "df_3.to_csv(\"../../../data/processed/novel_only_annotations/merged_first_half_stringent_annotation_novel_only.gtf\", index=False, \n",
    "            header=False, sep=\"\\t\", quoting=csv.QUOTE_NONE)\n",
    "\n",
    "df_4.to_csv(\"../../../data/processed/novel_only_annotations/merged_first_half_super_stringent_annotation_novel_only.gtf\", index=False, \n",
    "            header=False, sep=\"\\t\", quoting=csv.QUOTE_NONE)\n",
    "\n",
    "df_5.to_csv(\"../../../data/processed/novel_only_annotations/merged_second_half_loose_annotation_novel_only.gtf\", index=False, \n",
    "            header=False, sep=\"\\t\", quoting=csv.QUOTE_NONE)\n",
    "\n",
    "df_6.to_csv(\"../../../data/processed/novel_only_annotations/merged_second_half_moderate_annotation_novel_only.gtf\", index=False, \n",
    "            header=False, sep=\"\\t\", quoting=csv.QUOTE_NONE)\n",
    "\n",
    "df_7.to_csv(\"../../../data/processed/novel_only_annotations/merged_second_half_stringent_annotation_novel_only.gtf\", index=False, \n",
    "            header=False, sep=\"\\t\", quoting=csv.QUOTE_NONE)\n",
    "\n",
    "df_8.to_csv(\"../../../data/processed/novel_only_annotations/merged_second_half_super_stringent_annotation_novel_only.gtf\", index=False, \n",
    "            header=False, sep=\"\\t\", quoting=csv.QUOTE_NONE)"
   ]
  }
 ],
 "metadata": {
  "kernelspec": {
   "display_name": "Python 3 (ipykernel)",
   "language": "python",
   "name": "python3"
  },
  "language_info": {
   "codemirror_mode": {
    "name": "ipython",
    "version": 3
   },
   "file_extension": ".py",
   "mimetype": "text/x-python",
   "name": "python",
   "nbconvert_exporter": "python",
   "pygments_lexer": "ipython3",
   "version": "3.10.6"
  }
 },
 "nbformat": 4,
 "nbformat_minor": 5
}
