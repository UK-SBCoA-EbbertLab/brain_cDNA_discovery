{
 "cells": [
  {
   "cell_type": "code",
   "execution_count": 1,
   "id": "d0bf5363",
   "metadata": {},
   "outputs": [],
   "source": [
    "## Import Libraries\n",
    "import pandas as pd\n",
    "import numpy as np\n",
    "from matplotlib_venn import venn2, venn2_circles, venn2_unweighted\n",
    "from matplotlib_venn import venn3, venn3_circles\n",
    "from matplotlib import pyplot as plt\n",
    "%matplotlib inline\n",
    "import seaborn as sns\n",
    "from wordcloud import WordCloud\n",
    "\n",
    "\n",
    "## Display all rows of pandas dataframes\n",
    "pd.set_option('display.max_rows', None)\n",
    "pd.set_option('display.max_colwidth', None)"
   ]
  },
  {
   "cell_type": "code",
   "execution_count": 2,
   "id": "cef6ec9c",
   "metadata": {},
   "outputs": [],
   "source": [
    "'''\n",
    "function name: parse_df_columns\n",
    "\n",
    "purpose: parsing the last aggregate column of the gtf/gff3 into useful columns and cleaning non-relevant columns\n",
    "\n",
    "input: dataframe containining \"raw\" gtf/gff\n",
    "\n",
    "output: dataframe containing gtf with useful columns [\"gene_id\", \"transcript_id\", etc...]\n",
    "'''\n",
    "\n",
    "def parse_df_columns(df, is_ref=True, is_transcript=False, is_prot=False):\n",
    "\n",
    "    if is_ref:\n",
    "\n",
    "        ## Get gene ids\n",
    "        df[\"gene_id\"] = df[\"other\"].str.split('\";', expand=True)[0].str.extract(\"([^ \\\"]*$)\", expand=True)\n",
    "        \n",
    "        ## Get gene names\n",
    "        df[\"gene_name\"] = df[\"other\"].str.split(\"gene_name \\\"\", expand=True)[1].str.split('\\\";', expand=True)[0]\n",
    "        \n",
    "        ## Get get transcript biotype\n",
    "        df[\"gene_biotype\"] = df[\"other\"].str.split('gene_biotype \"', expand=True)[1].str.split('\"', expand=True)[0]\n",
    "        \n",
    "        ## If is transcript get transcript id and transcript biotype\n",
    "        if is_transcript:\n",
    "            df[\"transcript_id\"] = df[\"other\"].str.split('transcript_id \"', expand=True)[1].str.split('\"', expand=True)[0]\n",
    "            df[\"transcript_biotype\"] = df[\"other\"].str.split('transcript_biotype \"', expand=True)[1].str.split('\"', expand=True)[0]\n",
    "            \n",
    "            ## If is prot get protein_id\n",
    "            if is_prot:\n",
    "                df[\"ccds_id\"] = df[\"other\"].str.split('ccds_id \"', expand=True)[1].str.split('\"', expand=True)[0]\n",
    "                \n",
    "        ## Drop \"other\" column\n",
    "        df.drop(columns=[\"other\", \"dot_1\", \"dot_2\"], inplace=True)\n",
    "        \n",
    "\n",
    "    else:\n",
    "\n",
    "        ## Get gene ids\n",
    "        df[\"gene_id\"] = df[\"other\"].str.split('\";', expand=True)[0].str.extract(\"([^ \\\"]*$)\", expand=True)\n",
    "\n",
    "        ## Get transcript ids\n",
    "        df[\"transcript_id\"] = df[\"other\"].str.split('transcript_id \"', expand=True)[1].str.split('\"', expand=True)[0]\n",
    "\n",
    "        ## Get exon number\n",
    "        df[\"exon_number\"] = df[\"other\"].str.split('exon_number \"', expand=True)[1].str.split('\"', expand=True)[0]\n",
    "\n",
    "        ## Drop \"other\" column\n",
    "        df.drop(columns=[\"other\", \"dot_1\", \"dot_2\"], inplace=True)\n",
    "\n",
    "    for col in df.columns:\n",
    "        df.loc[df[col].isnull(), col] = np.NaN\n",
    "        \n",
    "\n",
    "    return df"
   ]
  },
  {
   "cell_type": "code",
   "execution_count": 3,
   "id": "dd3ea04e",
   "metadata": {},
   "outputs": [],
   "source": [
    "## Open original reference\n",
    "original_ref = pd.read_csv(\"../../../../references/bernardo/Homo_sapiens.GRCh38.107_ERCC.gtf\", header=None, delimiter=\"\\t\", low_memory=False, \n",
    "                       names=[\"chr\", \"source\", \"type\", \"start\", \"end\", \"dot_1\", \"strand\", \"dot_2\", \"other\"], comment=\"#\")"
   ]
  },
  {
   "cell_type": "code",
   "execution_count": 4,
   "id": "3b260d16",
   "metadata": {},
   "outputs": [],
   "source": [
    "## Parse through reference to get gene names and ids\n",
    "orig_ref = original_ref.loc[original_ref[\"type\"]==\"gene\"].copy()\n",
    "orig_ref = parse_df_columns(orig_ref, is_ref=True)"
   ]
  },
  {
   "cell_type": "code",
   "execution_count": 5,
   "id": "ecfaf497",
   "metadata": {},
   "outputs": [],
   "source": [
    "## Get gene ID and gene name from PSEN genes\n",
    "orig_ref_PSEN_MAPT = orig_ref.loc[orig_ref[\"gene_name\"].isin([\"PSEN1\", \"PSEN2\", \"MAPT\"])][[\"gene_id\", \"gene_name\"]]"
   ]
  },
  {
   "cell_type": "code",
   "execution_count": 6,
   "id": "a688c80c",
   "metadata": {},
   "outputs": [],
   "source": [
    "## Clean up AD risk gene annotation and save it\n",
    "ad_names = pd.read_csv(\"../../../../references/bernardo/AD_gwas_genes.tsv\", sep=\"\\t\")\n",
    "ad_names = ad_names[\"gene_name\"].drop_duplicates().dropna()\n",
    "ad_names = pd.concat([ad_names, orig_ref_PSEN_MAPT[\"gene_name\"]])\n",
    "\n",
    "ad_risk_gene_annotation = pd.merge(ad_names, orig_ref[[\"gene_name\", \"gene_id\"]], on=\"gene_name\")\n",
    "\n",
    "ad_risk_gene_annotation.drop_duplicates(inplace=True)\n",
    "\n",
    "ad_risk_gene_annotation.to_csv(\"../../../../references/bernardo/AD_gwas_genes.tsv\", index=False, sep=\"\\t\")"
   ]
  },
  {
   "cell_type": "code",
   "execution_count": 9,
   "id": "4d0fa6fd",
   "metadata": {},
   "outputs": [],
   "source": [
    "## Import disease relevant genes\n",
    "disease_relevant_genes = pd.read_csv(\"../../../../references/bernardo/medically_relevant_genes.tsv\", \n",
    "                                     names=[\"gene_id\", \"gene_name\"], header=0, sep=\"\\t\")\n",
    "\n",
    "## Concatenate with AD risk genes, to make sure all AD GWAS Loci are included\n",
    "disease_relevant_genes = pd.concat([disease_relevant_genes, ad_risk_gene_annotation]).drop_duplicates().reset_index(drop=True)\n",
    "\n",
    "## Inner merge on gene_id and gene_name with ENSEMBL 107 reference to eliminate any duplicates\n",
    "## Or mislabeled genes\n",
    "disease_relevant_genes_clean = disease_relevant_genes.merge(orig_ref[[\"gene_name\", \"gene_id\"]], \n",
    "                                                            on=[\"gene_name\", \"gene_id\"], how=\"inner\")\n",
    "\n",
    "disease_relevant_genes_clean.drop_duplicates(inplace=True)\n",
    "\n",
    "## Save clean version\n",
    "disease_relevant_genes_clean.to_csv(\"../../../../references/bernardo/medically_relevant_genes.tsv\", index=False, sep=\"\\t\")"
   ]
  }
 ],
 "metadata": {
  "kernelspec": {
   "display_name": "Python 3 (ipykernel)",
   "language": "python",
   "name": "python3"
  },
  "language_info": {
   "codemirror_mode": {
    "name": "ipython",
    "version": 3
   },
   "file_extension": ".py",
   "mimetype": "text/x-python",
   "name": "python",
   "nbconvert_exporter": "python",
   "pygments_lexer": "ipython3",
   "version": "3.10.8"
  }
 },
 "nbformat": 4,
 "nbformat_minor": 5
}
