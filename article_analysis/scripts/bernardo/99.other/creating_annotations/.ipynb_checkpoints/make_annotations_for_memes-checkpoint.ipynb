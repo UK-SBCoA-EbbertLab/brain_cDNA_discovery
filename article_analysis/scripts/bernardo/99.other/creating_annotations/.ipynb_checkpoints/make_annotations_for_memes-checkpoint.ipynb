{
 "cells": [
  {
   "cell_type": "code",
   "execution_count": 1,
   "id": "9d66f0aa",
   "metadata": {},
   "outputs": [],
   "source": [
    "## Import Libraries\n",
    "import pandas as pd\n",
    "import numpy as np\n",
    "import matplotlib.pyplot as plt\n",
    "%matplotlib inline\n",
    "import csv\n",
    "\n",
    "\n",
    "## Display all rows of pandas dataframes\n",
    "pd.set_option('display.max_rows', None)\n",
    "pd.set_option('display.max_colwidth', None)"
   ]
  },
  {
   "cell_type": "code",
   "execution_count": 2,
   "id": "ffe843b0",
   "metadata": {},
   "outputs": [],
   "source": [
    "'''\n",
    "function name: calculate_cpm\n",
    "\n",
    "purpose: Calculate CPM for the each sample given\n",
    "\n",
    "input: Counts dataset\n",
    "\n",
    "output: Counts dataset with CPM columns as well\n",
    "'''\n",
    "\n",
    "def calculate_cpm(df, is_gene=False):\n",
    "\n",
    "    ## Set count columns if dataframe is gene counts\n",
    "    if is_gene:\n",
    "        count_columns = df.columns[1:].tolist()\n",
    "    \n",
    "    ## Set count columns if dataframe is transcript counts\n",
    "    else:\n",
    "        count_columns = df.columns[2:].tolist()\n",
    "\n",
    "    ## Loop through counts columns to calculate CPM and add to the dataframe\n",
    "    for col in count_columns:\n",
    "        \n",
    "        df[col] = round(df[col], 2)\n",
    "        cpm_name = col.replace(\"_counts\", \"_CPM\")\n",
    "        df[cpm_name] = round(((df[col]/(df[col].sum())) * 1000000), 2)\n",
    "    \n",
    "    return df  "
   ]
  },
  {
   "cell_type": "code",
   "execution_count": 3,
   "id": "7a0d3157",
   "metadata": {},
   "outputs": [],
   "source": [
    "'''\n",
    "function name: fix_column_names\n",
    "\n",
    "purpose: Fixing the column names, making them smaller, informative, and consistent\n",
    "\n",
    "input: The raw counts dataframe for either genes or transcripts \n",
    "\n",
    "output: Same dataframe with improved column names\n",
    "'''\n",
    "\n",
    "def fix_column_names(df, is_gene=False):\n",
    "    \n",
    "    ## Check if this is a gene counts object\n",
    "    if is_gene:\n",
    "        \n",
    "        ## Get count column names and create list of new column names\n",
    "        count_columns = df.columns.tolist()\n",
    "        list_new_names = [\"gene_id\"]\n",
    "        \n",
    "        ## gene_id comes in as index for gene counts data, make it into the first column instead\n",
    "        df[\"gene_id\"] = df.index\n",
    "        cols = list(df.columns)\n",
    "        cols = [cols[-1]] + cols[:-1]\n",
    "        df = df[cols]\n",
    "        df.reset_index(inplace=True, drop=True)\n",
    "    \n",
    "    ## If it is a transcript dataset\n",
    "    else:\n",
    "        ## Set count columns and create list of new names\n",
    "        count_columns = df.columns[2:].tolist()\n",
    "        list_new_names = [ \"transcript_id\", \"gene_id\"]\n",
    "    \n",
    "    ## Fix names one by one and add to list of new names\n",
    "    for col in count_columns:\n",
    "        col = col.split(\"_mapped\")[0] + \"_counts\"\n",
    "        list_new_names.append(col)\n",
    "    \n",
    "    ## Rename columns\n",
    "    df.columns = list_new_names\n",
    "    \n",
    "    return df "
   ]
  },
  {
   "cell_type": "code",
   "execution_count": 4,
   "id": "767e3f79",
   "metadata": {},
   "outputs": [],
   "source": [
    "'''\n",
    "function name: parse_df_columns\n",
    "\n",
    "purpose: parsing the last aggregate column of the gtf/gff3 into useful columns and cleaning non-relevant columns\n",
    "\n",
    "input: dataframe containining \"raw\" gtf/gff\n",
    "\n",
    "output: dataframe containing gtf with useful columns [\"gene_id\", \"transcript_id\", etc...]\n",
    "'''\n",
    "\n",
    "def parse_df_columns(df, is_ref=True, is_transcript=False, is_exon=False):\n",
    "\n",
    "    if is_ref:\n",
    "\n",
    "        ## Get gene ids\n",
    "        df[\"gene_id\"] = df[\"other\"].str.split('\";', expand=True)[0].str.extract(\"([^ \\\"]*$)\", expand=True)\n",
    "        \n",
    "        ## Get gene names\n",
    "        df[\"gene_name\"] = df[\"other\"].str.split(\"gene_name \\\"\", expand=True)[1].str.split('\\\";', expand=True)[0]\n",
    "        \n",
    "        ## Get get transcript biotype\n",
    "        df[\"gene_biotype\"] = df[\"other\"].str.split('gene_biotype \"', expand=True)[1].str.split('\"', expand=True)[0]\n",
    "        \n",
    "        if is_transcript:\n",
    "            df[\"transcript_id\"] = df[\"other\"].str.split('transcript_id \"', expand=True)[1].str.split('\"', expand=True)[0]\n",
    "            df[\"transcript_biotype\"] = df[\"other\"].str.split('transcript_biotype \"', expand=True)[1].str.split('\"', expand=True)[0]\n",
    "        \n",
    "        if is_exon:\n",
    "            df[\"transcript_id\"] = df[\"other\"].str.split('transcript_id \"', expand=True)[1].str.split('\"', expand=True)[0]\n",
    "            df[\"transcript_biotype\"] = df[\"other\"].str.split('transcript_biotype \"', expand=True)[1].str.split('\"', expand=True)[0]\n",
    "            df[\"exon_number\"] = df[\"other\"].str.split('exon_number \"', expand=True)[1].str.split('\"', expand=True)[0]\n",
    "\n",
    "            \n",
    "        ## Drop \"other\" column\n",
    "        df.drop(columns=[\"other\", \"dot_1\", \"dot_2\"], inplace=True)\n",
    "        \n",
    "\n",
    "    else:\n",
    "\n",
    "        ## Get gene ids\n",
    "        df[\"gene_id\"] = df[\"other\"].str.split('\";', expand=True)[0].str.extract(\"([^ \\\"]*$)\", expand=True)\n",
    "\n",
    "        ## Get transcript ids\n",
    "        df[\"transcript_id\"] = df[\"other\"].str.split('transcript_id \"', expand=True)[1].str.split('\"', expand=True)[0]\n",
    "\n",
    "        ## Get exon number\n",
    "        df[\"exon_number\"] = df[\"other\"].str.split('exon_number \"', expand=True)[1].str.split('\"', expand=True)[0]\n",
    "\n",
    "        ## Drop \"other\" column\n",
    "        df.drop(columns=[\"other\", \"dot_1\", \"dot_2\"], inplace=True)\n",
    "\n",
    "    for col in df.columns:\n",
    "        df.loc[df[col].isnull(), col] = np.NaN\n",
    "        \n",
    "\n",
    "    return df"
   ]
  },
  {
   "cell_type": "code",
   "execution_count": 5,
   "id": "2942c5d8",
   "metadata": {},
   "outputs": [],
   "source": [
    "## Bambu reference with novel and annotated transcripts\n",
    "bambu_ref = pd.read_csv(\"../../../../data/bernardo/raw/ad_vs_ct_pilot_study_february_2023_GRCh38-107_discovery/bambu_discovery/extended_annotations.gtf\", header=None, delimiter=\"\\t\",\n",
    "                        low_memory=False, names=[\"chr\", \"source\", \"type\", \"start\", \"end\", \"dot_1\", \"strand\", \"dot_2\", \"other\"])\n",
    "\n",
    "\n",
    "bambu_ref = bambu_ref.loc[~bambu_ref[\"chr\"].str.startswith(\"ERCC-\")]\n",
    "\n",
    "## Parse through bambu reference\n",
    "bambu_ref = parse_df_columns(bambu_ref, is_ref=False)\n",
    "\n",
    "## Only keep exons\n",
    "bambu_ref = bambu_ref.loc[bambu_ref[\"type\"] == \"exon\"].copy()\n",
    "\n",
    "## Change start and end columns to string\n",
    "bambu_ref[\"start\"] = bambu_ref[\"start\"].astype(\"str\")\n",
    "bambu_ref[\"end\"] = bambu_ref[\"end\"].astype(\"str\")"
   ]
  },
  {
   "cell_type": "code",
   "execution_count": 7,
   "id": "9c29e2b5",
   "metadata": {},
   "outputs": [],
   "source": [
    "## Fix column names in counts matrix\n",
    "\n",
    "df = pd.read_csv(\"../../../../data/bernardo/raw/ad_vs_ct_pilot_study_february_2023_GRCh38-107_discovery/bambu_discovery/counts_transcript.txt\", \n",
    "                           delimiter=\"\\t\", low_memory=False, header=0)\n",
    "\n",
    "df = fix_column_names(df, is_gene=False)\n",
    "\n",
    "## Calculate CPM and drop count columns\n",
    "df = calculate_cpm(df, is_gene=False)\n",
    "\n",
    "df = df[df.columns.drop(list(df.filter(regex='counts')))].copy()\n",
    "\n",
    "## Drop ERCCs\n",
    "df = df.loc[~df[\"gene_id\"].str.startswith(\"ERCC\")].copy()\n",
    "\n",
    "## Calculate median CPM and only keep transcripts with median CPM > 1\n",
    "df[\"median_CPM\"] = df[df.filter(regex='[0-9]_CPM').columns].median(axis=1)\n",
    "df = df.loc[df[\"median_CPM\"] > 1].copy()"
   ]
  },
  {
   "cell_type": "code",
   "execution_count": 8,
   "id": "f4cc15db",
   "metadata": {},
   "outputs": [],
   "source": [
    "## Filter reference to only contain transcripts with a CPM > 1\n",
    "bambu_ref = bambu_ref.loc[bambu_ref[\"transcript_id\"].isin(df[\"transcript_id\"])].copy()"
   ]
  },
  {
   "cell_type": "code",
   "execution_count": 9,
   "id": "1a84b276",
   "metadata": {},
   "outputs": [],
   "source": [
    "## Get last exon number for each transcript\n",
    "\n",
    "df_last_exons = pd.DataFrame()\n",
    "df_last_exons[\"last_exon\"] = bambu_ref[\"transcript_id\"].value_counts()\n",
    "df_last_exons[\"transcript_id\"] = df_last_exons.index\n",
    "df_last_exons.reset_index(drop=True, inplace=True)\n",
    "\n",
    "bambu_ref = bambu_ref.merge(df_last_exons, on=\"transcript_id\", how=\"inner\")"
   ]
  },
  {
   "cell_type": "code",
   "execution_count": 10,
   "id": "d316e729",
   "metadata": {},
   "outputs": [],
   "source": [
    "## Get names of all transcripts with more than one exon\n",
    "bambu_ref_num_exons_per_transcript = bambu_ref.loc[bambu_ref[\"type\"] == \"exon\"][\"transcript_id\"].value_counts()\n",
    "bambu_ref_multi_exon_transcripts = bambu_ref_num_exons_per_transcript.loc[bambu_ref_num_exons_per_transcript > 1].index"
   ]
  },
  {
   "cell_type": "code",
   "execution_count": 11,
   "id": "7f4b6648",
   "metadata": {},
   "outputs": [],
   "source": [
    "## Create different dataframes, novel transcripts, novel genes, known genes \n",
    "\n",
    "bambu_ref.loc[bambu_ref[\"transcript_id\"].str.startswith(\"BambuTx\"), \"Novel Status\"] = \"Novel Transcript\"\n",
    "bambu_ref.loc[bambu_ref[\"gene_id\"].str.startswith(\"BambuGene\"), \"Novel Status\"] = \"Novel Gene\"\n",
    "bambu_ref.loc[bambu_ref[\"transcript_id\"].str.startswith(\"ENS\"), \"Novel Status\"] = \"Known\"\n",
    "\n",
    "bambu_new_transcripts = bambu_ref.loc[bambu_ref[\"Novel Status\"] == \"Novel Transcript\"].copy()\n",
    "bambu_new_transcripts_mt = bambu_new_transcripts.loc[bambu_new_transcripts[\"chr\"] == \"MT\"]\n",
    "bambu_new_transcripts = bambu_new_transcripts.loc[bambu_new_transcripts[\"chr\"] != \"MT\"]\n",
    "bambu_new_genes = bambu_ref.loc[bambu_ref[\"Novel Status\"] == \"Novel Gene\"].copy()\n",
    "bambu_known_transcripts = bambu_ref.loc[bambu_ref[\"Novel Status\"] == \"Known\"].copy()"
   ]
  },
  {
   "cell_type": "code",
   "execution_count": 12,
   "id": "8434cb8a",
   "metadata": {},
   "outputs": [],
   "source": [
    "## Create unique junctions\n",
    "\n",
    "bambu_new_transcripts[\"junctions\"] = bambu_new_transcripts[\"chr\"].copy() + bambu_new_transcripts[\"start\"].copy() + bambu_new_transcripts[\"end\"].copy() + bambu_new_transcripts[\"strand\"].copy()\n",
    "\n",
    "\n",
    "bambu_new_transcripts_mt[\"junctions\"] = bambu_new_transcripts_mt[\"chr\"].copy() + bambu_new_transcripts_mt[\"start\"].copy() + bambu_new_transcripts_mt[\"end\"].copy() + bambu_new_transcripts_mt[\"strand\"].copy()\n",
    "    \n",
    "    \n",
    "bambu_new_genes[\"junctions\"] = bambu_new_genes[\"chr\"].copy() + bambu_new_genes[\"start\"].copy() +  bambu_new_genes[\"end\"].copy() + bambu_new_genes[\"strand\"].copy()\n",
    "    \n",
    "    \n",
    "bambu_known_transcripts[\"junctions\"] = bambu_known_transcripts[\"chr\"].copy() + bambu_known_transcripts[\"start\"].copy() + bambu_known_transcripts[\"end\"].copy() + bambu_known_transcripts[\"strand\"].copy()"
   ]
  },
  {
   "cell_type": "code",
   "execution_count": 13,
   "id": "41ebaf28",
   "metadata": {},
   "outputs": [],
   "source": [
    "## Create dataset containing new transcripts from known and new genes\n",
    "\n",
    "bambu_new_all = pd.concat([bambu_new_transcripts, bambu_new_genes]).copy()"
   ]
  },
  {
   "cell_type": "code",
   "execution_count": 14,
   "id": "f7640bfd",
   "metadata": {},
   "outputs": [
    {
     "name": "stdout",
     "output_type": "stream",
     "text": [
      "(1651, 12)\n",
      "(68, 12)\n",
      "(546, 12)\n",
      "(2197, 12)\n",
      "(274855, 12)\n"
     ]
    }
   ],
   "source": [
    "## Print shapes of the annotations\n",
    "\n",
    "print(bambu_new_transcripts.shape)\n",
    "print(bambu_new_transcripts_mt.shape)\n",
    "print(bambu_new_genes.shape)\n",
    "print(bambu_new_all.shape)\n",
    "print(bambu_known_transcripts.shape)"
   ]
  },
  {
   "cell_type": "code",
   "execution_count": 15,
   "id": "b025843f",
   "metadata": {},
   "outputs": [],
   "source": [
    "## Filter exons to only contain new exons in the annotations\n",
    "\n",
    "bambu_new_transcripts = bambu_new_transcripts.loc[~bambu_new_transcripts[\"junctions\"].isin(bambu_known_transcripts[\"junctions\"])].copy()\n",
    "\n",
    "bambu_new_transcripts_mt = bambu_new_transcripts_mt.loc[~bambu_new_transcripts_mt[\"junctions\"].isin(bambu_known_transcripts[\"junctions\"])].copy()\n",
    "\n",
    "bambu_new_genes = bambu_new_genes.loc[~bambu_new_genes[\"junctions\"].isin(bambu_known_transcripts[\"junctions\"])].copy()\n",
    "\n",
    "bambu_new_all = bambu_new_all.loc[~bambu_new_all[\"junctions\"].isin(bambu_known_transcripts[\"junctions\"])].copy()"
   ]
  },
  {
   "cell_type": "code",
   "execution_count": 16,
   "id": "9df99326",
   "metadata": {},
   "outputs": [],
   "source": [
    "## Drop any duplicate exon entries\n",
    "\n",
    "bambu_new_transcripts.drop_duplicates(subset=\"junctions\", inplace=True)\n",
    "\n",
    "bambu_new_transcripts_mt.drop_duplicates(subset=\"junctions\", inplace=True)\n",
    "\n",
    "bambu_new_genes.drop_duplicates(subset=\"junctions\", inplace=True)\n",
    "\n",
    "bambu_new_all.drop_duplicates(subset=\"junctions\", inplace=True)"
   ]
  },
  {
   "cell_type": "code",
   "execution_count": 17,
   "id": "9795a120",
   "metadata": {},
   "outputs": [],
   "source": [
    "## Only keep exons from multi exon transcripts and drop duplicates\n",
    "bambu_known_transcripts_multi_exon = bambu_known_transcripts.loc[bambu_known_transcripts[\"transcript_id\"].isin(bambu_ref_multi_exon_transcripts)].copy()\n",
    "bambu_known_transcripts_multi_exon.drop_duplicates(subset=\"junctions\", inplace=True)"
   ]
  },
  {
   "cell_type": "code",
   "execution_count": 18,
   "id": "3c88c638",
   "metadata": {},
   "outputs": [],
   "source": [
    "## Remove junctions columns\n",
    "\n",
    "bambu_new_transcripts.drop(columns=\"junctions\", inplace=True)\n",
    "\n",
    "bambu_new_transcripts_mt.drop(columns=\"junctions\", inplace=True)\n",
    "\n",
    "bambu_new_genes.drop(columns=\"junctions\", inplace=True)\n",
    "\n",
    "bambu_new_all.drop(columns=\"junctions\", inplace=True)\n",
    "\n",
    "bambu_known_transcripts.drop(columns=\"junctions\", inplace=True)\n",
    "\n",
    "bambu_known_transcripts_multi_exon.drop(columns=\"junctions\", inplace=True)"
   ]
  },
  {
   "cell_type": "code",
   "execution_count": 19,
   "id": "41741770",
   "metadata": {},
   "outputs": [
    {
     "name": "stdout",
     "output_type": "stream",
     "text": [
      "(869, 11)\n",
      "(65, 11)\n",
      "(536, 11)\n",
      "(1405, 11)\n",
      "(274855, 11)\n",
      "(186048, 11)\n"
     ]
    }
   ],
   "source": [
    "## Print shapes of the annotations after removing known exons\n",
    "\n",
    "print(bambu_new_transcripts.shape)\n",
    "print(bambu_new_transcripts_mt.shape)\n",
    "print(bambu_new_genes.shape)\n",
    "print(bambu_new_all.shape)\n",
    "print(bambu_known_transcripts.shape)\n",
    "print(bambu_known_transcripts_multi_exon.shape)"
   ]
  },
  {
   "cell_type": "code",
   "execution_count": 20,
   "id": "da6c444a",
   "metadata": {},
   "outputs": [],
   "source": [
    "## Save annotations\n",
    "\n",
    "bambu_new_transcripts.to_csv(\"../../../../data/bernardo/processed/99.other/create_annotations/meme_annotation/new_exons_from_new_transcripts_in_known_genes.tsv\",\n",
    "                            sep=\"\\t\", index=False)\n",
    "\n",
    "bambu_new_transcripts_mt.to_csv(\"../../../../data/bernardo/processed/99.other/create_annotations/meme_annotation/new_exons_from_new_transcripts_mitochondrial_genes.tsv\",\n",
    "                            sep=\"\\t\", index=False)\n",
    "\n",
    "bambu_new_genes.to_csv(\"../../../../data/bernardo/processed/99.other/create_annotations/meme_annotation/new_exons_from_new_transcripts_in_new_genes.tsv\",\n",
    "                            sep=\"\\t\", index=False)\n",
    "\n",
    "bambu_new_all.to_csv(\"../../../../data/bernardo/processed/99.other/create_annotations/meme_annotation/new_exons_from_new_transcripts_in_new_and_known_genes.tsv\",\n",
    "                            sep=\"\\t\", index=False)\n",
    "\n",
    "bambu_known_transcripts_multi_exon.to_csv(\"../../../../data/bernardo/processed/99.other/create_annotations/meme_annotation/exons_from_known_spliced_genes.tsv\",\n",
    "                            sep=\"\\t\", index=False)"
   ]
  }
 ],
 "metadata": {
  "kernelspec": {
   "display_name": "Python 3 (ipykernel)",
   "language": "python",
   "name": "python3"
  },
  "language_info": {
   "codemirror_mode": {
    "name": "ipython",
    "version": 3
   },
   "file_extension": ".py",
   "mimetype": "text/x-python",
   "name": "python",
   "nbconvert_exporter": "python",
   "pygments_lexer": "ipython3",
   "version": "3.10.9"
  }
 },
 "nbformat": 4,
 "nbformat_minor": 5
}
