{
 "cells": [
  {
   "cell_type": "code",
   "execution_count": 1,
   "id": "68e81ef6",
   "metadata": {},
   "outputs": [],
   "source": [
    "## Import Libraries\n",
    "import pandas as pd\n",
    "import numpy as np\n",
    "import matplotlib.pyplot as plt\n",
    "%matplotlib inline\n",
    "import csv\n",
    "\n",
    "\n",
    "## Display all rows of pandas dataframes\n",
    "pd.set_option('display.max_rows', None)\n",
    "pd.set_option('display.max_colwidth', None)"
   ]
  },
  {
   "cell_type": "code",
   "execution_count": 2,
   "id": "079e7e24",
   "metadata": {},
   "outputs": [],
   "source": [
    "'''\n",
    "function name: fix_column_names\n",
    "\n",
    "purpose: Fixing the column names, making them smaller, informative, and consistent\n",
    "\n",
    "input: The raw counts dataframe for either genes or transcripts \n",
    "\n",
    "output: Same dataframe with improved column names\n",
    "'''\n",
    "\n",
    "def fix_column_names(df, is_gene=False):\n",
    "    \n",
    "    ## Check if this is a gene counts object\n",
    "    if is_gene:\n",
    "        \n",
    "        ## Get count column names and create list of new column names\n",
    "        df[\"gene_id\"] = df[df.columns[0]]\n",
    "        df.drop(columns=df.columns[0], inplace=True)\n",
    "        \n",
    "        ## gene_id comes in as index for gene counts data, make it into the first column instead\n",
    "        cols = list(df.columns)\n",
    "        cols = [cols[-1]] + cols[:-1]\n",
    "        df = df[cols]\n",
    "        df.reset_index(inplace=True, drop=True)\n",
    "        \n",
    "        ## Define counts columns and initiate new_columns list\n",
    "        count_columns = df.columns[1:].tolist()\n",
    "        list_new_names = [\"gene_id\"]\n",
    "    \n",
    "    ## If it is a transcript dataset\n",
    "    else:\n",
    "        ## Set count columns and create list of new names\n",
    "        count_columns = df.columns[2:].tolist()\n",
    "        list_new_names = [\"transcript_id\", \"gene_id\"]\n",
    "    \n",
    "    ## Fix names one by one and add to list of new names\n",
    "    for col in count_columns:\n",
    "        col = col.split(\"_mapped\")[0] + \"_counts\"\n",
    "        list_new_names.append(col)\n",
    "    \n",
    "    ## Rename columns\n",
    "    df.columns = list_new_names\n",
    "    \n",
    "    return df "
   ]
  },
  {
   "cell_type": "code",
   "execution_count": 3,
   "id": "6bd065cd",
   "metadata": {},
   "outputs": [],
   "source": [
    "'''\n",
    "function name: parse_df_columns\n",
    "\n",
    "purpose: parsing the last aggregate column of the gtf/gff3 into useful columns and cleaning non-relevant columns\n",
    "\n",
    "input: dataframe containining \"raw\" gtf/gff\n",
    "\n",
    "output: dataframe containing gtf with useful columns [\"gene_id\", \"transcript_id\", etc...]\n",
    "'''\n",
    "\n",
    "def parse_df_columns(df, is_ref=True, is_transcript=False, is_exon=False):\n",
    "\n",
    "    if is_ref:\n",
    "\n",
    "        ## Get gene ids\n",
    "        df[\"gene_id\"] = df[\"other\"].str.split('\";', expand=True)[0].str.extract(\"([^ \\\"]*$)\", expand=True)\n",
    "        \n",
    "        ## Get gene names\n",
    "        df[\"gene_name\"] = df[\"other\"].str.split(\"gene_name \\\"\", expand=True)[1].str.split('\\\";', expand=True)[0]\n",
    "        \n",
    "        ## Get get transcript biotype\n",
    "        df[\"gene_biotype\"] = df[\"other\"].str.split('gene_biotype \"', expand=True)[1].str.split('\"', expand=True)[0]\n",
    "        \n",
    "        if is_transcript:\n",
    "            df[\"transcript_id\"] = df[\"other\"].str.split('transcript_id \"', expand=True)[1].str.split('\"', expand=True)[0]\n",
    "            df[\"transcript_biotype\"] = df[\"other\"].str.split('transcript_biotype \"', expand=True)[1].str.split('\"', expand=True)[0]\n",
    "        \n",
    "        if is_exon:\n",
    "            df[\"transcript_id\"] = df[\"other\"].str.split('transcript_id \"', expand=True)[1].str.split('\"', expand=True)[0]\n",
    "            df[\"transcript_biotype\"] = df[\"other\"].str.split('transcript_biotype \"', expand=True)[1].str.split('\"', expand=True)[0]\n",
    "            df[\"exon_number\"] = df[\"other\"].str.split('exon_number \"', expand=True)[1].str.split('\"', expand=True)[0]\n",
    "\n",
    "            \n",
    "        ## Drop \"other\" column\n",
    "        df.drop(columns=[\"other\", \"dot_1\", \"dot_2\"], inplace=True)\n",
    "        \n",
    "\n",
    "    else:\n",
    "\n",
    "        ## Get gene ids\n",
    "        df[\"gene_id\"] = df[\"other\"].str.split('\";', expand=True)[0].str.extract(\"([^ \\\"]*$)\", expand=True)\n",
    "\n",
    "        ## Get transcript ids\n",
    "        df[\"transcript_id\"] = df[\"other\"].str.split('transcript_id \"', expand=True)[1].str.split('\"', expand=True)[0]\n",
    "\n",
    "        ## Get exon number\n",
    "        df[\"exon_number\"] = df[\"other\"].str.split('exon_number \"', expand=True)[1].str.split('\"', expand=True)[0]\n",
    "\n",
    "        ## Drop \"other\" column\n",
    "        df.drop(columns=[\"other\", \"dot_1\", \"dot_2\"], inplace=True)\n",
    "\n",
    "    for col in df.columns:\n",
    "        df.loc[df[col].isnull(), col] = np.NaN\n",
    "        \n",
    "\n",
    "    return df"
   ]
  },
  {
   "cell_type": "code",
   "execution_count": 4,
   "id": "a04987b4",
   "metadata": {},
   "outputs": [],
   "source": [
    "'''\n",
    "function name: calculate_cpm\n",
    "\n",
    "purpose: Calculate CPM for the each sample given\n",
    "\n",
    "input: Counts dataset\n",
    "\n",
    "output: Counts dataset with CPM columns as well\n",
    "'''\n",
    "\n",
    "def calculate_cpm(df, is_gene=False):\n",
    "\n",
    "    ## Set count columns if dataframe is gene counts\n",
    "    if is_gene:\n",
    "        count_columns = df.columns[1:].tolist()\n",
    "    \n",
    "    ## Set count columns if dataframe is transcript counts\n",
    "    else:\n",
    "        count_columns = df.columns[2:].tolist()\n",
    "\n",
    "    ## Loop through counts columns to calculate CPM and add to the dataframe\n",
    "    for col in count_columns:\n",
    "        \n",
    "        df[col] = df[col]\n",
    "        cpm_name = col.replace(\"_counts\", \"_CPM\")\n",
    "        df[cpm_name] = ((df[col]/(df[col].sum())) * 1000000)\n",
    "    \n",
    "    return df  "
   ]
  },
  {
   "cell_type": "code",
   "execution_count": 5,
   "id": "1b1633af",
   "metadata": {},
   "outputs": [],
   "source": [
    "## Import Data\n",
    "\n",
    "## Open original reference\n",
    "original_ref = pd.read_csv(\"../../../../references/bernardo/Homo_sapiens.GRCh38.107_ERCC.gtf\", header=None, delimiter=\"\\t\", low_memory=False, \n",
    "                       names=[\"chr\", \"source\", \"type\", \"start\", \"end\", \"dot_1\", \"strand\", \"dot_2\", \"other\"], comment=\"#\")\n",
    "\n",
    "\n",
    "\n",
    "## Bambu reference with novel and annotated transcripts\n",
    "bambu_ref = pd.read_csv(\"../../../../data/bernardo/raw/uky_aged_stringent/bambu_discovery/extended_annotations.gtf\", header=None, delimiter=\"\\t\",\n",
    "                        low_memory=False, names=[\"chr\", \"source\", \"type\", \"start\", \"end\", \"dot_1\", \"strand\", \"dot_2\", \"other\"])\n",
    "\n",
    "## New Transcript Events\n",
    "df_events = pd.read_csv(\"../../../../data/bernardo/processed/03.gene_and_transcripts_descriptive_stats/uky_aged_stringent_novel_events.tsv\", sep=\"\\t\")\n",
    "\n",
    "\n",
    "## Bambu counts matrix\n",
    "df = pd.read_csv(\"../../../../data/bernardo/raw/uky_aged_stringent/bambu_discovery/counts_transcript.txt\", \n",
    "                           delimiter=\"\\t\", low_memory=False, header=0)"
   ]
  },
  {
   "cell_type": "code",
   "execution_count": 6,
   "id": "9127e61f",
   "metadata": {},
   "outputs": [],
   "source": [
    "## Get all transcript IDs from ENSEMBL 94 GTF\n",
    "\n",
    "df_ensembl_94 = pd.read_csv(\"../../../../references/bernardo/Homo_sapiens.GRCh38.94.gtf\", header=None, delimiter=\"\\t\",\n",
    "                        low_memory=False, names=[\"chr\", \"source\", \"type\", \"start\", \"end\", \"dot_1\", \"strand\", \"dot_2\", \"other\"])\n",
    "\n",
    "df_ensembl_94 = df_ensembl_94.loc[df_ensembl_94[\"type\"] == \"transcript\"].copy()\n",
    "\n",
    "df_ensembl_94 = parse_df_columns(df_ensembl_94, is_ref=True, is_transcript=True)\n",
    "\n",
    "ensembl_94_transcript_ids = df_ensembl_94[\"transcript_id\"].copy()"
   ]
  },
  {
   "cell_type": "code",
   "execution_count": 7,
   "id": "883157ee",
   "metadata": {},
   "outputs": [],
   "source": [
    "## Parse through original reference to get all needed info\n",
    "\n",
    "orig_ref_transcripts = original_ref.loc[original_ref[\"type\"]==\"transcript\"].copy()\n",
    "orig_ref_exons = original_ref.loc[((original_ref[\"type\"]==\"exon\") | (original_ref[\"type\"]==\"CDS\"))].copy()\n",
    "\n",
    "orig_ref_transcripts = parse_df_columns(orig_ref_transcripts, is_ref=True, is_transcript=True)\n",
    "orig_ref_exons = parse_df_columns(orig_ref_exons, is_ref=True, is_exon=True)\n",
    "\n",
    "orig_ref_transcripts.drop(columns=[\"source\"], inplace=True)\n",
    "orig_ref_transcripts[\"exon_number\"] = np.nan\n",
    "\n",
    "orig_ref_exons.drop(columns=[\"source\"], inplace=True)\n",
    "\n",
    "orig_ref = pd.concat([orig_ref_transcripts, orig_ref_exons]).sort_values(by=[\"chr\", \"start\", \"type\", \"end\"], \n",
    "                                                                                    ascending=[True, True, False, True])\n",
    "\n",
    "\n",
    "orig_ref.loc[orig_ref[\"transcript_id\"].isin(ensembl_94_transcript_ids), \"annotation_status\"] = \"Annotated in ENSEMBL 94 (2019)\"\n",
    "orig_ref.loc[~orig_ref[\"transcript_id\"].isin(ensembl_94_transcript_ids), \"annotation_status\"] = \"NOT Annotated in ENSEMBL 94 (2019)\"\n",
    "\n",
    "orig_ref[\"discovery_category\"] = \"Annotated\""
   ]
  },
  {
   "cell_type": "code",
   "execution_count": 8,
   "id": "0b453522",
   "metadata": {},
   "outputs": [],
   "source": [
    "## Cleanup df_events\n",
    "df_events = df_events[[\"TXNAME\", \"txClassDescription\"]]\n",
    "\n",
    "## Cleanup net transcript classes\n",
    "df_events.loc[df_events[\"txClassDescription\"] == \"newGene-spliced\", \"txClassDescription\"] = \"New Gene Body\"\n",
    "\n",
    "df_events.loc[df_events[\"txClassDescription\"] == \"newWithin\", \"txClassDescription\"] = \"New Combo of Known Junctions/Exons\"\n",
    "df_events.loc[df_events[\"txClassDescription\"] == \"newFirstJunctionnewFirstExon\", \"txClassDescription\"] = \"New First Exon\"\n",
    "df_events.loc[df_events[\"txClassDescription\"] == \"newLastJunctionnewLastExon\", \"txClassDescription\"] = \"New Last Exon\"\n",
    "df_events.loc[df_events[\"txClassDescription\"] == \"newFirstJunction\", \"txClassDescription\"] = \"New Last Exon\"\n",
    "df_events.loc[df_events[\"txClassDescription\"] == \"allNew\", \"txClassDescription\"] = \"All New\"\n",
    "\n",
    "df_events.loc[df_events[\"txClassDescription\"] == \"newFirstJunction\", \"txClassDescription\"] = \"New Junction\"\n",
    "df_events.loc[df_events[\"txClassDescription\"] == \"newLastJunctionnewJunction\", \"txClassDescription\"] = \"New Junction\"\n",
    "df_events.loc[df_events[\"txClassDescription\"] == \"newFirstJunctionnewJunction\", \"txClassDescription\"] = \"New Junction\"\n",
    "df_events.loc[df_events[\"txClassDescription\"] == \"newLastJunction\", \"txClassDescription\"] = \"New Junction\"\n",
    "df_events.loc[df_events[\"txClassDescription\"] == \"newJunction\", \"txClassDescription\"] = \"New Junction\"\n",
    "\n",
    "df_events.loc[df_events[\"txClassDescription\"] == \"newLastJunctionnewJunctionnewLastExon\", \"txClassDescription\"] = \"New Last Exon & New Junction\"\n",
    "df_events.loc[df_events[\"txClassDescription\"] == \"newFirstJunctionnewJunctionnewFirstExon\", \"txClassDescription\"] = \"New First Exon & New Junction\"\n",
    "df_events.loc[df_events[\"txClassDescription\"] == \"newLastJunctionnewFirstJunctionnewJunctionnewFirstExonnewLastExon\", \"txClassDescription\"] = \"New First & Last Exon & New Junction\"\n",
    "df_events.loc[df_events[\"txClassDescription\"] == \"newLastJunctionnewFirstJunctionnewJunctionnewFirstExon\", \"txClassDescription\"] = \"New First Exon & New Junction\"\n",
    "\n",
    "## Change column names\n",
    "df_events.columns = [\"transcript_id\", \"discovery_category\"]"
   ]
  },
  {
   "cell_type": "code",
   "execution_count": 9,
   "id": "303b9d3d",
   "metadata": {},
   "outputs": [],
   "source": [
    "## Parse through bambu reference\n",
    "bambu_ref = parse_df_columns(bambu_ref, is_ref=False)\n",
    "\n",
    "## Only keep novel genes and Transcripts\n",
    "bambu_ref = bambu_ref.loc[bambu_ref[\"transcript_id\"].str.startswith(\"BambuTx\")]\n",
    "\n",
    "## Create discovery category column\n",
    "bambu_ref[\"annotation_status\"] = \"unnanotated (newly discovered)\"\n",
    "bambu_ref[\"transcript_biotype\"] = \"unnanotated (newly discovered)\"\n",
    "bambu_ref = bambu_ref.merge(df_events, on=\"transcript_id\", how=\"inner\").drop_duplicates()\n",
    "\n",
    "## Get gene names\n",
    "gene_names = original_ref.loc[original_ref[\"type\"]==\"gene\"].copy()\n",
    "gene_names = parse_df_columns(gene_names, is_ref=True)\n",
    "gene_names = gene_names[[\"gene_id\", \"gene_name\"]]\n",
    "\n",
    "## Add gene_name\n",
    "bambu_ref = bambu_ref.merge(gene_names, on=\"gene_id\", how=\"left\").drop_duplicates().drop(columns=\"source\")"
   ]
  },
  {
   "cell_type": "code",
   "execution_count": 10,
   "id": "3cbf3d76",
   "metadata": {},
   "outputs": [],
   "source": [
    "## Final Reference\n",
    "final_ref = pd.concat([orig_ref, bambu_ref]).sort_values(by=[\"chr\", \"start\", \"type\", \"end\"], \n",
    "                                                                                    ascending=[True, True, False, True])"
   ]
  },
  {
   "cell_type": "code",
   "execution_count": 11,
   "id": "f31670b2",
   "metadata": {},
   "outputs": [],
   "source": [
    "### Fix transcript biotypes\n",
    "\n",
    "## Create CDS_not_defined classification\n",
    "final_ref.loc[((final_ref[\"gene_biotype\"] == \"protein_coding\") & (final_ref[\"transcript_biotype\"] == \"processed_transcript\")), \"transcript_biotype\"] = \"cds_not_defined\"\n",
    "\n",
    "## Create other classification\n",
    "final_ref.loc[~final_ref[\"transcript_biotype\"].isin([\"protein_coding\", \"nonsense_mediated_decay\", \"lncRNA\", \"retained_intron\", \"cds_not_defined\", \"processed_transcript\", \"unnanotated (newly discovered\"]), \"transcript_biotype\"] = \"other\"\n",
    "\n",
    "## Drop gene_biotype column\n",
    "final_ref.drop(columns=\"gene_biotype\", inplace=True)\n",
    "\n",
    "## Only keep CDS regions for protein_coding transcripts\n",
    "final_ref_cds = final_ref.loc[final_ref[\"type\"] == \"CDS\"].copy()\n",
    "final_ref_cds_prot = final_ref_cds.loc[final_ref_cds[\"transcript_biotype\"] == \"protein_coding\"].copy()\n",
    "final_ref_2 = final_ref.loc[final_ref[\"type\"] != \"CDS\"].copy()\n",
    "final_final_ref = pd.concat([final_ref_2, final_ref_cds_prot]).sort_values(by=[\"chr\", \"start\", \"type\", \"end\"], \n",
    "                                                                                    ascending=[True, True, False, True])"
   ]
  },
  {
   "cell_type": "code",
   "execution_count": 12,
   "id": "ccab976f",
   "metadata": {},
   "outputs": [],
   "source": [
    "## Save files\n",
    "final_final_ref.to_csv(\"../../../../data/bernardo/processed/99.other/create_annotations/annotation_for_maddy_r_shiny_app/annotation_r_shiny.tsv\", sep=\"\\t\", \n",
    "                index=False)"
   ]
  },
  {
   "cell_type": "code",
   "execution_count": 13,
   "id": "afe36a3c",
   "metadata": {},
   "outputs": [],
   "source": [
    "## Fix expression matrix\n",
    "df = fix_column_names(df, is_gene=False)\n",
    "df = calculate_cpm(df, is_gene=False)"
   ]
  },
  {
   "cell_type": "code",
   "execution_count": 14,
   "id": "27a98110",
   "metadata": {},
   "outputs": [],
   "source": [
    "## Save expression Matrix\n",
    "df.to_csv(\"../../../../data/bernardo/processed/99.other/create_annotations/annotation_for_maddy_r_shiny_app/expression_matrix_r_shiny.tsv\", sep=\"\\t\",\n",
    "         index=False)"
   ]
  },
  {
   "cell_type": "markdown",
   "id": "097aee95",
   "metadata": {},
   "source": [
    "# Create gene level file with total counts and CPM"
   ]
  },
  {
   "cell_type": "code",
   "execution_count": 15,
   "id": "f5d21e1e",
   "metadata": {},
   "outputs": [],
   "source": [
    "## Import gene level bambu counts matrix\n",
    "df_gene =  pd.read_csv(\"../../../../data/bernardo/raw/uky_aged_stringent/bambu_discovery/counts_gene.txt\", \n",
    "                           delimiter=\"\\t\", low_memory=False, header=0)"
   ]
  },
  {
   "cell_type": "code",
   "execution_count": 16,
   "id": "3198d745",
   "metadata": {},
   "outputs": [],
   "source": [
    "## Calculate total_counts, drop other counts columns\n",
    "df_gene = fix_column_names(df_gene, is_gene=True)\n",
    "counts_columns = df_gene.columns[1:].to_list()\n",
    "df_gene[\"total_counts\"] = df_gene[counts_columns].sum(axis=1)\n",
    "df_gene.drop(columns=counts_columns, inplace=True)"
   ]
  },
  {
   "cell_type": "code",
   "execution_count": 17,
   "id": "d7d0ccae",
   "metadata": {},
   "outputs": [],
   "source": [
    "## Calculate CPM and give it proper name\n",
    "df_gene = calculate_cpm(df_gene, is_gene=True)\n",
    "df_gene[\"average_CPM\"] = df_gene[\"total_CPM\"].copy()\n",
    "df_gene.drop(columns=\"total_CPM\", inplace=True)"
   ]
  },
  {
   "cell_type": "code",
   "execution_count": 18,
   "id": "f15aa914",
   "metadata": {},
   "outputs": [],
   "source": [
    "## Save file\n",
    "df_gene.to_csv(\"../../../../data/bernardo/processed/99.other/create_annotations/annotation_for_maddy_r_shiny_app/expression_matrix_r_shiny_GENE.tsv\",\n",
    "              sep=\"\\t\", index=False)"
   ]
  },
  {
   "cell_type": "markdown",
   "id": "cfeef9cd",
   "metadata": {},
   "source": [
    "# Create annotations to check for protein sequences for Maddy"
   ]
  },
  {
   "cell_type": "code",
   "execution_count": 21,
   "id": "14f0d9a6",
   "metadata": {},
   "outputs": [],
   "source": [
    "## Open original reference\n",
    "original_ref = pd.read_csv(\"../../../../references/bernardo/Homo_sapiens.GRCh38.107_ERCC.gtf\", header=None, delimiter=\"\\t\", low_memory=False, \n",
    "                       names=[\"chr\", \"source\", \"type\", \"start\", \"end\", \"dot_1\", \"strand\", \"dot_2\", \"other\"], comment=\"#\")\n",
    "\n",
    "\n",
    "\n",
    "## Bambu reference with novel and annotated transcripts\n",
    "bambu_ref = pd.read_csv(\"../../../../data/bernardo/raw/uky_aged_stringent/bambu_discovery/extended_annotations.gtf\", header=None, delimiter=\"\\t\",\n",
    "                        low_memory=False, names=[\"chr\", \"source\", \"type\", \"start\", \"end\", \"dot_1\", \"strand\", \"dot_2\", \"other\"])\n"
   ]
  },
  {
   "cell_type": "code",
   "execution_count": 22,
   "id": "13189047",
   "metadata": {},
   "outputs": [],
   "source": [
    "## Filter only new transcripts\n",
    "bambu_ref = bambu_ref.loc[bambu_ref[\"other\"].str.contains('transcript_id \"BambuTx')]\n",
    "\n",
    "\n",
    "## Filter only protein coding transcripts\n",
    "original_ref = original_ref.loc[original_ref[\"other\"].str.contains('transcript_biotype \"protein_coding\";')]\n",
    "\n"
   ]
  },
  {
   "cell_type": "code",
   "execution_count": 23,
   "id": "3e5a2cdd",
   "metadata": {},
   "outputs": [],
   "source": [
    "## Save files\n",
    "bambu_ref.to_csv(\"../../../../data/bernardo/processed/99.other/create_annotations/annotation_for_maddy_r_shiny_app/only_new_transcripts_no_filter.gtf\", sep=\"\\t\", \n",
    "                index=False, header=False, quoting=csv.QUOTE_NONE)\n",
    "\n",
    "original_ref.to_csv(\"../../../../data/bernardo/processed/99.other/create_annotations/annotation_for_maddy_r_shiny_app/only_protein_coding_transcripts_no_filter.gtf\", sep=\"\\t\", \n",
    "                index=False, header=False, quoting=csv.QUOTE_NONE)"
   ]
  }
 ],
 "metadata": {
  "kernelspec": {
   "display_name": "Python 3 (ipykernel)",
   "language": "python",
   "name": "python3"
  },
  "language_info": {
   "codemirror_mode": {
    "name": "ipython",
    "version": 3
   },
   "file_extension": ".py",
   "mimetype": "text/x-python",
   "name": "python",
   "nbconvert_exporter": "python",
   "pygments_lexer": "ipython3",
   "version": "3.10.8"
  }
 },
 "nbformat": 4,
 "nbformat_minor": 5
}
