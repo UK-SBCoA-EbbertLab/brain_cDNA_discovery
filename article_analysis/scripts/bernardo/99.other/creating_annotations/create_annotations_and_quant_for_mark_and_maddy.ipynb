{
 "cells": [
  {
   "cell_type": "code",
   "execution_count": 1,
   "id": "0105d08f",
   "metadata": {},
   "outputs": [],
   "source": [
    "## Import Libraries\n",
    "import pandas as pd\n",
    "import numpy as np\n",
    "from matplotlib_venn import venn2, venn2_circles, venn2_unweighted\n",
    "from matplotlib_venn import venn3, venn3_circles\n",
    "from matplotlib import pyplot as plt\n",
    "%matplotlib inline\n",
    "from wordcloud import WordCloud\n",
    "import seaborn as sns\n",
    "import csv\n",
    "\n",
    "## Display all rows of pandas dataframes\n",
    "pd.set_option('display.max_rows', None)\n",
    "pd.set_option('display.max_colwidth', None)"
   ]
  },
  {
   "cell_type": "code",
   "execution_count": 2,
   "id": "fb02a871",
   "metadata": {},
   "outputs": [],
   "source": [
    "'''\n",
    "function name: calculate_cpm\n",
    "\n",
    "purpose: Calculate CPM for the each sample given\n",
    "\n",
    "input: Counts dataset\n",
    "\n",
    "output: Counts dataset with CPM columns as well\n",
    "'''\n",
    "\n",
    "def calculate_cpm(df, is_gene=False):\n",
    "\n",
    "    ## Set count columns if dataframe is gene counts\n",
    "    if is_gene:\n",
    "        count_columns = df.columns[1:].tolist()\n",
    "    \n",
    "    ## Set count columns if dataframe is transcript counts\n",
    "    else:\n",
    "        count_columns = df.columns[2:].tolist()\n",
    "\n",
    "    ## Loop through counts columns to calculate CPM and add to the dataframe\n",
    "    for col in count_columns:\n",
    "        \n",
    "        df[col] = round(df[col], 2)\n",
    "        cpm_name = col.replace(\"_counts\", \"_CPM\")\n",
    "        df[cpm_name] = round(((df[col]/(df[col].sum())) * 1000000), 2)\n",
    "    \n",
    "    return df   "
   ]
  },
  {
   "cell_type": "code",
   "execution_count": 3,
   "id": "c92c5d3c",
   "metadata": {},
   "outputs": [],
   "source": [
    "'''\n",
    "function name: fix_column_names\n",
    "\n",
    "purpose: Fixing the column names, making them smaller, informative, and consistent\n",
    "\n",
    "input: The raw counts dataframe for either genes or transcripts \n",
    "\n",
    "output: Same dataframe with improved column names\n",
    "'''\n",
    "\n",
    "def fix_column_names(df, is_gene=False):\n",
    "    \n",
    "    ## Check if this is a gene counts object\n",
    "    if is_gene:\n",
    "        \n",
    "        ## Get count column names and create list of new column names\n",
    "        df[\"gene_id\"] = df[df.columns[0]]\n",
    "        df.drop(columns=df.columns[0], inplace=True)\n",
    "        \n",
    "        ## gene_id comes in as index for gene counts data, make it into the first column instead\n",
    "        cols = list(df.columns)\n",
    "        cols = [cols[-1]] + cols[:-1]\n",
    "        df = df[cols]\n",
    "        df.reset_index(inplace=True, drop=True)\n",
    "        \n",
    "        ## Define counts columns and initiate new_columns list\n",
    "        count_columns = df.columns[1:].tolist()\n",
    "        list_new_names = [\"gene_id\"]\n",
    "    \n",
    "    ## If it is a transcript dataset\n",
    "    else:\n",
    "        ## Set count columns and create list of new names\n",
    "        count_columns = df.columns[2:].tolist()\n",
    "        list_new_names = [\"transcript_id\", \"gene_id\"]\n",
    "    \n",
    "    ## Fix names one by one and add to list of new names\n",
    "    for col in count_columns:\n",
    "        col = col.split(\"_mapped\")[0] + \"_counts\"\n",
    "        list_new_names.append(col)\n",
    "    \n",
    "    ## Rename columns\n",
    "    df.columns = list_new_names\n",
    "    \n",
    "    return df "
   ]
  },
  {
   "cell_type": "code",
   "execution_count": 4,
   "id": "a7a78b7a",
   "metadata": {},
   "outputs": [],
   "source": [
    "'''\n",
    "function name: parse_df_columns\n",
    "\n",
    "purpose: parsing the last aggregate column of the gtf/gff3 into useful columns and cleaning non-relevant columns\n",
    "\n",
    "input: dataframe containining \"raw\" gtf/gff\n",
    "\n",
    "output: dataframe containing gtf with useful columns [\"gene_id\", \"transcript_id\", etc...]\n",
    "'''\n",
    "\n",
    "def parse_df_columns(df, is_ref=True):\n",
    "\n",
    "    if is_ref:\n",
    "        \n",
    "        ## Get gene ids\n",
    "        df[\"gene_id\"] = df[\"other\"].str.split(\"gene_id \\\"\", expand=True)[1].str.split('\"', expand=True)[0]\n",
    "\n",
    "        ## Get transcript ids\n",
    "        df[\"transcript_id\"] = df[\"other\"].str.split(\"transcript_id \\\"\", expand=True)[1].str.split('\"', expand=True)[0]   \n",
    "        \n",
    "        ## Get biotype\n",
    "        df[\"biotype\"] = df[\"other\"].str.split(\"gene_biotype \\\"\", expand=True)[1].str.split('\"', expand=True)[0]\n",
    "\n",
    "        ## Drop duplicates\n",
    "        df.drop_duplicates(inplace=True)\n",
    "        \n",
    "        \n",
    "\n",
    "    else:\n",
    "\n",
    "        ## Get CHM gene ids\n",
    "        df[\"gene_id\"] = df[\"other\"].str.split('\";', expand=True)[0].str.extract(\"([^ \\\"]*$)\", expand=True)\n",
    "        \n",
    "\n",
    "        ## Get CHM transcript ids\n",
    "        df[\"transcript_id\"] = df[\"other\"].str.split('transcript_id \"', expand=True)[1].str.split('\"', expand=True)[0]\n",
    "\n",
    "\n",
    "    for col in df.columns:\n",
    "        df.loc[df[col].isnull(), col] = np.NaN\n",
    "        \n",
    "\n",
    "    return df"
   ]
  },
  {
   "cell_type": "code",
   "execution_count": 5,
   "id": "286c4410",
   "metadata": {},
   "outputs": [],
   "source": [
    "## Fix column names in counts matrix\n",
    "\n",
    "grch38_counts = pd.read_csv(\"../../../../data/bernardo/raw/uky_aged_stringent/bambu_discovery/counts_transcript.txt\", \n",
    "                           delimiter=\"\\t\", low_memory=False, header=0)\n",
    "\n",
    "grch38_counts = fix_column_names(grch38_counts, is_gene=False)"
   ]
  },
  {
   "cell_type": "code",
   "execution_count": 7,
   "id": "795048b1",
   "metadata": {},
   "outputs": [],
   "source": [
    "## Calculate total counts and fix gene id\n",
    "grch38_counts[\"total_counts\"] = grch38_counts[grch38_counts.columns[2:6].tolist()].sum(axis=1)"
   ]
  },
  {
   "cell_type": "code",
   "execution_count": 8,
   "id": "4ce17c2c",
   "metadata": {},
   "outputs": [],
   "source": [
    "## Calculate CPM and drop count columns\n",
    "grch38_counts = calculate_cpm(grch38_counts, is_gene=False)\n",
    "\n",
    "grch38_counts = grch38_counts[grch38_counts.columns.drop(list(grch38_counts.filter(regex='counts')))]"
   ]
  },
  {
   "cell_type": "code",
   "execution_count": 9,
   "id": "4b0868ee",
   "metadata": {},
   "outputs": [],
   "source": [
    "grch38_counts[\"avg_CPM\"] = grch38_counts[\"total_CPM\"]\n",
    "grch38_counts.drop(columns=\"total_CPM\", inplace=True)"
   ]
  },
  {
   "cell_type": "code",
   "execution_count": 10,
   "id": "35aea289",
   "metadata": {},
   "outputs": [],
   "source": [
    "## Find novel transcripts in both annotations\n",
    "grch38_counts.loc[grch38_counts[\"transcript_id\"].str.startswith(\"BambuTx\"), \"is_novel_transcript\"] = True\n",
    "grch38_counts.loc[~grch38_counts[\"transcript_id\"].str.startswith(\"BambuTx\"), \"is_novel_transcript\"] = False\n",
    "\n",
    "## Find novel genes in both annotations\n",
    "grch38_counts.loc[grch38_counts[\"gene_id\"].str.startswith(\"BambuGene\"), \"is_novel_gene\"] = True\n",
    "grch38_counts.loc[~grch38_counts[\"gene_id\"].str.startswith(\"BambuGene\"), \"is_novel_gene\"] = False"
   ]
  },
  {
   "cell_type": "code",
   "execution_count": 11,
   "id": "1140b06f",
   "metadata": {},
   "outputs": [],
   "source": [
    "## Create dataframes with either only novel genes or only novel transcripts that are not from novel genes\n",
    "grch38_novel_genes = grch38_counts.loc[grch38_counts[\"is_novel_gene\"]].copy()\n",
    "grch38_novel_transcripts = grch38_counts.loc[((grch38_counts[\"is_novel_transcript\"]) & (~grch38_counts[\"is_novel_gene\"]))].copy()"
   ]
  },
  {
   "cell_type": "code",
   "execution_count": 12,
   "id": "830c3b46",
   "metadata": {},
   "outputs": [
    {
     "name": "stdout",
     "output_type": "stream",
     "text": [
      "We found 68 novel genes in GRCh38\n",
      "We found 256 novel transcripts in GRCh38\n"
     ]
    }
   ],
   "source": [
    "## See how many novel genes\n",
    "print(\"We found\", grch38_novel_genes.shape[0], \"novel genes in GRCh38\")\n",
    "print(\"We found\", grch38_novel_transcripts.shape[0], \"novel transcripts in GRCh38\")"
   ]
  },
  {
   "cell_type": "code",
   "execution_count": 13,
   "id": "794cb81b",
   "metadata": {},
   "outputs": [],
   "source": [
    "## Filter novel genes and transcripts, total CPM > 1\n",
    "grch38_novel_genes_filtered_avg = grch38_novel_genes[(grch38_novel_genes[\"avg_CPM\"]>1)].copy()\n",
    "grch38_novel_transcripts_filtered_avg = grch38_novel_transcripts[(grch38_novel_transcripts[\"avg_CPM\"]>1)].copy()"
   ]
  },
  {
   "cell_type": "code",
   "execution_count": 14,
   "id": "3fce628b",
   "metadata": {},
   "outputs": [
    {
     "name": "stdout",
     "output_type": "stream",
     "text": [
      "We found 42 novel genes in GRCh38 filtered avg\n",
      "We found 235 novel transcripts in GRCh38 filtered avg\n"
     ]
    }
   ],
   "source": [
    "## See how many novel genes\n",
    "print(\"We found\", grch38_novel_genes_filtered_avg.shape[0], \"novel genes in GRCh38 filtered avg\")\n",
    "print(\"We found\", grch38_novel_transcripts_filtered_avg.shape[0], \"novel transcripts in GRCh38 filtered avg\")"
   ]
  },
  {
   "cell_type": "code",
   "execution_count": 15,
   "id": "0c14a957",
   "metadata": {},
   "outputs": [],
   "source": [
    "## Filter novel genes and transcripts, must be present in at least three samples with 50+ counts.\n",
    "cpm_cols = grch38_novel_genes.columns[2:7].tolist()\n",
    "grch38_novel_genes_filtered_each = grch38_novel_genes[(grch38_novel_genes[cpm_cols]>1).sum(axis=1)>=5]\n",
    "grch38_novel_transcripts_filtered_each = grch38_novel_transcripts[(grch38_novel_transcripts[cpm_cols]>1).sum(axis=1)>=5]"
   ]
  },
  {
   "cell_type": "code",
   "execution_count": 16,
   "id": "29c72712",
   "metadata": {},
   "outputs": [
    {
     "name": "stdout",
     "output_type": "stream",
     "text": [
      "We found 23 novel genes in GRCh38 filtered each\n",
      "We found 161 novel transcripts in GRCh38 filtered each\n"
     ]
    }
   ],
   "source": [
    "## See how many novel genes\n",
    "print(\"We found\", grch38_novel_genes_filtered_each.shape[0], \"novel genes in GRCh38 filtered each\")\n",
    "print(\"We found\", grch38_novel_transcripts_filtered_each.shape[0], \"novel transcripts in GRCh38 filtered each\")"
   ]
  },
  {
   "cell_type": "code",
   "execution_count": 17,
   "id": "aeba9528",
   "metadata": {},
   "outputs": [],
   "source": [
    "## Get annotated transcript\n",
    "grch38_annotated_transcript = grch38_counts.loc[((grch38_counts[\"is_novel_transcript\"]==False) & (grch38_counts[\"is_novel_gene\"]==False))].copy()"
   ]
  },
  {
   "cell_type": "code",
   "execution_count": 18,
   "id": "47366de2",
   "metadata": {},
   "outputs": [
    {
     "name": "stdout",
     "output_type": "stream",
     "text": [
      "We found 251213 annotated transcripts in GRCh38\n"
     ]
    }
   ],
   "source": [
    "## Display number of annotated transcripts\n",
    "print(\"We found\", grch38_annotated_transcript.shape[0], \"annotated transcripts in GRCh38\")"
   ]
  },
  {
   "cell_type": "code",
   "execution_count": 19,
   "id": "b5f5e5b8",
   "metadata": {},
   "outputs": [],
   "source": [
    "## Apply filters\n",
    "grch38_annotated_transcript_filtered_avg = grch38_annotated_transcript[(grch38_annotated_transcript[\"avg_CPM\"]>1)].copy()\n",
    "grch38_annotated_transcript_filtered_each =  grch38_annotated_transcript[(grch38_annotated_transcript[cpm_cols]>1).sum(axis=1)>=5]"
   ]
  },
  {
   "cell_type": "code",
   "execution_count": 20,
   "id": "651aeca6",
   "metadata": {},
   "outputs": [
    {
     "name": "stdout",
     "output_type": "stream",
     "text": [
      "We found 27743 annotated transcripts in GRCh38 filtered average\n",
      "We found 18339 annotated transcripts in GRCh38 filtered each\n"
     ]
    }
   ],
   "source": [
    "## Display number of filtered transcripts\n",
    "print(\"We found\", grch38_annotated_transcript_filtered_avg.shape[0], \"annotated transcripts in GRCh38 filtered average\")\n",
    "print(\"We found\", grch38_annotated_transcript_filtered_each.shape[0], \"annotated transcripts in GRCh38 filtered each\")"
   ]
  },
  {
   "cell_type": "code",
   "execution_count": 21,
   "id": "4977ecea",
   "metadata": {},
   "outputs": [],
   "source": [
    "# Load original reference\n",
    "orig_ref = pd.read_csv(\"../../../../references/bernardo/Homo_sapiens.GRCh38.107_ERCC.gtf\", header=None, delimiter=\"\\t\", low_memory=False, \n",
    "                       names=[\"chr\", \"source\", \"type\", \"start\", \"end\", \"dot_1\", \"strand\", \"dot_2\", \"other\"], comment=\"#\")"
   ]
  },
  {
   "cell_type": "code",
   "execution_count": 22,
   "id": "3ac7837f",
   "metadata": {},
   "outputs": [],
   "source": [
    "## Create good reference to convert gene names\n",
    "orig_ref = orig_ref.loc[(orig_ref[\"type\"]==\"transcript\") | (orig_ref[\"type\"]==\"exon\")].copy()\n",
    "orig_ref = parse_df_columns(orig_ref, is_ref=True)"
   ]
  },
  {
   "cell_type": "code",
   "execution_count": 23,
   "id": "d59042f6",
   "metadata": {},
   "outputs": [],
   "source": [
    "## Get names of each of the subgroups of transcripts\n",
    "protein_coding_names = orig_ref.loc[orig_ref[\"biotype\"] == \"protein_coding\"][\"transcript_id\"]\n",
    "expressed_avg_names = grch38_annotated_transcript_filtered_avg[\"transcript_id\"]\n",
    "expressed_each_names = grch38_annotated_transcript_filtered_each[\"transcript_id\"]"
   ]
  },
  {
   "cell_type": "code",
   "execution_count": 24,
   "id": "cd32c312",
   "metadata": {},
   "outputs": [],
   "source": [
    "## Overlap between filtered transcripts and protein coding\n",
    "protein_coding_expressed_avg_ids = expressed_avg_names.loc[expressed_avg_names.isin(protein_coding_names)].copy()\n",
    "protein_coding_expressed_each_ids = expressed_each_names.loc[expressed_each_names.isin(protein_coding_names)].copy()"
   ]
  },
  {
   "cell_type": "code",
   "execution_count": 25,
   "id": "531a9916",
   "metadata": {},
   "outputs": [],
   "source": [
    "## Drop repeats\n",
    "protein_coding_expressed_avg_ids = protein_coding_expressed_avg_ids.unique()\n",
    "protein_coding_expressed_each_ids = protein_coding_expressed_each_ids.unique()"
   ]
  },
  {
   "cell_type": "code",
   "execution_count": 26,
   "id": "6bb717fb",
   "metadata": {},
   "outputs": [
    {
     "name": "stdout",
     "output_type": "stream",
     "text": [
      "We found 25272 annotated protein coding transcripts in GRCh38 filtered average\n",
      "We found 17134 annotated protein coding transcripts in GRCh38 filtered each\n"
     ]
    }
   ],
   "source": [
    "# Print results\n",
    "print(\"We found\", protein_coding_expressed_avg_ids.shape[0], \"annotated protein coding transcripts in GRCh38 filtered average\")\n",
    "print(\"We found\", protein_coding_expressed_each_ids.shape[0], \"annotated protein coding transcripts in GRCh38 filtered each\")"
   ]
  },
  {
   "cell_type": "code",
   "execution_count": 27,
   "id": "a87bbaa5",
   "metadata": {},
   "outputs": [],
   "source": [
    "## Get GTF ready for outputting\n",
    "ref_protein_coding_avg = orig_ref.loc[orig_ref[\"transcript_id\"].isin(protein_coding_expressed_avg_ids)].copy()\n",
    "ref_protein_coding_each = orig_ref.loc[orig_ref[\"transcript_id\"].isin(protein_coding_expressed_each_ids)].copy()\n",
    "\n",
    "ref_protein_coding_avg.drop(columns=[\"gene_id\", \"transcript_id\", \"biotype\"], inplace=True)\n",
    "ref_protein_coding_each.drop(columns=[\"gene_id\", \"transcript_id\", \"biotype\"], inplace=True)"
   ]
  },
  {
   "cell_type": "code",
   "execution_count": 28,
   "id": "26c2116e",
   "metadata": {},
   "outputs": [],
   "source": [
    "ref_protein_coding_avg.to_csv((\"../../../../data/bernardo/processed/99.other/create_annotations/annotations_and_quant_for_mark_and_maddy/\"\n",
    "    \"filtered_annotated_protein_coding_transcripts/annotated_protein_coding_AVG_cpm_greater_than_one.gtf\"),\n",
    "                             header=None, index=None, sep=\"\\t\", quoting=csv.QUOTE_NONE)\n",
    "\n",
    "ref_protein_coding_each.to_csv((\"../../../../data/bernardo/processed/99.other/create_annotations/annotations_and_quant_for_mark_and_maddy/\"\n",
    "    \"filtered_annotated_protein_coding_transcripts/annotated_protein_coding_EACH_cpm_greater_than_one.gtf\"),\n",
    "                             header=None, index=None, sep=\"\\t\", quoting=csv.QUOTE_NONE)"
   ]
  },
  {
   "cell_type": "code",
   "execution_count": 29,
   "id": "531700d1",
   "metadata": {},
   "outputs": [],
   "source": [
    "## Get CPM files ready for output\n",
    "protein_coding_filtered_avg_counts = grch38_counts.loc[grch38_counts[\"transcript_id\"].isin(protein_coding_expressed_avg_ids)].copy()\n",
    "protein_coding_filtered_each_counts = grch38_counts.loc[grch38_counts[\"transcript_id\"].isin(protein_coding_expressed_each_ids)].copy()\n",
    "\n",
    "protein_coding_filtered_avg_counts.drop(columns=[\"is_novel_transcript\", \"is_novel_gene\"], inplace=True)\n",
    "protein_coding_filtered_each_counts.drop(columns=[\"is_novel_transcript\", \"is_novel_gene\"], inplace=True)"
   ]
  },
  {
   "cell_type": "code",
   "execution_count": 30,
   "id": "c97b8ebd",
   "metadata": {},
   "outputs": [],
   "source": [
    "protein_coding_filtered_avg_counts.to_csv((\"../../../../data/bernardo/processed/99.other/create_annotations/annotations_and_quant_for_mark_and_maddy/\"\n",
    "    \"filtered_annotated_protein_coding_transcripts/annotated_protein_coding_AVG_cpm_greater_than_one.cpm\"),\n",
    "    index=None, sep=\"\\t\")\n",
    "\n",
    "protein_coding_filtered_each_counts.to_csv((\"../../../../data/bernardo/processed/99.other/create_annotations/annotations_and_quant_for_mark_and_maddy/\"\n",
    "    \"filtered_annotated_protein_coding_transcripts/annotated_protein_coding_EACH_cpm_greater_than_one.cpm\"),\n",
    "                             index=None, sep=\"\\t\")"
   ]
  },
  {
   "cell_type": "code",
   "execution_count": 31,
   "id": "09ed3221",
   "metadata": {},
   "outputs": [],
   "source": [
    "## Load Bambu extended reference\n",
    "bambu_ref = pd.read_csv(\"../../../../data/bernardo/raw/uky_aged_stringent/bambu_discovery/extended_annotations.gtf\", header=None,\n",
    "                        delimiter=\"\\t\", low_memory=False, \n",
    "                        names=[\"chr\", \"source\", \"type\", \"start\", \"end\", \"dot_1\", \"strand\", \"dot_2\", \"other\"], comment=\"#\")"
   ]
  },
  {
   "cell_type": "code",
   "execution_count": 32,
   "id": "91bdf638",
   "metadata": {},
   "outputs": [],
   "source": [
    "## Parse through columns, get gene_id and trancript_id\n",
    "bambu_ref = parse_df_columns(bambu_ref, is_ref=False)"
   ]
  },
  {
   "cell_type": "code",
   "execution_count": 33,
   "id": "82f1f5af",
   "metadata": {},
   "outputs": [],
   "source": [
    "## Make sure coordinates on bambu ref are integers\n",
    "bambu_ref[\"start\"] = bambu_ref[\"start\"].astype(\"int64\", copy=True, errors='raise')\n",
    "bambu_ref[\"end\"] = bambu_ref[\"end\"].astype(\"int64\", copy=True, errors='raise')"
   ]
  },
  {
   "cell_type": "code",
   "execution_count": 34,
   "id": "3dedec98",
   "metadata": {},
   "outputs": [],
   "source": [
    "## Concatenate novel genes and transcript for different filtering thresholds\n",
    "novel_filtered_each = pd.concat([grch38_novel_genes_filtered_each, grch38_novel_transcripts_filtered_each])\n",
    "novel_filtered_avg = pd.concat([grch38_novel_genes_filtered_avg, grch38_novel_transcripts_filtered_avg])\n",
    "novel_all = pd.concat([grch38_novel_genes, grch38_novel_transcripts])"
   ]
  },
  {
   "cell_type": "code",
   "execution_count": 35,
   "id": "4f926403",
   "metadata": {},
   "outputs": [],
   "source": [
    "## Drop useless columns\n",
    "novel_filtered_each.drop(columns=[\"is_novel_gene\", \"is_novel_transcript\"], inplace=True)\n",
    "novel_filtered_avg.drop(columns=[\"is_novel_gene\", \"is_novel_transcript\"], inplace=True)\n",
    "novel_all.drop(columns=[\"is_novel_gene\", \"is_novel_transcript\"], inplace=True)"
   ]
  },
  {
   "cell_type": "code",
   "execution_count": 36,
   "id": "faa70809",
   "metadata": {},
   "outputs": [],
   "source": [
    "## Only keep transcript that pass filters on refrences\n",
    "ref_novel_filtered_each = bambu_ref.loc[bambu_ref[\"transcript_id\"].isin(novel_filtered_each[\"transcript_id\"])].copy()\n",
    "ref_novel_filtered_avg = bambu_ref.loc[bambu_ref[\"transcript_id\"].isin(novel_filtered_avg[\"transcript_id\"])].copy()\n",
    "ref_novel_all = bambu_ref.loc[bambu_ref[\"transcript_id\"].isin(novel_all[\"transcript_id\"])].copy()"
   ]
  },
  {
   "cell_type": "code",
   "execution_count": 37,
   "id": "cf48ff64",
   "metadata": {},
   "outputs": [],
   "source": [
    "## Drop columns no longer needed on reference\n",
    "ref_novel_filtered_each.drop(columns=[\"gene_id\", \"transcript_id\"], inplace=True)\n",
    "ref_novel_filtered_avg.drop(columns=[\"gene_id\", \"transcript_id\"], inplace=True)\n",
    "ref_novel_all.drop(columns=[\"gene_id\", \"transcript_id\"], inplace=True)"
   ]
  },
  {
   "cell_type": "code",
   "execution_count": 38,
   "id": "ae1ff2eb",
   "metadata": {},
   "outputs": [],
   "source": [
    "## Save references\n",
    "ref_novel_filtered_each.to_csv((\"../../../../data/bernardo/processed/99.other/create_annotations/annotations_and_quant_for_mark_and_maddy/\"\n",
    "    \"filtered_novel_genes_and_transcripts/new_rna_EACH_cpm_greater_than_one.gtf\"),\n",
    "                             header=None, index=None, sep=\"\\t\", quoting=csv.QUOTE_NONE)\n",
    "\n",
    "ref_novel_filtered_avg.to_csv((\"../../../../data/bernardo/processed/99.other/create_annotations/annotations_and_quant_for_mark_and_maddy/\"\n",
    "    \"filtered_novel_genes_and_transcripts/new_rna_AVG_cpm_greater_than_one.gtf\"),\n",
    "                             header=None, index=None, sep=\"\\t\", quoting=csv.QUOTE_NONE)\n",
    "\n",
    "ref_novel_all.to_csv((\"../../../../data/bernardo/processed/99.other/create_annotations/annotations_and_quant_for_mark_and_maddy/\"\n",
    "    \"unfiltered_novel_genes_and_transcripts/new_rna_UNFILTEREDrm_cpm_greater_than_one.gtf\"),\n",
    "                             header=None, index=None, sep=\"\\t\", quoting=csv.QUOTE_NONE)"
   ]
  },
  {
   "cell_type": "code",
   "execution_count": 39,
   "id": "5f24e609",
   "metadata": {},
   "outputs": [],
   "source": [
    "## Save CPM files\n",
    "novel_filtered_each.to_csv((\"../../../../data/bernardo/processed/99.other/create_annotations/annotations_and_quant_for_mark_and_maddy/\"\n",
    "    \"filtered_novel_genes_and_transcripts/new_rna_EACH_cpm_greater_than_one.cpm\"),\n",
    "                             index=None, sep=\"\\t\")\n",
    "\n",
    "novel_filtered_avg.to_csv((\"../../../../data/bernardo/processed/99.other/create_annotations/annotations_and_quant_for_mark_and_maddy/\"\n",
    "    \"filtered_novel_genes_and_transcripts/new_rna_AVG_cpm_greater_than_one.cpm\"),\n",
    "                             index=None, sep=\"\\t\")\n",
    "\n",
    "novel_all.to_csv((\"../../../../data/bernardo/processed/99.other/create_annotations/annotations_and_quant_for_mark_and_maddy/\"\n",
    "    \"unfiltered_novel_genes_and_transcripts/new_rna_UNFILTERED_cpm_greater_than_one.cpm\"),\n",
    "                             index=None, sep=\"\\t\")"
   ]
  },
  {
   "cell_type": "code",
   "execution_count": 40,
   "id": "7d0819d4",
   "metadata": {},
   "outputs": [],
   "source": [
    "## Drop unnecessary columns from original CPM matrix\n",
    "grch38_counts.drop(columns=[\"is_novel_gene\", \"is_novel_transcript\"], inplace=True)"
   ]
  },
  {
   "cell_type": "code",
   "execution_count": 41,
   "id": "8975bcfd",
   "metadata": {},
   "outputs": [],
   "source": [
    "## Save CPM matrix\n",
    "grch38_counts.to_csv((\"../../../../data/bernardo/processed/99.other/create_annotations/annotations_and_quant_for_mark_and_maddy/\"\n",
    "    \"original_data/unfiltered_all_transcripts.cpm\"),\n",
    "                             index=None, sep=\"\\t\")"
   ]
  }
 ],
 "metadata": {
  "kernelspec": {
   "display_name": "Python 3 (ipykernel)",
   "language": "python",
   "name": "python3"
  },
  "language_info": {
   "codemirror_mode": {
    "name": "ipython",
    "version": 3
   },
   "file_extension": ".py",
   "mimetype": "text/x-python",
   "name": "python",
   "nbconvert_exporter": "python",
   "pygments_lexer": "ipython3",
   "version": "3.10.8"
  }
 },
 "nbformat": 4,
 "nbformat_minor": 5
}
