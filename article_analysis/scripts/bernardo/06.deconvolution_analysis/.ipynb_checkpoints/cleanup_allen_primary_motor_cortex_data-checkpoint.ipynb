{
 "cells": [
  {
   "cell_type": "code",
   "execution_count": 2,
   "id": "64962c3b",
   "metadata": {},
   "outputs": [],
   "source": [
    "## Load libraries\n",
    "import pandas as pd\n",
    "import numpy as np"
   ]
  },
  {
   "cell_type": "code",
   "execution_count": 3,
   "id": "6a866a39",
   "metadata": {},
   "outputs": [],
   "source": [
    "'''\n",
    "function name: fix_column_names\n",
    "\n",
    "purpose: Fixing the column names, making them smaller, informative, and consistent\n",
    "\n",
    "input: The raw counts dataframe for either genes or transcripts \n",
    "\n",
    "output: Same dataframe with improved column names\n",
    "'''\n",
    "\n",
    "def fix_column_names(df, is_gene=False):\n",
    "    \n",
    "    ## Check if this is a gene counts object\n",
    "    if is_gene:\n",
    "        \n",
    "        ## Get count column names and create list of new column names\n",
    "        count_columns = df.columns[1:].tolist()\n",
    "        list_new_names = [\"gene_id\"]\n",
    "    \n",
    "    ## If it is a transcript dataset\n",
    "    else:\n",
    "        ## Set count columns and create list of new names\n",
    "        count_columns = df.columns[2:].tolist()\n",
    "        list_new_names = [ \"transcript_id\", \"gene_id\"]\n",
    "    \n",
    "    ## Fix names one by one and add to list of new names\n",
    "    for col in count_columns:\n",
    "        col = col.split(\"_mapped\")[0] + \"_counts\"\n",
    "        list_new_names.append(col)\n",
    "    \n",
    "    ## Rename columns\n",
    "    df.columns = list_new_names\n",
    "    \n",
    "    return df "
   ]
  },
  {
   "cell_type": "code",
   "execution_count": null,
   "id": "6b121149",
   "metadata": {},
   "outputs": [],
   "source": [
    "## Import bulk data\n",
    "metadata = pd.read_csv(\"../public_single_cell_data/primary_motor_cortex_allen_institute/metadata.csv\")"
   ]
  },
  {
   "cell_type": "code",
   "execution_count": 4,
   "id": "eaa4ebaa",
   "metadata": {},
   "outputs": [],
   "source": [
    "metadata = metadata[[\"sample_name\", \"class_label\"]].copy()"
   ]
  },
  {
   "cell_type": "code",
   "execution_count": 5,
   "id": "e7e347ca",
   "metadata": {},
   "outputs": [],
   "source": [
    "metadata.loc[metadata[\"class_label\"].str.startswith(\"G\"), \"cell_type\"] = \"Neuron\" \n",
    "metadata.loc[~metadata[\"class_label\"].str.startswith(\"G\"), \"cell_type\"] = \"Non-neuronal\" "
   ]
  },
  {
   "cell_type": "code",
   "execution_count": 6,
   "id": "4455ef0d",
   "metadata": {},
   "outputs": [],
   "source": [
    "metadata = metadata[[\"sample_name\", \"cell_type\"]].copy()"
   ]
  },
  {
   "cell_type": "code",
   "execution_count": 7,
   "id": "7ab0a5d9",
   "metadata": {},
   "outputs": [
    {
     "data": {
      "text/plain": [
       "Neuron          72528\n",
       "Non-neuronal     4005\n",
       "Name: cell_type, dtype: int64"
      ]
     },
     "execution_count": 7,
     "metadata": {},
     "output_type": "execute_result"
    }
   ],
   "source": [
    "metadata[\"cell_type\"].value_counts()"
   ]
  },
  {
   "cell_type": "code",
   "execution_count": 15,
   "id": "0c082e17",
   "metadata": {},
   "outputs": [],
   "source": [
    "df_allen = pd.read_csv(\"../public_single_cell_data/primary_motor_cortex_allen_institute/matrix.csv\", nrows=5000)"
   ]
  },
  {
   "cell_type": "code",
   "execution_count": 16,
   "id": "eb04a043",
   "metadata": {},
   "outputs": [],
   "source": [
    "df_final = df_allen.merge(metadata, on=\"sample_name\", how=\"inner\")"
   ]
  },
  {
   "cell_type": "code",
   "execution_count": 17,
   "id": "2cb3f4b1",
   "metadata": {},
   "outputs": [],
   "source": [
    "df_allen = None"
   ]
  },
  {
   "cell_type": "code",
   "execution_count": 18,
   "id": "344d83ca",
   "metadata": {},
   "outputs": [],
   "source": [
    "df_final = df_final.dropna()"
   ]
  },
  {
   "cell_type": "code",
   "execution_count": 19,
   "id": "4d3e2b96",
   "metadata": {},
   "outputs": [
    {
     "data": {
      "text/plain": [
       "Neuron          4795\n",
       "Non-neuronal     205\n",
       "Name: cell_type, dtype: int64"
      ]
     },
     "execution_count": 19,
     "metadata": {},
     "output_type": "execute_result"
    }
   ],
   "source": [
    "df_final[\"cell_type\"].value_counts()"
   ]
  },
  {
   "cell_type": "code",
   "execution_count": 20,
   "id": "a493c88a",
   "metadata": {},
   "outputs": [],
   "source": [
    "df_final = pd.concat([df_final.loc[df_final[\"cell_type\"] == \"Neuron\"].sample(n=205).copy(),\n",
    "             df_final.loc[df_final[\"cell_type\"] == \"Non-neuronal\"].copy()])"
   ]
  },
  {
   "cell_type": "code",
   "execution_count": 21,
   "id": "b289e4b3",
   "metadata": {},
   "outputs": [],
   "source": [
    "df_final.drop(columns=\"sample_name\", inplace=True)"
   ]
  },
  {
   "cell_type": "code",
   "execution_count": 22,
   "id": "824aa14f",
   "metadata": {},
   "outputs": [],
   "source": [
    "df_final.index = df_final[\"cell_type\"].copy()\n",
    "df_final = df_final.drop(columns=\"cell_type\")"
   ]
  },
  {
   "cell_type": "code",
   "execution_count": 23,
   "id": "e58433bd",
   "metadata": {},
   "outputs": [],
   "source": [
    "df_final_T = df_final.T"
   ]
  },
  {
   "cell_type": "code",
   "execution_count": 24,
   "id": "809a3d0e",
   "metadata": {},
   "outputs": [],
   "source": [
    "df_final = None"
   ]
  },
  {
   "cell_type": "code",
   "execution_count": 25,
   "id": "e42c2595",
   "metadata": {},
   "outputs": [],
   "source": [
    "df_final_T[\"gene_name\"] = df_final_T.index\n",
    "\n",
    "first_column = df_final_T.pop('gene_name')\n",
    "\n",
    "df_final_T.insert(0, 'gene_name', first_column)"
   ]
  },
  {
   "cell_type": "code",
   "execution_count": 26,
   "id": "6ee3ed8d",
   "metadata": {},
   "outputs": [],
   "source": [
    "df_final_T.to_csv(\"../processed_data/primary_motor_cortex_allen_single_cell_data.tsv\", sep=\"\\t\", index=False)"
   ]
  }
 ],
 "metadata": {
  "kernelspec": {
   "display_name": "Python 3 (ipykernel)",
   "language": "python",
   "name": "python3"
  },
  "language_info": {
   "codemirror_mode": {
    "name": "ipython",
    "version": 3
   },
   "file_extension": ".py",
   "mimetype": "text/x-python",
   "name": "python",
   "nbconvert_exporter": "python",
   "pygments_lexer": "ipython3",
   "version": "3.10.10"
  }
 },
 "nbformat": 4,
 "nbformat_minor": 5
}
