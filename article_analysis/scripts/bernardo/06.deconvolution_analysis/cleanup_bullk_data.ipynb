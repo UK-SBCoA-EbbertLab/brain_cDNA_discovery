{
 "cells": [
  {
   "cell_type": "code",
   "execution_count": 1,
   "id": "64962c3b",
   "metadata": {},
   "outputs": [],
   "source": [
    "## Load libraries\n",
    "import pandas as pd\n",
    "import numpy as np"
   ]
  },
  {
   "cell_type": "code",
   "execution_count": 2,
   "id": "6a866a39",
   "metadata": {},
   "outputs": [],
   "source": [
    "'''\n",
    "function name: fix_column_names\n",
    "\n",
    "purpose: Fixing the column names, making them smaller, informative, and consistent\n",
    "\n",
    "input: The raw counts dataframe for either genes or transcripts \n",
    "\n",
    "output: Same dataframe with improved column names\n",
    "'''\n",
    "\n",
    "def fix_column_names(df, is_gene=False):\n",
    "    \n",
    "    ## Check if this is a gene counts object\n",
    "    if is_gene:\n",
    "        \n",
    "        ## Get count column names and create list of new column names\n",
    "        count_columns = df.columns[1:].tolist()\n",
    "        list_new_names = [\"gene_id\"]\n",
    "    \n",
    "    ## If it is a transcript dataset\n",
    "    else:\n",
    "        ## Set count columns and create list of new names\n",
    "        count_columns = df.columns[2:].tolist()\n",
    "        list_new_names = [ \"transcript_id\", \"gene_id\"]\n",
    "    \n",
    "    ## Fix names one by one and add to list of new names\n",
    "    for col in count_columns:\n",
    "        col = col.split(\"_mapped\")[0] + \"_counts\"\n",
    "        list_new_names.append(col)\n",
    "    \n",
    "    ## Rename columns\n",
    "    df.columns = list_new_names\n",
    "    \n",
    "    return df "
   ]
  },
  {
   "cell_type": "code",
   "execution_count": 4,
   "id": "6b121149",
   "metadata": {},
   "outputs": [],
   "source": [
    "## Import bulk data\n",
    "df_bulk = pd.read_csv(\"../../../data/bernardo/raw/ad_vs_ct_pilot_study_february_2023_GRCh38-107_discovery/bambu_discovery/counts_gene.txt\", sep=\"\\t\")\n",
    "df_bulk = fix_column_names(df_bulk, is_gene=True)"
   ]
  },
  {
   "cell_type": "code",
   "execution_count": 5,
   "id": "38c0b7b2",
   "metadata": {},
   "outputs": [],
   "source": [
    "## Include disease status in column names\n",
    "sample_conditions = [\"AD\", \"CT\", \"AD\", \"CT\", \"CT\", \"CT\", \"CT\", \"AD\", \"AD\", \"CT\", \"AD\", \"AD\"]\n",
    "\n",
    "list_new_names = [\"gene_id\"]\n",
    "\n",
    "for i in range(len(df_bulk.columns[1:].to_list())):\n",
    "    new_name = df_bulk.columns[(i+1)].split(\"PA\")[0] + sample_conditions[i]\n",
    "    list_new_names.append(new_name)\n",
    "    \n",
    "df_bulk.columns = list_new_names"
   ]
  },
  {
   "cell_type": "code",
   "execution_count": 6,
   "id": "4bd70cd0",
   "metadata": {},
   "outputs": [],
   "source": [
    "## Load HUGO gene symbol converter\n",
    "\n",
    "name_converter = pd.read_csv(\"../../../references/bernardo/hugo_name_converter.csv\")"
   ]
  },
  {
   "cell_type": "code",
   "execution_count": 7,
   "id": "6cee8091",
   "metadata": {},
   "outputs": [],
   "source": [
    "## Inner merge with counts matrix base on gene_id\n",
    "\n",
    "df_bulk_named = df_bulk.merge(name_converter, on=\"gene_id\", how=\"inner\")"
   ]
  },
  {
   "cell_type": "code",
   "execution_count": 8,
   "id": "c92be47a",
   "metadata": {},
   "outputs": [],
   "source": [
    "df_bulk_named.drop(columns=\"gene_id\", inplace=True)"
   ]
  },
  {
   "cell_type": "code",
   "execution_count": 9,
   "id": "1f23ed32",
   "metadata": {},
   "outputs": [
    {
     "data": {
      "text/plain": [
       "Index(['sample_579_AD', 'sample_1131_CT', 'sample_1218_AD', 'sample_1304_CT',\n",
       "       'sample_1271_CT', 'sample_5356_CT', 'sample_1163_CT', 'sample_5295_AD',\n",
       "       'sample_5292_AD', 'sample_1092_CT', 'sample_1186_AD', 'sample_1291_AD',\n",
       "       'gene_name'],\n",
       "      dtype='object')"
      ]
     },
     "execution_count": 9,
     "metadata": {},
     "output_type": "execute_result"
    }
   ],
   "source": [
    "df_bulk_named.columns"
   ]
  },
  {
   "cell_type": "code",
   "execution_count": 10,
   "id": "58f92804",
   "metadata": {},
   "outputs": [],
   "source": [
    "new_column_order = ['gene_name', 'sample_1131_CT',  'sample_1304_CT', 'sample_1271_CT', 'sample_5356_CT', 'sample_1163_CT',\n",
    "                    'sample_1092_CT', 'sample_5292_AD', 'sample_1186_AD', 'sample_1291_AD', 'sample_579_AD', \n",
    "                    'sample_1218_AD', 'sample_5295_AD']\n",
    "       "
   ]
  },
  {
   "cell_type": "code",
   "execution_count": 11,
   "id": "953b9ee1",
   "metadata": {},
   "outputs": [],
   "source": [
    "df_bulk_final = df_bulk_named[new_column_order].copy()"
   ]
  },
  {
   "cell_type": "code",
   "execution_count": 12,
   "id": "6aed5fa2",
   "metadata": {},
   "outputs": [],
   "source": [
    "df_bulk_final.to_csv(\"../../../data/bernardo/processed/06.deconvolution_analysis/processed_bulk_data.tsv\", sep=\"\\t\", index=False)"
   ]
  }
 ],
 "metadata": {
  "kernelspec": {
   "display_name": "Python 3 (ipykernel)",
   "language": "python",
   "name": "python3"
  },
  "language_info": {
   "codemirror_mode": {
    "name": "ipython",
    "version": 3
   },
   "file_extension": ".py",
   "mimetype": "text/x-python",
   "name": "python",
   "nbconvert_exporter": "python",
   "pygments_lexer": "ipython3",
   "version": "3.10.10"
  }
 },
 "nbformat": 4,
 "nbformat_minor": 5
}
