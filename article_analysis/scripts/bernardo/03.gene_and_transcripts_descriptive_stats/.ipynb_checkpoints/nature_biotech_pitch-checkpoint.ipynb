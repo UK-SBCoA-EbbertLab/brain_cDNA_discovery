{
 "cells": [
  {
   "cell_type": "markdown",
   "id": "b40cead4",
   "metadata": {},
   "source": [
    "# Library Import and Functions"
   ]
  },
  {
   "cell_type": "code",
   "execution_count": 8,
   "id": "2e7c2845",
   "metadata": {},
   "outputs": [],
   "source": [
    "## Import Libraries\n",
    "import pandas as pd\n",
    "import numpy as np\n",
    "from matplotlib_venn import venn2, venn2_circles, venn2_unweighted\n",
    "from matplotlib_venn import venn3, venn3_circles\n",
    "from matplotlib import pyplot as plt\n",
    "%matplotlib inline\n",
    "import seaborn as sns\n",
    "from wordcloud import WordCloud\n",
    "\n",
    "\n",
    "## Display all rows of pandas dataframes\n",
    "pd.set_option('display.max_rows', None)\n",
    "pd.set_option('display.max_colwidth', None)"
   ]
  },
  {
   "cell_type": "code",
   "execution_count": 9,
   "id": "f27e634a",
   "metadata": {},
   "outputs": [],
   "source": [
    "'''\n",
    "name: relative_transcript_abundance\n",
    "\n",
    "purpose: calculate relative transcript abundance\n",
    "\n",
    "input: a dataframe with a ref_gene_id column identifying the transcript gene of origin and a cov columns with \n",
    "the coverage for the transcripts.\n",
    "\n",
    "output: the same dataframe with a relative abundance column added\n",
    "'''\n",
    "\n",
    "\n",
    "\n",
    "def relative_transcript_abundance(df):\n",
    "    \n",
    "    df_sums = df[[\"gene_id\", \"total_CPM\"]].groupby(\"gene_id\").sum()\n",
    "    \n",
    "    df_sums[\"total_CPM_gene\"] = df_sums[\"total_CPM\"]\n",
    "\n",
    "    df_sums.drop(columns=\"total_CPM\", inplace=True)\n",
    "    \n",
    "    merged_df = pd.merge(df, df_sums, how='inner', on=\"gene_id\")\n",
    "    \n",
    "    merged_df[\"relative_abundance_percent\"] = ((merged_df[\"total_CPM\"]/merged_df[\"total_CPM_gene\"]) * 100)\n",
    "    \n",
    "    merged_df[\"total_CPM_transcript\"] = merged_df[\"total_CPM\"]\n",
    "    \n",
    "    merged_df.drop(columns=\"total_CPM\", inplace=True)\n",
    "\n",
    "\n",
    "    return merged_df"
   ]
  },
  {
   "cell_type": "code",
   "execution_count": 10,
   "id": "a6446e95",
   "metadata": {},
   "outputs": [],
   "source": [
    "'''\n",
    "function name: fix_column_names\n",
    "\n",
    "purpose: Fixing the column names, making them smaller, informative, and consistent\n",
    "\n",
    "input: The raw counts dataframe for either genes or transcripts \n",
    "\n",
    "output: Same dataframe with improved column names\n",
    "'''\n",
    "\n",
    "def fix_column_names(df, is_gene=False):\n",
    "    \n",
    "    ## Check if this is a gene counts object\n",
    "    if is_gene:\n",
    "        \n",
    "        ## Get count column names and create list of new column names\n",
    "        count_columns = df.columns.tolist()\n",
    "        list_new_names = [\"gene_id\"]\n",
    "        \n",
    "        ## gene_id comes in as index for gene counts data, make it into the first column instead\n",
    "        df[\"gene_id\"] = df.index\n",
    "        cols = list(df.columns)\n",
    "        cols = [cols[-1]] + cols[:-1]\n",
    "        df = df[cols]\n",
    "        df.reset_index(inplace=True, drop=True)\n",
    "    \n",
    "    ## If it is a transcript dataset\n",
    "    else:\n",
    "        ## Set count columns and create list of new names\n",
    "        count_columns = df.columns[2:].tolist()\n",
    "        list_new_names = [ \"transcript_id\", \"gene_id\"]\n",
    "    \n",
    "    ## Fix names one by one and add to list of new names\n",
    "    for col in count_columns:\n",
    "        col = col.split(\"_mapped\")[0] + \"_counts\"\n",
    "        list_new_names.append(col)\n",
    "    \n",
    "    ## Rename columns\n",
    "    df.columns = list_new_names\n",
    "    \n",
    "    return df "
   ]
  },
  {
   "cell_type": "code",
   "execution_count": 11,
   "id": "143176a3",
   "metadata": {},
   "outputs": [],
   "source": [
    "'''\n",
    "function name: parse_df_columns\n",
    "\n",
    "purpose: parsing the last aggregate column of the gtf/gff3 into useful columns and cleaning non-relevant columns\n",
    "\n",
    "input: dataframe containining \"raw\" gtf/gff\n",
    "\n",
    "output: dataframe containing gtf with useful columns [\"gene_id\", \"transcript_id\", etc...]\n",
    "'''\n",
    "\n",
    "def parse_df_columns(df, is_ref=True, is_transcript=False, is_prot=False):\n",
    "\n",
    "    if is_ref:\n",
    "\n",
    "        ## Get gene ids\n",
    "        df[\"gene_id\"] = df[\"other\"].str.split('\";', expand=True)[0].str.extract(\"([^ \\\"]*$)\", expand=True)\n",
    "        \n",
    "        ## Get gene names\n",
    "        df[\"gene_name\"] = df[\"other\"].str.split(\"gene_name \\\"\", expand=True)[1].str.split('\\\";', expand=True)[0]\n",
    "        \n",
    "        ## Get get transcript biotype\n",
    "        df[\"gene_biotype\"] = df[\"other\"].str.split('gene_biotype \"', expand=True)[1].str.split('\"', expand=True)[0]\n",
    "        \n",
    "        ## If is transcript get transcript id and transcript biotype\n",
    "        if is_transcript:\n",
    "            df[\"transcript_id\"] = df[\"other\"].str.split('transcript_id \"', expand=True)[1].str.split('\"', expand=True)[0]\n",
    "            df[\"transcript_biotype\"] = df[\"other\"].str.split('transcript_biotype \"', expand=True)[1].str.split('\"', expand=True)[0]\n",
    "            \n",
    "            ## If is prot get protein_id\n",
    "            if is_prot:\n",
    "                df[\"protein_id\"] = df[\"other\"].str.split('protein_id \"', expand=True)[1].str.split('\"', expand=True)[0]\n",
    "                df[\"ccds_id\"] = df[\"other\"].str.split('ccds_id \"', expand=True)[1].str.split('\"', expand=True)[0]\n",
    "                df[\"exon_number\"] = df[\"other\"].str.split('exon_number \"', expand=True)[1].str.split('\"', expand=True)[0]\n",
    "\n",
    "        ## Drop \"other\" column\n",
    "        df.drop(columns=[\"other\", \"dot_1\", \"dot_2\"], inplace=True)\n",
    "        \n",
    "\n",
    "    else:\n",
    "\n",
    "        ## Get gene ids\n",
    "        df[\"gene_id\"] = df[\"other\"].str.split('\";', expand=True)[0].str.extract(\"([^ \\\"]*$)\", expand=True)\n",
    "\n",
    "        ## Get transcript ids\n",
    "        df[\"transcript_id\"] = df[\"other\"].str.split('transcript_id \"', expand=True)[1].str.split('\"', expand=True)[0]\n",
    "\n",
    "        ## Get exon number\n",
    "        df[\"exon_number\"] = df[\"other\"].str.split('exon_number \"', expand=True)[1].str.split('\"', expand=True)[0]\n",
    "\n",
    "        ## Drop \"other\" column\n",
    "        df.drop(columns=[\"other\", \"dot_1\", \"dot_2\"], inplace=True)\n",
    "\n",
    "    for col in df.columns:\n",
    "        df.loc[df[col].isnull(), col] = np.NaN\n",
    "        \n",
    "\n",
    "    return df"
   ]
  },
  {
   "cell_type": "code",
   "execution_count": 12,
   "id": "b1117a08",
   "metadata": {},
   "outputs": [],
   "source": [
    "'''\n",
    "function name: calculate_cpm\n",
    "\n",
    "purpose: Calculate CPM for the each sample given\n",
    "\n",
    "input: Counts dataset\n",
    "\n",
    "output: Counts dataset with CPM columns as well\n",
    "'''\n",
    "\n",
    "def calculate_cpm(df, is_gene=False):\n",
    "\n",
    "    ## Set count columns if dataframe is gene counts\n",
    "    if is_gene:\n",
    "        count_columns = df.columns[1:].tolist()\n",
    "    \n",
    "    ## Set count columns if dataframe is transcript counts\n",
    "    else:\n",
    "        count_columns = df.columns[2:].tolist()\n",
    "\n",
    "    ## Loop through counts columns to calculate CPM and add to the dataframe\n",
    "    for col in count_columns:\n",
    "        \n",
    "        df[col] = round(df[col], 2)\n",
    "        cpm_name = col.replace(\"_counts\", \"_CPM\")\n",
    "        df[cpm_name] = round(((df[col]/(df[col].sum())) * 1000000), 2)\n",
    "    \n",
    "    return df  "
   ]
  },
  {
   "cell_type": "code",
   "execution_count": 13,
   "id": "4ed11391",
   "metadata": {},
   "outputs": [],
   "source": [
    "## define ggplot colors\n",
    "ggplot2_colors = [\"#F8766D\", \"#CD9600\", \"#7CAE00\", \"#00BE67\", \"#00BFC4\", \"#00A9FF\", \"#C77CFF\", \"#FF61CC\"]"
   ]
  },
  {
   "cell_type": "code",
   "execution_count": null,
   "id": "59f349db",
   "metadata": {},
   "outputs": [],
   "source": [
    "## Open original reference\n",
    "original_ref = pd.read_csv(\"../../../references/bernardo/Homo_sapiens.GRCh38.107_ERCC.gtf\", header=None, delimiter=\"\\t\", low_memory=False, \n",
    "                       names=[\"chr\", \"source\", \"type\", \"start\", \"end\", \"dot_1\", \"strand\", \"dot_2\", \"other\"], comment=\"#\")\n",
    "\n",
    "original_ref = original_ref.loc[~original_ref[\"chr\"].str.startswith(\"ERCC-\")]\n",
    "\n",
    "## Parse through reference to get gene names and ids\n",
    "orig_ref = original_ref.loc[original_ref[\"type\"]==\"gene\"].copy()\n",
    "orig_ref = parse_df_columns(orig_ref, is_ref=True)\n",
    "\n",
    "## Import disease relevant genes\n",
    "disease_relevant_genes = pd.read_csv(\"../../../references/bernardo/medically_relevant_genes.tsv\", sep=\"\\t\")\n",
    "\n",
    "## Import AD Genes\n",
    "ad_names = pd.read_csv(\"../../../references/bernardo/AD_gwas_genes.tsv\", sep=\"\\t\")\n",
    "\n",
    "## Create disease relevant list including chromosome\n",
    "disease_relevant_genes_annotated = disease_relevant_genes.merge(orig_ref[[\"gene_id\", \"gene_name\", \"chr\"]], \n",
    "                                                               how=\"inner\", on=[\"gene_id\", \"gene_name\"])\n",
    "\n",
    "## Create list of protein coding genes\n",
    "protein_coding_ref = orig_ref.loc[orig_ref[\"gene_biotype\"] == \"protein_coding\"].copy()\n",
    "\n",
    "## Import and parse through extended annotations\n",
    "ref = pd.read_csv(\"../../../data/bernardo/raw/ad_vs_ct_pilot_study_february_2023_GRCh38-107_discovery/bambu_discovery/extended_annotations.gtf\", header=None, delimiter=\"\\t\",\n",
    "                        low_memory=False, comment=\"#\", names=[\"chr\", \"source\", \"type\", \"start\", \"end\", \"dot_1\", \"strand\", \"dot_2\", \"other\"])\n",
    "\n",
    "ref = ref.loc[~ref[\"chr\"].str.startswith(\"ERCC-\")]\n",
    "\n",
    "ref = parse_df_columns(ref, is_ref=False)\n",
    "\n",
    "ref_transcripts = ref.loc[ref[\"type\"] == \"transcript\"].copy()"
   ]
  },
  {
   "cell_type": "code",
   "execution_count": null,
   "id": "bb5df7d9",
   "metadata": {},
   "outputs": [],
   "source": [
    "## Fix column names in counts matrix\n",
    "\n",
    "df = pd.read_csv(\"../../../data/bernardo/raw/ad_vs_ct_pilot_study_february_2023_GRCh38-107_discovery/bambu_discovery/counts_transcript.txt\", \n",
    "                           delimiter=\"\\t\", low_memory=False, header=0)\n",
    "\n",
    "df = fix_column_names(df, is_gene=False)"
   ]
  },
  {
   "cell_type": "code",
   "execution_count": null,
   "id": "2a1c5c15",
   "metadata": {},
   "outputs": [],
   "source": [
    "## Calculate total counts and fix gene id\n",
    "df[\"total_counts\"] = df[df.filter(regex='count').columns].sum(axis=1)"
   ]
  },
  {
   "cell_type": "code",
   "execution_count": null,
   "id": "5e424d8f",
   "metadata": {},
   "outputs": [],
   "source": [
    "## Calculate CPM and drop count columns\n",
    "df = calculate_cpm(df, is_gene=False)\n",
    "\n",
    "df = df[df.columns.drop(list(df.filter(regex='counts')))].copy()"
   ]
  },
  {
   "cell_type": "code",
   "execution_count": null,
   "id": "c237b1c7",
   "metadata": {},
   "outputs": [],
   "source": [
    "## Drop ERCCs\n",
    "df = df.loc[~df[\"gene_id\"].str.startswith(\"ERCC\")].copy()"
   ]
  },
  {
   "cell_type": "code",
   "execution_count": null,
   "id": "02cefca0",
   "metadata": {},
   "outputs": [],
   "source": [
    "df[\"median_CPM\"] = df[df.filter(regex='[0-9]_CPM').columns].median(axis=1)"
   ]
  },
  {
   "cell_type": "code",
   "execution_count": null,
   "id": "3593fa3c",
   "metadata": {},
   "outputs": [],
   "source": [
    "df = df.merge(ref_transcripts[[\"gene_id\", \"transcript_id\", \"chr\"]], on=[\"gene_id\", \"transcript_id\"], how=\"inner\")"
   ]
  },
  {
   "cell_type": "code",
   "execution_count": null,
   "id": "c4e3265c",
   "metadata": {},
   "outputs": [],
   "source": [
    "## Create dataframes with either only novel genes or only novel transcripts that are not from novel genes\n",
    "df_novel_genes = df.loc[df[\"gene_id\"].str.startswith(\"BambuGene\")].copy()\n",
    "df_novel_transcripts = df.loc[((df[\"transcript_id\"].str.startswith(\"BambuTx\")) & (~df[\"gene_id\"].str.startswith(\"BambuGene\")))].copy()"
   ]
  },
  {
   "cell_type": "code",
   "execution_count": null,
   "id": "a9e7d072",
   "metadata": {},
   "outputs": [],
   "source": [
    "## Drop new mitochondrial transcripts/genes\n",
    "df_novel_genes = df_novel_genes.loc[df_novel_genes[\"chr\"] != \"MT\"].copy()\n",
    "df_novel_transcripts = df_novel_transcripts.loc[df_novel_transcripts[\"chr\"] != \"MT\"].copy()"
   ]
  },
  {
   "cell_type": "code",
   "execution_count": null,
   "id": "1d81b8e1",
   "metadata": {},
   "outputs": [],
   "source": [
    "## Filter novel genes and transcripts, one only total CPM > 1, other each CPM > 1\n",
    "\n",
    "df_novel_genes_median = df_novel_genes[df_novel_genes[\"median_CPM\"] > 1].copy()\n",
    "df_novel_transcripts_median = df_novel_transcripts[df_novel_transcripts[\"median_CPM\"] > 1].copy()"
   ]
  },
  {
   "cell_type": "code",
   "execution_count": null,
   "id": "ba9165d5",
   "metadata": {
    "scrolled": true
   },
   "outputs": [],
   "source": [
    "## Get number of transcripts from each filter from each filter\n",
    "\n",
    "print(\"Number of transcripts mapping to new gene bodies (no filter):\", df_novel_genes.shape[0])\n",
    "print(\"Number of transcripts mapping to new gene bodies (median CPM > 1):\", df_novel_genes_median.shape[0])\n",
    "\n",
    "print(\"\\n\\nNumber of new transcripts mapping to annotated genes (no filter):\", df_novel_transcripts.shape[0])\n",
    "print(\"Number of new transcripts mapping to annotated genes (median CPM > 1):\", df_novel_transcripts_median.shape[0])"
   ]
  },
  {
   "cell_type": "code",
   "execution_count": null,
   "id": "7190d2f0",
   "metadata": {
    "scrolled": true
   },
   "outputs": [],
   "source": [
    "## Get number of genes represented for each filter\n",
    "\n",
    "print(\"Number of new genes represented (no filter):\", df_novel_genes[\"gene_id\"].nunique())\n",
    "print(\"Number of new genes represented (median CPM > 1):\", df_novel_genes_median[\"gene_id\"].nunique())\n",
    "\n",
    "\n",
    "print(\"\\n\\nNumber of represented annotated genes with new transcripts (no filter):\", df_novel_transcripts[\"gene_id\"].nunique())\n",
    "print(\"Number of represented annotated genes with new transcripts (median CPM > 1):\", df_novel_transcripts_median[\"gene_id\"].nunique())"
   ]
  },
  {
   "cell_type": "code",
   "execution_count": null,
   "id": "f1ad4602",
   "metadata": {},
   "outputs": [],
   "source": [
    "## Create lists with number of genes across CPM thresholds\n",
    "list_cpm_thresh = []\n",
    "\n",
    "list_ntng_median = []\n",
    "list_ntkg_median = []\n",
    "list_ntkg_median_prot_coding = []\n",
    "list_ntkg_median_med_relevant = []\n",
    "\n",
    "for i in range(0, 1000):\n",
    "    \n",
    "    cpm_thresh = i/100\n",
    "    \n",
    "    ntng_median_cpm = df_novel_genes.loc[df_novel_genes[\"median_CPM\"] >= cpm_thresh].copy()\n",
    "    ntkg_median_cpm = df_novel_transcripts.loc[df_novel_transcripts[\"median_CPM\"] >= cpm_thresh].copy()\n",
    "    \n",
    "    ntng_median_cpm_num = ntng_median_cpm.shape[0]\n",
    "    ntkg_median_cpm_num = ntkg_median_cpm.shape[0]\n",
    "    ntkg_median_cpm_num_prot = ntkg_median_cpm.loc[ntkg_median_cpm[\"gene_id\"].isin(protein_coding_ref[\"gene_id\"])].shape[0]    \n",
    "    ntkg_median_cpm_num_med = ntkg_median_cpm.loc[ntkg_median_cpm[\"gene_id\"].isin(disease_relevant_genes_annotated[\"gene_id\"])].shape[0]    \n",
    "    \n",
    "    list_cpm_thresh.append(cpm_thresh)\n",
    "        \n",
    "    list_ntng_median.append(ntng_median_cpm_num)\n",
    "    list_ntkg_median.append(ntkg_median_cpm_num)\n",
    "    list_ntkg_median_prot_coding.append(ntkg_median_cpm_num_prot)\n",
    "    list_ntkg_median_med_relevant.append(ntkg_median_cpm_num_med)"
   ]
  },
  {
   "cell_type": "code",
   "execution_count": null,
   "id": "b4434599",
   "metadata": {},
   "outputs": [],
   "source": [
    "## Set parameters for figures\n",
    "from matplotlib import rcParams\n",
    "\n",
    "\n",
    "# figure size in inches\n",
    "rcParams['figure.figsize'] = (9, 6)\n",
    "rcParams.update({'font.size': 13})\n",
    "rcParams['axes.linewidth'] = 1"
   ]
  },
  {
   "cell_type": "code",
   "execution_count": null,
   "id": "83ce782a",
   "metadata": {},
   "outputs": [],
   "source": [
    "## Make plot showing number of transcripts across CPM thresholds\n",
    "\n",
    "plt.plot(list_cpm_thresh, list_ntng_median, color=ggplot2_colors[4], label=\"New transcripts from new gene bodies\", linewidth=2, alpha=1)\n",
    "plt.plot(list_cpm_thresh, list_ntkg_median, color=ggplot2_colors[0], label=\"New transcripts from known gene bodies\", linewidth=2, alpha=1)\n",
    "plt.plot(list_cpm_thresh, list_ntkg_median_prot_coding, color=ggplot2_colors[7], label=\"New transcripts from protein coding genes\", linewidth=2, alpha=1)\n",
    "plt.plot(list_cpm_thresh, list_ntkg_median_med_relevant, color=ggplot2_colors[1], label=\"New transcripts from medically relevant gene bodies\", linewidth=2, alpha=1)\n",
    "plt.plot([1, 1], [-100, 1899], color=\"#4d4d4d\", label=\"Median CPM = 1\", linewidth=2, alpha=1, linestyle='dashed')\n",
    "\n",
    "\n",
    "plt.xticks(np.arange(0, 11, 1))\n",
    "plt.xlabel('Median CPM Threshold')\n",
    "plt.ylabel('Number of Transcripts')\n",
    "plt.legend(loc=\"upper right\", borderpad=0.8)\n",
    "\n",
    "plt.savefig('../../../figures/bernardo/03.gene_and_transcripts_descriptive_stats/nature_biotech_pitch/number_of_new_transcripts_across_cpm_thresh.png', dpi=1200, transparent=True, bbox_inches=\"tight\")\n",
    "plt.savefig('../../../figures/bernardo/03.gene_and_transcripts_descriptive_stats/nature_biotech_pitch/number_of_new_transcripts_across_cpm_thresh.svg', dpi=1200, transparent=True, bbox_inches=\"tight\")\n",
    "\n",
    "plt.show()"
   ]
  },
  {
   "cell_type": "markdown",
   "id": "403af164",
   "metadata": {},
   "source": [
    "# Figures 5 & S1"
   ]
  },
  {
   "cell_type": "code",
   "execution_count": null,
   "id": "3181ea00",
   "metadata": {},
   "outputs": [],
   "source": [
    "## Create list o disease relevant novel transcripts for three stringency thresholds\n",
    "novel_relevant_median = df_novel_transcripts_median.merge(disease_relevant_genes_annotated[[\"gene_id\", \"gene_name\", \"chr\"]], \n",
    "                                                                             on=[\"gene_id\"], how=\"inner\")"
   ]
  },
  {
   "cell_type": "code",
   "execution_count": null,
   "id": "001109a9",
   "metadata": {},
   "outputs": [],
   "source": [
    "## Drop any duplicates\n",
    "novel_relevant_median.drop_duplicates(inplace=True)"
   ]
  },
  {
   "cell_type": "code",
   "execution_count": null,
   "id": "32a0846b",
   "metadata": {},
   "outputs": [],
   "source": [
    "## Get all transcript from the same gene as the new transcripts so we can calculate relative abundance of \n",
    "## New transcripts in each gene\n",
    "novel_relevant_median_counts = pd.merge(df, novel_relevant_median[[\"gene_id\", \"gene_name\"]], on=[\"gene_id\"], how=\"inner\")"
   ]
  },
  {
   "cell_type": "code",
   "execution_count": null,
   "id": "4521d3a5",
   "metadata": {},
   "outputs": [],
   "source": [
    "## Calculate relative transcript abundance\n",
    "novel_relevant_median_relative_abundance = relative_transcript_abundance(novel_relevant_median_counts)"
   ]
  },
  {
   "cell_type": "code",
   "execution_count": null,
   "id": "439a32da",
   "metadata": {},
   "outputs": [],
   "source": [
    "## Annotate novel transcripts on relative abundance table\n",
    "novel_relevant_median_relative_abundance.loc[novel_relevant_median_relative_abundance[\"transcript_id\"].str.startswith(\"BambuTx\"), \"is_novel_transcript\"] = True\n",
    "novel_relevant_median_relative_abundance.loc[~novel_relevant_median_relative_abundance[\"transcript_id\"].str.startswith(\"BambuTx\"), \"is_novel_transcript\"] = False"
   ]
  },
  {
   "cell_type": "code",
   "execution_count": null,
   "id": "9d6e764a",
   "metadata": {},
   "outputs": [],
   "source": [
    "## Create list with med relevant genes with novel isoforms and their relative frequency\n",
    "novel_relevant_median_words = novel_relevant_median_relative_abundance.loc[novel_relevant_median_relative_abundance[\"is_novel_transcript\"]\n",
    "                                                             == True][[\"gene_name\", \"relative_abundance_percent\"]].copy()"
   ]
  },
  {
   "cell_type": "code",
   "execution_count": null,
   "id": "e67d2806",
   "metadata": {},
   "outputs": [],
   "source": [
    "## Drop duplicates\n",
    "novel_relevant_median_words = novel_relevant_median_words.drop_duplicates()"
   ]
  },
  {
   "cell_type": "code",
   "execution_count": null,
   "id": "033cc594",
   "metadata": {},
   "outputs": [],
   "source": [
    "## Sum relative abundance of all novel isoforms by gene name and round to nearest integer\n",
    "novel_relevant_median_words = round(novel_relevant_median_words.groupby(\"gene_name\")[\"relative_abundance_percent\"].sum(), 0)"
   ]
  },
  {
   "cell_type": "code",
   "execution_count": null,
   "id": "17635eff",
   "metadata": {},
   "outputs": [],
   "source": [
    "## Create a dataframe to properly store the data\n",
    "novel_relevant_median_words_df = pd.DataFrame()\n",
    "novel_relevant_median_words_df['word_count'] = novel_relevant_median_words\n",
    "novel_relevant_median_words_df[\"gene_name\"] = novel_relevant_median_words.index"
   ]
  },
  {
   "cell_type": "code",
   "execution_count": null,
   "id": "a8244eb9",
   "metadata": {},
   "outputs": [],
   "source": [
    "## Drop index\n",
    "novel_relevant_median_words_df.reset_index(inplace=True, drop=True)"
   ]
  },
  {
   "cell_type": "code",
   "execution_count": null,
   "id": "dedc6bbd",
   "metadata": {},
   "outputs": [],
   "source": [
    "novel_relevant_median_words_df.shape[0]"
   ]
  },
  {
   "cell_type": "code",
   "execution_count": null,
   "id": "5d5f57b6",
   "metadata": {},
   "outputs": [],
   "source": [
    "## Print number of disease relevant genes with high-confidence novel isoforms\n",
    "print(\"Number of medically relevant genes with novel transcripts (median CPM > 1):\", novel_relevant_median_words_df[\"gene_name\"].nunique())"
   ]
  },
  {
   "cell_type": "code",
   "execution_count": null,
   "id": "a44c0eed",
   "metadata": {},
   "outputs": [],
   "source": [
    "## Generate word list with frequency of word being proportional to novel isoform relative abundance\n",
    "## Novel relevant median CPM > 1\n",
    "\n",
    "word_list_disease_median = \"\"\n",
    "\n",
    "for i in range(len(novel_relevant_median_words_df)):\n",
    "        \n",
    "    for j in range(int(novel_relevant_median_words_df.iloc[i][0])):\n",
    "        word_list_disease_median = word_list_disease_median + novel_relevant_median_words_df.iloc[i][1] + \" \""
   ]
  },
  {
   "cell_type": "code",
   "execution_count": null,
   "id": "0a5938e2",
   "metadata": {},
   "outputs": [],
   "source": [
    "## Create GGPLOT2 colormap for the wordcloud (THANKS MARK!)\n",
    "\n",
    "from matplotlib.colors import LinearSegmentedColormap\n",
    "\n",
    "ggplot2_colormap = LinearSegmentedColormap.from_list(\n",
    "        \"ggplot_2\", ggplot2_colors, N=8)"
   ]
  },
  {
   "cell_type": "code",
   "execution_count": null,
   "id": "9ec416fc",
   "metadata": {},
   "outputs": [],
   "source": [
    "word_cloud_disease_median = WordCloud(collocations=False, font_step=1, background_color='white', regexp=r\"\\w[\\w\\-]+\", normalize_plurals=False,\n",
    "            colormap=ggplot2_colormap, prefer_horizontal=1, include_numbers=True, stopwords=None, random_state=112,\n",
    "                      width=2000, height=1000).generate(word_list_disease_median)"
   ]
  },
  {
   "cell_type": "code",
   "execution_count": null,
   "id": "bc6e390c",
   "metadata": {
    "scrolled": true
   },
   "outputs": [],
   "source": [
    "## Save disease relevant genes plot median CPM > 1\n",
    "plt.imshow(word_cloud_disease_median, interpolation='bilinear', alpha=1)\n",
    "plt.axis(\"off\")\n",
    "\n",
    "plt.savefig('../../../figures/bernardo/03.gene_and_transcripts_descriptive_stats/nature_biotech_pitch/word_cloud_disease_median.png',\n",
    "            dpi=1200, transparent=True, bbox_inches=\"tight\")\n",
    "\n",
    "plt.savefig('../../../figures/bernardo/03.gene_and_transcripts_descriptive_stats/nature_biotech_pitch/word_cloud_disease_median.svg',\n",
    "            dpi=1200, transparent=True, bbox_inches=\"tight\")\n",
    "\n",
    "plt.show()"
   ]
  },
  {
   "cell_type": "markdown",
   "id": "bbf6e840",
   "metadata": {},
   "source": [
    "# - Figure 3"
   ]
  },
  {
   "cell_type": "code",
   "execution_count": null,
   "id": "4d3d5a0d",
   "metadata": {},
   "outputs": [],
   "source": [
    "## Parse through original GTF 107 Ensembl reference to get transcript biotypes\n",
    "orig_ref_types = original_ref.loc[original_ref[\"type\"]==\"transcript\"].copy()\n",
    "orig_ref_types = parse_df_columns(orig_ref_types, is_ref=True, is_transcript=True)"
   ]
  },
  {
   "cell_type": "code",
   "execution_count": null,
   "id": "cb04e836",
   "metadata": {},
   "outputs": [],
   "source": [
    "## Make reference only including protein coding transcripts with a defined CDS\n",
    "orig_ref_cds = original_ref.loc[original_ref[\"type\"]==\"CDS\"].copy()\n",
    "orig_ref_cds = parse_df_columns(orig_ref_cds, is_ref=True, is_transcript=True, is_prot=True)\n",
    "\n",
    "orig_ref_cds = orig_ref_cds.loc[orig_ref_cds[\"transcript_biotype\"] == \"protein_coding\"].copy()"
   ]
  },
  {
   "cell_type": "code",
   "execution_count": null,
   "id": "a0cec4f0",
   "metadata": {},
   "outputs": [],
   "source": [
    "ref_cds = orig_ref_cds.loc[~orig_ref_cds[\"ccds_id\"].isna()].copy()\n",
    "\n",
    "ref_cds = ref_cds[[\"transcript_id\", \"ccds_id\"]].copy().drop_duplicates()"
   ]
  },
  {
   "cell_type": "code",
   "execution_count": null,
   "id": "dbb1cce4",
   "metadata": {},
   "outputs": [],
   "source": [
    "## Create dataframes for AD and med relevant genes, drop Mitochondria\n",
    "df_med_relevant = df.merge(disease_relevant_genes, on=\"gene_id\", how=\"inner\")\n",
    "df_med_relevant = df_med_relevant.loc[df_med_relevant[\"chr\"] != \"MT\"].copy()\n",
    "\n",
    "df_ad = df.merge(ad_names, on=\"gene_id\", how=\"inner\")\n",
    "df_ad = df_ad.loc[df_ad[\"chr\"] != \"MT\"].copy()"
   ]
  },
  {
   "cell_type": "code",
   "execution_count": null,
   "id": "fb2e255d",
   "metadata": {},
   "outputs": [],
   "source": [
    "## Only keep protein coding transcripts in expression matrix, adding ccds_ids\n",
    "df_prot_coding_ccds = df.merge(ref_cds[[\"transcript_id\", \"ccds_id\"]],\n",
    "                                  how=\"inner\", on=\"transcript_id\").drop_duplicates()"
   ]
  },
  {
   "cell_type": "code",
   "execution_count": null,
   "id": "49fbd365",
   "metadata": {},
   "outputs": [],
   "source": [
    "df_prot_coding_ccds.head()"
   ]
  },
  {
   "cell_type": "code",
   "execution_count": null,
   "id": "c93943c7",
   "metadata": {},
   "outputs": [],
   "source": [
    "## Create lists with number of protein coding transcripts across CPM thresholds\n",
    "list_cpm_thresh = []\n",
    "\n",
    "list_genes_all_median = []\n",
    "list_genes_proteins_median = []\n",
    "list_genes_med_relevant_median = []\n",
    "list_genes_med_relevant_proteins_median = []\n",
    "list_genes_ad_median = []\n",
    "list_genes_ad_proteins_median = []\n",
    "\n",
    "for i in range(0, 1000):\n",
    "    \n",
    "    cpm_thresh = i/100\n",
    "    \n",
    "    df_gene_multiple_all = df.loc[df[\"median_CPM\"] >= cpm_thresh].copy()\n",
    "    df_gene_mutiple_prot = df_prot_coding_ccds.loc[df_prot_coding_ccds[\"median_CPM\"] >= cpm_thresh].copy()\n",
    "    df_gene_mutiple_med = df_med_relevant.loc[df_med_relevant[\"median_CPM\"] >= cpm_thresh].copy()\n",
    "    df_gene_mutiple_med_prot = df_gene_mutiple_prot.loc[df_gene_mutiple_prot[\"transcript_id\"].isin(df_med_relevant[\"transcript_id\"])].copy()\n",
    "    df_gene_mutiple_ad = df_ad.loc[df_ad[\"median_CPM\"] > cpm_thresh].copy()\n",
    "    df_gene_mutiple_ad_prot = df_gene_mutiple_prot.loc[df_gene_mutiple_prot[\"transcript_id\"].isin(df_gene_mutiple_ad[\"transcript_id\"])].copy()\n",
    "\n",
    "    \n",
    "    df_gene_mutiple_prot = df_gene_mutiple_prot.loc[~df_gene_mutiple_prot.duplicated(subset=[\"ccds_id\"], keep=False)].copy()\n",
    "    df_gene_mutiple_prot = df_gene_mutiple_prot.loc[df_gene_mutiple_prot.duplicated(subset=[\"gene_id\"], keep=False)].copy()\n",
    "    df_gene_mutiple_med_prot = df_gene_mutiple_med_prot.loc[~df_gene_mutiple_med_prot.duplicated(subset=[\"ccds_id\"], keep=False)].copy()\n",
    "    df_gene_mutiple_med_prot = df_gene_mutiple_med_prot.loc[df_gene_mutiple_med_prot.duplicated(subset=[\"gene_id\"], keep=False)].copy()\n",
    "    df_gene_mutiple_ad_prot = df_gene_mutiple_ad_prot.loc[~df_gene_mutiple_ad_prot.duplicated(subset=[\"ccds_id\"], keep=False)].copy()\n",
    "    df_gene_mutiple_ad_prot = df_gene_mutiple_ad_prot.loc[df_gene_mutiple_ad_prot.duplicated(subset=[\"gene_id\"], keep=False)].copy()\n",
    "\n",
    "    \n",
    "    num_genes_multiple_isoforms = df_gene_multiple_all.loc[df_gene_multiple_all.duplicated(subset=\"gene_id\", keep=False)][\"gene_id\"].nunique()\n",
    "    num_genes_multiple_prot = df_gene_mutiple_prot[\"gene_id\"].nunique()\n",
    "    num_genes_multiple_med_relevant = df_gene_mutiple_med.loc[df_gene_mutiple_med.duplicated(subset=\"gene_id\", keep=False)][\"gene_id\"].nunique()\n",
    "    num_med_genes_multiple_prot = df_gene_mutiple_med_prot[\"gene_id\"].nunique()\n",
    "    num_genes_multiple_ad = df_gene_mutiple_ad.loc[df_gene_mutiple_ad.duplicated(subset=\"gene_id\", keep=False)][\"gene_id\"].nunique()\n",
    "    num_ad_genes_multiple_prot = df_gene_mutiple_ad_prot[\"gene_id\"].nunique()\n",
    "    \n",
    "    list_cpm_thresh.append(cpm_thresh)\n",
    "    \n",
    "    list_genes_all_median.append(num_genes_multiple_isoforms)\n",
    "    list_genes_proteins_median.append(num_genes_multiple_prot)\n",
    "    list_genes_med_relevant_median.append(num_genes_multiple_med_relevant)\n",
    "    list_genes_med_relevant_proteins_median.append(num_med_genes_multiple_prot)\n",
    "    list_genes_ad_median.append(num_genes_multiple_ad)\n",
    "    list_genes_ad_proteins_median.append(num_ad_genes_multiple_prot)"
   ]
  },
  {
   "cell_type": "code",
   "execution_count": null,
   "id": "cdadde31",
   "metadata": {},
   "outputs": [],
   "source": [
    "## Set parameters for figures\n",
    "from matplotlib import rcParams\n",
    "\n",
    "\n",
    "# figure size in inches\n",
    "rcParams['figure.figsize'] = (7, 7)\n",
    "rcParams.update({'font.size': 13})\n",
    "rcParams['axes.linewidth'] = 1"
   ]
  },
  {
   "cell_type": "code",
   "execution_count": null,
   "id": "47320321",
   "metadata": {},
   "outputs": [],
   "source": [
    "## Make plot showing number of different CDS transcripts from genes expressing 2+ Transcripts with a different CDS\n",
    "\n",
    "plt.plot(list_cpm_thresh, list_genes_all_median, color=ggplot2_colors[0], label=\"Gene bodies with 2+ transcripts\", linewidth=2, alpha=1)\n",
    "plt.plot([1, 1], [-500, 25000], color=\"#4d4d4d\", label=\"Median CPM = 1\", linewidth=2, alpha=1, linestyle='dashed')\n",
    "\n",
    "\n",
    "\n",
    "plt.xticks(np.arange(0, 11, 1))\n",
    "plt.xlabel('Median CPM')\n",
    "plt.ylabel('Number of gene bodies')\n",
    "plt.legend(loc=\"upper right\")\n",
    "\n",
    "\n",
    "plt.savefig('../../../figures/bernardo/03.gene_and_transcripts_descriptive_stats/nature_biotech_pitch/genes_with_two_transcripts.png', dpi=1200, transparent=True, bbox_inches=\"tight\")\n",
    "plt.savefig('../../../figures/bernardo/03.gene_and_transcripts_descriptive_stats/nature_biotech_pitch/genes_with_two_transcripts.svg', dpi=1200, transparent=True, bbox_inches=\"tight\")\n",
    "\n",
    "plt.show()"
   ]
  },
  {
   "cell_type": "code",
   "execution_count": null,
   "id": "ff0f8f09",
   "metadata": {},
   "outputs": [],
   "source": [
    "## Create CPM 1 Threhold multiple isoform filter\n",
    "\n",
    "df_prot_avg_multiple_iso = df_prot_coding_ccds.loc[df_prot_coding_ccds[\"median_CPM\"] > 1].copy()\n",
    "\n",
    "df_gene_mutiple_prot = df_prot_avg_multiple_iso.loc[~df_prot_avg_multiple_iso.duplicated(subset=[\"ccds_id\"], keep=False)].copy()\n",
    "df_gene_mutiple_prot = df_prot_avg_multiple_iso.loc[df_prot_avg_multiple_iso.duplicated(subset=[\"gene_id\"], keep=False)].copy()\n",
    "\n",
    "\n",
    "## Get number of genes with multiple isoforms\n",
    "df_numbers_prot_multiple_isoforms_median = df_gene_mutiple_prot[\"gene_id\"].value_counts()\n",
    "\n",
    "## Get numbers of genes with multiple CPM > 1 protein coding isoforms for both filters\n",
    "df_num_isoforms_prot_avg = pd.DataFrame()\n",
    "df_num_isoforms_prot_avg[\"Number of Genes\"] = df_numbers_prot_multiple_isoforms_median.value_counts()\n",
    "df_num_isoforms_prot_avg[\"Number of Transcripts Encoding Different Proteins\"] = df_numbers_prot_multiple_isoforms_median.value_counts().index"
   ]
  },
  {
   "cell_type": "code",
   "execution_count": null,
   "id": "5b52ced0",
   "metadata": {},
   "outputs": [],
   "source": [
    "## Create CPM 1 Threhold multiple isoform filter\n",
    "\n",
    "df_gene_mutiple_med = df_med_relevant.loc[df_med_relevant[\"median_CPM\"] > 1].copy()\n",
    "df_gene_mutiple_med = df_gene_mutiple_med.loc[df_gene_mutiple_med.duplicated(subset=\"gene_id\", keep=False)]\n",
    "\n",
    "## Get number of genes with multiple isoforms\n",
    "df_numbers_med_multiple_isoforms_median = df_gene_mutiple_med[\"gene_id\"].value_counts()\n",
    "\n",
    "## Get numbers of genes with multiple CPM > 1 protein coding isoforms for both filters\n",
    "\n",
    "df_num_isoforms_med_avg = pd.DataFrame()\n",
    "df_num_isoforms_med_avg[\"Number of Medically Relevant Genes\"] = df_numbers_med_multiple_isoforms_median.value_counts()\n",
    "df_num_isoforms_med_avg[\"Number of Transcripts\"] = df_numbers_med_multiple_isoforms_median.value_counts().index"
   ]
  },
  {
   "cell_type": "code",
   "execution_count": null,
   "id": "4c120cc1",
   "metadata": {},
   "outputs": [],
   "source": [
    "## Create CPM 1 Threhold multiple isoform filter\n",
    "\n",
    "df_prot_avg_multiple_iso = df_prot_coding_ccds.loc[df_prot_coding_ccds[\"median_CPM\"] > 1].copy()\n",
    "df_gene_mutiple_med_prot = df_med_relevant.loc[df_med_relevant[\"median_CPM\"] > 1].copy()\n",
    "\n",
    "\n",
    "df_gene_mutiple_med_prot = df_prot_coding_ccds.loc[df_prot_coding_ccds['transcript_id'].isin(df_gene_mutiple_med_prot[\"transcript_id\"])].copy()                                                   \n",
    "\n",
    "df_gene_mutiple_med_prot = df_gene_mutiple_med_prot.loc[~df_gene_mutiple_med_prot.duplicated(subset=[\"ccds_id\"], keep=False)].copy()\n",
    "df_gene_mutiple_med_prot = df_gene_mutiple_med_prot.loc[df_gene_mutiple_med_prot.duplicated(subset=[\"gene_id\"], keep=False)].copy()\n",
    "\n",
    "\n",
    "## Get number of genes with multiple isoforms\n",
    "df_numbers_med_multiple_isoforms_prot_median = df_gene_mutiple_med_prot[\"gene_id\"].value_counts()\n",
    "\n",
    "## Get numbers of genes with multiple CPM > 1 protein coding isoforms for both filters\n",
    "\n",
    "df_num_isoforms_med_avg = pd.DataFrame()\n",
    "df_num_isoforms_med_avg[\"Number of Medically Relevant Genes Prot\"] = df_numbers_med_multiple_isoforms_prot_median.value_counts()\n",
    "df_num_isoforms_med_avg[\"Number of Transcripts\"] = df_numbers_med_multiple_isoforms_prot_median.value_counts().index"
   ]
  },
  {
   "cell_type": "code",
   "execution_count": null,
   "id": "eeea6dd7",
   "metadata": {},
   "outputs": [],
   "source": [
    "## Set parameters for figures\n",
    "from matplotlib import rcParams\n",
    "\n",
    "\n",
    "# figure size in inches\n",
    "rcParams['figure.figsize'] = (7, 7)\n",
    "rcParams.update({'font.size': 13})\n",
    "rcParams['axes.linewidth'] = 1"
   ]
  },
  {
   "cell_type": "code",
   "execution_count": null,
   "id": "16169abd",
   "metadata": {},
   "outputs": [],
   "source": [
    "## Create and save graph showing number of genes with multiple protein coding isoforms (AVG CPM > 1)\n",
    "\n",
    "ax = sns.barplot(data=df_num_isoforms_med_avg, y=\"Number of Medically Relevant Genes Prot\", x=\"Number of Transcripts\",\n",
    "            color=ggplot2_colors[0], saturation=1)\n",
    "\n",
    "ax.bar_label(ax.containers[0])\n",
    "ax.set(ylim=(0, 600))\n",
    "plt.ylabel(\"Number of med-relevant genes expressing \\n multiple protein coding sequences\")\n",
    "plt.xlabel(\"Number of transcripts from med-relevant genes expressing \\n different protein coding sequences in frontal cortex (median CPM > 1)\")\n",
    "\n",
    "plt.savefig('../../../figures/bernardo/03.gene_and_transcripts_descriptive_stats/nature_biotech_pitch/multiple_prot_seq.png', dpi=1200, transparent=True, bbox_inches=\"tight\")\n",
    "plt.savefig('../../../figures/bernardo/03.gene_and_transcripts_descriptive_stats/nature_biotech_pitch/multiple_prot_seq.svg', dpi=1200, transparent=True, bbox_inches=\"tight\")\n",
    "\n",
    "plt.show()"
   ]
  },
  {
   "cell_type": "markdown",
   "id": "1e4a3d3e",
   "metadata": {},
   "source": [
    "## - Figure 7"
   ]
  },
  {
   "cell_type": "code",
   "execution_count": null,
   "id": "1c9b6244",
   "metadata": {},
   "outputs": [],
   "source": [
    "## Get all transcript IDs from ENSEMBL 94 GTF\n",
    "\n",
    "df_ensembl_94 = ref = pd.read_csv(\"../../../references/bernardo/Homo_sapiens.GRCh38.94.gtf\", header=None, delimiter=\"\\t\",\n",
    "                        low_memory=False, names=[\"chr\", \"source\", \"type\", \"start\", \"end\", \"dot_1\", \"strand\", \"dot_2\", \"other\"])\n",
    "\n",
    "df_ensembl_94 = df_ensembl_94.loc[~df_ensembl_94[\"chr\"].str.startswith(\"ERCC-\")]\n",
    "\n",
    "df_ensembl_94_transcripts = df_ensembl_94.loc[df_ensembl_94[\"type\"] == \"transcript\"].copy()\n",
    "\n",
    "df_ensembl_94_transcripts = parse_df_columns(df_ensembl_94_transcripts, is_ref=True, is_transcript=True)\n",
    "\n",
    "ensembl_94_transcript_ids = df_ensembl_94_transcripts[\"transcript_id\"].copy()"
   ]
  },
  {
   "cell_type": "code",
   "execution_count": null,
   "id": "4034e6df",
   "metadata": {},
   "outputs": [],
   "source": [
    "## Get transcript names from ENSEMBL 107 GTF\n",
    "\n",
    "ensembl_107_transcripts = original_ref.loc[original_ref[\"type\"] == \"transcript\"].copy()\n",
    "ensembl_107_transcripts = parse_df_columns(ensembl_107_transcripts, is_ref=True, is_transcript=True)"
   ]
  },
  {
   "cell_type": "code",
   "execution_count": null,
   "id": "8e70812f",
   "metadata": {},
   "outputs": [],
   "source": [
    "## Only keep transcripts that are different between ensembl_94 and ensembl_107\n",
    "\n",
    "ensembl_107_exclusive_transcripts = ensembl_107_transcripts.loc[~ensembl_107_transcripts[\"transcript_id\"].isin(ensembl_94_transcript_ids)].copy()"
   ]
  },
  {
   "cell_type": "code",
   "execution_count": null,
   "id": "e23a0d8a",
   "metadata": {},
   "outputs": [],
   "source": [
    "## Create list of new CCDS since 2019\n",
    "\n",
    "## Get all transcript IDs from ENSEMBL 94 GTF\n",
    "df_ensembl_94_cds = df_ensembl_94.loc[df_ensembl_94[\"type\"] == \"CDS\"].copy()\n",
    "df_ensembl_94_cds = parse_df_columns(df_ensembl_94_cds, is_ref=True, is_transcript=True, is_prot=True)\n",
    "ensembl_94_cds_ccds_ids = df_ensembl_94_cds[\"ccds_id\"].dropna().copy()\n",
    "\n",
    "## Get transcript names from ENSEMBL 107 GTF\n",
    "ensembl_107_cds = original_ref.loc[original_ref[\"type\"] == \"CDS\"].copy()\n",
    "ensembl_107_cds = parse_df_columns(ensembl_107_cds, is_ref=True, is_transcript=True, is_prot=True)\n",
    "ensembl_107_cds.dropna(subset=\"ccds_id\")\n",
    "\n",
    "## Get ensmbl 107 exclusive ccds\n",
    "ensembl_107_exclusive_ccds = ensembl_107_cds.loc[~ensembl_107_cds[\"transcript_id\"].isin(ensembl_94_transcript_ids)].copy()\n",
    "ensembl_107_exclusive_ccds = ensembl_107_exclusive_ccds.loc[~ensembl_107_exclusive_ccds[\"ccds_id\"].isin(ensembl_94_cds_ccds_ids)].copy()"
   ]
  },
  {
   "cell_type": "code",
   "execution_count": null,
   "id": "cdd989b7",
   "metadata": {},
   "outputs": [],
   "source": [
    "## Create counts matrix only including the new transcripts found after ENSEMBL 94\n",
    "\n",
    "df_exclusive_107_transcripts = df.loc[df[\"transcript_id\"].isin(ensembl_107_exclusive_transcripts[\"transcript_id\"])].copy()\n",
    "df_exclusive_107_ccds = df.loc[df[\"transcript_id\"].isin(ensembl_107_exclusive_ccds[\"transcript_id\"])].copy()"
   ]
  },
  {
   "cell_type": "code",
   "execution_count": null,
   "id": "1c73adcd",
   "metadata": {},
   "outputs": [],
   "source": [
    "df_exclusive_107_transcripts.shape"
   ]
  },
  {
   "cell_type": "code",
   "execution_count": null,
   "id": "8b1c0d28",
   "metadata": {},
   "outputs": [],
   "source": [
    "df_exclusive_107_ccds.shape"
   ]
  },
  {
   "cell_type": "code",
   "execution_count": null,
   "id": "c7c6156e",
   "metadata": {},
   "outputs": [],
   "source": [
    "## Create lists with numbers of ENSEMBL 107 exclusive transcripts expressed across CPM thresholds\n",
    "\n",
    "list_cpm_thresh = []\n",
    "\n",
    "list_ensembl_107_all_transcript_median = []\n",
    "list_ensembl_107_new_cds_transcript_median = []\n",
    "list_ensembl_107_med_relevant_transcript_median = []\n",
    "list_ensembl_107_med_relevant_new_cds_transcript_median = []\n",
    "list_ensembl_107_ad_relevant_transcript_median = []\n",
    "list_ensembl_107_ad_relevant_new_cds_transcript_median = []\n",
    "\n",
    "for i in range(0, 1000):\n",
    "    \n",
    "    cpm_thresh = i/100\n",
    "    \n",
    "    ensembl_107_median = df_exclusive_107_transcripts.loc[df_exclusive_107_transcripts[\"median_CPM\"] >= cpm_thresh].copy()\n",
    "    ensembl_107_new_cds_median = df_exclusive_107_ccds.loc[df_exclusive_107_ccds[\"median_CPM\"] >= cpm_thresh].copy()\n",
    "    ensembl_107_med_relevant_median = ensembl_107_median.loc[ensembl_107_median[\"gene_id\"].isin(disease_relevant_genes[\"gene_id\"])].copy()\n",
    "    ensembl_107_med_relevant_new_cds_median = ensembl_107_med_relevant_median.loc[ensembl_107_med_relevant_median[\"transcript_id\"].isin(ensembl_107_new_cds_median[\"transcript_id\"])].copy()\n",
    "    ensembl_107_ad_relevant_median = ensembl_107_median.loc[ensembl_107_median[\"gene_id\"].isin(ad_names[\"gene_id\"])].copy()\n",
    "    ensembl_107_ad_relevant_new_cds_median = ensembl_107_ad_relevant_median.loc[ensembl_107_ad_relevant_median[\"transcript_id\"].isin(ensembl_107_new_cds_median[\"transcript_id\"])].copy()\n",
    "    \n",
    "    \n",
    "    \n",
    "    list_cpm_thresh.append(cpm_thresh)\n",
    "    \n",
    "    list_ensembl_107_all_transcript_median.append(ensembl_107_median.shape[0])\n",
    "    list_ensembl_107_new_cds_transcript_median.append(ensembl_107_new_cds_median.shape[0])\n",
    "    list_ensembl_107_med_relevant_transcript_median.append(ensembl_107_med_relevant_median.shape[0])\n",
    "    list_ensembl_107_med_relevant_new_cds_transcript_median.append(ensembl_107_med_relevant_new_cds_median.shape[0])\n",
    "    list_ensembl_107_ad_relevant_transcript_median.append(ensembl_107_ad_relevant_median.shape[0])\n",
    "    list_ensembl_107_ad_relevant_new_cds_transcript_median.append(ensembl_107_ad_relevant_new_cds_median.shape[0])"
   ]
  },
  {
   "cell_type": "code",
   "execution_count": null,
   "id": "84244f89",
   "metadata": {},
   "outputs": [],
   "source": [
    "## Set parameters for figures\n",
    "from matplotlib import rcParams\n",
    "\n",
    "# figure size in inches\n",
    "rcParams['figure.figsize'] = 10,5\n",
    "rcParams.update({'font.size': 13})\n",
    "rcParams['axes.linewidth'] = 1"
   ]
  },
  {
   "cell_type": "code",
   "execution_count": null,
   "id": "fd1de752",
   "metadata": {},
   "outputs": [],
   "source": [
    "plt.plot(list_cpm_thresh, list_ensembl_107_all_transcript_median, color=ggplot2_colors[0], label=\"New transcripts since 2019\", linewidth=3, alpha=1)\n",
    "\n",
    "plt.xticks(np.arange(0, 11, 1))\n",
    "plt.xlabel('Median CPM Threshold')\n",
    "plt.ylabel('Number of Transcripts')\n",
    "plt.legend(labels=[\"Transcripts found in ENSEMBL version 107 but   \\nnot in ENSEMBL version 94 (new since 2019)   \", \"Median CPM > 1\"], loc=\"upper right\", fontsize=9)\n",
    "plt.plot([1, 1], [-10, 49000], color=\"#4d4d4d\", label=\"Median CPM = 1\", linewidth=3, alpha=1, linestyle='dashed')\n",
    "\n",
    "\n",
    "plt.savefig('../../../figures/bernardo/03.gene_and_transcripts_descriptive_stats/nature_biotech_pitch/new_since_2019.png', dpi=1200, transparent=True, bbox_inches=\"tight\")\n",
    "plt.savefig('../../../figures/bernardo/03.gene_and_transcripts_descriptive_stats/nature_biotech_pitch/new_since_2019.svg', dpi=1200, transparent=True, bbox_inches=\"tight\")\n"
   ]
  },
  {
   "cell_type": "code",
   "execution_count": null,
   "id": "f670ec70",
   "metadata": {},
   "outputs": [],
   "source": [
    "df_exclusive_107_transcripts_median = df_exclusive_107_transcripts.loc[df_exclusive_107_transcripts[\"median_CPM\"] > 0].copy()\n",
    "\n",
    "df_exclusive_107_transcripts_median[\"Log10 median CPM\"] = np.log10(df_exclusive_107_transcripts_median[\"median_CPM\"])"
   ]
  },
  {
   "cell_type": "code",
   "execution_count": null,
   "id": "f4d3a79f",
   "metadata": {},
   "outputs": [],
   "source": [
    "ensembl_107_median_1 = df_exclusive_107_transcripts.loc[df_exclusive_107_transcripts[\"median_CPM\"] > 1].copy()\n",
    "ensembl_107_new_cds_median_1 = df_exclusive_107_ccds.loc[df_exclusive_107_ccds[\"median_CPM\"] > 1].copy()\n",
    "\n",
    "ensembl_107_med_relevant_median_1 = ensembl_107_median_1.loc[ensembl_107_median_1[\"gene_id\"].isin(disease_relevant_genes[\"gene_id\"])].copy()\n",
    "ensembl_107_med_relevant_new_cds_median_1 = ensembl_107_med_relevant_median_1.loc[ensembl_107_med_relevant_median_1[\"transcript_id\"].isin(ensembl_107_new_cds_median_1[\"transcript_id\"])].copy()\n",
    "\n",
    "ensembl_107_ad_relevant_median_1 = ensembl_107_median_1.loc[ensembl_107_median_1[\"gene_id\"].isin(ad_names[\"gene_id\"])].copy()\n",
    "ensembl_107_ad_relevant_new_cds_median_1 = ensembl_107_ad_relevant_median_1.loc[ensembl_107_ad_relevant_median_1[\"transcript_id\"].isin(ensembl_107_new_cds_median_1[\"transcript_id\"])].copy()"
   ]
  },
  {
   "cell_type": "code",
   "execution_count": null,
   "id": "d5bd98a7",
   "metadata": {},
   "outputs": [],
   "source": [
    "df_barplot_107 = pd.DataFrame()\n",
    "\n",
    "df_barplot_107[\"New Transcript Since 2019 (Median CPM > 1)\"] = [ensembl_107_med_relevant_median_1.shape[0], ensembl_107_new_cds_median_1.shape[0],\n",
    "                                                                ensembl_107_med_relevant_new_cds_median_1.shape[0],\n",
    "                                               ensembl_107_ad_relevant_median_1.shape[0], ensembl_107_ad_relevant_new_cds_median_1.shape[0]]\n",
    "\n",
    "df_barplot_107[\"Description\"] = [\"Med-relevant\", \"New protein coding sequence\", \"Med-relevant new protein coding sequence\", \n",
    "                                \"AD relevant\", \"AD relevant new protein coding sequence\"]"
   ]
  },
  {
   "cell_type": "code",
   "execution_count": null,
   "id": "0e23b1c8",
   "metadata": {},
   "outputs": [],
   "source": [
    "## Set parameters for figures\n",
    "from matplotlib import rcParams\n",
    "\n",
    "# figure size in inches\n",
    "rcParams['figure.figsize'] = 7,7\n",
    "rcParams.update({'font.size': 11})\n",
    "rcParams['axes.linewidth'] = 1"
   ]
  },
  {
   "cell_type": "code",
   "execution_count": null,
   "id": "ebc0e3c7",
   "metadata": {},
   "outputs": [],
   "source": [
    "## Create and save graph showing number of genes with multiple protein coding isoforms (AVG CPM > 1)\n",
    "\n",
    "ax = sns.barplot(data=df_barplot_107, y=\"New Transcript Since 2019 (Median CPM > 1)\", x=\"Description\", hue=\"Description\",\n",
    "            palette=[ggplot2_colors[2], ggplot2_colors[0], ggplot2_colors[5], ggplot2_colors[1], ggplot2_colors[6]], \n",
    "                 saturation=1, dodge=False)\n",
    "\n",
    "for container in ax.containers:\n",
    "    ax.bar_label(container)\n",
    "    \n",
    "    \n",
    "ax.set(ylim=(0, 1199))\n",
    "plt.ylabel('Number of new transcripts since 2019 (Median CPM > 1)')\n",
    "ax.set(xticklabels=[], xlabel=\"\")\n",
    "ax.tick_params(bottom=False)\n",
    "\n",
    "plt.savefig('../../../figures/bernardo/03.gene_and_transcripts_descriptive_stats/nature_biotech_pitch/since_2019_number.png', dpi=1200, transparent=True, bbox_inches=\"tight\")\n",
    "plt.savefig('../../../figures/bernardo/03.gene_and_transcripts_descriptive_stats/nature_biotech_pitch/since_2019_number.svg', dpi=1200, transparent=True, bbox_inches=\"tight\")\n",
    "\n",
    "plt.show()"
   ]
  },
  {
   "cell_type": "code",
   "execution_count": null,
   "id": "c4c50b0e",
   "metadata": {},
   "outputs": [],
   "source": [
    "## Create dataframe to store percent expression\n",
    "percent_expression_df = pd.DataFrame()"
   ]
  },
  {
   "cell_type": "code",
   "execution_count": null,
   "id": "4bbb8fd4",
   "metadata": {},
   "outputs": [],
   "source": [
    "## Get percent expression from transcripts since 2019 for each subcategory\n",
    "df_tmp = pd.DataFrame()\n",
    "\n",
    "\n",
    "med_percent_expression = df.loc[df[\"gene_id\"].isin(ensembl_107_med_relevant_median_1[\"gene_id\"])].copy()\n",
    "med_relevant_relative_abundance = relative_transcript_abundance(med_percent_expression)\n",
    "\n",
    "med_final_percent_expression = med_relevant_relative_abundance.loc[med_relevant_relative_abundance[\"transcript_id\"].isin(ensembl_107_med_relevant_median_1[\"transcript_id\"])]\n",
    "med_final_percent_expression = med_final_percent_expression.groupby('gene_id')['relative_abundance_percent'].sum().reset_index()\n",
    "med_final_percent_expression = med_final_percent_expression.merge(orig_ref[[\"gene_id\", \"gene_name\"]], how=\"inner\", on=\"gene_id\")\n",
    "\n",
    "df_tmp['Gene ID'] = med_final_percent_expression[\"gene_id\"].copy()\n",
    "df_tmp['Gene Name'] = med_final_percent_expression[\"gene_name\"].copy()\n",
    "df_tmp['Relative Abundance of New Transcripts Since 2019 (%)'] = med_final_percent_expression[\"relative_abundance_percent\"].copy()\n",
    "df_tmp[\"Category\"] = \"Med-relevant\"\n",
    "\n",
    "percent_expression_df = pd.concat([percent_expression_df, df_tmp])"
   ]
  },
  {
   "cell_type": "code",
   "execution_count": null,
   "id": "144d0a47",
   "metadata": {},
   "outputs": [],
   "source": [
    "## Get percent expression from transcripts since 2019 for each subcategory\n",
    "df_tmp = pd.DataFrame()\n",
    "\n",
    "cds_percent_expression = df.loc[df[\"gene_id\"].isin(ensembl_107_new_cds_median_1[\"gene_id\"])].copy()\n",
    "cds_relevant_relative_abundance = relative_transcript_abundance(cds_percent_expression)\n",
    "\n",
    "cds_final_percent_expression = cds_relevant_relative_abundance.loc[cds_relevant_relative_abundance[\"transcript_id\"].isin(ensembl_107_new_cds_median_1[\"transcript_id\"])]\n",
    "cds_final_percent_expression = cds_final_percent_expression.groupby('gene_id')['relative_abundance_percent'].sum().reset_index()\n",
    "cds_final_percent_expression = cds_final_percent_expression.merge(orig_ref[[\"gene_id\", \"gene_name\"]], how=\"inner\", on=\"gene_id\")\n",
    "\n",
    "df_tmp['Gene ID'] = cds_final_percent_expression[\"gene_id\"].copy()\n",
    "df_tmp['Gene Name'] = cds_final_percent_expression[\"gene_name\"].copy()\n",
    "df_tmp['Relative Abundance of New Transcripts Since 2019 (%)'] = cds_final_percent_expression[\"relative_abundance_percent\"].copy()\n",
    "df_tmp[\"Category\"] = \"New protein coding sequence\"\n",
    "\n",
    "percent_expression_df = pd.concat([percent_expression_df, df_tmp])"
   ]
  },
  {
   "cell_type": "code",
   "execution_count": null,
   "id": "93f9a34a",
   "metadata": {},
   "outputs": [],
   "source": [
    "## Get percent expression from transcripts since 2019 for each subcategory\n",
    "df_tmp = pd.DataFrame()\n",
    "\n",
    "\n",
    "med_cds_percent_expression = df.loc[df[\"gene_id\"].isin(ensembl_107_med_relevant_new_cds_median_1[\"gene_id\"])].copy()\n",
    "med_cds_relevant_relative_abundance = relative_transcript_abundance(med_cds_percent_expression)\n",
    "\n",
    "med_cds_final_percent_expression = med_cds_relevant_relative_abundance.loc[med_cds_relevant_relative_abundance[\"transcript_id\"].isin(ensembl_107_med_relevant_new_cds_median_1[\"transcript_id\"])]\n",
    "med_cds_final_percent_expression = med_cds_final_percent_expression.groupby('gene_id')['relative_abundance_percent'].sum().reset_index()\n",
    "med_cds_final_percent_expression = med_cds_final_percent_expression.merge(orig_ref[[\"gene_id\", \"gene_name\"]], how=\"inner\", on=\"gene_id\")\n",
    "\n",
    "df_tmp['Gene ID'] = med_cds_final_percent_expression[\"gene_id\"].copy()\n",
    "df_tmp['Gene Name'] = med_cds_final_percent_expression[\"gene_name\"].copy()\n",
    "df_tmp['Relative Abundance of New Transcripts Since 2019 (%)'] = med_cds_final_percent_expression[\"relative_abundance_percent\"].copy()\n",
    "df_tmp[\"Category\"] = \"Med-relevant new protein coding sequence\"\n",
    "\n",
    "percent_expression_df = pd.concat([percent_expression_df, df_tmp])"
   ]
  },
  {
   "cell_type": "code",
   "execution_count": null,
   "id": "7b98812a",
   "metadata": {},
   "outputs": [],
   "source": [
    "## Get percent expression from transcripts since 2019 for each subcategory\n",
    "df_tmp = pd.DataFrame()\n",
    "\n",
    "\n",
    "ad_percent_expression = df.loc[df[\"gene_id\"].isin(ensembl_107_ad_relevant_median_1[\"gene_id\"])].copy()\n",
    "ad_relevant_relative_abundance = relative_transcript_abundance(ad_percent_expression)\n",
    "\n",
    "ad_final_percent_expression = ad_relevant_relative_abundance.loc[ad_relevant_relative_abundance[\"transcript_id\"].isin(ensembl_107_ad_relevant_median_1[\"transcript_id\"])]\n",
    "ad_final_percent_expression = ad_final_percent_expression.groupby('gene_id')['relative_abundance_percent'].sum().reset_index()\n",
    "ad_final_percent_expression = ad_final_percent_expression.merge(orig_ref[[\"gene_id\", \"gene_name\"]], how=\"inner\", on=\"gene_id\")\n",
    "\n",
    "df_tmp['Gene ID'] = ad_final_percent_expression[\"gene_id\"].copy()\n",
    "df_tmp['Gene Name'] = ad_final_percent_expression[\"gene_name\"].copy()\n",
    "df_tmp['Relative Abundance of New Transcripts Since 2019 (%)'] = ad_final_percent_expression[\"relative_abundance_percent\"].copy()\n",
    "df_tmp[\"Category\"] = \"AD relevant\"\n",
    "\n",
    "percent_expression_df = pd.concat([percent_expression_df, df_tmp])"
   ]
  },
  {
   "cell_type": "code",
   "execution_count": null,
   "id": "e58b6207",
   "metadata": {},
   "outputs": [],
   "source": [
    "## Get percent expression from transcripts since 2019 for each subcategory\n",
    "df_tmp = pd.DataFrame()\n",
    "\n",
    "\n",
    "ad_new_prot_percent_expression = df.loc[df[\"gene_id\"].isin(ensembl_107_ad_relevant_new_cds_median_1[\"gene_id\"])].copy()\n",
    "ad_new_prot_relevant_relative_abundance = relative_transcript_abundance(ad_new_prot_percent_expression)\n",
    "\n",
    "ad_new_prot_final_percent_expression = ad_new_prot_relevant_relative_abundance.loc[ad_new_prot_relevant_relative_abundance[\"transcript_id\"].isin(ensembl_107_ad_relevant_new_cds_median_1[\"transcript_id\"])]\n",
    "ad_new_prot_final_percent_expression = ad_new_prot_final_percent_expression.groupby('gene_id')['relative_abundance_percent'].sum().reset_index()\n",
    "ad_new_prot_final_percent_expression = ad_new_prot_final_percent_expression.merge(orig_ref[[\"gene_id\", \"gene_name\"]], how=\"inner\", on=\"gene_id\")\n",
    "\n",
    "df_tmp['Gene ID'] = ad_new_prot_final_percent_expression[\"gene_id\"].copy()\n",
    "df_tmp['Gene Name'] = ad_new_prot_final_percent_expression[\"gene_name\"].copy()\n",
    "df_tmp['Relative Abundance of New Transcripts Since 2019 (%)'] = ad_new_prot_final_percent_expression[\"relative_abundance_percent\"].copy()\n",
    "df_tmp[\"Category\"] = \"AD relevant new protein coding sequence\"\n",
    "\n",
    "percent_expression_df = pd.concat([percent_expression_df, df_tmp])"
   ]
  },
  {
   "cell_type": "code",
   "execution_count": null,
   "id": "7d02da43",
   "metadata": {},
   "outputs": [],
   "source": [
    "ax = sns.boxplot(data=percent_expression_df, y=\"Relative Abundance of New Transcripts Since 2019 (%)\", x=\"Category\", \n",
    "                 hue=\"Category\",\n",
    "            palette=[ggplot2_colors[2], ggplot2_colors[0], ggplot2_colors[5], ggplot2_colors[1], ggplot2_colors[6]], \n",
    "                 saturation=1, dodge=False, showfliers=False)\n",
    "\n",
    "sns.stripplot(data=percent_expression_df, y=\"Relative Abundance of New Transcripts Since 2019 (%)\", x=\"Category\",\n",
    "             color=\"#4d4d4d\")\n",
    "\n",
    "\n",
    "ax.set(ylim=(-10, 110))\n",
    "ax.set(xlim=(-0.8, 4.8))\n",
    "ax.set(xticklabels=[], ylabel=\"Relative Abundance of new transcripts Since 2019 (%)\", xlabel=\"\")\n",
    "ax.tick_params(bottom=False)\n",
    "\n",
    "\n",
    "plt.legend([],[], frameon=False)\n",
    "\n",
    "plt.savefig('../../../figures/bernardo/03.gene_and_transcripts_descriptive_stats/nature_biotech_pitch/since_2019_percent.png', dpi=1200, transparent=True, bbox_inches=\"tight\")\n",
    "plt.savefig('../../../figures/bernardo/03.gene_and_transcripts_descriptive_stats/nature_biotech_pitch/since_2019_percent.svg', dpi=1200, transparent=True, bbox_inches=\"tight\")\n",
    "\n",
    "plt.show()"
   ]
  },
  {
   "cell_type": "markdown",
   "id": "9d32c067",
   "metadata": {},
   "source": [
    "# - Memes for figures"
   ]
  },
  {
   "cell_type": "code",
   "execution_count": null,
   "id": "56a64009",
   "metadata": {},
   "outputs": [],
   "source": [
    "### 3 PRIME NFN ###\n",
    "\n",
    "nfn_3_prime_in = open(\"../../../data/maddy/MEME/three_prime_splice_sites_nfn_12s.fa\", 'r')\n",
    "Lines_in = nfn_3_prime_in.readlines()\n",
    "\n",
    "\n",
    "nfn_3_prime_out = open(\"../../../data/maddy/MEME/three_prime_splice_sites_nfn_12s_VALIDATED.fa\", 'w')\n",
    "\n",
    "## Create lists with read ids for split files and write lines to files\n",
    "for i in range(1, len(Lines_in), 2):\n",
    "\n",
    "    if (Lines_in[i][10:12] == \"AG\"):\n",
    "        print(Lines_in[i])\n",
    "        print(Lines_in[i][10:12])\n",
    "        nfn_3_prime_out.write(Lines_in[i-1])\n",
    "        nfn_3_prime_out.write(Lines_in[i])\n",
    "        \n",
    "nfn_3_prime_out.close()\n",
    "\n",
    "nfn_3_prime_out = open(\"../../../data/maddy/MEME/three_prime_splice_sites_nfn_12s_VALIDATED.fa\", 'r')\n",
    "Lines_out = nfn_3_prime_out.readlines()\n",
    "\n",
    "percent_3_nfn = round((len(Lines_out)/len(Lines_in)) * 100, 4)\n",
    "\n",
    "nfn_3_prime_out.close()"
   ]
  },
  {
   "cell_type": "code",
   "execution_count": null,
   "id": "3ad8e961",
   "metadata": {},
   "outputs": [],
   "source": [
    "### 5 PRIME NFN ###\n",
    "\n",
    "nfn_5_prime_in = open(\"../../../data/maddy/MEME/five_prime_splice_sites_nfn_12s.fa\", 'r')\n",
    "Lines_in = nfn_5_prime_in.readlines()\n",
    "\n",
    "nfn_5_prime_out = open(\"../../../data/maddy/MEME/five_prime_splice_sites_nfn_12s_VALIDATED.fa\", 'w')\n",
    "\n",
    "## Create lists with read ids for split files and write lines to filesf\n",
    "for i in range(1, len(Lines_in), 2):\n",
    "\n",
    "    if (Lines_in[i][3:5] == \"GT\"):\n",
    "        print(Lines_in[i])\n",
    "        nfn_5_prime_out.write(Lines_in[i-1])\n",
    "        nfn_5_prime_out.write(Lines_in[i])\n",
    "        \n",
    "nfn_5_prime_out.close()\n",
    "\n",
    "nfn_5_prime_out = open(\"../../../data/maddy/MEME/five_prime_splice_sites_nfn_12s_VALIDATED.fa\", 'r')\n",
    "Lines_out = nfn_5_prime_out.readlines()\n",
    "\n",
    "percent_5_nfn = round((len(Lines_out)/len(Lines_in)) * 100, 4)\n",
    "\n",
    "nfn_5_prime_out.close()"
   ]
  },
  {
   "cell_type": "code",
   "execution_count": null,
   "id": "a591d37f",
   "metadata": {},
   "outputs": [],
   "source": [
    "### 5 PRIME NFK ### - GOOD!\n",
    "\n",
    "nfk_5_prime_in = open(\"../../../data/maddy/MEME/five_prime_splice_sites_nfki_12s.fa\", 'r')\n",
    "Lines_in = nfk_5_prime_in.readlines()\n",
    "\n",
    "nfk_5_prime_out = open(\"../../../data/maddy/MEME/five_prime_splice_sites_nfk_12s_VALIDATED.fa\", 'w')\n",
    "\n",
    "## Create lists with read ids for split files and write lines to files\n",
    "for i in range(1, len(Lines_in), 2):\n",
    "\n",
    "    if (Lines_in[i][3:5] == \"GT\"):\n",
    "        nfk_5_prime_out.write(Lines_in[i-1])\n",
    "        nfk_5_prime_out.write(Lines_in[i])\n",
    "        \n",
    "nfk_5_prime_out.close()\n",
    "\n",
    "nfk_5_prime_out = open(\"../../../data/maddy/MEME/five_prime_splice_sites_nfk_12s_VALIDATED.fa\", 'r')\n",
    "Lines_out = nfk_5_prime_out.readlines()\n",
    "\n",
    "percent_5_nfk = round((len(Lines_out)/len(Lines_in)) * 100, 4)\n",
    "\n",
    "nfk_5_prime_out.close()"
   ]
  },
  {
   "cell_type": "code",
   "execution_count": null,
   "id": "b126ea31",
   "metadata": {},
   "outputs": [],
   "source": [
    "### 5 PRIME KFK ### - GOOD!\n",
    "\n",
    "kfk_5_prime_in = open(\"../../../data/maddy/MEME/five_prime_splice_sites_kfk_12s.fa\", 'r')\n",
    "Lines_in = kfk_5_prime_in.readlines()\n",
    "\n",
    "kfk_5_prime_out = open(\"../../../data/maddy/MEME/five_prime_splice_sites_kfk_12s_VALIDATED.fa\", 'w')\n",
    "\n",
    "## Create lists with read ids for split files and write lines to files\n",
    "for i in range(1, len(Lines_in), 2):\n",
    "\n",
    "    if (Lines_in[i][3:5] == \"GT\"):\n",
    "        kfk_5_prime_out.write(Lines_in[i-1])\n",
    "        kfk_5_prime_out.write(Lines_in[i])\n",
    "        \n",
    "kfk_5_prime_out.close()\n",
    "\n",
    "kfk_5_prime_out = open(\"../../../data/maddy/MEME/five_prime_splice_sites_kfk_12s_VALIDATED.fa\", 'r')\n",
    "Lines_out = kfk_5_prime_out.readlines()\n",
    "\n",
    "percent_5_kfk = round((len(Lines_out)/len(Lines_in)) * 100, 4)\n",
    "\n",
    "kfk_5_prime_out.close()"
   ]
  },
  {
   "cell_type": "code",
   "execution_count": null,
   "id": "5d2bf639",
   "metadata": {},
   "outputs": [],
   "source": [
    "five_prime_kfk = percent_5_kfk\n",
    "three_prime_kfk = round((160025/160416) * 100, 4)\n",
    "\n",
    "five_prime_nfk = percent_5_nfk\n",
    "three_prime_nfk = round((479/479) * 100, 4)\n",
    "\n",
    "five_prime_nfn = percent_5_nfn\n",
    "three_prime_nfn = percent_3_nfn\n",
    "\n",
    "five_prime_nfm = round((16/33) * 100, 4)\n",
    "three_prime_nfm = round((32/32) * 100, 4)"
   ]
  },
  {
   "cell_type": "code",
   "execution_count": null,
   "id": "564eefd8",
   "metadata": {},
   "outputs": [],
   "source": [
    "dict_meme = {\"Percent exons containing motiff\": [five_prime_nfn, five_prime_nfk, five_prime_kfk, three_prime_nfn, three_prime_nfk, three_prime_kfk], \n",
    "            \"Splice site motiff\": [\"Five prime splice site motiff\", \"Five prime splice site motiff\", \"Five prime splice site motiff\",\n",
    "                                   \"Three prime splice site motiff\", \"Three prime splice site motiff\", \"Three prime splice site motiff\"],\n",
    "           \"Category\": [\"New transcripts for new gene body\", \"New transcripts for known gene body\", \"Annotated transcripts\",\n",
    "                        \"New transcripts for new gene body\", \"New transcripts for known gene body\", \"Annotated transcripts\"]}\n",
    "\n",
    "df_meme = pd.DataFrame(dict_meme)"
   ]
  },
  {
   "cell_type": "code",
   "execution_count": null,
   "id": "7db4d687",
   "metadata": {},
   "outputs": [],
   "source": [
    "## Set parameters for figures\n",
    "from matplotlib import rcParams\n",
    "\n",
    "# figure size in inches\n",
    "rcParams['figure.figsize'] = 7,7\n",
    "rcParams.update({'font.size': 13})\n",
    "rcParams['axes.linewidth'] = 1"
   ]
  },
  {
   "cell_type": "code",
   "execution_count": null,
   "id": "84a4cf38",
   "metadata": {},
   "outputs": [],
   "source": [
    "## Create and save graph showing number of genes with multiple protein coding isoforms (AVG CPM > 1)\n",
    "\n",
    "ax = sns.barplot(data=df_meme, x=\"Percent exons containing motiff\", y=\"Splice site motiff\", hue=\"Category\",\n",
    "                 palette=[ggplot2_colors[4], ggplot2_colors[0], ggplot2_colors[1]], errorbar=None, saturation=1,\n",
    "                hue_order=df_meme[\"Category\"].unique())\n",
    "\n",
    "for container in ax.containers:\n",
    "    ax.bar_label(container, label_type=\"center\")\n",
    "    \n",
    "    \n",
    "ax.set(xlim=(0, 150), ylim=(-0.5, 2))\n",
    "plt.legend(loc='upper right', borderpad=0.8, fontsize=13)\n",
    "plt.xlabel('Exons containing motiff (%)')\n",
    "ax.xaxis.set_label_coords(0.30, -0.115)\n",
    "\n",
    "ax.set(xticklabels=[0, 20, 40, 60, 80, 100], ylabel=\"\")\n",
    "ax.set_yticklabels(labels=[\"5' splice site\\n\", \"3' splice site\\n\"], rotation=90, ha=\"center\", rotation_mode=\"anchor\")\n",
    "\n",
    "handles, labels = plt.gca().get_legend_handles_labels()\n",
    "plt.legend([handles[i] for i in [2, 1, 0]], [labels[i] for i in [2,1,0]])\n",
    "\n",
    "plt.savefig('../../../figures/bernardo/03.gene_and_transcripts_descriptive_stats/nature_biotech_pitch/MEME.png', dpi=1200, transparent=True, bbox_inches=\"tight\")\n",
    "plt.savefig('../../../figures/bernardo/03.gene_and_transcripts_descriptive_stats/nature_biotech_pitch/MEME.svg', dpi=1200, transparent=True, bbox_inches=\"tight\")\n",
    "\n",
    "plt.show()"
   ]
  },
  {
   "cell_type": "markdown",
   "id": "f8b5a1a6",
   "metadata": {},
   "source": [
    "# QC Figures"
   ]
  },
  {
   "cell_type": "code",
   "execution_count": null,
   "id": "be38b9b5",
   "metadata": {},
   "outputs": [],
   "source": [
    "## QC Figures \n",
    "\n",
    "sample_names = ['sample_579_PAG75663', 'sample_1131_PAM44580','sample_1218_PAM43779', 'sample_1304_PAM44487',\n",
    " 'sample_1271_PAM44815', 'sample_5356_PAM42933', 'sample_1163_PAM44604', 'sample_5295_PAG77944',\n",
    " 'sample_5292_PAG75292', 'sample_1092_PAM41667', 'sample_1186_PAM43869', 'sample_1291_PAG71816']\n",
    "\n",
    "\n",
    "percent_mito = [13, 7, 23, 6, 9, 9, 8, 23, 13, 10, 8, 18]\n",
    "\n",
    "total_reads = [156.3, 166.6, 196.7, 119.4, 108.4, 158.9, 104.1, 163.9, 129.7, 163.5, 183.0, 121.2]\n",
    "\n",
    "pass_reads = [116.6, 120.1, 153.6, 85.9, 86.8, 119.2, 84.8, 122.7, 98.3, 121.2, 129.7, 91.8]\n",
    "\n",
    "percent_both_primers = [0.817, 0.862, 0.873, 0.813, 0.773, 0.806, 0.746, 0.765, 0.801, 0.826, 0.871, 0.768]\n",
    "\n",
    "mapped_reads = [51.8, 22.5, 46.7, 22.6, 44.6, 28.0, 49.1, 40.4, 45.0, 36.1, 34.2, 40.1]\n",
    "\n",
    "n50_mapped = [831, 1120, 699, 1510, 1370, 1560, 1090, 815, 1040, 1010, 802, 954]\n",
    "\n",
    "median_read_length_mapped = [336, 245, 286, 422, 458, 327, 500, 354, 393, 259, 328, 416]\n",
    "\n",
    "\n",
    "\n",
    "dictionary_qc = {'sample_name': sample_names, 'Mapped pass N50': n50_mapped,\n",
    "                \"Median read length mapped\": median_read_length_mapped, \"All reads\": total_reads, \n",
    "                \"Pass reads\": pass_reads, \"Mapped pass reads with both primers\": mapped_reads, \"Percent both primers\": percent_both_primers,\n",
    "                 \"percent mito\": percent_mito}\n",
    "\n",
    "df_qc_stats = pd.DataFrame(data=dictionary_qc)\n",
    "\n",
    "df_qc_stats[\"Pass reads with both primers\"] = df_qc_stats[\"Pass reads\"].copy() * df_qc_stats[\"Percent both primers\"].copy()"
   ]
  },
  {
   "cell_type": "code",
   "execution_count": null,
   "id": "5e5fc86e",
   "metadata": {},
   "outputs": [],
   "source": [
    "df_read_numbers = df_qc_stats[[\"sample_name\", \"All reads\", \"Pass reads\"]].copy()\n",
    "\n",
    "df_read_numbers_melt = pd.melt(df_read_numbers, id_vars=['sample_name'], value_vars=[\"All reads\", \"Pass reads\"],\n",
    "                               value_name=\"Million reads\")\n"
   ]
  },
  {
   "cell_type": "code",
   "execution_count": null,
   "id": "74c6f70f",
   "metadata": {},
   "outputs": [],
   "source": [
    "sns.boxplot(data=df_read_numbers_melt, y=\"Million reads\", x=\"variable\",\n",
    "           saturation=1, palette=[ggplot2_colors[0], ggplot2_colors[4]],\n",
    "           showfliers=False, hue=\"variable\", dodge=False, linewidth=1)\n",
    "\n",
    "\n",
    "sns.stripplot(data=df_read_numbers_melt,  y=\"Million reads\", x=\"variable\",\n",
    "             color=\"black\")\n",
    "\n",
    "\n",
    "plt.xlabel(\"\")\n",
    "plt.xticks(\"\")\n",
    "plt.tick_params(bottom=False)\n",
    "plt.legend(loc=\"upper right\")\n",
    "\n",
    "\n",
    "plt.savefig('../../../figures/bernardo/03.gene_and_transcripts_descriptive_stats/nature_biotech_pitch/number_of_reads.png',\n",
    "            dpi=1200, transparent=True, bbox_inches=\"tight\")\n",
    "\n",
    "plt.savefig('../../../figures/bernardo/03.gene_and_transcripts_descriptive_stats/nature_biotech_pitch/number_of_reads.svg',\n",
    "            dpi=1200, transparent=True, bbox_inches=\"tight\")\n",
    "\n",
    "plt.show()"
   ]
  },
  {
   "cell_type": "markdown",
   "id": "b17d33eb",
   "metadata": {},
   "source": [
    "# Mass Spec "
   ]
  },
  {
   "cell_type": "code",
   "execution_count": null,
   "id": "b6c6562e",
   "metadata": {},
   "outputs": [],
   "source": [
    "## Load protein data\n",
    "\n",
    "df_mass_spec_validation = pd.read_csv(\"../../../data/bernardo/processed/03.gene_and_transcripts_descriptive_stats/unique_pep_hits_new_transcripts.tsv\", \n",
    "                                     sep=\"\\t\")"
   ]
  },
  {
   "cell_type": "code",
   "execution_count": null,
   "id": "9e1c3b3e",
   "metadata": {},
   "outputs": [],
   "source": [
    "df_mass_spec_validation.head()"
   ]
  },
  {
   "cell_type": "code",
   "execution_count": null,
   "id": "de29652a",
   "metadata": {},
   "outputs": [],
   "source": [
    "df_mass_spec_validation = df_mass_spec_validation.loc[df_mass_spec_validation[\"opt_global_q-value\"] <= 0.05].copy()"
   ]
  },
  {
   "cell_type": "code",
   "execution_count": null,
   "id": "9c4a521f",
   "metadata": {},
   "outputs": [],
   "source": [
    "df_mass_spec_validation."
   ]
  },
  {
   "cell_type": "code",
   "execution_count": null,
   "id": "e73b2a7b",
   "metadata": {},
   "outputs": [],
   "source": [
    "df_mass_spec_validation[\"transcript_id\"] = df_mass_spec_validation[\"accession\"].str.split(\"_\", expand=True)[1].copy()"
   ]
  },
  {
   "cell_type": "code",
   "execution_count": null,
   "id": "f11a7e95",
   "metadata": {},
   "outputs": [],
   "source": [
    "df_mass_spec_novel_genes = df_mass_spec_validation.merge(df_novel_genes_median[[\"transcript_id\", \"gene_id\"]], on=\"transcript_id\",\n",
    "                                                        how=\"inner\")"
   ]
  },
  {
   "cell_type": "code",
   "execution_count": null,
   "id": "f49fe12b",
   "metadata": {},
   "outputs": [],
   "source": [
    "df_mass_spec_novel_transcripts = df_mass_spec_validation.merge(df_novel_transcripts_median[[\"transcript_id\", \"gene_id\"]], on=\"transcript_id\",\n",
    "                                                        how=\"inner\")"
   ]
  },
  {
   "cell_type": "code",
   "execution_count": null,
   "id": "70b8c633",
   "metadata": {},
   "outputs": [],
   "source": [
    "df_mass_spec_novel_transcripts = df_mass_spec_novel_transcripts.merge(orig_ref[[\"gene_id\", \"gene_name\"]], how=\"inner\", on=\"gene_id\")"
   ]
  },
  {
   "cell_type": "code",
   "execution_count": null,
   "id": "e5c3e255",
   "metadata": {},
   "outputs": [],
   "source": [
    "df_mass_spec_novel_transcripts['transcript_id'].nunique()"
   ]
  },
  {
   "cell_type": "code",
   "execution_count": null,
   "id": "fb200e85",
   "metadata": {},
   "outputs": [],
   "source": [
    "df_mass_spec_novel_genes[\"transcript_id\"].nunique()"
   ]
  },
  {
   "cell_type": "code",
   "execution_count": 15,
   "id": "f1407601",
   "metadata": {},
   "outputs": [
    {
     "ename": "NameError",
     "evalue": "name 'df_mass_spec_novel_genes' is not defined",
     "output_type": "error",
     "traceback": [
      "\u001b[0;31m---------------------------------------------------------------------------\u001b[0m",
      "\u001b[0;31mNameError\u001b[0m                                 Traceback (most recent call last)",
      "Cell \u001b[0;32mIn[15], line 1\u001b[0m\n\u001b[0;32m----> 1\u001b[0m \u001b[43mdf_mass_spec_novel_genes\u001b[49m[\u001b[38;5;124m\"\u001b[39m\u001b[38;5;124mtranscript_id\u001b[39m\u001b[38;5;124m\"\u001b[39m]\u001b[38;5;241m.\u001b[39munique()\n",
      "\u001b[0;31mNameError\u001b[0m: name 'df_mass_spec_novel_genes' is not defined"
     ]
    }
   ],
   "source": [
    "df_mass_spec_novel_genes[\"transcript_id\"].unique()"
   ]
  },
  {
   "cell_type": "code",
   "execution_count": 89,
   "id": "3afce325",
   "metadata": {},
   "outputs": [],
   "source": [
    "df_mass_spec_novel_transcripts_med_relevant = df_mass_spec_novel_transcripts.merge(disease_relevant_genes_annotated[\"gene_id\"], on=\"gene_id\")"
   ]
  },
  {
   "cell_type": "code",
   "execution_count": 90,
   "id": "76f1fcfc",
   "metadata": {},
   "outputs": [],
   "source": [
    "number_of_transcripts = [df_novel_transcripts_median[\"transcript_id\"].nunique(), \n",
    "                         df_mass_spec_novel_transcripts['transcript_id'].nunique(),\n",
    "                         df_novel_genes_median[\"transcript_id\"].nunique(),\n",
    "                         df_mass_spec_novel_genes[\"transcript_id\"].nunique()]\n",
    "\n",
    "dict_mass_spec_graph = {\"Number of transcripts\": number_of_transcripts,\n",
    "                       \"Level\": [\"RNAseq discovery\", \"Mass-spec validated\", \"RNAseq discovery\", \"Mass-spec validated\"],\n",
    "                       \"Description\": [\"New transcript for known gene body\", \"New transcript for known gene body\", \n",
    "                                      \"New transcript for new gene body\", \"New transcript for new gene body\"]}\n",
    "\n",
    "\n",
    "mass_spec_graph = pd.DataFrame(data=dict_mass_spec_graph)"
   ]
  },
  {
   "cell_type": "code",
   "execution_count": 91,
   "id": "c56642c4",
   "metadata": {},
   "outputs": [],
   "source": [
    "## Set parameters for figures\n",
    "from matplotlib import rcParams\n",
    "\n",
    "# figure size in inches\n",
    "rcParams['figure.figsize'] = 10,5\n",
    "rcParams.update({'font.size': 13})\n",
    "rcParams['axes.linewidth'] = 1"
   ]
  },
  {
   "cell_type": "code",
   "execution_count": 92,
   "id": "71794b50",
   "metadata": {},
   "outputs": [
    {
     "data": {
      "image/png": "[encoded data removed]",
      "text/plain": [
       "<Figure size 1000x500 with 1 Axes>"
      ]
     },
     "metadata": {},
     "output_type": "display_data"
    }
   ],
   "source": [
    "## Create and save graph showing number of genes with multiple protein coding isoforms (AVG CPM > 1)\n",
    "\n",
    "ax = sns.barplot(data=mass_spec_graph,  x=\"Description\", y=\"Number of transcripts\", hue=\"Level\",\n",
    "            palette=[ggplot2_colors[2], ggplot2_colors[0], ggplot2_colors[5], ggplot2_colors[1], ggplot2_colors[6]], \n",
    "                 saturation=1)\n",
    "\n",
    "for container in ax.containers:\n",
    "    ax.bar_label(container)\n",
    "    \n",
    "    \n",
    "ax.set(ylim=(0, 500))\n",
    "#plt.ylabel('Number of new transcripts since 2019 (Median CPM > 1)')\n",
    "ax.set(xlabel=\"\")\n",
    "plt.legend(loc=\"upper right\")\n",
    "#ax.tick_params(bottom=False)\n",
    "\n",
    "plt.savefig('../../../figures/bernardo/03.gene_and_transcripts_descriptive_stats/nature_biotech_pitch/mass_spec_val.png', dpi=1200, transparent=True, bbox_inches=\"tight\")\n",
    "plt.savefig('../../../figures/bernardo/03.gene_and_transcripts_descriptive_stats/nature_biotech_pitch/mass_spec_val.svg', dpi=1200, transparent=True, bbox_inches=\"tight\")\n",
    "\n",
    "plt.show()"
   ]
  },
  {
   "cell_type": "code",
   "execution_count": 93,
   "id": "a3c3bcbd",
   "metadata": {},
   "outputs": [],
   "source": [
    "mass_spec_words = df_mass_spec_novel_transcripts_med_relevant[\"gene_name\"].tolist()"
   ]
  },
  {
   "cell_type": "code",
   "execution_count": 94,
   "id": "62f840e4",
   "metadata": {},
   "outputs": [],
   "source": [
    "mass_spec_words_string = \"\"\n",
    "\n",
    "for word in mass_spec_words:\n",
    "    \n",
    "    mass_spec_words_string = mass_spec_words_string + word\n",
    "    mass_spec_words_string = mass_spec_words_string + \" \" "
   ]
  },
  {
   "cell_type": "code",
   "execution_count": 95,
   "id": "7ef4ff7b",
   "metadata": {},
   "outputs": [
    {
     "data": {
      "image/png": "[encoded data removed]",
      "text/plain": [
       "<Figure size 1000x500 with 1 Axes>"
      ]
     },
     "metadata": {},
     "output_type": "display_data"
    }
   ],
   "source": [
    "## Create GGPLOT2 colormap for the wordcloud (THANKS MARK!)\n",
    "\n",
    "from matplotlib.colors import LinearSegmentedColormap\n",
    "\n",
    "ggplot2_colormap = LinearSegmentedColormap.from_list(\n",
    "        \"ggplot_2\", ggplot2_colors, N=8)\n",
    "\n",
    "word_cloud_mass_spec = WordCloud(collocations=False, font_step=1, background_color='white', regexp=r\"\\w[\\w\\-]+\", normalize_plurals=False,\n",
    "            colormap=ggplot2_colormap, prefer_horizontal=1, include_numbers=True, stopwords=None, random_state=112,\n",
    "                      width=800, height=1000).generate(mass_spec_words_string)\n",
    "\n",
    "## Save disease relevant genes plot median CPM > 1\n",
    "plt.imshow(word_cloud_mass_spec, interpolation='bilinear', alpha=1)\n",
    "plt.axis(\"off\")\n",
    "\n",
    "plt.savefig('../../../figures/bernardo/03.gene_and_transcripts_descriptive_stats/nature_biotech_pitch/mass_spec_val_disease_relevant.png',\n",
    "            dpi=1200, transparent=True, bbox_inches=\"tight\")\n",
    "\n",
    "plt.savefig('../../../figures/bernardo/03.gene_and_transcripts_descriptive_stats/nature_biotech_pitch/mass_spec_val_disease_relevant.svg',\n",
    "            dpi=1200, transparent=True, bbox_inches=\"tight\")\n",
    "\n",
    "plt.show()"
   ]
  }
 ],
 "metadata": {
  "kernelspec": {
   "display_name": "Python 3 (ipykernel)",
   "language": "python",
   "name": "python3"
  },
  "language_info": {
   "codemirror_mode": {
    "name": "ipython",
    "version": 3
   },
   "file_extension": ".py",
   "mimetype": "text/x-python",
   "name": "python",
   "nbconvert_exporter": "python",
   "pygments_lexer": "ipython3",
   "version": "3.10.9"
  }
 },
 "nbformat": 4,
 "nbformat_minor": 5
}
