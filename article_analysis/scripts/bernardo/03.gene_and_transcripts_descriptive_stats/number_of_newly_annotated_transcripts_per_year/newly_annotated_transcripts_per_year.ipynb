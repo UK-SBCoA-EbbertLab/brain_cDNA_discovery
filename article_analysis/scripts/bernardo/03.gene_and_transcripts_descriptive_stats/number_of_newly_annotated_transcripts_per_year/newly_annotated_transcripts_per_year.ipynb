{
 "cells": [
  {
   "cell_type": "markdown",
   "metadata": {},
   "source": [
    "# Unique Codes per year"
   ]
  },
  {
   "cell_type": "markdown",
   "metadata": {},
   "source": [
    "## Libraries used"
   ]
  },
  {
   "cell_type": "code",
   "execution_count": 1,
   "metadata": {},
   "outputs": [],
   "source": [
    "## Import libraries\n",
    "\n",
    "import pandas as pd\n",
    "import re\n",
    "import matplotlib.pyplot as plt"
   ]
  },
  {
   "cell_type": "code",
   "execution_count": 2,
   "metadata": {},
   "outputs": [],
   "source": [
    "'''\n",
    "name: extract_transcript_id\n",
    "\n",
    "input: GTF attribute column\n",
    "\n",
    "output: transcript_id for each entry\n",
    "\n",
    "purpose: Creating a transcript_id columns from attributes column in GTF\n",
    "'''\n",
    "\n",
    "\n",
    "def extract_transcript_id(attributes):\n",
    "    match = re.search('transcript_id \"([^\"]+)', attributes)\n",
    "    return match.group(1) if match else None"
   ]
  },
  {
   "cell_type": "markdown",
   "metadata": {},
   "source": [
    "### 2014 Dataset"
   ]
  },
  {
   "cell_type": "code",
   "execution_count": 3,
   "metadata": {},
   "outputs": [],
   "source": [
    "# Define the column names for the GTF file\n",
    "column_names = [\"seqname\", \"source\", \"feature\", \"start\", \"end\", \"score\", \"strand\", \"frame\", \"attributes\"]\n",
    "\n",
    "# Load the GTF file\n",
    "df2014 = pd.read_csv('../../../../data/bernardo/processed/03.gene_and_transcripts_descriptive_stats/number_of_newly_annotated_transcripts_per_year/Homo_sapiens.GRCh38.79.gtf',\n",
    "                     sep='\\t', comment='#', names=column_names, low_memory=False)\n",
    "df2014 = df2014.loc[df2014[\"feature\"] == \"transcript\"].copy()\n",
    "\n",
    "# Parse the \"attributes\" column to extract the transcript names\n",
    "df2014['transcript_id'] = df2014['attributes'].apply(extract_transcript_id)"
   ]
  },
  {
   "cell_type": "markdown",
   "metadata": {},
   "source": [
    "### 2015 Dataset"
   ]
  },
  {
   "cell_type": "code",
   "execution_count": 4,
   "metadata": {},
   "outputs": [],
   "source": [
    "# Define the column names for the GTF file\n",
    "column_names = [\"seqname\", \"source\", \"feature\", \"start\", \"end\", \"score\", \"strand\", \"frame\", \"attributes\"]\n",
    "\n",
    "# Load the GTF file\n",
    "df2015 = pd.read_csv('../../../../data/bernardo/processed/03.gene_and_transcripts_descriptive_stats/number_of_newly_annotated_transcripts_per_year/Homo_sapiens.GRCh38.83.gtf',\n",
    "                     sep='\\t', comment='#', names=column_names, low_memory=False)\n",
    "df2015 = df2015.loc[df2015[\"feature\"] == \"transcript\"].copy()\n",
    "\n",
    "# Parse the \"attributes\" column to extract the transcript names\n",
    "df2015['transcript_id'] = df2015['attributes'].apply(extract_transcript_id)"
   ]
  },
  {
   "cell_type": "markdown",
   "metadata": {},
   "source": [
    "### 2016 Dataset"
   ]
  },
  {
   "cell_type": "code",
   "execution_count": 5,
   "metadata": {},
   "outputs": [],
   "source": [
    "# Define the column names for the GTF file\n",
    "column_names = [\"seqname\", \"source\", \"feature\", \"start\", \"end\", \"score\", \"strand\", \"frame\", \"attributes\"]\n",
    "\n",
    "# Load the GTF file\n",
    "df2016 = pd.read_csv('../../../../data/bernardo/processed/03.gene_and_transcripts_descriptive_stats/number_of_newly_annotated_transcripts_per_year/Homo_sapiens.GRCh38.88.gtf',\n",
    "                     sep='\\t', comment='#', names=column_names, low_memory=False)\n",
    "\n",
    "# Parse the \"attributes\" column to extract the transcript names\n",
    "df2016['transcript_id'] = df2016['attributes'].apply(extract_transcript_id)"
   ]
  },
  {
   "cell_type": "markdown",
   "metadata": {},
   "source": [
    "### 2017 Dataset"
   ]
  },
  {
   "cell_type": "code",
   "execution_count": 6,
   "metadata": {},
   "outputs": [],
   "source": [
    "# Define the column names for the GTF file\n",
    "column_names = [\"seqname\", \"source\", \"feature\", \"start\", \"end\", \"score\", \"strand\", \"frame\", \"attributes\"]\n",
    "\n",
    "# Load the GTF file\n",
    "df2017 = pd.read_csv('../../../../data/bernardo/processed/03.gene_and_transcripts_descriptive_stats/number_of_newly_annotated_transcripts_per_year/Homo_sapiens.GRCh38.92.gtf',\n",
    "                     sep='\\t', comment='#', names=column_names, low_memory=False)\n",
    "\n",
    "# Parse the \"attributes\" column to extract the transcript names\n",
    "df2017['transcript_id'] = df2017['attributes'].apply(extract_transcript_id)"
   ]
  },
  {
   "cell_type": "markdown",
   "metadata": {},
   "source": [
    "### 2018 Dataset"
   ]
  },
  {
   "cell_type": "code",
   "execution_count": 7,
   "metadata": {},
   "outputs": [],
   "source": [
    "# Define the column names for the GTF file\n",
    "column_names = [\"seqname\", \"source\", \"feature\", \"start\", \"end\", \"score\", \"strand\", \"frame\", \"attributes\"]\n",
    "\n",
    "# Load the GTF file\n",
    "df2018 = pd.read_csv('../../../../data/bernardo/processed/03.gene_and_transcripts_descriptive_stats/number_of_newly_annotated_transcripts_per_year/Homo_sapiens.GRCh38.96.gtf', \n",
    "                     sep='\\t', comment='#', names=column_names, low_memory=False)\n",
    "\n",
    "# Parse the \"attributes\" column to extract the transcript names\n",
    "df2018['transcript_id'] = df2018['attributes'].apply(extract_transcript_id)"
   ]
  },
  {
   "cell_type": "markdown",
   "metadata": {},
   "source": [
    "### 2019 Dataset"
   ]
  },
  {
   "cell_type": "code",
   "execution_count": 8,
   "metadata": {},
   "outputs": [],
   "source": [
    "# Define the column names for the GTF file\n",
    "column_names = [\"seqname\", \"source\", \"feature\", \"start\", \"end\", \"score\", \"strand\", \"frame\", \"attributes\"]\n",
    "\n",
    "# Load the GTF file\n",
    "df2019 = pd.read_csv('../../../../data/bernardo/processed/03.gene_and_transcripts_descriptive_stats/number_of_newly_annotated_transcripts_per_year/Homo_sapiens.GRCh38.100.gtf', \n",
    "                     sep='\\t', comment='#', names=column_names, low_memory=False)\n",
    "\n",
    "# Parse the \"attributes\" column to extract the transcript names\n",
    "df2019['transcript_id'] = df2019['attributes'].apply(extract_transcript_id)"
   ]
  },
  {
   "cell_type": "markdown",
   "metadata": {},
   "source": [
    "### 2020 Dataset"
   ]
  },
  {
   "cell_type": "code",
   "execution_count": 9,
   "metadata": {},
   "outputs": [],
   "source": [
    "# Define the column names for the GTF file\n",
    "column_names = [\"seqname\", \"source\", \"feature\", \"start\", \"end\", \"score\", \"strand\", \"frame\", \"attributes\"]\n",
    "\n",
    "# Load the GTF file\n",
    "df2020 = pd.read_csv('../../../../data/bernardo/processed/03.gene_and_transcripts_descriptive_stats/number_of_newly_annotated_transcripts_per_year/Homo_sapiens.GRCh38.104.gtf', \n",
    "                     sep='\\t', comment='#', names=column_names, low_memory=False)\n",
    "\n",
    "# Parse the \"attributes\" column to extract the transcript names\n",
    "df2020['transcript_id'] = df2020['attributes'].apply(extract_transcript_id)"
   ]
  },
  {
   "cell_type": "markdown",
   "metadata": {},
   "source": [
    "### 2021 Dataset"
   ]
  },
  {
   "cell_type": "code",
   "execution_count": 10,
   "metadata": {},
   "outputs": [],
   "source": [
    "# Define the column names for the GTF file\n",
    "column_names = [\"seqname\", \"source\", \"feature\", \"start\", \"end\", \"score\", \"strand\", \"frame\", \"attributes\"]\n",
    "\n",
    "# Load the GTF file\n",
    "df2021 = pd.read_csv('../../../../data/bernardo/processed/03.gene_and_transcripts_descriptive_stats/number_of_newly_annotated_transcripts_per_year/Homo_sapiens.GRCh38.106.gtf', \n",
    "                     sep='\\t', comment='#', names=column_names, low_memory=False)\n",
    "\n",
    "# Parse the \"attributes\" column to extract the transcript names\n",
    "df2021['transcript_id'] = df2021['attributes'].apply(extract_transcript_id)"
   ]
  },
  {
   "cell_type": "markdown",
   "metadata": {},
   "source": [
    "### 2022 Dataset"
   ]
  },
  {
   "cell_type": "code",
   "execution_count": 11,
   "metadata": {},
   "outputs": [],
   "source": [
    "# Define the column names for the GTF file\n",
    "column_names = [\"seqname\", \"source\", \"feature\", \"start\", \"end\", \"score\", \"strand\", \"frame\", \"attributes\"]\n",
    "\n",
    "# Load the GTF file\n",
    "df2022 = pd.read_csv('../../../../data/bernardo/processed/03.gene_and_transcripts_descriptive_stats/number_of_newly_annotated_transcripts_per_year/Homo_sapiens.GRCh38.109.gtf', \n",
    "                     sep='\\t', comment='#', names=column_names, low_memory=False)\n",
    "\n",
    "# Parse the \"attributes\" column to extract the transcript names\n",
    "df2022['transcript_id'] = df2022['attributes'].apply(extract_transcript_id)"
   ]
  },
  {
   "cell_type": "markdown",
   "metadata": {},
   "source": [
    "#### Add years column to dataframes"
   ]
  },
  {
   "cell_type": "code",
   "execution_count": 12,
   "metadata": {},
   "outputs": [],
   "source": [
    "df2014['Year'] = 2014\n",
    "df2015['Year'] = 2015\n",
    "df2016['Year'] = 2016\n",
    "df2017['Year'] = 2017\n",
    "df2018['Year'] = 2018\n",
    "df2019['Year'] = 2019\n",
    "df2020['Year'] = 2020\n",
    "df2021['Year'] = 2021\n",
    "df2022['Year'] = 2022"
   ]
  },
  {
   "cell_type": "code",
   "execution_count": 13,
   "metadata": {},
   "outputs": [],
   "source": [
    "df2014 = df2014.loc[df2014[\"seqname\"].isin(df2015[\"seqname\"])].copy()"
   ]
  },
  {
   "cell_type": "markdown",
   "metadata": {},
   "source": [
    "#### Dataframe of transcriptID's and year of each year"
   ]
  },
  {
   "cell_type": "code",
   "execution_count": 14,
   "metadata": {},
   "outputs": [],
   "source": [
    "\n",
    "trans_df2014 = pd.merge(df2014['transcript_id'], df2014['Year'],left_index=True, right_index=True)\n",
    "trans_df2015 = pd.merge(df2015['transcript_id'], df2015['Year'],left_index=True, right_index=True)\n",
    "trans_df2016 = pd.merge(df2016['transcript_id'], df2016['Year'],left_index=True, right_index=True)\n",
    "trans_df2017 = pd.merge(df2017['transcript_id'], df2017['Year'],left_index=True, right_index=True)\n",
    "trans_df2018 = pd.merge(df2018['transcript_id'], df2018['Year'],left_index=True, right_index=True)\n",
    "trans_df2019 = pd.merge(df2019['transcript_id'], df2019['Year'],left_index=True, right_index=True)\n",
    "trans_df2020 = pd.merge(df2020['transcript_id'], df2020['Year'],left_index=True, right_index=True)\n",
    "trans_df2021 = pd.merge(df2021['transcript_id'], df2021['Year'],left_index=True, right_index=True)\n",
    "trans_df2022 = pd.merge(df2022['transcript_id'], df2022['Year'],left_index=True, right_index=True)\n",
    "\n"
   ]
  },
  {
   "cell_type": "markdown",
   "metadata": {},
   "source": [
    "### Number of uniqius"
   ]
  },
  {
   "cell_type": "code",
   "execution_count": 15,
   "metadata": {},
   "outputs": [],
   "source": [
    "\n",
    "unique_count2014 = trans_df2014['transcript_id'].nunique()\n",
    "unique_count2015 = trans_df2015['transcript_id'].nunique()\n",
    "unique_count2016 = trans_df2016['transcript_id'].nunique()\n",
    "unique_count2017 = trans_df2017['transcript_id'].nunique()\n",
    "unique_count2018 = trans_df2018['transcript_id'].nunique()\n",
    "unique_count2019 = trans_df2019['transcript_id'].nunique()\n",
    "unique_count2020 = trans_df2020['transcript_id'].nunique()\n",
    "unique_count2021 = trans_df2021['transcript_id'].nunique()\n",
    "unique_count2022 = trans_df2022['transcript_id'].nunique()"
   ]
  },
  {
   "cell_type": "code",
   "execution_count": 16,
   "metadata": {},
   "outputs": [],
   "source": [
    "## define ggplot colors\n",
    "ggplot2_colors = [\"#F8766D\", \"#CD9600\", \"#7CAE00\", \"#00BE67\", \"#00BFC4\", \"#00A9FF\", \"#C77CFF\", \"#FF61CC\"]\n",
    "\n",
    "## Set parameters for figures\n",
    "from matplotlib import rcParams\n",
    "mm = (1/25.4)\n",
    "\n",
    "# figure size in inches\n",
    "rcParams['figure.figsize'] = (59*mm, 64*mm)\n",
    "rcParams.update({'font.size': 5.4})\n",
    "rcParams['axes.linewidth'] = 1"
   ]
  },
  {
   "cell_type": "markdown",
   "metadata": {},
   "source": [
    "### Bar chart of Total Number of Transcript Names per Year"
   ]
  },
  {
   "cell_type": "code",
   "execution_count": 17,
   "metadata": {},
   "outputs": [
    {
     "data": {
      "image/png": "[encoded data removed]",
      "text/plain": [
       "<Figure size 232.283x251.969 with 1 Axes>"
      ]
     },
     "metadata": {},
     "output_type": "display_data"
    }
   ],
   "source": [
    "# Sample list of numbers\n",
    "transcripts = [unique_count2014, unique_count2015, unique_count2016, unique_count2017, unique_count2018,\n",
    "           unique_count2019, unique_count2020, unique_count2021, unique_count2022]\n",
    "\n",
    "# Create a Pandas Series from the list\n",
    "years = [2014, 2015, 2016, 2017, 2018, 2019, 2020, 2021, 2022]\n",
    "\n",
    "# Plot the bar chart\n",
    "plt.bar(years, transcripts, color=ggplot2_colors[0])\n",
    "plt.xlabel(\"Year\")\n",
    "plt.ylabel('Number of Transcripts')\n",
    "\n",
    "plt.savefig('../../../../figures/bernardo/03.gene_and_transcripts_descriptive_stats/number_of_newly_annotated_transcripts_per_year/number_of_transcripts_per_year.png',\n",
    "            dpi=1200, transparent=True, bbox_inches=\"tight\")\n",
    "\n",
    "plt.savefig('../../../../figures/bernardo/03.gene_and_transcripts_descriptive_stats/number_of_newly_annotated_transcripts_per_year/number_of_transcripts_per_year.svg',\n",
    "            dpi=1200, transparent=True, bbox_inches=\"tight\")"
   ]
  },
  {
   "cell_type": "markdown",
   "metadata": {},
   "source": [
    "#### Bar Graph of Total Percentage Transcript Names Since 2014"
   ]
  },
  {
   "cell_type": "code",
   "execution_count": 18,
   "metadata": {},
   "outputs": [
    {
     "data": {
      "image/png": "[encoded data removed]",
      "text/plain": [
       "<Figure size 232.283x251.969 with 1 Axes>"
      ]
     },
     "metadata": {},
     "output_type": "display_data"
    }
   ],
   "source": [
    "# List of percentage per year\n",
    "unique_count2014Perc = ( (unique_count2014/unique_count2014) * 100) - 100\n",
    "unique_count2015Perc = ( (unique_count2015/unique_count2014) * 100) - 100\n",
    "unique_count2016Perc = ( (unique_count2016/unique_count2014) * 100) - 100\n",
    "unique_count2017Perc = ( (unique_count2017/unique_count2014) * 100) - 100\n",
    "unique_count2018Perc = ( (unique_count2018/unique_count2014) * 100) - 100\n",
    "unique_count2019Perc = ( (unique_count2019/unique_count2014) * 100) - 100\n",
    "unique_count2020Perc = ( (unique_count2020/unique_count2014) * 100) - 100\n",
    "unique_count2021Perc = ( (unique_count2021/unique_count2014) * 100) - 100\n",
    "unique_count2022Perc = ( (unique_count2022/unique_count2014) * 100) - 100\n",
    "\n",
    "transcriptsPercentage = [ unique_count2014Perc,\n",
    "                         unique_count2015Perc, unique_count2016Perc, unique_count2017Perc,\n",
    "                         unique_count2018Perc, unique_count2019Perc, unique_count2020Perc,\n",
    "                         unique_count2021Perc, unique_count2022Perc]\n",
    "\n",
    "\n",
    "# List of years\n",
    "years = [ 2014, 2015, 2016, 2017, 2018, 2019, 2020, 2021, 2022]\n",
    "\n",
    "# Plot the bar chart\n",
    "plt.bar(years, transcriptsPercentage, color=ggplot2_colors[0])\n",
    "plt.xlabel(\"Year\")\n",
    "plt.ylabel('% Increase in number of transcripts since 2014')\n",
    "\n",
    "# Adjust whitespace inside the border\n",
    "plt.ylim(0, max(transcriptsPercentage) * 1.1)  # Increase the y-axis limits to add whitespace\n",
    "\n",
    "for x, y, p in zip(years, transcriptsPercentage, transcriptsPercentage):\n",
    "    plt.text(x, y, f'{p:.1f}%', ha='center', va='bottom')\n",
    "    \n",
    "    \n",
    "plt.savefig('../../../../figures/bernardo/03.gene_and_transcripts_descriptive_stats/number_of_newly_annotated_transcripts_per_year/percent_increase_transcripts_per_year.png',\n",
    "            dpi=1200, transparent=True, bbox_inches=\"tight\")\n",
    "\n",
    "plt.savefig('../../../../figures/bernardo/03.gene_and_transcripts_descriptive_stats/number_of_newly_annotated_transcripts_per_year/percent_increase_transcripts_per_year.svg',\n",
    "            dpi=1200, transparent=True, bbox_inches=\"tight\")"
   ]
  },
  {
   "cell_type": "markdown",
   "metadata": {},
   "source": [
    "## DataFrame of all transcrips names's and years"
   ]
  },
  {
   "cell_type": "code",
   "execution_count": 19,
   "metadata": {},
   "outputs": [],
   "source": [
    "fulltrans_df = pd.merge(trans_df2014, trans_df2015, how='outer')\n",
    "\n",
    "for num in range(2016, 2023):  # Updated the range to loop from 2011 to 2022 (inclusive)\n",
    "    trans_df = globals()[\"trans_df\" + str(num)]  \n",
    "    fulltrans_df = pd.merge(fulltrans_df, trans_df, how='outer')\n"
   ]
  },
  {
   "cell_type": "markdown",
   "metadata": {},
   "source": [
    "### Filter out Null Values in transcriptID's"
   ]
  },
  {
   "cell_type": "code",
   "execution_count": 20,
   "metadata": {},
   "outputs": [],
   "source": [
    "fulltrans_df = fulltrans_df.dropna(subset=['transcript_id'])"
   ]
  },
  {
   "cell_type": "markdown",
   "metadata": {},
   "source": [
    "### Keep transcriptID by the year they were put in the dataset"
   ]
  },
  {
   "cell_type": "code",
   "execution_count": 21,
   "metadata": {},
   "outputs": [],
   "source": [
    "# Sort the dataframe by 'Year' in ascending order\n",
    "fulltrans_df = fulltrans_df.sort_values('Year')\n",
    "\n",
    "# Group by 'ID' and keep only the first row in each group (earliest year)\n",
    "fulltrans_df = fulltrans_df.groupby('transcript_id').first().reset_index()\n",
    "fulltrans_df = fulltrans_df.sort_values('Year')"
   ]
  },
  {
   "cell_type": "markdown",
   "metadata": {},
   "source": [
    "## Number of transcript_id Added per Year"
   ]
  },
  {
   "cell_type": "code",
   "execution_count": 22,
   "metadata": {
    "scrolled": true
   },
   "outputs": [
    {
     "data": {
      "image/png": "[encoded data removed]",
      "text/plain": [
       "<Figure size 232.283x251.969 with 1 Axes>"
      ]
     },
     "metadata": {},
     "output_type": "display_data"
    }
   ],
   "source": [
    "\n",
    "# Convert 'Year' column to numeric\n",
    "fulltrans_df['Year'] = pd.to_numeric(fulltrans_df['Year'], errors='coerce')\n",
    "\n",
    "# Group by year and count the number of 'transcript_id'\n",
    "df_count = fulltrans_df.groupby('Year')['transcript_id'].count()\n",
    "\n",
    "df_count = df_count.loc[df_count.index != 2014].copy()\n",
    "\n",
    "# Plot the bar chart\n",
    "ax = df_count.plot(kind='bar', color=ggplot2_colors[0])\n",
    "\n",
    "# Customize the chart labels and title\n",
    "plt.xlabel('Year')\n",
    "plt.ylabel('Number of transcripts')\n",
    "\n",
    "## Increase y-axis limits\n",
    "plt.ylim(0, 22000)\n",
    "\n",
    "## Add number labesl to bars\n",
    "for container in ax.containers:\n",
    "    ax.bar_label(container, padding=1)\n",
    "\n",
    "\n",
    "plt.savefig('../../../../figures/bernardo/03.gene_and_transcripts_descriptive_stats/number_of_newly_annotated_transcripts_per_year/number_of_transcripts_added_per_year.png',\n",
    "            dpi=1200, transparent=True, bbox_inches=\"tight\")\n",
    "\n",
    "plt.savefig('../../../../figures/bernardo/03.gene_and_transcripts_descriptive_stats/number_of_newly_annotated_transcripts_per_year/number_of_transcripts_added_per_year.svg',\n",
    "            dpi=1200, transparent=True, bbox_inches=\"tight\")"
   ]
  }
 ],
 "metadata": {
  "kernelspec": {
   "display_name": "Python 3 (ipykernel)",
   "language": "python",
   "name": "python3"
  },
  "language_info": {
   "codemirror_mode": {
    "name": "ipython",
    "version": 3
   },
   "file_extension": ".py",
   "mimetype": "text/x-python",
   "name": "python",
   "nbconvert_exporter": "python",
   "pygments_lexer": "ipython3",
   "version": "3.10.10"
  }
 },
 "nbformat": 4,
 "nbformat_minor": 2
}
