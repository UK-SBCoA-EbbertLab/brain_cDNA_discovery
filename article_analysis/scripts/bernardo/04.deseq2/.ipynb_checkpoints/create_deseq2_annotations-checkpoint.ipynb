{
 "cells": [
  {
   "cell_type": "markdown",
   "id": "af0d894b",
   "metadata": {},
   "source": [
    "# Create DESEQ2 annotations\n",
    "\n",
    "\n",
    "##  - Create sample condition dataframe.\n",
    "\n",
    "## - Gene level counts matrix.\n",
    "\n",
    "## - Transcript level counts matrix.\n",
    "\n",
    "\n",
    "## - Create two aditional transcript count matrices\n",
    "\n",
    "###     -- Transcripts from genes with 2+ transcripts expressed at median CPM > 1\n",
    "\n",
    "\n",
    "###     -- Transcripts from med-relevant genes with 2+ transcripts expressed at median CPM > 1\n",
    "\n",
    "\n",
    "\n",
    "###     -- Gene level counts for all AD related genes\n",
    "\n",
    "###     -- Transcript level counts for all AD related genes\n",
    "\n",
    "\n",
    "\n",
    "###     -- Full length counts for all novel mitochondrial transcripts\n",
    "\n",
    "###      --- Unique counts for all novel mitochondrial transcripts"
   ]
  },
  {
   "cell_type": "markdown",
   "id": "7fca49c1",
   "metadata": {},
   "source": [
    "# Library Import and Functions"
   ]
  },
  {
   "cell_type": "code",
   "execution_count": 1,
   "id": "2e7c2845",
   "metadata": {},
   "outputs": [],
   "source": [
    "## Import Libraries\n",
    "import pandas as pd\n",
    "import numpy as np\n",
    "from matplotlib_venn import venn2, venn2_circles, venn2_unweighted\n",
    "from matplotlib_venn import venn3, venn3_circles\n",
    "from matplotlib import pyplot as plt\n",
    "%matplotlib inline\n",
    "import seaborn as sns\n",
    "from wordcloud import WordCloud\n",
    "from scipy import stats\n",
    "\n",
    "\n",
    "## Display all rows of pandas dataframes\n",
    "pd.set_option('display.max_rows', None)\n",
    "pd.set_option('display.max_colwidth', None)"
   ]
  },
  {
   "cell_type": "code",
   "execution_count": 2,
   "id": "dcc9fb7f",
   "metadata": {},
   "outputs": [],
   "source": [
    "'''\n",
    "function name: get_real_transcript_length\n",
    "\n",
    "purpose: create dataframe containing exonic transcript length and transcript_id\n",
    "\n",
    "input: bambu gtf file\n",
    "\n",
    "output: dataframe with two columns, transcript_id and real_transcript_length\n",
    "'''\n",
    "\n",
    "def get_real_transcript_length(annotation):\n",
    "    \n",
    "    annotation = parse_df_columns(annotation, is_ref=False)\n",
    "    \n",
    "    annotation[\"real_transcript_length\"] = abs(annotation[\"end\"] - annotation[\"start\"])\n",
    "    \n",
    "    exon_annotation = annotation.loc[annotation[\"type\"] == \"exon\"][[\"transcript_id\", \"real_transcript_length\"]].copy()\n",
    "    \n",
    "    df_transcript_length = exon_annotation.groupby(\"transcript_id\").sum()\n",
    "    \n",
    "    df_transcript_length.reset_index(inplace=True)\n",
    "    \n",
    "    return df_transcript_length    "
   ]
  },
  {
   "cell_type": "code",
   "execution_count": 3,
   "id": "f27e634a",
   "metadata": {},
   "outputs": [],
   "source": [
    "'''\n",
    "name: relative_transcript_abundance\n",
    "\n",
    "purpose: calculate relative transcript abundance\n",
    "\n",
    "input: a dataframe with a ref_gene_id column identifying the transcript gene of origin and a cov columns with \n",
    "the coverage for the transcripts.\n",
    "\n",
    "output: the same dataframe with a relative abundance column added\n",
    "'''\n",
    "\n",
    "\n",
    "\n",
    "def relative_transcript_abundance(df):\n",
    "    \n",
    "    df_sums = df[[\"gene_id\", \"total_CPM\"]].groupby(\"gene_id\").sum()\n",
    "    \n",
    "    df_sums[\"total_CPM_gene\"] = df_sums[\"total_CPM\"]\n",
    "\n",
    "    df_sums.drop(columns=\"total_CPM\", inplace=True)\n",
    "    \n",
    "    merged_df = pd.merge(df, df_sums, how='inner', on=\"gene_id\")\n",
    "    \n",
    "    merged_df[\"relative_abundance_percent\"] = ((merged_df[\"total_CPM\"]/merged_df[\"total_CPM_gene\"]) * 100)\n",
    "    \n",
    "    merged_df[\"total_CPM_transcript\"] = merged_df[\"total_CPM\"]\n",
    "    \n",
    "    merged_df.drop(columns=\"total_CPM\", inplace=True)\n",
    "\n",
    "\n",
    "    return merged_df"
   ]
  },
  {
   "cell_type": "code",
   "execution_count": 4,
   "id": "a6446e95",
   "metadata": {},
   "outputs": [],
   "source": [
    "'''\n",
    "function name: fix_column_names\n",
    "\n",
    "purpose: Fixing the column names, making them smaller, informative, and consistent\n",
    "\n",
    "input: The raw counts dataframe for either genes or transcripts \n",
    "\n",
    "output: Same dataframe with improved column names\n",
    "'''\n",
    "\n",
    "def fix_column_names(df, is_gene=False):\n",
    "    \n",
    "    ## Check if this is a gene counts object\n",
    "    if is_gene:\n",
    "        \n",
    "        ## Get count column names and create list of new column names\n",
    "        count_columns = df.columns[1:].tolist()\n",
    "        list_new_names = [\"gene_id\"]\n",
    "    \n",
    "    ## If it is a transcript dataset\n",
    "    else:\n",
    "        ## Set count columns and create list of new names\n",
    "        count_columns = df.columns[2:].tolist()\n",
    "        list_new_names = [ \"transcript_id\", \"gene_id\"]\n",
    "    \n",
    "    ## Fix names one by one and add to list of new names\n",
    "    for col in count_columns:\n",
    "        col = col.split(\"_mapped\")[0]\n",
    "        list_new_names.append(col)\n",
    "    \n",
    "    ## Rename columns\n",
    "    df.columns = list_new_names\n",
    "    \n",
    "    return df "
   ]
  },
  {
   "cell_type": "code",
   "execution_count": 5,
   "id": "143176a3",
   "metadata": {},
   "outputs": [],
   "source": [
    "'''\n",
    "function name: parse_df_columns\n",
    "\n",
    "purpose: parsing the last aggregate column of the gtf/gff3 into useful columns and cleaning non-relevant columns\n",
    "\n",
    "input: dataframe containining \"raw\" gtf/gff\n",
    "\n",
    "output: dataframe containing gtf with useful columns [\"gene_id\", \"transcript_id\", etc...]\n",
    "'''\n",
    "\n",
    "def parse_df_columns(df, is_ref=True, is_transcript=False, is_prot=False):\n",
    "\n",
    "    if is_ref:\n",
    "\n",
    "        ## Get gene ids\n",
    "        df[\"gene_id\"] = df[\"other\"].str.split('\";', expand=True)[0].str.extract(\"([^ \\\"]*$)\", expand=True)\n",
    "        \n",
    "        ## Get gene names\n",
    "        df[\"gene_name\"] = df[\"other\"].str.split(\"gene_name \\\"\", expand=True)[1].str.split('\\\";', expand=True)[0]\n",
    "        \n",
    "        ## Get get transcript biotype\n",
    "        df[\"gene_biotype\"] = df[\"other\"].str.split('gene_biotype \"', expand=True)[1].str.split('\"', expand=True)[0]\n",
    "        \n",
    "        ## If is transcript get transcript id and transcript biotype\n",
    "        if is_transcript:\n",
    "            df[\"transcript_id\"] = df[\"other\"].str.split('transcript_id \"', expand=True)[1].str.split('\"', expand=True)[0]\n",
    "            df[\"transcript_biotype\"] = df[\"other\"].str.split('transcript_biotype \"', expand=True)[1].str.split('\"', expand=True)[0]\n",
    "            \n",
    "            ## If is prot get protein_id\n",
    "            if is_prot:\n",
    "                df[\"protein_id\"] = df[\"other\"].str.split('protein_id \"', expand=True)[1].str.split('\"', expand=True)[0]\n",
    "                df[\"ccds_id\"] = df[\"other\"].str.split('ccds_id \"', expand=True)[1].str.split('\"', expand=True)[0]\n",
    "                df[\"exon_number\"] = df[\"other\"].str.split('exon_number \"', expand=True)[1].str.split('\"', expand=True)[0]\n",
    "\n",
    "        ## Drop \"other\" column\n",
    "        df.drop(columns=[\"other\", \"dot_1\", \"dot_2\"], inplace=True)\n",
    "        \n",
    "\n",
    "    else:\n",
    "\n",
    "        ## Get gene ids\n",
    "        df[\"gene_id\"] = df[\"other\"].str.split('\";', expand=True)[0].str.extract(\"([^ \\\"]*$)\", expand=True)\n",
    "\n",
    "        ## Get transcript ids\n",
    "        df[\"transcript_id\"] = df[\"other\"].str.split('transcript_id \"', expand=True)[1].str.split('\"', expand=True)[0]\n",
    "\n",
    "        ## Get exon number\n",
    "        df[\"exon_number\"] = df[\"other\"].str.split('exon_number \"', expand=True)[1].str.split('\"', expand=True)[0]\n",
    "\n",
    "        ## Drop \"other\" column\n",
    "        df.drop(columns=[\"other\", \"dot_1\", \"dot_2\"], inplace=True)\n",
    "\n",
    "    for col in df.columns:\n",
    "        df.loc[df[col].isnull(), col] = np.NaN\n",
    "        \n",
    "\n",
    "    return df"
   ]
  },
  {
   "cell_type": "code",
   "execution_count": 6,
   "id": "b1117a08",
   "metadata": {},
   "outputs": [],
   "source": [
    "'''\n",
    "function name: calculate_cpm\n",
    "\n",
    "purpose: Calculate CPM for the each sample given\n",
    "\n",
    "input: Counts dataset\n",
    "\n",
    "output: Counts dataset with CPM columns as well\n",
    "'''\n",
    "\n",
    "def calculate_cpm(df, is_gene=False):\n",
    "\n",
    "    ## Set count columns if dataframe is gene counts\n",
    "    if is_gene:\n",
    "        count_columns = df.columns[1:].tolist()\n",
    "    \n",
    "    ## Set count columns if dataframe is transcript counts\n",
    "    else:\n",
    "        count_columns = df.columns[2:].tolist()\n",
    "\n",
    "    ## Loop through counts columns to calculate CPM and add to the dataframe\n",
    "    for col in count_columns:\n",
    "        \n",
    "        df[col] = round(df[col], 2)\n",
    "        cpm_name = col + \"_CPM\"\n",
    "        df[cpm_name] = round(((df[col]/(df[col].sum())) * 1000000), 2)\n",
    "    \n",
    "    return df  "
   ]
  },
  {
   "cell_type": "markdown",
   "id": "2d5e0928",
   "metadata": {},
   "source": [
    "# Import data"
   ]
  },
  {
   "cell_type": "code",
   "execution_count": 7,
   "id": "babe869f",
   "metadata": {},
   "outputs": [],
   "source": [
    "## Bambu counts matrix\n",
    "df_transcript = pd.read_csv(\"../../../data/bernardo/raw/ad_vs_ct_pilot_study_february_2023_GRCh38-107_discovery/bambu_discovery/counts_transcript.txt\", \n",
    "                           delimiter=\"\\t\", low_memory=False, header=0)\n",
    "\n",
    "## Import gene level bambu counts matrix\n",
    "df_gene =  pd.read_csv(\"../../../data/bernardo/raw/ad_vs_ct_pilot_study_february_2023_GRCh38-107_discovery/bambu_discovery/counts_gene.txt\", \n",
    "                           delimiter=\"\\t\", low_memory=False, header=0)"
   ]
  },
  {
   "cell_type": "code",
   "execution_count": 8,
   "id": "003326e4",
   "metadata": {},
   "outputs": [],
   "source": [
    "## Fix column names\n",
    "df_transcript_output = fix_column_names(df_transcript.copy(), is_gene=False)\n",
    "\n",
    "df_gene_output = fix_column_names(df_gene.copy(), is_gene=True)"
   ]
  },
  {
   "cell_type": "code",
   "execution_count": 9,
   "id": "985ff076",
   "metadata": {},
   "outputs": [],
   "source": [
    "df_gene_output.loc[df_gene_output[\"gene_id\"] == \"ENSG00000203710\"]"
   ]
  },
  {
   "cell_type": "code",
   "execution_count": 10,
   "id": "c1a137dc",
   "metadata": {},
   "outputs": [],
   "source": [
    "df_transcript_output.loc[df_transcript_output[\"gene_id\"] == \"ENSG00000203710\"][\"sample_5356_PAM42933\"].sum()"
   ]
  },
  {
   "cell_type": "code",
   "execution_count": 11,
   "id": "a138d37a",
   "metadata": {},
   "outputs": [],
   "source": [
    "df_gene_output.loc[df_gene_output[\"gene_id\"] == \"ENSG00000186868\"][\"sample_5356_PAM42933\"].sum()"
   ]
  },
  {
   "cell_type": "code",
   "execution_count": 12,
   "id": "9d5149e3",
   "metadata": {},
   "outputs": [],
   "source": [
    "df_transcript_output.loc[df_transcript_output[\"gene_id\"] == \"ENSG00000186868\"][\"sample_5356_PAM42933\"].sum()"
   ]
  },
  {
   "cell_type": "code",
   "execution_count": null,
   "id": "77239634",
   "metadata": {},
   "outputs": [],
   "source": [
    "## Import and parse through extended annotations\n",
    "bambu_ref = pd.read_csv(\"../../../data/bernardo/raw/ad_vs_ct_pilot_study_february_2023_GRCh38-107_discovery/bambu_discovery/extended_annotations.gtf\", header=None, delimiter=\"\\t\",\n",
    "                        low_memory=False, comment=\"#\", names=[\"chr\", \"source\", \"type\", \"start\", \"end\", \"dot_1\", \"strand\", \"dot_2\", \"other\"])\n",
    "\n",
    "bambu_ref = bambu_ref.loc[~bambu_ref[\"chr\"].str.startswith(\"ERCC-\")]\n",
    "\n",
    "bambu_ref = parse_df_columns(bambu_ref, is_ref=False)\n",
    "\n",
    "bambu_ref = bambu_ref.loc[bambu_ref[\"type\"] == \"transcript\"].copy()\n",
    "\n",
    "mito_tid = bambu_ref.loc[bambu_ref[\"chr\"] == \"MT\"][\"transcript_id\"].copy()\n",
    "mito_gid = bambu_ref.loc[bambu_ref[\"chr\"] == \"MT\"][\"gene_id\"].copy()"
   ]
  },
  {
   "cell_type": "markdown",
   "id": "2ad1bb5e",
   "metadata": {},
   "source": [
    "#  - Create sample condition dataframe."
   ]
  },
  {
   "cell_type": "code",
   "execution_count": null,
   "id": "96182653",
   "metadata": {},
   "outputs": [],
   "source": [
    "## Make experimental design table and save it\n",
    "\n",
    "sample_ids = df_transcript_output.columns[2:].to_list()\n",
    "\n",
    "sample_conditions = [\"AD\", \"CT\", \"AD\", \"CT\", \"CT\", \"CT\", \"CT\", \"AD\", \"AD\", \"CT\", \"AD\", \"AD\"]\n",
    "\n",
    "sample_sex = [\"Male\", \"Female\", \"Female\", \"Male\", \"Male\", \"Male\", \"Female\", \"Female\", \"Male\", \n",
    "             \"Female\", \"Female\", \"Male\"]\n",
    "\n",
    "\n",
    "d_condition = {\"sample_id\": sample_ids, \"condition\": sample_conditions, \"sex\": sample_sex}\n",
    "\n",
    "df_experimental_design = pd.DataFrame(data=d_condition)\n",
    "\n",
    "df_experimental_design.to_csv(\"../../../data/bernardo/processed/04.deseq2/experimental_design.tsv\", sep=\"\\t\", \n",
    "                             index=False)"
   ]
  },
  {
   "cell_type": "markdown",
   "id": "ad6f3cf0",
   "metadata": {},
   "source": [
    "# - Gene level counts matrix."
   ]
  },
  {
   "cell_type": "code",
   "execution_count": null,
   "id": "5d2e095a",
   "metadata": {},
   "outputs": [],
   "source": [
    "## Save unfiltered gene dataset\n",
    "\n",
    "df_gene_output[df_gene_output.columns[1:]] = round(df_gene_output[df_gene_output.columns[1:]],0).astype(int).copy()\n",
    "\n",
    "df_gene_output = df_gene_output.loc[~df_gene_output[\"gene_id\"].str.startswith(\"ERCC\")].copy()\n",
    "df_gene_output = df_gene_output.loc[~df_gene_output[\"gene_id\"].isin(mito_gid)].copy()\n",
    "\n",
    "df_gene_output.to_csv(\"../../../data/bernardo/processed/04.deseq2/gene_counts_unfiltered.tsv\", sep=\"\\t\", \n",
    "                             index=False)\n",
    "\n"
   ]
  },
  {
   "cell_type": "code",
   "execution_count": null,
   "id": "7cd25183",
   "metadata": {},
   "outputs": [],
   "source": [
    "## Save unfiltered gene dataset\n",
    "\n",
    "df_transcript_output[df_transcript_output.columns[2:]] = round(df_transcript_output[df_transcript_output.columns[2:]],0).astype(int).copy()\n",
    "\n",
    "df_transcript_output = df_transcript_output.loc[~df_transcript_output[\"transcript_id\"].str.startswith(\"DQ\")]\n",
    "df_transcript_output = df_transcript_output.loc[~df_transcript_output[\"transcript_id\"].isin(mito_tid)].copy()\n",
    "\n",
    "df_transcript_output.drop(columns=\"gene_id\", inplace=True)\n",
    "\n",
    "df_transcript_output.to_csv(\"../../../data/bernardo/processed/04.deseq2/transcript_counts_unfiltered.tsv\", sep=\"\\t\", \n",
    "                             index=False)"
   ]
  },
  {
   "cell_type": "code",
   "execution_count": null,
   "id": "2c3bca65",
   "metadata": {},
   "outputs": [],
   "source": []
  },
  {
   "cell_type": "markdown",
   "id": "b6a99dbb",
   "metadata": {},
   "source": [
    "# - Create two aditional transcript count matrices\n",
    "\n",
    "##     -- Transcripts from genes with 2+ transcripts expressed at median CPM > 1\n",
    "\n",
    "\n",
    "##     -- Transcripts from med-relevant genes with 2+ transcripts expressed at median CPM > 1"
   ]
  },
  {
   "cell_type": "code",
   "execution_count": null,
   "id": "e449e1fc",
   "metadata": {},
   "outputs": [],
   "source": [
    "## Calculate median CPM for transcripts\n",
    "\n",
    "df_transcript_cpm = fix_column_names(df_transcript.copy(), is_gene=False)\n",
    "df_transcript_cpm = calculate_cpm(df_transcript_cpm, is_gene=False)\n",
    "\n",
    "df_transcript_cpm[\"median_CPM\"] = df_transcript_cpm[df_transcript_cpm.filter(regex=\"CPM\").columns].median(axis=1)"
   ]
  },
  {
   "cell_type": "code",
   "execution_count": null,
   "id": "60ffc525",
   "metadata": {},
   "outputs": [],
   "source": [
    "## Only keep transcripts with a median CPM > 1\n",
    "\n",
    "df_transcript_cpm = df_transcript_cpm[[\"gene_id\", \"transcript_id\", \"median_CPM\"]].copy()\n",
    "\n",
    "df_transcript_cpm = df_transcript_cpm.loc[df_transcript_cpm[\"median_CPM\"] > 1].copy()"
   ]
  },
  {
   "cell_type": "code",
   "execution_count": null,
   "id": "da663acc",
   "metadata": {},
   "outputs": [],
   "source": [
    "## Find transcript ids of transcripts from genes with 2+ transcripts at median CPM > 1\n",
    "\n",
    "df_transcript_multiple = df_transcript_cpm.loc[df_transcript_cpm.duplicated(subset=[\"gene_id\"], keep=False)].copy()\n",
    "\n",
    "multiple_transcript_ids = df_transcript_multiple[\"transcript_id\"].copy()"
   ]
  },
  {
   "cell_type": "code",
   "execution_count": null,
   "id": "8b722f6c",
   "metadata": {},
   "outputs": [],
   "source": [
    "## Do the same as above but restricting to medically relevant genes\n",
    "\n",
    "## Import disease relevant genes\n",
    "disease_relevant_genes = pd.read_csv(\"../../../references/bernardo/medically_relevant_genes.tsv\", sep=\"\\t\")\n",
    "\n",
    "\n",
    "df_transcript_multiple_med_relevant = df_transcript_multiple.loc[df_transcript_multiple[\"gene_id\"].isin(\n",
    "                                        disease_relevant_genes[\"gene_id\"])].copy()\n",
    "\n",
    "\n",
    "multiple_transcript_ids_med_relevant = df_transcript_multiple_med_relevant[\"transcript_id\"].copy()"
   ]
  },
  {
   "cell_type": "code",
   "execution_count": null,
   "id": "e760cb70",
   "metadata": {},
   "outputs": [],
   "source": [
    "## Filter transcript output df by the transcript ids defined above and write it to a file\n",
    "\n",
    "\n",
    "df_transcript_output_multiple = df_transcript_output.loc[df_transcript_output[\"transcript_id\"].isin(\n",
    "                                    multiple_transcript_ids)].copy()\n",
    "\n",
    "\n",
    "df_transcript_output_multiple_med_relevant = df_transcript_output.loc[df_transcript_output[\"transcript_id\"].isin(\n",
    "                                    multiple_transcript_ids_med_relevant)].copy()\n",
    "\n",
    "\n",
    "\n",
    "df_transcript_output_multiple.to_csv(\"../../../data/bernardo/processed/04.deseq2/transcript_counts_multiple_median_cpm_1.tsv\",\n",
    "                                     sep=\"\\t\", index=False)\n",
    "\n",
    "\n",
    "df_transcript_output_multiple_med_relevant.to_csv(\"../../../data/bernardo/processed/04.deseq2/transcript_counts_multiple_med_relevant_median_cpm_1.tsv\",\n",
    "                            sep=\"\\t\", index=False)"
   ]
  },
  {
   "cell_type": "markdown",
   "id": "a4687a34",
   "metadata": {},
   "source": [
    "# Gene & Transcript level counts for all AD related genes"
   ]
  },
  {
   "cell_type": "code",
   "execution_count": null,
   "id": "c6165c5a",
   "metadata": {},
   "outputs": [],
   "source": [
    "## Get AD names\n",
    "ad_names = pd.read_csv(\"../../../references/bernardo/AD_gwas_genes.tsv\", sep=\"\\t\")"
   ]
  },
  {
   "cell_type": "code",
   "execution_count": null,
   "id": "bb0d9e70",
   "metadata": {},
   "outputs": [],
   "source": [
    "## Fix column names\n",
    "df_transcript_ad = fix_column_names(df_transcript.copy(), is_gene=False)"
   ]
  },
  {
   "cell_type": "code",
   "execution_count": null,
   "id": "3f8e3a3f",
   "metadata": {},
   "outputs": [],
   "source": [
    "## Fix transcripts \n",
    "df_transcript_ad[df_transcript_ad.columns[2:]] = round(df_transcript_ad[df_transcript_ad.columns[2:]],0).astype(int).copy()\n",
    "\n",
    "df_transcript_ad = df_transcript_ad.loc[~df_transcript_ad[\"transcript_id\"].str.startswith(\"DQ\")]\n",
    "df_transcript_ad = df_transcript_ad.loc[~df_transcript_ad[\"transcript_id\"].isin(mito_tid)].copy()\n",
    "\n",
    "\n",
    "df_transcript_ad = df_transcript_ad.merge(ad_names, on=\"gene_id\", how=\"inner\")\n",
    "df_transcript_ad.sort_values(by=\"gene_name\", inplace=True)"
   ]
  },
  {
   "cell_type": "code",
   "execution_count": null,
   "id": "8bbb2e81",
   "metadata": {},
   "outputs": [],
   "source": [
    "## Create transcript id to gene name converter\n",
    "transcript_converter = df_transcript_ad[[\"gene_name\", \"gene_id\", \"transcript_id\"]].copy()"
   ]
  },
  {
   "cell_type": "code",
   "execution_count": null,
   "id": "1a8930ef",
   "metadata": {},
   "outputs": [],
   "source": [
    "## Add chromosome to transcript converter\n",
    "bambu_ref_chr = bambu_ref[[\"gene_id\", \"chr\"]].copy().drop_duplicates()\n",
    "\n",
    "transcript_converter = transcript_converter.merge(bambu_ref_chr, on=\"gene_id\", how=\"inner\").drop_duplicates()"
   ]
  },
  {
   "cell_type": "code",
   "execution_count": null,
   "id": "9403f491",
   "metadata": {},
   "outputs": [],
   "source": [
    "## Put counts in format for DESEQ2 and save it\n",
    "\n",
    "df_transcript_ad.drop(columns=[\"gene_id\", \"gene_name\"], inplace=True)\n",
    "\n",
    "df_transcript_ad.to_csv(\"../../../data/bernardo/processed/04.deseq2/AD_transcript_counts.tsv\", sep=\"\\t\", index=False)\n",
    "transcript_converter.to_csv(\"../../../data/bernardo/processed/04.deseq2/AD_transcript_converter.tsv\", sep=\"\\t\", index=False)"
   ]
  },
  {
   "cell_type": "code",
   "execution_count": null,
   "id": "f4c4b7ef",
   "metadata": {},
   "outputs": [],
   "source": [
    "## Fix column names\n",
    "df_gene_ad = fix_column_names(df_gene.copy(), is_gene=True)"
   ]
  },
  {
   "cell_type": "code",
   "execution_count": null,
   "id": "0a8c571c",
   "metadata": {},
   "outputs": [],
   "source": [
    "## Fix transcripts \n",
    "df_gene_ad[df_gene_ad.columns[1:]] = round(df_gene_ad[df_gene_ad.columns[1:]],0).astype(int).copy()\n",
    "\n",
    "df_gene_ad = df_gene_ad.loc[~df_gene_ad[\"gene_id\"].str.startswith(\"ERCC\")]\n",
    "df_gene_ad = df_gene_ad.loc[~df_gene_ad[\"gene_id\"].isin(mito_gid)].copy()\n",
    "\n",
    "\n",
    "df_gene_ad = df_gene_ad.merge(ad_names, on=\"gene_id\", how=\"inner\")\n",
    "df_gene_ad.sort_values(by=\"gene_name\", inplace=True)"
   ]
  },
  {
   "cell_type": "code",
   "execution_count": null,
   "id": "72153310",
   "metadata": {},
   "outputs": [],
   "source": [
    "## Create transcript id to gene name converter\n",
    "gene_converter = df_gene_ad[[\"gene_name\", \"gene_id\"]].copy()"
   ]
  },
  {
   "cell_type": "code",
   "execution_count": null,
   "id": "0a41ab74",
   "metadata": {},
   "outputs": [],
   "source": [
    "## Add chromosome to gene converter\n",
    "gene_converter = gene_converter.merge(bambu_ref_chr, on=\"gene_id\", how=\"inner\").drop_duplicates()"
   ]
  },
  {
   "cell_type": "code",
   "execution_count": null,
   "id": "65829cb4",
   "metadata": {},
   "outputs": [],
   "source": [
    "df_gene_ad.drop(columns=\"gene_name\", inplace=True)\n",
    "\n",
    "df_gene_ad.to_csv(\"../../../data/bernardo/processed/04.deseq2/AD_gene_counts.tsv\", sep=\"\\t\", index=False)\n",
    "gene_converter.to_csv(\"../../../data/bernardo/processed/04.deseq2/AD_gene_converter.tsv\", sep=\"\\t\", index=False)"
   ]
  },
  {
   "cell_type": "markdown",
   "id": "f99302e8",
   "metadata": {},
   "source": [
    "# Full or unique length counts for all novel mitochondrial transcripts"
   ]
  },
  {
   "cell_type": "code",
   "execution_count": null,
   "id": "03465ce7",
   "metadata": {},
   "outputs": [],
   "source": [
    "df_full_length = pd.read_csv(\"../../../data/bernardo/raw/ad_vs_ct_pilot_study_february_2023_GRCh38-107_discovery/bambu_discovery/fullLengthCounts_transcript.txt\", sep=\"\\t\")\n",
    "\n",
    "df_unique = pd.read_csv(\"../../../data/bernardo/raw/ad_vs_ct_pilot_study_february_2023_GRCh38-107_discovery/bambu_discovery/uniqueCounts_transcript.txt\", sep=\"\\t\")"
   ]
  },
  {
   "cell_type": "code",
   "execution_count": null,
   "id": "f43c8e0a",
   "metadata": {},
   "outputs": [],
   "source": [
    "df_full_length = fix_column_names(df_full_length, is_gene=False)\n",
    "\n",
    "df_unique = fix_column_names(df_unique, is_gene=False)"
   ]
  },
  {
   "cell_type": "code",
   "execution_count": null,
   "id": "dc3758c5",
   "metadata": {},
   "outputs": [],
   "source": [
    "df_full_length_mito = df_full_length.loc[df_full_length[\"transcript_id\"].isin(mito_tid)].copy()\n",
    "df_unique_mito = df_unique.loc[df_unique[\"transcript_id\"].isin(mito_tid)].copy()\n",
    "\n",
    "df_full_length_mito = df_full_length_mito.loc[df_full_length_mito[\"transcript_id\"].str.startswith(\"Bambu\")].copy()\n",
    "df_unique_mito = df_unique_mito.loc[df_unique_mito[\"transcript_id\"].str.startswith(\"Bambu\")].copy()\n",
    "\n",
    "\n",
    "df_full_length_mito[df_full_length_mito.columns[2:]] = round(df_full_length_mito[df_full_length_mito.columns[2:]],0).astype(int).copy()\n",
    "df_unique_mito[df_unique_mito.columns[2:]] = round(df_unique_mito[df_unique_mito.columns[2:]],0).astype(int).copy()\n"
   ]
  },
  {
   "cell_type": "code",
   "execution_count": null,
   "id": "88989ddd",
   "metadata": {},
   "outputs": [],
   "source": [
    "df_full_length_mito.drop(columns=\"gene_id\", inplace=True)\n",
    "\n",
    "df_unique_mito.drop(columns=\"gene_id\", inplace=True)"
   ]
  },
  {
   "cell_type": "code",
   "execution_count": null,
   "id": "7ffceedd",
   "metadata": {},
   "outputs": [],
   "source": [
    "df_full_length_mito.to_csv(\"../../../data/bernardo/processed/04.deseq2/new_mito_full_length.tsv\", sep=\"\\t\", index=False)\n",
    "df_unique_mito.to_csv(\"../../../data/bernardo/processed/04.deseq2/new_mito_unique.tsv\", sep=\"\\t\", index=False)"
   ]
  },
  {
   "cell_type": "markdown",
   "id": "f9407bad",
   "metadata": {},
   "source": [
    "# Make converter for differentially expressed genes and transcripts"
   ]
  },
  {
   "cell_type": "code",
   "execution_count": null,
   "id": "077ee8b3",
   "metadata": {},
   "outputs": [],
   "source": [
    "## Open results files\n",
    "res_gene_AD = pd.read_csv(\"../../../data/bernardo/processed/04.deseq2/genes_filtered_results_AD_vs_CT.csv\")\n",
    "res_trans_AD = pd.read_csv(\"../../../data/bernardo/processed/04.deseq2/filtered_multiple_transcripts_results_AD_vs_CT.csv\")\n",
    "res_trans_med_AD = pd.read_csv(\"../../../data/bernardo/processed/04.deseq2/filtered_med_relevant_multiple_transcripts_results_AD_vs_CT.csv\")\n",
    "\n",
    "res_gene_AD_two = pd.read_csv(\"../../../data/bernardo/processed/04.deseq2/genes_filtered_two_cell_types_results_AD_vs_CT.csv\")\n",
    "res_trans_AD_two = pd.read_csv(\"../../../data/bernardo/processed/04.deseq2/filtered_med_relevant_multiple_transcripts_two_cell_types_results_AD_vs_CT.csv\")\n",
    "res_trans_med_AD_two = pd.read_csv(\"../../../data/bernardo/processed/04.deseq2/filtered_med_relevant_multiple_transcripts_two_cell_types_results_AD_vs_CT.csv\")\n",
    "\n",
    "res_gene_AD_four = pd.read_csv(\"../../../data/bernardo/processed/04.deseq2/genes_filtered_four_cell_types_results_AD_vs_CT.csv\")\n",
    "res_trans_AD_four = pd.read_csv(\"../../../data/bernardo/processed/04.deseq2/filtered_multiple_transcripts_four_cell_types_results_AD_vs_CT.csv\")\n",
    "res_trans_med_AD_four = pd.read_csv(\"../../../data/bernardo/processed/04.deseq2/filtered_med_relevant_multiple_transcripts_four_cell_types_results_AD_vs_CT.csv\")\n",
    "\n",
    "\n",
    "\n",
    "res_gene_SEX = pd.read_csv(\"../../../data/bernardo/processed/04.deseq2/genes_filtered_results_M_vs_F.csv\")\n",
    "res_trans_SEX = pd.read_csv(\"../../../data/bernardo/processed/04.deseq2/filtered_multiple_transcripts_results_M_vs_F.csv\")\n",
    "res_trans_med_SEX = pd.read_csv(\"../../../data/bernardo/processed/04.deseq2/filtered_med_relevant_multiple_transcripts_results_M_vs_F.csv\")\n",
    "\n",
    "res_gene_SEX_two = pd.read_csv(\"../../../data/bernardo/processed/04.deseq2/genes_filtered_two_cell_types_results_M_vs_F.csv\")\n",
    "res_trans_SEX_two = pd.read_csv(\"../../../data/bernardo/processed/04.deseq2/filtered_multiple_transcripts_two_cell_types_results_M_vs_F.csv\")\n",
    "res_trans_med_SEX_two = pd.read_csv(\"../../../data/bernardo/processed/04.deseq2/filtered_med_relevant_multiple_transcripts_two_cell_types_results_M_vs_F.csv\")\n",
    "\n",
    "res_gene_SEX_four = pd.read_csv(\"../../../data/bernardo/processed/04.deseq2/genes_filtered_four_cell_types_results_M_vs_F.csv\")\n",
    "res_trans_SEX_four = pd.read_csv(\"../../../data/bernardo/processed/04.deseq2/filtered_multiple_transcripts_four_cell_types_results_M_vs_F.csv\")\n",
    "res_trans_med_SEX_four = pd.read_csv(\"../../../data/bernardo/processed/04.deseq2/filtered_med_relevant_multiple_transcripts_four_cell_types_results_M_vs_F.csv\")"
   ]
  },
  {
   "cell_type": "code",
   "execution_count": null,
   "id": "c62a777b",
   "metadata": {},
   "outputs": [],
   "source": [
    "## Fill NAs in gene_name column with the gene_id column\n",
    "res_gene_AD.loc[res_gene_AD[\"gene_name\"].isna(), \"gene_name\"] = res_gene_AD[\"gene_id\"].copy()\n",
    "res_trans_AD.loc[res_trans_AD[\"gene_name\"].isna(), \"gene_name\"] = res_trans_AD[\"gene_id\"].copy()\n",
    "res_trans_med_AD.loc[res_trans_med_AD[\"gene_name\"].isna(), \"gene_name\"] = res_trans_med_AD[\"gene_id\"].copy()\n",
    "\n",
    "res_gene_AD_two.loc[res_gene_AD_two[\"gene_name\"].isna(), \"gene_name\"] = res_gene_AD_two[\"gene_id\"].copy()\n",
    "res_trans_AD_two.loc[res_trans_AD_two[\"gene_name\"].isna(), \"gene_name\"] = res_trans_AD_two[\"gene_id\"].copy()\n",
    "res_trans_med_AD_two.loc[res_trans_med_AD_two[\"gene_name\"].isna(), \"gene_name\"] = res_trans_med_AD_two[\"gene_id\"].copy()\n",
    "\n",
    "res_gene_AD_four.loc[res_gene_AD_four[\"gene_name\"].isna(), \"gene_name\"] = res_gene_AD_four[\"gene_id\"].copy()\n",
    "res_trans_AD_four.loc[res_trans_AD_four[\"gene_name\"].isna(), \"gene_name\"] = res_trans_AD_four[\"gene_id\"].copy()\n",
    "res_trans_med_AD_four.loc[res_trans_med_AD_four[\"gene_name\"].isna(), \"gene_name\"] = res_trans_med_AD_four[\"gene_id\"].copy()\n",
    "\n",
    "\n",
    "\n",
    "res_gene_SEX.loc[res_gene_SEX[\"gene_name\"].isna(), \"gene_name\"] = res_gene_SEX[\"gene_id\"].copy()\n",
    "res_trans_SEX.loc[res_trans_SEX[\"gene_name\"].isna(), \"gene_name\"] = res_trans_SEX[\"gene_id\"].copy()\n",
    "res_trans_med_SEX.loc[res_trans_med_SEX[\"gene_name\"].isna(), \"gene_name\"] = res_trans_med_SEX[\"gene_id\"].copy()\n",
    "\n",
    "res_gene_SEX_two.loc[res_gene_SEX_two[\"gene_name\"].isna(), \"gene_name\"] = res_gene_SEX_two[\"gene_id\"].copy()\n",
    "res_trans_SEX_two.loc[res_trans_SEX_two[\"gene_name\"].isna(), \"gene_name\"] = res_trans_SEX_two[\"gene_id\"].copy()\n",
    "res_trans_med_SEX_two.loc[res_trans_med_SEX_two[\"gene_name\"].isna(), \"gene_name\"] = res_trans_med_SEX_two[\"gene_id\"].copy()\n",
    "\n",
    "res_gene_SEX_four.loc[res_gene_SEX_four[\"gene_name\"].isna(), \"gene_name\"] = res_gene_SEX_four[\"gene_id\"].copy()\n",
    "res_trans_SEX_four.loc[res_trans_SEX_four[\"gene_name\"].isna(), \"gene_name\"] = res_trans_SEX_four[\"gene_id\"].copy()\n",
    "res_trans_med_SEX_four.loc[res_trans_med_SEX_four[\"gene_name\"].isna(), \"gene_name\"] = res_trans_med_SEX_four[\"gene_id\"].copy()"
   ]
  },
  {
   "cell_type": "code",
   "execution_count": null,
   "id": "5b9af601",
   "metadata": {},
   "outputs": [],
   "source": [
    "res_gene_AD = res_gene_AD.sort_values(by=\"padj\", ascending=True)\n",
    "res_trans_AD = res_trans_AD.sort_values(by=\"padj\", ascending=True)\n",
    "res_trans_med_AD = res_trans_med_AD.sort_values(by=\"padj\", ascending=True)\n",
    "\n",
    "res_gene_AD_two = res_gene_AD_two.sort_values(by=\"padj\", ascending=True)\n",
    "res_trans_AD_two = res_trans_AD_two.sort_values(by=\"padj\", ascending=True)\n",
    "res_trans_med_AD_two = res_trans_med_AD_two.sort_values(by=\"padj\", ascending=True)\n",
    "\n",
    "res_gene_AD_four = res_gene_AD_four.sort_values(by=\"padj\", ascending=True)\n",
    "res_trans_AD_four = res_trans_AD_four.sort_values(by=\"padj\", ascending=True)\n",
    "res_trans_med_AD_four = res_trans_med_AD_four.sort_values(by=\"padj\", ascending=True)\n",
    "\n",
    "\n",
    "\n",
    "\n",
    "res_gene_SEX = res_gene_SEX.sort_values(by=\"padj\", ascending=True)\n",
    "res_trans_SEX = res_trans_SEX.sort_values(by=\"padj\", ascending=True)\n",
    "res_trans_med_SEX = res_trans_med_SEX.sort_values(by=\"padj\", ascending=True)\n",
    "\n",
    "res_gene_SEX_two = res_gene_SEX_two.sort_values(by=\"padj\", ascending=True)\n",
    "res_trans_SEX_two = res_trans_SEX_two.sort_values(by=\"padj\", ascending=True)\n",
    "res_trans_med_SEX_two = res_trans_med_SEX_two.sort_values(by=\"padj\", ascending=True)\n",
    "\n",
    "res_gene_SEX_four = res_gene_SEX_four.sort_values(by=\"padj\", ascending=True)\n",
    "res_trans_SEX_four = res_trans_SEX_four.sort_values(by=\"padj\", ascending=True)\n",
    "res_trans_med_SEX_four = res_trans_med_SEX_four.sort_values(by=\"padj\", ascending=True)"
   ]
  },
  {
   "cell_type": "code",
   "execution_count": null,
   "id": "6c031d3a",
   "metadata": {},
   "outputs": [],
   "source": [
    "## Create transcript id to gene name converter\n",
    "\n",
    "res_gene_AD = res_gene_AD[[\"gene_name\", \"gene_id\"]].copy()\n",
    "res_trans_AD = res_trans_AD[[\"gene_name\", \"gene_id\", \"transcript_id\"]].copy()\n",
    "res_trans_med_AD = res_trans_med_AD[[\"gene_name\", \"gene_id\", \"transcript_id\"]].copy()\n",
    "res_trans_AD = pd.concat([res_trans_AD, res_trans_med_AD]).drop_duplicates()\n",
    "\n",
    "res_gene_AD_two = res_gene_AD_two[[\"gene_name\", \"gene_id\"]].copy()\n",
    "res_trans_AD_two = res_trans_AD_two[[\"gene_name\", \"gene_id\", \"transcript_id\"]].copy()\n",
    "res_trans_med_AD_two = res_trans_med_AD_two[[\"gene_name\", \"gene_id\", \"transcript_id\"]].copy()\n",
    "res_trans_AD_two = pd.concat([res_trans_AD_two, res_trans_med_AD_two]).drop_duplicates()\n",
    "\n",
    "res_gene_AD_four = res_gene_AD_four[[\"gene_name\", \"gene_id\"]].copy()\n",
    "res_trans_AD_four = res_trans_AD_four[[\"gene_name\", \"gene_id\", \"transcript_id\"]].copy()\n",
    "res_trans_med_AD_four = res_trans_med_AD_four[[\"gene_name\", \"gene_id\", \"transcript_id\"]].copy()\n",
    "res_trans_AD_four = pd.concat([res_trans_AD_four, res_trans_med_AD_four]).drop_duplicates()\n",
    "\n",
    "\n",
    "\n",
    "\n",
    "\n",
    "res_gene_SEX = res_gene_SEX[[\"gene_name\", \"gene_id\"]].copy()\n",
    "res_trans_SEX = res_trans_SEX[[\"gene_name\", \"gene_id\", \"transcript_id\"]].copy()\n",
    "res_trans_med_SEX = res_trans_med_SEX[[\"gene_name\", \"gene_id\", \"transcript_id\"]].copy()\n",
    "res_trans_SEX = pd.concat([res_trans_SEX, res_trans_med_SEX]).drop_duplicates()\n",
    "\n",
    "res_gene_SEX_two = res_gene_SEX_two[[\"gene_name\", \"gene_id\"]].copy()\n",
    "res_trans_SEX_two = res_trans_SEX_two[[\"gene_name\", \"gene_id\", \"transcript_id\"]].copy()\n",
    "res_trans_med_SEX_two = res_trans_med_SEX_two[[\"gene_name\", \"gene_id\", \"transcript_id\"]].copy()\n",
    "res_trans_SEX_two = pd.concat([res_trans_SEX_two, res_trans_med_SEX_two]).drop_duplicates()\n",
    "\n",
    "res_gene_SEX_four = res_gene_SEX_four[[\"gene_name\", \"gene_id\"]].copy()\n",
    "res_trans_SEX_four = res_trans_SEX_four[[\"gene_name\", \"gene_id\", \"transcript_id\"]].copy()\n",
    "res_trans_med_SEX_four = res_trans_med_SEX_four[[\"gene_name\", \"gene_id\", \"transcript_id\"]].copy()\n",
    "res_trans_SEX_four = pd.concat([res_trans_SEX_four, res_trans_med_SEX_four]).drop_duplicates()"
   ]
  },
  {
   "cell_type": "code",
   "execution_count": null,
   "id": "b9438719",
   "metadata": {},
   "outputs": [],
   "source": [
    "## Add chromosome!\n",
    "res_gene_AD = res_gene_AD.merge(bambu_ref_chr, on=\"gene_id\", how=\"inner\").drop_duplicates()\n",
    "res_trans_AD = res_trans_AD.merge(bambu_ref_chr, on=\"gene_id\", how=\"inner\").drop_duplicates()\n",
    "\n",
    "res_gene_AD_two = res_gene_AD_two.merge(bambu_ref_chr, on=\"gene_id\", how=\"inner\").drop_duplicates()\n",
    "res_trans_AD_two = res_trans_AD_two.merge(bambu_ref_chr, on=\"gene_id\", how=\"inner\").drop_duplicates()\n",
    "\n",
    "res_gene_AD_four = res_gene_AD_four.merge(bambu_ref_chr, on=\"gene_id\", how=\"inner\").drop_duplicates()\n",
    "res_trans_AD_four = res_trans_AD_four.merge(bambu_ref_chr, on=\"gene_id\", how=\"inner\").drop_duplicates()\n",
    "\n",
    "\n",
    "\n",
    "\n",
    "res_gene_SEX = res_gene_SEX.merge(bambu_ref_chr, on=\"gene_id\", how=\"inner\").drop_duplicates()\n",
    "res_trans_SEX = res_trans_SEX.merge(bambu_ref_chr, on=\"gene_id\", how=\"inner\").drop_duplicates()\n",
    "\n",
    "res_gene_SEX_two = res_gene_SEX_two.merge(bambu_ref_chr, on=\"gene_id\", how=\"inner\").drop_duplicates()\n",
    "res_trans_SEX_two = res_trans_SEX_two.merge(bambu_ref_chr, on=\"gene_id\", how=\"inner\").drop_duplicates()\n",
    "\n",
    "res_gene_SEX_four = res_gene_SEX_four.merge(bambu_ref_chr, on=\"gene_id\", how=\"inner\").drop_duplicates()\n",
    "res_trans_SEX_four = res_trans_SEX_four.merge(bambu_ref_chr, on=\"gene_id\", how=\"inner\").drop_duplicates()"
   ]
  },
  {
   "cell_type": "code",
   "execution_count": null,
   "id": "2ea058e3",
   "metadata": {},
   "outputs": [],
   "source": [
    "## Put counts in format for DESEQ2 and save it\n",
    "res_gene_AD.to_csv(\"../../../data/bernardo/processed/04.deseq2/gene_results_converter_AD.tsv\", sep=\"\\t\", index=False)\n",
    "res_trans_AD.to_csv(\"../../../data/bernardo/processed/04.deseq2/transcript_results_converter_AD.tsv\", sep=\"\\t\", index=False)\n",
    "\n",
    "res_gene_AD_two.to_csv(\"../../../data/bernardo/processed/04.deseq2/gene_results_converter_AD_two.tsv\", sep=\"\\t\", index=False)\n",
    "res_trans_AD_two.to_csv(\"../../../data/bernardo/processed/04.deseq2/transcript_results_converter_AD_two.tsv\", sep=\"\\t\", index=False)\n",
    "\n",
    "res_gene_AD_four.to_csv(\"../../../data/bernardo/processed/04.deseq2/gene_results_converter_AD_four.tsv\", sep=\"\\t\", index=False)\n",
    "res_trans_AD_four.to_csv(\"../../../data/bernardo/processed/04.deseq2/transcript_results_converter_AD_four.tsv\", sep=\"\\t\", index=False)\n",
    "\n",
    "\n",
    "\n",
    "\n",
    "res_gene_SEX.to_csv(\"../../../data/bernardo/processed/04.deseq2/gene_results_converter_SEX.tsv\", sep=\"\\t\", index=False)\n",
    "res_trans_SEX.to_csv(\"../../../data/bernardo/processed/04.deseq2/transcript_results_converter_SEX.tsv\", sep=\"\\t\", index=False)\n",
    "\n",
    "res_gene_SEX_two.to_csv(\"../../../data/bernardo/processed/04.deseq2/gene_results_converter_SEX_two.tsv\", sep=\"\\t\", index=False)\n",
    "res_trans_SEX_two.to_csv(\"../../../data/bernardo/processed/04.deseq2/transcript_results_converter_SEX_two.tsv\", sep=\"\\t\", index=False)\n",
    "\n",
    "res_gene_SEX_four.to_csv(\"../../../data/bernardo/processed/04.deseq2/gene_results_converter_SEX_four.tsv\", sep=\"\\t\", index=False)\n",
    "res_trans_SEX_four.to_csv(\"../../../data/bernardo/processed/04.deseq2/transcript_results_converter_SEX_four.tsv\", sep=\"\\t\", index=False)"
   ]
  }
 ],
 "metadata": {
  "kernelspec": {
   "display_name": "Python 3 (ipykernel)",
   "language": "python",
   "name": "python3"
  },
  "language_info": {
   "codemirror_mode": {
    "name": "ipython",
    "version": 3
   },
   "file_extension": ".py",
   "mimetype": "text/x-python",
   "name": "python",
   "nbconvert_exporter": "python",
   "pygments_lexer": "ipython3",
   "version": "3.10.10"
  }
 },
 "nbformat": 4,
 "nbformat_minor": 5
}
