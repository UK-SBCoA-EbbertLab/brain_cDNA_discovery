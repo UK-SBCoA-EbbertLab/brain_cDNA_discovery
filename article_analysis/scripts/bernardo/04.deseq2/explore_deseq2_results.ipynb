{
 "cells": [
  {
   "cell_type": "markdown",
   "id": "af0d894b",
   "metadata": {},
   "source": [
    "# Create Explore Results"
   ]
  },
  {
   "cell_type": "markdown",
   "id": "7fca49c1",
   "metadata": {},
   "source": [
    "# Library Import and Functions"
   ]
  },
  {
   "cell_type": "code",
   "execution_count": 1,
   "id": "2e7c2845",
   "metadata": {},
   "outputs": [],
   "source": [
    "## Import Libraries\n",
    "import pandas as pd\n",
    "import numpy as np\n",
    "from matplotlib_venn import venn2, venn2_circles, venn2_unweighted\n",
    "from matplotlib_venn import venn3, venn3_circles\n",
    "from matplotlib import pyplot as plt\n",
    "%matplotlib inline\n",
    "import seaborn as sns\n",
    "from wordcloud import WordCloud\n",
    "from scipy import stats\n",
    "\n",
    "\n",
    "## Display all rows of pandas dataframes\n",
    "pd.set_option('display.max_rows', None)\n",
    "pd.set_option('display.max_colwidth', None)"
   ]
  },
  {
   "cell_type": "code",
   "execution_count": 2,
   "id": "143176a3",
   "metadata": {},
   "outputs": [],
   "source": [
    "'''\n",
    "function name: parse_df_columns\n",
    "\n",
    "purpose: parsing the last aggregate column of the gtf/gff3 into useful columns and cleaning non-relevant columns\n",
    "\n",
    "input: dataframe containining \"raw\" gtf/gff\n",
    "\n",
    "output: dataframe containing gtf with useful columns [\"gene_id\", \"transcript_id\", etc...]\n",
    "'''\n",
    "\n",
    "def parse_df_columns(df, is_ref=True, is_transcript=False, is_prot=False):\n",
    "\n",
    "    if is_ref:\n",
    "\n",
    "        ## Get gene ids\n",
    "        df[\"gene_id\"] = df[\"other\"].str.split('\";', expand=True)[0].str.extract(\"([^ \\\"]*$)\", expand=True)\n",
    "        \n",
    "        ## Get gene names\n",
    "        df[\"gene_name\"] = df[\"other\"].str.split(\"gene_name \\\"\", expand=True)[1].str.split('\\\";', expand=True)[0]\n",
    "        \n",
    "        ## Get get transcript biotype\n",
    "        df[\"gene_biotype\"] = df[\"other\"].str.split('gene_biotype \"', expand=True)[1].str.split('\"', expand=True)[0]\n",
    "        \n",
    "        ## If is transcript get transcript id and transcript biotype\n",
    "        if is_transcript:\n",
    "            df[\"transcript_id\"] = df[\"other\"].str.split('transcript_id \"', expand=True)[1].str.split('\"', expand=True)[0]\n",
    "            df[\"transcript_biotype\"] = df[\"other\"].str.split('transcript_biotype \"', expand=True)[1].str.split('\"', expand=True)[0]\n",
    "            \n",
    "            ## If is prot get protein_id\n",
    "            if is_prot:\n",
    "                df[\"protein_id\"] = df[\"other\"].str.split('protein_id \"', expand=True)[1].str.split('\"', expand=True)[0]\n",
    "                df[\"ccds_id\"] = df[\"other\"].str.split('ccds_id \"', expand=True)[1].str.split('\"', expand=True)[0]\n",
    "                df[\"exon_number\"] = df[\"other\"].str.split('exon_number \"', expand=True)[1].str.split('\"', expand=True)[0]\n",
    "\n",
    "        ## Drop \"other\" column\n",
    "        df.drop(columns=[\"other\", \"dot_1\", \"dot_2\"], inplace=True)\n",
    "        \n",
    "\n",
    "    else:\n",
    "\n",
    "        ## Get gene ids\n",
    "        df[\"gene_id\"] = df[\"other\"].str.split('\";', expand=True)[0].str.extract(\"([^ \\\"]*$)\", expand=True)\n",
    "\n",
    "        ## Get transcript ids\n",
    "        df[\"transcript_id\"] = df[\"other\"].str.split('transcript_id \"', expand=True)[1].str.split('\"', expand=True)[0]\n",
    "\n",
    "        ## Get exon number\n",
    "        df[\"exon_number\"] = df[\"other\"].str.split('exon_number \"', expand=True)[1].str.split('\"', expand=True)[0]\n",
    "\n",
    "        ## Drop \"other\" column\n",
    "        df.drop(columns=[\"other\", \"dot_1\", \"dot_2\"], inplace=True)\n",
    "\n",
    "    for col in df.columns:\n",
    "        df.loc[df[col].isnull(), col] = np.NaN\n",
    "        \n",
    "\n",
    "    return df"
   ]
  },
  {
   "cell_type": "markdown",
   "id": "2d5e0928",
   "metadata": {},
   "source": [
    "# Import data and process AD vs CT data"
   ]
  },
  {
   "cell_type": "code",
   "execution_count": 3,
   "id": "4e433952",
   "metadata": {},
   "outputs": [],
   "source": [
    "res = pd.read_csv(\"../../../data/bernardo/processed/04.deseq2/multiple_transcripts_results_AD_vs_CT.tsv\", sep=\"\\t\")\n",
    "res.reset_index(inplace=True, drop=False, names=\"transcript_id\")\n",
    "\n",
    "res_med = pd.read_csv(\"../../../data/bernardo/processed/04.deseq2/multiple_transcripts_results_med_relevant_AD_vs_CT.tsv\", sep=\"\\t\")\n",
    "res_med.reset_index(inplace=True, drop=False, names=\"transcript_id\")\n",
    "\n",
    "res_gene = pd.read_csv(\"../../../data/bernardo/processed/04.deseq2/genes_AD_vs_CT_results.tsv\", sep=\"\\t\")\n",
    "res_gene.reset_index(inplace=True, drop=False, names=\"gene_id\")"
   ]
  },
  {
   "cell_type": "code",
   "execution_count": 4,
   "id": "b0806e71",
   "metadata": {},
   "outputs": [],
   "source": [
    "## Open original reference\n",
    "original_ref = pd.read_csv(\"../../../references/bernardo/Homo_sapiens.GRCh38.107_ERCC.gtf\", header=None, delimiter=\"\\t\", low_memory=False, \n",
    "                       names=[\"chr\", \"source\", \"type\", \"start\", \"end\", \"dot_1\", \"strand\", \"dot_2\", \"other\"], comment=\"#\")\n",
    "\n",
    "\n",
    "## Parse through reference to get gene names and ids\n",
    "orig_ref = original_ref.loc[original_ref[\"type\"]==\"transcript\"].copy()\n",
    "orig_ref = parse_df_columns(orig_ref, is_ref=True, is_transcript=True)"
   ]
  },
  {
   "cell_type": "code",
   "execution_count": 5,
   "id": "10f331a6",
   "metadata": {},
   "outputs": [],
   "source": [
    "## Import and parse through extended annotations\n",
    "bambu_ref = pd.read_csv(\"../../../data/bernardo/raw/ad_vs_ct_pilot_study_february_2023_GRCh38-107_discovery/bambu_discovery/extended_annotations.gtf\", header=None, delimiter=\"\\t\",\n",
    "                        low_memory=False, comment=\"#\", names=[\"chr\", \"source\", \"type\", \"start\", \"end\", \"dot_1\", \"strand\", \"dot_2\", \"other\"])\n",
    "\n",
    "bambu_ref = bambu_ref.loc[~bambu_ref[\"chr\"].str.startswith(\"ERCC-\")]\n",
    "\n",
    "bambu_ref = parse_df_columns(bambu_ref, is_ref=False)\n",
    "\n",
    "bambu_ref = bambu_ref.loc[bambu_ref[\"type\"] == \"transcript\"].copy()"
   ]
  },
  {
   "cell_type": "code",
   "execution_count": 6,
   "id": "05da1de8",
   "metadata": {},
   "outputs": [],
   "source": [
    "bambu_ref_names = bambu_ref[[\"gene_id\", \"transcript_id\"]].copy()\n",
    "\n",
    "orig_ref_names = orig_ref[[\"gene_id\", \"gene_name\"]].drop_duplicates().copy()"
   ]
  },
  {
   "cell_type": "code",
   "execution_count": 7,
   "id": "12a4c428",
   "metadata": {},
   "outputs": [],
   "source": [
    "res_med = res_med.merge(bambu_ref_names, on=\"transcript_id\", how=\"left\")\n",
    "res_med = res_med.merge(orig_ref_names, on=[\"gene_id\"], how=\"left\")\n",
    "\n",
    "res = res.merge(bambu_ref_names, on=\"transcript_id\", how=\"left\")\n",
    "res = res.merge(orig_ref_names, on=[\"gene_id\"], how=\"left\")\n",
    "\n",
    "\n",
    "res_gene = res_gene.merge(orig_ref_names, on=[\"gene_id\"], how=\"left\")"
   ]
  },
  {
   "cell_type": "code",
   "execution_count": 8,
   "id": "16ac57cf",
   "metadata": {},
   "outputs": [],
   "source": [
    "res_med_filtered = res_med.loc[~res_med[\"padj\"].isna()].copy()\n",
    "res_med_filtered = res_med_filtered.loc[((res_med_filtered[\"padj\"] < 0.05) & (abs(res_med_filtered[\"log2FoldChange\"]) > 1))].copy()\n",
    "\n",
    "\n",
    "res_filtered = res.loc[~res[\"padj\"].isna()].copy()\n",
    "res_filtered = res_filtered.loc[((res_filtered[\"padj\"] < 0.05) & (abs(res_filtered[\"log2FoldChange\"]) > 1))].copy()\n",
    "\n",
    "\n",
    "res_gene_filtered = res_gene.loc[~res_gene[\"padj\"].isna()].copy()\n",
    "res_gene_filtered = res_gene_filtered.loc[((res_gene_filtered[\"padj\"] < 0.05) & (abs(res_gene_filtered[\"log2FoldChange\"]) > 1))].copy()"
   ]
  },
  {
   "cell_type": "code",
   "execution_count": 9,
   "id": "49ee890f",
   "metadata": {},
   "outputs": [],
   "source": [
    "res_med_filtered.to_csv(\"../../../data/bernardo/processed/04.deseq2/filtered_med_relevant_multiple_transcripts_results_AD_vs_CT.csv\", index=False)\n",
    "res_filtered.to_csv(\"../../../data/bernardo/processed/04.deseq2/filtered_multiple_transcripts_results_AD_vs_CT.csv\", index=False)\n",
    "res_gene_filtered.to_csv(\"../../../data/bernardo/processed/04.deseq2/genes_filtered_results_AD_vs_CT.csv\")"
   ]
  },
  {
   "cell_type": "markdown",
   "id": "0594d8f0",
   "metadata": {},
   "source": [
    "# Import data and process Male vs Female data"
   ]
  },
  {
   "cell_type": "code",
   "execution_count": 10,
   "id": "dfbc95aa",
   "metadata": {},
   "outputs": [],
   "source": [
    "res = pd.read_csv(\"../../../data/bernardo/processed/04.deseq2/multiple_transcripts_results_M_vs_F.tsv\", sep=\"\\t\")\n",
    "res.reset_index(inplace=True, drop=False, names=\"transcript_id\")\n",
    "\n",
    "res_med = pd.read_csv(\"../../../data/bernardo/processed/04.deseq2/multiple_transcripts_results_med_relevant_M_vs_F.tsv\", sep=\"\\t\")\n",
    "res_med.reset_index(inplace=True, drop=False, names=\"transcript_id\")\n",
    "\n",
    "res_gene = pd.read_csv(\"../../../data/bernardo/processed/04.deseq2/genes_M_vs_F_results.tsv\", sep=\"\\t\")\n",
    "res_gene.reset_index(inplace=True, drop=False, names=\"gene_id\")"
   ]
  },
  {
   "cell_type": "code",
   "execution_count": 11,
   "id": "d17693b1",
   "metadata": {},
   "outputs": [],
   "source": [
    "res_med = res_med.merge(bambu_ref_names, on=\"transcript_id\", how=\"left\")\n",
    "res_med = res_med.merge(orig_ref_names, on=[\"gene_id\"], how=\"left\")\n",
    "\n",
    "res = res.merge(bambu_ref_names, on=\"transcript_id\", how=\"left\")\n",
    "res = res.merge(orig_ref_names, on=[\"gene_id\"], how=\"left\")\n",
    "\n",
    "\n",
    "res_gene = res_gene.merge(orig_ref_names, on=[\"gene_id\"], how=\"left\")"
   ]
  },
  {
   "cell_type": "code",
   "execution_count": 12,
   "id": "b3af5328",
   "metadata": {},
   "outputs": [],
   "source": [
    "res_med_filtered = res_med.loc[~res_med[\"padj\"].isna()].copy()\n",
    "res_med_filtered = res_med_filtered.loc[((res_med_filtered[\"padj\"] < 0.05) & (abs(res_med_filtered[\"log2FoldChange\"]) > 1))].copy()\n",
    "\n",
    "\n",
    "res_filtered = res.loc[~res[\"padj\"].isna()].copy()\n",
    "res_filtered = res_filtered.loc[((res_filtered[\"padj\"] < 0.05) & (abs(res_filtered[\"log2FoldChange\"]) > 1))].copy()\n",
    "\n",
    "\n",
    "res_gene_filtered = res_gene.loc[~res_gene[\"padj\"].isna()].copy()\n",
    "res_gene_filtered = res_gene_filtered.loc[((res_gene_filtered[\"padj\"] < 0.05) & (abs(res_gene_filtered[\"log2FoldChange\"]) > 1))].copy()"
   ]
  },
  {
   "cell_type": "code",
   "execution_count": 13,
   "id": "0d3968f4",
   "metadata": {},
   "outputs": [],
   "source": [
    "res_med_filtered.to_csv(\"../../../data/bernardo/processed/04.deseq2/filtered_med_relevant_multiple_transcripts_results_M_vs_F.csv\", index=False)\n",
    "res_filtered.to_csv(\"../../../data/bernardo/processed/04.deseq2/filtered_multiple_transcripts_results_M_vs_F.csv\", index=False)\n",
    "res_gene_filtered.to_csv(\"../../../data/bernardo/processed/04.deseq2/genes_filtered_results_M_vs_F.csv\")"
   ]
  }
 ],
 "metadata": {
  "kernelspec": {
   "display_name": "Python 3 (ipykernel)",
   "language": "python",
   "name": "python3"
  },
  "language_info": {
   "codemirror_mode": {
    "name": "ipython",
    "version": 3
   },
   "file_extension": ".py",
   "mimetype": "text/x-python",
   "name": "python",
   "nbconvert_exporter": "python",
   "pygments_lexer": "ipython3",
   "version": "3.10.9"
  }
 },
 "nbformat": 4,
 "nbformat_minor": 5
}
