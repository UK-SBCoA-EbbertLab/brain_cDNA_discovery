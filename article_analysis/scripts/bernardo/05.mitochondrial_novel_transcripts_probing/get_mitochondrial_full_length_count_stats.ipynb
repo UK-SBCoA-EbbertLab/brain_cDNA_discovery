{
 "cells": [
  {
   "cell_type": "code",
   "execution_count": 8,
   "id": "d60c3084",
   "metadata": {},
   "outputs": [],
   "source": [
    "## Import libraries\n",
    "import pandas as pd\n",
    "import numpy as np"
   ]
  },
  {
   "cell_type": "code",
   "execution_count": 9,
   "id": "3a8bb250",
   "metadata": {},
   "outputs": [],
   "source": [
    "'''\n",
    "function name: parse_df_columns\n",
    "\n",
    "purpose: parsing the last aggregate column of the gtf/gff3 into useful columns and cleaning non-relevant columns\n",
    "\n",
    "input: dataframe containining \"raw\" gtf/gff\n",
    "\n",
    "output: dataframe containing gtf with useful columns [\"gene_id\", \"transcript_id\", etc...]\n",
    "'''\n",
    "\n",
    "def parse_df_columns(df, is_ref=True, is_transcript=False, is_prot=False):\n",
    "\n",
    "    if is_ref:\n",
    "\n",
    "        ## Get gene ids\n",
    "        df[\"gene_id\"] = df[\"other\"].str.split('\";', expand=True)[0].str.extract(\"([^ \\\"]*$)\", expand=True)\n",
    "        \n",
    "        ## Get gene names\n",
    "        df[\"gene_name\"] = df[\"other\"].str.split(\"gene_name \\\"\", expand=True)[1].str.split('\\\";', expand=True)[0]\n",
    "        \n",
    "        ## Get get transcript biotype\n",
    "        df[\"gene_biotype\"] = df[\"other\"].str.split('gene_biotype \"', expand=True)[1].str.split('\"', expand=True)[0]\n",
    "        \n",
    "        ## If is transcript get transcript id and transcript biotype\n",
    "        if is_transcript:\n",
    "            df[\"transcript_id\"] = df[\"other\"].str.split('transcript_id \"', expand=True)[1].str.split('\"', expand=True)[0]\n",
    "            df[\"transcript_biotype\"] = df[\"other\"].str.split('transcript_biotype \"', expand=True)[1].str.split('\"', expand=True)[0]\n",
    "            \n",
    "            ## If is prot get protein_id\n",
    "            if is_prot:\n",
    "                df[\"protein_id\"] = df[\"other\"].str.split('protein_id \"', expand=True)[1].str.split('\"', expand=True)[0]\n",
    "                df[\"ccds_id\"] = df[\"other\"].str.split('ccds_id \"', expand=True)[1].str.split('\"', expand=True)[0]\n",
    "                df[\"exon_number\"] = df[\"other\"].str.split('exon_number \"', expand=True)[1].str.split('\"', expand=True)[0]\n",
    "\n",
    "        ## Drop \"other\" column\n",
    "        df.drop(columns=[\"other\", \"dot_1\", \"dot_2\"], inplace=True)\n",
    "        \n",
    "\n",
    "    else:\n",
    "\n",
    "        ## Get gene ids\n",
    "        df[\"gene_id\"] = df[\"other\"].str.split('\";', expand=True)[0].str.extract(\"([^ \\\"]*$)\", expand=True)\n",
    "\n",
    "        ## Get transcript ids\n",
    "        df[\"transcript_id\"] = df[\"other\"].str.split('transcript_id \"', expand=True)[1].str.split('\"', expand=True)[0]\n",
    "\n",
    "        ## Get exon number\n",
    "        df[\"exon_number\"] = df[\"other\"].str.split('exon_number \"', expand=True)[1].str.split('\"', expand=True)[0]\n",
    "\n",
    "        ## Drop \"other\" column\n",
    "        df.drop(columns=[\"other\", \"dot_1\", \"dot_2\"], inplace=True)\n",
    "\n",
    "    for col in df.columns:\n",
    "        df.loc[df[col].isnull(), col] = np.NaN\n",
    "        \n",
    "\n",
    "    return df"
   ]
  },
  {
   "cell_type": "code",
   "execution_count": 10,
   "id": "5f31f2a2",
   "metadata": {},
   "outputs": [],
   "source": [
    "## Import full length counts matrix\n",
    "\n",
    "df = pd.read_csv(\"../../../data/bernardo/raw/uky_aged_stringent/bambu_discovery/fullLengthCounts_transcript.txt\", sep=\"\\t\")"
   ]
  },
  {
   "cell_type": "code",
   "execution_count": 11,
   "id": "e60e7069",
   "metadata": {},
   "outputs": [],
   "source": [
    "## Import and parse through extended annotations\n",
    "ref = pd.read_csv(\"../../../data/bernardo/raw/uky_aged_stringent/bambu_discovery/extended_annotations.gtf\", header=None, delimiter=\"\\t\",\n",
    "                        low_memory=False, names=[\"chr\", \"source\", \"type\", \"start\", \"end\", \"dot_1\", \"strand\", \"dot_2\", \"other\"])\n",
    "\n",
    "\n",
    "ref = parse_df_columns(ref, is_ref=False)"
   ]
  },
  {
   "cell_type": "code",
   "execution_count": 21,
   "id": "02508aa2",
   "metadata": {},
   "outputs": [],
   "source": [
    "ref_mito_novel_ids = ref.loc[((ref[\"chr\"] == \"MT\") & (ref[\"transcript_id\"].str.startswith(\"Bambu\")))][\"transcript_id\"].copy()"
   ]
  },
  {
   "cell_type": "code",
   "execution_count": 25,
   "id": "e377b5fb",
   "metadata": {},
   "outputs": [
    {
     "ename": "AttributeError",
     "evalue": "'NoneType' object has no attribute 'to_list'",
     "output_type": "error",
     "traceback": [
      "\u001b[0;31m---------------------------------------------------------------------------\u001b[0m",
      "\u001b[0;31mAttributeError\u001b[0m                            Traceback (most recent call last)",
      "Cell \u001b[0;32mIn[25], line 1\u001b[0m\n\u001b[0;32m----> 1\u001b[0m \u001b[43mref_mito_novel_ids\u001b[49m\u001b[38;5;241;43m.\u001b[39;49m\u001b[43mdrop_duplicates\u001b[49m\u001b[43m(\u001b[49m\u001b[43minplace\u001b[49m\u001b[38;5;241;43m=\u001b[39;49m\u001b[38;5;28;43;01mTrue\u001b[39;49;00m\u001b[43m)\u001b[49m\u001b[38;5;241;43m.\u001b[39;49m\u001b[43mto_list\u001b[49m()\n",
      "\u001b[0;31mAttributeError\u001b[0m: 'NoneType' object has no attribute 'to_list'"
     ]
    }
   ],
   "source": [
    "ref_mito_novel_ids = ref_mito_novel_ids.drop_duplicates().to_list()"
   ]
  },
  {
   "cell_type": "code",
   "execution_count": 24,
   "id": "2a337294",
   "metadata": {},
   "outputs": [
    {
     "data": {
      "text/plain": [
       "1810026    BambuTx279\n",
       "1810053    BambuTx280\n",
       "1810055    BambuTx322\n",
       "1810063    BambuTx281\n",
       "1810072    BambuTx283\n",
       "1810074    BambuTx282\n",
       "Name: transcript_id, dtype: object"
      ]
     },
     "execution_count": 24,
     "metadata": {},
     "output_type": "execute_result"
    }
   ],
   "source": []
  },
  {
   "cell_type": "code",
   "execution_count": 3,
   "id": "956dc817",
   "metadata": {},
   "outputs": [
    {
     "data": {
      "text/html": [
       "<div>\n",
       "<style scoped>\n",
       "    .dataframe tbody tr th:only-of-type {\n",
       "        vertical-align: middle;\n",
       "    }\n",
       "\n",
       "    .dataframe tbody tr th {\n",
       "        vertical-align: top;\n",
       "    }\n",
       "\n",
       "    .dataframe thead th {\n",
       "        text-align: right;\n",
       "    }\n",
       "</style>\n",
       "<table border=\"1\" class=\"dataframe\">\n",
       "  <thead>\n",
       "    <tr style=\"text-align: right;\">\n",
       "      <th></th>\n",
       "      <th>TXNAME</th>\n",
       "      <th>GENEID</th>\n",
       "      <th>PAM54902_1291_nanopore_mapped_filtered_sorted</th>\n",
       "      <th>PAM54335_356_nanopore_mapped_filtered_sorted</th>\n",
       "      <th>PAM54401_1271_nanopore_mapped_filtered_sorted</th>\n",
       "      <th>PAM54788_1304_nanopore_mapped_filtered_sorted</th>\n",
       "    </tr>\n",
       "  </thead>\n",
       "  <tbody>\n",
       "    <tr>\n",
       "      <th>0</th>\n",
       "      <td>BambuTx1</td>\n",
       "      <td>ENSG00000078808</td>\n",
       "      <td>37.0</td>\n",
       "      <td>30.0</td>\n",
       "      <td>191.0</td>\n",
       "      <td>244.0</td>\n",
       "    </tr>\n",
       "    <tr>\n",
       "      <th>1</th>\n",
       "      <td>BambuTx2</td>\n",
       "      <td>ENSG00000130775</td>\n",
       "      <td>23.0</td>\n",
       "      <td>44.0</td>\n",
       "      <td>157.0</td>\n",
       "      <td>60.0</td>\n",
       "    </tr>\n",
       "    <tr>\n",
       "      <th>2</th>\n",
       "      <td>BambuTx3</td>\n",
       "      <td>ENSG00000198492</td>\n",
       "      <td>182.0</td>\n",
       "      <td>275.0</td>\n",
       "      <td>438.0</td>\n",
       "      <td>409.0</td>\n",
       "    </tr>\n",
       "    <tr>\n",
       "      <th>3</th>\n",
       "      <td>BambuTx4</td>\n",
       "      <td>BambuGene566</td>\n",
       "      <td>92.0</td>\n",
       "      <td>85.0</td>\n",
       "      <td>83.0</td>\n",
       "      <td>226.0</td>\n",
       "    </tr>\n",
       "    <tr>\n",
       "      <th>4</th>\n",
       "      <td>BambuTx5</td>\n",
       "      <td>BambuGene3448</td>\n",
       "      <td>113.0</td>\n",
       "      <td>12.0</td>\n",
       "      <td>26.0</td>\n",
       "      <td>61.0</td>\n",
       "    </tr>\n",
       "  </tbody>\n",
       "</table>\n",
       "</div>"
      ],
      "text/plain": [
       "     TXNAME           GENEID  PAM54902_1291_nanopore_mapped_filtered_sorted  \\\n",
       "0  BambuTx1  ENSG00000078808                                           37.0   \n",
       "1  BambuTx2  ENSG00000130775                                           23.0   \n",
       "2  BambuTx3  ENSG00000198492                                          182.0   \n",
       "3  BambuTx4     BambuGene566                                           92.0   \n",
       "4  BambuTx5    BambuGene3448                                          113.0   \n",
       "\n",
       "   PAM54335_356_nanopore_mapped_filtered_sorted  \\\n",
       "0                                          30.0   \n",
       "1                                          44.0   \n",
       "2                                         275.0   \n",
       "3                                          85.0   \n",
       "4                                          12.0   \n",
       "\n",
       "   PAM54401_1271_nanopore_mapped_filtered_sorted  \\\n",
       "0                                          191.0   \n",
       "1                                          157.0   \n",
       "2                                          438.0   \n",
       "3                                           83.0   \n",
       "4                                           26.0   \n",
       "\n",
       "   PAM54788_1304_nanopore_mapped_filtered_sorted  \n",
       "0                                          244.0  \n",
       "1                                           60.0  \n",
       "2                                          409.0  \n",
       "3                                          226.0  \n",
       "4                                           61.0  "
      ]
     },
     "execution_count": 3,
     "metadata": {},
     "output_type": "execute_result"
    }
   ],
   "source": [
    "df_novel_mito = (\"\")"
   ]
  }
 ],
 "metadata": {
  "kernelspec": {
   "display_name": "Python 3 (ipykernel)",
   "language": "python",
   "name": "python3"
  },
  "language_info": {
   "codemirror_mode": {
    "name": "ipython",
    "version": 3
   },
   "file_extension": ".py",
   "mimetype": "text/x-python",
   "name": "python",
   "nbconvert_exporter": "python",
   "pygments_lexer": "ipython3",
   "version": "3.10.8"
  }
 },
 "nbformat": 4,
 "nbformat_minor": 5
}
