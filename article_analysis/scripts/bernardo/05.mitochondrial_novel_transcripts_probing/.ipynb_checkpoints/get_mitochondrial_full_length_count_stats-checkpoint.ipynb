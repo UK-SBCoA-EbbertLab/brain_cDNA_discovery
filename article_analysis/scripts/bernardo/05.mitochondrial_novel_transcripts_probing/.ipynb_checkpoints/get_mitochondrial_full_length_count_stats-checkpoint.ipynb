{
 "cells": [
  {
   "cell_type": "code",
   "execution_count": 65,
   "id": "8970c198",
   "metadata": {},
   "outputs": [],
   "source": [
    "## Import libraries\n",
    "import pandas as pd\n",
    "import numpy as np\n",
    "import csv\n",
    "\n",
    "\n",
    "## Display all rows of pandas dataframes\n",
    "pd.set_option('display.max_rows', None)\n",
    "pd.set_option('display.max_colwidth', None)"
   ]
  },
  {
   "cell_type": "code",
   "execution_count": 66,
   "id": "8e46efed",
   "metadata": {},
   "outputs": [],
   "source": [
    "'''\n",
    "function name: parse_df_columns\n",
    "\n",
    "purpose: parsing the last aggregate column of the gtf/gff3 into useful columns and cleaning non-relevant columns\n",
    "\n",
    "input: dataframe containining \"raw\" gtf/gff\n",
    "\n",
    "output: dataframe containing gtf with useful columns [\"gene_id\", \"transcript_id\", etc...]\n",
    "'''\n",
    "\n",
    "def parse_df_columns(df, is_ref=True, is_transcript=False, is_prot=False):\n",
    "\n",
    "    if is_ref:\n",
    "\n",
    "        ## Get gene ids\n",
    "        df[\"gene_id\"] = df[\"other\"].str.split('\";', expand=True)[0].str.extract(\"([^ \\\"]*$)\", expand=True)\n",
    "        \n",
    "        ## Get gene names\n",
    "        df[\"gene_name\"] = df[\"other\"].str.split(\"gene_name \\\"\", expand=True)[1].str.split('\\\";', expand=True)[0]\n",
    "        \n",
    "        ## Get get transcript biotype\n",
    "        df[\"gene_biotype\"] = df[\"other\"].str.split('gene_biotype \"', expand=True)[1].str.split('\"', expand=True)[0]\n",
    "        \n",
    "        ## If is transcript get transcript id and transcript biotype\n",
    "        if is_transcript:\n",
    "            df[\"transcript_id\"] = df[\"other\"].str.split('transcript_id \"', expand=True)[1].str.split('\"', expand=True)[0]\n",
    "            df[\"transcript_biotype\"] = df[\"other\"].str.split('transcript_biotype \"', expand=True)[1].str.split('\"', expand=True)[0]\n",
    "            \n",
    "            ## If is prot get protein_id\n",
    "            if is_prot:\n",
    "                df[\"protein_id\"] = df[\"other\"].str.split('protein_id \"', expand=True)[1].str.split('\"', expand=True)[0]\n",
    "                df[\"ccds_id\"] = df[\"other\"].str.split('ccds_id \"', expand=True)[1].str.split('\"', expand=True)[0]\n",
    "                df[\"exon_number\"] = df[\"other\"].str.split('exon_number \"', expand=True)[1].str.split('\"', expand=True)[0]\n",
    "\n",
    "        ## Drop \"other\" column\n",
    "        df.drop(columns=[\"other\", \"dot_1\", \"dot_2\"], inplace=True)\n",
    "        \n",
    "\n",
    "    else:\n",
    "\n",
    "        ## Get gene ids\n",
    "        df[\"gene_id\"] = df[\"other\"].str.split('\";', expand=True)[0].str.extract(\"([^ \\\"]*$)\", expand=True)\n",
    "\n",
    "        ## Get transcript ids\n",
    "        df[\"transcript_id\"] = df[\"other\"].str.split('transcript_id \"', expand=True)[1].str.split('\"', expand=True)[0]\n",
    "\n",
    "        ## Get exon number\n",
    "        df[\"exon_number\"] = df[\"other\"].str.split('exon_number \"', expand=True)[1].str.split('\"', expand=True)[0]\n",
    "\n",
    "        ## Drop \"other\" column\n",
    "        df.drop(columns=[\"other\", \"dot_1\", \"dot_2\"], inplace=True)\n",
    "\n",
    "    for col in df.columns:\n",
    "        df.loc[df[col].isnull(), col] = np.NaN\n",
    "        \n",
    "\n",
    "    return df"
   ]
  },
  {
   "cell_type": "code",
   "execution_count": 67,
   "id": "ece45989",
   "metadata": {},
   "outputs": [],
   "source": [
    "## Import full length counts matrix\n",
    "\n",
    "df = pd.read_csv(\"../../../data/bernardo/raw/uky_aged_stringent/bambu_discovery/fullLengthCounts_transcript.txt\", sep=\"\\t\")"
   ]
  },
  {
   "cell_type": "code",
   "execution_count": null,
   "id": "d34a1923",
   "metadata": {},
   "outputs": [],
   "source": [
    "## Import and parse through extended annotations\n",
    "ref = pd.read_csv(\"../../../data/bernardo/raw/uky_aged_stringent/bambu_discovery/extended_annotations.gtf\", header=None, delimiter=\"\\t\",\n",
    "                        low_memory=False, names=[\"chr\", \"source\", \"type\", \"start\", \"end\", \"dot_1\", \"strand\", \"dot_2\", \"other\"])\n",
    "\n",
    "\n",
    "ref = parse_df_columns(ref, is_ref=False)"
   ]
  },
  {
   "cell_type": "code",
   "execution_count": null,
   "id": "e704727f",
   "metadata": {},
   "outputs": [],
   "source": [
    "## Get novel mitochondrial transcript ids\n",
    "ref_mito_novel_ids = ref.loc[((ref[\"chr\"] == \"MT\") & (ref[\"transcript_id\"].str.startswith(\"Bambu\")))][\"transcript_id\"].copy()\n",
    "ref_mito_novel_ids = ref_mito_novel_ids.drop_duplicates().to_list()"
   ]
  },
  {
   "cell_type": "code",
   "execution_count": null,
   "id": "7f9853e3",
   "metadata": {},
   "outputs": [],
   "source": [
    "## Create counts matrix countaining only \n",
    "df_novel_mito = df.loc[df[\"TXNAME\"].isin(ref_mito_novel_ids)].copy()"
   ]
  },
  {
   "cell_type": "code",
   "execution_count": null,
   "id": "0b8e47c2",
   "metadata": {},
   "outputs": [],
   "source": [
    "## Sum counts for each novel mito transcripts\n",
    "df_novel_mito[\"total_counts\"] = df_novel_mito[df_novel_mito.columns[2:]].sum(axis=1)"
   ]
  },
  {
   "cell_type": "code",
   "execution_count": null,
   "id": "a7b73b56",
   "metadata": {},
   "outputs": [],
   "source": [
    "## Display results\n",
    "df_novel_mito[\"total_counts\"].mean()"
   ]
  },
  {
   "cell_type": "code",
   "execution_count": null,
   "id": "1f4a99c5",
   "metadata": {},
   "outputs": [],
   "source": [
    "## Repeat process for known mito transcripts\n",
    "\n",
    "## Get novel mitochondrial transcript ids\n",
    "ref_mito_known_ids = ref.loc[((ref[\"chr\"] == \"MT\") & (ref[\"transcript_id\"].str.startswith(\"E\")))][\"transcript_id\"].copy()\n",
    "ref_mito_known_ids = ref_mito_known_ids.drop_duplicates().to_list()\n",
    "\n",
    "\n",
    "## Create counts matrix countaining only \n",
    "df_known_mito = df.loc[df[\"TXNAME\"].isin(ref_mito_known_ids)].copy()\n",
    "\n",
    "\n",
    "## Sum counts for each novel mito transcripts\n",
    "df_known_mito[\"total_counts\"] = df_known_mito[df_known_mito.columns[2:]].sum(axis=1)"
   ]
  },
  {
   "cell_type": "code",
   "execution_count": null,
   "id": "f6f59c8b",
   "metadata": {},
   "outputs": [],
   "source": [
    "## Display results\n",
    "df_known_mito[\"total_counts\"].mean()"
   ]
  },
  {
   "cell_type": "code",
   "execution_count": null,
   "id": "4759bf30",
   "metadata": {},
   "outputs": [],
   "source": [
    "## Import and parse through extended annotations\n",
    "orig_ref = pd.read_csv(\"../../../data/bernardo/raw/uky_aged_stringent/bambu_discovery/extended_annotations.gtf\", header=None, delimiter=\"\\t\",\n",
    "                        low_memory=False, names=[\"chr\", \"source\", \"type\", \"start\", \"end\", \"dot_1\", \"strand\", \"dot_2\", \"other\"])\n"
   ]
  },
  {
   "cell_type": "code",
   "execution_count": null,
   "id": "3479ba1f",
   "metadata": {},
   "outputs": [],
   "source": [
    "## Create GTF annotation that will work with ENSEMBL genome browser for newly discovered mitochondrial transcripts\n",
    "mito_ref = orig_ref[((orig_ref[\"chr\"] == \"MT\") & (orig_ref[\"other\"].str.contains(\"BambuTx\")))].copy()\n",
    "\n",
    "mito_ref[\"chr\"] = \"chrM\"\n",
    "\n",
    "## Save it\n",
    "mito_ref.to_csv(\"../../../data/bernardo/processed/05.mitochondrial_novel_transcripts_probing/mito_novel_annotation_for_genome_browser.gtf\", \n",
    "                sep=\"\\t\", header=False, index=False, quoting = csv.QUOTE_NONE)"
   ]
  }
 ],
 "metadata": {
  "kernelspec": {
   "display_name": "Python 3 (ipykernel)",
   "language": "python",
   "name": "python3"
  },
  "language_info": {
   "codemirror_mode": {
    "name": "ipython",
    "version": 3
   },
   "file_extension": ".py",
   "mimetype": "text/x-python",
   "name": "python",
   "nbconvert_exporter": "python",
   "pygments_lexer": "ipython3",
   "version": "3.10.8"
  }
 },
 "nbformat": 4,
 "nbformat_minor": 5
}
