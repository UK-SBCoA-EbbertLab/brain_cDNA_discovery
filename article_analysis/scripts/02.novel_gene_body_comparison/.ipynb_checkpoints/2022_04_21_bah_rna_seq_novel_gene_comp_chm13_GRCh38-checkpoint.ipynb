{
 "cells": [
  {
   "cell_type": "code",
   "execution_count": 13,
   "metadata": {},
   "outputs": [],
   "source": [
    "## Import Libraries\n",
    "import pandas as pd\n",
    "import numpy as np\n",
    "from matplotlib_venn import venn2, venn2_circles, venn2_unweighted\n",
    "from matplotlib_venn import venn3, venn3_circles\n",
    "from matplotlib import pyplot as plt\n",
    "%matplotlib inline\n",
    "\n",
    "## Display all rows of pandas dataframes\n",
    "pd.set_option('display.max_rows', None)"
   ]
  },
  {
   "cell_type": "code",
   "execution_count": 14,
   "metadata": {},
   "outputs": [],
   "source": [
    "'''\n",
    "function name: parse_df_columns\n",
    "\n",
    "purpose: parsing the last aggregate column of the gtf/gff3 into useful columns and cleaning non-relevant columns\n",
    "\n",
    "input: dataframe containining \"raw\" gtf/gff\n",
    "\n",
    "output: dataframe containing gtf with useful columns [\"gene_id\", \"transcript_id\", etc...]\n",
    "'''\n",
    "\n",
    "def parse_df_columns(df, is_ref=True):\n",
    "\n",
    "    if is_ref:\n",
    "\n",
    "        ## Get gene ids\n",
    "        df[\"gene_id\"] = df[\"other\"].str.split(\"source_gene=\", expand=True)[1].str.split(';', expand=True)[0]\n",
    "\n",
    "        ## Get transcript ids\n",
    "        df[\"transcript_id\"] = df[\"other\"].str.split(\"source_transcript=\", expand=True)[1].str.split(';', expand=True)[0]\n",
    "\n",
    "        ## Get CHM gene_ids\n",
    "        df[\"CHM_gene_id\"] = df[\"other\"].str.split(\"gene_id=\", expand=True)[1].str.split(';', expand=True)[0]\n",
    "\n",
    "        ## Get transcript ids\n",
    "        df[\"CHM_transcript_id\"] = df[\"other\"].str.split(\"transcript_id=\", expand=True)[1].str.split(';', expand=True)[0]\n",
    "        \n",
    "        ## Get transcript names\n",
    "        df[\"transcript_name\"] = df[\"other\"].str.split(\"source_transcript_name=\", expand=True)[1].str.split(';', expand=True)[0]\n",
    "        \n",
    "        ## Get gene names\n",
    "        df[\"gene_name\"] = df[\"other\"].str.split(\"source_gene_common_name=\", expand=True)[1].str.split(';', expand=True)[0]\n",
    "        \n",
    "        ## Get start codon\n",
    "        df[\"start_codon\"] = df[\"other\"].str.split(\"adj_start=\", expand=True)[1].str.split(\";\", expand=True)[0]\n",
    "        \n",
    "        ## Get stop codon\n",
    "        df[\"stop_codon\"] = df[\"other\"].str.split(\"adj_stop=\", expand=True)[1].str.split(\";\", expand=True)[0]        \n",
    "\n",
    "        ## Only keep relevant\n",
    "        df = df[[\"chr\", \"start\", \"end\", \"strand\", \"type\", \"gene_id\", \"transcript_id\", \"CHM_gene_id\",\n",
    "                 \"CHM_transcript_id\", \"transcript_name\", \"gene_name\", \"start_codon\", \"stop_codon\"]].copy()\n",
    "\n",
    "        ## Drop duplicates\n",
    "        df.drop_duplicates(inplace=True)\n",
    "        \n",
    "\n",
    "    else:\n",
    "\n",
    "        ## Get CHM gene ids\n",
    "        df[\"gene_id\"] = df[\"other\"].str.split('\";', expand=True)[0].str.extract(\"([^ \\\"]*$)\", expand=True)\n",
    "\n",
    "        ## Get CHM transcript ids\n",
    "        df[\"transcript_id\"] = df[\"other\"].str.split('transcript_id \"', expand=True)[1].str.split('\"', expand=True)[0]\n",
    "\n",
    "        ## Get exon number\n",
    "        df[\"exon_number\"] = df[\"other\"].str.split('exon_number \"', expand=True)[1].str.split('\"', expand=True)[0]\n",
    "\n",
    "        ## Label novel transcripts\n",
    "        df.loc[df[\"transcript_id\"].str.startswith(\"tx.\"), \"is_novel_transcript\"] = True\n",
    "        df.loc[~df[\"transcript_id\"].str.startswith(\"tx.\"), \"is_novel_transcript\"] = False\n",
    "\n",
    "        ## Label novel genes\n",
    "        df.loc[df[\"gene_id\"].str.startswith(\"gene.\"), \"is_novel_gene\"] = True\n",
    "        df.loc[~df[\"gene_id\"].str.startswith(\"gene.\"), \"is_novel_gene\"] = False\n",
    "\n",
    "        ## Drop \"other\" column\n",
    "        df.drop(columns=[\"other\", \"dot_1\", \"dot_2\"], inplace=True)\n",
    "\n",
    "    for col in df.columns:\n",
    "        df.loc[df[col].isnull(), col] = np.NaN\n",
    "        \n",
    "\n",
    "    return df"
   ]
  },
  {
   "cell_type": "code",
   "execution_count": 15,
   "metadata": {},
   "outputs": [],
   "source": [
    "'''\n",
    "function name: merge_annotations\n",
    "\n",
    "purpose: Merge useful/relevant information from both annotations while removing repeated and irrelevant information\n",
    "\n",
    "input: Two different GTF annotations\n",
    "\n",
    "output: One GTF annotation containing all the relevant information\n",
    "'''\n",
    "\n",
    "def merge_annotations(ref_gtf, bambu_gtf):\n",
    "    \n",
    "    ## Merge the two annotations\n",
    "    names_ref_gtf = ref_gtf[[\"transcript_id\", \"gene_id\", \"gene_name\", \"transcript_name\"]].copy()\n",
    "    merged_gtf = pd.merge(bambu_gtf, names_ref_gtf, on=['gene_id', 'transcript_id'], how='left')\n",
    "    merged_gtf.drop_duplicates(inplace=True)\n",
    "\n",
    "    ## Label novel transcripts\n",
    "    merged_gtf.loc[merged_gtf[\"transcript_id\"].str.startswith(\"tx.\"), \"is_novel_transcript\"] = True\n",
    "    merged_gtf.loc[~merged_gtf[\"transcript_id\"].str.startswith(\"tx.\"), \"is_novel_transcript\"] = False\n",
    "\n",
    "    ## Label novel genes\n",
    "    merged_gtf.loc[merged_gtf[\"gene_id\"].str.startswith(\"gene.\"), \"is_novel_gene\"] = True\n",
    "    merged_gtf.loc[~merged_gtf[\"gene_id\"].str.startswith(\"gene.\"), \"is_novel_gene\"] = False\n",
    "\n",
    "    ## Create temporary variable only containing novel transcripts\n",
    "    temp = merged_gtf.loc[merged_gtf[\"is_novel_transcript\"] == True]\n",
    "\n",
    "    ## Annotate novel transcripts\n",
    "    merged_tmp = pd.merge(temp, ref_gtf[[\"gene_id\", \"gene_name\"]], on=['gene_id'], how='left')\n",
    "    merged_tmp.drop_duplicates(inplace=True)\n",
    "    merged_tmp[\"gene_name\"] = merged_tmp[\"gene_name_y\"]\n",
    "    merged_tmp.drop(columns=[\"source\", \"gene_name_y\", \"gene_name_x\"], inplace=True)\n",
    "\n",
    "    ## Return novel transcripts to original annotation\n",
    "    merged_final = pd.merge(merged_gtf, merged_tmp, on=['chr', 'type', 'start', 'end', 'strand', 'transcript_id',\n",
    "                    'transcript_name', 'gene_id', 'is_novel_transcript', 'is_novel_gene', 'exon_number'], how=\"left\")\n",
    "\n",
    "    ## Get gene names for novel transcripts of known genes\n",
    "    merged_final.gene_name_x.fillna(merged_final.gene_name_y, inplace=True)\n",
    "    merged_final[\"gene_name\"] = merged_final[\"gene_name_x\"]\n",
    "    merged_final.drop(columns =[\"gene_name_x\", \"gene_name_y\"], inplace=True)\n",
    "    \n",
    "    ## Get start and stop codons for known transcripts and exons of protein coding genes\n",
    "    ref_gtf = ref_gtf[[\"chr\", \"type\", \"start\", \"end\", \"strand\", \"transcript_id\", \"gene_id\", \"start_codon\", \"stop_codon\"]]\n",
    "    merged_final = pd.merge(merged_final, ref_gtf, on=[\"chr\", \"type\", \"start\", \"end\", \"strand\", \"transcript_id\", \"gene_id\"], how=\"left\")\n",
    "    \n",
    "    \n",
    "    merged_final = merged_final[[\"chr\", \"type\", \"start\", \"end\", \"strand\", \"transcript_id\", \"gene_id\", \"gene_name\", \n",
    "                    \"exon_number\", \"transcript_name\", \"start_codon\", \"stop_codon\", \"is_novel_gene\", \"is_novel_transcript\"]]\n",
    "\n",
    "\n",
    "    \n",
    "    return merged_final "
   ]
  },
  {
   "cell_type": "code",
   "execution_count": 16,
   "metadata": {},
   "outputs": [],
   "source": [
    "'''\n",
    "name: make_gene_and_transcript_converter\n",
    "\n",
    "input: The CHM13 CAT/Liftoff gff annotation version 2.0\n",
    "\n",
    "output: A dataframe with [\"gene_id\", \"transcript_id\", \"gene_name\", \"transcript_name\"] formatted in the same way as the \n",
    "bambu reference, so that we can properly assign gene and transcript names.\n",
    "\n",
    "purpose: Creating a list that allows us to assign transcript and gene names to the bambu annotation based on the transcript\n",
    "id and gene ID\n",
    "'''\n",
    "\n",
    "\n",
    "def make_gene_and_transcript_converter(gff):\n",
    "    \n",
    "    ## Change name of duplicate Ensembl IDs to CHM IDs\n",
    "    gff.loc[gff[\"transcript_id\"] == \"N/A\", \"transcript_id\"] = gff[\"CHM_transcript_id\"]\n",
    "    gff_transcripts = gff.loc[gff[\"type\"] == \"transcript\"].copy()\n",
    "    gff_transcripts = gff_transcripts[[\"transcript_id\", \"CHM_transcript_id\"]].drop_duplicates()\n",
    "    gff_transcripts = gff_transcripts[gff_transcripts['transcript_id'].duplicated() == True]\n",
    "    dup_trans = gff_transcripts[\"transcript_id\"].dropna().values.tolist()\n",
    "    gff.loc[gff[\"transcript_id\"].isin(dup_trans), \"transcript_id\"] = gff[\"transcript_id\"] + \"(\" + gff[\"CHM_transcript_id\"] + \")\"\n",
    "\n",
    "    ## Change name of duplicate gene ids to CHM ids\n",
    "    gff.loc[gff[\"gene_id\"] == \"None\", \"gene_id\"] = gff[\"CHM_gene_id\"]\n",
    "    gff_genes = gff.loc[gff[\"type\"] == \"transcript\"].copy()\n",
    "    gff_genes = gff_genes[[\"gene_id\", \"CHM_gene_id\"]].drop_duplicates()\n",
    "    gff_genes = gff_genes[gff_genes['gene_id'].duplicated() == True]\n",
    "    dup_genes = gff_genes[\"gene_id\"].dropna().values.tolist()\n",
    "    gff.loc[gff[\"gene_id\"].isin(dup_genes), \"gene_id\"] = gff[\"gene_id\"] + \"(\" + gff[\"CHM_gene_id\"] + \")\"\n",
    "\n",
    "    \n",
    "    ## Fix gene names for MSTRG Genes\n",
    "    gff_names = gff.loc[gff[\"type\"] == \"transcript\"].copy()\n",
    "    gff_names = gff_names[[\"gene_id\", \"gene_name\"]].copy()\n",
    "    gff_names.loc[gff_names[\"gene_name\"].str.contains(\"MSTRG.\"), \"gene_name\"] = np.NaN\n",
    "    gff_names.dropna(inplace=True)\n",
    "    gff_names.drop_duplicates(inplace=True, subset=[\"gene_id\"])\n",
    "    gff.drop(columns=\"gene_name\", inplace=True)\n",
    "    gff = pd.merge(gff, gff_names, on=\"gene_id\", how=\"left\")\n",
    "    gff = gff[[\"gene_id\", \"transcript_id\", \"gene_name\", \"transcript_name\",\n",
    "              \"start\", \"end\", \"type\", \"start_codon\", \"stop_codon\", \"chr\", \"strand\"]].copy()\n",
    "\n",
    "\n",
    "    return gff"
   ]
  },
  {
   "cell_type": "code",
   "execution_count": 17,
   "metadata": {},
   "outputs": [],
   "source": [
    "chm13_counts = pd.read_csv(\"../novel_gene_body_raw_data/chm13_bambu/counts_transcript.txt\", delimiter=\"\\t\", low_memory=False, \n",
    "                           header=0,)\n",
    "grch_counts = pd.read_csv(\"../novel_gene_body_raw_data/GRCh38_bambu/counts_transcript.txt\", delimiter=\"\\t\", low_memory=False, \n",
    "                           header=0,)\n",
    "\n",
    "list_counts = [chm13_counts, grch_counts]\n",
    "\n",
    "for df in list_counts:\n",
    "    \n",
    "    new_col_names = []\n",
    "    \n",
    "    for col in df.columns:\n",
    "        new_col_names.append(col.split(\"_nanopore\")[0])\n",
    "        \n",
    "    df.columns = new_col_names"
   ]
  },
  {
   "cell_type": "code",
   "execution_count": 18,
   "metadata": {},
   "outputs": [
    {
     "data": {
      "text/plain": [
       "Index(['TXNAME', 'GENEID', 'sample_421', 'sample_20484', 'sample_27527',\n",
       "       'sample_356', 'sample_20814'],\n",
       "      dtype='object')"
      ]
     },
     "execution_count": 18,
     "metadata": {},
     "output_type": "execute_result"
    }
   ],
   "source": [
    "chm13_counts.columns"
   ]
  },
  {
   "cell_type": "code",
   "execution_count": 19,
   "metadata": {},
   "outputs": [
    {
     "name": "stdout",
     "output_type": "stream",
     "text": [
      "CHM13 counts per sample:\n",
      "\n",
      "sample_421      4.647257e+07\n",
      "sample_20484    4.207083e+07\n",
      "sample_27527    5.270878e+07\n",
      "sample_356      4.217850e+07\n",
      "sample_20814    3.331663e+07\n",
      "dtype: float64\n",
      "\n",
      " GRCH38 counts per sample:\n",
      "\n",
      "sample_421      4.625321e+07\n",
      "sample_20484    4.160675e+07\n",
      "sample_27527    5.220217e+07\n",
      "sample_356      4.187732e+07\n",
      "sample_20814    3.312449e+07\n",
      "dtype: float64\n",
      "\n",
      "Difference in Counts per Sample:\n",
      "\n",
      "sample_421      219357.822522\n",
      "sample_20484    464089.000000\n",
      "sample_27527    506608.315461\n",
      "sample_356      301172.705238\n",
      "sample_20814    192136.046704\n",
      "dtype: float64\n",
      "\n",
      "Percent difference in Counte per Sample:\n",
      "\n",
      "sample_421      0.472016\n",
      "sample_20484    1.103113\n",
      "sample_27527    0.961146\n",
      "sample_356      0.714043\n",
      "sample_20814    0.576697\n",
      "dtype: float64\n"
     ]
    }
   ],
   "source": [
    "print(\"CHM13 counts per sample:\\n\")\n",
    "print(chm13_counts[['sample_421', 'sample_20484', 'sample_27527', 'sample_356', 'sample_20814']].sum())\n",
    "\n",
    "print(\"\\n GRCH38 counts per sample:\\n\")\n",
    "print(grch_counts[['sample_421', 'sample_20484', 'sample_27527', 'sample_356', 'sample_20814']].sum())\n",
    "\n",
    "print(\"\\nDifference in Counts per Sample:\\n\")\n",
    "difference = chm13_counts[['sample_421', 'sample_20484', 'sample_27527', 'sample_356', 'sample_20814']].sum() - grch_counts[['sample_421', 'sample_20484', 'sample_27527', 'sample_356', 'sample_20814']].sum()\n",
    "print(difference)\n",
    "\n",
    "print(\"\\nPercent difference in Counte per Sample:\\n\")\n",
    "percent_difference = difference/(chm13_counts[['sample_421', 'sample_20484', 'sample_27527', 'sample_356', 'sample_20814']].sum())\n",
    "print(percent_difference * 100)\n"
   ]
  },
  {
   "cell_type": "code",
   "execution_count": 20,
   "metadata": {},
   "outputs": [],
   "source": [
    "## Find novel transcripts in both annotations\n",
    "chm13_counts.loc[chm13_counts[\"TXNAME\"].str.startswith(\"tx.\"), \"is_novel_transcript\"] = True\n",
    "chm13_counts.loc[~chm13_counts[\"TXNAME\"].str.startswith(\"tx.\"), \"is_novel_transcript\"] = False\n",
    "\n",
    "grch_counts.loc[grch_counts[\"TXNAME\"].str.startswith(\"tx.\"), \"is_novel_transcript\"] = True\n",
    "grch_counts.loc[~grch_counts[\"TXNAME\"].str.startswith(\"tx.\"), \"is_novel_transcript\"] = False\n",
    "\n",
    "## Find novel genes in both annotations\n",
    "chm13_counts.loc[chm13_counts[\"GENEID\"].str.startswith(\"gene.\"), \"is_novel_gene\"] = True\n",
    "chm13_counts.loc[~chm13_counts[\"GENEID\"].str.startswith(\"gene.\"), \"is_novel_gene\"] = False\n",
    "\n",
    "grch_counts.loc[grch_counts[\"GENEID\"].str.startswith(\"gene.\"), \"is_novel_gene\"] = True\n",
    "grch_counts.loc[~grch_counts[\"GENEID\"].str.startswith(\"gene.\"), \"is_novel_gene\"] = False"
   ]
  },
  {
   "cell_type": "code",
   "execution_count": 21,
   "metadata": {},
   "outputs": [],
   "source": [
    "## Create dataframes with either only novel genes or only novel transcripts that are not from novel genes\n",
    "chm13_novel_genes = chm13_counts.loc[chm13_counts[\"is_novel_gene\"]]\n",
    "grch_novel_genes = grch_counts.loc[grch_counts[\"is_novel_gene\"]]\n",
    "\n",
    "chm13_novel_transcripts = chm13_counts.loc[((chm13_counts[\"is_novel_transcript\"]) & (~chm13_counts[\"is_novel_gene\"]))]\n",
    "grch_novel_transcripts = grch_counts.loc[((grch_counts[\"is_novel_transcript\"]) & (~grch_counts[\"is_novel_gene\"]))]"
   ]
  },
  {
   "cell_type": "code",
   "execution_count": 22,
   "metadata": {},
   "outputs": [],
   "source": [
    "## Filter novel genes and transcripts, must be present in every sample with 5+ counts.\n",
    "count_cols = ['sample_421', 'sample_20484', 'sample_27527', 'sample_356', 'sample_20814']\n",
    "\n",
    "for col in count_cols:\n",
    "    chm13_novel_genes = chm13_novel_genes.loc[chm13_novel_genes[col] > 5]\n",
    "    grch_novel_genes = grch_novel_genes.loc[grch_novel_genes[col] > 5]\n",
    "    chm13_novel_transcripts = chm13_novel_transcripts.loc[chm13_novel_transcripts[col] > 5]\n",
    "    grch_novel_transcripts = grch_novel_transcripts.loc[grch_novel_transcripts[col] > 5]"
   ]
  },
  {
   "cell_type": "code",
   "execution_count": 23,
   "metadata": {},
   "outputs": [
    {
     "name": "stdout",
     "output_type": "stream",
     "text": [
      "We found 104 novel genes in CHM13\n",
      "We found 105 novel genes in GRCh38\n",
      "We found 238 novel transcripts of known genes in CHM13\n",
      "We found 248 novel transcripts of known genes in GRCh38\n"
     ]
    }
   ],
   "source": [
    "## Count number of novel genes and novel transcripts in each dataframe\n",
    "print(\"We found\", chm13_novel_genes.shape[0], \"novel genes in CHM13\")\n",
    "print(\"We found\", grch_novel_genes.shape[0], \"novel genes in GRCh38\")\n",
    "\n",
    "print(\"We found\", chm13_novel_transcripts.shape[0], \"novel transcripts of known genes in CHM13\")\n",
    "print(\"We found\", grch_novel_transcripts.shape[0], \"novel transcripts of known genes in GRCh38\")"
   ]
  },
  {
   "cell_type": "code",
   "execution_count": 24,
   "metadata": {},
   "outputs": [],
   "source": [
    "## Open extended annotations and parse through them\n",
    "chm13_ref = pd.read_csv(\"../novel_gene_body_raw_data/chm13_bambu/extended_annotations.gtf\", header=None, delimiter=\"\\t\",\n",
    "                        low_memory=False, names=[\"chr\", \"source\", \"type\", \"start\", \"end\", \"dot_1\", \"strand\", \"dot_2\", \"other\"])\n",
    "grch_ref = pd.read_csv(\"../novel_gene_body_raw_data/GRCh38_bambu/extended_annotations.gtf\", header=None, delimiter=\"\\t\",\n",
    "                       low_memory=False, names=[\"chr\", \"source\", \"type\", \"start\", \"end\", \"dot_1\", \"strand\", \"dot_2\", \"other\"])\n",
    "\n",
    "chm13_ref = parse_df_columns(chm13_ref, is_ref=False)\n",
    "grch_ref = parse_df_columns(grch_ref, is_ref=False)"
   ]
  },
  {
   "cell_type": "code",
   "execution_count": 25,
   "metadata": {},
   "outputs": [],
   "source": [
    "## Fix up extended annotations to merge with counts matrices\n",
    "chm13_ref.columns = ['chr', 'source', 'type', 'start', 'end', 'strand', 'GENEID', \n",
    "                     'TXNAME', 'exon_number', 'is_novel_transcript', 'is_novel_gene']\n",
    "chm13_ref = chm13_ref.loc[chm13_ref[\"type\"] == \"transcript\"].copy()\n",
    "chm13_ref = chm13_ref[[\"chr\", \"start\", \"end\", \"GENEID\", \"TXNAME\"]]\n",
    "\n",
    "grch_ref.columns = ['chr', 'source', 'type', 'start', 'end', 'strand', 'GENEID', \n",
    "                     'TXNAME', 'exon_number', 'is_novel_transcript', 'is_novel_gene']\n",
    "grch_ref = grch_ref.loc[grch_ref[\"type\"] == \"transcript\"].copy()\n",
    "grch_ref = grch_ref[[\"chr\", \"start\", \"end\", \"GENEID\", \"TXNAME\"]]"
   ]
  },
  {
   "cell_type": "code",
   "execution_count": 26,
   "metadata": {},
   "outputs": [],
   "source": [
    "## Create gene location extractor for novel genes in both dataframes\n",
    "chm13_extractor = pd.merge(chm13_novel_genes[[\"GENEID\", \"TXNAME\"]], chm13_ref, how=\"left\", on=[\"GENEID\", \"TXNAME\"])\n",
    "grch_extractor = pd.merge(grch_novel_genes[[\"GENEID\", \"TXNAME\"]], grch_ref, how=\"left\", on=[\"GENEID\", \"TXNAME\"])"
   ]
  },
  {
   "cell_type": "code",
   "execution_count": 27,
   "metadata": {},
   "outputs": [],
   "source": [
    "## Create extraction column and drop others\n",
    "chm13_extractor[[\"chr\", \"start\", \"end\", \"GENEID\", \"TXNAME\"]] = chm13_extractor[[\"chr\", \"start\", \"end\"]].astype(\"int\")\n",
    "grch_extractor[[\"chr\", \"start\", \"end\", \"GENEID\", \"TXNAME\"]] = grch_extractor[[\"chr\", \"start\", \"end\"]].astype(\"int\")\n",
    "\n",
    "\n",
    "chm13_extractor[[\"chr\", \"start\", \"end\", \"GENEID\", \"TXNAME\"]] = chm13_extractor[[\"chr\", \"start\", \"end\", \"GENEID\", \"TXNAME\"]].astype(\"str\")\n",
    "grch_extractor[[\"chr\", \"start\", \"end\", \"GENEID\", \"TXNAME\"]] = grch_extractor[[\"chr\", \"start\", \"end\", \"GENEID\", \"TXNAME\"]].astype(\"str\")\n",
    "\n",
    "\n",
    "chm13_extractor[\"extraction\"] = chm13_extractor[\"chr\"] + \":\" + chm13_extractor[\"start\"] + \"-\" + chm13_extractor[\"end\"]\n",
    "grch_extractor[\"extraction\"] = grch_extractor[\"chr\"] + \":\" + grch_extractor[\"start\"] + \"-\" + grch_extractor[\"end\"]\n",
    "\n",
    "chm13_extractor = chm13_extractor[[\"GENEID\", \"TXNAME\", \"extraction\"]].copy()\n",
    "grch_extractor = grch_extractor[[\"GENEID\", \"TXNAME\", \"extraction\"]].copy()"
   ]
  },
  {
   "cell_type": "code",
   "execution_count": 28,
   "metadata": {},
   "outputs": [],
   "source": [
    "## Save novel gene sequence extractors for samtools\n",
    "chm13_extractor.to_csv(\"chm13_novel_gene_extractor.txt\", sep=\"\\t\", index=False, header=False)\n",
    "grch_extractor.to_csv(\"grch_novel_gene_extractor.txt\", sep=\"\\t\", index=False, header=False)"
   ]
  },
  {
   "cell_type": "code",
   "execution_count": null,
   "metadata": {},
   "outputs": [],
   "source": [
    "## Make venn diagram for genes expressing novel isoforms.\n",
    "\n",
    "chm13_novel_transcripts[\"GENEID\"] = chm13_novel_transcripts[\"GENEID\"].str.split(\".\", expand=True)[0]\n",
    "\n",
    "chm13_set = chm13_novel_transcripts[\"GENEID\"]\n",
    "grch_set = grch_novel_transcripts[\"GENEID\"]\n",
    "\n",
    "venn2_unweighted(subsets = [set(chm13_set), set(grch_set)], set_labels = ('CHM13', 'GRCh38'), \n",
    "                 set_colors=('#648FFF', '#FE6100'), alpha = 0.75);\n",
    "\n",
    "plt.title(\"Genes with Novel Transcripts\", size=16)"
   ]
  },
  {
   "cell_type": "code",
   "execution_count": null,
   "metadata": {},
   "outputs": [],
   "source": [
    "## Save novel transcript in known genes for GRCh38 so that we can compare them to known trancripts in ENSEMBL tracks\n",
    "grch_ref = pd.read_csv(\"../novel_gene_body_raw_data/GRCh38_bambu/extended_annotations.gtf\", header=None, delimiter=\"\\t\",\n",
    "                        low_memory=False, names=[\"chr\", \"source\", \"type\", \"start\", \"end\", \"dot_1\", \"strand\", \"dot_2\", \"other\"])\n",
    "\n",
    "\n",
    "grch_ref = parse_df_columns(grch_ref, is_ref=False)"
   ]
  },
  {
   "cell_type": "code",
   "execution_count": null,
   "metadata": {},
   "outputs": [],
   "source": [
    "grch_novel_transcripts = grch_ref.loc[((~grch_ref[\"is_novel_gene\"]) & (grch_ref[\"is_novel_transcript\"]))].copy()"
   ]
  },
  {
   "cell_type": "code",
   "execution_count": null,
   "metadata": {},
   "outputs": [],
   "source": [
    "grch_ref = pd.read_csv(\"../novel_gene_body_raw_data/GRCh38_bambu/extended_annotations.gtf\", header=None, delimiter=\"\\t\",\n",
    "                        low_memory=False, names=[\"chr\", \"source\", \"type\", \"start\", \"end\", \"dot_1\", \"strand\", \"dot_2\", \"other\"])"
   ]
  },
  {
   "cell_type": "code",
   "execution_count": null,
   "metadata": {},
   "outputs": [],
   "source": [
    "novel_transcript_annotation_grch = pd.merge(grch_novel_transcripts[\"gene_id\"], grch_ref, left_index=True, right_index=True)"
   ]
  },
  {
   "cell_type": "code",
   "execution_count": null,
   "metadata": {},
   "outputs": [],
   "source": [
    "disease_relevant_genes = pd.read_csv(\"../../cDNA-comparison/article_analysis/annotations/disease_relevant_gene_names.csv\", names=[\"gene_id\", \"gene_name\"],\n",
    "                                    header=0)\n",
    "\n",
    "## Create list of novel transcripts in disease relevant genes\n",
    "novel_relevant = pd.merge(disease_relevant_genes, novel_transcript_annotation_grch, how='inner', on=\"gene_id\")"
   ]
  },
  {
   "cell_type": "code",
   "execution_count": null,
   "metadata": {},
   "outputs": [],
   "source": [
    "novel_relevant"
   ]
  },
  {
   "cell_type": "code",
   "execution_count": null,
   "metadata": {},
   "outputs": [],
   "source": [
    "novel_relevant.drop(columns=[\"gene_id\", \"gene_name\"], inplace=True)"
   ]
  },
  {
   "cell_type": "code",
   "execution_count": null,
   "metadata": {},
   "outputs": [],
   "source": [
    "novel_relevant"
   ]
  },
  {
   "cell_type": "code",
   "execution_count": 48,
   "metadata": {},
   "outputs": [],
   "source": [
    "novel_relevant.to_csv(\"../novel_gene_body_processed_data/novel_med_relevant_transcript_annotation_GRCh38.gtf\", \n",
    "                                        sep=\"\\t\", header=False, index=False)"
   ]
  }
 ],
 "metadata": {
  "kernelspec": {
   "display_name": "Python 3",
   "language": "python",
   "name": "python3"
  },
  "language_info": {
   "codemirror_mode": {
    "name": "ipython",
    "version": 3
   },
   "file_extension": ".py",
   "mimetype": "text/x-python",
   "name": "python",
   "nbconvert_exporter": "python",
   "pygments_lexer": "ipython3",
   "version": "3.8.5"
  }
 },
 "nbformat": 4,
 "nbformat_minor": 4
}
