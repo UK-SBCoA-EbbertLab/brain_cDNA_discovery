{
 "cells": [
  {
   "cell_type": "code",
   "execution_count": 1,
   "id": "4d01a4f8",
   "metadata": {},
   "outputs": [],
   "source": [
    "## Import Libraries\n",
    "import pandas as pd\n",
    "import numpy as np\n",
    "from matplotlib_venn import venn2, venn2_circles, venn2_unweighted\n",
    "from matplotlib_venn import venn3, venn3_circles\n",
    "from matplotlib import pyplot as plt\n",
    "%matplotlib inline\n",
    "from wordcloud import WordCloud\n",
    "import seaborn as sns\n",
    "\n",
    "## Display all rows of pandas dataframes\n",
    "pd.set_option('display.max_rows', None)"
   ]
  },
  {
   "cell_type": "code",
   "execution_count": 2,
   "id": "072fb998",
   "metadata": {},
   "outputs": [],
   "source": [
    "'''\n",
    "function name: calculate_cpm\n",
    "\n",
    "purpose: Calculate CPM for the each sample given\n",
    "\n",
    "input: Counts dataset\n",
    "\n",
    "output: Counts dataset with CPM columns as well\n",
    "'''\n",
    "\n",
    "def calculate_cpm(df, is_gene=False):\n",
    "\n",
    "    ## Set count columns if dataframe is gene counts\n",
    "    if is_gene:\n",
    "        count_columns = df.columns[1:].tolist()\n",
    "    \n",
    "    ## Set count columns if dataframe is transcript counts\n",
    "    else:\n",
    "        count_columns = df.columns[2:].tolist()\n",
    "\n",
    "    ## Loop through counts columns to calculate CPM and add to the dataframe\n",
    "    for col in count_columns:\n",
    "        \n",
    "        df[col] = round(df[col], 2)\n",
    "        cpm_name = col.replace(\"_counts\", \"_CPM\")\n",
    "        df[cpm_name] = round(((df[col]/(df[col].sum())) * 1000000), 2)\n",
    "    \n",
    "    return df   "
   ]
  },
  {
   "cell_type": "code",
   "execution_count": 3,
   "id": "f9bf224a",
   "metadata": {},
   "outputs": [],
   "source": [
    "'''\n",
    "function name: fix_column_names\n",
    "\n",
    "purpose: Fixing the column names, making them smaller, informative, and consistent\n",
    "\n",
    "input: The raw counts dataframe for either genes or transcripts \n",
    "\n",
    "output: Same dataframe with improved column names\n",
    "'''\n",
    "\n",
    "def fix_column_names(df, is_gene=False):\n",
    "    \n",
    "    ## Check if this is a gene counts object\n",
    "    if is_gene:\n",
    "        \n",
    "        ## Get count column names and create list of new column names\n",
    "        count_columns = df.columns.tolist()\n",
    "        list_new_names = [\"gene_id\"]\n",
    "        \n",
    "        ## gene_id comes in as index for gene counts data, make it into the first column instead\n",
    "        df[\"gene_id\"] = df.index\n",
    "        cols = list(df.columns)\n",
    "        cols = [cols[-1]] + cols[:-1]\n",
    "        df = df[cols]\n",
    "        df.reset_index(inplace=True, drop=True)\n",
    "    \n",
    "    ## If it is a transcript dataset\n",
    "    else:\n",
    "        ## Set count columns and create list of new names\n",
    "        count_columns = df.columns[2:].tolist()\n",
    "        list_new_names = [ \"transcript_id\", \"gene_id\"]\n",
    "    \n",
    "    ## Fix names one by one and add to list of new names\n",
    "    for col in count_columns:\n",
    "        col = col.split(\"_mapped\")[0] + \"_counts\"\n",
    "        list_new_names.append(col)\n",
    "    \n",
    "    ## Rename columns\n",
    "    df.columns = list_new_names\n",
    "    \n",
    "    return df "
   ]
  },
  {
   "cell_type": "code",
   "execution_count": 4,
   "id": "c79885da",
   "metadata": {},
   "outputs": [],
   "source": [
    "'''\n",
    "name: relative_transcript_abundance\n",
    "\n",
    "purpose: calculate relative transcript abundance\n",
    "\n",
    "input: a dataframe with a ref_gene_id column identifying the transcript gene of origin and a cov columns with \n",
    "the coverage for the transcripts.\n",
    "\n",
    "output: the same dataframe with a relative abundance column added\n",
    "'''\n",
    "\n",
    "\n",
    "\n",
    "def relative_transcript_abundance(df):\n",
    "    \n",
    "    df_sums = df[[\"gene_id\", \"total_CPM\"]].groupby(\"gene_id\").sum()\n",
    "    \n",
    "    df_sums[\"total_CPM_gene\"] = df_sums[\"total_CPM\"]\n",
    "\n",
    "    df_sums.drop(columns=\"total_CPM\", inplace=True)\n",
    "    \n",
    "    merged_df = pd.merge(df, df_sums, how='inner', on=\"gene_id\")\n",
    "    \n",
    "    merged_df[\"relative_abundance_percent\"] = ((merged_df[\"total_CPM\"]/merged_df[\"total_CPM_gene\"]) * 100)\n",
    "    \n",
    "    merged_df.drop(columns=\"total_CPM\", inplace=True)\n",
    "    \n",
    "    return merged_df"
   ]
  },
  {
   "cell_type": "code",
   "execution_count": 5,
   "id": "d124761a",
   "metadata": {},
   "outputs": [],
   "source": [
    "'''\n",
    "function name: parse_df_columns\n",
    "\n",
    "purpose: parsing the last aggregate column of the gtf/gff3 into useful columns and cleaning non-relevant columns\n",
    "\n",
    "input: dataframe containining \"raw\" gtf/gff\n",
    "\n",
    "output: dataframe containing gtf with useful columns [\"gene_id\", \"transcript_id\", etc...]\n",
    "'''\n",
    "\n",
    "def parse_df_columns(df, is_ref=True):\n",
    "\n",
    "    if is_ref:\n",
    "        \n",
    "        ## Get gene ids\n",
    "        df[\"gene_id\"] = df[\"other\"].str.split(\"source_gene=\", expand=True)[1].str.split(';', expand=True)[0]\n",
    "\n",
    "        ## Get transcript ids\n",
    "        df[\"transcript_id\"] = df[\"other\"].str.split(\"source_transcript=\", expand=True)[1].str.split(';', expand=True)[0]\n",
    "\n",
    "        ## Get CHM gene_ids\n",
    "        df[\"CHM_gene_id\"] = df[\"other\"].str.split(\"gene_id=\", expand=True)[1].str.split(';', expand=True)[0]\n",
    "\n",
    "        ## Get transcript ids\n",
    "        df[\"CHM_transcript_id\"] = df[\"other\"].str.split(\"transcript_id=\", expand=True)[1].str.split(';', expand=True)[0]\n",
    "        \n",
    "        ## Get transcript names\n",
    "        df[\"transcript_name\"] = df[\"other\"].str.split(\"source_transcript_name=\", expand=True)[1].str.split(';', expand=True)[0]\n",
    "        \n",
    "        ## Get gene names\n",
    "        df[\"gene_name\"] = df[\"other\"].str.split(\"source_gene_common_name=\", expand=True)[1].str.split(';', expand=True)[0]\n",
    "        \n",
    "        ## Get start codon\n",
    "        df[\"start_codon\"] = df[\"other\"].str.split(\"adj_start=\", expand=True)[1].str.split(\";\", expand=True)[0]\n",
    "        \n",
    "        ## Get stop codon\n",
    "        df[\"stop_codon\"] = df[\"other\"].str.split(\"adj_stop=\", expand=True)[1].str.split(\";\", expand=True)[0]        \n",
    "\n",
    "        ## Only keep relevant\n",
    "        df = df[[\"chr\", \"start\", \"end\", \"strand\", \"type\", \"gene_id\", \"transcript_id\", \"CHM_gene_id\",\n",
    "                 \"CHM_transcript_id\", \"transcript_name\", \"gene_name\", \"start_codon\", \"stop_codon\"]].copy()\n",
    "\n",
    "        ## Drop duplicates\n",
    "        df.drop_duplicates(inplace=True)\n",
    "        \n",
    "        \n",
    "\n",
    "    else:\n",
    "\n",
    "        ## Get CHM gene ids\n",
    "        df[\"gene_id\"] = df[\"other\"].str.split('\";', expand=True)[0].str.extract(\"([^ \\\"]*$)\", expand=True)\n",
    "        \n",
    "        \n",
    "        #df[\"gene_name\"] = df[\"other\"].str.split(\"gene_name \\\"\", expand=True)[1].str.split('\\\";', expand=True)[0]\n",
    "\n",
    "\n",
    "        ## Get CHM transcript ids\n",
    "        df[\"transcript_id\"] = df[\"other\"].str.split('transcript_id \"', expand=True)[1].str.split('\"', expand=True)[0]\n",
    "\n",
    "        ## Get exon number\n",
    "        df[\"exon_number\"] = df[\"other\"].str.split('exon_number \"', expand=True)[1].str.split('\"', expand=True)[0]\n",
    "\n",
    "        ## Label novel transcripts\n",
    "        #df.loc[df[\"transcript_id\"].str.startswith(\"tx.\"), \"is_novel_transcript\"] = True\n",
    "        #df.loc[~df[\"transcript_id\"].str.startswith(\"tx.\"), \"is_novel_transcript\"] = False\n",
    "\n",
    "        ## Label novel genes\n",
    "        #df.loc[df[\"gene_id\"].str.startswith(\"gene.\"), \"is_novel_gene\"] = True\n",
    "        #df.loc[~df[\"gene_id\"].str.startswith(\"gene.\"), \"is_novel_gene\"] = False\n",
    "\n",
    "        ## Drop \"other\" column\n",
    "        df.drop(columns=[\"other\", \"dot_1\", \"dot_2\"], inplace=True)\n",
    "\n",
    "    for col in df.columns:\n",
    "        df.loc[df[col].isnull(), col] = np.NaN\n",
    "        \n",
    "\n",
    "    return df"
   ]
  },
  {
   "cell_type": "code",
   "execution_count": 6,
   "id": "741a0afb",
   "metadata": {},
   "outputs": [],
   "source": [
    "'''\n",
    "name: make_gene_and_transcript_converter\n",
    "\n",
    "input: The CHM13 CAT/Liftoff gff annotation version 2.0\n",
    "\n",
    "output: A dataframe with [\"gene_id\", \"transcript_id\", \"gene_name\", \"transcript_name\"] formatted in the same way as the \n",
    "bambu reference, so that we can properly assign gene and transcript names.\n",
    "\n",
    "purpose: Creating a list that allows us to assign transcript and gene names to the bambu annotation based on the transcript\n",
    "id and gene ID\n",
    "'''\n",
    "\n",
    "\n",
    "def make_gene_and_transcript_converter(gff):\n",
    "    \n",
    "    ## Change name of duplicate Ensembl IDs to CHM IDs\n",
    "    gff.loc[gff[\"transcript_id\"] == \"N/A\", \"transcript_id\"] = gff[\"CHM_transcript_id\"]\n",
    "    gff_transcripts = gff.loc[gff[\"type\"] == \"transcript\"].copy()\n",
    "    gff_transcripts = gff_transcripts[[\"transcript_id\", \"CHM_transcript_id\"]].drop_duplicates()\n",
    "    gff_transcripts = gff_transcripts[gff_transcripts['transcript_id'].duplicated() == True]\n",
    "    dup_trans = gff_transcripts[\"transcript_id\"].dropna().values.tolist()\n",
    "    gff.loc[gff[\"transcript_id\"].isin(dup_trans), \"transcript_id\"] = gff[\"transcript_id\"] + \"(\" + gff[\"CHM_transcript_id\"] + \")\"\n",
    "\n",
    "    ## Change name of duplicate gene ids to CHM ids\n",
    "    gff.loc[gff[\"gene_id\"] == \"None\", \"gene_id\"] = gff[\"CHM_gene_id\"]\n",
    "    gff_genes = gff.loc[gff[\"type\"] == \"transcript\"].copy()\n",
    "    gff_genes = gff_genes[[\"gene_id\", \"CHM_gene_id\"]].drop_duplicates()\n",
    "    gff_genes = gff_genes[gff_genes['gene_id'].duplicated() == True]\n",
    "    dup_genes = gff_genes[\"gene_id\"].dropna().values.tolist()\n",
    "    gff.loc[gff[\"gene_id\"].isin(dup_genes), \"gene_id\"] = gff[\"gene_id\"] + \"(\" + gff[\"CHM_gene_id\"] + \")\"\n",
    "\n",
    "    \n",
    "    ## Fix gene names for MSTRG Genes\n",
    "    gff_names = gff.loc[gff[\"type\"] == \"transcript\"].copy()\n",
    "    gff_names = gff_names[[\"gene_id\", \"gene_name\"]].copy()\n",
    "    gff_names.loc[gff_names[\"gene_name\"].str.contains(\"MSTRG.\"), \"gene_name\"] = np.NaN\n",
    "    gff_names.dropna(inplace=True)\n",
    "    gff_names.drop_duplicates(inplace=True, subset=[\"gene_id\"])\n",
    "    gff.drop(columns=\"gene_name\", inplace=True)\n",
    "    gff = pd.merge(gff, gff_names, on=\"gene_id\", how=\"left\")\n",
    "    gff = gff[[\"gene_id\", \"transcript_id\", \"gene_name\", \"transcript_name\",\n",
    "              \"start\", \"end\", \"type\", \"start_codon\", \"stop_codon\", \"chr\", \"strand\"]].copy()\n",
    "\n",
    "\n",
    "    return gff"
   ]
  },
  {
   "cell_type": "code",
   "execution_count": 7,
   "id": "e2631f92",
   "metadata": {},
   "outputs": [],
   "source": [
    "'''\n",
    "function name: merge_annotations\n",
    "\n",
    "purpose: Merge useful/relevant information from both annotations while removing repeated and irrelevant information\n",
    "\n",
    "input: Two different GTF annotations\n",
    "\n",
    "output: One GTF annotation containing all the relevant information\n",
    "'''\n",
    "\n",
    "def merge_annotations(ref_gtf, bambu_gtf):\n",
    "    \n",
    "    ## Merge the two annotations\n",
    "    names_ref_gtf = ref_gtf[[\"transcript_id\", \"gene_id\", \"gene_name\", \"transcript_name\"]].copy()\n",
    "    merged_gtf = pd.merge(bambu_gtf, names_ref_gtf, on=['gene_id', 'transcript_id'], how='left')\n",
    "    merged_gtf.drop_duplicates(inplace=True)\n",
    "\n",
    "    ## Label novel transcripts\n",
    "    merged_gtf.loc[merged_gtf[\"transcript_id\"].str.startswith(\"tx.\"), \"is_novel_transcript\"] = True\n",
    "    merged_gtf.loc[~merged_gtf[\"transcript_id\"].str.startswith(\"tx.\"), \"is_novel_transcript\"] = False\n",
    "\n",
    "    ## Label novel genes\n",
    "    merged_gtf.loc[merged_gtf[\"gene_id\"].str.startswith(\"gene.\"), \"is_novel_gene\"] = True\n",
    "    merged_gtf.loc[~merged_gtf[\"gene_id\"].str.startswith(\"gene.\"), \"is_novel_gene\"] = False\n",
    "\n",
    "    ## Create temporary variable only containing novel transcripts\n",
    "    temp = merged_gtf.loc[merged_gtf[\"is_novel_transcript\"] == True]\n",
    "\n",
    "    ## Annotate novel transcripts\n",
    "    merged_tmp = pd.merge(temp, ref_gtf[[\"gene_id\", \"gene_name\"]], on=['gene_id'], how='left')\n",
    "    merged_tmp.drop_duplicates(inplace=True)\n",
    "    merged_tmp[\"gene_name\"] = merged_tmp[\"gene_name_y\"]\n",
    "    merged_tmp.drop(columns=[\"source\", \"gene_name_y\", \"gene_name_x\"], inplace=True)\n",
    "\n",
    "    ## Return novel transcripts to original annotation\n",
    "    merged_final = pd.merge(merged_gtf, merged_tmp, on=['chr', 'type', 'start', 'end', 'strand', 'transcript_id',\n",
    "                    'transcript_name', 'gene_id', 'is_novel_transcript', 'is_novel_gene', 'exon_number'], how=\"left\")\n",
    "\n",
    "    ## Get gene names for novel transcripts of known genes\n",
    "    merged_final.gene_name_x.fillna(merged_final.gene_name_y, inplace=True)\n",
    "    merged_final[\"gene_name\"] = merged_final[\"gene_name_x\"]\n",
    "    merged_final.drop(columns =[\"gene_name_x\", \"gene_name_y\"], inplace=True)\n",
    "    \n",
    "    ## Get start and stop codons for known transcripts and exons of protein coding genes\n",
    "    ref_gtf = ref_gtf[[\"chr\", \"type\", \"start\", \"end\", \"strand\", \"transcript_id\", \"gene_id\", \"start_codon\", \"stop_codon\"]]\n",
    "    merged_final = pd.merge(merged_final, ref_gtf, on=[\"chr\", \"type\", \"start\", \"end\", \"strand\", \"transcript_id\", \"gene_id\"], how=\"left\")\n",
    "    \n",
    "    \n",
    "    merged_final = merged_final[[\"chr\", \"type\", \"start\", \"end\", \"strand\", \"transcript_id\", \"gene_id\", \"gene_name\", \n",
    "                    \"exon_number\", \"transcript_name\", \"start_codon\", \"stop_codon\", \"is_novel_gene\", \"is_novel_transcript\"]]\n",
    "\n",
    "\n",
    "    \n",
    "    return merged_final "
   ]
  },
  {
   "cell_type": "code",
   "execution_count": 8,
   "id": "3c581a34",
   "metadata": {},
   "outputs": [],
   "source": [
    "'''\n",
    "name: make_gene_and_transcript_converter\n",
    "\n",
    "input: The CHM13 CAT/Liftoff gff annotation version 2.0\n",
    "\n",
    "output: A dataframe with [\"gene_id\", \"transcript_id\", \"gene_name\", \"transcript_name\"] formatted in the same way as the \n",
    "bambu reference, so that we can properly assign gene and transcript names.\n",
    "\n",
    "purpose: Creating a list that allows us to assign transcript and gene names to the bambu annotation based on the transcript\n",
    "id and gene ID\n",
    "'''\n",
    "\n",
    "\n",
    "def make_gene_and_transcript_converter(gff):\n",
    "    \n",
    "    ## Change name of duplicate Ensembl IDs to CHM IDs\n",
    "    gff.loc[gff[\"transcript_id\"] == \"N/A\", \"transcript_id\"] = gff[\"CHM_transcript_id\"]\n",
    "    gff_transcripts = gff.loc[gff[\"type\"] == \"transcript\"].copy()\n",
    "    gff_transcripts = gff_transcripts[[\"transcript_id\", \"CHM_transcript_id\"]].drop_duplicates()\n",
    "    gff_transcripts = gff_transcripts[gff_transcripts['transcript_id'].duplicated() == True]\n",
    "    dup_trans = gff_transcripts[\"transcript_id\"].dropna().values.tolist()\n",
    "    gff.loc[gff[\"transcript_id\"].isin(dup_trans), \"transcript_id\"] = gff[\"transcript_id\"] + \"(\" + gff[\"CHM_transcript_id\"] + \")\"\n",
    "\n",
    "    ## Change name of duplicate gene ids to CHM ids\n",
    "    gff.loc[gff[\"gene_id\"] == \"None\", \"gene_id\"] = gff[\"CHM_gene_id\"]\n",
    "    gff_genes = gff.loc[gff[\"type\"] == \"transcript\"].copy()\n",
    "    gff_genes = gff_genes[[\"gene_id\", \"CHM_gene_id\"]].drop_duplicates()\n",
    "    gff_genes = gff_genes[gff_genes['gene_id'].duplicated() == True]\n",
    "    dup_genes = gff_genes[\"gene_id\"].dropna().values.tolist()\n",
    "    gff.loc[gff[\"gene_id\"].isin(dup_genes), \"gene_id\"] = gff[\"gene_id\"] + \"(\" + gff[\"CHM_gene_id\"] + \")\"\n",
    "\n",
    "    \n",
    "    ## Fix gene names for MSTRG Genes\n",
    "    gff_names = gff.loc[gff[\"type\"] == \"transcript\"].copy()\n",
    "    gff_names = gff_names[[\"gene_id\", \"gene_name\"]].copy()\n",
    "    gff_names.loc[gff_names[\"gene_name\"].str.contains(\"MSTRG.\"), \"gene_name\"] = np.NaN\n",
    "    gff_names.dropna(inplace=True)\n",
    "    gff_names.drop_duplicates(inplace=True, subset=[\"gene_id\"])\n",
    "    gff.drop(columns=\"gene_name\", inplace=True)\n",
    "    gff = pd.merge(gff, gff_names, on=\"gene_id\", how=\"left\")\n",
    "    gff = gff[[\"gene_id\", \"transcript_id\", \"gene_name\", \"transcript_name\",\n",
    "              \"start\", \"end\", \"type\", \"start_codon\", \"stop_codon\", \"chr\", \"strand\"]].copy()\n",
    "\n",
    "\n",
    "    return gff"
   ]
  },
  {
   "cell_type": "markdown",
   "id": "bc12255a",
   "metadata": {},
   "source": [
    "## 1) Stringent CHM13 Discovery Analysis - Wordcloud and exon histograms"
   ]
  },
  {
   "cell_type": "code",
   "execution_count": 30,
   "id": "65f3b0ba",
   "metadata": {},
   "outputs": [],
   "source": [
    "## Fix column names in counts matrix\n",
    "\n",
    "chm13_counts = pd.read_csv(\"../../data/raw/CHM13_merged_aged_stringent/bambu_discovery/counts_transcript.txt\", \n",
    "                           delimiter=\"\\t\", low_memory=False, header=0)\n",
    "\n",
    "chm13_counts = fix_column_names(chm13_counts, is_gene=False)"
   ]
  },
  {
   "cell_type": "code",
   "execution_count": 31,
   "id": "29768a04",
   "metadata": {},
   "outputs": [],
   "source": [
    "## Calculate total counts and fix gene id\n",
    "chm13_counts[\"total_counts\"] = chm13_counts[chm13_counts.columns[2:6].tolist()].sum(axis=1)"
   ]
  },
  {
   "cell_type": "code",
   "execution_count": 32,
   "id": "c48378da",
   "metadata": {},
   "outputs": [],
   "source": [
    "## Calculate CPM and drop count columns\n",
    "chm13_counts = calculate_cpm(chm13_counts, is_gene=False)\n",
    "\n",
    "chm13_counts = chm13_counts[chm13_counts.columns.drop(list(chm13_counts.filter(regex='counts')))]"
   ]
  },
  {
   "cell_type": "code",
   "execution_count": 33,
   "id": "b4e18714",
   "metadata": {},
   "outputs": [],
   "source": [
    "## Find novel transcripts in both annotations\n",
    "chm13_counts.loc[chm13_counts[\"transcript_id\"].str.startswith(\"tx.\"), \"is_novel_transcript\"] = True\n",
    "chm13_counts.loc[~chm13_counts[\"transcript_id\"].str.startswith(\"tx.\"), \"is_novel_transcript\"] = False\n",
    "\n",
    "## Find novel genes in both annotations\n",
    "chm13_counts.loc[chm13_counts[\"gene_id\"].str.startswith(\"gene.\"), \"is_novel_gene\"] = True\n",
    "chm13_counts.loc[~chm13_counts[\"gene_id\"].str.startswith(\"gene.\"), \"is_novel_gene\"] = False"
   ]
  },
  {
   "cell_type": "code",
   "execution_count": 34,
   "id": "361c673b",
   "metadata": {},
   "outputs": [],
   "source": [
    "## Create dataframes with either only novel genes or only novel transcripts that are not from novel genes\n",
    "chm13_novel_genes = chm13_counts.loc[chm13_counts[\"is_novel_gene\"]].copy()\n",
    "chm13_novel_transcripts = chm13_counts.loc[((chm13_counts[\"is_novel_transcript\"]) & (~chm13_counts[\"is_novel_gene\"]))].copy()"
   ]
  },
  {
   "cell_type": "code",
   "execution_count": 35,
   "id": "18effc83",
   "metadata": {},
   "outputs": [
    {
     "name": "stdout",
     "output_type": "stream",
     "text": [
      "We found 170 novel genes in CHM13\n",
      "We found 546 novel transcripts in CHM13\n"
     ]
    }
   ],
   "source": [
    "## See how many novel genes\n",
    "print(\"We found\", chm13_novel_genes.shape[0], \"novel genes in CHM13\")\n",
    "print(\"We found\", chm13_novel_transcripts.shape[0], \"novel transcripts in CHM13\")"
   ]
  },
  {
   "cell_type": "code",
   "execution_count": 36,
   "id": "fbced773",
   "metadata": {},
   "outputs": [],
   "source": [
    "## Filter novel genes and transcripts, total CPM > 1\n",
    "chm13_novel_genes = chm13_novel_genes[(chm13_novel_genes[\"total_CPM\"]>1)]\n",
    "chm13_novel_transcripts = chm13_novel_transcripts[(chm13_novel_transcripts[\"total_CPM\"]>1)]"
   ]
  },
  {
   "cell_type": "code",
   "execution_count": 37,
   "id": "5b9a0b13",
   "metadata": {},
   "outputs": [
    {
     "name": "stdout",
     "output_type": "stream",
     "text": [
      "We found 81 novel genes in CHM13 (avg CPM > 1)\n",
      "We found 458 novel transcripts of known genes in CHM13 (avg CPM > 1)\n"
     ]
    }
   ],
   "source": [
    "## Count number of novel genes and novel transcripts in each dataframe\n",
    "print(\"We found\", chm13_novel_genes.shape[0], \"novel genes in CHM13 (avg CPM > 1)\")\n",
    "print(\"We found\", chm13_novel_transcripts.shape[0], \"novel transcripts of known genes in CHM13 (avg CPM > 1)\")"
   ]
  },
  {
   "cell_type": "code",
   "execution_count": 38,
   "id": "c591e32d",
   "metadata": {},
   "outputs": [],
   "source": [
    "## Save novel transcript in known genes for GRCh38 so that we can compare them to known trancripts in ENSEMBL tracks\n",
    "chm13_ref = pd.read_csv(\"../../data/raw/CHM13_merged_aged_stringent/bambu_discovery/extended_annotations.gtf\",\n",
    "                        header=None, delimiter=\"\\t\", low_memory=False, \n",
    "                        names=[\"chr\", \"source\", \"type\", \"start\", \"end\", \"dot_1\", \"strand\", \"dot_2\", \"other\"])\n",
    "\n",
    "\n",
    "chm13_ref = parse_df_columns(chm13_ref, is_ref=False)"
   ]
  },
  {
   "cell_type": "code",
   "execution_count": 39,
   "id": "fec95009",
   "metadata": {},
   "outputs": [],
   "source": [
    "## Define annotation with new genes only\n",
    "chm13_ref_new_gene = chm13_ref.loc[chm13_ref[\"gene_id\"].isin(chm13_novel_genes[\"gene_id\"])].copy()"
   ]
  },
  {
   "cell_type": "code",
   "execution_count": 40,
   "id": "f9527136",
   "metadata": {},
   "outputs": [],
   "source": [
    "## Only keep transcripts\n",
    "chm13_ref = chm13_ref.loc[chm13_ref[\"type\"] == \"transcript\"].copy()"
   ]
  },
  {
   "cell_type": "code",
   "execution_count": 41,
   "id": "da3f7366",
   "metadata": {},
   "outputs": [],
   "source": [
    "## Only keep expressed transcripts\n",
    "chm13_novel_transcripts_expressed = chm13_ref.loc[chm13_ref[\"transcript_id\"].isin(\n",
    "                                                    chm13_novel_transcripts[\"transcript_id\"])].copy()"
   ]
  },
  {
   "cell_type": "code",
   "execution_count": 42,
   "id": "12f9c4b6",
   "metadata": {},
   "outputs": [
    {
     "data": {
      "text/plain": [
       "(458, 9)"
      ]
     },
     "execution_count": 42,
     "metadata": {},
     "output_type": "execute_result"
    }
   ],
   "source": [
    "chm13_novel_transcripts_expressed.shape"
   ]
  },
  {
   "cell_type": "code",
   "execution_count": 43,
   "id": "45005ae1",
   "metadata": {},
   "outputs": [],
   "source": [
    "## Save novel transcript in known genes for GRCh38 so that we can compare them to known trancripts in ENSEMBL tracks\n",
    "orig_ref = pd.read_csv(\"../../references/CHM13.v2.0.gff3\", header=None, delimiter=\"\\t\", low_memory=False, \n",
    "                       names=[\"chr\", \"source\", \"type\", \"start\", \"end\", \"dot_1\", \"strand\", \"dot_2\", \"other\"], comment=\"#\")"
   ]
  },
  {
   "cell_type": "code",
   "execution_count": 23,
   "id": "a6559ea2",
   "metadata": {},
   "outputs": [],
   "source": [
    "## Create good reference to convert gene names\n",
    "orig_ref = orig_ref.loc[orig_ref[\"type\"]==\"transcript\"].copy()\n",
    "orig_ref = parse_df_columns(orig_ref, is_ref=True)"
   ]
  },
  {
   "cell_type": "code",
   "execution_count": 24,
   "id": "0cf9ea83",
   "metadata": {},
   "outputs": [],
   "source": [
    "orig_ref = make_gene_and_transcript_converter(orig_ref)"
   ]
  },
  {
   "cell_type": "code",
   "execution_count": 25,
   "id": "1b92e1e2",
   "metadata": {},
   "outputs": [],
   "source": [
    "orig_ref_filtered = orig_ref[[\"gene_id\", \"gene_name\"]]"
   ]
  },
  {
   "cell_type": "code",
   "execution_count": 26,
   "id": "68265e5d",
   "metadata": {},
   "outputs": [],
   "source": [
    "novel_relevant = chm13_novel_transcripts_expressed.merge(orig_ref_filtered, on=[\"gene_id\"], how=\"inner\")"
   ]
  },
  {
   "cell_type": "code",
   "execution_count": 27,
   "id": "e4362c90",
   "metadata": {},
   "outputs": [],
   "source": [
    "novel_relevant.drop_duplicates(inplace=True)"
   ]
  },
  {
   "cell_type": "code",
   "execution_count": 28,
   "id": "772e4da4",
   "metadata": {
    "scrolled": true
   },
   "outputs": [
    {
     "data": {
      "text/plain": [
       "(458, 10)"
      ]
     },
     "execution_count": 28,
     "metadata": {},
     "output_type": "execute_result"
    }
   ],
   "source": [
    "novel_relevant.shape"
   ]
  },
  {
   "cell_type": "code",
   "execution_count": 29,
   "id": "0a85e310",
   "metadata": {},
   "outputs": [],
   "source": [
    "novel_relevant = novel_relevant.loc[novel_relevant[\"chr\"] != \"chrM\"].copy()"
   ]
  },
  {
   "cell_type": "code",
   "execution_count": 30,
   "id": "c68ec4e3",
   "metadata": {},
   "outputs": [],
   "source": [
    "list_new_transcript_genes = ['ALDH1A1','B4GALT7', 'BCAN', 'CA5A', 'CAMKMT', 'CAST', 'CD4', 'CLIC2', 'CPLX2', 'CRBN', 'DGUOK',\n",
    " 'DPYD', 'DPYS', 'FGF9', 'IVD', 'KHK', 'KIF27', 'LRP4', 'MAOB', 'MAP2K4', 'MFF', 'NDUFV3', 'NELFA', 'NME5', 'PBRM1', 'PKM',\n",
    " 'POLB', 'PPP6C', 'PSENEN', 'RAB27B', 'ROM1', 'SLC26A1', 'SMS', 'SNTG2', 'TBCE', 'TET1', 'TSFM', 'XPNPEP3', 'ZNF429']"
   ]
  },
  {
   "cell_type": "code",
   "execution_count": 31,
   "id": "bd33149f",
   "metadata": {},
   "outputs": [],
   "source": [
    "novel_relevant = novel_relevant.loc[novel_relevant['gene_name'].isin(list_new_transcript_genes)].copy()"
   ]
  },
  {
   "cell_type": "code",
   "execution_count": 32,
   "id": "d8a99c51",
   "metadata": {},
   "outputs": [],
   "source": [
    "## Merge with medically relevant genes on gene_id and get gene names\n",
    "novel_relevant_counts = pd.merge(chm13_counts, novel_relevant[[\"gene_id\", \"gene_name\"]], on=[\"gene_id\"], how=\"inner\")"
   ]
  },
  {
   "cell_type": "code",
   "execution_count": 33,
   "id": "8091604d",
   "metadata": {},
   "outputs": [],
   "source": [
    "## Drop any duplicates\n",
    "novel_relevant_counts.drop_duplicates(inplace=True)"
   ]
  },
  {
   "cell_type": "code",
   "execution_count": 34,
   "id": "e9b624d6",
   "metadata": {},
   "outputs": [
    {
     "data": {
      "text/plain": [
       "(355, 10)"
      ]
     },
     "execution_count": 34,
     "metadata": {},
     "output_type": "execute_result"
    }
   ],
   "source": [
    "## See shape\n",
    "novel_relevant_counts.shape"
   ]
  },
  {
   "cell_type": "code",
   "execution_count": 35,
   "id": "4ee91b7c",
   "metadata": {},
   "outputs": [
    {
     "data": {
      "text/plain": [
       "(29, 10)"
      ]
     },
     "execution_count": 35,
     "metadata": {},
     "output_type": "execute_result"
    }
   ],
   "source": [
    "## See number of novel transcript left\n",
    "novel_relevant_counts.loc[novel_relevant_counts[\"is_novel_transcript\"]==True].shape"
   ]
  },
  {
   "cell_type": "code",
   "execution_count": 36,
   "id": "60480762",
   "metadata": {},
   "outputs": [],
   "source": [
    "## Calculate relative transcript abundance\n",
    "novel_relevant_relative_abundance = relative_transcript_abundance(novel_relevant_counts)"
   ]
  },
  {
   "cell_type": "code",
   "execution_count": 37,
   "id": "5f93de69",
   "metadata": {},
   "outputs": [],
   "source": [
    "## Create list with med relevant genes with novel isoforms and their relative frequency\n",
    "novel_relevant_words = novel_relevant_relative_abundance.loc[novel_relevant_relative_abundance[\"is_novel_transcript\"] == True][[\"gene_name\", \"relative_abundance_percent\"]]"
   ]
  },
  {
   "cell_type": "code",
   "execution_count": 38,
   "id": "59f13c16",
   "metadata": {},
   "outputs": [],
   "source": [
    "## Drop duplicates\n",
    "novel_relevant_words = novel_relevant_words.drop_duplicates()"
   ]
  },
  {
   "cell_type": "code",
   "execution_count": 39,
   "id": "23856040",
   "metadata": {},
   "outputs": [],
   "source": [
    "## Sum relative abundance of all novel isoforms by gene name and round to nearest integer\n",
    "novel_relevant_words = round(novel_relevant_words.groupby(\"gene_name\")[\"relative_abundance_percent\"].sum(), 0)"
   ]
  },
  {
   "cell_type": "code",
   "execution_count": 40,
   "id": "5d9536c8",
   "metadata": {},
   "outputs": [],
   "source": [
    "## Create a dataframe to properly store the data\n",
    "novel_relevant_word_df = pd.DataFrame()\n",
    "novel_relevant_word_df['word_count'] = novel_relevant_words\n",
    "novel_relevant_word_df[\"gene_name\"] = novel_relevant_words.index"
   ]
  },
  {
   "cell_type": "code",
   "execution_count": 41,
   "id": "50c72b67",
   "metadata": {},
   "outputs": [],
   "source": [
    "## Drop index\n",
    "novel_relevant_word_df.reset_index(inplace=True, drop=True)"
   ]
  },
  {
   "cell_type": "code",
   "execution_count": 42,
   "id": "2ad01236",
   "metadata": {},
   "outputs": [
    {
     "name": "stdout",
     "output_type": "stream",
     "text": [
      "Empty DataFrame\n",
      "Columns: [word_count, gene_name]\n",
      "Index: []\n"
     ]
    }
   ],
   "source": [
    "## Print genes with novel isoforms relevant to AD\n",
    "ad_names = pd.read_csv(\"../../references/AD_genes.csv\", sep=\"\\t\")\n",
    "print(novel_relevant_word_df.loc[novel_relevant_word_df[\"gene_name\"].isin(ad_names[\"gene_name\"])])"
   ]
  },
  {
   "cell_type": "code",
   "execution_count": 43,
   "id": "231428b5",
   "metadata": {},
   "outputs": [
    {
     "name": "stdout",
     "output_type": "stream",
     "text": [
      "    word_count gene_name\n",
      "15         9.0      MAOB\n",
      "23        90.0   SLC26A1\n"
     ]
    }
   ],
   "source": [
    "## Print relative abundance for a couple other genes\n",
    "print(novel_relevant_word_df.loc[novel_relevant_word_df[\"gene_name\"].isin([\"MAOB\", \"SLC26A1\"])])"
   ]
  },
  {
   "cell_type": "code",
   "execution_count": 44,
   "id": "c00beafe",
   "metadata": {
    "scrolled": true
   },
   "outputs": [
    {
     "data": {
      "text/html": [
       "<div>\n",
       "<style scoped>\n",
       "    .dataframe tbody tr th:only-of-type {\n",
       "        vertical-align: middle;\n",
       "    }\n",
       "\n",
       "    .dataframe tbody tr th {\n",
       "        vertical-align: top;\n",
       "    }\n",
       "\n",
       "    .dataframe thead th {\n",
       "        text-align: right;\n",
       "    }\n",
       "</style>\n",
       "<table border=\"1\" class=\"dataframe\">\n",
       "  <thead>\n",
       "    <tr style=\"text-align: right;\">\n",
       "      <th></th>\n",
       "      <th>word_count</th>\n",
       "      <th>gene_name</th>\n",
       "    </tr>\n",
       "  </thead>\n",
       "  <tbody>\n",
       "    <tr>\n",
       "      <th>0</th>\n",
       "      <td>73.0</td>\n",
       "      <td>ALDH1A1</td>\n",
       "    </tr>\n",
       "    <tr>\n",
       "      <th>1</th>\n",
       "      <td>33.0</td>\n",
       "      <td>BCAN</td>\n",
       "    </tr>\n",
       "    <tr>\n",
       "      <th>2</th>\n",
       "      <td>70.0</td>\n",
       "      <td>CA5A</td>\n",
       "    </tr>\n",
       "    <tr>\n",
       "      <th>3</th>\n",
       "      <td>75.0</td>\n",
       "      <td>CAMKMT</td>\n",
       "    </tr>\n",
       "    <tr>\n",
       "      <th>4</th>\n",
       "      <td>18.0</td>\n",
       "      <td>CAST</td>\n",
       "    </tr>\n",
       "    <tr>\n",
       "      <th>5</th>\n",
       "      <td>34.0</td>\n",
       "      <td>CLIC2</td>\n",
       "    </tr>\n",
       "    <tr>\n",
       "      <th>6</th>\n",
       "      <td>25.0</td>\n",
       "      <td>CPLX2</td>\n",
       "    </tr>\n",
       "    <tr>\n",
       "      <th>7</th>\n",
       "      <td>20.0</td>\n",
       "      <td>DGUOK</td>\n",
       "    </tr>\n",
       "    <tr>\n",
       "      <th>8</th>\n",
       "      <td>22.0</td>\n",
       "      <td>DPYD</td>\n",
       "    </tr>\n",
       "    <tr>\n",
       "      <th>9</th>\n",
       "      <td>61.0</td>\n",
       "      <td>DPYS</td>\n",
       "    </tr>\n",
       "    <tr>\n",
       "      <th>10</th>\n",
       "      <td>34.0</td>\n",
       "      <td>FGF9</td>\n",
       "    </tr>\n",
       "    <tr>\n",
       "      <th>11</th>\n",
       "      <td>14.0</td>\n",
       "      <td>IVD</td>\n",
       "    </tr>\n",
       "    <tr>\n",
       "      <th>12</th>\n",
       "      <td>35.0</td>\n",
       "      <td>KHK</td>\n",
       "    </tr>\n",
       "    <tr>\n",
       "      <th>13</th>\n",
       "      <td>63.0</td>\n",
       "      <td>KIF27</td>\n",
       "    </tr>\n",
       "    <tr>\n",
       "      <th>14</th>\n",
       "      <td>5.0</td>\n",
       "      <td>LRP4</td>\n",
       "    </tr>\n",
       "    <tr>\n",
       "      <th>15</th>\n",
       "      <td>9.0</td>\n",
       "      <td>MAOB</td>\n",
       "    </tr>\n",
       "    <tr>\n",
       "      <th>16</th>\n",
       "      <td>38.0</td>\n",
       "      <td>MFF</td>\n",
       "    </tr>\n",
       "    <tr>\n",
       "      <th>17</th>\n",
       "      <td>20.0</td>\n",
       "      <td>NDUFV3</td>\n",
       "    </tr>\n",
       "    <tr>\n",
       "      <th>18</th>\n",
       "      <td>36.0</td>\n",
       "      <td>NELFA</td>\n",
       "    </tr>\n",
       "    <tr>\n",
       "      <th>19</th>\n",
       "      <td>19.0</td>\n",
       "      <td>PBRM1</td>\n",
       "    </tr>\n",
       "    <tr>\n",
       "      <th>20</th>\n",
       "      <td>55.0</td>\n",
       "      <td>PKM</td>\n",
       "    </tr>\n",
       "    <tr>\n",
       "      <th>21</th>\n",
       "      <td>11.0</td>\n",
       "      <td>PPP6C</td>\n",
       "    </tr>\n",
       "    <tr>\n",
       "      <th>22</th>\n",
       "      <td>23.0</td>\n",
       "      <td>RAB27B</td>\n",
       "    </tr>\n",
       "    <tr>\n",
       "      <th>23</th>\n",
       "      <td>90.0</td>\n",
       "      <td>SLC26A1</td>\n",
       "    </tr>\n",
       "    <tr>\n",
       "      <th>24</th>\n",
       "      <td>46.0</td>\n",
       "      <td>SNTG2</td>\n",
       "    </tr>\n",
       "    <tr>\n",
       "      <th>25</th>\n",
       "      <td>71.0</td>\n",
       "      <td>TBCE</td>\n",
       "    </tr>\n",
       "    <tr>\n",
       "      <th>26</th>\n",
       "      <td>8.0</td>\n",
       "      <td>TSFM</td>\n",
       "    </tr>\n",
       "    <tr>\n",
       "      <th>27</th>\n",
       "      <td>9.0</td>\n",
       "      <td>XPNPEP3</td>\n",
       "    </tr>\n",
       "    <tr>\n",
       "      <th>28</th>\n",
       "      <td>41.0</td>\n",
       "      <td>ZNF429</td>\n",
       "    </tr>\n",
       "  </tbody>\n",
       "</table>\n",
       "</div>"
      ],
      "text/plain": [
       "    word_count gene_name\n",
       "0         73.0   ALDH1A1\n",
       "1         33.0      BCAN\n",
       "2         70.0      CA5A\n",
       "3         75.0    CAMKMT\n",
       "4         18.0      CAST\n",
       "5         34.0     CLIC2\n",
       "6         25.0     CPLX2\n",
       "7         20.0     DGUOK\n",
       "8         22.0      DPYD\n",
       "9         61.0      DPYS\n",
       "10        34.0      FGF9\n",
       "11        14.0       IVD\n",
       "12        35.0       KHK\n",
       "13        63.0     KIF27\n",
       "14         5.0      LRP4\n",
       "15         9.0      MAOB\n",
       "16        38.0       MFF\n",
       "17        20.0    NDUFV3\n",
       "18        36.0     NELFA\n",
       "19        19.0     PBRM1\n",
       "20        55.0       PKM\n",
       "21        11.0     PPP6C\n",
       "22        23.0    RAB27B\n",
       "23        90.0   SLC26A1\n",
       "24        46.0     SNTG2\n",
       "25        71.0      TBCE\n",
       "26         8.0      TSFM\n",
       "27         9.0   XPNPEP3\n",
       "28        41.0    ZNF429"
      ]
     },
     "execution_count": 44,
     "metadata": {},
     "output_type": "execute_result"
    }
   ],
   "source": [
    "novel_relevant_word_df"
   ]
  },
  {
   "cell_type": "code",
   "execution_count": 45,
   "id": "c9d9871f",
   "metadata": {},
   "outputs": [
    {
     "data": {
      "text/plain": [
       "29"
      ]
     },
     "execution_count": 45,
     "metadata": {},
     "output_type": "execute_result"
    }
   ],
   "source": [
    "## Print number of disease relevant genes with high-confidence novel isoforms\n",
    "novel_relevant_word_df[\"gene_name\"].nunique()"
   ]
  },
  {
   "cell_type": "code",
   "execution_count": 46,
   "id": "69d9f15f",
   "metadata": {},
   "outputs": [],
   "source": [
    "## Generate word list with frequency of word being proportional to novel isoform relative abundance\n",
    "word_list = \"\"\n",
    "\n",
    "for i in range(len(novel_relevant_word_df)):\n",
    "        \n",
    "    for j in range(int(novel_relevant_word_df.iloc[i][0])):\n",
    "        word_list = word_list + novel_relevant_word_df.iloc[i][1] + \" \"\n",
    "        "
   ]
  },
  {
   "cell_type": "code",
   "execution_count": 47,
   "id": "9e6cf28e",
   "metadata": {},
   "outputs": [],
   "source": [
    "## Generate wordcloud\n",
    "word_cloud = WordCloud(collocations=False, font_step=1, background_color='white', regexp=r\"\\w[\\w\\-]+\", normalize_plurals=False,\n",
    "            colormap=\"nipy_spectral\", prefer_horizontal=1, include_numbers=True, stopwords=None, random_state=112,\n",
    "                      width=20000, height=5000).generate(word_list)"
   ]
  },
  {
   "cell_type": "code",
   "execution_count": 48,
   "id": "431c6a33",
   "metadata": {},
   "outputs": [
    {
     "data": {
      "image/png": "[encoded data removed]",
      "text/plain": [
       "<Figure size 432x288 with 1 Axes>"
      ]
     },
     "metadata": {
      "needs_background": "light"
     },
     "output_type": "display_data"
    }
   ],
   "source": [
    "## Save the in-person poster version (higher DPI) \n",
    "plt.imshow(word_cloud, interpolation='bilinear')\n",
    "plt.axis(\"off\")\n",
    "plt.savefig('../../figures/01.analysis_for_conferences/ashg/word_cloud.png', dpi=600, transparent=True, bbox_inches=\"tight\")\n",
    "plt.show()"
   ]
  },
  {
   "cell_type": "markdown",
   "id": "e5e77dc8",
   "metadata": {},
   "source": [
    "# 2) Graph for number of new genes across different thresholds"
   ]
  },
  {
   "cell_type": "code",
   "execution_count": 9,
   "id": "7ef3a405",
   "metadata": {},
   "outputs": [],
   "source": [
    "## Save novel transcript in known genes for GRCh38 so that we can compare them to known trancripts in ENSEMBL tracks\n",
    "chm13_ref = pd.read_csv(\"../../data/raw/CHM13_merged_aged_loose/bambu_discovery/extended_annotations.gtf\",\n",
    "                        header=None, delimiter=\"\\t\", low_memory=False, \n",
    "                        names=[\"chr\", \"source\", \"type\", \"start\", \"end\", \"dot_1\", \"strand\", \"dot_2\", \"other\"])\n",
    "\n",
    "\n",
    "chm13_ref = parse_df_columns(chm13_ref, is_ref=False)"
   ]
  },
  {
   "cell_type": "code",
   "execution_count": 10,
   "id": "f3709661",
   "metadata": {},
   "outputs": [],
   "source": [
    "mito_names = chm13_ref.loc[chm13_ref[\"chr\"]==\"chrM\"]['gene_id']"
   ]
  },
  {
   "cell_type": "code",
   "execution_count": 11,
   "id": "05ec0f9a",
   "metadata": {},
   "outputs": [],
   "source": [
    "loose_gene_counts = pd.read_csv(\"../../data/raw/CHM13_merged_aged_loose/bambu_discovery/counts_gene.txt\", sep=\"\\t\")\n",
    "stringent_gene_counts = pd.read_csv(\"../../data/raw/CHM13_merged_aged_stringent/bambu_discovery/counts_gene.txt\", sep=\"\\t\")"
   ]
  },
  {
   "cell_type": "code",
   "execution_count": 12,
   "id": "ea59c001",
   "metadata": {},
   "outputs": [],
   "source": [
    "loose_gene_counts = fix_column_names(loose_gene_counts, is_gene=True)\n",
    "stringent_gene_counts = fix_column_names(stringent_gene_counts, is_gene=True)"
   ]
  },
  {
   "cell_type": "code",
   "execution_count": 13,
   "id": "e6e59c16",
   "metadata": {},
   "outputs": [],
   "source": [
    "## Calculate total counts\n",
    "loose_gene_counts[\"total_counts\"] = loose_gene_counts[loose_gene_counts.columns[2:6].tolist()].sum(axis=1)\n",
    "stringent_gene_counts[\"total_counts\"] = stringent_gene_counts[stringent_gene_counts.columns[2:6].tolist()].sum(axis=1)"
   ]
  },
  {
   "cell_type": "code",
   "execution_count": 14,
   "id": "b6f167e1",
   "metadata": {},
   "outputs": [],
   "source": [
    "loose_gene_counts = calculate_cpm(loose_gene_counts, is_gene=True)\n",
    "loose_gene_counts = loose_gene_counts[loose_gene_counts.columns.drop(list(loose_gene_counts.filter(regex='counts')))]\n",
    "\n",
    "stringent_gene_counts = calculate_cpm(stringent_gene_counts, is_gene=True)\n",
    "stringent_gene_counts = stringent_gene_counts[stringent_gene_counts.columns.drop(list(stringent_gene_counts.filter(regex='counts')))]"
   ]
  },
  {
   "cell_type": "code",
   "execution_count": 15,
   "id": "e5340537",
   "metadata": {},
   "outputs": [],
   "source": [
    "loose_gene_counts = loose_gene_counts.loc[loose_gene_counts[\"gene_id\"].str.startswith(\"gene\")].copy()\n",
    "stringent_gene_counts = stringent_gene_counts.loc[stringent_gene_counts[\"gene_id\"].str.startswith(\"gene\")].copy()"
   ]
  },
  {
   "cell_type": "code",
   "execution_count": 16,
   "id": "4461ec74",
   "metadata": {},
   "outputs": [],
   "source": [
    "loose_gene_counts = loose_gene_counts.loc[~loose_gene_counts[\"gene_id\"].isin(mito_names)]\n",
    "stringent_gene_counts = stringent_gene_counts.loc[~stringent_gene_counts[\"gene_id\"].isin(mito_names)]"
   ]
  },
  {
   "cell_type": "code",
   "execution_count": 17,
   "id": "93805317",
   "metadata": {},
   "outputs": [],
   "source": [
    "loose_gene_counts_none = loose_gene_counts.copy()\n",
    "loose_gene_counts_background = loose_gene_counts.loc[loose_gene_counts[\"total_CPM\"] > 0.1].copy()\n",
    "loose_gene_counts_high_confidence = loose_gene_counts.loc[loose_gene_counts[\"total_CPM\"] > 1].copy()\n",
    "loose_gene_counts_high_expression = loose_gene_counts.loc[loose_gene_counts[\"total_CPM\"] > 5].copy()\n",
    "\n",
    "stringent_gene_counts_none = stringent_gene_counts.copy()\n",
    "stringent_gene_counts_background = stringent_gene_counts.loc[stringent_gene_counts[\"total_CPM\"] > 0.1].copy()\n",
    "stringent_gene_counts_high_confidence = stringent_gene_counts.loc[stringent_gene_counts[\"total_CPM\"] > 1].copy()\n",
    "stringent_gene_counts_high_expression = stringent_gene_counts.loc[stringent_gene_counts[\"total_CPM\"] > 5].copy()"
   ]
  },
  {
   "cell_type": "code",
   "execution_count": 18,
   "id": "73c7f9d4",
   "metadata": {},
   "outputs": [],
   "source": [
    "loose_gene_counts_none[\"Label\"] = \"NDR=1\"\n",
    "loose_gene_counts_background[\"Label\"] = \"NDR=1, CPM > 0.1\"\n",
    "loose_gene_counts_high_confidence[\"Label\"] = \"NDR=1, CPM > 1\"\n",
    "loose_gene_counts_high_expression[\"Label\"] = \"NDR=1, CPM > 5\"\n",
    "\n",
    "stringent_gene_counts_none[\"Label\"] = \"NDR=0.1\"\n",
    "stringent_gene_counts_background[\"Label\"] = \"NDR=0.1, CPM > 0.1\"\n",
    "stringent_gene_counts_high_confidence[\"Label\"] = \"NDR=0.1, CPM > 1\"\n",
    "stringent_gene_counts_high_expression[\"Label\"] = \"NDR=0.1, CPM > 5\""
   ]
  },
  {
   "cell_type": "code",
   "execution_count": 19,
   "id": "b27b96c8",
   "metadata": {},
   "outputs": [
    {
     "name": "stdout",
     "output_type": "stream",
     "text": [
      "42996\n",
      "21973\n",
      "3039\n",
      "323\n",
      "152\n",
      "146\n",
      "68\n",
      "18\n"
     ]
    }
   ],
   "source": [
    "print(loose_gene_counts_none.shape[0])\n",
    "print(loose_gene_counts_background.shape[0])\n",
    "print(loose_gene_counts_high_confidence.shape[0])\n",
    "print(loose_gene_counts_high_expression.shape[0])\n",
    "\n",
    "print(stringent_gene_counts_none.shape[0])\n",
    "print(stringent_gene_counts_background.shape[0])\n",
    "print(stringent_gene_counts_high_confidence.shape[0])\n",
    "print(stringent_gene_counts_high_expression.shape[0])"
   ]
  },
  {
   "cell_type": "code",
   "execution_count": 20,
   "id": "224e4b3d",
   "metadata": {},
   "outputs": [],
   "source": [
    "df_concat_high = pd.concat([loose_gene_counts_none, loose_gene_counts_background, loose_gene_counts_high_confidence])\n",
    "\n",
    "df_concat_low =  pd.concat([loose_gene_counts_high_expression, stringent_gene_counts_none, stringent_gene_counts_background,\n",
    "                      stringent_gene_counts_high_confidence, stringent_gene_counts_high_expression])"
   ]
  },
  {
   "cell_type": "code",
   "execution_count": 21,
   "id": "8cbf89b5",
   "metadata": {},
   "outputs": [],
   "source": [
    "from matplotlib import rcParams\n",
    "\n",
    "# figure size in inches\n",
    "rcParams['figure.figsize'] = 12,8\n",
    "rcParams.update({'font.size': 20})\n",
    "rcParams['axes.linewidth'] = 6"
   ]
  },
  {
   "cell_type": "code",
   "execution_count": 22,
   "id": "45b98b0a",
   "metadata": {},
   "outputs": [
    {
     "data": {
      "image/png": "[encoded data removed]",
      "text/plain": [
       "<Figure size 864x576 with 1 Axes>"
      ]
     },
     "metadata": {
      "needs_background": "light"
     },
     "output_type": "display_data"
    }
   ],
   "source": [
    "fig, ax1 = plt.subplots()\n",
    "ax1.yaxis.set_ticks_position(\"left\")\n",
    "ax1.yaxis.tick_left()\n",
    "ax1.yaxis.set_label_position(\"left\")\n",
    "\n",
    "sns.countplot(x=\"Label\", data=df_concat_high, palette=\"nipy_spectral\", ax=ax1)\n",
    "\n",
    "plt.ylabel(\"Number of Genes\", labelpad=10)\n",
    "plt.xlabel(\"\", labelpad=4)\n",
    "sns.despine(right=True, left=False, top=True, bottom=False)\n",
    "\n",
    "plt.savefig('../../figures/01.analysis_for_conferences/ashg/novel_genes_ours_high.png', dpi=300, transparent=True,\n",
    "            bbox_inches=\"tight\")\n",
    "plt.show()"
   ]
  },
  {
   "cell_type": "code",
   "execution_count": 27,
   "id": "def3eff9",
   "metadata": {},
   "outputs": [],
   "source": [
    "from matplotlib import rcParams\n",
    "\n",
    "# figure size in inches\n",
    "rcParams['figure.figsize'] = 20,8\n",
    "rcParams.update({'font.size': 20})\n",
    "rcParams['axes.linewidth'] = 6"
   ]
  },
  {
   "cell_type": "code",
   "execution_count": 36,
   "id": "bcff8c40",
   "metadata": {},
   "outputs": [
    {
     "data": {
      "image/png": "[encoded data removed]",
      "text/plain": [
       "<Figure size 1440x576 with 1 Axes>"
      ]
     },
     "metadata": {
      "needs_background": "light"
     },
     "output_type": "display_data"
    }
   ],
   "source": [
    "fig, ax1 = plt.subplots()\n",
    "ax1.yaxis.set_ticks_position(\"right\")\n",
    "ax1.yaxis.tick_right()\n",
    "ax1.yaxis.set_label_position(\"right\")\n",
    "\n",
    "\n",
    "sns.countplot(x=\"Label\", data=df_concat_low, palette=\"nipy_spectral\", ax=ax1)\n",
    "\n",
    "plt.ylabel(\"Number of Genes\", labelpad=40, rotation=270)\n",
    "plt.xlabel(\"\", labelpad=4)\n",
    "sns.despine(right=False, left=True, top=True, bottom=False)\n",
    "\n",
    "plt.savefig('../../figures/01.analysis_for_conferences/ashg/novel_genes_ours_low.png', dpi=300, transparent=True,\n",
    "            bbox_inches=\"tight\")\n",
    "plt.show()"
   ]
  },
  {
   "cell_type": "markdown",
   "id": "09cb77d7",
   "metadata": {},
   "source": [
    "# 3) Number of CHM13 paralogs and new genes expressed\n",
    "\n",
    "### Simple two bars bar graph"
   ]
  },
  {
   "cell_type": "code",
   "execution_count": 37,
   "id": "37471680",
   "metadata": {},
   "outputs": [],
   "source": [
    "chm13_counts = pd.read_csv(\"../../data/raw/CHM13_merged_aged_stringent/bambu_discovery/counts_gene.txt\", sep=\"\\t\")"
   ]
  },
  {
   "cell_type": "code",
   "execution_count": 38,
   "id": "221068be",
   "metadata": {},
   "outputs": [],
   "source": [
    "chm13_counts = fix_column_names(chm13_counts, is_gene=True)"
   ]
  },
  {
   "cell_type": "code",
   "execution_count": 39,
   "id": "111bbf3d",
   "metadata": {},
   "outputs": [],
   "source": [
    "## Calculate total counts\n",
    "chm13_counts[\"total_counts\"] = chm13_counts[chm13_counts.columns[2:6].tolist()].sum(axis=1)"
   ]
  },
  {
   "cell_type": "code",
   "execution_count": 40,
   "id": "319ddf49",
   "metadata": {},
   "outputs": [],
   "source": [
    "chm13_counts = calculate_cpm(chm13_counts, is_gene=True)\n",
    "\n",
    "chm13_counts = chm13_counts[chm13_counts.columns.drop(list(chm13_counts.filter(regex='counts')))]"
   ]
  },
  {
   "cell_type": "code",
   "execution_count": 41,
   "id": "71cdbb11",
   "metadata": {},
   "outputs": [
    {
     "data": {
      "text/html": [
       "<div>\n",
       "<style scoped>\n",
       "    .dataframe tbody tr th:only-of-type {\n",
       "        vertical-align: middle;\n",
       "    }\n",
       "\n",
       "    .dataframe tbody tr th {\n",
       "        vertical-align: top;\n",
       "    }\n",
       "\n",
       "    .dataframe thead th {\n",
       "        text-align: right;\n",
       "    }\n",
       "</style>\n",
       "<table border=\"1\" class=\"dataframe\">\n",
       "  <thead>\n",
       "    <tr style=\"text-align: right;\">\n",
       "      <th></th>\n",
       "      <th>gene_id</th>\n",
       "      <th>cshl_1304_uky_CPM</th>\n",
       "      <th>cshl_356_uky_CPM</th>\n",
       "      <th>cshl_1271_uky_CPM</th>\n",
       "      <th>cshl_1291_uky_CPM</th>\n",
       "      <th>total_CPM</th>\n",
       "    </tr>\n",
       "  </thead>\n",
       "  <tbody>\n",
       "    <tr>\n",
       "      <th>0</th>\n",
       "      <td>CHM13_G0002360</td>\n",
       "      <td>0.00</td>\n",
       "      <td>0.03</td>\n",
       "      <td>0.00</td>\n",
       "      <td>0.00</td>\n",
       "      <td>0.01</td>\n",
       "    </tr>\n",
       "    <tr>\n",
       "      <th>1</th>\n",
       "      <td>CHM13_G0002906</td>\n",
       "      <td>1.20</td>\n",
       "      <td>1.85</td>\n",
       "      <td>0.72</td>\n",
       "      <td>0.65</td>\n",
       "      <td>1.05</td>\n",
       "    </tr>\n",
       "    <tr>\n",
       "      <th>2</th>\n",
       "      <td>CHM13_G0003812</td>\n",
       "      <td>0.29</td>\n",
       "      <td>0.53</td>\n",
       "      <td>0.15</td>\n",
       "      <td>0.26</td>\n",
       "      <td>0.30</td>\n",
       "    </tr>\n",
       "    <tr>\n",
       "      <th>3</th>\n",
       "      <td>CHM13_G0006285</td>\n",
       "      <td>4.68</td>\n",
       "      <td>2.51</td>\n",
       "      <td>3.43</td>\n",
       "      <td>5.00</td>\n",
       "      <td>3.62</td>\n",
       "    </tr>\n",
       "    <tr>\n",
       "      <th>4</th>\n",
       "      <td>CHM13_G0007830</td>\n",
       "      <td>0.00</td>\n",
       "      <td>0.00</td>\n",
       "      <td>0.00</td>\n",
       "      <td>0.00</td>\n",
       "      <td>0.00</td>\n",
       "    </tr>\n",
       "  </tbody>\n",
       "</table>\n",
       "</div>"
      ],
      "text/plain": [
       "          gene_id  cshl_1304_uky_CPM  cshl_356_uky_CPM  cshl_1271_uky_CPM  \\\n",
       "0  CHM13_G0002360               0.00              0.03               0.00   \n",
       "1  CHM13_G0002906               1.20              1.85               0.72   \n",
       "2  CHM13_G0003812               0.29              0.53               0.15   \n",
       "3  CHM13_G0006285               4.68              2.51               3.43   \n",
       "4  CHM13_G0007830               0.00              0.00               0.00   \n",
       "\n",
       "   cshl_1291_uky_CPM  total_CPM  \n",
       "0               0.00       0.01  \n",
       "1               0.65       1.05  \n",
       "2               0.26       0.30  \n",
       "3               5.00       3.62  \n",
       "4               0.00       0.00  "
      ]
     },
     "execution_count": 41,
     "metadata": {},
     "output_type": "execute_result"
    }
   ],
   "source": [
    "chm13_counts.head()"
   ]
  },
  {
   "cell_type": "code",
   "execution_count": 42,
   "id": "e4e2a3a2",
   "metadata": {},
   "outputs": [],
   "source": [
    "paralogs = chm13_counts.loc[chm13_counts[\"gene_id\"].str.contains(\"(\", regex=False)].copy()\n",
    "chm13_new = chm13_counts.loc[chm13_counts[\"gene_id\"].str.startswith(\"CHM13\")].copy()"
   ]
  },
  {
   "cell_type": "code",
   "execution_count": 43,
   "id": "2788b992",
   "metadata": {},
   "outputs": [],
   "source": [
    "paralogs_filtered = paralogs.loc[paralogs[\"total_CPM\"] > 1].copy()\n",
    "chm13_new_filtered = chm13_new.loc[chm13_new[\"total_CPM\"] > 1].copy()"
   ]
  },
  {
   "cell_type": "code",
   "execution_count": 44,
   "id": "fb23f147",
   "metadata": {},
   "outputs": [],
   "source": [
    "paralogs_filtered[\"Label\"] = \"CHM13 New Paralogs\""
   ]
  },
  {
   "cell_type": "code",
   "execution_count": 45,
   "id": "f31d5569",
   "metadata": {},
   "outputs": [],
   "source": [
    "chm13_new_filtered[\"Label\"] = \"CHM13 New Genes\""
   ]
  },
  {
   "cell_type": "code",
   "execution_count": 46,
   "id": "960873b1",
   "metadata": {},
   "outputs": [],
   "source": [
    "df_chm13_new = pd.concat([chm13_new_filtered, paralogs_filtered])"
   ]
  },
  {
   "cell_type": "code",
   "execution_count": 47,
   "id": "8274c671",
   "metadata": {},
   "outputs": [],
   "source": [
    "from matplotlib import rcParams\n",
    "\n",
    "# figure size in inches\n",
    "rcParams['figure.figsize'] = 8,8\n",
    "rcParams.update({'font.size': 20})\n",
    "rcParams['axes.linewidth'] = 6"
   ]
  },
  {
   "cell_type": "code",
   "execution_count": 48,
   "id": "20b2a7c4",
   "metadata": {},
   "outputs": [
    {
     "data": {
      "image/png": "[encoded data removed]",
      "text/plain": [
       "<Figure size 576x576 with 1 Axes>"
      ]
     },
     "metadata": {
      "needs_background": "light"
     },
     "output_type": "display_data"
    }
   ],
   "source": [
    "fig, ax1 = plt.subplots()\n",
    "ax1.yaxis.set_ticks_position(\"left\")\n",
    "ax1.yaxis.tick_left()\n",
    "ax1.yaxis.set_label_position(\"left\")\n",
    "\n",
    "sns.countplot(x=\"Label\", data=df_chm13_new, palette=\"nipy_spectral\", ax=ax1)\n",
    "\n",
    "plt.ylabel(\"Number of Genes (CPM > 1)\", labelpad=10)\n",
    "plt.xlabel(\"\", labelpad=4)\n",
    "sns.despine(right=True, left=False, top=True, bottom=False)\n",
    "\n",
    "plt.savefig('../../figures/01.analysis_for_conferences/ashg/novel_genes_chm13.png', dpi=300, transparent=True,\n",
    "            bbox_inches=\"tight\")\n",
    "plt.show()"
   ]
  },
  {
   "cell_type": "code",
   "execution_count": null,
   "id": "ae303b2c",
   "metadata": {},
   "outputs": [],
   "source": []
  }
 ],
 "metadata": {
  "kernelspec": {
   "display_name": "Python 3 (ipykernel)",
   "language": "python",
   "name": "python3"
  },
  "language_info": {
   "codemirror_mode": {
    "name": "ipython",
    "version": 3
   },
   "file_extension": ".py",
   "mimetype": "text/x-python",
   "name": "python",
   "nbconvert_exporter": "python",
   "pygments_lexer": "ipython3",
   "version": "3.10.6"
  }
 },
 "nbformat": 4,
 "nbformat_minor": 5
}
