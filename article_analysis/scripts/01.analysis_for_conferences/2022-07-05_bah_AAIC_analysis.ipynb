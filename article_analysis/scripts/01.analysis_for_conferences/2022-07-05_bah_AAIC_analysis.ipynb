{
 "cells": [
  {
   "cell_type": "code",
   "execution_count": 1,
   "metadata": {},
   "outputs": [],
   "source": [
    "## Import Libraries\n",
    "import pandas as pd\n",
    "import numpy as np\n",
    "from matplotlib_venn import venn2, venn2_circles, venn2_unweighted\n",
    "from matplotlib_venn import venn3, venn3_circles\n",
    "from matplotlib import pyplot as plt\n",
    "%matplotlib inline\n",
    "from wordcloud import WordCloud\n",
    "import seaborn as sns\n",
    "\n",
    "## Display all rows of pandas dataframes\n",
    "pd.set_option('display.max_rows', None)"
   ]
  },
  {
   "cell_type": "code",
   "execution_count": 2,
   "metadata": {},
   "outputs": [],
   "source": [
    "'''\n",
    "name: relative_transcript_abundance\n",
    "\n",
    "purpose: calculate relative transcript abundance\n",
    "\n",
    "input: a dataframe with a ref_gene_id column identifying the transcript gene of origin and a cov columns with \n",
    "the coverage for the transcripts.\n",
    "\n",
    "output: the same dataframe with a relative abundance column added\n",
    "'''\n",
    "\n",
    "\n",
    "\n",
    "def relative_transcript_abundance(df):\n",
    "    \n",
    "    df_sums = df[[\"gene_id\", \"total_counts\"]].groupby(\"gene_id\").sum()\n",
    "    \n",
    "    df_sums[\"total_counts_gene\"] = df_sums[\"total_counts\"]\n",
    "\n",
    "    df_sums.drop(columns=\"total_counts\", inplace=True)\n",
    "    \n",
    "    merged_df = pd.merge(df, df_sums, how='inner', on=\"gene_id\")\n",
    "    \n",
    "    merged_df[\"relative_abundance_percent\"] = ((merged_df[\"total_counts\"]/merged_df[\"total_counts_gene\"]) * 100)\n",
    "    \n",
    "    merged_df.drop(columns=\"total_counts\", inplace=True)\n",
    "    \n",
    "    return merged_df"
   ]
  },
  {
   "cell_type": "code",
   "execution_count": 3,
   "metadata": {},
   "outputs": [],
   "source": [
    "'''\n",
    "function name: parse_df_columns\n",
    "\n",
    "purpose: parsing the last aggregate column of the gtf/gff3 into useful columns and cleaning non-relevant columns\n",
    "\n",
    "input: dataframe containining \"raw\" gtf/gff\n",
    "\n",
    "output: dataframe containing gtf with useful columns [\"gene_id\", \"transcript_id\", etc...]\n",
    "'''\n",
    "\n",
    "def parse_df_columns(df, is_ref=True):\n",
    "\n",
    "    if is_ref:\n",
    "\n",
    "        ## Get gene ids\n",
    "        df[\"gene_id\"] = df[\"other\"].str.split(\"source_gene=\", expand=True)[1].str.split(';', expand=True)[0]\n",
    "\n",
    "        ## Get transcript ids\n",
    "        df[\"transcript_id\"] = df[\"other\"].str.split(\"source_transcript=\", expand=True)[1].str.split(';', expand=True)[0]\n",
    "\n",
    "        ## Get CHM gene_ids\n",
    "        df[\"CHM_gene_id\"] = df[\"other\"].str.split(\"gene_id=\", expand=True)[1].str.split(';', expand=True)[0]\n",
    "\n",
    "        ## Get transcript ids\n",
    "        df[\"CHM_transcript_id\"] = df[\"other\"].str.split(\"transcript_id=\", expand=True)[1].str.split(';', expand=True)[0]\n",
    "        \n",
    "        ## Get transcript names\n",
    "        df[\"transcript_name\"] = df[\"other\"].str.split(\"source_transcript_name=\", expand=True)[1].str.split(';', expand=True)[0]\n",
    "        \n",
    "        ## Get gene names\n",
    "        df[\"gene_name\"] = df[\"other\"].str.split(\"source_gene_common_name=\", expand=True)[1].str.split(';', expand=True)[0]\n",
    "        \n",
    "        ## Get start codon\n",
    "        df[\"start_codon\"] = df[\"other\"].str.split(\"adj_start=\", expand=True)[1].str.split(\";\", expand=True)[0]\n",
    "        \n",
    "        ## Get stop codon\n",
    "        df[\"stop_codon\"] = df[\"other\"].str.split(\"adj_stop=\", expand=True)[1].str.split(\";\", expand=True)[0]        \n",
    "\n",
    "        ## Only keep relevant\n",
    "        df = df[[\"chr\", \"start\", \"end\", \"strand\", \"type\", \"gene_id\", \"transcript_id\", \"CHM_gene_id\",\n",
    "                 \"CHM_transcript_id\", \"transcript_name\", \"gene_name\", \"start_codon\", \"stop_codon\"]].copy()\n",
    "\n",
    "        ## Drop duplicates\n",
    "        df.drop_duplicates(inplace=True)\n",
    "        \n",
    "\n",
    "    else:\n",
    "\n",
    "        ## Get CHM gene ids\n",
    "        df[\"gene_id\"] = df[\"other\"].str.split('\";', expand=True)[0].str.extract(\"([^ \\\"]*$)\", expand=True)\n",
    "\n",
    "        ## Get CHM transcript ids\n",
    "        df[\"transcript_id\"] = df[\"other\"].str.split('transcript_id \"', expand=True)[1].str.split('\"', expand=True)[0]\n",
    "\n",
    "        ## Get exon number\n",
    "        df[\"exon_number\"] = df[\"other\"].str.split('exon_number \"', expand=True)[1].str.split('\"', expand=True)[0]\n",
    "\n",
    "        ## Label novel transcripts\n",
    "        df.loc[df[\"transcript_id\"].str.startswith(\"tx.\"), \"is_novel_transcript\"] = True\n",
    "        df.loc[~df[\"transcript_id\"].str.startswith(\"tx.\"), \"is_novel_transcript\"] = False\n",
    "\n",
    "        ## Label novel genes\n",
    "        df.loc[df[\"gene_id\"].str.startswith(\"gene.\"), \"is_novel_gene\"] = True\n",
    "        df.loc[~df[\"gene_id\"].str.startswith(\"gene.\"), \"is_novel_gene\"] = False\n",
    "\n",
    "        ## Drop \"other\" column\n",
    "        df.drop(columns=[\"other\", \"dot_1\", \"dot_2\"], inplace=True)\n",
    "\n",
    "    for col in df.columns:\n",
    "        df.loc[df[col].isnull(), col] = np.NaN\n",
    "        \n",
    "\n",
    "    return df"
   ]
  },
  {
   "cell_type": "code",
   "execution_count": 4,
   "metadata": {},
   "outputs": [],
   "source": [
    "'''\n",
    "function name: merge_annotations\n",
    "\n",
    "purpose: Merge useful/relevant information from both annotations while removing repeated and irrelevant information\n",
    "\n",
    "input: Two different GTF annotations\n",
    "\n",
    "output: One GTF annotation containing all the relevant information\n",
    "'''\n",
    "\n",
    "def merge_annotations(ref_gtf, bambu_gtf):\n",
    "    \n",
    "    ## Merge the two annotations\n",
    "    names_ref_gtf = ref_gtf[[\"transcript_id\", \"gene_id\", \"gene_name\", \"transcript_name\"]].copy()\n",
    "    merged_gtf = pd.merge(bambu_gtf, names_ref_gtf, on=['gene_id', 'transcript_id'], how='left')\n",
    "    merged_gtf.drop_duplicates(inplace=True)\n",
    "\n",
    "    ## Label novel transcripts\n",
    "    merged_gtf.loc[merged_gtf[\"transcript_id\"].str.startswith(\"tx.\"), \"is_novel_transcript\"] = True\n",
    "    merged_gtf.loc[~merged_gtf[\"transcript_id\"].str.startswith(\"tx.\"), \"is_novel_transcript\"] = False\n",
    "\n",
    "    ## Label novel genes\n",
    "    merged_gtf.loc[merged_gtf[\"gene_id\"].str.startswith(\"gene.\"), \"is_novel_gene\"] = True\n",
    "    merged_gtf.loc[~merged_gtf[\"gene_id\"].str.startswith(\"gene.\"), \"is_novel_gene\"] = False\n",
    "\n",
    "    ## Create temporary variable only containing novel transcripts\n",
    "    temp = merged_gtf.loc[merged_gtf[\"is_novel_transcript\"] == True]\n",
    "\n",
    "    ## Annotate novel transcripts\n",
    "    merged_tmp = pd.merge(temp, ref_gtf[[\"gene_id\", \"gene_name\"]], on=['gene_id'], how='left')\n",
    "    merged_tmp.drop_duplicates(inplace=True)\n",
    "    merged_tmp[\"gene_name\"] = merged_tmp[\"gene_name_y\"]\n",
    "    merged_tmp.drop(columns=[\"source\", \"gene_name_y\", \"gene_name_x\"], inplace=True)\n",
    "\n",
    "    ## Return novel transcripts to original annotation\n",
    "    merged_final = pd.merge(merged_gtf, merged_tmp, on=['chr', 'type', 'start', 'end', 'strand', 'transcript_id',\n",
    "                    'transcript_name', 'gene_id', 'is_novel_transcript', 'is_novel_gene', 'exon_number'], how=\"left\")\n",
    "\n",
    "    ## Get gene names for novel transcripts of known genes\n",
    "    merged_final.gene_name_x.fillna(merged_final.gene_name_y, inplace=True)\n",
    "    merged_final[\"gene_name\"] = merged_final[\"gene_name_x\"]\n",
    "    merged_final.drop(columns =[\"gene_name_x\", \"gene_name_y\"], inplace=True)\n",
    "    \n",
    "    ## Get start and stop codons for known transcripts and exons of protein coding genes\n",
    "    ref_gtf = ref_gtf[[\"chr\", \"type\", \"start\", \"end\", \"strand\", \"transcript_id\", \"gene_id\", \"start_codon\", \"stop_codon\"]]\n",
    "    merged_final = pd.merge(merged_final, ref_gtf, on=[\"chr\", \"type\", \"start\", \"end\", \"strand\", \"transcript_id\", \"gene_id\"], how=\"left\")\n",
    "    \n",
    "    \n",
    "    merged_final = merged_final[[\"chr\", \"type\", \"start\", \"end\", \"strand\", \"transcript_id\", \"gene_id\", \"gene_name\", \n",
    "                    \"exon_number\", \"transcript_name\", \"start_codon\", \"stop_codon\", \"is_novel_gene\", \"is_novel_transcript\"]]\n",
    "\n",
    "\n",
    "    \n",
    "    return merged_final "
   ]
  },
  {
   "cell_type": "code",
   "execution_count": 5,
   "metadata": {},
   "outputs": [],
   "source": [
    "'''\n",
    "name: make_gene_and_transcript_converter\n",
    "\n",
    "input: The CHM13 CAT/Liftoff gff annotation version 2.0\n",
    "\n",
    "output: A dataframe with [\"gene_id\", \"transcript_id\", \"gene_name\", \"transcript_name\"] formatted in the same way as the \n",
    "bambu reference, so that we can properly assign gene and transcript names.\n",
    "\n",
    "purpose: Creating a list that allows us to assign transcript and gene names to the bambu annotation based on the transcript\n",
    "id and gene ID\n",
    "'''\n",
    "\n",
    "\n",
    "def make_gene_and_transcript_converter(gff):\n",
    "    \n",
    "    ## Change name of duplicate Ensembl IDs to CHM IDs\n",
    "    gff.loc[gff[\"transcript_id\"] == \"N/A\", \"transcript_id\"] = gff[\"CHM_transcript_id\"]\n",
    "    gff_transcripts = gff.loc[gff[\"type\"] == \"transcript\"].copy()\n",
    "    gff_transcripts = gff_transcripts[[\"transcript_id\", \"CHM_transcript_id\"]].drop_duplicates()\n",
    "    gff_transcripts = gff_transcripts[gff_transcripts['transcript_id'].duplicated() == True]\n",
    "    dup_trans = gff_transcripts[\"transcript_id\"].dropna().values.tolist()\n",
    "    gff.loc[gff[\"transcript_id\"].isin(dup_trans), \"transcript_id\"] = gff[\"transcript_id\"] + \"(\" + gff[\"CHM_transcript_id\"] + \")\"\n",
    "\n",
    "    ## Change name of duplicate gene ids to CHM ids\n",
    "    gff.loc[gff[\"gene_id\"] == \"None\", \"gene_id\"] = gff[\"CHM_gene_id\"]\n",
    "    gff_genes = gff.loc[gff[\"type\"] == \"transcript\"].copy()\n",
    "    gff_genes = gff_genes[[\"gene_id\", \"CHM_gene_id\"]].drop_duplicates()\n",
    "    gff_genes = gff_genes[gff_genes['gene_id'].duplicated() == True]\n",
    "    dup_genes = gff_genes[\"gene_id\"].dropna().values.tolist()\n",
    "    gff.loc[gff[\"gene_id\"].isin(dup_genes), \"gene_id\"] = gff[\"gene_id\"] + \"(\" + gff[\"CHM_gene_id\"] + \")\"\n",
    "\n",
    "    \n",
    "    ## Fix gene names for MSTRG Genes\n",
    "    gff_names = gff.loc[gff[\"type\"] == \"transcript\"].copy()\n",
    "    gff_names = gff_names[[\"gene_id\", \"gene_name\"]].copy()\n",
    "    gff_names.loc[gff_names[\"gene_name\"].str.contains(\"MSTRG.\"), \"gene_name\"] = np.NaN\n",
    "    gff_names.dropna(inplace=True)\n",
    "    gff_names.drop_duplicates(inplace=True, subset=[\"gene_id\"])\n",
    "    gff.drop(columns=\"gene_name\", inplace=True)\n",
    "    gff = pd.merge(gff, gff_names, on=\"gene_id\", how=\"left\")\n",
    "    gff = gff[[\"gene_id\", \"transcript_id\", \"gene_name\", \"transcript_name\",\n",
    "              \"start\", \"end\", \"type\", \"start_codon\", \"stop_codon\", \"chr\", \"strand\"]].copy()\n",
    "\n",
    "\n",
    "    return gff"
   ]
  },
  {
   "cell_type": "code",
   "execution_count": 6,
   "metadata": {},
   "outputs": [],
   "source": [
    "## Fix column names in counts matrix\n",
    "\n",
    "chm13_counts = pd.read_csv(\"../../data/novel_genes/bambu_discovery_sfn/counts_transcript.txt\", delimiter=\"\\t\", low_memory=False, \n",
    "                           header=0)\n",
    "\n",
    "new_col_names = []\n",
    "for col in chm13_counts.columns:\n",
    "        new_col_names.append(col.split(\"_nanopore\")[0])\n",
    "        \n",
    "chm13_counts.columns = new_col_names"
   ]
  },
  {
   "cell_type": "code",
   "execution_count": 7,
   "metadata": {},
   "outputs": [],
   "source": [
    "## Find novel transcripts in both annotations\n",
    "chm13_counts.loc[chm13_counts[\"TXNAME\"].str.startswith(\"tx.\"), \"is_novel_transcript\"] = True\n",
    "chm13_counts.loc[~chm13_counts[\"TXNAME\"].str.startswith(\"tx.\"), \"is_novel_transcript\"] = False\n",
    "\n",
    "## Find novel genes in both annotations\n",
    "chm13_counts.loc[chm13_counts[\"GENEID\"].str.startswith(\"gene.\"), \"is_novel_gene\"] = True\n",
    "chm13_counts.loc[~chm13_counts[\"GENEID\"].str.startswith(\"gene.\"), \"is_novel_gene\"] = False"
   ]
  },
  {
   "cell_type": "code",
   "execution_count": 8,
   "metadata": {},
   "outputs": [],
   "source": [
    "## Create dataframes with either only novel genes or only novel transcripts that are not from novel genes\n",
    "chm13_novel_genes = chm13_counts.loc[chm13_counts[\"is_novel_gene\"]].copy()\n",
    "chm13_novel_transcripts = chm13_counts.loc[((chm13_counts[\"is_novel_transcript\"]) & (~chm13_counts[\"is_novel_gene\"]))].copy()"
   ]
  },
  {
   "cell_type": "code",
   "execution_count": 9,
   "metadata": {},
   "outputs": [
    {
     "name": "stdout",
     "output_type": "stream",
     "text": [
      "We found 171 novel genes in CHM13\n"
     ]
    }
   ],
   "source": [
    "## See how many novel genes\n",
    "print(\"We found\", chm13_novel_genes.shape[0], \"novel genes in CHM13\")"
   ]
  },
  {
   "cell_type": "code",
   "execution_count": 10,
   "metadata": {},
   "outputs": [],
   "source": [
    "## Filter novel genes and transcripts, must be present in at least three samples with 50+ counts.\n",
    "count_cols = chm13_novel_genes.columns[2:6].tolist()\n",
    "chm13_novel_genes = chm13_novel_genes[(chm13_novel_genes[count_cols]>10).sum(axis=1)>=4]\n",
    "chm13_novel_transcripts = chm13_novel_transcripts[(chm13_novel_transcripts[count_cols]>10).sum(axis=1)>=4]"
   ]
  },
  {
   "cell_type": "code",
   "execution_count": 11,
   "metadata": {},
   "outputs": [
    {
     "name": "stdout",
     "output_type": "stream",
     "text": [
      "We found 88 novel genes in CHM13\n",
      "We found 541 novel transcripts of known genes in CHM13\n"
     ]
    }
   ],
   "source": [
    "## Count number of novel genes and novel transcripts in each dataframe\n",
    "print(\"We found\", chm13_novel_genes.shape[0], \"novel genes in CHM13\")\n",
    "print(\"We found\", chm13_novel_transcripts.shape[0], \"novel transcripts of known genes in CHM13\")"
   ]
  },
  {
   "cell_type": "code",
   "execution_count": 12,
   "metadata": {},
   "outputs": [],
   "source": [
    "## Save novel transcript in known genes for GRCh38 so that we can compare them to known trancripts in ENSEMBL tracks\n",
    "chm13_ref = pd.read_csv(\"../../data/novel_genes/bambu_discovery_sfn/extended_annotations.gtf\", header=None, delimiter=\"\\t\",\n",
    "                        low_memory=False, names=[\"chr\", \"source\", \"type\", \"start\", \"end\", \"dot_1\", \"strand\", \"dot_2\", \"other\"])\n",
    "\n",
    "\n",
    "chm13_ref = parse_df_columns(chm13_ref, is_ref=False)"
   ]
  },
  {
   "cell_type": "code",
   "execution_count": 13,
   "metadata": {},
   "outputs": [],
   "source": [
    "## \"Fix\" gene_id\n",
    "chm13_ref[\"gene_id\"] = chm13_ref[\"gene_id\"].str.split(\".\", expand=True)[0]"
   ]
  },
  {
   "cell_type": "code",
   "execution_count": 14,
   "metadata": {},
   "outputs": [],
   "source": [
    "## Only keep transcripts\n",
    "chm13_ref = chm13_ref.loc[chm13_ref[\"type\"] == \"transcript\"]"
   ]
  },
  {
   "cell_type": "code",
   "execution_count": 15,
   "metadata": {},
   "outputs": [],
   "source": [
    "## Only keep expressed transcripts\n",
    "chm13_novel_transcripts_expressed = chm13_ref.loc[chm13_ref[\"transcript_id\"].isin(chm13_novel_transcripts[\"TXNAME\"])].copy()"
   ]
  },
  {
   "cell_type": "code",
   "execution_count": 16,
   "metadata": {},
   "outputs": [],
   "source": [
    "## Import disease relevant genes\n",
    "disease_relevant_genes = pd.read_csv(\"../../../cDNA-comparison/article_analysis/annotations/disease_relevant_gene_names.csv\", names=[\"gene_id\", \"gene_name\"],\n",
    "                                    header=0)\n",
    "## Ad genes\n",
    "ad_names = pd.read_csv(\"../../data/novel_genes/AD_genes.csv\", sep=\"\\t\")\n",
    "ad_names.dropna(inplace=True)\n",
    "ad_names.drop_duplicates(inplace=True)\n",
    "\n",
    "## Concatenate both\n",
    "disease_relevant_genes = pd.concat([disease_relevant_genes, ad_names]).drop_duplicates()\n"
   ]
  },
  {
   "cell_type": "code",
   "execution_count": 17,
   "metadata": {},
   "outputs": [],
   "source": [
    "## Save novel transcript in known genes for GRCh38 so that we can compare them to known trancripts in ENSEMBL tracks\n",
    "orig_ref = pd.read_csv(\"../../../cDNA-comparison/article_analysis/annotations/CHM13.v2.0.gff3\", header=None, delimiter=\"\\t\",\n",
    "                        low_memory=False, names=[\"chr\", \"source\", \"type\", \"start\", \"end\", \"dot_1\", \"strand\", \"dot_2\", \"other\"])\n",
    "\n"
   ]
  },
  {
   "cell_type": "code",
   "execution_count": 18,
   "metadata": {},
   "outputs": [],
   "source": [
    "## Create good reference to convert gene names\n",
    "orig_ref = parse_df_columns(orig_ref, is_ref=True)\n",
    "orig_ref = orig_ref.loc[orig_ref[\"type\"]==\"gene\"].copy()\n",
    "\n",
    "## Take the extra stuff for the version of genes on ENSEMBL ID\n",
    "orig_ref[\"gene_id\"] = orig_ref[\"gene_id\"].str.split(\".\", expand=True)[0].copy()"
   ]
  },
  {
   "cell_type": "code",
   "execution_count": 19,
   "metadata": {},
   "outputs": [],
   "source": [
    "## Create list of novel transcripts in disease relevant genes\n",
    "novel_relevant = disease_relevant_genes.merge(orig_ref[[\"gene_id\", \"gene_name\"]], on=[\"gene_id\", \"gene_name\"], how=\"inner\")"
   ]
  },
  {
   "cell_type": "code",
   "execution_count": 20,
   "metadata": {},
   "outputs": [],
   "source": [
    "## Only keep gene_ids that match, add gene names\n",
    "novel_relevant = chm13_novel_transcripts_expressed.merge(novel_relevant[[\"gene_id\", \"gene_name\"]], on=[\"gene_id\"], how=\"inner\")"
   ]
  },
  {
   "cell_type": "code",
   "execution_count": 21,
   "metadata": {},
   "outputs": [],
   "source": [
    "## Drop any duplicates\n",
    "novel_relevant.drop_duplicates(inplace=True)"
   ]
  },
  {
   "cell_type": "code",
   "execution_count": 22,
   "metadata": {},
   "outputs": [
    {
     "data": {
      "text/plain": [
       "(63, 12)"
      ]
     },
     "execution_count": 22,
     "metadata": {},
     "output_type": "execute_result"
    }
   ],
   "source": [
    "## See shape\n",
    "novel_relevant.shape"
   ]
  },
  {
   "cell_type": "code",
   "execution_count": 23,
   "metadata": {},
   "outputs": [],
   "source": [
    "## Only keep original ensembl ID\n",
    "chm13_counts[\"gene_id\"] = chm13_counts[\"GENEID\"].str.split(\".\", expand=True)[0]"
   ]
  },
  {
   "cell_type": "code",
   "execution_count": 24,
   "metadata": {},
   "outputs": [],
   "source": [
    "## Get total counts for each transcript\n",
    "chm13_counts[\"total_counts\"] = chm13_counts[count_cols].sum(axis=1)"
   ]
  },
  {
   "cell_type": "code",
   "execution_count": 25,
   "metadata": {},
   "outputs": [],
   "source": [
    "## Merge with medically relevant genes on gene_id and get gene names\n",
    "novel_relevant_counts = pd.merge(chm13_counts, novel_relevant[[\"gene_id\", \"gene_name\"]], on=[\"gene_id\"], how=\"inner\")"
   ]
  },
  {
   "cell_type": "code",
   "execution_count": 26,
   "metadata": {},
   "outputs": [],
   "source": [
    "## Drop any duplicates\n",
    "novel_relevant_counts.drop_duplicates(inplace=True)"
   ]
  },
  {
   "cell_type": "code",
   "execution_count": 27,
   "metadata": {},
   "outputs": [
    {
     "data": {
      "text/plain": [
       "(763, 11)"
      ]
     },
     "execution_count": 27,
     "metadata": {},
     "output_type": "execute_result"
    }
   ],
   "source": [
    "## See shape\n",
    "novel_relevant_counts.shape"
   ]
  },
  {
   "cell_type": "code",
   "execution_count": 28,
   "metadata": {},
   "outputs": [
    {
     "data": {
      "text/plain": [
       "(64, 11)"
      ]
     },
     "execution_count": 28,
     "metadata": {},
     "output_type": "execute_result"
    }
   ],
   "source": [
    "novel_relevant_counts.loc[novel_relevant_counts[\"is_novel_transcript\"]==True].shape"
   ]
  },
  {
   "cell_type": "code",
   "execution_count": 29,
   "metadata": {},
   "outputs": [],
   "source": [
    "## Calculate relative transcript abundance\n",
    "novel_relevant_relative_abundance = relative_transcript_abundance(novel_relevant_counts)"
   ]
  },
  {
   "cell_type": "code",
   "execution_count": 45,
   "metadata": {},
   "outputs": [],
   "source": [
    "## Create list with med relevant genes with novel isoforms and their relative frequency\n",
    "novel_relevant_words = novel_relevant_relative_abundance.loc[novel_relevant_relative_abundance[\"is_novel_transcript\"] == True][[\"gene_name\", \"relative_abundance_percent\"]]"
   ]
  },
  {
   "cell_type": "code",
   "execution_count": 46,
   "metadata": {},
   "outputs": [],
   "source": [
    "## Drop duplicates\n",
    "novel_relevant_words = novel_relevant_words.drop_duplicates()"
   ]
  },
  {
   "cell_type": "code",
   "execution_count": 47,
   "metadata": {},
   "outputs": [],
   "source": [
    "## Sum relative abundance of all novel isoforms by gene name and round to nearest integer\n",
    "novel_relevant_words = round(novel_relevant_words.groupby(\"gene_name\")[\"relative_abundance_percent\"].sum(), 0)"
   ]
  },
  {
   "cell_type": "code",
   "execution_count": 48,
   "metadata": {},
   "outputs": [],
   "source": [
    "## Create a dataframe to properly store the data\n",
    "novel_relevant_word_df = pd.DataFrame()\n",
    "novel_relevant_word_df['word_count'] = novel_relevant_words\n",
    "novel_relevant_word_df[\"gene_name\"] = novel_relevant_words.index"
   ]
  },
  {
   "cell_type": "code",
   "execution_count": 49,
   "metadata": {},
   "outputs": [],
   "source": [
    "## Drop index\n",
    "novel_relevant_word_df.reset_index(inplace=True, drop=True)"
   ]
  },
  {
   "cell_type": "code",
   "execution_count": 50,
   "metadata": {},
   "outputs": [
    {
     "name": "stdout",
     "output_type": "stream",
     "text": [
      "    word_count gene_name\n",
      "22        40.0  HLA-DQA1\n",
      "23        65.0      IDUA\n"
     ]
    }
   ],
   "source": [
    "## Print genes with novel isoforms relevant to AD\n",
    "ad_names = pd.read_csv(\"../../data/novel_genes/AD_genes.csv\", sep=\"\\t\")\n",
    "print(novel_relevant_word_df.loc[novel_relevant_word_df[\"gene_name\"].isin(ad_names[\"gene_name\"])])"
   ]
  },
  {
   "cell_type": "code",
   "execution_count": 51,
   "metadata": {},
   "outputs": [
    {
     "name": "stdout",
     "output_type": "stream",
     "text": [
      "    word_count gene_name\n",
      "28         8.0      MAOB\n",
      "45        92.0   SLC26A1\n"
     ]
    }
   ],
   "source": [
    "## Print relative abundance for a couple other genes\n",
    "print(novel_relevant_word_df.loc[novel_relevant_word_df[\"gene_name\"].isin([\"MAOB\", \"SLC26A1\"])])"
   ]
  },
  {
   "cell_type": "code",
   "execution_count": 89,
   "metadata": {},
   "outputs": [
    {
     "data": {
      "text/html": [
       "<div>\n",
       "<style scoped>\n",
       "    .dataframe tbody tr th:only-of-type {\n",
       "        vertical-align: middle;\n",
       "    }\n",
       "\n",
       "    .dataframe tbody tr th {\n",
       "        vertical-align: top;\n",
       "    }\n",
       "\n",
       "    .dataframe thead th {\n",
       "        text-align: right;\n",
       "    }\n",
       "</style>\n",
       "<table border=\"1\" class=\"dataframe\">\n",
       "  <thead>\n",
       "    <tr style=\"text-align: right;\">\n",
       "      <th></th>\n",
       "      <th>word_count</th>\n",
       "      <th>gene_name</th>\n",
       "    </tr>\n",
       "  </thead>\n",
       "  <tbody>\n",
       "    <tr>\n",
       "      <th>0</th>\n",
       "      <td>30.0</td>\n",
       "      <td>ABO</td>\n",
       "    </tr>\n",
       "    <tr>\n",
       "      <th>1</th>\n",
       "      <td>15.0</td>\n",
       "      <td>ACADM</td>\n",
       "    </tr>\n",
       "    <tr>\n",
       "      <th>2</th>\n",
       "      <td>20.0</td>\n",
       "      <td>ALAD</td>\n",
       "    </tr>\n",
       "    <tr>\n",
       "      <th>3</th>\n",
       "      <td>75.0</td>\n",
       "      <td>ALDH1A1</td>\n",
       "    </tr>\n",
       "    <tr>\n",
       "      <th>4</th>\n",
       "      <td>7.0</td>\n",
       "      <td>ALG11</td>\n",
       "    </tr>\n",
       "    <tr>\n",
       "      <th>5</th>\n",
       "      <td>46.0</td>\n",
       "      <td>ALG3</td>\n",
       "    </tr>\n",
       "    <tr>\n",
       "      <th>6</th>\n",
       "      <td>30.0</td>\n",
       "      <td>BCAN</td>\n",
       "    </tr>\n",
       "    <tr>\n",
       "      <th>7</th>\n",
       "      <td>68.0</td>\n",
       "      <td>CA5A</td>\n",
       "    </tr>\n",
       "    <tr>\n",
       "      <th>8</th>\n",
       "      <td>72.0</td>\n",
       "      <td>CAMKMT</td>\n",
       "    </tr>\n",
       "    <tr>\n",
       "      <th>9</th>\n",
       "      <td>25.0</td>\n",
       "      <td>CAST</td>\n",
       "    </tr>\n",
       "    <tr>\n",
       "      <th>10</th>\n",
       "      <td>52.0</td>\n",
       "      <td>CD8A</td>\n",
       "    </tr>\n",
       "    <tr>\n",
       "      <th>11</th>\n",
       "      <td>39.0</td>\n",
       "      <td>CEP57</td>\n",
       "    </tr>\n",
       "    <tr>\n",
       "      <th>12</th>\n",
       "      <td>31.0</td>\n",
       "      <td>CLIC2</td>\n",
       "    </tr>\n",
       "    <tr>\n",
       "      <th>13</th>\n",
       "      <td>46.0</td>\n",
       "      <td>CRYGS</td>\n",
       "    </tr>\n",
       "    <tr>\n",
       "      <th>14</th>\n",
       "      <td>21.0</td>\n",
       "      <td>DGUOK</td>\n",
       "    </tr>\n",
       "    <tr>\n",
       "      <th>15</th>\n",
       "      <td>28.0</td>\n",
       "      <td>DPYD</td>\n",
       "    </tr>\n",
       "    <tr>\n",
       "      <th>16</th>\n",
       "      <td>16.0</td>\n",
       "      <td>DTNA</td>\n",
       "    </tr>\n",
       "    <tr>\n",
       "      <th>17</th>\n",
       "      <td>48.0</td>\n",
       "      <td>EPHA7</td>\n",
       "    </tr>\n",
       "    <tr>\n",
       "      <th>18</th>\n",
       "      <td>45.0</td>\n",
       "      <td>FGF9</td>\n",
       "    </tr>\n",
       "    <tr>\n",
       "      <th>19</th>\n",
       "      <td>77.0</td>\n",
       "      <td>GCDH</td>\n",
       "    </tr>\n",
       "    <tr>\n",
       "      <th>20</th>\n",
       "      <td>6.0</td>\n",
       "      <td>GTF2H5</td>\n",
       "    </tr>\n",
       "    <tr>\n",
       "      <th>21</th>\n",
       "      <td>16.0</td>\n",
       "      <td>HLA-DPB1</td>\n",
       "    </tr>\n",
       "    <tr>\n",
       "      <th>22</th>\n",
       "      <td>40.0</td>\n",
       "      <td>HLA-DQA1</td>\n",
       "    </tr>\n",
       "    <tr>\n",
       "      <th>23</th>\n",
       "      <td>65.0</td>\n",
       "      <td>IDUA</td>\n",
       "    </tr>\n",
       "    <tr>\n",
       "      <th>24</th>\n",
       "      <td>34.0</td>\n",
       "      <td>KHK</td>\n",
       "    </tr>\n",
       "    <tr>\n",
       "      <th>25</th>\n",
       "      <td>64.0</td>\n",
       "      <td>KIF27</td>\n",
       "    </tr>\n",
       "    <tr>\n",
       "      <th>26</th>\n",
       "      <td>26.0</td>\n",
       "      <td>KMT2E</td>\n",
       "    </tr>\n",
       "    <tr>\n",
       "      <th>27</th>\n",
       "      <td>31.0</td>\n",
       "      <td>LRRC6</td>\n",
       "    </tr>\n",
       "    <tr>\n",
       "      <th>28</th>\n",
       "      <td>8.0</td>\n",
       "      <td>MAOB</td>\n",
       "    </tr>\n",
       "    <tr>\n",
       "      <th>29</th>\n",
       "      <td>15.0</td>\n",
       "      <td>MAP2K4</td>\n",
       "    </tr>\n",
       "    <tr>\n",
       "      <th>30</th>\n",
       "      <td>40.0</td>\n",
       "      <td>MFF</td>\n",
       "    </tr>\n",
       "    <tr>\n",
       "      <th>31</th>\n",
       "      <td>100.0</td>\n",
       "      <td>MT-TQ</td>\n",
       "    </tr>\n",
       "    <tr>\n",
       "      <th>32</th>\n",
       "      <td>81.0</td>\n",
       "      <td>NDUFAF1</td>\n",
       "    </tr>\n",
       "    <tr>\n",
       "      <th>33</th>\n",
       "      <td>16.0</td>\n",
       "      <td>NDUFAF2</td>\n",
       "    </tr>\n",
       "    <tr>\n",
       "      <th>34</th>\n",
       "      <td>19.0</td>\n",
       "      <td>NDUFV3</td>\n",
       "    </tr>\n",
       "    <tr>\n",
       "      <th>35</th>\n",
       "      <td>45.0</td>\n",
       "      <td>NELFA</td>\n",
       "    </tr>\n",
       "    <tr>\n",
       "      <th>36</th>\n",
       "      <td>36.0</td>\n",
       "      <td>NR1H3</td>\n",
       "    </tr>\n",
       "    <tr>\n",
       "      <th>37</th>\n",
       "      <td>19.0</td>\n",
       "      <td>PBRM1</td>\n",
       "    </tr>\n",
       "    <tr>\n",
       "      <th>38</th>\n",
       "      <td>65.0</td>\n",
       "      <td>PCDHA10</td>\n",
       "    </tr>\n",
       "    <tr>\n",
       "      <th>39</th>\n",
       "      <td>64.0</td>\n",
       "      <td>PKM</td>\n",
       "    </tr>\n",
       "    <tr>\n",
       "      <th>40</th>\n",
       "      <td>53.0</td>\n",
       "      <td>POLB</td>\n",
       "    </tr>\n",
       "    <tr>\n",
       "      <th>41</th>\n",
       "      <td>11.0</td>\n",
       "      <td>PPP6C</td>\n",
       "    </tr>\n",
       "    <tr>\n",
       "      <th>42</th>\n",
       "      <td>46.0</td>\n",
       "      <td>PSENEN</td>\n",
       "    </tr>\n",
       "    <tr>\n",
       "      <th>43</th>\n",
       "      <td>38.0</td>\n",
       "      <td>RPGR</td>\n",
       "    </tr>\n",
       "    <tr>\n",
       "      <th>44</th>\n",
       "      <td>29.0</td>\n",
       "      <td>SDCCAG8</td>\n",
       "    </tr>\n",
       "    <tr>\n",
       "      <th>45</th>\n",
       "      <td>92.0</td>\n",
       "      <td>SLC26A1</td>\n",
       "    </tr>\n",
       "    <tr>\n",
       "      <th>46</th>\n",
       "      <td>30.0</td>\n",
       "      <td>SLC37A4</td>\n",
       "    </tr>\n",
       "    <tr>\n",
       "      <th>47</th>\n",
       "      <td>61.0</td>\n",
       "      <td>SLC6A12</td>\n",
       "    </tr>\n",
       "    <tr>\n",
       "      <th>48</th>\n",
       "      <td>19.0</td>\n",
       "      <td>SLCO1A2</td>\n",
       "    </tr>\n",
       "    <tr>\n",
       "      <th>49</th>\n",
       "      <td>34.0</td>\n",
       "      <td>SMS</td>\n",
       "    </tr>\n",
       "    <tr>\n",
       "      <th>50</th>\n",
       "      <td>2.0</td>\n",
       "      <td>SNAPC5</td>\n",
       "    </tr>\n",
       "    <tr>\n",
       "      <th>51</th>\n",
       "      <td>45.0</td>\n",
       "      <td>SNTG2</td>\n",
       "    </tr>\n",
       "    <tr>\n",
       "      <th>52</th>\n",
       "      <td>79.0</td>\n",
       "      <td>TBCE</td>\n",
       "    </tr>\n",
       "    <tr>\n",
       "      <th>53</th>\n",
       "      <td>22.0</td>\n",
       "      <td>TMEM99</td>\n",
       "    </tr>\n",
       "    <tr>\n",
       "      <th>54</th>\n",
       "      <td>7.0</td>\n",
       "      <td>TSFM</td>\n",
       "    </tr>\n",
       "    <tr>\n",
       "      <th>55</th>\n",
       "      <td>50.0</td>\n",
       "      <td>U2AF1</td>\n",
       "    </tr>\n",
       "    <tr>\n",
       "      <th>56</th>\n",
       "      <td>23.0</td>\n",
       "      <td>UIMC1</td>\n",
       "    </tr>\n",
       "    <tr>\n",
       "      <th>57</th>\n",
       "      <td>31.0</td>\n",
       "      <td>USP8</td>\n",
       "    </tr>\n",
       "    <tr>\n",
       "      <th>58</th>\n",
       "      <td>31.0</td>\n",
       "      <td>ZIC1</td>\n",
       "    </tr>\n",
       "    <tr>\n",
       "      <th>59</th>\n",
       "      <td>12.0</td>\n",
       "      <td>ZNF141</td>\n",
       "    </tr>\n",
       "    <tr>\n",
       "      <th>60</th>\n",
       "      <td>44.0</td>\n",
       "      <td>ZNF429</td>\n",
       "    </tr>\n",
       "  </tbody>\n",
       "</table>\n",
       "</div>"
      ],
      "text/plain": [
       "    word_count gene_name\n",
       "0         30.0       ABO\n",
       "1         15.0     ACADM\n",
       "2         20.0      ALAD\n",
       "3         75.0   ALDH1A1\n",
       "4          7.0     ALG11\n",
       "5         46.0      ALG3\n",
       "6         30.0      BCAN\n",
       "7         68.0      CA5A\n",
       "8         72.0    CAMKMT\n",
       "9         25.0      CAST\n",
       "10        52.0      CD8A\n",
       "11        39.0     CEP57\n",
       "12        31.0     CLIC2\n",
       "13        46.0     CRYGS\n",
       "14        21.0     DGUOK\n",
       "15        28.0      DPYD\n",
       "16        16.0      DTNA\n",
       "17        48.0     EPHA7\n",
       "18        45.0      FGF9\n",
       "19        77.0      GCDH\n",
       "20         6.0    GTF2H5\n",
       "21        16.0  HLA-DPB1\n",
       "22        40.0  HLA-DQA1\n",
       "23        65.0      IDUA\n",
       "24        34.0       KHK\n",
       "25        64.0     KIF27\n",
       "26        26.0     KMT2E\n",
       "27        31.0     LRRC6\n",
       "28         8.0      MAOB\n",
       "29        15.0    MAP2K4\n",
       "30        40.0       MFF\n",
       "31       100.0     MT-TQ\n",
       "32        81.0   NDUFAF1\n",
       "33        16.0   NDUFAF2\n",
       "34        19.0    NDUFV3\n",
       "35        45.0     NELFA\n",
       "36        36.0     NR1H3\n",
       "37        19.0     PBRM1\n",
       "38        65.0   PCDHA10\n",
       "39        64.0       PKM\n",
       "40        53.0      POLB\n",
       "41        11.0     PPP6C\n",
       "42        46.0    PSENEN\n",
       "43        38.0      RPGR\n",
       "44        29.0   SDCCAG8\n",
       "45        92.0   SLC26A1\n",
       "46        30.0   SLC37A4\n",
       "47        61.0   SLC6A12\n",
       "48        19.0   SLCO1A2\n",
       "49        34.0       SMS\n",
       "50         2.0    SNAPC5\n",
       "51        45.0     SNTG2\n",
       "52        79.0      TBCE\n",
       "53        22.0    TMEM99\n",
       "54         7.0      TSFM\n",
       "55        50.0     U2AF1\n",
       "56        23.0     UIMC1\n",
       "57        31.0      USP8\n",
       "58        31.0      ZIC1\n",
       "59        12.0    ZNF141\n",
       "60        44.0    ZNF429"
      ]
     },
     "execution_count": 89,
     "metadata": {},
     "output_type": "execute_result"
    }
   ],
   "source": [
    "novel_relevant_word_df"
   ]
  },
  {
   "cell_type": "code",
   "execution_count": 52,
   "metadata": {},
   "outputs": [
    {
     "data": {
      "text/plain": [
       "61"
      ]
     },
     "execution_count": 52,
     "metadata": {},
     "output_type": "execute_result"
    }
   ],
   "source": [
    "## Print number of disease relevant genes with high-confidence novel isoforms\n",
    "novel_relevant_word_df[\"gene_name\"].nunique()"
   ]
  },
  {
   "cell_type": "code",
   "execution_count": 53,
   "metadata": {},
   "outputs": [],
   "source": [
    "## Generate word list with frequency of word being proportional to novel isoform relative abundance\n",
    "word_list = \"\"\n",
    "\n",
    "for i in range(len(novel_relevant_word_df)):\n",
    "        \n",
    "    for j in range(int(novel_relevant_word_df.iloc[i][0])):\n",
    "        word_list = word_list + novel_relevant_word_df.iloc[i][1] + \" \"\n",
    "        "
   ]
  },
  {
   "cell_type": "code",
   "execution_count": 54,
   "metadata": {},
   "outputs": [],
   "source": [
    "## Generate wordcloud\n",
    "word_cloud = WordCloud(collocations=False, font_step=1, background_color='white', regexp=r\"\\w[\\w\\-]+\", normalize_plurals=False,\n",
    "            colormap=\"nipy_spectral\", prefer_horizontal=1, include_numbers=True, stopwords=None, random_state=1996,\n",
    "                      width=15000, height=12000).generate(word_list)"
   ]
  },
  {
   "cell_type": "code",
   "execution_count": 55,
   "metadata": {},
   "outputs": [
    {
     "data": {
      "image/png": "[encoded data removed]",
      "text/plain": [
       "<Figure size 432x288 with 1 Axes>"
      ]
     },
     "metadata": {
      "needs_background": "light"
     },
     "output_type": "display_data"
    }
   ],
   "source": [
    "## Save the online poster version (lower DPI)\n",
    "plt.imshow(word_cloud, interpolation='bilinear')\n",
    "plt.axis(\"off\")\n",
    "plt.savefig('../../figures/AAIC_figures/word_cloud_online.png', dpi=92, transparent=True, bbox_inches=\"tight\")\n",
    "plt.show()"
   ]
  },
  {
   "cell_type": "code",
   "execution_count": 56,
   "metadata": {
    "scrolled": true
   },
   "outputs": [
    {
     "data": {
      "image/png": "[encoded data removed]",
      "text/plain": [
       "<Figure size 432x288 with 1 Axes>"
      ]
     },
     "metadata": {
      "needs_background": "light"
     },
     "output_type": "display_data"
    }
   ],
   "source": [
    "## Save the in-person poster version (higher DPI) \n",
    "plt.imshow(word_cloud, interpolation='bilinear')\n",
    "plt.axis(\"off\")\n",
    "plt.savefig('../../figures/AAIC_figures/word_cloud_in-person.png', dpi=300, transparent=True, bbox_inches=\"tight\")\n",
    "plt.show()"
   ]
  },
  {
   "cell_type": "code",
   "execution_count": 57,
   "metadata": {},
   "outputs": [],
   "source": [
    "## Take the extra stuff for the version of genes on ENSEMBL ID\n",
    "chm13_counts[\"GENEID\"] = chm13_counts[\"GENEID\"].str.split(\".\", expand=True)[0].copy()"
   ]
  },
  {
   "cell_type": "code",
   "execution_count": 58,
   "metadata": {},
   "outputs": [],
   "source": [
    "## Change the column names, GENEID to gene_id\n",
    "chm13_counts[\"gene_id\"] = chm13_counts[\"GENEID\"].copy()\n",
    "chm13_counts.drop(columns=\"GENEID\", inplace=True)"
   ]
  },
  {
   "cell_type": "code",
   "execution_count": 59,
   "metadata": {},
   "outputs": [],
   "source": [
    "## Only keep gene_ids that match between both\n",
    "chm13_counts_with_name = chm13_counts.merge(orig_ref[[\"gene_id\", \"gene_name\"]], on=[\"gene_id\"], how=\"inner\")"
   ]
  },
  {
   "cell_type": "code",
   "execution_count": 60,
   "metadata": {},
   "outputs": [],
   "source": [
    "## Drop any duplicates\n",
    "chm13_counts_with_name.drop_duplicates(inplace=True)"
   ]
  },
  {
   "cell_type": "code",
   "execution_count": 61,
   "metadata": {},
   "outputs": [],
   "source": [
    "## Get the gene names in the counts matrix and only keep medically relevant genes\n",
    "medically_relevant_counts = chm13_counts_with_name.merge(disease_relevant_genes[[\"gene_id\", \"gene_name\"]], on=[\"gene_id\", \"gene_name\"], how=\"inner\")"
   ]
  },
  {
   "cell_type": "code",
   "execution_count": 62,
   "metadata": {},
   "outputs": [],
   "source": [
    "## Delete duplicates\n",
    "medically_relevant_counts.drop_duplicates(inplace=True)"
   ]
  },
  {
   "cell_type": "code",
   "execution_count": 63,
   "metadata": {},
   "outputs": [],
   "source": [
    "## Remove all isoforms with less than 500 reads in every sample\n",
    "medically_relevant_counts = medically_relevant_counts[(medically_relevant_counts[count_cols]>100).sum(axis=1)>=4].copy()"
   ]
  },
  {
   "cell_type": "code",
   "execution_count": 64,
   "metadata": {},
   "outputs": [],
   "source": [
    "## Only keep genes with more than one \"highly expressed\" isoforms\n",
    "dup_gene_names = medically_relevant_counts.loc[medically_relevant_counts.duplicated(subset=\"gene_id\")]\n",
    "\n",
    "medically_relevant_counts_multiple_iso = medically_relevant_counts.loc[medically_relevant_counts[\"gene_id\"].isin(dup_gene_names[\"gene_id\"])].copy()"
   ]
  },
  {
   "cell_type": "code",
   "execution_count": 65,
   "metadata": {},
   "outputs": [
    {
     "data": {
      "text/plain": [
       "(1492, 10)"
      ]
     },
     "execution_count": 65,
     "metadata": {},
     "output_type": "execute_result"
    }
   ],
   "source": [
    "## How many medically relevant isoforms with more than one highly expressed isoforms in one gene\n",
    "medically_relevant_counts_multiple_iso.shape"
   ]
  },
  {
   "cell_type": "code",
   "execution_count": 66,
   "metadata": {},
   "outputs": [],
   "source": [
    "## How many highly expressed isoforms are there for each gene?\n",
    "df_numbers = medically_relevant_counts_multiple_iso[\"gene_id\"].value_counts()"
   ]
  },
  {
   "cell_type": "code",
   "execution_count": 67,
   "metadata": {},
   "outputs": [
    {
     "data": {
      "text/plain": [
       "615"
      ]
     },
     "execution_count": 67,
     "metadata": {},
     "output_type": "execute_result"
    }
   ],
   "source": [
    "## How many medically relevant genes have more than one highly expressed isoform?\n",
    "medically_relevant_counts_multiple_iso[\"gene_id\"].nunique()"
   ]
  },
  {
   "cell_type": "code",
   "execution_count": 68,
   "metadata": {},
   "outputs": [
    {
     "data": {
      "text/plain": [
       "array(['BCAN', 'KHK', 'DGUOK', 'MFF', 'ALG3', 'NDUFAF2', 'CAST',\n",
       "       'PCDHA10', 'HLA-DPB1', 'GTF2H5', 'KMT2E', 'POLB', 'ALDH1A1',\n",
       "       'ALAD', 'USP8', 'SNAPC5', 'PKM', 'SULT1A1', 'MAP2K4', 'DTNA',\n",
       "       'ZNF429', 'PSENEN', 'NDUFV3', 'U2AF1', 'SMS', 'MAOB', 'MT-TQ',\n",
       "       'IVD', 'TGFBR3', 'PDE4DIP', 'ATP2B4', 'ANK3', 'SHTN1', 'CPT1A',\n",
       "       'SLC11A2', 'ZDHHC17', 'UBE3B', 'ATP2A2', 'MED13L', 'GOLGA3', 'NIN',\n",
       "       'KTN1', 'HSP90AA1', 'TCF12', 'MEF2A', 'ABR', 'PAFAH1B1', 'LASP1',\n",
       "       'TRIM37', 'LPIN2', 'FBXO11', 'SPTBN1', 'XPO1', 'SPRED2', 'ATF2',\n",
       "       'SF3B1', 'SIRPA', 'RIN2', 'TGM2', 'STK4', 'DYRK1A', 'SREBF2',\n",
       "       'MYLK', 'KIAA0232', 'TRIO', 'IL6ST', 'SYNPO', 'SOD2', 'TNS3',\n",
       "       'TRRAP', 'KMT2C', 'CTSB', 'HNRNPK', 'SPTAN1', 'SETX', 'UBA1',\n",
       "       'HUWE1', 'PGK1', 'LAMP2', 'OCRL', 'HCFC1', 'CD74', 'ERCC1',\n",
       "       'GABRA1', 'RB1CC1', 'DCN', 'KCNAB2', 'KEAP1', 'ALDH3A2', 'SLC25A3',\n",
       "       'DLG3', 'MAP2', 'EPB41L1', 'SPG21', 'TECR', 'XBP1', 'SYNGR1',\n",
       "       'CHGA', 'APEX1', 'PABPN1', 'ARHGAP5', 'RABGGTA', 'EEF1A2', 'WDR13',\n",
       "       'STAG2', 'FMR1', 'PQBP1', 'NEFM', 'PNPLA6', 'FCGRT', 'FKBP8',\n",
       "       'PON2', 'CLIP2', 'GOSR2', 'DDX5', 'KAT2A', 'RANGRF', 'WFS1',\n",
       "       'CRYAB', 'CTSC', 'PPFIBP1', 'C12orf57', 'SNX3', 'CRBN', 'BCL6',\n",
       "       'MPV17', 'RPS15', 'GGCX', 'MFN2', 'HMGCL', 'EEF1B2', 'ATIC',\n",
       "       'FASTKD2', 'SGK1', 'SPP1', 'MXI1', 'TFG', 'MAPK8IP1', 'PLCG1',\n",
       "       'DST', 'BBS2', 'C3', 'RTN2', 'MAX', 'RALY', 'UROD', 'KLC1', 'ELK1',\n",
       "       'OMG', 'COX7C', 'PNKD', 'HSPB1', 'EMC4', 'MBD4', 'DAD1', 'NDUFA2',\n",
       "       'ACTN4', 'NDUFA10', 'ARHGEF9', 'GFAP', 'COX4I1', 'FUS', 'IMMT',\n",
       "       'SNAP25', 'CHRM3', 'CHL1', 'ACP2', 'DYSF', 'TMEM231', 'KAT7',\n",
       "       'BIN1', 'FXYD6', 'ADCY3', 'PREPL', 'CSDE1', 'SREBF1', 'ALDH2',\n",
       "       'BCL7A', 'PHF3', 'MTUS1', 'SMAD2', 'DNAJB6', 'MAPT', 'GNAO1',\n",
       "       'SEC23B', 'TYROBP', 'PAFAH1B3', 'MAP2K2', 'OPTN', 'SLC27A5',\n",
       "       'MREG', 'BRD4', 'DNAJC6', 'ATP2B3', 'CD81', 'ARID4B', 'YWHAE',\n",
       "       'ANK2', 'GLRB', 'THRA', 'SMARCE1', 'ADD1', 'SDHA', 'MAP3K13',\n",
       "       'MGLL', 'FBXW11', 'SLC1A3', 'WWC1', 'NRXN2', 'MGST2', 'LARS2',\n",
       "       'RHOA', 'AHI1', 'GNAS', 'NSMF', 'HNRNPH3', 'TCTN3', 'GNAI2',\n",
       "       'FBXO7', 'SLCO1C1', 'DIABLO', 'TPM1', 'ABAT', 'SPG7', 'NCOR1',\n",
       "       'G6PC3', 'CLTC', 'DYM', 'SH3GL1', 'SOD1', 'TPM3', 'ACP1', 'CALM2',\n",
       "       'RPS27A', 'UNC80', 'FTH1', 'NICN1', 'ARHGAP26', 'NHP2', 'QKI',\n",
       "       'NLGN4X', 'NONO', 'NDUFB9', 'NTRK2', 'CIZ1', 'SERPING1', 'ROM1',\n",
       "       'BSCL2', 'PTS', 'USP15', 'ACAD8', 'QDPR', 'PPM1B', 'NADK2',\n",
       "       'GPD1L', 'TIA1', 'LIPA', 'HNRNPU', 'SCN2A', 'JAZF1', 'MSI2',\n",
       "       'UCHL1', 'ERCC3', 'KIF5A', 'ADK', 'UQCRB', 'NCOA1', 'OBSL1',\n",
       "       'ARAF', 'CALM3', 'CSTB', 'TRAPPC10', 'ST6GALNAC6', 'ETHE1', 'CUX1',\n",
       "       'SYNGAP1', 'NCKIPSD', 'AZIN2', 'BOLA3', 'CHN1', 'ATP1A1', 'TUBA1A',\n",
       "       'SERPINI1', 'RSRC1', 'SYN1', 'GYG1', 'SNRK', 'PPP1CB', 'ETNPPL',\n",
       "       'NDUFS4', 'ACSL6', 'NPM1', 'HSPA9', 'COX6C', 'CFL2', 'LRRK2',\n",
       "       'PCBD1', 'SCN3B', 'CDH8', 'ILK', 'STAT6', 'COQ4', 'CRK', 'STIM1',\n",
       "       'PRRT2', 'VKORC1', 'TPM4', 'UNC119', 'SDHAF2', 'SMARCA2', 'CTNNA1',\n",
       "       'DLG4', 'POLR1D', 'RFXANK', 'BTD', 'CAMTA1', 'NFU1', 'CHCHD7',\n",
       "       'REPS2', 'HINT1', 'MAP6', 'GAP43', 'ST3GAL5', 'COG8', 'FIP1L1',\n",
       "       'BCL2L1', 'SEZ6L2', 'NDUFA11', 'ZHX3', 'ETFB', 'EEF1A1', 'B4GALT2',\n",
       "       'ATP5MD', 'SNCB', 'LGI4', 'CTSF', 'NBEA', 'GPD2', 'MRPL48', 'JUP',\n",
       "       'MRPS22', 'MAPK10', 'HDLBP', 'RPL38', 'KRT17', 'GLUL', 'MLC1',\n",
       "       'AQP1', 'COMMD1', 'RPS14', 'BANF1', 'TMEM70', 'MED25', 'NDUFS8',\n",
       "       'OSBPL2', 'ASAH1', 'PPP2R2C', 'DPM2', 'CD55', 'TNIP1', 'GPHN',\n",
       "       'CDC42', 'CD200', 'RPL5', 'TFE3', 'CLU', 'NSD3', 'NTRK3', 'GRHPR',\n",
       "       'BBS1', 'B4GALT3', 'IFT88', 'SLC25A22', 'KIF1A', 'NQO1', 'PINK1',\n",
       "       'PRKCB', 'CRTC1', 'SET', 'ROGDI', 'SH2B1', 'CD46', 'ACADVL',\n",
       "       'PPP3CA', 'HIF1A', 'NDRG1', 'EIF4A2', 'LARP7', 'PSEN1', 'HPS1',\n",
       "       'CRELD1', 'PEG3', 'DKK3', 'GBA', 'NDUFA12', 'ATP2C1', 'RPL35A',\n",
       "       'ANKS1B', 'PDE4B', 'CHD3', 'SULT4A1', 'EWSR1', 'NRXN1', 'DGCR6',\n",
       "       'CADM1', 'OPCML', 'DPP6', 'BRWD1', 'BSG', 'PCLO', 'NF2', 'ERLIN2',\n",
       "       'HBB', 'WASF3', 'GABRA5', 'NPAS2', 'SLC44A2', 'ZFP36L1', 'FGFR2',\n",
       "       'DNAJB2', 'PPP2R2B', 'SNCA', 'AGTPBP1', 'EZR', 'RAD51C', 'DXO',\n",
       "       'EBAG9', 'ELAC2', 'PARK7', 'DTNBP1', 'USP9Y', 'ABHD12', 'DOCK9',\n",
       "       'SRSF3', 'PRMT7', 'NUDT1', 'USP1', 'MEF2C', 'IDS', 'B4GALNT1',\n",
       "       'DNM1', 'DPM3', 'SYNE1', 'FHIT', 'CTNNA2', 'AFDN', 'GAD1', 'MCPH1',\n",
       "       'RPS10', 'RPL10', 'USP7', 'TBC1D23', 'HSPD1', 'BCAP31', 'PRICKLE1',\n",
       "       'RNF6', 'SNRPN', 'DDIT3', 'APP', 'ABI1', 'PSAT1', 'RPL36', 'CLCN3',\n",
       "       'CNTN1', 'RGS7', 'B2M', 'CTNNB1', 'LDHB', 'CD59', 'NRCAM', 'NUMA1',\n",
       "       'ATP2B2', 'TBL1XR1', 'CREB1', 'HSP90AB1', 'PLTP', 'DPAGT1', 'ATG7',\n",
       "       'HNRNPA2B1', 'SND1', 'AK2', 'VPS13A', 'SLC25A46', 'PPIA', 'GABBR1',\n",
       "       'AKAP9', 'PICALM', 'GPI', 'GABRA2', 'GABRG2', 'ATN1', 'FDPS',\n",
       "       'NACA', 'CHD4', 'PEX2', 'DCTD', 'GM2A', 'SFPQ', 'NFE2L1', 'SRSF2',\n",
       "       'ATL1', 'GSTK1', 'NFIX', 'PRKAR1A', 'ZBTB18', 'CPLX2', 'PCNT',\n",
       "       'DYNC1H1', 'SQSTM1', 'RPS24', 'SOX10', 'OPA1', 'ATP1A2', 'MOCS2',\n",
       "       'KIF21A', 'CNTNAP2', 'DCTN1', 'ACTN2', 'SNRPE', 'PCMT1', 'ATP1B1',\n",
       "       'TMCO1', 'NDUFS2', 'USF1', 'PEX19', 'LAMTOR2', 'ADAR', 'OAT',\n",
       "       'HTRA1', 'VPS45', 'PHGDH', 'GSTO1', 'BTRC', 'LMO4', 'FHL1', 'LGI1',\n",
       "       'SCP2', 'SURF1', 'RALGDS', 'MRPS16', 'CCND3', 'STXBP1', 'COX7B',\n",
       "       'GIGYF2', 'GSN', 'RPL11', 'C1QC', 'LAS1L', 'BRD2', 'PSMB8',\n",
       "       'ACBD5', 'DDX39B', 'HLA-C', 'FLOT1', 'HLA-A', 'SLITRK1', 'SPRY2',\n",
       "       'TRIM27', 'EDNRB', 'NDUFAF5', 'APRT', 'ATP6AP2', 'UQCRQ', 'SAT1',\n",
       "       'E2F4', 'PRNP', 'FRY', 'SERPINB6', 'PSIP1', 'IDH3B', 'FKBP1A',\n",
       "       'TUSC3', 'DNAJC19', 'AQP4', 'SUMO1', 'PDCD10', 'SLC35G2', 'RPL24',\n",
       "       'CHD2', 'MATR3', 'PSAP', 'ALDOA', 'ZNF365', 'GNE', 'NFE2L2',\n",
       "       'CHMP1A', 'MEG3', 'GSTP1', 'DDX3X', 'DSCAM', 'HSF1', 'SAR1B', 'TF',\n",
       "       'FAM131B', 'EPHB6', 'ACTB', 'HSD17B4', 'GDI1', 'SGCE', 'MMAB',\n",
       "       'PLP1', 'CNBP', 'SYN2', 'TREX1', 'LSM14A', 'ATP1A3', 'PET100',\n",
       "       'GRIA3', 'MALAT1', 'DDX6', 'CYFIP1', 'ACTG1', 'RPL26', 'PRKCSH',\n",
       "       'APOC1'], dtype=object)"
      ]
     },
     "execution_count": 68,
     "metadata": {},
     "output_type": "execute_result"
    }
   ],
   "source": [
    "## Display their names\n",
    "medically_relevant_counts_multiple_iso[\"gene_name\"].unique()"
   ]
  },
  {
   "cell_type": "code",
   "execution_count": 69,
   "metadata": {},
   "outputs": [
    {
     "data": {
      "text/plain": [
       "SNCA     4\n",
       "APP      4\n",
       "MAPT     3\n",
       "PINK1    2\n",
       "PARK7    2\n",
       "Name: gene_name, dtype: int64"
      ]
     },
     "execution_count": 69,
     "metadata": {},
     "output_type": "execute_result"
    }
   ],
   "source": [
    "## Display number of isoforms for key genes I am interested in\n",
    "medically_relevant_counts_multiple_iso.loc[medically_relevant_counts_multiple_iso[\"gene_name\"].isin([\"MAPT\", \"APP\", \"SNCA\", \"PARK7\", \"PINK1\"])][\"gene_name\"].value_counts()"
   ]
  },
  {
   "cell_type": "code",
   "execution_count": 70,
   "metadata": {},
   "outputs": [
    {
     "data": {
      "text/plain": [
       "CTSB     6\n",
       "APP      4\n",
       "BIN1     3\n",
       "TNIP1    3\n",
       "CLU      3\n",
       "ANK3     2\n",
       "COX7C    2\n",
       "JAZF1    2\n",
       "Name: gene_name, dtype: int64"
      ]
     },
     "execution_count": 70,
     "metadata": {},
     "output_type": "execute_result"
    }
   ],
   "source": [
    "## Display number of isoforms for key genes I am interested in\n",
    "medically_relevant_counts_multiple_iso.loc[medically_relevant_counts_multiple_iso[\"gene_id\"].isin(ad_names[\"gene_id\"])][\"gene_name\"].value_counts()"
   ]
  },
  {
   "cell_type": "code",
   "execution_count": 71,
   "metadata": {},
   "outputs": [
    {
     "data": {
      "text/plain": [
       "SNRPN         7\n",
       "ANK2          7\n",
       "GNAS          7\n",
       "DTNA          7\n",
       "CTSB          6\n",
       "ACTB          6\n",
       "CRYAB         6\n",
       "HNRNPK        5\n",
       "BSCL2         5\n",
       "HNRNPA2B1     5\n",
       "FDPS          5\n",
       "SPTAN1        5\n",
       "RPS24         5\n",
       "PDE4DIP       5\n",
       "SLC25A3       5\n",
       "UQCRQ         5\n",
       "CHN1          5\n",
       "MFF           5\n",
       "COX4I1        5\n",
       "ALDOA         5\n",
       "NTRK2         4\n",
       "ERCC1         4\n",
       "MAX           4\n",
       "SYNE1         4\n",
       "SNCA          4\n",
       "SOD2          4\n",
       "EIF4A2        4\n",
       "DST           4\n",
       "EEF1B2        4\n",
       "PPP3CA        4\n",
       "GRHPR         4\n",
       "MFN2          4\n",
       "BANF1         4\n",
       "GLUL          4\n",
       "QKI           4\n",
       "RPL38         4\n",
       "HDLBP         4\n",
       "KCNAB2        4\n",
       "ADD1          4\n",
       "CAMTA1        4\n",
       "SMARCA2       4\n",
       "TUBA1A        4\n",
       "SPTBN1        4\n",
       "CALM3         4\n",
       "KIF5A         4\n",
       "NEFM          4\n",
       "CALM2         4\n",
       "FTH1          4\n",
       "APP           4\n",
       "BCAN          4\n",
       "KLC1          4\n",
       "HLA-A         4\n",
       "MATR3         4\n",
       "DNAJC19       4\n",
       "DCTN1         4\n",
       "NACA          4\n",
       "PSIP1         4\n",
       "PKM           4\n",
       "CNBP          4\n",
       "CCND3         4\n",
       "STXBP1        4\n",
       "CTNNB1        4\n",
       "DGUOK         4\n",
       "DDX39B        3\n",
       "ACP1          3\n",
       "BRD2          3\n",
       "CUX1          3\n",
       "ACBD5         3\n",
       "NDUFB9        3\n",
       "SCN2A         3\n",
       "SERPINB6      3\n",
       "UCHL1         3\n",
       "SAT1          3\n",
       "QDPR          3\n",
       "SOD1          3\n",
       "HNRNPU        3\n",
       "TPM3          3\n",
       "HNRNPH3       3\n",
       "CLTC          3\n",
       "PPP1CB        3\n",
       "OMG           3\n",
       "HSPB1         3\n",
       "EMC4          3\n",
       "RPL26         3\n",
       "GFAP          3\n",
       "ACTG1         3\n",
       "BIN1          3\n",
       "PREPL         3\n",
       "MAPT          3\n",
       "TYROBP        3\n",
       "PAFAH1B3      3\n",
       "ATP1A3        3\n",
       "THRA          3\n",
       "GDI1          3\n",
       "DDX3X         3\n",
       "MGLL          3\n",
       "SLC1A3        3\n",
       "RHOA          3\n",
       "MEG3          3\n",
       "RPL11         3\n",
       "ABI1          3\n",
       "NPM1          3\n",
       "ILK           3\n",
       "UROD          3\n",
       "PPIA          3\n",
       "CRELD1        3\n",
       "RPL35A        3\n",
       "ATP2B2        3\n",
       "DGCR6         3\n",
       "CADM1         3\n",
       "BRWD1         3\n",
       "SLC44A2       3\n",
       "PPP2R2B       3\n",
       "NUMA1         3\n",
       "ABHD12        3\n",
       "DOCK9         3\n",
       "SRSF3         3\n",
       "PRMT7         3\n",
       "NRCAM         3\n",
       "RPL10         3\n",
       "BCAP31        3\n",
       "CD59          3\n",
       "PEX2          3\n",
       "NDRG1         3\n",
       "NFE2L1        3\n",
       "MAPK10        3\n",
       "CNTN1         3\n",
       "PRRT2         3\n",
       "GSN           3\n",
       "DLG4          3\n",
       "NFU1          3\n",
       "FIP1L1        3\n",
       "EEF1A1        3\n",
       "ATP5MD        3\n",
       "LGI1          3\n",
       "ROGDI         3\n",
       "FHL1          3\n",
       "GSTO1         3\n",
       "PCMT1         3\n",
       "RPS14         3\n",
       "MOCS2         3\n",
       "TNIP1         3\n",
       "CLU           3\n",
       "GSTK1         3\n",
       "COQ4          3\n",
       "APOC1         3\n",
       "KMT2C         3\n",
       "SYNPO         3\n",
       "TFG           3\n",
       "FKBP8         3\n",
       "PON2          3\n",
       "NDUFV3        3\n",
       "MEF2A         3\n",
       "ABR           3\n",
       "SPP1          3\n",
       "SGK1          3\n",
       "TRIM37        3\n",
       "CD74          3\n",
       "RANGRF        3\n",
       "C12orf57      3\n",
       "MAP2K4        3\n",
       "MT-TQ         3\n",
       "SF3B1         3\n",
       "LAMP2         3\n",
       "SNX3          3\n",
       "KTN1          3\n",
       "BBS2          3\n",
       "PQBP1         3\n",
       "SLC25A46      2\n",
       "CHD4          2\n",
       "CLCN3         2\n",
       "RPL36         2\n",
       "PSAT1         2\n",
       "FBXO11        2\n",
       "XPO1          2\n",
       "DDIT3         2\n",
       "SPRED2        2\n",
       "RNF6          2\n",
       "RGS7          2\n",
       "GOLGA3        2\n",
       "PRICKLE1      2\n",
       "ATF2          2\n",
       "DCTD          2\n",
       "HSPD1         2\n",
       "TBC1D23       2\n",
       "USP7          2\n",
       "GM2A          2\n",
       "RPS10         2\n",
       "MCPH1         2\n",
       "LPIN2         2\n",
       "B2M           2\n",
       "VPS13A        2\n",
       "NIN           2\n",
       "AK2           2\n",
       "SND1          2\n",
       "HSP90AA1      2\n",
       "GABBR1        2\n",
       "TCF12         2\n",
       "AKAP9         2\n",
       "ATG7          2\n",
       "DPAGT1        2\n",
       "PLTP          2\n",
       "PICALM        2\n",
       "HSP90AB1      2\n",
       "CREB1         2\n",
       "GPI           2\n",
       "GABRA2        2\n",
       "GABRG2        2\n",
       "PAFAH1B1      2\n",
       "LASP1         2\n",
       "ATN1          2\n",
       "LDHB          2\n",
       "TBL1XR1       2\n",
       "SIRPA         2\n",
       "GAD1          2\n",
       "EWSR1         2\n",
       "GABRA5        2\n",
       "WASF3         2\n",
       "HBB           2\n",
       "ERLIN2        2\n",
       "NF2           2\n",
       "PCLO          2\n",
       "BSG           2\n",
       "TRIO          2\n",
       "DPP6          2\n",
       "OPCML         2\n",
       "IL6ST         2\n",
       "NRXN1         2\n",
       "SULT4A1       2\n",
       "KIAA0232      2\n",
       "CHD3          2\n",
       "PDE4B         2\n",
       "ANKS1B        2\n",
       "TNS3          2\n",
       "ATP2C1        2\n",
       "NDUFA12       2\n",
       "GBA           2\n",
       "DKK3          2\n",
       "PEG3          2\n",
       "TRRAP         2\n",
       "HPS1          2\n",
       "PSEN1         2\n",
       "NPAS2         2\n",
       "ZFP36L1       2\n",
       "AFDN          2\n",
       "STK4          2\n",
       "CTNNA2        2\n",
       "FHIT          2\n",
       "MED13L        2\n",
       "DPM3          2\n",
       "DNM1          2\n",
       "B4GALNT1      2\n",
       "IDS           2\n",
       "MEF2C         2\n",
       "USP1          2\n",
       "NUDT1         2\n",
       "RIN2          2\n",
       "TGM2          2\n",
       "DYRK1A        2\n",
       "FGFR2         2\n",
       "USP9Y         2\n",
       "DTNBP1        2\n",
       "PARK7         2\n",
       "ELAC2         2\n",
       "EBAG9         2\n",
       "DXO           2\n",
       "RAD51C        2\n",
       "EZR           2\n",
       "AGTPBP1       2\n",
       "SREBF2        2\n",
       "MYLK          2\n",
       "DNAJB2        2\n",
       "SFPQ          2\n",
       "RALY          2\n",
       "SRSF2         2\n",
       "EDNRB         2\n",
       "CHMP1A        2\n",
       "NFE2L2        2\n",
       "GNE           2\n",
       "ZNF365        2\n",
       "ALDH1A1       2\n",
       "PSAP          2\n",
       "ALAD          2\n",
       "CHD2          2\n",
       "RPL24         2\n",
       "SLC35G2       2\n",
       "PDCD10        2\n",
       "SUMO1         2\n",
       "AQP4          2\n",
       "USP8          2\n",
       "TUSC3         2\n",
       "FKBP1A        2\n",
       "IDH3B         2\n",
       "SNAPC5        2\n",
       "SULT1A1       2\n",
       "FRY           2\n",
       "PRNP          2\n",
       "E2F4          2\n",
       "ZNF429        2\n",
       "ATP6AP2       2\n",
       "APRT          2\n",
       "POLB          2\n",
       "GSTP1         2\n",
       "KMT2E         2\n",
       "SYN2          2\n",
       "PRKCSH        2\n",
       "ALG3          2\n",
       "NDUFAF2       2\n",
       "CYFIP1        2\n",
       "DDX6          2\n",
       "MALAT1        2\n",
       "GRIA3         2\n",
       "PET100        2\n",
       "CAST          2\n",
       "LSM14A        2\n",
       "TREX1         2\n",
       "PCDHA10       2\n",
       "DSCAM         2\n",
       "PLP1          2\n",
       "MMAB          2\n",
       "SGCE          2\n",
       "HLA-DPB1      2\n",
       "HSD17B4       2\n",
       "GTF2H5        2\n",
       "EPHB6         2\n",
       "FAM131B       2\n",
       "TF            2\n",
       "SAR1B         2\n",
       "HSF1          2\n",
       "NDUFAF5       2\n",
       "TRIM27        2\n",
       "ATL1          2\n",
       "SPRY2         2\n",
       "LAMTOR2       2\n",
       "PEX19         2\n",
       "USF1          2\n",
       "NDUFS2        2\n",
       "TMCO1         2\n",
       "ATP1B1        2\n",
       "CPT1A         2\n",
       "SNRPE         2\n",
       "ACTN2         2\n",
       "SLC11A2       2\n",
       "CNTNAP2       2\n",
       "KIF21A        2\n",
       "ZDHHC17       2\n",
       "ATP1A2        2\n",
       "OPA1          2\n",
       "SOX10         2\n",
       "UBE3B         2\n",
       "SQSTM1        2\n",
       "DYNC1H1       2\n",
       "PCNT          2\n",
       "LARP7         2\n",
       "ZBTB18        2\n",
       "PRKAR1A       2\n",
       "NFIX          2\n",
       "ATP2A2        2\n",
       "ADAR          2\n",
       "OAT           2\n",
       "HTRA1         2\n",
       "COX7B         2\n",
       "SLITRK1       2\n",
       "PSENEN        2\n",
       "FLOT1         2\n",
       "HLA-C         2\n",
       "U2AF1         2\n",
       "PSMB8         2\n",
       "SMS           2\n",
       "LAS1L         2\n",
       "C1QC          2\n",
       "MAOB          2\n",
       "GIGYF2        2\n",
       "IVD           2\n",
       "VPS45         2\n",
       "TGFBR3        2\n",
       "MRPS16        2\n",
       "RALGDS        2\n",
       "SURF1         2\n",
       "SCP2          2\n",
       "ATP2B4        2\n",
       "ANK3          2\n",
       "LMO4          2\n",
       "BTRC          2\n",
       "SHTN1         2\n",
       "PHGDH         2\n",
       "CPLX2         2\n",
       "SH2B1         2\n",
       "SETX          2\n",
       "WWC1          2\n",
       "NICN1         2\n",
       "KAT2A         2\n",
       "UNC80         2\n",
       "RPS27A        2\n",
       "WFS1          2\n",
       "CTSC          2\n",
       "PPFIBP1       2\n",
       "SH3GL1        2\n",
       "DYM           2\n",
       "G6PC3         2\n",
       "NCOR1         2\n",
       "SPG7          2\n",
       "ABAT          2\n",
       "TPM1          2\n",
       "DIABLO        2\n",
       "SLCO1C1       2\n",
       "FBXO7         2\n",
       "GNAI2         2\n",
       "TCTN3         2\n",
       "NSMF          2\n",
       "CRBN          2\n",
       "AHI1          2\n",
       "BCL6          2\n",
       "LARS2         2\n",
       "MGST2         2\n",
       "ARHGAP26      2\n",
       "NHP2          2\n",
       "DDX5          2\n",
       "TIA1          2\n",
       "OBSL1         2\n",
       "NCOA1         2\n",
       "UQCRB         2\n",
       "ADK           2\n",
       "FMR1          2\n",
       "ERCC3         2\n",
       "MSI2          2\n",
       "JAZF1         2\n",
       "PNPLA6        2\n",
       "FCGRT         2\n",
       "LIPA          2\n",
       "GPD1L         2\n",
       "NLGN4X        2\n",
       "NADK2         2\n",
       "PPM1B         2\n",
       "ACAD8         2\n",
       "USP15         2\n",
       "PTS           2\n",
       "ROM1          2\n",
       "SERPING1      2\n",
       "CIZ1          2\n",
       "CLIP2         2\n",
       "GOSR2         2\n",
       "NONO          2\n",
       "NRXN2         2\n",
       "MPV17         2\n",
       "STAG2         2\n",
       "FBXW11        2\n",
       "CSDE1         2\n",
       "MXI1          2\n",
       "ADCY3         2\n",
       "FXYD6         2\n",
       "KAT7          2\n",
       "TMEM231       2\n",
       "DYSF          2\n",
       "ACP2          2\n",
       "CHL1          2\n",
       "CHRM3         2\n",
       "SNAP25        2\n",
       "IMMT          2\n",
       "FUS           2\n",
       "MAPK8IP1      2\n",
       "PLCG1         2\n",
       "ARHGEF9       2\n",
       "NDUFA10       2\n",
       "ACTN4         2\n",
       "NDUFA2        2\n",
       "DAD1          2\n",
       "MBD4          2\n",
       "C3            2\n",
       "PNKD          2\n",
       "COX7C         2\n",
       "RTN2          2\n",
       "SREBF1        2\n",
       "ALDH2         2\n",
       "BCL7A         2\n",
       "ATP2B3        2\n",
       "RPS15         2\n",
       "MAP3K13       2\n",
       "SDHA          2\n",
       "GGCX          2\n",
       "SMARCE1       2\n",
       "HMGCL         2\n",
       "GLRB          2\n",
       "ATIC          2\n",
       "YWHAE         2\n",
       "ARID4B        2\n",
       "CD81          2\n",
       "DNAJC6        2\n",
       "PHF3          2\n",
       "BRD4          2\n",
       "MREG          2\n",
       "SLC27A5       2\n",
       "OPTN          2\n",
       "MAP2K2        2\n",
       "FASTKD2       2\n",
       "SEC23B        2\n",
       "GNAO1         2\n",
       "DNAJB6        2\n",
       "SMAD2         2\n",
       "MTUS1         2\n",
       "ARAF          2\n",
       "CSTB          2\n",
       "HIF1A         2\n",
       "NDUFA11       2\n",
       "OSBPL2        2\n",
       "NDUFS8        2\n",
       "MED25         2\n",
       "TMEM70        2\n",
       "HCFC1         2\n",
       "COMMD1        2\n",
       "AQP1          2\n",
       "MLC1          2\n",
       "GABRA1        2\n",
       "KRT17         2\n",
       "RB1CC1        2\n",
       "DCN           2\n",
       "KEAP1         2\n",
       "MRPS22        2\n",
       "JUP           2\n",
       "MRPL48        2\n",
       "GPD2          2\n",
       "NBEA          2\n",
       "CTSF          2\n",
       "LGI4          2\n",
       "SNCB          2\n",
       "ALDH3A2       2\n",
       "B4GALT2       2\n",
       "DLG3          2\n",
       "ETFB          2\n",
       "ASAH1         2\n",
       "PPP2R2C       2\n",
       "DPM2          2\n",
       "SLC25A22      2\n",
       "UBA1          2\n",
       "ACADVL        2\n",
       "CD46          2\n",
       "ELK1          2\n",
       "HUWE1         2\n",
       "SET           2\n",
       "CRTC1         2\n",
       "PRKCB         2\n",
       "PINK1         2\n",
       "NQO1          2\n",
       "KIF1A         2\n",
       "IFT88         2\n",
       "CD55          2\n",
       "B4GALT3       2\n",
       "BBS1          2\n",
       "PGK1          2\n",
       "NTRK3         2\n",
       "NSD3          2\n",
       "TFE3          2\n",
       "RPL5          2\n",
       "CD200         2\n",
       "CDC42         2\n",
       "GPHN          2\n",
       "OCRL          2\n",
       "ZHX3          2\n",
       "SEZ6L2        2\n",
       "TRAPPC10      2\n",
       "BCL2L1        2\n",
       "PCBD1         2\n",
       "LRRK2         2\n",
       "CFL2          2\n",
       "COX6C         2\n",
       "HSPA9         2\n",
       "PABPN1        2\n",
       "ACSL6         2\n",
       "NDUFS4        2\n",
       "ETNPPL        2\n",
       "ARHGAP5       2\n",
       "SNRK          2\n",
       "GYG1          2\n",
       "SYN1          2\n",
       "RSRC1         2\n",
       "SERPINI1      2\n",
       "RABGGTA       2\n",
       "ATP1A1        2\n",
       "EEF1A2        2\n",
       "BOLA3         2\n",
       "AZIN2         2\n",
       "NCKIPSD       2\n",
       "SYNGAP1       2\n",
       "WDR13         2\n",
       "ETHE1         2\n",
       "ST6GALNAC6    2\n",
       "SCN3B         2\n",
       "CDH8          2\n",
       "APEX1         2\n",
       "RFXANK        2\n",
       "MAP2          2\n",
       "COG8          2\n",
       "ST3GAL5       2\n",
       "GAP43         2\n",
       "MAP6          2\n",
       "HINT1         2\n",
       "REPS2         2\n",
       "CHCHD7        2\n",
       "EPB41L1       2\n",
       "SPG21         2\n",
       "BTD           2\n",
       "POLR1D        2\n",
       "STAT6         2\n",
       "TECR          2\n",
       "CTNNA1        2\n",
       "XBP1          2\n",
       "SDHAF2        2\n",
       "KHK           2\n",
       "TPM4          2\n",
       "VKORC1        2\n",
       "SYNGR1        2\n",
       "STIM1         2\n",
       "CRK           2\n",
       "CHGA          2\n",
       "UNC119        2\n",
       "Name: gene_name, dtype: int64"
      ]
     },
     "execution_count": 71,
     "metadata": {},
     "output_type": "execute_result"
    }
   ],
   "source": [
    "## Display number of isoforms for key genes for all\n",
    "medically_relevant_counts_multiple_iso[\"gene_name\"].value_counts()"
   ]
  },
  {
   "cell_type": "code",
   "execution_count": 72,
   "metadata": {},
   "outputs": [],
   "source": [
    "## How many highly expressed isoforms are there for each gene?\n",
    "df_numbers = medically_relevant_counts_multiple_iso[\"gene_name\"].value_counts()"
   ]
  },
  {
   "cell_type": "code",
   "execution_count": 73,
   "metadata": {},
   "outputs": [],
   "source": [
    "medically_relevant_counts_multiple_iso['Number of Isoforms'] = medically_relevant_counts_multiple_iso['gene_id'].copy().map(medically_relevant_counts_multiple_iso['gene_id'].value_counts())"
   ]
  },
  {
   "cell_type": "code",
   "execution_count": 74,
   "metadata": {},
   "outputs": [],
   "source": [
    "from matplotlib import rcParams\n",
    "\n",
    "# figure size in inches\n",
    "rcParams['figure.figsize'] = 12,8\n",
    "rcParams.update({'font.size': 28})\n",
    "rcParams['axes.linewidth'] = 6"
   ]
  },
  {
   "cell_type": "code",
   "execution_count": 75,
   "metadata": {},
   "outputs": [
    {
     "data": {
      "image/png": "[encoded data removed]",
      "text/plain": [
       "<Figure size 864x576 with 1 Axes>"
      ]
     },
     "metadata": {
      "needs_background": "light"
     },
     "output_type": "display_data"
    }
   ],
   "source": [
    "sns.countplot(x=\"Number of Isoforms\", data=medically_relevant_counts_multiple_iso, palette=\"nipy_spectral\")\n",
    "sns.despine()\n",
    "plt.ylabel(\"Number of Genes\")\n",
    "plt.savefig('../../figures/AAIC_figures/multiple_isoforms_in-person.png', dpi=300, transparent=True, bbox_inches=\"tight\")\n",
    "plt.show()"
   ]
  },
  {
   "cell_type": "code",
   "execution_count": 76,
   "metadata": {
    "scrolled": true
   },
   "outputs": [
    {
     "data": {
      "image/png": "[encoded data removed]",
      "text/plain": [
       "<Figure size 864x576 with 1 Axes>"
      ]
     },
     "metadata": {
      "needs_background": "light"
     },
     "output_type": "display_data"
    }
   ],
   "source": [
    "sns.countplot(x=\"Number of Isoforms\", data=medically_relevant_counts_multiple_iso, palette=\"nipy_spectral\")\n",
    "sns.despine()\n",
    "plt.ylabel(\"Number of Genes\")\n",
    "plt.savefig('../../figures/AAIC_figures/multiple_isoforms_online.png', dpi=92, transparent=True, bbox_inches=\"tight\")\n",
    "plt.show()"
   ]
  },
  {
   "cell_type": "code",
   "execution_count": 77,
   "metadata": {},
   "outputs": [],
   "source": [
    "exclusive_chm13 = pd.read_csv(\"../../data/novel_genes/CHM13_novel_genes_isoseq.csv\")"
   ]
  },
  {
   "cell_type": "code",
   "execution_count": 78,
   "metadata": {},
   "outputs": [
    {
     "data": {
      "text/html": [
       "<div>\n",
       "<style scoped>\n",
       "    .dataframe tbody tr th:only-of-type {\n",
       "        vertical-align: middle;\n",
       "    }\n",
       "\n",
       "    .dataframe tbody tr th {\n",
       "        vertical-align: top;\n",
       "    }\n",
       "\n",
       "    .dataframe thead th {\n",
       "        text-align: right;\n",
       "    }\n",
       "</style>\n",
       "<table border=\"1\" class=\"dataframe\">\n",
       "  <thead>\n",
       "    <tr style=\"text-align: right;\">\n",
       "      <th></th>\n",
       "      <th>GENEID</th>\n",
       "    </tr>\n",
       "  </thead>\n",
       "  <tbody>\n",
       "    <tr>\n",
       "      <th>0</th>\n",
       "      <td>CHM13_G0002360</td>\n",
       "    </tr>\n",
       "    <tr>\n",
       "      <th>1</th>\n",
       "      <td>CHM13_G0002906</td>\n",
       "    </tr>\n",
       "    <tr>\n",
       "      <th>2</th>\n",
       "      <td>CHM13_G0003812</td>\n",
       "    </tr>\n",
       "    <tr>\n",
       "      <th>3</th>\n",
       "      <td>CHM13_G0006285</td>\n",
       "    </tr>\n",
       "    <tr>\n",
       "      <th>4</th>\n",
       "      <td>CHM13_G0007830</td>\n",
       "    </tr>\n",
       "  </tbody>\n",
       "</table>\n",
       "</div>"
      ],
      "text/plain": [
       "           GENEID\n",
       "0  CHM13_G0002360\n",
       "1  CHM13_G0002906\n",
       "2  CHM13_G0003812\n",
       "3  CHM13_G0006285\n",
       "4  CHM13_G0007830"
      ]
     },
     "execution_count": 78,
     "metadata": {},
     "output_type": "execute_result"
    }
   ],
   "source": [
    "exclusive_chm13.head()"
   ]
  },
  {
   "cell_type": "code",
   "execution_count": 79,
   "metadata": {},
   "outputs": [],
   "source": [
    "exclusive_chm13_counts = chm13_counts.loc[chm13_counts[\"gene_id\"].isin(exclusive_chm13['GENEID'])]"
   ]
  },
  {
   "cell_type": "code",
   "execution_count": 80,
   "metadata": {},
   "outputs": [
    {
     "name": "stderr",
     "output_type": "stream",
     "text": [
      "C:\\Users\\bag22\\AppData\\Local\\Temp\\ipykernel_10380\\3043105235.py:1: SettingWithCopyWarning: \n",
      "A value is trying to be set on a copy of a slice from a DataFrame.\n",
      "Try using .loc[row_indexer,col_indexer] = value instead\n",
      "\n",
      "See the caveats in the documentation: https://pandas.pydata.org/pandas-docs/stable/user_guide/indexing.html#returning-a-view-versus-a-copy\n",
      "  exclusive_chm13_counts[\"GENEID\"] = exclusive_chm13_counts[\"gene_id\"]\n",
      "C:\\Users\\bag22\\AppData\\Local\\Temp\\ipykernel_10380\\3043105235.py:3: SettingWithCopyWarning: \n",
      "A value is trying to be set on a copy of a slice from a DataFrame\n",
      "\n",
      "See the caveats in the documentation: https://pandas.pydata.org/pandas-docs/stable/user_guide/indexing.html#returning-a-view-versus-a-copy\n",
      "  exclusive_chm13_counts.drop(columns=[\"is_novel_gene\", \"is_novel_transcript\", \"total_counts\", \"gene_id\"], inplace=True)\n",
      "C:\\Users\\bag22\\AppData\\Local\\Temp\\ipykernel_10380\\3043105235.py:5: SettingWithCopyWarning: \n",
      "A value is trying to be set on a copy of a slice from a DataFrame.\n",
      "Try using .loc[row_indexer,col_indexer] = value instead\n",
      "\n",
      "See the caveats in the documentation: https://pandas.pydata.org/pandas-docs/stable/user_guide/indexing.html#returning-a-view-versus-a-copy\n",
      "  exclusive_chm13_counts[\"Label\"] = \"T2T New Genes\"\n"
     ]
    }
   ],
   "source": [
    "exclusive_chm13_counts[\"GENEID\"] = exclusive_chm13_counts[\"gene_id\"]\n",
    "\n",
    "exclusive_chm13_counts.drop(columns=[\"is_novel_gene\", \"is_novel_transcript\", \"total_counts\", \"gene_id\"], inplace=True)\n",
    "\n",
    "exclusive_chm13_counts[\"Label\"] = \"T2T New Genes\"\n"
   ]
  },
  {
   "cell_type": "code",
   "execution_count": 81,
   "metadata": {},
   "outputs": [],
   "source": [
    "chm13_novel_genes.drop(columns=[\"is_novel_transcript\", \"is_novel_gene\"], inplace=True)\n",
    "\n",
    "chm13_novel_genes[\"Label\"] = \"\""
   ]
  },
  {
   "cell_type": "code",
   "execution_count": 82,
   "metadata": {},
   "outputs": [],
   "source": [
    "exclusive_chm13_counts = exclusive_chm13_counts[['TXNAME', 'GENEID', 'sample_PAM54788', 'sample_PAM54335', 'sample_PAM54401',\n",
    "       'sample_PAM54902', 'Label']]"
   ]
  },
  {
   "cell_type": "code",
   "execution_count": 83,
   "metadata": {},
   "outputs": [],
   "source": [
    "all_novel_genes = pd.concat([chm13_novel_genes, exclusive_chm13_counts])"
   ]
  },
  {
   "cell_type": "code",
   "execution_count": 84,
   "metadata": {},
   "outputs": [],
   "source": [
    "all_novel_genes = all_novel_genes[(all_novel_genes[count_cols]>10).sum(axis=1)>=4]"
   ]
  },
  {
   "cell_type": "code",
   "execution_count": 85,
   "metadata": {},
   "outputs": [
    {
     "data": {
      "text/plain": [
       "(96, 7)"
      ]
     },
     "execution_count": 85,
     "metadata": {},
     "output_type": "execute_result"
    }
   ],
   "source": [
    "all_novel_genes.shape"
   ]
  },
  {
   "cell_type": "code",
   "execution_count": 86,
   "metadata": {},
   "outputs": [],
   "source": [
    "from matplotlib import rcParams\n",
    "\n",
    "# figure size in inches\n",
    "rcParams['figure.figsize'] = 8,12\n",
    "rcParams.update({'font.size': 28})\n",
    "rcParams['axes.linewidth'] = 6"
   ]
  },
  {
   "cell_type": "code",
   "execution_count": 87,
   "metadata": {},
   "outputs": [
    {
     "data": {
      "image/png": "[encoded data removed]",
      "text/plain": [
       "<Figure size 576x864 with 1 Axes>"
      ]
     },
     "metadata": {
      "needs_background": "light"
     },
     "output_type": "display_data"
    }
   ],
   "source": [
    "fig, ax1 = plt.subplots()\n",
    "ax1.yaxis.set_ticks_position(\"right\")\n",
    "ax1.yaxis.tick_right()\n",
    "ax1.yaxis.set_label_position(\"right\")\n",
    "\n",
    "sns.countplot(x=\"Label\", data=all_novel_genes, palette=\"nipy_spectral\", ax=ax1)\n",
    "\n",
    "plt.ylabel(\"Number of Genes\", rotation=270, labelpad=40)\n",
    "plt.xlabel(\"Label\", labelpad=4)\n",
    "sns.despine(right=False, left=True, top=True, bottom=False)\n",
    "\n",
    "plt.savefig('../../figures/AAIC_figures/novel_genes_in-person.png', dpi=300, transparent=True, bbox_inches=\"tight\")\n",
    "plt.show()"
   ]
  },
  {
   "cell_type": "code",
   "execution_count": 88,
   "metadata": {},
   "outputs": [
    {
     "data": {
      "image/png": "[encoded data removed]",
      "text/plain": [
       "<Figure size 576x864 with 1 Axes>"
      ]
     },
     "metadata": {
      "needs_background": "light"
     },
     "output_type": "display_data"
    }
   ],
   "source": [
    "fig, ax1 = plt.subplots()\n",
    "ax1.yaxis.set_ticks_position(\"right\")\n",
    "ax1.yaxis.tick_right()\n",
    "ax1.yaxis.set_label_position(\"right\")\n",
    "\n",
    "sns.countplot(x=\"Label\", data=all_novel_genes, palette=\"nipy_spectral\", ax=ax1)\n",
    "\n",
    "plt.ylabel(\"Number of Genes\", rotation=270, labelpad=40)\n",
    "plt.xlabel(\"Label\", labelpad=4)\n",
    "sns.despine(right=False, left=True, top=True, bottom=False)\n",
    "\n",
    "plt.savefig('../../figures/AAIC_figures/novel_genes_online.png', dpi=92, transparent=True, bbox_inches=\"tight\")\n",
    "plt.show()"
   ]
  }
 ],
 "metadata": {
  "kernelspec": {
   "display_name": "Python 3 (ipykernel)",
   "language": "python",
   "name": "python3"
  },
  "language_info": {
   "codemirror_mode": {
    "name": "ipython",
    "version": 3
   },
   "file_extension": ".py",
   "mimetype": "text/x-python",
   "name": "python",
   "nbconvert_exporter": "python",
   "pygments_lexer": "ipython3",
   "version": "3.10.6"
  }
 },
 "nbformat": 4,
 "nbformat_minor": 4
}
